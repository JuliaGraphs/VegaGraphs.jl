{
 "cells": [
  {
   "cell_type": "code",
   "execution_count": 1,
   "metadata": {},
   "outputs": [
    {
     "name": "stderr",
     "output_type": "stream",
     "text": [
      "\u001b[32m\u001b[1m Activating\u001b[22m\u001b[39m environment at `~/MEGAsync/EMAp/QuickVega.jl/Project.toml`\n",
      "┌ Info: Precompiling QuickVega [8cbdc466-600a-49fa-b107-91fd9d936351]\n",
      "└ @ Base loading.jl:1278\n",
      "┌ Warning: Package QuickVega does not have DataFrames in its dependencies:\n",
      "│ - If you have QuickVega checked out for development and have\n",
      "│   added DataFrames as a dependency but haven't updated your primary\n",
      "│   environment's manifest file, try `Pkg.resolve()`.\n",
      "│ - Otherwise you may need to report an issue with QuickVega\n",
      "└ Loading DataFrames into QuickVega from project dependency, future warnings for QuickVega are suppressed.\n"
     ]
    }
   ],
   "source": [
    "using Revise, Pkg\n",
    "Pkg.activate(\"../.\")\n",
    "using QuickVega, DataFrames, VegaLite, VegaDatasets\n",
    "using Distributions, KernelDensity\n",
    "using Contour\n",
    "using Setfield\n",
    "using LightGraphs, GraphPlot, SimpleWeightedGraphs, LinearAlgebra, DataFrames, Random, Colors"
   ]
  },
  {
   "cell_type": "code",
   "execution_count": 2,
   "metadata": {},
   "outputs": [],
   "source": [
    "Random.seed!(7)\n",
    "df = DataFrame(rand([0,1],10,20));"
   ]
  },
  {
   "cell_type": "code",
   "execution_count": 85,
   "metadata": {},
   "outputs": [
    {
     "data": {
      "text/plain": [
       "get_edges (generic function with 1 method)"
      ]
     },
     "execution_count": 85,
     "metadata": {},
     "output_type": "execute_result"
    }
   ],
   "source": [
    "function gen_graph(df)\n",
    "    g = SimpleWeightedGraph(ncol(df))\n",
    "    ew = Int[]\n",
    "    pairings = [] \n",
    "    for i in 1:ncol(df), j in i+1:ncol(df) # iterate over all combinations of columns\n",
    "        w = dot(df[!, i], df[!, j])        # calculate how many times (i,j) occurs\n",
    "        if w > 0\n",
    "            push!(ew, w)\n",
    "            add_edge!(g, i, j, w)\n",
    "            push!(pairings,[i,j])\n",
    "        end\n",
    "    end\n",
    "#     gplot(g,nodelabel=names(df),edgelinewidth=ew)\n",
    "#     gplot(g)\n",
    "    return (g,ew)\n",
    "end\n",
    "\n",
    "function get_edges(g,node_x,node_y)\n",
    "    edges_p1 = []\n",
    "    edges_p2 = []\n",
    "    edges_w  = Float64[]\n",
    "    for i in edges(g)\n",
    "        push!(edges_p1, i.src)\n",
    "        push!(edges_p1, i.src)\n",
    "        push!(edges_p2, i.dst)\n",
    "        push!(edges_p2, i.dst)\n",
    "        push!(edges_w, i.weight)\n",
    "        push!(edges_w, i.weight)\n",
    "    end\n",
    "    \n",
    "    edges_node  = Int[]\n",
    "    edges_pairs = []\n",
    "    for i in 1:size(edges_p1)[1]\n",
    "        if i % 2 == 0\n",
    "            push!(edges_node,edges_p2[i])\n",
    "        else\n",
    "            push!(edges_node,edges_p1[i])\n",
    "        end\n",
    "        push!(edges_pairs,[edges_p1[i],edges_p2[i]])\n",
    "    end \n",
    "    graph_edges = DataFrame(edges_x = node_x[edges_node], edges_y = node_y[edges_node],\n",
    "                       pairs = edges_pairs, ew = edges_w, node = edges_node) \n",
    "    return graph_edges\n",
    "end"
   ]
  },
  {
   "cell_type": "code",
   "execution_count": 86,
   "metadata": {},
   "outputs": [],
   "source": [
    "g,ew = gen_graph(df)\n",
    "node_x, node_y = GraphPlot.spring_layout(g);\n",
    "graph_edges = get_edges(g,node_x,node_y);\n",
    "graph_edges[:ew] = graph_edges[:ew]/10;\n",
    "graph_nodes = DataFrame(keywords = names(df),node_x=node_x, node_y=node_y,centrality=betweenness_centrality(g));"
   ]
  },
  {
   "cell_type": "code",
   "execution_count": 87,
   "metadata": {},
   "outputs": [
    {
     "data": {
      "application/vnd.vegalite.v4+json": {
       "layer": [
        {
         "data": {
          "values": [
           {
            "edges_x": 0.029535108089014273,
            "edges_y": -0.30481787543229133,
            "ew": 0.2,
            "node": 1,
            "pairs": [
             1,
             2
            ]
           },
           {
            "edges_x": 0.42908003604201106,
            "edges_y": 0.8207304747211934,
            "ew": 0.2,
            "node": 2,
            "pairs": [
             1,
             2
            ]
           },
           {
            "edges_x": 0.029535108089014273,
            "edges_y": -0.30481787543229133,
            "ew": 0.3,
            "node": 1,
            "pairs": [
             1,
             3
            ]
           },
           {
            "edges_x": 1,
            "edges_y": -0.0034040002942942182,
            "ew": 0.3,
            "node": 3,
            "pairs": [
             1,
             3
            ]
           },
           {
            "edges_x": 0.42908003604201106,
            "edges_y": 0.8207304747211934,
            "ew": 0.3,
            "node": 2,
            "pairs": [
             2,
             3
            ]
           },
           {
            "edges_x": 1,
            "edges_y": -0.0034040002942942182,
            "ew": 0.3,
            "node": 3,
            "pairs": [
             2,
             3
            ]
           },
           {
            "edges_x": 0.029535108089014273,
            "edges_y": -0.30481787543229133,
            "ew": 0.1,
            "node": 1,
            "pairs": [
             1,
             4
            ]
           },
           {
            "edges_x": 0.09482901550099498,
            "edges_y": 1,
            "ew": 0.1,
            "node": 4,
            "pairs": [
             1,
             4
            ]
           },
           {
            "edges_x": 0.42908003604201106,
            "edges_y": 0.8207304747211934,
            "ew": 0.1,
            "node": 2,
            "pairs": [
             2,
             4
            ]
           },
           {
            "edges_x": 0.09482901550099498,
            "edges_y": 1,
            "ew": 0.1,
            "node": 4,
            "pairs": [
             2,
             4
            ]
           },
           {
            "edges_x": 1,
            "edges_y": -0.0034040002942942182,
            "ew": 0.1,
            "node": 3,
            "pairs": [
             3,
             4
            ]
           },
           {
            "edges_x": 0.09482901550099498,
            "edges_y": 1,
            "ew": 0.1,
            "node": 4,
            "pairs": [
             3,
             4
            ]
           },
           {
            "edges_x": 0.029535108089014273,
            "edges_y": -0.30481787543229133,
            "ew": 0.4,
            "node": 1,
            "pairs": [
             1,
             5
            ]
           },
           {
            "edges_x": 0.2522728025686103,
            "edges_y": 0.3916408975403993,
            "ew": 0.4,
            "node": 5,
            "pairs": [
             1,
             5
            ]
           },
           {
            "edges_x": 0.42908003604201106,
            "edges_y": 0.8207304747211934,
            "ew": 0.2,
            "node": 2,
            "pairs": [
             2,
             5
            ]
           },
           {
            "edges_x": 0.2522728025686103,
            "edges_y": 0.3916408975403993,
            "ew": 0.2,
            "node": 5,
            "pairs": [
             2,
             5
            ]
           },
           {
            "edges_x": 1,
            "edges_y": -0.0034040002942942182,
            "ew": 0.1,
            "node": 3,
            "pairs": [
             3,
             5
            ]
           },
           {
            "edges_x": 0.2522728025686103,
            "edges_y": 0.3916408975403993,
            "ew": 0.1,
            "node": 5,
            "pairs": [
             3,
             5
            ]
           },
           {
            "edges_x": 0.09482901550099498,
            "edges_y": 1,
            "ew": 0.1,
            "node": 4,
            "pairs": [
             4,
             5
            ]
           },
           {
            "edges_x": 0.2522728025686103,
            "edges_y": 0.3916408975403993,
            "ew": 0.1,
            "node": 5,
            "pairs": [
             4,
             5
            ]
           },
           {
            "edges_x": 0.029535108089014273,
            "edges_y": -0.30481787543229133,
            "ew": 0.5,
            "node": 1,
            "pairs": [
             1,
             6
            ]
           },
           {
            "edges_x": -0.1980823412972802,
            "edges_y": 0.7999934324827951,
            "ew": 0.5,
            "node": 6,
            "pairs": [
             1,
             6
            ]
           },
           {
            "edges_x": 0.42908003604201106,
            "edges_y": 0.8207304747211934,
            "ew": 0.4,
            "node": 2,
            "pairs": [
             2,
             6
            ]
           },
           {
            "edges_x": -0.1980823412972802,
            "edges_y": 0.7999934324827951,
            "ew": 0.4,
            "node": 6,
            "pairs": [
             2,
             6
            ]
           },
           {
            "edges_x": 1,
            "edges_y": -0.0034040002942942182,
            "ew": 0.3,
            "node": 3,
            "pairs": [
             3,
             6
            ]
           },
           {
            "edges_x": -0.1980823412972802,
            "edges_y": 0.7999934324827951,
            "ew": 0.3,
            "node": 6,
            "pairs": [
             3,
             6
            ]
           },
           {
            "edges_x": 0.09482901550099498,
            "edges_y": 1,
            "ew": 0.2,
            "node": 4,
            "pairs": [
             4,
             6
            ]
           },
           {
            "edges_x": -0.1980823412972802,
            "edges_y": 0.7999934324827951,
            "ew": 0.2,
            "node": 6,
            "pairs": [
             4,
             6
            ]
           },
           {
            "edges_x": 0.2522728025686103,
            "edges_y": 0.3916408975403993,
            "ew": 0.4,
            "node": 5,
            "pairs": [
             5,
             6
            ]
           },
           {
            "edges_x": -0.1980823412972802,
            "edges_y": 0.7999934324827951,
            "ew": 0.4,
            "node": 6,
            "pairs": [
             5,
             6
            ]
           },
           {
            "edges_x": 0.029535108089014273,
            "edges_y": -0.30481787543229133,
            "ew": 0.1,
            "node": 1,
            "pairs": [
             1,
             7
            ]
           },
           {
            "edges_x": -1,
            "edges_y": 0.29518146300863446,
            "ew": 0.1,
            "node": 7,
            "pairs": [
             1,
             7
            ]
           },
           {
            "edges_x": 0.42908003604201106,
            "edges_y": 0.8207304747211934,
            "ew": 0.1,
            "node": 2,
            "pairs": [
             2,
             7
            ]
           },
           {
            "edges_x": -1,
            "edges_y": 0.29518146300863446,
            "ew": 0.1,
            "node": 7,
            "pairs": [
             2,
             7
            ]
           },
           {
            "edges_x": 0.09482901550099498,
            "edges_y": 1,
            "ew": 0.2,
            "node": 4,
            "pairs": [
             4,
             7
            ]
           },
           {
            "edges_x": -1,
            "edges_y": 0.29518146300863446,
            "ew": 0.2,
            "node": 7,
            "pairs": [
             4,
             7
            ]
           },
           {
            "edges_x": 0.2522728025686103,
            "edges_y": 0.3916408975403993,
            "ew": 0.2,
            "node": 5,
            "pairs": [
             5,
             7
            ]
           },
           {
            "edges_x": -1,
            "edges_y": 0.29518146300863446,
            "ew": 0.2,
            "node": 7,
            "pairs": [
             5,
             7
            ]
           },
           {
            "edges_x": -0.1980823412972802,
            "edges_y": 0.7999934324827951,
            "ew": 0.2,
            "node": 6,
            "pairs": [
             6,
             7
            ]
           },
           {
            "edges_x": -1,
            "edges_y": 0.29518146300863446,
            "ew": 0.2,
            "node": 7,
            "pairs": [
             6,
             7
            ]
           },
           {
            "edges_x": 0.029535108089014273,
            "edges_y": -0.30481787543229133,
            "ew": 0.4,
            "node": 1,
            "pairs": [
             1,
             8
            ]
           },
           {
            "edges_x": -0.44858591277849846,
            "edges_y": 0.6039527961373052,
            "ew": 0.4,
            "node": 8,
            "pairs": [
             1,
             8
            ]
           },
           {
            "edges_x": 0.42908003604201106,
            "edges_y": 0.8207304747211934,
            "ew": 0.4,
            "node": 2,
            "pairs": [
             2,
             8
            ]
           },
           {
            "edges_x": -0.44858591277849846,
            "edges_y": 0.6039527961373052,
            "ew": 0.4,
            "node": 8,
            "pairs": [
             2,
             8
            ]
           },
           {
            "edges_x": 1,
            "edges_y": -0.0034040002942942182,
            "ew": 0.4,
            "node": 3,
            "pairs": [
             3,
             8
            ]
           },
           {
            "edges_x": -0.44858591277849846,
            "edges_y": 0.6039527961373052,
            "ew": 0.4,
            "node": 8,
            "pairs": [
             3,
             8
            ]
           },
           {
            "edges_x": 0.09482901550099498,
            "edges_y": 1,
            "ew": 0.2,
            "node": 4,
            "pairs": [
             4,
             8
            ]
           },
           {
            "edges_x": -0.44858591277849846,
            "edges_y": 0.6039527961373052,
            "ew": 0.2,
            "node": 8,
            "pairs": [
             4,
             8
            ]
           },
           {
            "edges_x": 0.2522728025686103,
            "edges_y": 0.3916408975403993,
            "ew": 0.4,
            "node": 5,
            "pairs": [
             5,
             8
            ]
           },
           {
            "edges_x": -0.44858591277849846,
            "edges_y": 0.6039527961373052,
            "ew": 0.4,
            "node": 8,
            "pairs": [
             5,
             8
            ]
           },
           {
            "edges_x": -0.1980823412972802,
            "edges_y": 0.7999934324827951,
            "ew": 0.4,
            "node": 6,
            "pairs": [
             6,
             8
            ]
           },
           {
            "edges_x": -0.44858591277849846,
            "edges_y": 0.6039527961373052,
            "ew": 0.4,
            "node": 8,
            "pairs": [
             6,
             8
            ]
           },
           {
            "edges_x": -1,
            "edges_y": 0.29518146300863446,
            "ew": 0.2,
            "node": 7,
            "pairs": [
             7,
             8
            ]
           },
           {
            "edges_x": -0.44858591277849846,
            "edges_y": 0.6039527961373052,
            "ew": 0.2,
            "node": 8,
            "pairs": [
             7,
             8
            ]
           },
           {
            "edges_x": 0.029535108089014273,
            "edges_y": -0.30481787543229133,
            "ew": 0.5,
            "node": 1,
            "pairs": [
             1,
             9
            ]
           },
           {
            "edges_x": 0.6547883882579786,
            "edges_y": -0.6954319224731116,
            "ew": 0.5,
            "node": 9,
            "pairs": [
             1,
             9
            ]
           },
           {
            "edges_x": 0.42908003604201106,
            "edges_y": 0.8207304747211934,
            "ew": 0.2,
            "node": 2,
            "pairs": [
             2,
             9
            ]
           },
           {
            "edges_x": 0.6547883882579786,
            "edges_y": -0.6954319224731116,
            "ew": 0.2,
            "node": 9,
            "pairs": [
             2,
             9
            ]
           },
           {
            "edges_x": 1,
            "edges_y": -0.0034040002942942182,
            "ew": 0.3,
            "node": 3,
            "pairs": [
             3,
             9
            ]
           },
           {
            "edges_x": 0.6547883882579786,
            "edges_y": -0.6954319224731116,
            "ew": 0.3,
            "node": 9,
            "pairs": [
             3,
             9
            ]
           },
           {
            "edges_x": 0.09482901550099498,
            "edges_y": 1,
            "ew": 0.1,
            "node": 4,
            "pairs": [
             4,
             9
            ]
           },
           {
            "edges_x": 0.6547883882579786,
            "edges_y": -0.6954319224731116,
            "ew": 0.1,
            "node": 9,
            "pairs": [
             4,
             9
            ]
           },
           {
            "edges_x": 0.2522728025686103,
            "edges_y": 0.3916408975403993,
            "ew": 0.3,
            "node": 5,
            "pairs": [
             5,
             9
            ]
           },
           {
            "edges_x": 0.6547883882579786,
            "edges_y": -0.6954319224731116,
            "ew": 0.3,
            "node": 9,
            "pairs": [
             5,
             9
            ]
           },
           {
            "edges_x": -0.1980823412972802,
            "edges_y": 0.7999934324827951,
            "ew": 0.4,
            "node": 6,
            "pairs": [
             6,
             9
            ]
           },
           {
            "edges_x": 0.6547883882579786,
            "edges_y": -0.6954319224731116,
            "ew": 0.4,
            "node": 9,
            "pairs": [
             6,
             9
            ]
           },
           {
            "edges_x": -0.44858591277849846,
            "edges_y": 0.6039527961373052,
            "ew": 0.4,
            "node": 8,
            "pairs": [
             8,
             9
            ]
           },
           {
            "edges_x": 0.6547883882579786,
            "edges_y": -0.6954319224731116,
            "ew": 0.4,
            "node": 9,
            "pairs": [
             8,
             9
            ]
           },
           {
            "edges_x": 0.029535108089014273,
            "edges_y": -0.30481787543229133,
            "ew": 0.6,
            "node": 1,
            "pairs": [
             1,
             10
            ]
           },
           {
            "edges_x": -0.03852363075649512,
            "edges_y": 0.1849688125345701,
            "ew": 0.6,
            "node": 10,
            "pairs": [
             1,
             10
            ]
           },
           {
            "edges_x": 0.42908003604201106,
            "edges_y": 0.8207304747211934,
            "ew": 0.3,
            "node": 2,
            "pairs": [
             2,
             10
            ]
           },
           {
            "edges_x": -0.03852363075649512,
            "edges_y": 0.1849688125345701,
            "ew": 0.3,
            "node": 10,
            "pairs": [
             2,
             10
            ]
           },
           {
            "edges_x": 1,
            "edges_y": -0.0034040002942942182,
            "ew": 0.4,
            "node": 3,
            "pairs": [
             3,
             10
            ]
           },
           {
            "edges_x": -0.03852363075649512,
            "edges_y": 0.1849688125345701,
            "ew": 0.4,
            "node": 10,
            "pairs": [
             3,
             10
            ]
           },
           {
            "edges_x": 0.09482901550099498,
            "edges_y": 1,
            "ew": 0.3,
            "node": 4,
            "pairs": [
             4,
             10
            ]
           },
           {
            "edges_x": -0.03852363075649512,
            "edges_y": 0.1849688125345701,
            "ew": 0.3,
            "node": 10,
            "pairs": [
             4,
             10
            ]
           },
           {
            "edges_x": 0.2522728025686103,
            "edges_y": 0.3916408975403993,
            "ew": 0.4,
            "node": 5,
            "pairs": [
             5,
             10
            ]
           },
           {
            "edges_x": -0.03852363075649512,
            "edges_y": 0.1849688125345701,
            "ew": 0.4,
            "node": 10,
            "pairs": [
             5,
             10
            ]
           },
           {
            "edges_x": -0.1980823412972802,
            "edges_y": 0.7999934324827951,
            "ew": 0.5,
            "node": 6,
            "pairs": [
             6,
             10
            ]
           },
           {
            "edges_x": -0.03852363075649512,
            "edges_y": 0.1849688125345701,
            "ew": 0.5,
            "node": 10,
            "pairs": [
             6,
             10
            ]
           },
           {
            "edges_x": -1,
            "edges_y": 0.29518146300863446,
            "ew": 0.2,
            "node": 7,
            "pairs": [
             7,
             10
            ]
           },
           {
            "edges_x": -0.03852363075649512,
            "edges_y": 0.1849688125345701,
            "ew": 0.2,
            "node": 10,
            "pairs": [
             7,
             10
            ]
           },
           {
            "edges_x": -0.44858591277849846,
            "edges_y": 0.6039527961373052,
            "ew": 0.6,
            "node": 8,
            "pairs": [
             8,
             10
            ]
           },
           {
            "edges_x": -0.03852363075649512,
            "edges_y": 0.1849688125345701,
            "ew": 0.6,
            "node": 10,
            "pairs": [
             8,
             10
            ]
           },
           {
            "edges_x": 0.6547883882579786,
            "edges_y": -0.6954319224731116,
            "ew": 0.5,
            "node": 9,
            "pairs": [
             9,
             10
            ]
           },
           {
            "edges_x": -0.03852363075649512,
            "edges_y": 0.1849688125345701,
            "ew": 0.5,
            "node": 10,
            "pairs": [
             9,
             10
            ]
           },
           {
            "edges_x": 0.029535108089014273,
            "edges_y": -0.30481787543229133,
            "ew": 0.4,
            "node": 1,
            "pairs": [
             1,
             11
            ]
           },
           {
            "edges_x": 0.8680005755540903,
            "edges_y": 0.5737013908814543,
            "ew": 0.4,
            "node": 11,
            "pairs": [
             1,
             11
            ]
           },
           {
            "edges_x": 0.42908003604201106,
            "edges_y": 0.8207304747211934,
            "ew": 0.3,
            "node": 2,
            "pairs": [
             2,
             11
            ]
           },
           {
            "edges_x": 0.8680005755540903,
            "edges_y": 0.5737013908814543,
            "ew": 0.3,
            "node": 11,
            "pairs": [
             2,
             11
            ]
           },
           {
            "edges_x": 1,
            "edges_y": -0.0034040002942942182,
            "ew": 0.4,
            "node": 3,
            "pairs": [
             3,
             11
            ]
           },
           {
            "edges_x": 0.8680005755540903,
            "edges_y": 0.5737013908814543,
            "ew": 0.4,
            "node": 11,
            "pairs": [
             3,
             11
            ]
           },
           {
            "edges_x": 0.09482901550099498,
            "edges_y": 1,
            "ew": 0.1,
            "node": 4,
            "pairs": [
             4,
             11
            ]
           },
           {
            "edges_x": 0.8680005755540903,
            "edges_y": 0.5737013908814543,
            "ew": 0.1,
            "node": 11,
            "pairs": [
             4,
             11
            ]
           },
           {
            "edges_x": 0.2522728025686103,
            "edges_y": 0.3916408975403993,
            "ew": 0.2,
            "node": 5,
            "pairs": [
             5,
             11
            ]
           },
           {
            "edges_x": 0.8680005755540903,
            "edges_y": 0.5737013908814543,
            "ew": 0.2,
            "node": 11,
            "pairs": [
             5,
             11
            ]
           },
           {
            "edges_x": -0.1980823412972802,
            "edges_y": 0.7999934324827951,
            "ew": 0.4,
            "node": 6,
            "pairs": [
             6,
             11
            ]
           },
           {
            "edges_x": 0.8680005755540903,
            "edges_y": 0.5737013908814543,
            "ew": 0.4,
            "node": 11,
            "pairs": [
             6,
             11
            ]
           },
           {
            "edges_x": -0.44858591277849846,
            "edges_y": 0.6039527961373052,
            "ew": 0.4,
            "node": 8,
            "pairs": [
             8,
             11
            ]
           },
           {
            "edges_x": 0.8680005755540903,
            "edges_y": 0.5737013908814543,
            "ew": 0.4,
            "node": 11,
            "pairs": [
             8,
             11
            ]
           },
           {
            "edges_x": 0.6547883882579786,
            "edges_y": -0.6954319224731116,
            "ew": 0.4,
            "node": 9,
            "pairs": [
             9,
             11
            ]
           },
           {
            "edges_x": 0.8680005755540903,
            "edges_y": 0.5737013908814543,
            "ew": 0.4,
            "node": 11,
            "pairs": [
             9,
             11
            ]
           },
           {
            "edges_x": -0.03852363075649512,
            "edges_y": 0.1849688125345701,
            "ew": 0.5,
            "node": 10,
            "pairs": [
             10,
             11
            ]
           },
           {
            "edges_x": 0.8680005755540903,
            "edges_y": 0.5737013908814543,
            "ew": 0.5,
            "node": 11,
            "pairs": [
             10,
             11
            ]
           },
           {
            "edges_x": 0.029535108089014273,
            "edges_y": -0.30481787543229133,
            "ew": 0.1,
            "node": 1,
            "pairs": [
             1,
             12
            ]
           },
           {
            "edges_x": -0.8694685758632154,
            "edges_y": -0.43602839730602416,
            "ew": 0.1,
            "node": 12,
            "pairs": [
             1,
             12
            ]
           },
           {
            "edges_x": 0.42908003604201106,
            "edges_y": 0.8207304747211934,
            "ew": 0.1,
            "node": 2,
            "pairs": [
             2,
             12
            ]
           },
           {
            "edges_x": -0.8694685758632154,
            "edges_y": -0.43602839730602416,
            "ew": 0.1,
            "node": 12,
            "pairs": [
             2,
             12
            ]
           },
           {
            "edges_x": 0.2522728025686103,
            "edges_y": 0.3916408975403993,
            "ew": 0.2,
            "node": 5,
            "pairs": [
             5,
             12
            ]
           },
           {
            "edges_x": -0.8694685758632154,
            "edges_y": -0.43602839730602416,
            "ew": 0.2,
            "node": 12,
            "pairs": [
             5,
             12
            ]
           },
           {
            "edges_x": -0.1980823412972802,
            "edges_y": 0.7999934324827951,
            "ew": 0.1,
            "node": 6,
            "pairs": [
             6,
             12
            ]
           },
           {
            "edges_x": -0.8694685758632154,
            "edges_y": -0.43602839730602416,
            "ew": 0.1,
            "node": 12,
            "pairs": [
             6,
             12
            ]
           },
           {
            "edges_x": -1,
            "edges_y": 0.29518146300863446,
            "ew": 0.1,
            "node": 7,
            "pairs": [
             7,
             12
            ]
           },
           {
            "edges_x": -0.8694685758632154,
            "edges_y": -0.43602839730602416,
            "ew": 0.1,
            "node": 12,
            "pairs": [
             7,
             12
            ]
           },
           {
            "edges_x": -0.44858591277849846,
            "edges_y": 0.6039527961373052,
            "ew": 0.2,
            "node": 8,
            "pairs": [
             8,
             12
            ]
           },
           {
            "edges_x": -0.8694685758632154,
            "edges_y": -0.43602839730602416,
            "ew": 0.2,
            "node": 12,
            "pairs": [
             8,
             12
            ]
           },
           {
            "edges_x": 0.6547883882579786,
            "edges_y": -0.6954319224731116,
            "ew": 0.1,
            "node": 9,
            "pairs": [
             9,
             12
            ]
           },
           {
            "edges_x": -0.8694685758632154,
            "edges_y": -0.43602839730602416,
            "ew": 0.1,
            "node": 12,
            "pairs": [
             9,
             12
            ]
           },
           {
            "edges_x": -0.03852363075649512,
            "edges_y": 0.1849688125345701,
            "ew": 0.1,
            "node": 10,
            "pairs": [
             10,
             12
            ]
           },
           {
            "edges_x": -0.8694685758632154,
            "edges_y": -0.43602839730602416,
            "ew": 0.1,
            "node": 12,
            "pairs": [
             10,
             12
            ]
           },
           {
            "edges_x": 0.029535108089014273,
            "edges_y": -0.30481787543229133,
            "ew": 0.3,
            "node": 1,
            "pairs": [
             1,
             13
            ]
           },
           {
            "edges_x": -0.660709085585113,
            "edges_y": -0.9422863334314706,
            "ew": 0.3,
            "node": 13,
            "pairs": [
             1,
             13
            ]
           },
           {
            "edges_x": 0.09482901550099498,
            "edges_y": 1,
            "ew": 0.1,
            "node": 4,
            "pairs": [
             4,
             13
            ]
           },
           {
            "edges_x": -0.660709085585113,
            "edges_y": -0.9422863334314706,
            "ew": 0.1,
            "node": 13,
            "pairs": [
             4,
             13
            ]
           },
           {
            "edges_x": 0.2522728025686103,
            "edges_y": 0.3916408975403993,
            "ew": 0.2,
            "node": 5,
            "pairs": [
             5,
             13
            ]
           },
           {
            "edges_x": -0.660709085585113,
            "edges_y": -0.9422863334314706,
            "ew": 0.2,
            "node": 13,
            "pairs": [
             5,
             13
            ]
           },
           {
            "edges_x": -0.1980823412972802,
            "edges_y": 0.7999934324827951,
            "ew": 0.2,
            "node": 6,
            "pairs": [
             6,
             13
            ]
           },
           {
            "edges_x": -0.660709085585113,
            "edges_y": -0.9422863334314706,
            "ew": 0.2,
            "node": 13,
            "pairs": [
             6,
             13
            ]
           },
           {
            "edges_x": -1,
            "edges_y": 0.29518146300863446,
            "ew": 0.1,
            "node": 7,
            "pairs": [
             7,
             13
            ]
           },
           {
            "edges_x": -0.660709085585113,
            "edges_y": -0.9422863334314706,
            "ew": 0.1,
            "node": 13,
            "pairs": [
             7,
             13
            ]
           },
           {
            "edges_x": -0.44858591277849846,
            "edges_y": 0.6039527961373052,
            "ew": 0.1,
            "node": 8,
            "pairs": [
             8,
             13
            ]
           },
           {
            "edges_x": -0.660709085585113,
            "edges_y": -0.9422863334314706,
            "ew": 0.1,
            "node": 13,
            "pairs": [
             8,
             13
            ]
           },
           {
            "edges_x": 0.6547883882579786,
            "edges_y": -0.6954319224731116,
            "ew": 0.2,
            "node": 9,
            "pairs": [
             9,
             13
            ]
           },
           {
            "edges_x": -0.660709085585113,
            "edges_y": -0.9422863334314706,
            "ew": 0.2,
            "node": 13,
            "pairs": [
             9,
             13
            ]
           },
           {
            "edges_x": -0.03852363075649512,
            "edges_y": 0.1849688125345701,
            "ew": 0.2,
            "node": 10,
            "pairs": [
             10,
             13
            ]
           },
           {
            "edges_x": -0.660709085585113,
            "edges_y": -0.9422863334314706,
            "ew": 0.2,
            "node": 13,
            "pairs": [
             10,
             13
            ]
           },
           {
            "edges_x": -0.8694685758632154,
            "edges_y": -0.43602839730602416,
            "ew": 0.1,
            "node": 12,
            "pairs": [
             12,
             13
            ]
           },
           {
            "edges_x": -0.660709085585113,
            "edges_y": -0.9422863334314706,
            "ew": 0.1,
            "node": 13,
            "pairs": [
             12,
             13
            ]
           },
           {
            "edges_x": 0.029535108089014273,
            "edges_y": -0.30481787543229133,
            "ew": 0.4,
            "node": 1,
            "pairs": [
             1,
             14
            ]
           },
           {
            "edges_x": -0.04832201321308849,
            "edges_y": -1,
            "ew": 0.4,
            "node": 14,
            "pairs": [
             1,
             14
            ]
           },
           {
            "edges_x": 0.42908003604201106,
            "edges_y": 0.8207304747211934,
            "ew": 0.4,
            "node": 2,
            "pairs": [
             2,
             14
            ]
           },
           {
            "edges_x": -0.04832201321308849,
            "edges_y": -1,
            "ew": 0.4,
            "node": 14,
            "pairs": [
             2,
             14
            ]
           },
           {
            "edges_x": 1,
            "edges_y": -0.0034040002942942182,
            "ew": 0.3,
            "node": 3,
            "pairs": [
             3,
             14
            ]
           },
           {
            "edges_x": -0.04832201321308849,
            "edges_y": -1,
            "ew": 0.3,
            "node": 14,
            "pairs": [
             3,
             14
            ]
           },
           {
            "edges_x": 0.09482901550099498,
            "edges_y": 1,
            "ew": 0.2,
            "node": 4,
            "pairs": [
             4,
             14
            ]
           },
           {
            "edges_x": -0.04832201321308849,
            "edges_y": -1,
            "ew": 0.2,
            "node": 14,
            "pairs": [
             4,
             14
            ]
           },
           {
            "edges_x": 0.2522728025686103,
            "edges_y": 0.3916408975403993,
            "ew": 0.3,
            "node": 5,
            "pairs": [
             5,
             14
            ]
           },
           {
            "edges_x": -0.04832201321308849,
            "edges_y": -1,
            "ew": 0.3,
            "node": 14,
            "pairs": [
             5,
             14
            ]
           },
           {
            "edges_x": -0.1980823412972802,
            "edges_y": 0.7999934324827951,
            "ew": 0.5,
            "node": 6,
            "pairs": [
             6,
             14
            ]
           },
           {
            "edges_x": -0.04832201321308849,
            "edges_y": -1,
            "ew": 0.5,
            "node": 14,
            "pairs": [
             6,
             14
            ]
           },
           {
            "edges_x": -1,
            "edges_y": 0.29518146300863446,
            "ew": 0.2,
            "node": 7,
            "pairs": [
             7,
             14
            ]
           },
           {
            "edges_x": -0.04832201321308849,
            "edges_y": -1,
            "ew": 0.2,
            "node": 14,
            "pairs": [
             7,
             14
            ]
           },
           {
            "edges_x": -0.44858591277849846,
            "edges_y": 0.6039527961373052,
            "ew": 0.5,
            "node": 8,
            "pairs": [
             8,
             14
            ]
           },
           {
            "edges_x": -0.04832201321308849,
            "edges_y": -1,
            "ew": 0.5,
            "node": 14,
            "pairs": [
             8,
             14
            ]
           },
           {
            "edges_x": 0.6547883882579786,
            "edges_y": -0.6954319224731116,
            "ew": 0.3,
            "node": 9,
            "pairs": [
             9,
             14
            ]
           },
           {
            "edges_x": -0.04832201321308849,
            "edges_y": -1,
            "ew": 0.3,
            "node": 14,
            "pairs": [
             9,
             14
            ]
           },
           {
            "edges_x": -0.03852363075649512,
            "edges_y": 0.1849688125345701,
            "ew": 0.5,
            "node": 10,
            "pairs": [
             10,
             14
            ]
           },
           {
            "edges_x": -0.04832201321308849,
            "edges_y": -1,
            "ew": 0.5,
            "node": 14,
            "pairs": [
             10,
             14
            ]
           },
           {
            "edges_x": 0.8680005755540903,
            "edges_y": 0.5737013908814543,
            "ew": 0.3,
            "node": 11,
            "pairs": [
             11,
             14
            ]
           },
           {
            "edges_x": -0.04832201321308849,
            "edges_y": -1,
            "ew": 0.3,
            "node": 14,
            "pairs": [
             11,
             14
            ]
           },
           {
            "edges_x": -0.8694685758632154,
            "edges_y": -0.43602839730602416,
            "ew": 0.2,
            "node": 12,
            "pairs": [
             12,
             14
            ]
           },
           {
            "edges_x": -0.04832201321308849,
            "edges_y": -1,
            "ew": 0.2,
            "node": 14,
            "pairs": [
             12,
             14
            ]
           },
           {
            "edges_x": -0.660709085585113,
            "edges_y": -0.9422863334314706,
            "ew": 0.2,
            "node": 13,
            "pairs": [
             13,
             14
            ]
           },
           {
            "edges_x": -0.04832201321308849,
            "edges_y": -1,
            "ew": 0.2,
            "node": 14,
            "pairs": [
             13,
             14
            ]
           },
           {
            "edges_x": 0.029535108089014273,
            "edges_y": -0.30481787543229133,
            "ew": 0.3,
            "node": 1,
            "pairs": [
             1,
             15
            ]
           },
           {
            "edges_x": 0.24261125746824797,
            "edges_y": -0.8600530543103382,
            "ew": 0.3,
            "node": 15,
            "pairs": [
             1,
             15
            ]
           },
           {
            "edges_x": 0.42908003604201106,
            "edges_y": 0.8207304747211934,
            "ew": 0.2,
            "node": 2,
            "pairs": [
             2,
             15
            ]
           },
           {
            "edges_x": 0.24261125746824797,
            "edges_y": -0.8600530543103382,
            "ew": 0.2,
            "node": 15,
            "pairs": [
             2,
             15
            ]
           },
           {
            "edges_x": 1,
            "edges_y": -0.0034040002942942182,
            "ew": 0.1,
            "node": 3,
            "pairs": [
             3,
             15
            ]
           },
           {
            "edges_x": 0.24261125746824797,
            "edges_y": -0.8600530543103382,
            "ew": 0.1,
            "node": 15,
            "pairs": [
             3,
             15
            ]
           },
           {
            "edges_x": 0.09482901550099498,
            "edges_y": 1,
            "ew": 0.1,
            "node": 4,
            "pairs": [
             4,
             15
            ]
           },
           {
            "edges_x": 0.24261125746824797,
            "edges_y": -0.8600530543103382,
            "ew": 0.1,
            "node": 15,
            "pairs": [
             4,
             15
            ]
           },
           {
            "edges_x": 0.2522728025686103,
            "edges_y": 0.3916408975403993,
            "ew": 0.4,
            "node": 5,
            "pairs": [
             5,
             15
            ]
           },
           {
            "edges_x": 0.24261125746824797,
            "edges_y": -0.8600530543103382,
            "ew": 0.4,
            "node": 15,
            "pairs": [
             5,
             15
            ]
           },
           {
            "edges_x": -0.1980823412972802,
            "edges_y": 0.7999934324827951,
            "ew": 0.3,
            "node": 6,
            "pairs": [
             6,
             15
            ]
           },
           {
            "edges_x": 0.24261125746824797,
            "edges_y": -0.8600530543103382,
            "ew": 0.3,
            "node": 15,
            "pairs": [
             6,
             15
            ]
           },
           {
            "edges_x": -1,
            "edges_y": 0.29518146300863446,
            "ew": 0.2,
            "node": 7,
            "pairs": [
             7,
             15
            ]
           },
           {
            "edges_x": 0.24261125746824797,
            "edges_y": -0.8600530543103382,
            "ew": 0.2,
            "node": 15,
            "pairs": [
             7,
             15
            ]
           },
           {
            "edges_x": -0.44858591277849846,
            "edges_y": 0.6039527961373052,
            "ew": 0.4,
            "node": 8,
            "pairs": [
             8,
             15
            ]
           },
           {
            "edges_x": 0.24261125746824797,
            "edges_y": -0.8600530543103382,
            "ew": 0.4,
            "node": 15,
            "pairs": [
             8,
             15
            ]
           },
           {
            "edges_x": 0.6547883882579786,
            "edges_y": -0.6954319224731116,
            "ew": 0.3,
            "node": 9,
            "pairs": [
             9,
             15
            ]
           },
           {
            "edges_x": 0.24261125746824797,
            "edges_y": -0.8600530543103382,
            "ew": 0.3,
            "node": 15,
            "pairs": [
             9,
             15
            ]
           },
           {
            "edges_x": -0.03852363075649512,
            "edges_y": 0.1849688125345701,
            "ew": 0.3,
            "node": 10,
            "pairs": [
             10,
             15
            ]
           },
           {
            "edges_x": 0.24261125746824797,
            "edges_y": -0.8600530543103382,
            "ew": 0.3,
            "node": 15,
            "pairs": [
             10,
             15
            ]
           },
           {
            "edges_x": 0.8680005755540903,
            "edges_y": 0.5737013908814543,
            "ew": 0.1,
            "node": 11,
            "pairs": [
             11,
             15
            ]
           },
           {
            "edges_x": 0.24261125746824797,
            "edges_y": -0.8600530543103382,
            "ew": 0.1,
            "node": 15,
            "pairs": [
             11,
             15
            ]
           },
           {
            "edges_x": -0.8694685758632154,
            "edges_y": -0.43602839730602416,
            "ew": 0.2,
            "node": 12,
            "pairs": [
             12,
             15
            ]
           },
           {
            "edges_x": 0.24261125746824797,
            "edges_y": -0.8600530543103382,
            "ew": 0.2,
            "node": 15,
            "pairs": [
             12,
             15
            ]
           },
           {
            "edges_x": -0.660709085585113,
            "edges_y": -0.9422863334314706,
            "ew": 0.2,
            "node": 13,
            "pairs": [
             13,
             15
            ]
           },
           {
            "edges_x": 0.24261125746824797,
            "edges_y": -0.8600530543103382,
            "ew": 0.2,
            "node": 15,
            "pairs": [
             13,
             15
            ]
           },
           {
            "edges_x": -0.04832201321308849,
            "edges_y": -1,
            "ew": 0.3,
            "node": 14,
            "pairs": [
             14,
             15
            ]
           },
           {
            "edges_x": 0.24261125746824797,
            "edges_y": -0.8600530543103382,
            "ew": 0.3,
            "node": 15,
            "pairs": [
             14,
             15
            ]
           },
           {
            "edges_x": 0.029535108089014273,
            "edges_y": -0.30481787543229133,
            "ew": 0.4,
            "node": 1,
            "pairs": [
             1,
             16
            ]
           },
           {
            "edges_x": -0.2673929674735649,
            "edges_y": -0.6459839094853618,
            "ew": 0.4,
            "node": 16,
            "pairs": [
             1,
             16
            ]
           },
           {
            "edges_x": 0.42908003604201106,
            "edges_y": 0.8207304747211934,
            "ew": 0.4,
            "node": 2,
            "pairs": [
             2,
             16
            ]
           },
           {
            "edges_x": -0.2673929674735649,
            "edges_y": -0.6459839094853618,
            "ew": 0.4,
            "node": 16,
            "pairs": [
             2,
             16
            ]
           },
           {
            "edges_x": 1,
            "edges_y": -0.0034040002942942182,
            "ew": 0.3,
            "node": 3,
            "pairs": [
             3,
             16
            ]
           },
           {
            "edges_x": -0.2673929674735649,
            "edges_y": -0.6459839094853618,
            "ew": 0.3,
            "node": 16,
            "pairs": [
             3,
             16
            ]
           },
           {
            "edges_x": 0.09482901550099498,
            "edges_y": 1,
            "ew": 0.1,
            "node": 4,
            "pairs": [
             4,
             16
            ]
           },
           {
            "edges_x": -0.2673929674735649,
            "edges_y": -0.6459839094853618,
            "ew": 0.1,
            "node": 16,
            "pairs": [
             4,
             16
            ]
           },
           {
            "edges_x": 0.2522728025686103,
            "edges_y": 0.3916408975403993,
            "ew": 0.4,
            "node": 5,
            "pairs": [
             5,
             16
            ]
           },
           {
            "edges_x": -0.2673929674735649,
            "edges_y": -0.6459839094853618,
            "ew": 0.4,
            "node": 16,
            "pairs": [
             5,
             16
            ]
           },
           {
            "edges_x": -0.1980823412972802,
            "edges_y": 0.7999934324827951,
            "ew": 0.5,
            "node": 6,
            "pairs": [
             6,
             16
            ]
           },
           {
            "edges_x": -0.2673929674735649,
            "edges_y": -0.6459839094853618,
            "ew": 0.5,
            "node": 16,
            "pairs": [
             6,
             16
            ]
           },
           {
            "edges_x": -1,
            "edges_y": 0.29518146300863446,
            "ew": 0.1,
            "node": 7,
            "pairs": [
             7,
             16
            ]
           },
           {
            "edges_x": -0.2673929674735649,
            "edges_y": -0.6459839094853618,
            "ew": 0.1,
            "node": 16,
            "pairs": [
             7,
             16
            ]
           },
           {
            "edges_x": -0.44858591277849846,
            "edges_y": 0.6039527961373052,
            "ew": 0.5,
            "node": 8,
            "pairs": [
             8,
             16
            ]
           },
           {
            "edges_x": -0.2673929674735649,
            "edges_y": -0.6459839094853618,
            "ew": 0.5,
            "node": 16,
            "pairs": [
             8,
             16
            ]
           },
           {
            "edges_x": 0.6547883882579786,
            "edges_y": -0.6954319224731116,
            "ew": 0.4,
            "node": 9,
            "pairs": [
             9,
             16
            ]
           },
           {
            "edges_x": -0.2673929674735649,
            "edges_y": -0.6459839094853618,
            "ew": 0.4,
            "node": 16,
            "pairs": [
             9,
             16
            ]
           },
           {
            "edges_x": -0.03852363075649512,
            "edges_y": 0.1849688125345701,
            "ew": 0.4,
            "node": 10,
            "pairs": [
             10,
             16
            ]
           },
           {
            "edges_x": -0.2673929674735649,
            "edges_y": -0.6459839094853618,
            "ew": 0.4,
            "node": 16,
            "pairs": [
             10,
             16
            ]
           },
           {
            "edges_x": 0.8680005755540903,
            "edges_y": 0.5737013908814543,
            "ew": 0.3,
            "node": 11,
            "pairs": [
             11,
             16
            ]
           },
           {
            "edges_x": -0.2673929674735649,
            "edges_y": -0.6459839094853618,
            "ew": 0.3,
            "node": 16,
            "pairs": [
             11,
             16
            ]
           },
           {
            "edges_x": -0.8694685758632154,
            "edges_y": -0.43602839730602416,
            "ew": 0.2,
            "node": 12,
            "pairs": [
             12,
             16
            ]
           },
           {
            "edges_x": -0.2673929674735649,
            "edges_y": -0.6459839094853618,
            "ew": 0.2,
            "node": 16,
            "pairs": [
             12,
             16
            ]
           },
           {
            "edges_x": -0.660709085585113,
            "edges_y": -0.9422863334314706,
            "ew": 0.2,
            "node": 13,
            "pairs": [
             13,
             16
            ]
           },
           {
            "edges_x": -0.2673929674735649,
            "edges_y": -0.6459839094853618,
            "ew": 0.2,
            "node": 16,
            "pairs": [
             13,
             16
            ]
           },
           {
            "edges_x": -0.04832201321308849,
            "edges_y": -1,
            "ew": 0.5,
            "node": 14,
            "pairs": [
             14,
             16
            ]
           },
           {
            "edges_x": -0.2673929674735649,
            "edges_y": -0.6459839094853618,
            "ew": 0.5,
            "node": 16,
            "pairs": [
             14,
             16
            ]
           },
           {
            "edges_x": 0.24261125746824797,
            "edges_y": -0.8600530543103382,
            "ew": 0.4,
            "node": 15,
            "pairs": [
             15,
             16
            ]
           },
           {
            "edges_x": -0.2673929674735649,
            "edges_y": -0.6459839094853618,
            "ew": 0.4,
            "node": 16,
            "pairs": [
             15,
             16
            ]
           },
           {
            "edges_x": 0.029535108089014273,
            "edges_y": -0.30481787543229133,
            "ew": 0.5,
            "node": 1,
            "pairs": [
             1,
             17
            ]
           },
           {
            "edges_x": 0.3494035214598592,
            "edges_y": -0.4162075392369292,
            "ew": 0.5,
            "node": 17,
            "pairs": [
             1,
             17
            ]
           },
           {
            "edges_x": 1,
            "edges_y": -0.0034040002942942182,
            "ew": 0.1,
            "node": 3,
            "pairs": [
             3,
             17
            ]
           },
           {
            "edges_x": 0.3494035214598592,
            "edges_y": -0.4162075392369292,
            "ew": 0.1,
            "node": 17,
            "pairs": [
             3,
             17
            ]
           },
           {
            "edges_x": 0.09482901550099498,
            "edges_y": 1,
            "ew": 0.1,
            "node": 4,
            "pairs": [
             4,
             17
            ]
           },
           {
            "edges_x": 0.3494035214598592,
            "edges_y": -0.4162075392369292,
            "ew": 0.1,
            "node": 17,
            "pairs": [
             4,
             17
            ]
           },
           {
            "edges_x": 0.2522728025686103,
            "edges_y": 0.3916408975403993,
            "ew": 0.3,
            "node": 5,
            "pairs": [
             5,
             17
            ]
           },
           {
            "edges_x": 0.3494035214598592,
            "edges_y": -0.4162075392369292,
            "ew": 0.3,
            "node": 17,
            "pairs": [
             5,
             17
            ]
           },
           {
            "edges_x": -0.1980823412972802,
            "edges_y": 0.7999934324827951,
            "ew": 0.3,
            "node": 6,
            "pairs": [
             6,
             17
            ]
           },
           {
            "edges_x": 0.3494035214598592,
            "edges_y": -0.4162075392369292,
            "ew": 0.3,
            "node": 17,
            "pairs": [
             6,
             17
            ]
           },
           {
            "edges_x": -1,
            "edges_y": 0.29518146300863446,
            "ew": 0.1,
            "node": 7,
            "pairs": [
             7,
             17
            ]
           },
           {
            "edges_x": 0.3494035214598592,
            "edges_y": -0.4162075392369292,
            "ew": 0.1,
            "node": 17,
            "pairs": [
             7,
             17
            ]
           },
           {
            "edges_x": -0.44858591277849846,
            "edges_y": 0.6039527961373052,
            "ew": 0.2,
            "node": 8,
            "pairs": [
             8,
             17
            ]
           },
           {
            "edges_x": 0.3494035214598592,
            "edges_y": -0.4162075392369292,
            "ew": 0.2,
            "node": 17,
            "pairs": [
             8,
             17
            ]
           },
           {
            "edges_x": 0.6547883882579786,
            "edges_y": -0.6954319224731116,
            "ew": 0.4,
            "node": 9,
            "pairs": [
             9,
             17
            ]
           },
           {
            "edges_x": 0.3494035214598592,
            "edges_y": -0.4162075392369292,
            "ew": 0.4,
            "node": 17,
            "pairs": [
             9,
             17
            ]
           },
           {
            "edges_x": -0.03852363075649512,
            "edges_y": 0.1849688125345701,
            "ew": 0.4,
            "node": 10,
            "pairs": [
             10,
             17
            ]
           },
           {
            "edges_x": 0.3494035214598592,
            "edges_y": -0.4162075392369292,
            "ew": 0.4,
            "node": 17,
            "pairs": [
             10,
             17
            ]
           },
           {
            "edges_x": 0.8680005755540903,
            "edges_y": 0.5737013908814543,
            "ew": 0.2,
            "node": 11,
            "pairs": [
             11,
             17
            ]
           },
           {
            "edges_x": 0.3494035214598592,
            "edges_y": -0.4162075392369292,
            "ew": 0.2,
            "node": 17,
            "pairs": [
             11,
             17
            ]
           },
           {
            "edges_x": -0.8694685758632154,
            "edges_y": -0.43602839730602416,
            "ew": 0.1,
            "node": 12,
            "pairs": [
             12,
             17
            ]
           },
           {
            "edges_x": 0.3494035214598592,
            "edges_y": -0.4162075392369292,
            "ew": 0.1,
            "node": 17,
            "pairs": [
             12,
             17
            ]
           },
           {
            "edges_x": -0.660709085585113,
            "edges_y": -0.9422863334314706,
            "ew": 0.3,
            "node": 13,
            "pairs": [
             13,
             17
            ]
           },
           {
            "edges_x": 0.3494035214598592,
            "edges_y": -0.4162075392369292,
            "ew": 0.3,
            "node": 17,
            "pairs": [
             13,
             17
            ]
           },
           {
            "edges_x": -0.04832201321308849,
            "edges_y": -1,
            "ew": 0.2,
            "node": 14,
            "pairs": [
             14,
             17
            ]
           },
           {
            "edges_x": 0.3494035214598592,
            "edges_y": -0.4162075392369292,
            "ew": 0.2,
            "node": 17,
            "pairs": [
             14,
             17
            ]
           },
           {
            "edges_x": 0.24261125746824797,
            "edges_y": -0.8600530543103382,
            "ew": 0.2,
            "node": 15,
            "pairs": [
             15,
             17
            ]
           },
           {
            "edges_x": 0.3494035214598592,
            "edges_y": -0.4162075392369292,
            "ew": 0.2,
            "node": 17,
            "pairs": [
             15,
             17
            ]
           },
           {
            "edges_x": -0.2673929674735649,
            "edges_y": -0.6459839094853618,
            "ew": 0.2,
            "node": 16,
            "pairs": [
             16,
             17
            ]
           },
           {
            "edges_x": 0.3494035214598592,
            "edges_y": -0.4162075392369292,
            "ew": 0.2,
            "node": 17,
            "pairs": [
             16,
             17
            ]
           },
           {
            "edges_x": 0.029535108089014273,
            "edges_y": -0.30481787543229133,
            "ew": 0.3,
            "node": 1,
            "pairs": [
             1,
             18
            ]
           },
           {
            "edges_x": -0.41183357850764957,
            "edges_y": -0.2064028052512754,
            "ew": 0.3,
            "node": 18,
            "pairs": [
             1,
             18
            ]
           },
           {
            "edges_x": 0.42908003604201106,
            "edges_y": 0.8207304747211934,
            "ew": 0.2,
            "node": 2,
            "pairs": [
             2,
             18
            ]
           },
           {
            "edges_x": -0.41183357850764957,
            "edges_y": -0.2064028052512754,
            "ew": 0.2,
            "node": 18,
            "pairs": [
             2,
             18
            ]
           },
           {
            "edges_x": 1,
            "edges_y": -0.0034040002942942182,
            "ew": 0.1,
            "node": 3,
            "pairs": [
             3,
             18
            ]
           },
           {
            "edges_x": -0.41183357850764957,
            "edges_y": -0.2064028052512754,
            "ew": 0.1,
            "node": 18,
            "pairs": [
             3,
             18
            ]
           },
           {
            "edges_x": 0.09482901550099498,
            "edges_y": 1,
            "ew": 0.2,
            "node": 4,
            "pairs": [
             4,
             18
            ]
           },
           {
            "edges_x": -0.41183357850764957,
            "edges_y": -0.2064028052512754,
            "ew": 0.2,
            "node": 18,
            "pairs": [
             4,
             18
            ]
           },
           {
            "edges_x": 0.2522728025686103,
            "edges_y": 0.3916408975403993,
            "ew": 0.5,
            "node": 5,
            "pairs": [
             5,
             18
            ]
           },
           {
            "edges_x": -0.41183357850764957,
            "edges_y": -0.2064028052512754,
            "ew": 0.5,
            "node": 18,
            "pairs": [
             5,
             18
            ]
           },
           {
            "edges_x": -0.1980823412972802,
            "edges_y": 0.7999934324827951,
            "ew": 0.4,
            "node": 6,
            "pairs": [
             6,
             18
            ]
           },
           {
            "edges_x": -0.41183357850764957,
            "edges_y": -0.2064028052512754,
            "ew": 0.4,
            "node": 18,
            "pairs": [
             6,
             18
            ]
           },
           {
            "edges_x": -1,
            "edges_y": 0.29518146300863446,
            "ew": 0.2,
            "node": 7,
            "pairs": [
             7,
             18
            ]
           },
           {
            "edges_x": -0.41183357850764957,
            "edges_y": -0.2064028052512754,
            "ew": 0.2,
            "node": 18,
            "pairs": [
             7,
             18
            ]
           },
           {
            "edges_x": -0.44858591277849846,
            "edges_y": 0.6039527961373052,
            "ew": 0.4,
            "node": 8,
            "pairs": [
             8,
             18
            ]
           },
           {
            "edges_x": -0.41183357850764957,
            "edges_y": -0.2064028052512754,
            "ew": 0.4,
            "node": 18,
            "pairs": [
             8,
             18
            ]
           },
           {
            "edges_x": 0.6547883882579786,
            "edges_y": -0.6954319224731116,
            "ew": 0.4,
            "node": 9,
            "pairs": [
             9,
             18
            ]
           },
           {
            "edges_x": -0.41183357850764957,
            "edges_y": -0.2064028052512754,
            "ew": 0.4,
            "node": 18,
            "pairs": [
             9,
             18
            ]
           },
           {
            "edges_x": -0.03852363075649512,
            "edges_y": 0.1849688125345701,
            "ew": 0.4,
            "node": 10,
            "pairs": [
             10,
             18
            ]
           },
           {
            "edges_x": -0.41183357850764957,
            "edges_y": -0.2064028052512754,
            "ew": 0.4,
            "node": 18,
            "pairs": [
             10,
             18
            ]
           },
           {
            "edges_x": 0.8680005755540903,
            "edges_y": 0.5737013908814543,
            "ew": 0.2,
            "node": 11,
            "pairs": [
             11,
             18
            ]
           },
           {
            "edges_x": -0.41183357850764957,
            "edges_y": -0.2064028052512754,
            "ew": 0.2,
            "node": 18,
            "pairs": [
             11,
             18
            ]
           },
           {
            "edges_x": -0.8694685758632154,
            "edges_y": -0.43602839730602416,
            "ew": 0.2,
            "node": 12,
            "pairs": [
             12,
             18
            ]
           },
           {
            "edges_x": -0.41183357850764957,
            "edges_y": -0.2064028052512754,
            "ew": 0.2,
            "node": 18,
            "pairs": [
             12,
             18
            ]
           },
           {
            "edges_x": -0.660709085585113,
            "edges_y": -0.9422863334314706,
            "ew": 0.2,
            "node": 13,
            "pairs": [
             13,
             18
            ]
           },
           {
            "edges_x": -0.41183357850764957,
            "edges_y": -0.2064028052512754,
            "ew": 0.2,
            "node": 18,
            "pairs": [
             13,
             18
            ]
           },
           {
            "edges_x": -0.04832201321308849,
            "edges_y": -1,
            "ew": 0.3,
            "node": 14,
            "pairs": [
             14,
             18
            ]
           },
           {
            "edges_x": -0.41183357850764957,
            "edges_y": -0.2064028052512754,
            "ew": 0.3,
            "node": 18,
            "pairs": [
             14,
             18
            ]
           },
           {
            "edges_x": 0.24261125746824797,
            "edges_y": -0.8600530543103382,
            "ew": 0.4,
            "node": 15,
            "pairs": [
             15,
             18
            ]
           },
           {
            "edges_x": -0.41183357850764957,
            "edges_y": -0.2064028052512754,
            "ew": 0.4,
            "node": 18,
            "pairs": [
             15,
             18
            ]
           },
           {
            "edges_x": -0.2673929674735649,
            "edges_y": -0.6459839094853618,
            "ew": 0.4,
            "node": 16,
            "pairs": [
             16,
             18
            ]
           },
           {
            "edges_x": -0.41183357850764957,
            "edges_y": -0.2064028052512754,
            "ew": 0.4,
            "node": 18,
            "pairs": [
             16,
             18
            ]
           },
           {
            "edges_x": 0.3494035214598592,
            "edges_y": -0.4162075392369292,
            "ew": 0.3,
            "node": 17,
            "pairs": [
             17,
             18
            ]
           },
           {
            "edges_x": -0.41183357850764957,
            "edges_y": -0.2064028052512754,
            "ew": 0.3,
            "node": 18,
            "pairs": [
             17,
             18
            ]
           },
           {
            "edges_x": 0.029535108089014273,
            "edges_y": -0.30481787543229133,
            "ew": 0.4,
            "node": 1,
            "pairs": [
             1,
             19
            ]
           },
           {
            "edges_x": 0.6318714906595237,
            "edges_y": -0.11574701622519934,
            "ew": 0.4,
            "node": 19,
            "pairs": [
             1,
             19
            ]
           },
           {
            "edges_x": 0.42908003604201106,
            "edges_y": 0.8207304747211934,
            "ew": 0.2,
            "node": 2,
            "pairs": [
             2,
             19
            ]
           },
           {
            "edges_x": 0.6318714906595237,
            "edges_y": -0.11574701622519934,
            "ew": 0.2,
            "node": 19,
            "pairs": [
             2,
             19
            ]
           },
           {
            "edges_x": 1,
            "edges_y": -0.0034040002942942182,
            "ew": 0.2,
            "node": 3,
            "pairs": [
             3,
             19
            ]
           },
           {
            "edges_x": 0.6318714906595237,
            "edges_y": -0.11574701622519934,
            "ew": 0.2,
            "node": 19,
            "pairs": [
             3,
             19
            ]
           },
           {
            "edges_x": 0.2522728025686103,
            "edges_y": 0.3916408975403993,
            "ew": 0.3,
            "node": 5,
            "pairs": [
             5,
             19
            ]
           },
           {
            "edges_x": 0.6318714906595237,
            "edges_y": -0.11574701622519934,
            "ew": 0.3,
            "node": 19,
            "pairs": [
             5,
             19
            ]
           },
           {
            "edges_x": -0.1980823412972802,
            "edges_y": 0.7999934324827951,
            "ew": 0.3,
            "node": 6,
            "pairs": [
             6,
             19
            ]
           },
           {
            "edges_x": 0.6318714906595237,
            "edges_y": -0.11574701622519934,
            "ew": 0.3,
            "node": 19,
            "pairs": [
             6,
             19
            ]
           },
           {
            "edges_x": -0.44858591277849846,
            "edges_y": 0.6039527961373052,
            "ew": 0.3,
            "node": 8,
            "pairs": [
             8,
             19
            ]
           },
           {
            "edges_x": 0.6318714906595237,
            "edges_y": -0.11574701622519934,
            "ew": 0.3,
            "node": 19,
            "pairs": [
             8,
             19
            ]
           },
           {
            "edges_x": 0.6547883882579786,
            "edges_y": -0.6954319224731116,
            "ew": 0.3,
            "node": 9,
            "pairs": [
             9,
             19
            ]
           },
           {
            "edges_x": 0.6318714906595237,
            "edges_y": -0.11574701622519934,
            "ew": 0.3,
            "node": 19,
            "pairs": [
             9,
             19
            ]
           },
           {
            "edges_x": -0.03852363075649512,
            "edges_y": 0.1849688125345701,
            "ew": 0.3,
            "node": 10,
            "pairs": [
             10,
             19
            ]
           },
           {
            "edges_x": 0.6318714906595237,
            "edges_y": -0.11574701622519934,
            "ew": 0.3,
            "node": 19,
            "pairs": [
             10,
             19
            ]
           },
           {
            "edges_x": 0.8680005755540903,
            "edges_y": 0.5737013908814543,
            "ew": 0.2,
            "node": 11,
            "pairs": [
             11,
             19
            ]
           },
           {
            "edges_x": 0.6318714906595237,
            "edges_y": -0.11574701622519934,
            "ew": 0.2,
            "node": 19,
            "pairs": [
             11,
             19
            ]
           },
           {
            "edges_x": -0.8694685758632154,
            "edges_y": -0.43602839730602416,
            "ew": 0.1,
            "node": 12,
            "pairs": [
             12,
             19
            ]
           },
           {
            "edges_x": 0.6318714906595237,
            "edges_y": -0.11574701622519934,
            "ew": 0.1,
            "node": 19,
            "pairs": [
             12,
             19
            ]
           },
           {
            "edges_x": -0.660709085585113,
            "edges_y": -0.9422863334314706,
            "ew": 0.2,
            "node": 13,
            "pairs": [
             13,
             19
            ]
           },
           {
            "edges_x": 0.6318714906595237,
            "edges_y": -0.11574701622519934,
            "ew": 0.2,
            "node": 19,
            "pairs": [
             13,
             19
            ]
           },
           {
            "edges_x": -0.04832201321308849,
            "edges_y": -1,
            "ew": 0.3,
            "node": 14,
            "pairs": [
             14,
             19
            ]
           },
           {
            "edges_x": 0.6318714906595237,
            "edges_y": -0.11574701622519934,
            "ew": 0.3,
            "node": 19,
            "pairs": [
             14,
             19
            ]
           },
           {
            "edges_x": 0.24261125746824797,
            "edges_y": -0.8600530543103382,
            "ew": 0.3,
            "node": 15,
            "pairs": [
             15,
             19
            ]
           },
           {
            "edges_x": 0.6318714906595237,
            "edges_y": -0.11574701622519934,
            "ew": 0.3,
            "node": 19,
            "pairs": [
             15,
             19
            ]
           },
           {
            "edges_x": -0.2673929674735649,
            "edges_y": -0.6459839094853618,
            "ew": 0.4,
            "node": 16,
            "pairs": [
             16,
             19
            ]
           },
           {
            "edges_x": 0.6318714906595237,
            "edges_y": -0.11574701622519934,
            "ew": 0.4,
            "node": 19,
            "pairs": [
             16,
             19
            ]
           },
           {
            "edges_x": 0.3494035214598592,
            "edges_y": -0.4162075392369292,
            "ew": 0.2,
            "node": 17,
            "pairs": [
             17,
             19
            ]
           },
           {
            "edges_x": 0.6318714906595237,
            "edges_y": -0.11574701622519934,
            "ew": 0.2,
            "node": 19,
            "pairs": [
             17,
             19
            ]
           },
           {
            "edges_x": -0.41183357850764957,
            "edges_y": -0.2064028052512754,
            "ew": 0.2,
            "node": 18,
            "pairs": [
             18,
             19
            ]
           },
           {
            "edges_x": 0.6318714906595237,
            "edges_y": -0.11574701622519934,
            "ew": 0.2,
            "node": 19,
            "pairs": [
             18,
             19
            ]
           },
           {
            "edges_x": 0.029535108089014273,
            "edges_y": -0.30481787543229133,
            "ew": 0.4,
            "node": 1,
            "pairs": [
             1,
             20
            ]
           },
           {
            "edges_x": -0.44566251864902384,
            "edges_y": 0.20097644829913697,
            "ew": 0.4,
            "node": 20,
            "pairs": [
             1,
             20
            ]
           },
           {
            "edges_x": 0.42908003604201106,
            "edges_y": 0.8207304747211934,
            "ew": 0.1,
            "node": 2,
            "pairs": [
             2,
             20
            ]
           },
           {
            "edges_x": -0.44566251864902384,
            "edges_y": 0.20097644829913697,
            "ew": 0.1,
            "node": 20,
            "pairs": [
             2,
             20
            ]
           },
           {
            "edges_x": 1,
            "edges_y": -0.0034040002942942182,
            "ew": 0.1,
            "node": 3,
            "pairs": [
             3,
             20
            ]
           },
           {
            "edges_x": -0.44566251864902384,
            "edges_y": 0.20097644829913697,
            "ew": 0.1,
            "node": 20,
            "pairs": [
             3,
             20
            ]
           },
           {
            "edges_x": 0.09482901550099498,
            "edges_y": 1,
            "ew": 0.2,
            "node": 4,
            "pairs": [
             4,
             20
            ]
           },
           {
            "edges_x": -0.44566251864902384,
            "edges_y": 0.20097644829913697,
            "ew": 0.2,
            "node": 20,
            "pairs": [
             4,
             20
            ]
           },
           {
            "edges_x": 0.2522728025686103,
            "edges_y": 0.3916408975403993,
            "ew": 0.4,
            "node": 5,
            "pairs": [
             5,
             20
            ]
           },
           {
            "edges_x": -0.44566251864902384,
            "edges_y": 0.20097644829913697,
            "ew": 0.4,
            "node": 20,
            "pairs": [
             5,
             20
            ]
           },
           {
            "edges_x": -0.1980823412972802,
            "edges_y": 0.7999934324827951,
            "ew": 0.3,
            "node": 6,
            "pairs": [
             6,
             20
            ]
           },
           {
            "edges_x": -0.44566251864902384,
            "edges_y": 0.20097644829913697,
            "ew": 0.3,
            "node": 20,
            "pairs": [
             6,
             20
            ]
           },
           {
            "edges_x": -1,
            "edges_y": 0.29518146300863446,
            "ew": 0.3,
            "node": 7,
            "pairs": [
             7,
             20
            ]
           },
           {
            "edges_x": -0.44566251864902384,
            "edges_y": 0.20097644829913697,
            "ew": 0.3,
            "node": 20,
            "pairs": [
             7,
             20
            ]
           },
           {
            "edges_x": -0.44858591277849846,
            "edges_y": 0.6039527961373052,
            "ew": 0.4,
            "node": 8,
            "pairs": [
             8,
             20
            ]
           },
           {
            "edges_x": -0.44566251864902384,
            "edges_y": 0.20097644829913697,
            "ew": 0.4,
            "node": 20,
            "pairs": [
             8,
             20
            ]
           },
           {
            "edges_x": 0.6547883882579786,
            "edges_y": -0.6954319224731116,
            "ew": 0.3,
            "node": 9,
            "pairs": [
             9,
             20
            ]
           },
           {
            "edges_x": -0.44566251864902384,
            "edges_y": 0.20097644829913697,
            "ew": 0.3,
            "node": 20,
            "pairs": [
             9,
             20
            ]
           },
           {
            "edges_x": -0.03852363075649512,
            "edges_y": 0.1849688125345701,
            "ew": 0.4,
            "node": 10,
            "pairs": [
             10,
             20
            ]
           },
           {
            "edges_x": -0.44566251864902384,
            "edges_y": 0.20097644829913697,
            "ew": 0.4,
            "node": 20,
            "pairs": [
             10,
             20
            ]
           },
           {
            "edges_x": 0.8680005755540903,
            "edges_y": 0.5737013908814543,
            "ew": 0.1,
            "node": 11,
            "pairs": [
             11,
             20
            ]
           },
           {
            "edges_x": -0.44566251864902384,
            "edges_y": 0.20097644829913697,
            "ew": 0.1,
            "node": 20,
            "pairs": [
             11,
             20
            ]
           },
           {
            "edges_x": -0.8694685758632154,
            "edges_y": -0.43602839730602416,
            "ew": 0.2,
            "node": 12,
            "pairs": [
             12,
             20
            ]
           },
           {
            "edges_x": -0.44566251864902384,
            "edges_y": 0.20097644829913697,
            "ew": 0.2,
            "node": 20,
            "pairs": [
             12,
             20
            ]
           },
           {
            "edges_x": -0.660709085585113,
            "edges_y": -0.9422863334314706,
            "ew": 0.3,
            "node": 13,
            "pairs": [
             13,
             20
            ]
           },
           {
            "edges_x": -0.44566251864902384,
            "edges_y": 0.20097644829913697,
            "ew": 0.3,
            "node": 20,
            "pairs": [
             13,
             20
            ]
           },
           {
            "edges_x": -0.04832201321308849,
            "edges_y": -1,
            "ew": 0.3,
            "node": 14,
            "pairs": [
             14,
             20
            ]
           },
           {
            "edges_x": -0.44566251864902384,
            "edges_y": 0.20097644829913697,
            "ew": 0.3,
            "node": 20,
            "pairs": [
             14,
             20
            ]
           },
           {
            "edges_x": 0.24261125746824797,
            "edges_y": -0.8600530543103382,
            "ew": 0.4,
            "node": 15,
            "pairs": [
             15,
             20
            ]
           },
           {
            "edges_x": -0.44566251864902384,
            "edges_y": 0.20097644829913697,
            "ew": 0.4,
            "node": 20,
            "pairs": [
             15,
             20
            ]
           },
           {
            "edges_x": -0.2673929674735649,
            "edges_y": -0.6459839094853618,
            "ew": 0.3,
            "node": 16,
            "pairs": [
             16,
             20
            ]
           },
           {
            "edges_x": -0.44566251864902384,
            "edges_y": 0.20097644829913697,
            "ew": 0.3,
            "node": 20,
            "pairs": [
             16,
             20
            ]
           },
           {
            "edges_x": 0.3494035214598592,
            "edges_y": -0.4162075392369292,
            "ew": 0.4,
            "node": 17,
            "pairs": [
             17,
             20
            ]
           },
           {
            "edges_x": -0.44566251864902384,
            "edges_y": 0.20097644829913697,
            "ew": 0.4,
            "node": 20,
            "pairs": [
             17,
             20
            ]
           },
           {
            "edges_x": -0.41183357850764957,
            "edges_y": -0.2064028052512754,
            "ew": 0.4,
            "node": 18,
            "pairs": [
             18,
             20
            ]
           },
           {
            "edges_x": -0.44566251864902384,
            "edges_y": 0.20097644829913697,
            "ew": 0.4,
            "node": 20,
            "pairs": [
             18,
             20
            ]
           },
           {
            "edges_x": 0.6318714906595237,
            "edges_y": -0.11574701622519934,
            "ew": 0.2,
            "node": 19,
            "pairs": [
             19,
             20
            ]
           },
           {
            "edges_x": -0.44566251864902384,
            "edges_y": 0.20097644829913697,
            "ew": 0.2,
            "node": 20,
            "pairs": [
             19,
             20
            ]
           }
          ]
         },
         "encoding": {
          "detail": {
           "field": "pairs",
           "type": "ordinal"
          },
          "x": {
           "axis": null,
           "field": "edges_x",
           "type": "quantitative"
          },
          "y": {
           "axis": null,
           "field": "edges_y",
           "type": "quantitative"
          }
         },
         "height": 400,
         "mark": {
          "clip": false,
          "color": "black",
          "size": 0.5,
          "type": "line"
         },
         "width": 600
        },
        {
         "data": {
          "values": [
           {
            "centrality": 0.00524887717870174,
            "keywords": "x1",
            "node_x": 0.029535108089014273,
            "node_y": -0.30481787543229133
           },
           {
            "centrality": 0.03394853817970433,
            "keywords": "x2",
            "node_x": 0.42908003604201106,
            "node_y": 0.8207304747211934
           },
           {
            "centrality": 0.06345889232886137,
            "keywords": "x3",
            "node_x": 1,
            "node_y": -0.0034040002942942182
           },
           {
            "centrality": 0.246836548384536,
            "keywords": "x4",
            "node_x": 0.09482901550099498,
            "node_y": 1
           },
           {
            "centrality": 0,
            "keywords": "x5",
            "node_x": 0.2522728025686103,
            "node_y": 0.3916408975403993
           },
           {
            "centrality": 0,
            "keywords": "x6",
            "node_x": -0.1980823412972802,
            "node_y": 0.7999934324827951
           },
           {
            "centrality": 0.05292970989565417,
            "keywords": "x7",
            "node_x": -1,
            "node_y": 0.29518146300863446
           },
           {
            "centrality": 0,
            "keywords": "x8",
            "node_x": -0.44858591277849846,
            "node_y": 0.6039527961373052
           },
           {
            "centrality": 0.0036244457297088884,
            "keywords": "x9",
            "node_x": 0.6547883882579786,
            "node_y": -0.6954319224731116
           },
           {
            "centrality": 0,
            "keywords": "x10",
            "node_x": -0.03852363075649512,
            "node_y": 0.1849688125345701
           },
           {
            "centrality": 0.01028838435959179,
            "keywords": "x11",
            "node_x": 0.8680005755540903,
            "node_y": 0.5737013908814543
           },
           {
            "centrality": 0.24601643626411426,
            "keywords": "x12",
            "node_x": -0.8694685758632154,
            "node_y": -0.43602839730602416
           },
           {
            "centrality": 0.06659606112650489,
            "keywords": "x13",
            "node_x": -0.660709085585113,
            "node_y": -0.9422863334314706
           },
           {
            "centrality": 0,
            "keywords": "x14",
            "node_x": -0.04832201321308849,
            "node_y": -1
           },
           {
            "centrality": 0.004083570750237416,
            "keywords": "x15",
            "node_x": 0.24261125746824797,
            "node_y": -0.8600530543103382
           },
           {
            "centrality": 0.0016244314489928524,
            "keywords": "x16",
            "node_x": -0.2673929674735649,
            "node_y": -0.6459839094853618
           },
           {
            "centrality": 0.03125389307019854,
            "keywords": "x17",
            "node_x": 0.3494035214598592,
            "node_y": -0.4162075392369292
           },
           {
            "centrality": 0,
            "keywords": "x18",
            "node_x": -0.41183357850764957,
            "node_y": -0.2064028052512754
           },
           {
            "centrality": 0.0010346378767431398,
            "keywords": "x19",
            "node_x": 0.6318714906595237,
            "node_y": -0.11574701622519934
           },
           {
            "centrality": 0.010516319288249112,
            "keywords": "x20",
            "node_x": -0.44566251864902384,
            "node_y": 0.20097644829913697
           }
          ]
         },
         "encoding": {
          "color": {
           "field": "centrality",
           "scale": {
            "scheme": "blues"
           },
           "type": "quantitative"
          },
          "size": {
           "legend": null,
           "value": 200
          },
          "tooltip": [
           {
            "field": "keywords",
            "type": "nominal"
           }
          ],
          "x": {
           "axis": null,
           "field": "node_x",
           "type": "quantitative"
          },
          "y": {
           "axis": null,
           "field": "node_y",
           "type": "quantitative"
          }
         },
         "height": 400,
         "mark": {
          "clip": false,
          "opacity": 1,
          "type": "circle"
         },
         "selection": {
          "grid": {
           "bind": "scales",
           "type": "interval"
          }
         },
         "width": 600
        }
       ],
       "view": {
        "stroke": null
       }
      },
      "image/png": "[encoded data removed]",
      "image/svg+xml": [
       "<?xml version=\"1.0\" encoding=\"utf-8\"?>\n",
       "<!DOCTYPE svg PUBLIC \"-//W3C//DTD SVG 1.1//EN\" \"http://www.w3.org/Graphics/SVG/1.1/DTD/svg11.dtd\">\n",
       "<svg class=\"marks\" width=\"696\" height=\"426\" viewBox=\"0 0 696 426\" version=\"1.1\" xmlns=\"http://www.w3.org/2000/svg\" xmlns:xlink=\"http://www.w3.org/1999/xlink\"><defs><linearGradient id=\"gradient_0\" x1=\"0\" x2=\"0\" y1=\"1\" y2=\"0\"><stop offset=\"0\" stop-color=\"rgb(207, 225, 242)\"></stop><stop offset=\"0.08102527818871808\" stop-color=\"rgb(193, 218, 237)\"></stop><stop offset=\"0.16205055637743615\" stop-color=\"rgb(176, 210, 232)\"></stop><stop offset=\"0.24307583456615423\" stop-color=\"rgb(157, 200, 226)\"></stop><stop offset=\"0.3241011127548723\" stop-color=\"rgb(136, 189, 220)\"></stop><stop offset=\"0.40512639094359043\" stop-color=\"rgb(115, 177, 215)\"></stop><stop offset=\"0.48615166913230845\" stop-color=\"rgb(94, 165, 208)\"></stop><stop offset=\"0.5671769473210266\" stop-color=\"rgb(76, 152, 201)\"></stop><stop offset=\"0.6482022255097446\" stop-color=\"rgb(59, 138, 194)\"></stop><stop offset=\"0.7292275036984627\" stop-color=\"rgb(44, 124, 186)\"></stop><stop offset=\"0.8102527818871809\" stop-color=\"rgb(31, 109, 177)\"></stop><stop offset=\"0.8912780600758989\" stop-color=\"rgb(19, 94, 165)\"></stop><stop offset=\"0.9723033382646169\" stop-color=\"rgb(12, 79, 150)\"></stop><stop offset=\"1\" stop-color=\"rgb(10, 74, 144)\"></stop></linearGradient></defs><rect width=\"696\" height=\"426\" fill=\"white\"></rect><g fill=\"none\" stroke-miterlimit=\"10\" transform=\"translate(13,13)\"><g class=\"mark-group role-frame root\" role=\"graphics-object\" aria-roledescription=\"group mark container\"><g transform=\"translate(0,0)\"><path class=\"background\" aria-hidden=\"true\" d=\"M0,0h600v400h-600Z\"></path><g><g class=\"mark-group role-scope layer_0_pathgroup\" role=\"graphics-object\" aria-roledescription=\"group mark container\"><g transform=\"translate(0,0)\"><path class=\"background\" aria-hidden=\"true\" d=\"M0,0h600v400h-600Z\"></path><g><g class=\"mark-line role-mark layer_0_marks\" role=\"graphics-object\" aria-roledescription=\"line mark container\" pointer-events=\"none\"><path aria-label=\"edges_x: 0.029535108089; edges_y: -0.304817875432; pairs: 1,2\" role=\"graphics-symbol\" aria-roledescription=\"line mark\" d=\"M308.86053242670425,260.96357508645826L428.7240108126033,35.85390505576132\" stroke=\"black\" stroke-width=\"0.5\"></path></g></g><path class=\"foreground\" aria-hidden=\"true\" d=\"\" display=\"none\"></path></g><g transform=\"translate(0,0)\"><path class=\"background\" aria-hidden=\"true\" d=\"M0,0h600v400h-600Z\"></path><g><g class=\"mark-line role-mark layer_0_marks\" role=\"graphics-object\" aria-roledescription=\"line mark container\" pointer-events=\"none\"><path aria-label=\"edges_x: 0.029535108089; edges_y: -0.304817875432; pairs: 1,3\" role=\"graphics-symbol\" aria-roledescription=\"line mark\" d=\"M308.86053242670425,260.96357508645826L600,200.68080005885884\" stroke=\"black\" stroke-width=\"0.5\"></path></g></g><path class=\"foreground\" aria-hidden=\"true\" d=\"\" display=\"none\"></path></g><g transform=\"translate(0,0)\"><path class=\"background\" aria-hidden=\"true\" d=\"M0,0h600v400h-600Z\"></path><g><g class=\"mark-line role-mark layer_0_marks\" role=\"graphics-object\" aria-roledescription=\"line mark container\" pointer-events=\"none\"><path aria-label=\"edges_x: 0.429080036042; edges_y: 0.820730474721; pairs: 2,3\" role=\"graphics-symbol\" aria-roledescription=\"line mark\" d=\"M428.7240108126033,35.85390505576132L600,200.68080005885884\" stroke=\"black\" stroke-width=\"0.5\"></path></g></g><path class=\"foreground\" aria-hidden=\"true\" d=\"\" display=\"none\"></path></g><g transform=\"translate(0,0)\"><path class=\"background\" aria-hidden=\"true\" d=\"M0,0h600v400h-600Z\"></path><g><g class=\"mark-line role-mark layer_0_marks\" role=\"graphics-object\" aria-roledescription=\"line mark container\" pointer-events=\"none\"><path aria-label=\"edges_x: 0.029535108089; edges_y: -0.304817875432; pairs: 1,4\" role=\"graphics-symbol\" aria-roledescription=\"line mark\" d=\"M308.86053242670425,260.96357508645826L328.4487046502985,0\" stroke=\"black\" stroke-width=\"0.5\"></path></g></g><path class=\"foreground\" aria-hidden=\"true\" d=\"\" display=\"none\"></path></g><g transform=\"translate(0,0)\"><path class=\"background\" aria-hidden=\"true\" d=\"M0,0h600v400h-600Z\"></path><g><g class=\"mark-line role-mark layer_0_marks\" role=\"graphics-object\" aria-roledescription=\"line mark container\" pointer-events=\"none\"><path aria-label=\"edges_x: 0.094829015501; edges_y: 1; pairs: 2,4\" role=\"graphics-symbol\" aria-roledescription=\"line mark\" d=\"M328.4487046502985,0L428.7240108126033,35.85390505576132\" stroke=\"black\" stroke-width=\"0.5\"></path></g></g><path class=\"foreground\" aria-hidden=\"true\" d=\"\" display=\"none\"></path></g><g transform=\"translate(0,0)\"><path class=\"background\" aria-hidden=\"true\" d=\"M0,0h600v400h-600Z\"></path><g><g class=\"mark-line role-mark layer_0_marks\" role=\"graphics-object\" aria-roledescription=\"line mark container\" pointer-events=\"none\"><path aria-label=\"edges_x: 0.094829015501; edges_y: 1; pairs: 3,4\" role=\"graphics-symbol\" aria-roledescription=\"line mark\" d=\"M328.4487046502985,0L600,200.68080005885884\" stroke=\"black\" stroke-width=\"0.5\"></path></g></g><path class=\"foreground\" aria-hidden=\"true\" d=\"\" display=\"none\"></path></g><g transform=\"translate(0,0)\"><path class=\"background\" aria-hidden=\"true\" d=\"M0,0h600v400h-600Z\"></path><g><g class=\"mark-line role-mark layer_0_marks\" role=\"graphics-object\" aria-roledescription=\"line mark container\" pointer-events=\"none\"><path aria-label=\"edges_x: 0.029535108089; edges_y: -0.304817875432; pairs: 1,5\" role=\"graphics-symbol\" aria-roledescription=\"line mark\" d=\"M308.86053242670425,260.96357508645826L375.6818407705831,121.67182049192013\" stroke=\"black\" stroke-width=\"0.5\"></path></g></g><path class=\"foreground\" aria-hidden=\"true\" d=\"\" display=\"none\"></path></g><g transform=\"translate(0,0)\"><path class=\"background\" aria-hidden=\"true\" d=\"M0,0h600v400h-600Z\"></path><g><g class=\"mark-line role-mark layer_0_marks\" role=\"graphics-object\" aria-roledescription=\"line mark container\" pointer-events=\"none\"><path aria-label=\"edges_x: 0.252272802569; edges_y: 0.39164089754; pairs: 2,5\" role=\"graphics-symbol\" aria-roledescription=\"line mark\" d=\"M375.6818407705831,121.67182049192013L428.7240108126033,35.85390505576132\" stroke=\"black\" stroke-width=\"0.5\"></path></g></g><path class=\"foreground\" aria-hidden=\"true\" d=\"\" display=\"none\"></path></g><g transform=\"translate(0,0)\"><path class=\"background\" aria-hidden=\"true\" d=\"M0,0h600v400h-600Z\"></path><g><g class=\"mark-line role-mark layer_0_marks\" role=\"graphics-object\" aria-roledescription=\"line mark container\" pointer-events=\"none\"><path aria-label=\"edges_x: 0.252272802569; edges_y: 0.39164089754; pairs: 3,5\" role=\"graphics-symbol\" aria-roledescription=\"line mark\" d=\"M375.6818407705831,121.67182049192013L600,200.68080005885884\" stroke=\"black\" stroke-width=\"0.5\"></path></g></g><path class=\"foreground\" aria-hidden=\"true\" d=\"\" display=\"none\"></path></g><g transform=\"translate(0,0)\"><path class=\"background\" aria-hidden=\"true\" d=\"M0,0h600v400h-600Z\"></path><g><g class=\"mark-line role-mark layer_0_marks\" role=\"graphics-object\" aria-roledescription=\"line mark container\" pointer-events=\"none\"><path aria-label=\"edges_x: 0.094829015501; edges_y: 1; pairs: 4,5\" role=\"graphics-symbol\" aria-roledescription=\"line mark\" d=\"M328.4487046502985,0L375.6818407705831,121.67182049192013\" stroke=\"black\" stroke-width=\"0.5\"></path></g></g><path class=\"foreground\" aria-hidden=\"true\" d=\"\" display=\"none\"></path></g><g transform=\"translate(0,0)\"><path class=\"background\" aria-hidden=\"true\" d=\"M0,0h600v400h-600Z\"></path><g><g class=\"mark-line role-mark layer_0_marks\" role=\"graphics-object\" aria-roledescription=\"line mark container\" pointer-events=\"none\"><path aria-label=\"edges_x: -0.198082341297; edges_y: 0.799993432483; pairs: 1,6\" role=\"graphics-symbol\" aria-roledescription=\"line mark\" d=\"M240.57529761081594,40.00131350344098L308.86053242670425,260.96357508645826\" stroke=\"black\" stroke-width=\"0.5\"></path></g></g><path class=\"foreground\" aria-hidden=\"true\" d=\"\" display=\"none\"></path></g><g transform=\"translate(0,0)\"><path class=\"background\" aria-hidden=\"true\" d=\"M0,0h600v400h-600Z\"></path><g><g class=\"mark-line role-mark layer_0_marks\" role=\"graphics-object\" aria-roledescription=\"line mark container\" pointer-events=\"none\"><path aria-label=\"edges_x: -0.198082341297; edges_y: 0.799993432483; pairs: 2,6\" role=\"graphics-symbol\" aria-roledescription=\"line mark\" d=\"M240.57529761081594,40.00131350344098L428.7240108126033,35.85390505576132\" stroke=\"black\" stroke-width=\"0.5\"></path></g></g><path class=\"foreground\" aria-hidden=\"true\" d=\"\" display=\"none\"></path></g><g transform=\"translate(0,0)\"><path class=\"background\" aria-hidden=\"true\" d=\"M0,0h600v400h-600Z\"></path><g><g class=\"mark-line role-mark layer_0_marks\" role=\"graphics-object\" aria-roledescription=\"line mark container\" pointer-events=\"none\"><path aria-label=\"edges_x: -0.198082341297; edges_y: 0.799993432483; pairs: 3,6\" role=\"graphics-symbol\" aria-roledescription=\"line mark\" d=\"M240.57529761081594,40.00131350344098L600,200.68080005885884\" stroke=\"black\" stroke-width=\"0.5\"></path></g></g><path class=\"foreground\" aria-hidden=\"true\" d=\"\" display=\"none\"></path></g><g transform=\"translate(0,0)\"><path class=\"background\" aria-hidden=\"true\" d=\"M0,0h600v400h-600Z\"></path><g><g class=\"mark-line role-mark layer_0_marks\" role=\"graphics-object\" aria-roledescription=\"line mark container\" pointer-events=\"none\"><path aria-label=\"edges_x: -0.198082341297; edges_y: 0.799993432483; pairs: 4,6\" role=\"graphics-symbol\" aria-roledescription=\"line mark\" d=\"M240.57529761081594,40.00131350344098L328.4487046502985,0\" stroke=\"black\" stroke-width=\"0.5\"></path></g></g><path class=\"foreground\" aria-hidden=\"true\" d=\"\" display=\"none\"></path></g><g transform=\"translate(0,0)\"><path class=\"background\" aria-hidden=\"true\" d=\"M0,0h600v400h-600Z\"></path><g><g class=\"mark-line role-mark layer_0_marks\" role=\"graphics-object\" aria-roledescription=\"line mark container\" pointer-events=\"none\"><path aria-label=\"edges_x: -0.198082341297; edges_y: 0.799993432483; pairs: 5,6\" role=\"graphics-symbol\" aria-roledescription=\"line mark\" d=\"M240.57529761081594,40.00131350344098L375.6818407705831,121.67182049192013\" stroke=\"black\" stroke-width=\"0.5\"></path></g></g><path class=\"foreground\" aria-hidden=\"true\" d=\"\" display=\"none\"></path></g><g transform=\"translate(0,0)\"><path class=\"background\" aria-hidden=\"true\" d=\"M0,0h600v400h-600Z\"></path><g><g class=\"mark-line role-mark layer_0_marks\" role=\"graphics-object\" aria-roledescription=\"line mark container\" pointer-events=\"none\"><path aria-label=\"edges_x: -1; edges_y: 0.295181463009; pairs: 1,7\" role=\"graphics-symbol\" aria-roledescription=\"line mark\" d=\"M0,140.9637073982731L308.86053242670425,260.96357508645826\" stroke=\"black\" stroke-width=\"0.5\"></path></g></g><path class=\"foreground\" aria-hidden=\"true\" d=\"\" display=\"none\"></path></g><g transform=\"translate(0,0)\"><path class=\"background\" aria-hidden=\"true\" d=\"M0,0h600v400h-600Z\"></path><g><g class=\"mark-line role-mark layer_0_marks\" role=\"graphics-object\" aria-roledescription=\"line mark container\" pointer-events=\"none\"><path aria-label=\"edges_x: -1; edges_y: 0.295181463009; pairs: 2,7\" role=\"graphics-symbol\" aria-roledescription=\"line mark\" d=\"M0,140.9637073982731L428.7240108126033,35.85390505576132\" stroke=\"black\" stroke-width=\"0.5\"></path></g></g><path class=\"foreground\" aria-hidden=\"true\" d=\"\" display=\"none\"></path></g><g transform=\"translate(0,0)\"><path class=\"background\" aria-hidden=\"true\" d=\"M0,0h600v400h-600Z\"></path><g><g class=\"mark-line role-mark layer_0_marks\" role=\"graphics-object\" aria-roledescription=\"line mark container\" pointer-events=\"none\"><path aria-label=\"edges_x: -1; edges_y: 0.295181463009; pairs: 4,7\" role=\"graphics-symbol\" aria-roledescription=\"line mark\" d=\"M0,140.9637073982731L328.4487046502985,0\" stroke=\"black\" stroke-width=\"0.5\"></path></g></g><path class=\"foreground\" aria-hidden=\"true\" d=\"\" display=\"none\"></path></g><g transform=\"translate(0,0)\"><path class=\"background\" aria-hidden=\"true\" d=\"M0,0h600v400h-600Z\"></path><g><g class=\"mark-line role-mark layer_0_marks\" role=\"graphics-object\" aria-roledescription=\"line mark container\" pointer-events=\"none\"><path aria-label=\"edges_x: -1; edges_y: 0.295181463009; pairs: 5,7\" role=\"graphics-symbol\" aria-roledescription=\"line mark\" d=\"M0,140.9637073982731L375.6818407705831,121.67182049192013\" stroke=\"black\" stroke-width=\"0.5\"></path></g></g><path class=\"foreground\" aria-hidden=\"true\" d=\"\" display=\"none\"></path></g><g transform=\"translate(0,0)\"><path class=\"background\" aria-hidden=\"true\" d=\"M0,0h600v400h-600Z\"></path><g><g class=\"mark-line role-mark layer_0_marks\" role=\"graphics-object\" aria-roledescription=\"line mark container\" pointer-events=\"none\"><path aria-label=\"edges_x: -1; edges_y: 0.295181463009; pairs: 6,7\" role=\"graphics-symbol\" aria-roledescription=\"line mark\" d=\"M0,140.9637073982731L240.57529761081594,40.00131350344098\" stroke=\"black\" stroke-width=\"0.5\"></path></g></g><path class=\"foreground\" aria-hidden=\"true\" d=\"\" display=\"none\"></path></g><g transform=\"translate(0,0)\"><path class=\"background\" aria-hidden=\"true\" d=\"M0,0h600v400h-600Z\"></path><g><g class=\"mark-line role-mark layer_0_marks\" role=\"graphics-object\" aria-roledescription=\"line mark container\" pointer-events=\"none\"><path aria-label=\"edges_x: -0.448585912778; edges_y: 0.603952796137; pairs: 1,8\" role=\"graphics-symbol\" aria-roledescription=\"line mark\" d=\"M165.42422616645047,79.20944077253895L308.86053242670425,260.96357508645826\" stroke=\"black\" stroke-width=\"0.5\"></path></g></g><path class=\"foreground\" aria-hidden=\"true\" d=\"\" display=\"none\"></path></g><g transform=\"translate(0,0)\"><path class=\"background\" aria-hidden=\"true\" d=\"M0,0h600v400h-600Z\"></path><g><g class=\"mark-line role-mark layer_0_marks\" role=\"graphics-object\" aria-roledescription=\"line mark container\" pointer-events=\"none\"><path aria-label=\"edges_x: -0.448585912778; edges_y: 0.603952796137; pairs: 2,8\" role=\"graphics-symbol\" aria-roledescription=\"line mark\" d=\"M165.42422616645047,79.20944077253895L428.7240108126033,35.85390505576132\" stroke=\"black\" stroke-width=\"0.5\"></path></g></g><path class=\"foreground\" aria-hidden=\"true\" d=\"\" display=\"none\"></path></g><g transform=\"translate(0,0)\"><path class=\"background\" aria-hidden=\"true\" d=\"M0,0h600v400h-600Z\"></path><g><g class=\"mark-line role-mark layer_0_marks\" role=\"graphics-object\" aria-roledescription=\"line mark container\" pointer-events=\"none\"><path aria-label=\"edges_x: -0.448585912778; edges_y: 0.603952796137; pairs: 3,8\" role=\"graphics-symbol\" aria-roledescription=\"line mark\" d=\"M165.42422616645047,79.20944077253895L600,200.68080005885884\" stroke=\"black\" stroke-width=\"0.5\"></path></g></g><path class=\"foreground\" aria-hidden=\"true\" d=\"\" display=\"none\"></path></g><g transform=\"translate(0,0)\"><path class=\"background\" aria-hidden=\"true\" d=\"M0,0h600v400h-600Z\"></path><g><g class=\"mark-line role-mark layer_0_marks\" role=\"graphics-object\" aria-roledescription=\"line mark container\" pointer-events=\"none\"><path aria-label=\"edges_x: -0.448585912778; edges_y: 0.603952796137; pairs: 4,8\" role=\"graphics-symbol\" aria-roledescription=\"line mark\" d=\"M165.42422616645047,79.20944077253895L328.4487046502985,0\" stroke=\"black\" stroke-width=\"0.5\"></path></g></g><path class=\"foreground\" aria-hidden=\"true\" d=\"\" display=\"none\"></path></g><g transform=\"translate(0,0)\"><path class=\"background\" aria-hidden=\"true\" d=\"M0,0h600v400h-600Z\"></path><g><g class=\"mark-line role-mark layer_0_marks\" role=\"graphics-object\" aria-roledescription=\"line mark container\" pointer-events=\"none\"><path aria-label=\"edges_x: -0.448585912778; edges_y: 0.603952796137; pairs: 5,8\" role=\"graphics-symbol\" aria-roledescription=\"line mark\" d=\"M165.42422616645047,79.20944077253895L375.6818407705831,121.67182049192013\" stroke=\"black\" stroke-width=\"0.5\"></path></g></g><path class=\"foreground\" aria-hidden=\"true\" d=\"\" display=\"none\"></path></g><g transform=\"translate(0,0)\"><path class=\"background\" aria-hidden=\"true\" d=\"M0,0h600v400h-600Z\"></path><g><g class=\"mark-line role-mark layer_0_marks\" role=\"graphics-object\" aria-roledescription=\"line mark container\" pointer-events=\"none\"><path aria-label=\"edges_x: -0.448585912778; edges_y: 0.603952796137; pairs: 6,8\" role=\"graphics-symbol\" aria-roledescription=\"line mark\" d=\"M165.42422616645047,79.20944077253895L240.57529761081594,40.00131350344098\" stroke=\"black\" stroke-width=\"0.5\"></path></g></g><path class=\"foreground\" aria-hidden=\"true\" d=\"\" display=\"none\"></path></g><g transform=\"translate(0,0)\"><path class=\"background\" aria-hidden=\"true\" d=\"M0,0h600v400h-600Z\"></path><g><g class=\"mark-line role-mark layer_0_marks\" role=\"graphics-object\" aria-roledescription=\"line mark container\" pointer-events=\"none\"><path aria-label=\"edges_x: -1; edges_y: 0.295181463009; pairs: 7,8\" role=\"graphics-symbol\" aria-roledescription=\"line mark\" d=\"M0,140.9637073982731L165.42422616645047,79.20944077253895\" stroke=\"black\" stroke-width=\"0.5\"></path></g></g><path class=\"foreground\" aria-hidden=\"true\" d=\"\" display=\"none\"></path></g><g transform=\"translate(0,0)\"><path class=\"background\" aria-hidden=\"true\" d=\"M0,0h600v400h-600Z\"></path><g><g class=\"mark-line role-mark layer_0_marks\" role=\"graphics-object\" aria-roledescription=\"line mark container\" pointer-events=\"none\"><path aria-label=\"edges_x: 0.029535108089; edges_y: -0.304817875432; pairs: 1,9\" role=\"graphics-symbol\" aria-roledescription=\"line mark\" d=\"M308.86053242670425,260.96357508645826L496.4365164773936,339.08638449462234\" stroke=\"black\" stroke-width=\"0.5\"></path></g></g><path class=\"foreground\" aria-hidden=\"true\" d=\"\" display=\"none\"></path></g><g transform=\"translate(0,0)\"><path class=\"background\" aria-hidden=\"true\" d=\"M0,0h600v400h-600Z\"></path><g><g class=\"mark-line role-mark layer_0_marks\" role=\"graphics-object\" aria-roledescription=\"line mark container\" pointer-events=\"none\"><path aria-label=\"edges_x: 0.429080036042; edges_y: 0.820730474721; pairs: 2,9\" role=\"graphics-symbol\" aria-roledescription=\"line mark\" d=\"M428.7240108126033,35.85390505576132L496.4365164773936,339.08638449462234\" stroke=\"black\" stroke-width=\"0.5\"></path></g></g><path class=\"foreground\" aria-hidden=\"true\" d=\"\" display=\"none\"></path></g><g transform=\"translate(0,0)\"><path class=\"background\" aria-hidden=\"true\" d=\"M0,0h600v400h-600Z\"></path><g><g class=\"mark-line role-mark layer_0_marks\" role=\"graphics-object\" aria-roledescription=\"line mark container\" pointer-events=\"none\"><path aria-label=\"edges_x: 0.654788388258; edges_y: -0.695431922473; pairs: 3,9\" role=\"graphics-symbol\" aria-roledescription=\"line mark\" d=\"M496.4365164773936,339.08638449462234L600,200.68080005885884\" stroke=\"black\" stroke-width=\"0.5\"></path></g></g><path class=\"foreground\" aria-hidden=\"true\" d=\"\" display=\"none\"></path></g><g transform=\"translate(0,0)\"><path class=\"background\" aria-hidden=\"true\" d=\"M0,0h600v400h-600Z\"></path><g><g class=\"mark-line role-mark layer_0_marks\" role=\"graphics-object\" aria-roledescription=\"line mark container\" pointer-events=\"none\"><path aria-label=\"edges_x: 0.094829015501; edges_y: 1; pairs: 4,9\" role=\"graphics-symbol\" aria-roledescription=\"line mark\" d=\"M328.4487046502985,0L496.4365164773936,339.08638449462234\" stroke=\"black\" stroke-width=\"0.5\"></path></g></g><path class=\"foreground\" aria-hidden=\"true\" d=\"\" display=\"none\"></path></g><g transform=\"translate(0,0)\"><path class=\"background\" aria-hidden=\"true\" d=\"M0,0h600v400h-600Z\"></path><g><g class=\"mark-line role-mark layer_0_marks\" role=\"graphics-object\" aria-roledescription=\"line mark container\" pointer-events=\"none\"><path aria-label=\"edges_x: 0.252272802569; edges_y: 0.39164089754; pairs: 5,9\" role=\"graphics-symbol\" aria-roledescription=\"line mark\" d=\"M375.6818407705831,121.67182049192013L496.4365164773936,339.08638449462234\" stroke=\"black\" stroke-width=\"0.5\"></path></g></g><path class=\"foreground\" aria-hidden=\"true\" d=\"\" display=\"none\"></path></g><g transform=\"translate(0,0)\"><path class=\"background\" aria-hidden=\"true\" d=\"M0,0h600v400h-600Z\"></path><g><g class=\"mark-line role-mark layer_0_marks\" role=\"graphics-object\" aria-roledescription=\"line mark container\" pointer-events=\"none\"><path aria-label=\"edges_x: -0.198082341297; edges_y: 0.799993432483; pairs: 6,9\" role=\"graphics-symbol\" aria-roledescription=\"line mark\" d=\"M240.57529761081594,40.00131350344098L496.4365164773936,339.08638449462234\" stroke=\"black\" stroke-width=\"0.5\"></path></g></g><path class=\"foreground\" aria-hidden=\"true\" d=\"\" display=\"none\"></path></g><g transform=\"translate(0,0)\"><path class=\"background\" aria-hidden=\"true\" d=\"M0,0h600v400h-600Z\"></path><g><g class=\"mark-line role-mark layer_0_marks\" role=\"graphics-object\" aria-roledescription=\"line mark container\" pointer-events=\"none\"><path aria-label=\"edges_x: -0.448585912778; edges_y: 0.603952796137; pairs: 8,9\" role=\"graphics-symbol\" aria-roledescription=\"line mark\" d=\"M165.42422616645047,79.20944077253895L496.4365164773936,339.08638449462234\" stroke=\"black\" stroke-width=\"0.5\"></path></g></g><path class=\"foreground\" aria-hidden=\"true\" d=\"\" display=\"none\"></path></g><g transform=\"translate(0,0)\"><path class=\"background\" aria-hidden=\"true\" d=\"M0,0h600v400h-600Z\"></path><g><g class=\"mark-line role-mark layer_0_marks\" role=\"graphics-object\" aria-roledescription=\"line mark container\" pointer-events=\"none\"><path aria-label=\"edges_x: -0.0385236307565; edges_y: 0.184968812535; pairs: 1,10\" role=\"graphics-symbol\" aria-roledescription=\"line mark\" d=\"M288.44291077305144,163.006237493086L308.86053242670425,260.96357508645826\" stroke=\"black\" stroke-width=\"0.5\"></path></g></g><path class=\"foreground\" aria-hidden=\"true\" d=\"\" display=\"none\"></path></g><g transform=\"translate(0,0)\"><path class=\"background\" aria-hidden=\"true\" d=\"M0,0h600v400h-600Z\"></path><g><g class=\"mark-line role-mark layer_0_marks\" role=\"graphics-object\" aria-roledescription=\"line mark container\" pointer-events=\"none\"><path aria-label=\"edges_x: -0.0385236307565; edges_y: 0.184968812535; pairs: 2,10\" role=\"graphics-symbol\" aria-roledescription=\"line mark\" d=\"M288.44291077305144,163.006237493086L428.7240108126033,35.85390505576132\" stroke=\"black\" stroke-width=\"0.5\"></path></g></g><path class=\"foreground\" aria-hidden=\"true\" d=\"\" display=\"none\"></path></g><g transform=\"translate(0,0)\"><path class=\"background\" aria-hidden=\"true\" d=\"M0,0h600v400h-600Z\"></path><g><g class=\"mark-line role-mark layer_0_marks\" role=\"graphics-object\" aria-roledescription=\"line mark container\" pointer-events=\"none\"><path aria-label=\"edges_x: -0.0385236307565; edges_y: 0.184968812535; pairs: 3,10\" role=\"graphics-symbol\" aria-roledescription=\"line mark\" d=\"M288.44291077305144,163.006237493086L600,200.68080005885884\" stroke=\"black\" stroke-width=\"0.5\"></path></g></g><path class=\"foreground\" aria-hidden=\"true\" d=\"\" display=\"none\"></path></g><g transform=\"translate(0,0)\"><path class=\"background\" aria-hidden=\"true\" d=\"M0,0h600v400h-600Z\"></path><g><g class=\"mark-line role-mark layer_0_marks\" role=\"graphics-object\" aria-roledescription=\"line mark container\" pointer-events=\"none\"><path aria-label=\"edges_x: -0.0385236307565; edges_y: 0.184968812535; pairs: 4,10\" role=\"graphics-symbol\" aria-roledescription=\"line mark\" d=\"M288.44291077305144,163.006237493086L328.4487046502985,0\" stroke=\"black\" stroke-width=\"0.5\"></path></g></g><path class=\"foreground\" aria-hidden=\"true\" d=\"\" display=\"none\"></path></g><g transform=\"translate(0,0)\"><path class=\"background\" aria-hidden=\"true\" d=\"M0,0h600v400h-600Z\"></path><g><g class=\"mark-line role-mark layer_0_marks\" role=\"graphics-object\" aria-roledescription=\"line mark container\" pointer-events=\"none\"><path aria-label=\"edges_x: -0.0385236307565; edges_y: 0.184968812535; pairs: 5,10\" role=\"graphics-symbol\" aria-roledescription=\"line mark\" d=\"M288.44291077305144,163.006237493086L375.6818407705831,121.67182049192013\" stroke=\"black\" stroke-width=\"0.5\"></path></g></g><path class=\"foreground\" aria-hidden=\"true\" d=\"\" display=\"none\"></path></g><g transform=\"translate(0,0)\"><path class=\"background\" aria-hidden=\"true\" d=\"M0,0h600v400h-600Z\"></path><g><g class=\"mark-line role-mark layer_0_marks\" role=\"graphics-object\" aria-roledescription=\"line mark container\" pointer-events=\"none\"><path aria-label=\"edges_x: -0.198082341297; edges_y: 0.799993432483; pairs: 6,10\" role=\"graphics-symbol\" aria-roledescription=\"line mark\" d=\"M240.57529761081594,40.00131350344098L288.44291077305144,163.006237493086\" stroke=\"black\" stroke-width=\"0.5\"></path></g></g><path class=\"foreground\" aria-hidden=\"true\" d=\"\" display=\"none\"></path></g><g transform=\"translate(0,0)\"><path class=\"background\" aria-hidden=\"true\" d=\"M0,0h600v400h-600Z\"></path><g><g class=\"mark-line role-mark layer_0_marks\" role=\"graphics-object\" aria-roledescription=\"line mark container\" pointer-events=\"none\"><path aria-label=\"edges_x: -1; edges_y: 0.295181463009; pairs: 7,10\" role=\"graphics-symbol\" aria-roledescription=\"line mark\" d=\"M0,140.9637073982731L288.44291077305144,163.006237493086\" stroke=\"black\" stroke-width=\"0.5\"></path></g></g><path class=\"foreground\" aria-hidden=\"true\" d=\"\" display=\"none\"></path></g><g transform=\"translate(0,0)\"><path class=\"background\" aria-hidden=\"true\" d=\"M0,0h600v400h-600Z\"></path><g><g class=\"mark-line role-mark layer_0_marks\" role=\"graphics-object\" aria-roledescription=\"line mark container\" pointer-events=\"none\"><path aria-label=\"edges_x: -0.448585912778; edges_y: 0.603952796137; pairs: 8,10\" role=\"graphics-symbol\" aria-roledescription=\"line mark\" d=\"M165.42422616645047,79.20944077253895L288.44291077305144,163.006237493086\" stroke=\"black\" stroke-width=\"0.5\"></path></g></g><path class=\"foreground\" aria-hidden=\"true\" d=\"\" display=\"none\"></path></g><g transform=\"translate(0,0)\"><path class=\"background\" aria-hidden=\"true\" d=\"M0,0h600v400h-600Z\"></path><g><g class=\"mark-line role-mark layer_0_marks\" role=\"graphics-object\" aria-roledescription=\"line mark container\" pointer-events=\"none\"><path aria-label=\"edges_x: -0.0385236307565; edges_y: 0.184968812535; pairs: 9,10\" role=\"graphics-symbol\" aria-roledescription=\"line mark\" d=\"M288.44291077305144,163.006237493086L496.4365164773936,339.08638449462234\" stroke=\"black\" stroke-width=\"0.5\"></path></g></g><path class=\"foreground\" aria-hidden=\"true\" d=\"\" display=\"none\"></path></g><g transform=\"translate(0,0)\"><path class=\"background\" aria-hidden=\"true\" d=\"M0,0h600v400h-600Z\"></path><g><g class=\"mark-line role-mark layer_0_marks\" role=\"graphics-object\" aria-roledescription=\"line mark container\" pointer-events=\"none\"><path aria-label=\"edges_x: 0.029535108089; edges_y: -0.304817875432; pairs: 1,11\" role=\"graphics-symbol\" aria-roledescription=\"line mark\" d=\"M308.86053242670425,260.96357508645826L560.400172666227,85.25972182370913\" stroke=\"black\" stroke-width=\"0.5\"></path></g></g><path class=\"foreground\" aria-hidden=\"true\" d=\"\" display=\"none\"></path></g><g transform=\"translate(0,0)\"><path class=\"background\" aria-hidden=\"true\" d=\"M0,0h600v400h-600Z\"></path><g><g class=\"mark-line role-mark layer_0_marks\" role=\"graphics-object\" aria-roledescription=\"line mark container\" pointer-events=\"none\"><path aria-label=\"edges_x: 0.429080036042; edges_y: 0.820730474721; pairs: 2,11\" role=\"graphics-symbol\" aria-roledescription=\"line mark\" d=\"M428.7240108126033,35.85390505576132L560.400172666227,85.25972182370913\" stroke=\"black\" stroke-width=\"0.5\"></path></g></g><path class=\"foreground\" aria-hidden=\"true\" d=\"\" display=\"none\"></path></g><g transform=\"translate(0,0)\"><path class=\"background\" aria-hidden=\"true\" d=\"M0,0h600v400h-600Z\"></path><g><g class=\"mark-line role-mark layer_0_marks\" role=\"graphics-object\" aria-roledescription=\"line mark container\" pointer-events=\"none\"><path aria-label=\"edges_x: 0.868000575554; edges_y: 0.573701390881; pairs: 3,11\" role=\"graphics-symbol\" aria-roledescription=\"line mark\" d=\"M560.400172666227,85.25972182370913L600,200.68080005885884\" stroke=\"black\" stroke-width=\"0.5\"></path></g></g><path class=\"foreground\" aria-hidden=\"true\" d=\"\" display=\"none\"></path></g><g transform=\"translate(0,0)\"><path class=\"background\" aria-hidden=\"true\" d=\"M0,0h600v400h-600Z\"></path><g><g class=\"mark-line role-mark layer_0_marks\" role=\"graphics-object\" aria-roledescription=\"line mark container\" pointer-events=\"none\"><path aria-label=\"edges_x: 0.094829015501; edges_y: 1; pairs: 4,11\" role=\"graphics-symbol\" aria-roledescription=\"line mark\" d=\"M328.4487046502985,0L560.400172666227,85.25972182370913\" stroke=\"black\" stroke-width=\"0.5\"></path></g></g><path class=\"foreground\" aria-hidden=\"true\" d=\"\" display=\"none\"></path></g><g transform=\"translate(0,0)\"><path class=\"background\" aria-hidden=\"true\" d=\"M0,0h600v400h-600Z\"></path><g><g class=\"mark-line role-mark layer_0_marks\" role=\"graphics-object\" aria-roledescription=\"line mark container\" pointer-events=\"none\"><path aria-label=\"edges_x: 0.252272802569; edges_y: 0.39164089754; pairs: 5,11\" role=\"graphics-symbol\" aria-roledescription=\"line mark\" d=\"M375.6818407705831,121.67182049192013L560.400172666227,85.25972182370913\" stroke=\"black\" stroke-width=\"0.5\"></path></g></g><path class=\"foreground\" aria-hidden=\"true\" d=\"\" display=\"none\"></path></g><g transform=\"translate(0,0)\"><path class=\"background\" aria-hidden=\"true\" d=\"M0,0h600v400h-600Z\"></path><g><g class=\"mark-line role-mark layer_0_marks\" role=\"graphics-object\" aria-roledescription=\"line mark container\" pointer-events=\"none\"><path aria-label=\"edges_x: -0.198082341297; edges_y: 0.799993432483; pairs: 6,11\" role=\"graphics-symbol\" aria-roledescription=\"line mark\" d=\"M240.57529761081594,40.00131350344098L560.400172666227,85.25972182370913\" stroke=\"black\" stroke-width=\"0.5\"></path></g></g><path class=\"foreground\" aria-hidden=\"true\" d=\"\" display=\"none\"></path></g><g transform=\"translate(0,0)\"><path class=\"background\" aria-hidden=\"true\" d=\"M0,0h600v400h-600Z\"></path><g><g class=\"mark-line role-mark layer_0_marks\" role=\"graphics-object\" aria-roledescription=\"line mark container\" pointer-events=\"none\"><path aria-label=\"edges_x: -0.448585912778; edges_y: 0.603952796137; pairs: 8,11\" role=\"graphics-symbol\" aria-roledescription=\"line mark\" d=\"M165.42422616645047,79.20944077253895L560.400172666227,85.25972182370913\" stroke=\"black\" stroke-width=\"0.5\"></path></g></g><path class=\"foreground\" aria-hidden=\"true\" d=\"\" display=\"none\"></path></g><g transform=\"translate(0,0)\"><path class=\"background\" aria-hidden=\"true\" d=\"M0,0h600v400h-600Z\"></path><g><g class=\"mark-line role-mark layer_0_marks\" role=\"graphics-object\" aria-roledescription=\"line mark container\" pointer-events=\"none\"><path aria-label=\"edges_x: 0.654788388258; edges_y: -0.695431922473; pairs: 9,11\" role=\"graphics-symbol\" aria-roledescription=\"line mark\" d=\"M496.4365164773936,339.08638449462234L560.400172666227,85.25972182370913\" stroke=\"black\" stroke-width=\"0.5\"></path></g></g><path class=\"foreground\" aria-hidden=\"true\" d=\"\" display=\"none\"></path></g><g transform=\"translate(0,0)\"><path class=\"background\" aria-hidden=\"true\" d=\"M0,0h600v400h-600Z\"></path><g><g class=\"mark-line role-mark layer_0_marks\" role=\"graphics-object\" aria-roledescription=\"line mark container\" pointer-events=\"none\"><path aria-label=\"edges_x: -0.0385236307565; edges_y: 0.184968812535; pairs: 10,11\" role=\"graphics-symbol\" aria-roledescription=\"line mark\" d=\"M288.44291077305144,163.006237493086L560.400172666227,85.25972182370913\" stroke=\"black\" stroke-width=\"0.5\"></path></g></g><path class=\"foreground\" aria-hidden=\"true\" d=\"\" display=\"none\"></path></g><g transform=\"translate(0,0)\"><path class=\"background\" aria-hidden=\"true\" d=\"M0,0h600v400h-600Z\"></path><g><g class=\"mark-line role-mark layer_0_marks\" role=\"graphics-object\" aria-roledescription=\"line mark container\" pointer-events=\"none\"><path aria-label=\"edges_x: -0.869468575863; edges_y: -0.436028397306; pairs: 1,12\" role=\"graphics-symbol\" aria-roledescription=\"line mark\" d=\"M39.159427241035395,287.20567946120485L308.86053242670425,260.96357508645826\" stroke=\"black\" stroke-width=\"0.5\"></path></g></g><path class=\"foreground\" aria-hidden=\"true\" d=\"\" display=\"none\"></path></g><g transform=\"translate(0,0)\"><path class=\"background\" aria-hidden=\"true\" d=\"M0,0h600v400h-600Z\"></path><g><g class=\"mark-line role-mark layer_0_marks\" role=\"graphics-object\" aria-roledescription=\"line mark container\" pointer-events=\"none\"><path aria-label=\"edges_x: -0.869468575863; edges_y: -0.436028397306; pairs: 2,12\" role=\"graphics-symbol\" aria-roledescription=\"line mark\" d=\"M39.159427241035395,287.20567946120485L428.7240108126033,35.85390505576132\" stroke=\"black\" stroke-width=\"0.5\"></path></g></g><path class=\"foreground\" aria-hidden=\"true\" d=\"\" display=\"none\"></path></g><g transform=\"translate(0,0)\"><path class=\"background\" aria-hidden=\"true\" d=\"M0,0h600v400h-600Z\"></path><g><g class=\"mark-line role-mark layer_0_marks\" role=\"graphics-object\" aria-roledescription=\"line mark container\" pointer-events=\"none\"><path aria-label=\"edges_x: -0.869468575863; edges_y: -0.436028397306; pairs: 5,12\" role=\"graphics-symbol\" aria-roledescription=\"line mark\" d=\"M39.159427241035395,287.20567946120485L375.6818407705831,121.67182049192013\" stroke=\"black\" stroke-width=\"0.5\"></path></g></g><path class=\"foreground\" aria-hidden=\"true\" d=\"\" display=\"none\"></path></g><g transform=\"translate(0,0)\"><path class=\"background\" aria-hidden=\"true\" d=\"M0,0h600v400h-600Z\"></path><g><g class=\"mark-line role-mark layer_0_marks\" role=\"graphics-object\" aria-roledescription=\"line mark container\" pointer-events=\"none\"><path aria-label=\"edges_x: -0.869468575863; edges_y: -0.436028397306; pairs: 6,12\" role=\"graphics-symbol\" aria-roledescription=\"line mark\" d=\"M39.159427241035395,287.20567946120485L240.57529761081594,40.00131350344098\" stroke=\"black\" stroke-width=\"0.5\"></path></g></g><path class=\"foreground\" aria-hidden=\"true\" d=\"\" display=\"none\"></path></g><g transform=\"translate(0,0)\"><path class=\"background\" aria-hidden=\"true\" d=\"M0,0h600v400h-600Z\"></path><g><g class=\"mark-line role-mark layer_0_marks\" role=\"graphics-object\" aria-roledescription=\"line mark container\" pointer-events=\"none\"><path aria-label=\"edges_x: -1; edges_y: 0.295181463009; pairs: 7,12\" role=\"graphics-symbol\" aria-roledescription=\"line mark\" d=\"M0,140.9637073982731L39.159427241035395,287.20567946120485\" stroke=\"black\" stroke-width=\"0.5\"></path></g></g><path class=\"foreground\" aria-hidden=\"true\" d=\"\" display=\"none\"></path></g><g transform=\"translate(0,0)\"><path class=\"background\" aria-hidden=\"true\" d=\"M0,0h600v400h-600Z\"></path><g><g class=\"mark-line role-mark layer_0_marks\" role=\"graphics-object\" aria-roledescription=\"line mark container\" pointer-events=\"none\"><path aria-label=\"edges_x: -0.869468575863; edges_y: -0.436028397306; pairs: 8,12\" role=\"graphics-symbol\" aria-roledescription=\"line mark\" d=\"M39.159427241035395,287.20567946120485L165.42422616645047,79.20944077253895\" stroke=\"black\" stroke-width=\"0.5\"></path></g></g><path class=\"foreground\" aria-hidden=\"true\" d=\"\" display=\"none\"></path></g><g transform=\"translate(0,0)\"><path class=\"background\" aria-hidden=\"true\" d=\"M0,0h600v400h-600Z\"></path><g><g class=\"mark-line role-mark layer_0_marks\" role=\"graphics-object\" aria-roledescription=\"line mark container\" pointer-events=\"none\"><path aria-label=\"edges_x: -0.869468575863; edges_y: -0.436028397306; pairs: 9,12\" role=\"graphics-symbol\" aria-roledescription=\"line mark\" d=\"M39.159427241035395,287.20567946120485L496.4365164773936,339.08638449462234\" stroke=\"black\" stroke-width=\"0.5\"></path></g></g><path class=\"foreground\" aria-hidden=\"true\" d=\"\" display=\"none\"></path></g><g transform=\"translate(0,0)\"><path class=\"background\" aria-hidden=\"true\" d=\"M0,0h600v400h-600Z\"></path><g><g class=\"mark-line role-mark layer_0_marks\" role=\"graphics-object\" aria-roledescription=\"line mark container\" pointer-events=\"none\"><path aria-label=\"edges_x: -0.869468575863; edges_y: -0.436028397306; pairs: 10,12\" role=\"graphics-symbol\" aria-roledescription=\"line mark\" d=\"M39.159427241035395,287.20567946120485L288.44291077305144,163.006237493086\" stroke=\"black\" stroke-width=\"0.5\"></path></g></g><path class=\"foreground\" aria-hidden=\"true\" d=\"\" display=\"none\"></path></g><g transform=\"translate(0,0)\"><path class=\"background\" aria-hidden=\"true\" d=\"M0,0h600v400h-600Z\"></path><g><g class=\"mark-line role-mark layer_0_marks\" role=\"graphics-object\" aria-roledescription=\"line mark container\" pointer-events=\"none\"><path aria-label=\"edges_x: -0.660709085585; edges_y: -0.942286333431; pairs: 1,13\" role=\"graphics-symbol\" aria-roledescription=\"line mark\" d=\"M101.7872743244661,388.45726668629413L308.86053242670425,260.96357508645826\" stroke=\"black\" stroke-width=\"0.5\"></path></g></g><path class=\"foreground\" aria-hidden=\"true\" d=\"\" display=\"none\"></path></g><g transform=\"translate(0,0)\"><path class=\"background\" aria-hidden=\"true\" d=\"M0,0h600v400h-600Z\"></path><g><g class=\"mark-line role-mark layer_0_marks\" role=\"graphics-object\" aria-roledescription=\"line mark container\" pointer-events=\"none\"><path aria-label=\"edges_x: -0.660709085585; edges_y: -0.942286333431; pairs: 4,13\" role=\"graphics-symbol\" aria-roledescription=\"line mark\" d=\"M101.7872743244661,388.45726668629413L328.4487046502985,0\" stroke=\"black\" stroke-width=\"0.5\"></path></g></g><path class=\"foreground\" aria-hidden=\"true\" d=\"\" display=\"none\"></path></g><g transform=\"translate(0,0)\"><path class=\"background\" aria-hidden=\"true\" d=\"M0,0h600v400h-600Z\"></path><g><g class=\"mark-line role-mark layer_0_marks\" role=\"graphics-object\" aria-roledescription=\"line mark container\" pointer-events=\"none\"><path aria-label=\"edges_x: -0.660709085585; edges_y: -0.942286333431; pairs: 5,13\" role=\"graphics-symbol\" aria-roledescription=\"line mark\" d=\"M101.7872743244661,388.45726668629413L375.6818407705831,121.67182049192013\" stroke=\"black\" stroke-width=\"0.5\"></path></g></g><path class=\"foreground\" aria-hidden=\"true\" d=\"\" display=\"none\"></path></g><g transform=\"translate(0,0)\"><path class=\"background\" aria-hidden=\"true\" d=\"M0,0h600v400h-600Z\"></path><g><g class=\"mark-line role-mark layer_0_marks\" role=\"graphics-object\" aria-roledescription=\"line mark container\" pointer-events=\"none\"><path aria-label=\"edges_x: -0.660709085585; edges_y: -0.942286333431; pairs: 6,13\" role=\"graphics-symbol\" aria-roledescription=\"line mark\" d=\"M101.7872743244661,388.45726668629413L240.57529761081594,40.00131350344098\" stroke=\"black\" stroke-width=\"0.5\"></path></g></g><path class=\"foreground\" aria-hidden=\"true\" d=\"\" display=\"none\"></path></g><g transform=\"translate(0,0)\"><path class=\"background\" aria-hidden=\"true\" d=\"M0,0h600v400h-600Z\"></path><g><g class=\"mark-line role-mark layer_0_marks\" role=\"graphics-object\" aria-roledescription=\"line mark container\" pointer-events=\"none\"><path aria-label=\"edges_x: -1; edges_y: 0.295181463009; pairs: 7,13\" role=\"graphics-symbol\" aria-roledescription=\"line mark\" d=\"M0,140.9637073982731L101.7872743244661,388.45726668629413\" stroke=\"black\" stroke-width=\"0.5\"></path></g></g><path class=\"foreground\" aria-hidden=\"true\" d=\"\" display=\"none\"></path></g><g transform=\"translate(0,0)\"><path class=\"background\" aria-hidden=\"true\" d=\"M0,0h600v400h-600Z\"></path><g><g class=\"mark-line role-mark layer_0_marks\" role=\"graphics-object\" aria-roledescription=\"line mark container\" pointer-events=\"none\"><path aria-label=\"edges_x: -0.660709085585; edges_y: -0.942286333431; pairs: 8,13\" role=\"graphics-symbol\" aria-roledescription=\"line mark\" d=\"M101.7872743244661,388.45726668629413L165.42422616645047,79.20944077253895\" stroke=\"black\" stroke-width=\"0.5\"></path></g></g><path class=\"foreground\" aria-hidden=\"true\" d=\"\" display=\"none\"></path></g><g transform=\"translate(0,0)\"><path class=\"background\" aria-hidden=\"true\" d=\"M0,0h600v400h-600Z\"></path><g><g class=\"mark-line role-mark layer_0_marks\" role=\"graphics-object\" aria-roledescription=\"line mark container\" pointer-events=\"none\"><path aria-label=\"edges_x: -0.660709085585; edges_y: -0.942286333431; pairs: 9,13\" role=\"graphics-symbol\" aria-roledescription=\"line mark\" d=\"M101.7872743244661,388.45726668629413L496.4365164773936,339.08638449462234\" stroke=\"black\" stroke-width=\"0.5\"></path></g></g><path class=\"foreground\" aria-hidden=\"true\" d=\"\" display=\"none\"></path></g><g transform=\"translate(0,0)\"><path class=\"background\" aria-hidden=\"true\" d=\"M0,0h600v400h-600Z\"></path><g><g class=\"mark-line role-mark layer_0_marks\" role=\"graphics-object\" aria-roledescription=\"line mark container\" pointer-events=\"none\"><path aria-label=\"edges_x: -0.660709085585; edges_y: -0.942286333431; pairs: 10,13\" role=\"graphics-symbol\" aria-roledescription=\"line mark\" d=\"M101.7872743244661,388.45726668629413L288.44291077305144,163.006237493086\" stroke=\"black\" stroke-width=\"0.5\"></path></g></g><path class=\"foreground\" aria-hidden=\"true\" d=\"\" display=\"none\"></path></g><g transform=\"translate(0,0)\"><path class=\"background\" aria-hidden=\"true\" d=\"M0,0h600v400h-600Z\"></path><g><g class=\"mark-line role-mark layer_0_marks\" role=\"graphics-object\" aria-roledescription=\"line mark container\" pointer-events=\"none\"><path aria-label=\"edges_x: -0.869468575863; edges_y: -0.436028397306; pairs: 12,13\" role=\"graphics-symbol\" aria-roledescription=\"line mark\" d=\"M39.159427241035395,287.20567946120485L101.7872743244661,388.45726668629413\" stroke=\"black\" stroke-width=\"0.5\"></path></g></g><path class=\"foreground\" aria-hidden=\"true\" d=\"\" display=\"none\"></path></g><g transform=\"translate(0,0)\"><path class=\"background\" aria-hidden=\"true\" d=\"M0,0h600v400h-600Z\"></path><g><g class=\"mark-line role-mark layer_0_marks\" role=\"graphics-object\" aria-roledescription=\"line mark container\" pointer-events=\"none\"><path aria-label=\"edges_x: -0.0483220132131; edges_y: -1; pairs: 1,14\" role=\"graphics-symbol\" aria-roledescription=\"line mark\" d=\"M285.50339603607347,400L308.86053242670425,260.96357508645826\" stroke=\"black\" stroke-width=\"0.5\"></path></g></g><path class=\"foreground\" aria-hidden=\"true\" d=\"\" display=\"none\"></path></g><g transform=\"translate(0,0)\"><path class=\"background\" aria-hidden=\"true\" d=\"M0,0h600v400h-600Z\"></path><g><g class=\"mark-line role-mark layer_0_marks\" role=\"graphics-object\" aria-roledescription=\"line mark container\" pointer-events=\"none\"><path aria-label=\"edges_x: -0.0483220132131; edges_y: -1; pairs: 2,14\" role=\"graphics-symbol\" aria-roledescription=\"line mark\" d=\"M285.50339603607347,400L428.7240108126033,35.85390505576132\" stroke=\"black\" stroke-width=\"0.5\"></path></g></g><path class=\"foreground\" aria-hidden=\"true\" d=\"\" display=\"none\"></path></g><g transform=\"translate(0,0)\"><path class=\"background\" aria-hidden=\"true\" d=\"M0,0h600v400h-600Z\"></path><g><g class=\"mark-line role-mark layer_0_marks\" role=\"graphics-object\" aria-roledescription=\"line mark container\" pointer-events=\"none\"><path aria-label=\"edges_x: -0.0483220132131; edges_y: -1; pairs: 3,14\" role=\"graphics-symbol\" aria-roledescription=\"line mark\" d=\"M285.50339603607347,400L600,200.68080005885884\" stroke=\"black\" stroke-width=\"0.5\"></path></g></g><path class=\"foreground\" aria-hidden=\"true\" d=\"\" display=\"none\"></path></g><g transform=\"translate(0,0)\"><path class=\"background\" aria-hidden=\"true\" d=\"M0,0h600v400h-600Z\"></path><g><g class=\"mark-line role-mark layer_0_marks\" role=\"graphics-object\" aria-roledescription=\"line mark container\" pointer-events=\"none\"><path aria-label=\"edges_x: -0.0483220132131; edges_y: -1; pairs: 4,14\" role=\"graphics-symbol\" aria-roledescription=\"line mark\" d=\"M285.50339603607347,400L328.4487046502985,0\" stroke=\"black\" stroke-width=\"0.5\"></path></g></g><path class=\"foreground\" aria-hidden=\"true\" d=\"\" display=\"none\"></path></g><g transform=\"translate(0,0)\"><path class=\"background\" aria-hidden=\"true\" d=\"M0,0h600v400h-600Z\"></path><g><g class=\"mark-line role-mark layer_0_marks\" role=\"graphics-object\" aria-roledescription=\"line mark container\" pointer-events=\"none\"><path aria-label=\"edges_x: -0.0483220132131; edges_y: -1; pairs: 5,14\" role=\"graphics-symbol\" aria-roledescription=\"line mark\" d=\"M285.50339603607347,400L375.6818407705831,121.67182049192013\" stroke=\"black\" stroke-width=\"0.5\"></path></g></g><path class=\"foreground\" aria-hidden=\"true\" d=\"\" display=\"none\"></path></g><g transform=\"translate(0,0)\"><path class=\"background\" aria-hidden=\"true\" d=\"M0,0h600v400h-600Z\"></path><g><g class=\"mark-line role-mark layer_0_marks\" role=\"graphics-object\" aria-roledescription=\"line mark container\" pointer-events=\"none\"><path aria-label=\"edges_x: -0.198082341297; edges_y: 0.799993432483; pairs: 6,14\" role=\"graphics-symbol\" aria-roledescription=\"line mark\" d=\"M240.57529761081594,40.00131350344098L285.50339603607347,400\" stroke=\"black\" stroke-width=\"0.5\"></path></g></g><path class=\"foreground\" aria-hidden=\"true\" d=\"\" display=\"none\"></path></g><g transform=\"translate(0,0)\"><path class=\"background\" aria-hidden=\"true\" d=\"M0,0h600v400h-600Z\"></path><g><g class=\"mark-line role-mark layer_0_marks\" role=\"graphics-object\" aria-roledescription=\"line mark container\" pointer-events=\"none\"><path aria-label=\"edges_x: -1; edges_y: 0.295181463009; pairs: 7,14\" role=\"graphics-symbol\" aria-roledescription=\"line mark\" d=\"M0,140.9637073982731L285.50339603607347,400\" stroke=\"black\" stroke-width=\"0.5\"></path></g></g><path class=\"foreground\" aria-hidden=\"true\" d=\"\" display=\"none\"></path></g><g transform=\"translate(0,0)\"><path class=\"background\" aria-hidden=\"true\" d=\"M0,0h600v400h-600Z\"></path><g><g class=\"mark-line role-mark layer_0_marks\" role=\"graphics-object\" aria-roledescription=\"line mark container\" pointer-events=\"none\"><path aria-label=\"edges_x: -0.448585912778; edges_y: 0.603952796137; pairs: 8,14\" role=\"graphics-symbol\" aria-roledescription=\"line mark\" d=\"M165.42422616645047,79.20944077253895L285.50339603607347,400\" stroke=\"black\" stroke-width=\"0.5\"></path></g></g><path class=\"foreground\" aria-hidden=\"true\" d=\"\" display=\"none\"></path></g><g transform=\"translate(0,0)\"><path class=\"background\" aria-hidden=\"true\" d=\"M0,0h600v400h-600Z\"></path><g><g class=\"mark-line role-mark layer_0_marks\" role=\"graphics-object\" aria-roledescription=\"line mark container\" pointer-events=\"none\"><path aria-label=\"edges_x: -0.0483220132131; edges_y: -1; pairs: 9,14\" role=\"graphics-symbol\" aria-roledescription=\"line mark\" d=\"M285.50339603607347,400L496.4365164773936,339.08638449462234\" stroke=\"black\" stroke-width=\"0.5\"></path></g></g><path class=\"foreground\" aria-hidden=\"true\" d=\"\" display=\"none\"></path></g><g transform=\"translate(0,0)\"><path class=\"background\" aria-hidden=\"true\" d=\"M0,0h600v400h-600Z\"></path><g><g class=\"mark-line role-mark layer_0_marks\" role=\"graphics-object\" aria-roledescription=\"line mark container\" pointer-events=\"none\"><path aria-label=\"edges_x: -0.0483220132131; edges_y: -1; pairs: 10,14\" role=\"graphics-symbol\" aria-roledescription=\"line mark\" d=\"M285.50339603607347,400L288.44291077305144,163.006237493086\" stroke=\"black\" stroke-width=\"0.5\"></path></g></g><path class=\"foreground\" aria-hidden=\"true\" d=\"\" display=\"none\"></path></g><g transform=\"translate(0,0)\"><path class=\"background\" aria-hidden=\"true\" d=\"M0,0h600v400h-600Z\"></path><g><g class=\"mark-line role-mark layer_0_marks\" role=\"graphics-object\" aria-roledescription=\"line mark container\" pointer-events=\"none\"><path aria-label=\"edges_x: -0.0483220132131; edges_y: -1; pairs: 11,14\" role=\"graphics-symbol\" aria-roledescription=\"line mark\" d=\"M285.50339603607347,400L560.400172666227,85.25972182370913\" stroke=\"black\" stroke-width=\"0.5\"></path></g></g><path class=\"foreground\" aria-hidden=\"true\" d=\"\" display=\"none\"></path></g><g transform=\"translate(0,0)\"><path class=\"background\" aria-hidden=\"true\" d=\"M0,0h600v400h-600Z\"></path><g><g class=\"mark-line role-mark layer_0_marks\" role=\"graphics-object\" aria-roledescription=\"line mark container\" pointer-events=\"none\"><path aria-label=\"edges_x: -0.869468575863; edges_y: -0.436028397306; pairs: 12,14\" role=\"graphics-symbol\" aria-roledescription=\"line mark\" d=\"M39.159427241035395,287.20567946120485L285.50339603607347,400\" stroke=\"black\" stroke-width=\"0.5\"></path></g></g><path class=\"foreground\" aria-hidden=\"true\" d=\"\" display=\"none\"></path></g><g transform=\"translate(0,0)\"><path class=\"background\" aria-hidden=\"true\" d=\"M0,0h600v400h-600Z\"></path><g><g class=\"mark-line role-mark layer_0_marks\" role=\"graphics-object\" aria-roledescription=\"line mark container\" pointer-events=\"none\"><path aria-label=\"edges_x: -0.660709085585; edges_y: -0.942286333431; pairs: 13,14\" role=\"graphics-symbol\" aria-roledescription=\"line mark\" d=\"M101.7872743244661,388.45726668629413L285.50339603607347,400\" stroke=\"black\" stroke-width=\"0.5\"></path></g></g><path class=\"foreground\" aria-hidden=\"true\" d=\"\" display=\"none\"></path></g><g transform=\"translate(0,0)\"><path class=\"background\" aria-hidden=\"true\" d=\"M0,0h600v400h-600Z\"></path><g><g class=\"mark-line role-mark layer_0_marks\" role=\"graphics-object\" aria-roledescription=\"line mark container\" pointer-events=\"none\"><path aria-label=\"edges_x: 0.029535108089; edges_y: -0.304817875432; pairs: 1,15\" role=\"graphics-symbol\" aria-roledescription=\"line mark\" d=\"M308.86053242670425,260.96357508645826L372.7833772404744,372.01061086206767\" stroke=\"black\" stroke-width=\"0.5\"></path></g></g><path class=\"foreground\" aria-hidden=\"true\" d=\"\" display=\"none\"></path></g><g transform=\"translate(0,0)\"><path class=\"background\" aria-hidden=\"true\" d=\"M0,0h600v400h-600Z\"></path><g><g class=\"mark-line role-mark layer_0_marks\" role=\"graphics-object\" aria-roledescription=\"line mark container\" pointer-events=\"none\"><path aria-label=\"edges_x: 0.242611257468; edges_y: -0.86005305431; pairs: 2,15\" role=\"graphics-symbol\" aria-roledescription=\"line mark\" d=\"M372.7833772404744,372.01061086206767L428.7240108126033,35.85390505576132\" stroke=\"black\" stroke-width=\"0.5\"></path></g></g><path class=\"foreground\" aria-hidden=\"true\" d=\"\" display=\"none\"></path></g><g transform=\"translate(0,0)\"><path class=\"background\" aria-hidden=\"true\" d=\"M0,0h600v400h-600Z\"></path><g><g class=\"mark-line role-mark layer_0_marks\" role=\"graphics-object\" aria-roledescription=\"line mark container\" pointer-events=\"none\"><path aria-label=\"edges_x: 0.242611257468; edges_y: -0.86005305431; pairs: 3,15\" role=\"graphics-symbol\" aria-roledescription=\"line mark\" d=\"M372.7833772404744,372.01061086206767L600,200.68080005885884\" stroke=\"black\" stroke-width=\"0.5\"></path></g></g><path class=\"foreground\" aria-hidden=\"true\" d=\"\" display=\"none\"></path></g><g transform=\"translate(0,0)\"><path class=\"background\" aria-hidden=\"true\" d=\"M0,0h600v400h-600Z\"></path><g><g class=\"mark-line role-mark layer_0_marks\" role=\"graphics-object\" aria-roledescription=\"line mark container\" pointer-events=\"none\"><path aria-label=\"edges_x: 0.094829015501; edges_y: 1; pairs: 4,15\" role=\"graphics-symbol\" aria-roledescription=\"line mark\" d=\"M328.4487046502985,0L372.7833772404744,372.01061086206767\" stroke=\"black\" stroke-width=\"0.5\"></path></g></g><path class=\"foreground\" aria-hidden=\"true\" d=\"\" display=\"none\"></path></g><g transform=\"translate(0,0)\"><path class=\"background\" aria-hidden=\"true\" d=\"M0,0h600v400h-600Z\"></path><g><g class=\"mark-line role-mark layer_0_marks\" role=\"graphics-object\" aria-roledescription=\"line mark container\" pointer-events=\"none\"><path aria-label=\"edges_x: 0.242611257468; edges_y: -0.86005305431; pairs: 5,15\" role=\"graphics-symbol\" aria-roledescription=\"line mark\" d=\"M372.7833772404744,372.01061086206767L375.6818407705831,121.67182049192013\" stroke=\"black\" stroke-width=\"0.5\"></path></g></g><path class=\"foreground\" aria-hidden=\"true\" d=\"\" display=\"none\"></path></g><g transform=\"translate(0,0)\"><path class=\"background\" aria-hidden=\"true\" d=\"M0,0h600v400h-600Z\"></path><g><g class=\"mark-line role-mark layer_0_marks\" role=\"graphics-object\" aria-roledescription=\"line mark container\" pointer-events=\"none\"><path aria-label=\"edges_x: -0.198082341297; edges_y: 0.799993432483; pairs: 6,15\" role=\"graphics-symbol\" aria-roledescription=\"line mark\" d=\"M240.57529761081594,40.00131350344098L372.7833772404744,372.01061086206767\" stroke=\"black\" stroke-width=\"0.5\"></path></g></g><path class=\"foreground\" aria-hidden=\"true\" d=\"\" display=\"none\"></path></g><g transform=\"translate(0,0)\"><path class=\"background\" aria-hidden=\"true\" d=\"M0,0h600v400h-600Z\"></path><g><g class=\"mark-line role-mark layer_0_marks\" role=\"graphics-object\" aria-roledescription=\"line mark container\" pointer-events=\"none\"><path aria-label=\"edges_x: -1; edges_y: 0.295181463009; pairs: 7,15\" role=\"graphics-symbol\" aria-roledescription=\"line mark\" d=\"M0,140.9637073982731L372.7833772404744,372.01061086206767\" stroke=\"black\" stroke-width=\"0.5\"></path></g></g><path class=\"foreground\" aria-hidden=\"true\" d=\"\" display=\"none\"></path></g><g transform=\"translate(0,0)\"><path class=\"background\" aria-hidden=\"true\" d=\"M0,0h600v400h-600Z\"></path><g><g class=\"mark-line role-mark layer_0_marks\" role=\"graphics-object\" aria-roledescription=\"line mark container\" pointer-events=\"none\"><path aria-label=\"edges_x: -0.448585912778; edges_y: 0.603952796137; pairs: 8,15\" role=\"graphics-symbol\" aria-roledescription=\"line mark\" d=\"M165.42422616645047,79.20944077253895L372.7833772404744,372.01061086206767\" stroke=\"black\" stroke-width=\"0.5\"></path></g></g><path class=\"foreground\" aria-hidden=\"true\" d=\"\" display=\"none\"></path></g><g transform=\"translate(0,0)\"><path class=\"background\" aria-hidden=\"true\" d=\"M0,0h600v400h-600Z\"></path><g><g class=\"mark-line role-mark layer_0_marks\" role=\"graphics-object\" aria-roledescription=\"line mark container\" pointer-events=\"none\"><path aria-label=\"edges_x: 0.242611257468; edges_y: -0.86005305431; pairs: 9,15\" role=\"graphics-symbol\" aria-roledescription=\"line mark\" d=\"M372.7833772404744,372.01061086206767L496.4365164773936,339.08638449462234\" stroke=\"black\" stroke-width=\"0.5\"></path></g></g><path class=\"foreground\" aria-hidden=\"true\" d=\"\" display=\"none\"></path></g><g transform=\"translate(0,0)\"><path class=\"background\" aria-hidden=\"true\" d=\"M0,0h600v400h-600Z\"></path><g><g class=\"mark-line role-mark layer_0_marks\" role=\"graphics-object\" aria-roledescription=\"line mark container\" pointer-events=\"none\"><path aria-label=\"edges_x: -0.0385236307565; edges_y: 0.184968812535; pairs: 10,15\" role=\"graphics-symbol\" aria-roledescription=\"line mark\" d=\"M288.44291077305144,163.006237493086L372.7833772404744,372.01061086206767\" stroke=\"black\" stroke-width=\"0.5\"></path></g></g><path class=\"foreground\" aria-hidden=\"true\" d=\"\" display=\"none\"></path></g><g transform=\"translate(0,0)\"><path class=\"background\" aria-hidden=\"true\" d=\"M0,0h600v400h-600Z\"></path><g><g class=\"mark-line role-mark layer_0_marks\" role=\"graphics-object\" aria-roledescription=\"line mark container\" pointer-events=\"none\"><path aria-label=\"edges_x: 0.242611257468; edges_y: -0.86005305431; pairs: 11,15\" role=\"graphics-symbol\" aria-roledescription=\"line mark\" d=\"M372.7833772404744,372.01061086206767L560.400172666227,85.25972182370913\" stroke=\"black\" stroke-width=\"0.5\"></path></g></g><path class=\"foreground\" aria-hidden=\"true\" d=\"\" display=\"none\"></path></g><g transform=\"translate(0,0)\"><path class=\"background\" aria-hidden=\"true\" d=\"M0,0h600v400h-600Z\"></path><g><g class=\"mark-line role-mark layer_0_marks\" role=\"graphics-object\" aria-roledescription=\"line mark container\" pointer-events=\"none\"><path aria-label=\"edges_x: -0.869468575863; edges_y: -0.436028397306; pairs: 12,15\" role=\"graphics-symbol\" aria-roledescription=\"line mark\" d=\"M39.159427241035395,287.20567946120485L372.7833772404744,372.01061086206767\" stroke=\"black\" stroke-width=\"0.5\"></path></g></g><path class=\"foreground\" aria-hidden=\"true\" d=\"\" display=\"none\"></path></g><g transform=\"translate(0,0)\"><path class=\"background\" aria-hidden=\"true\" d=\"M0,0h600v400h-600Z\"></path><g><g class=\"mark-line role-mark layer_0_marks\" role=\"graphics-object\" aria-roledescription=\"line mark container\" pointer-events=\"none\"><path aria-label=\"edges_x: -0.660709085585; edges_y: -0.942286333431; pairs: 13,15\" role=\"graphics-symbol\" aria-roledescription=\"line mark\" d=\"M101.7872743244661,388.45726668629413L372.7833772404744,372.01061086206767\" stroke=\"black\" stroke-width=\"0.5\"></path></g></g><path class=\"foreground\" aria-hidden=\"true\" d=\"\" display=\"none\"></path></g><g transform=\"translate(0,0)\"><path class=\"background\" aria-hidden=\"true\" d=\"M0,0h600v400h-600Z\"></path><g><g class=\"mark-line role-mark layer_0_marks\" role=\"graphics-object\" aria-roledescription=\"line mark container\" pointer-events=\"none\"><path aria-label=\"edges_x: -0.0483220132131; edges_y: -1; pairs: 14,15\" role=\"graphics-symbol\" aria-roledescription=\"line mark\" d=\"M285.50339603607347,400L372.7833772404744,372.01061086206767\" stroke=\"black\" stroke-width=\"0.5\"></path></g></g><path class=\"foreground\" aria-hidden=\"true\" d=\"\" display=\"none\"></path></g><g transform=\"translate(0,0)\"><path class=\"background\" aria-hidden=\"true\" d=\"M0,0h600v400h-600Z\"></path><g><g class=\"mark-line role-mark layer_0_marks\" role=\"graphics-object\" aria-roledescription=\"line mark container\" pointer-events=\"none\"><path aria-label=\"edges_x: -0.267392967474; edges_y: -0.645983909485; pairs: 1,16\" role=\"graphics-symbol\" aria-roledescription=\"line mark\" d=\"M219.78210975793053,329.19678189707236L308.86053242670425,260.96357508645826\" stroke=\"black\" stroke-width=\"0.5\"></path></g></g><path class=\"foreground\" aria-hidden=\"true\" d=\"\" display=\"none\"></path></g><g transform=\"translate(0,0)\"><path class=\"background\" aria-hidden=\"true\" d=\"M0,0h600v400h-600Z\"></path><g><g class=\"mark-line role-mark layer_0_marks\" role=\"graphics-object\" aria-roledescription=\"line mark container\" pointer-events=\"none\"><path aria-label=\"edges_x: -0.267392967474; edges_y: -0.645983909485; pairs: 2,16\" role=\"graphics-symbol\" aria-roledescription=\"line mark\" d=\"M219.78210975793053,329.19678189707236L428.7240108126033,35.85390505576132\" stroke=\"black\" stroke-width=\"0.5\"></path></g></g><path class=\"foreground\" aria-hidden=\"true\" d=\"\" display=\"none\"></path></g><g transform=\"translate(0,0)\"><path class=\"background\" aria-hidden=\"true\" d=\"M0,0h600v400h-600Z\"></path><g><g class=\"mark-line role-mark layer_0_marks\" role=\"graphics-object\" aria-roledescription=\"line mark container\" pointer-events=\"none\"><path aria-label=\"edges_x: -0.267392967474; edges_y: -0.645983909485; pairs: 3,16\" role=\"graphics-symbol\" aria-roledescription=\"line mark\" d=\"M219.78210975793053,329.19678189707236L600,200.68080005885884\" stroke=\"black\" stroke-width=\"0.5\"></path></g></g><path class=\"foreground\" aria-hidden=\"true\" d=\"\" display=\"none\"></path></g><g transform=\"translate(0,0)\"><path class=\"background\" aria-hidden=\"true\" d=\"M0,0h600v400h-600Z\"></path><g><g class=\"mark-line role-mark layer_0_marks\" role=\"graphics-object\" aria-roledescription=\"line mark container\" pointer-events=\"none\"><path aria-label=\"edges_x: -0.267392967474; edges_y: -0.645983909485; pairs: 4,16\" role=\"graphics-symbol\" aria-roledescription=\"line mark\" d=\"M219.78210975793053,329.19678189707236L328.4487046502985,0\" stroke=\"black\" stroke-width=\"0.5\"></path></g></g><path class=\"foreground\" aria-hidden=\"true\" d=\"\" display=\"none\"></path></g><g transform=\"translate(0,0)\"><path class=\"background\" aria-hidden=\"true\" d=\"M0,0h600v400h-600Z\"></path><g><g class=\"mark-line role-mark layer_0_marks\" role=\"graphics-object\" aria-roledescription=\"line mark container\" pointer-events=\"none\"><path aria-label=\"edges_x: -0.267392967474; edges_y: -0.645983909485; pairs: 5,16\" role=\"graphics-symbol\" aria-roledescription=\"line mark\" d=\"M219.78210975793053,329.19678189707236L375.6818407705831,121.67182049192013\" stroke=\"black\" stroke-width=\"0.5\"></path></g></g><path class=\"foreground\" aria-hidden=\"true\" d=\"\" display=\"none\"></path></g><g transform=\"translate(0,0)\"><path class=\"background\" aria-hidden=\"true\" d=\"M0,0h600v400h-600Z\"></path><g><g class=\"mark-line role-mark layer_0_marks\" role=\"graphics-object\" aria-roledescription=\"line mark container\" pointer-events=\"none\"><path aria-label=\"edges_x: -0.267392967474; edges_y: -0.645983909485; pairs: 6,16\" role=\"graphics-symbol\" aria-roledescription=\"line mark\" d=\"M219.78210975793053,329.19678189707236L240.57529761081594,40.00131350344098\" stroke=\"black\" stroke-width=\"0.5\"></path></g></g><path class=\"foreground\" aria-hidden=\"true\" d=\"\" display=\"none\"></path></g><g transform=\"translate(0,0)\"><path class=\"background\" aria-hidden=\"true\" d=\"M0,0h600v400h-600Z\"></path><g><g class=\"mark-line role-mark layer_0_marks\" role=\"graphics-object\" aria-roledescription=\"line mark container\" pointer-events=\"none\"><path aria-label=\"edges_x: -1; edges_y: 0.295181463009; pairs: 7,16\" role=\"graphics-symbol\" aria-roledescription=\"line mark\" d=\"M0,140.9637073982731L219.78210975793053,329.19678189707236\" stroke=\"black\" stroke-width=\"0.5\"></path></g></g><path class=\"foreground\" aria-hidden=\"true\" d=\"\" display=\"none\"></path></g><g transform=\"translate(0,0)\"><path class=\"background\" aria-hidden=\"true\" d=\"M0,0h600v400h-600Z\"></path><g><g class=\"mark-line role-mark layer_0_marks\" role=\"graphics-object\" aria-roledescription=\"line mark container\" pointer-events=\"none\"><path aria-label=\"edges_x: -0.448585912778; edges_y: 0.603952796137; pairs: 8,16\" role=\"graphics-symbol\" aria-roledescription=\"line mark\" d=\"M165.42422616645047,79.20944077253895L219.78210975793053,329.19678189707236\" stroke=\"black\" stroke-width=\"0.5\"></path></g></g><path class=\"foreground\" aria-hidden=\"true\" d=\"\" display=\"none\"></path></g><g transform=\"translate(0,0)\"><path class=\"background\" aria-hidden=\"true\" d=\"M0,0h600v400h-600Z\"></path><g><g class=\"mark-line role-mark layer_0_marks\" role=\"graphics-object\" aria-roledescription=\"line mark container\" pointer-events=\"none\"><path aria-label=\"edges_x: -0.267392967474; edges_y: -0.645983909485; pairs: 9,16\" role=\"graphics-symbol\" aria-roledescription=\"line mark\" d=\"M219.78210975793053,329.19678189707236L496.4365164773936,339.08638449462234\" stroke=\"black\" stroke-width=\"0.5\"></path></g></g><path class=\"foreground\" aria-hidden=\"true\" d=\"\" display=\"none\"></path></g><g transform=\"translate(0,0)\"><path class=\"background\" aria-hidden=\"true\" d=\"M0,0h600v400h-600Z\"></path><g><g class=\"mark-line role-mark layer_0_marks\" role=\"graphics-object\" aria-roledescription=\"line mark container\" pointer-events=\"none\"><path aria-label=\"edges_x: -0.267392967474; edges_y: -0.645983909485; pairs: 10,16\" role=\"graphics-symbol\" aria-roledescription=\"line mark\" d=\"M219.78210975793053,329.19678189707236L288.44291077305144,163.006237493086\" stroke=\"black\" stroke-width=\"0.5\"></path></g></g><path class=\"foreground\" aria-hidden=\"true\" d=\"\" display=\"none\"></path></g><g transform=\"translate(0,0)\"><path class=\"background\" aria-hidden=\"true\" d=\"M0,0h600v400h-600Z\"></path><g><g class=\"mark-line role-mark layer_0_marks\" role=\"graphics-object\" aria-roledescription=\"line mark container\" pointer-events=\"none\"><path aria-label=\"edges_x: -0.267392967474; edges_y: -0.645983909485; pairs: 11,16\" role=\"graphics-symbol\" aria-roledescription=\"line mark\" d=\"M219.78210975793053,329.19678189707236L560.400172666227,85.25972182370913\" stroke=\"black\" stroke-width=\"0.5\"></path></g></g><path class=\"foreground\" aria-hidden=\"true\" d=\"\" display=\"none\"></path></g><g transform=\"translate(0,0)\"><path class=\"background\" aria-hidden=\"true\" d=\"M0,0h600v400h-600Z\"></path><g><g class=\"mark-line role-mark layer_0_marks\" role=\"graphics-object\" aria-roledescription=\"line mark container\" pointer-events=\"none\"><path aria-label=\"edges_x: -0.869468575863; edges_y: -0.436028397306; pairs: 12,16\" role=\"graphics-symbol\" aria-roledescription=\"line mark\" d=\"M39.159427241035395,287.20567946120485L219.78210975793053,329.19678189707236\" stroke=\"black\" stroke-width=\"0.5\"></path></g></g><path class=\"foreground\" aria-hidden=\"true\" d=\"\" display=\"none\"></path></g><g transform=\"translate(0,0)\"><path class=\"background\" aria-hidden=\"true\" d=\"M0,0h600v400h-600Z\"></path><g><g class=\"mark-line role-mark layer_0_marks\" role=\"graphics-object\" aria-roledescription=\"line mark container\" pointer-events=\"none\"><path aria-label=\"edges_x: -0.660709085585; edges_y: -0.942286333431; pairs: 13,16\" role=\"graphics-symbol\" aria-roledescription=\"line mark\" d=\"M101.7872743244661,388.45726668629413L219.78210975793053,329.19678189707236\" stroke=\"black\" stroke-width=\"0.5\"></path></g></g><path class=\"foreground\" aria-hidden=\"true\" d=\"\" display=\"none\"></path></g><g transform=\"translate(0,0)\"><path class=\"background\" aria-hidden=\"true\" d=\"M0,0h600v400h-600Z\"></path><g><g class=\"mark-line role-mark layer_0_marks\" role=\"graphics-object\" aria-roledescription=\"line mark container\" pointer-events=\"none\"><path aria-label=\"edges_x: -0.267392967474; edges_y: -0.645983909485; pairs: 14,16\" role=\"graphics-symbol\" aria-roledescription=\"line mark\" d=\"M219.78210975793053,329.19678189707236L285.50339603607347,400\" stroke=\"black\" stroke-width=\"0.5\"></path></g></g><path class=\"foreground\" aria-hidden=\"true\" d=\"\" display=\"none\"></path></g><g transform=\"translate(0,0)\"><path class=\"background\" aria-hidden=\"true\" d=\"M0,0h600v400h-600Z\"></path><g><g class=\"mark-line role-mark layer_0_marks\" role=\"graphics-object\" aria-roledescription=\"line mark container\" pointer-events=\"none\"><path aria-label=\"edges_x: -0.267392967474; edges_y: -0.645983909485; pairs: 15,16\" role=\"graphics-symbol\" aria-roledescription=\"line mark\" d=\"M219.78210975793053,329.19678189707236L372.7833772404744,372.01061086206767\" stroke=\"black\" stroke-width=\"0.5\"></path></g></g><path class=\"foreground\" aria-hidden=\"true\" d=\"\" display=\"none\"></path></g><g transform=\"translate(0,0)\"><path class=\"background\" aria-hidden=\"true\" d=\"M0,0h600v400h-600Z\"></path><g><g class=\"mark-line role-mark layer_0_marks\" role=\"graphics-object\" aria-roledescription=\"line mark container\" pointer-events=\"none\"><path aria-label=\"edges_x: 0.029535108089; edges_y: -0.304817875432; pairs: 1,17\" role=\"graphics-symbol\" aria-roledescription=\"line mark\" d=\"M308.86053242670425,260.96357508645826L404.82105643795774,283.2415078473859\" stroke=\"black\" stroke-width=\"0.5\"></path></g></g><path class=\"foreground\" aria-hidden=\"true\" d=\"\" display=\"none\"></path></g><g transform=\"translate(0,0)\"><path class=\"background\" aria-hidden=\"true\" d=\"M0,0h600v400h-600Z\"></path><g><g class=\"mark-line role-mark layer_0_marks\" role=\"graphics-object\" aria-roledescription=\"line mark container\" pointer-events=\"none\"><path aria-label=\"edges_x: 0.34940352146; edges_y: -0.416207539237; pairs: 3,17\" role=\"graphics-symbol\" aria-roledescription=\"line mark\" d=\"M404.82105643795774,283.2415078473859L600,200.68080005885884\" stroke=\"black\" stroke-width=\"0.5\"></path></g></g><path class=\"foreground\" aria-hidden=\"true\" d=\"\" display=\"none\"></path></g><g transform=\"translate(0,0)\"><path class=\"background\" aria-hidden=\"true\" d=\"M0,0h600v400h-600Z\"></path><g><g class=\"mark-line role-mark layer_0_marks\" role=\"graphics-object\" aria-roledescription=\"line mark container\" pointer-events=\"none\"><path aria-label=\"edges_x: 0.094829015501; edges_y: 1; pairs: 4,17\" role=\"graphics-symbol\" aria-roledescription=\"line mark\" d=\"M328.4487046502985,0L404.82105643795774,283.2415078473859\" stroke=\"black\" stroke-width=\"0.5\"></path></g></g><path class=\"foreground\" aria-hidden=\"true\" d=\"\" display=\"none\"></path></g><g transform=\"translate(0,0)\"><path class=\"background\" aria-hidden=\"true\" d=\"M0,0h600v400h-600Z\"></path><g><g class=\"mark-line role-mark layer_0_marks\" role=\"graphics-object\" aria-roledescription=\"line mark container\" pointer-events=\"none\"><path aria-label=\"edges_x: 0.252272802569; edges_y: 0.39164089754; pairs: 5,17\" role=\"graphics-symbol\" aria-roledescription=\"line mark\" d=\"M375.6818407705831,121.67182049192013L404.82105643795774,283.2415078473859\" stroke=\"black\" stroke-width=\"0.5\"></path></g></g><path class=\"foreground\" aria-hidden=\"true\" d=\"\" display=\"none\"></path></g><g transform=\"translate(0,0)\"><path class=\"background\" aria-hidden=\"true\" d=\"M0,0h600v400h-600Z\"></path><g><g class=\"mark-line role-mark layer_0_marks\" role=\"graphics-object\" aria-roledescription=\"line mark container\" pointer-events=\"none\"><path aria-label=\"edges_x: -0.198082341297; edges_y: 0.799993432483; pairs: 6,17\" role=\"graphics-symbol\" aria-roledescription=\"line mark\" d=\"M240.57529761081594,40.00131350344098L404.82105643795774,283.2415078473859\" stroke=\"black\" stroke-width=\"0.5\"></path></g></g><path class=\"foreground\" aria-hidden=\"true\" d=\"\" display=\"none\"></path></g><g transform=\"translate(0,0)\"><path class=\"background\" aria-hidden=\"true\" d=\"M0,0h600v400h-600Z\"></path><g><g class=\"mark-line role-mark layer_0_marks\" role=\"graphics-object\" aria-roledescription=\"line mark container\" pointer-events=\"none\"><path aria-label=\"edges_x: -1; edges_y: 0.295181463009; pairs: 7,17\" role=\"graphics-symbol\" aria-roledescription=\"line mark\" d=\"M0,140.9637073982731L404.82105643795774,283.2415078473859\" stroke=\"black\" stroke-width=\"0.5\"></path></g></g><path class=\"foreground\" aria-hidden=\"true\" d=\"\" display=\"none\"></path></g><g transform=\"translate(0,0)\"><path class=\"background\" aria-hidden=\"true\" d=\"M0,0h600v400h-600Z\"></path><g><g class=\"mark-line role-mark layer_0_marks\" role=\"graphics-object\" aria-roledescription=\"line mark container\" pointer-events=\"none\"><path aria-label=\"edges_x: -0.448585912778; edges_y: 0.603952796137; pairs: 8,17\" role=\"graphics-symbol\" aria-roledescription=\"line mark\" d=\"M165.42422616645047,79.20944077253895L404.82105643795774,283.2415078473859\" stroke=\"black\" stroke-width=\"0.5\"></path></g></g><path class=\"foreground\" aria-hidden=\"true\" d=\"\" display=\"none\"></path></g><g transform=\"translate(0,0)\"><path class=\"background\" aria-hidden=\"true\" d=\"M0,0h600v400h-600Z\"></path><g><g class=\"mark-line role-mark layer_0_marks\" role=\"graphics-object\" aria-roledescription=\"line mark container\" pointer-events=\"none\"><path aria-label=\"edges_x: 0.34940352146; edges_y: -0.416207539237; pairs: 9,17\" role=\"graphics-symbol\" aria-roledescription=\"line mark\" d=\"M404.82105643795774,283.2415078473859L496.4365164773936,339.08638449462234\" stroke=\"black\" stroke-width=\"0.5\"></path></g></g><path class=\"foreground\" aria-hidden=\"true\" d=\"\" display=\"none\"></path></g><g transform=\"translate(0,0)\"><path class=\"background\" aria-hidden=\"true\" d=\"M0,0h600v400h-600Z\"></path><g><g class=\"mark-line role-mark layer_0_marks\" role=\"graphics-object\" aria-roledescription=\"line mark container\" pointer-events=\"none\"><path aria-label=\"edges_x: -0.0385236307565; edges_y: 0.184968812535; pairs: 10,17\" role=\"graphics-symbol\" aria-roledescription=\"line mark\" d=\"M288.44291077305144,163.006237493086L404.82105643795774,283.2415078473859\" stroke=\"black\" stroke-width=\"0.5\"></path></g></g><path class=\"foreground\" aria-hidden=\"true\" d=\"\" display=\"none\"></path></g><g transform=\"translate(0,0)\"><path class=\"background\" aria-hidden=\"true\" d=\"M0,0h600v400h-600Z\"></path><g><g class=\"mark-line role-mark layer_0_marks\" role=\"graphics-object\" aria-roledescription=\"line mark container\" pointer-events=\"none\"><path aria-label=\"edges_x: 0.34940352146; edges_y: -0.416207539237; pairs: 11,17\" role=\"graphics-symbol\" aria-roledescription=\"line mark\" d=\"M404.82105643795774,283.2415078473859L560.400172666227,85.25972182370913\" stroke=\"black\" stroke-width=\"0.5\"></path></g></g><path class=\"foreground\" aria-hidden=\"true\" d=\"\" display=\"none\"></path></g><g transform=\"translate(0,0)\"><path class=\"background\" aria-hidden=\"true\" d=\"M0,0h600v400h-600Z\"></path><g><g class=\"mark-line role-mark layer_0_marks\" role=\"graphics-object\" aria-roledescription=\"line mark container\" pointer-events=\"none\"><path aria-label=\"edges_x: -0.869468575863; edges_y: -0.436028397306; pairs: 12,17\" role=\"graphics-symbol\" aria-roledescription=\"line mark\" d=\"M39.159427241035395,287.20567946120485L404.82105643795774,283.2415078473859\" stroke=\"black\" stroke-width=\"0.5\"></path></g></g><path class=\"foreground\" aria-hidden=\"true\" d=\"\" display=\"none\"></path></g><g transform=\"translate(0,0)\"><path class=\"background\" aria-hidden=\"true\" d=\"M0,0h600v400h-600Z\"></path><g><g class=\"mark-line role-mark layer_0_marks\" role=\"graphics-object\" aria-roledescription=\"line mark container\" pointer-events=\"none\"><path aria-label=\"edges_x: -0.660709085585; edges_y: -0.942286333431; pairs: 13,17\" role=\"graphics-symbol\" aria-roledescription=\"line mark\" d=\"M101.7872743244661,388.45726668629413L404.82105643795774,283.2415078473859\" stroke=\"black\" stroke-width=\"0.5\"></path></g></g><path class=\"foreground\" aria-hidden=\"true\" d=\"\" display=\"none\"></path></g><g transform=\"translate(0,0)\"><path class=\"background\" aria-hidden=\"true\" d=\"M0,0h600v400h-600Z\"></path><g><g class=\"mark-line role-mark layer_0_marks\" role=\"graphics-object\" aria-roledescription=\"line mark container\" pointer-events=\"none\"><path aria-label=\"edges_x: -0.0483220132131; edges_y: -1; pairs: 14,17\" role=\"graphics-symbol\" aria-roledescription=\"line mark\" d=\"M285.50339603607347,400L404.82105643795774,283.2415078473859\" stroke=\"black\" stroke-width=\"0.5\"></path></g></g><path class=\"foreground\" aria-hidden=\"true\" d=\"\" display=\"none\"></path></g><g transform=\"translate(0,0)\"><path class=\"background\" aria-hidden=\"true\" d=\"M0,0h600v400h-600Z\"></path><g><g class=\"mark-line role-mark layer_0_marks\" role=\"graphics-object\" aria-roledescription=\"line mark container\" pointer-events=\"none\"><path aria-label=\"edges_x: 0.242611257468; edges_y: -0.86005305431; pairs: 15,17\" role=\"graphics-symbol\" aria-roledescription=\"line mark\" d=\"M372.7833772404744,372.01061086206767L404.82105643795774,283.2415078473859\" stroke=\"black\" stroke-width=\"0.5\"></path></g></g><path class=\"foreground\" aria-hidden=\"true\" d=\"\" display=\"none\"></path></g><g transform=\"translate(0,0)\"><path class=\"background\" aria-hidden=\"true\" d=\"M0,0h600v400h-600Z\"></path><g><g class=\"mark-line role-mark layer_0_marks\" role=\"graphics-object\" aria-roledescription=\"line mark container\" pointer-events=\"none\"><path aria-label=\"edges_x: -0.267392967474; edges_y: -0.645983909485; pairs: 16,17\" role=\"graphics-symbol\" aria-roledescription=\"line mark\" d=\"M219.78210975793053,329.19678189707236L404.82105643795774,283.2415078473859\" stroke=\"black\" stroke-width=\"0.5\"></path></g></g><path class=\"foreground\" aria-hidden=\"true\" d=\"\" display=\"none\"></path></g><g transform=\"translate(0,0)\"><path class=\"background\" aria-hidden=\"true\" d=\"M0,0h600v400h-600Z\"></path><g><g class=\"mark-line role-mark layer_0_marks\" role=\"graphics-object\" aria-roledescription=\"line mark container\" pointer-events=\"none\"><path aria-label=\"edges_x: -0.411833578508; edges_y: -0.206402805251; pairs: 1,18\" role=\"graphics-symbol\" aria-roledescription=\"line mark\" d=\"M176.44992644770514,241.28056105025507L308.86053242670425,260.96357508645826\" stroke=\"black\" stroke-width=\"0.5\"></path></g></g><path class=\"foreground\" aria-hidden=\"true\" d=\"\" display=\"none\"></path></g><g transform=\"translate(0,0)\"><path class=\"background\" aria-hidden=\"true\" d=\"M0,0h600v400h-600Z\"></path><g><g class=\"mark-line role-mark layer_0_marks\" role=\"graphics-object\" aria-roledescription=\"line mark container\" pointer-events=\"none\"><path aria-label=\"edges_x: -0.411833578508; edges_y: -0.206402805251; pairs: 2,18\" role=\"graphics-symbol\" aria-roledescription=\"line mark\" d=\"M176.44992644770514,241.28056105025507L428.7240108126033,35.85390505576132\" stroke=\"black\" stroke-width=\"0.5\"></path></g></g><path class=\"foreground\" aria-hidden=\"true\" d=\"\" display=\"none\"></path></g><g transform=\"translate(0,0)\"><path class=\"background\" aria-hidden=\"true\" d=\"M0,0h600v400h-600Z\"></path><g><g class=\"mark-line role-mark layer_0_marks\" role=\"graphics-object\" aria-roledescription=\"line mark container\" pointer-events=\"none\"><path aria-label=\"edges_x: -0.411833578508; edges_y: -0.206402805251; pairs: 3,18\" role=\"graphics-symbol\" aria-roledescription=\"line mark\" d=\"M176.44992644770514,241.28056105025507L600,200.68080005885884\" stroke=\"black\" stroke-width=\"0.5\"></path></g></g><path class=\"foreground\" aria-hidden=\"true\" d=\"\" display=\"none\"></path></g><g transform=\"translate(0,0)\"><path class=\"background\" aria-hidden=\"true\" d=\"M0,0h600v400h-600Z\"></path><g><g class=\"mark-line role-mark layer_0_marks\" role=\"graphics-object\" aria-roledescription=\"line mark container\" pointer-events=\"none\"><path aria-label=\"edges_x: -0.411833578508; edges_y: -0.206402805251; pairs: 4,18\" role=\"graphics-symbol\" aria-roledescription=\"line mark\" d=\"M176.44992644770514,241.28056105025507L328.4487046502985,0\" stroke=\"black\" stroke-width=\"0.5\"></path></g></g><path class=\"foreground\" aria-hidden=\"true\" d=\"\" display=\"none\"></path></g><g transform=\"translate(0,0)\"><path class=\"background\" aria-hidden=\"true\" d=\"M0,0h600v400h-600Z\"></path><g><g class=\"mark-line role-mark layer_0_marks\" role=\"graphics-object\" aria-roledescription=\"line mark container\" pointer-events=\"none\"><path aria-label=\"edges_x: -0.411833578508; edges_y: -0.206402805251; pairs: 5,18\" role=\"graphics-symbol\" aria-roledescription=\"line mark\" d=\"M176.44992644770514,241.28056105025507L375.6818407705831,121.67182049192013\" stroke=\"black\" stroke-width=\"0.5\"></path></g></g><path class=\"foreground\" aria-hidden=\"true\" d=\"\" display=\"none\"></path></g><g transform=\"translate(0,0)\"><path class=\"background\" aria-hidden=\"true\" d=\"M0,0h600v400h-600Z\"></path><g><g class=\"mark-line role-mark layer_0_marks\" role=\"graphics-object\" aria-roledescription=\"line mark container\" pointer-events=\"none\"><path aria-label=\"edges_x: -0.411833578508; edges_y: -0.206402805251; pairs: 6,18\" role=\"graphics-symbol\" aria-roledescription=\"line mark\" d=\"M176.44992644770514,241.28056105025507L240.57529761081594,40.00131350344098\" stroke=\"black\" stroke-width=\"0.5\"></path></g></g><path class=\"foreground\" aria-hidden=\"true\" d=\"\" display=\"none\"></path></g><g transform=\"translate(0,0)\"><path class=\"background\" aria-hidden=\"true\" d=\"M0,0h600v400h-600Z\"></path><g><g class=\"mark-line role-mark layer_0_marks\" role=\"graphics-object\" aria-roledescription=\"line mark container\" pointer-events=\"none\"><path aria-label=\"edges_x: -1; edges_y: 0.295181463009; pairs: 7,18\" role=\"graphics-symbol\" aria-roledescription=\"line mark\" d=\"M0,140.9637073982731L176.44992644770514,241.28056105025507\" stroke=\"black\" stroke-width=\"0.5\"></path></g></g><path class=\"foreground\" aria-hidden=\"true\" d=\"\" display=\"none\"></path></g><g transform=\"translate(0,0)\"><path class=\"background\" aria-hidden=\"true\" d=\"M0,0h600v400h-600Z\"></path><g><g class=\"mark-line role-mark layer_0_marks\" role=\"graphics-object\" aria-roledescription=\"line mark container\" pointer-events=\"none\"><path aria-label=\"edges_x: -0.448585912778; edges_y: 0.603952796137; pairs: 8,18\" role=\"graphics-symbol\" aria-roledescription=\"line mark\" d=\"M165.42422616645047,79.20944077253895L176.44992644770514,241.28056105025507\" stroke=\"black\" stroke-width=\"0.5\"></path></g></g><path class=\"foreground\" aria-hidden=\"true\" d=\"\" display=\"none\"></path></g><g transform=\"translate(0,0)\"><path class=\"background\" aria-hidden=\"true\" d=\"M0,0h600v400h-600Z\"></path><g><g class=\"mark-line role-mark layer_0_marks\" role=\"graphics-object\" aria-roledescription=\"line mark container\" pointer-events=\"none\"><path aria-label=\"edges_x: -0.411833578508; edges_y: -0.206402805251; pairs: 9,18\" role=\"graphics-symbol\" aria-roledescription=\"line mark\" d=\"M176.44992644770514,241.28056105025507L496.4365164773936,339.08638449462234\" stroke=\"black\" stroke-width=\"0.5\"></path></g></g><path class=\"foreground\" aria-hidden=\"true\" d=\"\" display=\"none\"></path></g><g transform=\"translate(0,0)\"><path class=\"background\" aria-hidden=\"true\" d=\"M0,0h600v400h-600Z\"></path><g><g class=\"mark-line role-mark layer_0_marks\" role=\"graphics-object\" aria-roledescription=\"line mark container\" pointer-events=\"none\"><path aria-label=\"edges_x: -0.411833578508; edges_y: -0.206402805251; pairs: 10,18\" role=\"graphics-symbol\" aria-roledescription=\"line mark\" d=\"M176.44992644770514,241.28056105025507L288.44291077305144,163.006237493086\" stroke=\"black\" stroke-width=\"0.5\"></path></g></g><path class=\"foreground\" aria-hidden=\"true\" d=\"\" display=\"none\"></path></g><g transform=\"translate(0,0)\"><path class=\"background\" aria-hidden=\"true\" d=\"M0,0h600v400h-600Z\"></path><g><g class=\"mark-line role-mark layer_0_marks\" role=\"graphics-object\" aria-roledescription=\"line mark container\" pointer-events=\"none\"><path aria-label=\"edges_x: -0.411833578508; edges_y: -0.206402805251; pairs: 11,18\" role=\"graphics-symbol\" aria-roledescription=\"line mark\" d=\"M176.44992644770514,241.28056105025507L560.400172666227,85.25972182370913\" stroke=\"black\" stroke-width=\"0.5\"></path></g></g><path class=\"foreground\" aria-hidden=\"true\" d=\"\" display=\"none\"></path></g><g transform=\"translate(0,0)\"><path class=\"background\" aria-hidden=\"true\" d=\"M0,0h600v400h-600Z\"></path><g><g class=\"mark-line role-mark layer_0_marks\" role=\"graphics-object\" aria-roledescription=\"line mark container\" pointer-events=\"none\"><path aria-label=\"edges_x: -0.869468575863; edges_y: -0.436028397306; pairs: 12,18\" role=\"graphics-symbol\" aria-roledescription=\"line mark\" d=\"M39.159427241035395,287.20567946120485L176.44992644770514,241.28056105025507\" stroke=\"black\" stroke-width=\"0.5\"></path></g></g><path class=\"foreground\" aria-hidden=\"true\" d=\"\" display=\"none\"></path></g><g transform=\"translate(0,0)\"><path class=\"background\" aria-hidden=\"true\" d=\"M0,0h600v400h-600Z\"></path><g><g class=\"mark-line role-mark layer_0_marks\" role=\"graphics-object\" aria-roledescription=\"line mark container\" pointer-events=\"none\"><path aria-label=\"edges_x: -0.660709085585; edges_y: -0.942286333431; pairs: 13,18\" role=\"graphics-symbol\" aria-roledescription=\"line mark\" d=\"M101.7872743244661,388.45726668629413L176.44992644770514,241.28056105025507\" stroke=\"black\" stroke-width=\"0.5\"></path></g></g><path class=\"foreground\" aria-hidden=\"true\" d=\"\" display=\"none\"></path></g><g transform=\"translate(0,0)\"><path class=\"background\" aria-hidden=\"true\" d=\"M0,0h600v400h-600Z\"></path><g><g class=\"mark-line role-mark layer_0_marks\" role=\"graphics-object\" aria-roledescription=\"line mark container\" pointer-events=\"none\"><path aria-label=\"edges_x: -0.411833578508; edges_y: -0.206402805251; pairs: 14,18\" role=\"graphics-symbol\" aria-roledescription=\"line mark\" d=\"M176.44992644770514,241.28056105025507L285.50339603607347,400\" stroke=\"black\" stroke-width=\"0.5\"></path></g></g><path class=\"foreground\" aria-hidden=\"true\" d=\"\" display=\"none\"></path></g><g transform=\"translate(0,0)\"><path class=\"background\" aria-hidden=\"true\" d=\"M0,0h600v400h-600Z\"></path><g><g class=\"mark-line role-mark layer_0_marks\" role=\"graphics-object\" aria-roledescription=\"line mark container\" pointer-events=\"none\"><path aria-label=\"edges_x: -0.411833578508; edges_y: -0.206402805251; pairs: 15,18\" role=\"graphics-symbol\" aria-roledescription=\"line mark\" d=\"M176.44992644770514,241.28056105025507L372.7833772404744,372.01061086206767\" stroke=\"black\" stroke-width=\"0.5\"></path></g></g><path class=\"foreground\" aria-hidden=\"true\" d=\"\" display=\"none\"></path></g><g transform=\"translate(0,0)\"><path class=\"background\" aria-hidden=\"true\" d=\"M0,0h600v400h-600Z\"></path><g><g class=\"mark-line role-mark layer_0_marks\" role=\"graphics-object\" aria-roledescription=\"line mark container\" pointer-events=\"none\"><path aria-label=\"edges_x: -0.411833578508; edges_y: -0.206402805251; pairs: 16,18\" role=\"graphics-symbol\" aria-roledescription=\"line mark\" d=\"M176.44992644770514,241.28056105025507L219.78210975793053,329.19678189707236\" stroke=\"black\" stroke-width=\"0.5\"></path></g></g><path class=\"foreground\" aria-hidden=\"true\" d=\"\" display=\"none\"></path></g><g transform=\"translate(0,0)\"><path class=\"background\" aria-hidden=\"true\" d=\"M0,0h600v400h-600Z\"></path><g><g class=\"mark-line role-mark layer_0_marks\" role=\"graphics-object\" aria-roledescription=\"line mark container\" pointer-events=\"none\"><path aria-label=\"edges_x: -0.411833578508; edges_y: -0.206402805251; pairs: 17,18\" role=\"graphics-symbol\" aria-roledescription=\"line mark\" d=\"M176.44992644770514,241.28056105025507L404.82105643795774,283.2415078473859\" stroke=\"black\" stroke-width=\"0.5\"></path></g></g><path class=\"foreground\" aria-hidden=\"true\" d=\"\" display=\"none\"></path></g><g transform=\"translate(0,0)\"><path class=\"background\" aria-hidden=\"true\" d=\"M0,0h600v400h-600Z\"></path><g><g class=\"mark-line role-mark layer_0_marks\" role=\"graphics-object\" aria-roledescription=\"line mark container\" pointer-events=\"none\"><path aria-label=\"edges_x: 0.029535108089; edges_y: -0.304817875432; pairs: 1,19\" role=\"graphics-symbol\" aria-roledescription=\"line mark\" d=\"M308.86053242670425,260.96357508645826L489.56144719785715,223.14940324503985\" stroke=\"black\" stroke-width=\"0.5\"></path></g></g><path class=\"foreground\" aria-hidden=\"true\" d=\"\" display=\"none\"></path></g><g transform=\"translate(0,0)\"><path class=\"background\" aria-hidden=\"true\" d=\"M0,0h600v400h-600Z\"></path><g><g class=\"mark-line role-mark layer_0_marks\" role=\"graphics-object\" aria-roledescription=\"line mark container\" pointer-events=\"none\"><path aria-label=\"edges_x: 0.429080036042; edges_y: 0.820730474721; pairs: 2,19\" role=\"graphics-symbol\" aria-roledescription=\"line mark\" d=\"M428.7240108126033,35.85390505576132L489.56144719785715,223.14940324503985\" stroke=\"black\" stroke-width=\"0.5\"></path></g></g><path class=\"foreground\" aria-hidden=\"true\" d=\"\" display=\"none\"></path></g><g transform=\"translate(0,0)\"><path class=\"background\" aria-hidden=\"true\" d=\"M0,0h600v400h-600Z\"></path><g><g class=\"mark-line role-mark layer_0_marks\" role=\"graphics-object\" aria-roledescription=\"line mark container\" pointer-events=\"none\"><path aria-label=\"edges_x: 0.63187149066; edges_y: -0.115747016225; pairs: 3,19\" role=\"graphics-symbol\" aria-roledescription=\"line mark\" d=\"M489.56144719785715,223.14940324503985L600,200.68080005885884\" stroke=\"black\" stroke-width=\"0.5\"></path></g></g><path class=\"foreground\" aria-hidden=\"true\" d=\"\" display=\"none\"></path></g><g transform=\"translate(0,0)\"><path class=\"background\" aria-hidden=\"true\" d=\"M0,0h600v400h-600Z\"></path><g><g class=\"mark-line role-mark layer_0_marks\" role=\"graphics-object\" aria-roledescription=\"line mark container\" pointer-events=\"none\"><path aria-label=\"edges_x: 0.252272802569; edges_y: 0.39164089754; pairs: 5,19\" role=\"graphics-symbol\" aria-roledescription=\"line mark\" d=\"M375.6818407705831,121.67182049192013L489.56144719785715,223.14940324503985\" stroke=\"black\" stroke-width=\"0.5\"></path></g></g><path class=\"foreground\" aria-hidden=\"true\" d=\"\" display=\"none\"></path></g><g transform=\"translate(0,0)\"><path class=\"background\" aria-hidden=\"true\" d=\"M0,0h600v400h-600Z\"></path><g><g class=\"mark-line role-mark layer_0_marks\" role=\"graphics-object\" aria-roledescription=\"line mark container\" pointer-events=\"none\"><path aria-label=\"edges_x: -0.198082341297; edges_y: 0.799993432483; pairs: 6,19\" role=\"graphics-symbol\" aria-roledescription=\"line mark\" d=\"M240.57529761081594,40.00131350344098L489.56144719785715,223.14940324503985\" stroke=\"black\" stroke-width=\"0.5\"></path></g></g><path class=\"foreground\" aria-hidden=\"true\" d=\"\" display=\"none\"></path></g><g transform=\"translate(0,0)\"><path class=\"background\" aria-hidden=\"true\" d=\"M0,0h600v400h-600Z\"></path><g><g class=\"mark-line role-mark layer_0_marks\" role=\"graphics-object\" aria-roledescription=\"line mark container\" pointer-events=\"none\"><path aria-label=\"edges_x: -0.448585912778; edges_y: 0.603952796137; pairs: 8,19\" role=\"graphics-symbol\" aria-roledescription=\"line mark\" d=\"M165.42422616645047,79.20944077253895L489.56144719785715,223.14940324503985\" stroke=\"black\" stroke-width=\"0.5\"></path></g></g><path class=\"foreground\" aria-hidden=\"true\" d=\"\" display=\"none\"></path></g><g transform=\"translate(0,0)\"><path class=\"background\" aria-hidden=\"true\" d=\"M0,0h600v400h-600Z\"></path><g><g class=\"mark-line role-mark layer_0_marks\" role=\"graphics-object\" aria-roledescription=\"line mark container\" pointer-events=\"none\"><path aria-label=\"edges_x: 0.63187149066; edges_y: -0.115747016225; pairs: 9,19\" role=\"graphics-symbol\" aria-roledescription=\"line mark\" d=\"M489.56144719785715,223.14940324503985L496.4365164773936,339.08638449462234\" stroke=\"black\" stroke-width=\"0.5\"></path></g></g><path class=\"foreground\" aria-hidden=\"true\" d=\"\" display=\"none\"></path></g><g transform=\"translate(0,0)\"><path class=\"background\" aria-hidden=\"true\" d=\"M0,0h600v400h-600Z\"></path><g><g class=\"mark-line role-mark layer_0_marks\" role=\"graphics-object\" aria-roledescription=\"line mark container\" pointer-events=\"none\"><path aria-label=\"edges_x: -0.0385236307565; edges_y: 0.184968812535; pairs: 10,19\" role=\"graphics-symbol\" aria-roledescription=\"line mark\" d=\"M288.44291077305144,163.006237493086L489.56144719785715,223.14940324503985\" stroke=\"black\" stroke-width=\"0.5\"></path></g></g><path class=\"foreground\" aria-hidden=\"true\" d=\"\" display=\"none\"></path></g><g transform=\"translate(0,0)\"><path class=\"background\" aria-hidden=\"true\" d=\"M0,0h600v400h-600Z\"></path><g><g class=\"mark-line role-mark layer_0_marks\" role=\"graphics-object\" aria-roledescription=\"line mark container\" pointer-events=\"none\"><path aria-label=\"edges_x: 0.63187149066; edges_y: -0.115747016225; pairs: 11,19\" role=\"graphics-symbol\" aria-roledescription=\"line mark\" d=\"M489.56144719785715,223.14940324503985L560.400172666227,85.25972182370913\" stroke=\"black\" stroke-width=\"0.5\"></path></g></g><path class=\"foreground\" aria-hidden=\"true\" d=\"\" display=\"none\"></path></g><g transform=\"translate(0,0)\"><path class=\"background\" aria-hidden=\"true\" d=\"M0,0h600v400h-600Z\"></path><g><g class=\"mark-line role-mark layer_0_marks\" role=\"graphics-object\" aria-roledescription=\"line mark container\" pointer-events=\"none\"><path aria-label=\"edges_x: -0.869468575863; edges_y: -0.436028397306; pairs: 12,19\" role=\"graphics-symbol\" aria-roledescription=\"line mark\" d=\"M39.159427241035395,287.20567946120485L489.56144719785715,223.14940324503985\" stroke=\"black\" stroke-width=\"0.5\"></path></g></g><path class=\"foreground\" aria-hidden=\"true\" d=\"\" display=\"none\"></path></g><g transform=\"translate(0,0)\"><path class=\"background\" aria-hidden=\"true\" d=\"M0,0h600v400h-600Z\"></path><g><g class=\"mark-line role-mark layer_0_marks\" role=\"graphics-object\" aria-roledescription=\"line mark container\" pointer-events=\"none\"><path aria-label=\"edges_x: -0.660709085585; edges_y: -0.942286333431; pairs: 13,19\" role=\"graphics-symbol\" aria-roledescription=\"line mark\" d=\"M101.7872743244661,388.45726668629413L489.56144719785715,223.14940324503985\" stroke=\"black\" stroke-width=\"0.5\"></path></g></g><path class=\"foreground\" aria-hidden=\"true\" d=\"\" display=\"none\"></path></g><g transform=\"translate(0,0)\"><path class=\"background\" aria-hidden=\"true\" d=\"M0,0h600v400h-600Z\"></path><g><g class=\"mark-line role-mark layer_0_marks\" role=\"graphics-object\" aria-roledescription=\"line mark container\" pointer-events=\"none\"><path aria-label=\"edges_x: -0.0483220132131; edges_y: -1; pairs: 14,19\" role=\"graphics-symbol\" aria-roledescription=\"line mark\" d=\"M285.50339603607347,400L489.56144719785715,223.14940324503985\" stroke=\"black\" stroke-width=\"0.5\"></path></g></g><path class=\"foreground\" aria-hidden=\"true\" d=\"\" display=\"none\"></path></g><g transform=\"translate(0,0)\"><path class=\"background\" aria-hidden=\"true\" d=\"M0,0h600v400h-600Z\"></path><g><g class=\"mark-line role-mark layer_0_marks\" role=\"graphics-object\" aria-roledescription=\"line mark container\" pointer-events=\"none\"><path aria-label=\"edges_x: 0.242611257468; edges_y: -0.86005305431; pairs: 15,19\" role=\"graphics-symbol\" aria-roledescription=\"line mark\" d=\"M372.7833772404744,372.01061086206767L489.56144719785715,223.14940324503985\" stroke=\"black\" stroke-width=\"0.5\"></path></g></g><path class=\"foreground\" aria-hidden=\"true\" d=\"\" display=\"none\"></path></g><g transform=\"translate(0,0)\"><path class=\"background\" aria-hidden=\"true\" d=\"M0,0h600v400h-600Z\"></path><g><g class=\"mark-line role-mark layer_0_marks\" role=\"graphics-object\" aria-roledescription=\"line mark container\" pointer-events=\"none\"><path aria-label=\"edges_x: -0.267392967474; edges_y: -0.645983909485; pairs: 16,19\" role=\"graphics-symbol\" aria-roledescription=\"line mark\" d=\"M219.78210975793053,329.19678189707236L489.56144719785715,223.14940324503985\" stroke=\"black\" stroke-width=\"0.5\"></path></g></g><path class=\"foreground\" aria-hidden=\"true\" d=\"\" display=\"none\"></path></g><g transform=\"translate(0,0)\"><path class=\"background\" aria-hidden=\"true\" d=\"M0,0h600v400h-600Z\"></path><g><g class=\"mark-line role-mark layer_0_marks\" role=\"graphics-object\" aria-roledescription=\"line mark container\" pointer-events=\"none\"><path aria-label=\"edges_x: 0.34940352146; edges_y: -0.416207539237; pairs: 17,19\" role=\"graphics-symbol\" aria-roledescription=\"line mark\" d=\"M404.82105643795774,283.2415078473859L489.56144719785715,223.14940324503985\" stroke=\"black\" stroke-width=\"0.5\"></path></g></g><path class=\"foreground\" aria-hidden=\"true\" d=\"\" display=\"none\"></path></g><g transform=\"translate(0,0)\"><path class=\"background\" aria-hidden=\"true\" d=\"M0,0h600v400h-600Z\"></path><g><g class=\"mark-line role-mark layer_0_marks\" role=\"graphics-object\" aria-roledescription=\"line mark container\" pointer-events=\"none\"><path aria-label=\"edges_x: -0.411833578508; edges_y: -0.206402805251; pairs: 18,19\" role=\"graphics-symbol\" aria-roledescription=\"line mark\" d=\"M176.44992644770514,241.28056105025507L489.56144719785715,223.14940324503985\" stroke=\"black\" stroke-width=\"0.5\"></path></g></g><path class=\"foreground\" aria-hidden=\"true\" d=\"\" display=\"none\"></path></g><g transform=\"translate(0,0)\"><path class=\"background\" aria-hidden=\"true\" d=\"M0,0h600v400h-600Z\"></path><g><g class=\"mark-line role-mark layer_0_marks\" role=\"graphics-object\" aria-roledescription=\"line mark container\" pointer-events=\"none\"><path aria-label=\"edges_x: -0.445662518649; edges_y: 0.200976448299; pairs: 1,20\" role=\"graphics-symbol\" aria-roledescription=\"line mark\" d=\"M166.30124440529283,159.80471034017262L308.86053242670425,260.96357508645826\" stroke=\"black\" stroke-width=\"0.5\"></path></g></g><path class=\"foreground\" aria-hidden=\"true\" d=\"\" display=\"none\"></path></g><g transform=\"translate(0,0)\"><path class=\"background\" aria-hidden=\"true\" d=\"M0,0h600v400h-600Z\"></path><g><g class=\"mark-line role-mark layer_0_marks\" role=\"graphics-object\" aria-roledescription=\"line mark container\" pointer-events=\"none\"><path aria-label=\"edges_x: -0.445662518649; edges_y: 0.200976448299; pairs: 2,20\" role=\"graphics-symbol\" aria-roledescription=\"line mark\" d=\"M166.30124440529283,159.80471034017262L428.7240108126033,35.85390505576132\" stroke=\"black\" stroke-width=\"0.5\"></path></g></g><path class=\"foreground\" aria-hidden=\"true\" d=\"\" display=\"none\"></path></g><g transform=\"translate(0,0)\"><path class=\"background\" aria-hidden=\"true\" d=\"M0,0h600v400h-600Z\"></path><g><g class=\"mark-line role-mark layer_0_marks\" role=\"graphics-object\" aria-roledescription=\"line mark container\" pointer-events=\"none\"><path aria-label=\"edges_x: -0.445662518649; edges_y: 0.200976448299; pairs: 3,20\" role=\"graphics-symbol\" aria-roledescription=\"line mark\" d=\"M166.30124440529283,159.80471034017262L600,200.68080005885884\" stroke=\"black\" stroke-width=\"0.5\"></path></g></g><path class=\"foreground\" aria-hidden=\"true\" d=\"\" display=\"none\"></path></g><g transform=\"translate(0,0)\"><path class=\"background\" aria-hidden=\"true\" d=\"M0,0h600v400h-600Z\"></path><g><g class=\"mark-line role-mark layer_0_marks\" role=\"graphics-object\" aria-roledescription=\"line mark container\" pointer-events=\"none\"><path aria-label=\"edges_x: -0.445662518649; edges_y: 0.200976448299; pairs: 4,20\" role=\"graphics-symbol\" aria-roledescription=\"line mark\" d=\"M166.30124440529283,159.80471034017262L328.4487046502985,0\" stroke=\"black\" stroke-width=\"0.5\"></path></g></g><path class=\"foreground\" aria-hidden=\"true\" d=\"\" display=\"none\"></path></g><g transform=\"translate(0,0)\"><path class=\"background\" aria-hidden=\"true\" d=\"M0,0h600v400h-600Z\"></path><g><g class=\"mark-line role-mark layer_0_marks\" role=\"graphics-object\" aria-roledescription=\"line mark container\" pointer-events=\"none\"><path aria-label=\"edges_x: -0.445662518649; edges_y: 0.200976448299; pairs: 5,20\" role=\"graphics-symbol\" aria-roledescription=\"line mark\" d=\"M166.30124440529283,159.80471034017262L375.6818407705831,121.67182049192013\" stroke=\"black\" stroke-width=\"0.5\"></path></g></g><path class=\"foreground\" aria-hidden=\"true\" d=\"\" display=\"none\"></path></g><g transform=\"translate(0,0)\"><path class=\"background\" aria-hidden=\"true\" d=\"M0,0h600v400h-600Z\"></path><g><g class=\"mark-line role-mark layer_0_marks\" role=\"graphics-object\" aria-roledescription=\"line mark container\" pointer-events=\"none\"><path aria-label=\"edges_x: -0.445662518649; edges_y: 0.200976448299; pairs: 6,20\" role=\"graphics-symbol\" aria-roledescription=\"line mark\" d=\"M166.30124440529283,159.80471034017262L240.57529761081594,40.00131350344098\" stroke=\"black\" stroke-width=\"0.5\"></path></g></g><path class=\"foreground\" aria-hidden=\"true\" d=\"\" display=\"none\"></path></g><g transform=\"translate(0,0)\"><path class=\"background\" aria-hidden=\"true\" d=\"M0,0h600v400h-600Z\"></path><g><g class=\"mark-line role-mark layer_0_marks\" role=\"graphics-object\" aria-roledescription=\"line mark container\" pointer-events=\"none\"><path aria-label=\"edges_x: -1; edges_y: 0.295181463009; pairs: 7,20\" role=\"graphics-symbol\" aria-roledescription=\"line mark\" d=\"M0,140.9637073982731L166.30124440529283,159.80471034017262\" stroke=\"black\" stroke-width=\"0.5\"></path></g></g><path class=\"foreground\" aria-hidden=\"true\" d=\"\" display=\"none\"></path></g><g transform=\"translate(0,0)\"><path class=\"background\" aria-hidden=\"true\" d=\"M0,0h600v400h-600Z\"></path><g><g class=\"mark-line role-mark layer_0_marks\" role=\"graphics-object\" aria-roledescription=\"line mark container\" pointer-events=\"none\"><path aria-label=\"edges_x: -0.448585912778; edges_y: 0.603952796137; pairs: 8,20\" role=\"graphics-symbol\" aria-roledescription=\"line mark\" d=\"M165.42422616645047,79.20944077253895L166.30124440529283,159.80471034017262\" stroke=\"black\" stroke-width=\"0.5\"></path></g></g><path class=\"foreground\" aria-hidden=\"true\" d=\"\" display=\"none\"></path></g><g transform=\"translate(0,0)\"><path class=\"background\" aria-hidden=\"true\" d=\"M0,0h600v400h-600Z\"></path><g><g class=\"mark-line role-mark layer_0_marks\" role=\"graphics-object\" aria-roledescription=\"line mark container\" pointer-events=\"none\"><path aria-label=\"edges_x: -0.445662518649; edges_y: 0.200976448299; pairs: 9,20\" role=\"graphics-symbol\" aria-roledescription=\"line mark\" d=\"M166.30124440529283,159.80471034017262L496.4365164773936,339.08638449462234\" stroke=\"black\" stroke-width=\"0.5\"></path></g></g><path class=\"foreground\" aria-hidden=\"true\" d=\"\" display=\"none\"></path></g><g transform=\"translate(0,0)\"><path class=\"background\" aria-hidden=\"true\" d=\"M0,0h600v400h-600Z\"></path><g><g class=\"mark-line role-mark layer_0_marks\" role=\"graphics-object\" aria-roledescription=\"line mark container\" pointer-events=\"none\"><path aria-label=\"edges_x: -0.445662518649; edges_y: 0.200976448299; pairs: 10,20\" role=\"graphics-symbol\" aria-roledescription=\"line mark\" d=\"M166.30124440529283,159.80471034017262L288.44291077305144,163.006237493086\" stroke=\"black\" stroke-width=\"0.5\"></path></g></g><path class=\"foreground\" aria-hidden=\"true\" d=\"\" display=\"none\"></path></g><g transform=\"translate(0,0)\"><path class=\"background\" aria-hidden=\"true\" d=\"M0,0h600v400h-600Z\"></path><g><g class=\"mark-line role-mark layer_0_marks\" role=\"graphics-object\" aria-roledescription=\"line mark container\" pointer-events=\"none\"><path aria-label=\"edges_x: -0.445662518649; edges_y: 0.200976448299; pairs: 11,20\" role=\"graphics-symbol\" aria-roledescription=\"line mark\" d=\"M166.30124440529283,159.80471034017262L560.400172666227,85.25972182370913\" stroke=\"black\" stroke-width=\"0.5\"></path></g></g><path class=\"foreground\" aria-hidden=\"true\" d=\"\" display=\"none\"></path></g><g transform=\"translate(0,0)\"><path class=\"background\" aria-hidden=\"true\" d=\"M0,0h600v400h-600Z\"></path><g><g class=\"mark-line role-mark layer_0_marks\" role=\"graphics-object\" aria-roledescription=\"line mark container\" pointer-events=\"none\"><path aria-label=\"edges_x: -0.869468575863; edges_y: -0.436028397306; pairs: 12,20\" role=\"graphics-symbol\" aria-roledescription=\"line mark\" d=\"M39.159427241035395,287.20567946120485L166.30124440529283,159.80471034017262\" stroke=\"black\" stroke-width=\"0.5\"></path></g></g><path class=\"foreground\" aria-hidden=\"true\" d=\"\" display=\"none\"></path></g><g transform=\"translate(0,0)\"><path class=\"background\" aria-hidden=\"true\" d=\"M0,0h600v400h-600Z\"></path><g><g class=\"mark-line role-mark layer_0_marks\" role=\"graphics-object\" aria-roledescription=\"line mark container\" pointer-events=\"none\"><path aria-label=\"edges_x: -0.660709085585; edges_y: -0.942286333431; pairs: 13,20\" role=\"graphics-symbol\" aria-roledescription=\"line mark\" d=\"M101.7872743244661,388.45726668629413L166.30124440529283,159.80471034017262\" stroke=\"black\" stroke-width=\"0.5\"></path></g></g><path class=\"foreground\" aria-hidden=\"true\" d=\"\" display=\"none\"></path></g><g transform=\"translate(0,0)\"><path class=\"background\" aria-hidden=\"true\" d=\"M0,0h600v400h-600Z\"></path><g><g class=\"mark-line role-mark layer_0_marks\" role=\"graphics-object\" aria-roledescription=\"line mark container\" pointer-events=\"none\"><path aria-label=\"edges_x: -0.445662518649; edges_y: 0.200976448299; pairs: 14,20\" role=\"graphics-symbol\" aria-roledescription=\"line mark\" d=\"M166.30124440529283,159.80471034017262L285.50339603607347,400\" stroke=\"black\" stroke-width=\"0.5\"></path></g></g><path class=\"foreground\" aria-hidden=\"true\" d=\"\" display=\"none\"></path></g><g transform=\"translate(0,0)\"><path class=\"background\" aria-hidden=\"true\" d=\"M0,0h600v400h-600Z\"></path><g><g class=\"mark-line role-mark layer_0_marks\" role=\"graphics-object\" aria-roledescription=\"line mark container\" pointer-events=\"none\"><path aria-label=\"edges_x: -0.445662518649; edges_y: 0.200976448299; pairs: 15,20\" role=\"graphics-symbol\" aria-roledescription=\"line mark\" d=\"M166.30124440529283,159.80471034017262L372.7833772404744,372.01061086206767\" stroke=\"black\" stroke-width=\"0.5\"></path></g></g><path class=\"foreground\" aria-hidden=\"true\" d=\"\" display=\"none\"></path></g><g transform=\"translate(0,0)\"><path class=\"background\" aria-hidden=\"true\" d=\"M0,0h600v400h-600Z\"></path><g><g class=\"mark-line role-mark layer_0_marks\" role=\"graphics-object\" aria-roledescription=\"line mark container\" pointer-events=\"none\"><path aria-label=\"edges_x: -0.445662518649; edges_y: 0.200976448299; pairs: 16,20\" role=\"graphics-symbol\" aria-roledescription=\"line mark\" d=\"M166.30124440529283,159.80471034017262L219.78210975793053,329.19678189707236\" stroke=\"black\" stroke-width=\"0.5\"></path></g></g><path class=\"foreground\" aria-hidden=\"true\" d=\"\" display=\"none\"></path></g><g transform=\"translate(0,0)\"><path class=\"background\" aria-hidden=\"true\" d=\"M0,0h600v400h-600Z\"></path><g><g class=\"mark-line role-mark layer_0_marks\" role=\"graphics-object\" aria-roledescription=\"line mark container\" pointer-events=\"none\"><path aria-label=\"edges_x: -0.445662518649; edges_y: 0.200976448299; pairs: 17,20\" role=\"graphics-symbol\" aria-roledescription=\"line mark\" d=\"M166.30124440529283,159.80471034017262L404.82105643795774,283.2415078473859\" stroke=\"black\" stroke-width=\"0.5\"></path></g></g><path class=\"foreground\" aria-hidden=\"true\" d=\"\" display=\"none\"></path></g><g transform=\"translate(0,0)\"><path class=\"background\" aria-hidden=\"true\" d=\"M0,0h600v400h-600Z\"></path><g><g class=\"mark-line role-mark layer_0_marks\" role=\"graphics-object\" aria-roledescription=\"line mark container\" pointer-events=\"none\"><path aria-label=\"edges_x: -0.445662518649; edges_y: 0.200976448299; pairs: 18,20\" role=\"graphics-symbol\" aria-roledescription=\"line mark\" d=\"M166.30124440529283,159.80471034017262L176.44992644770514,241.28056105025507\" stroke=\"black\" stroke-width=\"0.5\"></path></g></g><path class=\"foreground\" aria-hidden=\"true\" d=\"\" display=\"none\"></path></g><g transform=\"translate(0,0)\"><path class=\"background\" aria-hidden=\"true\" d=\"M0,0h600v400h-600Z\"></path><g><g class=\"mark-line role-mark layer_0_marks\" role=\"graphics-object\" aria-roledescription=\"line mark container\" pointer-events=\"none\"><path aria-label=\"edges_x: -0.445662518649; edges_y: 0.200976448299; pairs: 19,20\" role=\"graphics-symbol\" aria-roledescription=\"line mark\" d=\"M166.30124440529283,159.80471034017262L489.56144719785715,223.14940324503985\" stroke=\"black\" stroke-width=\"0.5\"></path></g></g><path class=\"foreground\" aria-hidden=\"true\" d=\"\" display=\"none\"></path></g></g><g class=\"mark-symbol role-mark layer_1_marks\" role=\"graphics-object\" aria-roledescription=\"symbol mark container\"><path aria-label=\"node_x: 0.029535108089; node_y: -0.304817875432; centrality: 0.0052488771787; keywords: x1\" role=\"graphics-symbol\" aria-roledescription=\"circle\" transform=\"translate(308.86053242670425,260.96357508645826)\" d=\"M7.0710678118654755,0A7.0710678118654755,7.0710678118654755,0,1,1,-7.0710678118654755,0A7.0710678118654755,7.0710678118654755,0,1,1,7.0710678118654755,0\" fill=\"rgb(203, 223, 241)\" stroke-width=\"2\" opacity=\"1\"></path><path aria-label=\"node_x: 0.429080036042; node_y: 0.820730474721; centrality: 0.0339485381797; keywords: x2\" role=\"graphics-symbol\" aria-roledescription=\"circle\" transform=\"translate(428.7240108126033,35.85390505576132)\" d=\"M7.0710678118654755,0A7.0710678118654755,7.0710678118654755,0,1,1,-7.0710678118654755,0A7.0710678118654755,7.0710678118654755,0,1,1,7.0710678118654755,0\" fill=\"rgb(182, 212, 233)\" stroke-width=\"2\" opacity=\"1\"></path><path aria-label=\"node_x: 1; node_y: -0.00340400029429; centrality: 0.0634588923289; keywords: x3\" role=\"graphics-symbol\" aria-roledescription=\"circle\" transform=\"translate(600,200.68080005885884)\" d=\"M7.0710678118654755,0A7.0710678118654755,7.0710678118654755,0,1,1,-7.0710678118654755,0A7.0710678118654755,7.0710678118654755,0,1,1,7.0710678118654755,0\" fill=\"rgb(154, 199, 225)\" stroke-width=\"2\" opacity=\"1\"></path><path aria-label=\"node_x: 0.094829015501; node_y: 1; centrality: 0.246836548385; keywords: x4\" role=\"graphics-symbol\" aria-roledescription=\"circle\" transform=\"translate(328.4487046502985,0)\" d=\"M7.0710678118654755,0A7.0710678118654755,7.0710678118654755,0,1,1,-7.0710678118654755,0A7.0710678118654755,7.0710678118654755,0,1,1,7.0710678118654755,0\" fill=\"rgb(10, 74, 144)\" stroke-width=\"2\" opacity=\"1\"></path><path aria-label=\"node_x: 0.252272802569; node_y: 0.39164089754; centrality: 0; keywords: x5\" role=\"graphics-symbol\" aria-roledescription=\"circle\" transform=\"translate(375.6818407705831,121.67182049192013)\" d=\"M7.0710678118654755,0A7.0710678118654755,7.0710678118654755,0,1,1,-7.0710678118654755,0A7.0710678118654755,7.0710678118654755,0,1,1,7.0710678118654755,0\" fill=\"rgb(207, 225, 242)\" stroke-width=\"2\" opacity=\"1\"></path><path aria-label=\"node_x: -0.198082341297; node_y: 0.799993432483; centrality: 0; keywords: x6\" role=\"graphics-symbol\" aria-roledescription=\"circle\" transform=\"translate(240.57529761081594,40.00131350344098)\" d=\"M7.0710678118654755,0A7.0710678118654755,7.0710678118654755,0,1,1,-7.0710678118654755,0A7.0710678118654755,7.0710678118654755,0,1,1,7.0710678118654755,0\" fill=\"rgb(207, 225, 242)\" stroke-width=\"2\" opacity=\"1\"></path><path aria-label=\"node_x: -1; node_y: 0.295181463009; centrality: 0.0529297098957; keywords: x7\" role=\"graphics-symbol\" aria-roledescription=\"circle\" transform=\"translate(0,140.9637073982731)\" d=\"M7.0710678118654755,0A7.0710678118654755,7.0710678118654755,0,1,1,-7.0710678118654755,0A7.0710678118654755,7.0710678118654755,0,1,1,7.0710678118654755,0\" fill=\"rgb(164, 204, 228)\" stroke-width=\"2\" opacity=\"1\"></path><path aria-label=\"node_x: -0.448585912778; node_y: 0.603952796137; centrality: 0; keywords: x8\" role=\"graphics-symbol\" aria-roledescription=\"circle\" transform=\"translate(165.42422616645047,79.20944077253895)\" d=\"M7.0710678118654755,0A7.0710678118654755,7.0710678118654755,0,1,1,-7.0710678118654755,0A7.0710678118654755,7.0710678118654755,0,1,1,7.0710678118654755,0\" fill=\"rgb(207, 225, 242)\" stroke-width=\"2\" opacity=\"1\"></path><path aria-label=\"node_x: 0.654788388258; node_y: -0.695431922473; centrality: 0.00362444572971; keywords: x9\" role=\"graphics-symbol\" aria-roledescription=\"circle\" transform=\"translate(496.4365164773936,339.08638449462234)\" d=\"M7.0710678118654755,0A7.0710678118654755,7.0710678118654755,0,1,1,-7.0710678118654755,0A7.0710678118654755,7.0710678118654755,0,1,1,7.0710678118654755,0\" fill=\"rgb(205, 224, 241)\" stroke-width=\"2\" opacity=\"1\"></path><path aria-label=\"node_x: -0.0385236307565; node_y: 0.184968812535; centrality: 0; keywords: x10\" role=\"graphics-symbol\" aria-roledescription=\"circle\" transform=\"translate(288.44291077305144,163.006237493086)\" d=\"M7.0710678118654755,0A7.0710678118654755,7.0710678118654755,0,1,1,-7.0710678118654755,0A7.0710678118654755,7.0710678118654755,0,1,1,7.0710678118654755,0\" fill=\"rgb(207, 225, 242)\" stroke-width=\"2\" opacity=\"1\"></path><path aria-label=\"node_x: 0.868000575554; node_y: 0.573701390881; centrality: 0.0102883843596; keywords: x11\" role=\"graphics-symbol\" aria-roledescription=\"circle\" transform=\"translate(560.400172666227,85.25972182370913)\" d=\"M7.0710678118654755,0A7.0710678118654755,7.0710678118654755,0,1,1,-7.0710678118654755,0A7.0710678118654755,7.0710678118654755,0,1,1,7.0710678118654755,0\" fill=\"rgb(200, 221, 239)\" stroke-width=\"2\" opacity=\"1\"></path><path aria-label=\"node_x: -0.869468575863; node_y: -0.436028397306; centrality: 0.246016436264; keywords: x12\" role=\"graphics-symbol\" aria-roledescription=\"circle\" transform=\"translate(39.159427241035395,287.20567946120485)\" d=\"M7.0710678118654755,0A7.0710678118654755,7.0710678118654755,0,1,1,-7.0710678118654755,0A7.0710678118654755,7.0710678118654755,0,1,1,7.0710678118654755,0\" fill=\"rgb(10, 75, 145)\" stroke-width=\"2\" opacity=\"1\"></path><path aria-label=\"node_x: -0.660709085585; node_y: -0.942286333431; centrality: 0.0665960611265; keywords: x13\" role=\"graphics-symbol\" aria-roledescription=\"circle\" transform=\"translate(101.7872743244661,388.45726668629413)\" d=\"M7.0710678118654755,0A7.0710678118654755,7.0710678118654755,0,1,1,-7.0710678118654755,0A7.0710678118654755,7.0710678118654755,0,1,1,7.0710678118654755,0\" fill=\"rgb(151, 197, 224)\" stroke-width=\"2\" opacity=\"1\"></path><path aria-label=\"node_x: -0.0483220132131; node_y: -1; centrality: 0; keywords: x14\" role=\"graphics-symbol\" aria-roledescription=\"circle\" transform=\"translate(285.50339603607347,400)\" d=\"M7.0710678118654755,0A7.0710678118654755,7.0710678118654755,0,1,1,-7.0710678118654755,0A7.0710678118654755,7.0710678118654755,0,1,1,7.0710678118654755,0\" fill=\"rgb(207, 225, 242)\" stroke-width=\"2\" opacity=\"1\"></path><path aria-label=\"node_x: 0.242611257468; node_y: -0.86005305431; centrality: 0.00408357075024; keywords: x15\" role=\"graphics-symbol\" aria-roledescription=\"circle\" transform=\"translate(372.7833772404744,372.01061086206767)\" d=\"M7.0710678118654755,0A7.0710678118654755,7.0710678118654755,0,1,1,-7.0710678118654755,0A7.0710678118654755,7.0710678118654755,0,1,1,7.0710678118654755,0\" fill=\"rgb(204, 224, 241)\" stroke-width=\"2\" opacity=\"1\"></path><path aria-label=\"node_x: -0.267392967474; node_y: -0.645983909485; centrality: 0.00162443144899; keywords: x16\" role=\"graphics-symbol\" aria-roledescription=\"circle\" transform=\"translate(219.78210975793053,329.19678189707236)\" d=\"M7.0710678118654755,0A7.0710678118654755,7.0710678118654755,0,1,1,-7.0710678118654755,0A7.0710678118654755,7.0710678118654755,0,1,1,7.0710678118654755,0\" fill=\"rgb(206, 224, 242)\" stroke-width=\"2\" opacity=\"1\"></path><path aria-label=\"node_x: 0.34940352146; node_y: -0.416207539237; centrality: 0.0312538930702; keywords: x17\" role=\"graphics-symbol\" aria-roledescription=\"circle\" transform=\"translate(404.82105643795774,283.2415078473859)\" d=\"M7.0710678118654755,0A7.0710678118654755,7.0710678118654755,0,1,1,-7.0710678118654755,0A7.0710678118654755,7.0710678118654755,0,1,1,7.0710678118654755,0\" fill=\"rgb(184, 213, 234)\" stroke-width=\"2\" opacity=\"1\"></path><path aria-label=\"node_x: -0.411833578508; node_y: -0.206402805251; centrality: 0; keywords: x18\" role=\"graphics-symbol\" aria-roledescription=\"circle\" transform=\"translate(176.44992644770514,241.28056105025507)\" d=\"M7.0710678118654755,0A7.0710678118654755,7.0710678118654755,0,1,1,-7.0710678118654755,0A7.0710678118654755,7.0710678118654755,0,1,1,7.0710678118654755,0\" fill=\"rgb(207, 225, 242)\" stroke-width=\"2\" opacity=\"1\"></path><path aria-label=\"node_x: 0.63187149066; node_y: -0.115747016225; centrality: 0.00103463787674; keywords: x19\" role=\"graphics-symbol\" aria-roledescription=\"circle\" transform=\"translate(489.56144719785715,223.14940324503985)\" d=\"M7.0710678118654755,0A7.0710678118654755,7.0710678118654755,0,1,1,-7.0710678118654755,0A7.0710678118654755,7.0710678118654755,0,1,1,7.0710678118654755,0\" fill=\"rgb(206, 225, 242)\" stroke-width=\"2\" opacity=\"1\"></path><path aria-label=\"node_x: -0.445662518649; node_y: 0.200976448299; centrality: 0.0105163192882; keywords: x20\" role=\"graphics-symbol\" aria-roledescription=\"circle\" transform=\"translate(166.30124440529283,159.80471034017262)\" d=\"M7.0710678118654755,0A7.0710678118654755,7.0710678118654755,0,1,1,-7.0710678118654755,0A7.0710678118654755,7.0710678118654755,0,1,1,7.0710678118654755,0\" fill=\"rgb(200, 221, 239)\" stroke-width=\"2\" opacity=\"1\"></path></g><g class=\"mark-group role-legend\" role=\"graphics-symbol\" aria-roledescription=\"legend\" aria-label=\"Gradient legend titled 'centrality' for fill color with values from 0.00 to 0.25\"><g transform=\"translate(619,0)\"><path class=\"background\" aria-hidden=\"true\" d=\"M0,0h59v216h-59Z\" pointer-events=\"none\"></path><g><g class=\"mark-group role-legend-entry\"><g transform=\"translate(0,16)\"><path class=\"background\" aria-hidden=\"true\" d=\"M0,0h0v0h0Z\" pointer-events=\"none\"></path><g><g class=\"mark-rect role-legend-gradient\" pointer-events=\"none\"><path d=\"M0,0h16v200h-16Z\" fill=\"url(#gradient_0)\" stroke=\"#ddd\" stroke-width=\"0\" opacity=\"1\"></path></g><g class=\"mark-text role-legend-label\" pointer-events=\"none\"><text text-anchor=\"start\" transform=\"translate(18,198)\" font-family=\"sans-serif\" font-size=\"10px\" fill=\"#000\" opacity=\"1\">0.00</text><text text-anchor=\"start\" transform=\"translate(18,162.48736090564094)\" font-family=\"sans-serif\" font-size=\"10px\" fill=\"#000\" opacity=\"1\">0.05</text><text text-anchor=\"start\" transform=\"translate(18,121.97472181128191)\" font-family=\"sans-serif\" font-size=\"10px\" fill=\"#000\" opacity=\"1\">0.10</text><text text-anchor=\"start\" transform=\"translate(18,81.46208271692288)\" font-family=\"sans-serif\" font-size=\"10px\" fill=\"#000\" opacity=\"1\">0.15</text><text text-anchor=\"start\" transform=\"translate(18,40.94944362256383)\" font-family=\"sans-serif\" font-size=\"10px\" fill=\"#000\" opacity=\"1\">0.20</text></g></g><path class=\"foreground\" aria-hidden=\"true\" d=\"\" pointer-events=\"none\" display=\"none\"></path></g></g><g class=\"mark-text role-legend-title\" pointer-events=\"none\"><text text-anchor=\"start\" transform=\"translate(0,9)\" font-family=\"sans-serif\" font-size=\"11px\" font-weight=\"bold\" fill=\"#000\" opacity=\"1\">centrality</text></g></g><path class=\"foreground\" aria-hidden=\"true\" d=\"\" pointer-events=\"none\" display=\"none\"></path></g></g></g><path class=\"foreground\" aria-hidden=\"true\" d=\"\" display=\"none\"></path></g></g></g></svg>\n"
      ],
      "text/plain": [
       "@vlplot(\n",
       "    view={\n",
       "        stroke=nothing\n",
       "    },\n",
       "    layer=[\n",
       "        {\n",
       "            mark={\n",
       "                type=\"line\",\n",
       "                color=\"black\",\n",
       "                clip=false,\n",
       "                size=0.5\n",
       "            },\n",
       "            data={\n",
       "                values=...\n",
       "            },\n",
       "            encoding={\n",
       "                x={\n",
       "                    axis=nothing,\n",
       "                    field=\"edges_x\",\n",
       "                    type=\"quantitative\"\n",
       "                },\n",
       "                y={\n",
       "                    axis=nothing,\n",
       "                    field=\"edges_y\",\n",
       "                    type=\"quantitative\"\n",
       "                },\n",
       "                detail={\n",
       "                    field=\"pairs\",\n",
       "                    type=\"ordinal\"\n",
       "                }\n",
       "            },\n",
       "            width=600,\n",
       "            height=400\n",
       "        },\n",
       "        {\n",
       "            mark={\n",
       "                type=\"circle\",\n",
       "                clip=false,\n",
       "                opacity=1\n",
       "            },\n",
       "            data={\n",
       "                values=...\n",
       "            },\n",
       "            width=600,\n",
       "            height=400,\n",
       "            selection={\n",
       "                grid={\n",
       "                    type=\"interval\",\n",
       "                    bind=\"scales\"\n",
       "                }\n",
       "            },\n",
       "            encoding={\n",
       "                x={\n",
       "                    axis=nothing,\n",
       "                    field=\"node_x\",\n",
       "                    type=\"quantitative\"\n",
       "                },\n",
       "                y={\n",
       "                    axis=nothing,\n",
       "                    field=\"node_y\",\n",
       "                    type=\"quantitative\"\n",
       "                },\n",
       "                size={\n",
       "                    value=200,\n",
       "                    legend=nothing\n",
       "                },\n",
       "                color={\n",
       "                    scale={\n",
       "                        scheme=\"blues\"\n",
       "                    },\n",
       "                    field=\"centrality\",\n",
       "                    type=\"quantitative\"\n",
       "                },\n",
       "                tooltip=[\n",
       "                    {\n",
       "                        field=\"keywords\",\n",
       "                        type=\"nominal\"\n",
       "                    }\n",
       "                ]\n",
       "            }\n",
       "        }\n",
       "    ]\n",
       ")"
      ]
     },
     "execution_count": 87,
     "metadata": {},
     "output_type": "execute_result"
    }
   ],
   "source": [
    "v1 =@vlplot(\n",
    "    mark={\"type\"=:circle,clip=false,opacity=1},\n",
    "    data = graph_nodes,\n",
    "    x={\"node_x:q\",axis=nothing},\n",
    "    y={\"node_y:q\",axis=nothing},\n",
    "    size={value=200,legend=nothing},\n",
    "    color={\"centrality:q\", scale={scheme=\"blues\"}},\n",
    "    tooltip=[{field=\"keywords\",\"type\"=\"nominal\"}],\n",
    "    width=600,\n",
    "    height=400,\n",
    "    selection={\n",
    "        grid={\n",
    "                type=:interval,\n",
    "                bind=:scales,\n",
    "            }\n",
    "    }\n",
    ")\n",
    "\n",
    "v2 =@vlplot(\n",
    "    mark={\"type\"=:line,color=\"black\",clip=false,size=0.5},\n",
    "    data = graph_edges,\n",
    "    encoding={\n",
    "    x={\"edges_x:q\",axis=nothing},\n",
    "    y={\"edges_y:q\",axis=nothing},\n",
    "#     size={\"ew:q\",legend=nothing},\n",
    "    detail={\"pairs:o\"}},\n",
    "    width=600,\n",
    "    height=400\n",
    ");\n",
    "\n",
    "graph_plot = @vlplot(view={stroke=nothing})+v2+v1"
   ]
  },
  {
   "cell_type": "code",
   "execution_count": 84,
   "metadata": {},
   "outputs": [
    {
     "data": {
      "text/plain": [
       "OrderedCollections.OrderedDict{String,Any} with 4 entries:\n",
       "  \"type\"  => :line\n",
       "  \"color\" => \"black\"\n",
       "  \"clip\"  => false\n",
       "  \"size\"  => 0.5"
      ]
     },
     "execution_count": 84,
     "metadata": {},
     "output_type": "execute_result"
    }
   ],
   "source": [
    "# @set graph_plot.layer[1][\"mark\"][\"type\"] = :trail\n",
    "vv = @vlplot() + v2\n",
    "vv.layer[1][\"mark\"]"
   ]
  }
 ],
 "metadata": {
  "kernelspec": {
   "display_name": "JuliaML 1.5.2",
   "language": "julia",
   "name": "juliaml-1.5"
  },
  "language_info": {
   "file_extension": ".jl",
   "mimetype": "application/julia",
   "name": "julia",
   "version": "1.5.2"
  }
 },
 "nbformat": 4,
 "nbformat_minor": 4
}
