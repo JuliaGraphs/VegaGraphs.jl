{
 "cells": [
  {
   "cell_type": "code",
   "execution_count": 186,
   "metadata": {},
   "outputs": [
    {
     "name": "stderr",
     "output_type": "stream",
     "text": [
      "\u001b[32m\u001b[1m Activating\u001b[22m\u001b[39m environment at `~/MEGAsync/EMAp/VegaGraphs/Project.toml`\n"
     ]
    }
   ],
   "source": [
    "using Pkg, Revise, VegaLite\n",
    "Pkg.activate(\"../.\")\n",
    "using LightGraphs, GraphPlot, SimpleWeightedGraphs, LinearAlgebra, DataFrames, Random, Colors\n",
    "using VegaGraphs"
   ]
  },
  {
   "cell_type": "code",
   "execution_count": 187,
   "metadata": {},
   "outputs": [],
   "source": [
    "Random.seed!(7)\n",
    "df = DataFrame(rand([0,1],10,20));"
   ]
  },
  {
   "cell_type": "code",
   "execution_count": 196,
   "metadata": {},
   "outputs": [
    {
     "ename": "LoadError",
     "evalue": "UndefVarError: edg not defined",
     "output_type": "error",
     "traceback": [
      "UndefVarError: edg not defined",
      "",
      "Stacktrace:",
      " [1] top-level scope at In[196]:2",
      " [2] include_string(::Function, ::Module, ::String, ::String) at ./loading.jl:1091",
      " [3] execute_code(::String, ::String) at /home/davi/.julia/packages/IJulia/a1SNk/src/execute_request.jl:27",
      " [4] execute_request(::ZMQ.Socket, ::IJulia.Msg) at /home/davi/.julia/packages/IJulia/a1SNk/src/execute_request.jl:86",
      " [5] #invokelatest#1 at ./essentials.jl:710 [inlined]",
      " [6] invokelatest at ./essentials.jl:709 [inlined]",
      " [7] eventloop(::ZMQ.Socket) at /home/davi/.julia/packages/IJulia/a1SNk/src/eventloop.jl:8",
      " [8] (::IJulia.var\"#15#18\")() at ./task.jl:356"
     ]
    }
   ],
   "source": [
    "field= rand([100,200,300],20)\n",
    "p = VegaGraphs.graphplot(df,tooltip=true,\n",
    "    node_label=false,node_colorfield=field,\n",
    "    node_colorfieldtype=\"o\",node_sizefield=field)\n",
    "# VegaGraphs.graphplot(df,tooltip=true,node_label=false)"
   ]
  },
  {
   "cell_type": "code",
   "execution_count": 168,
   "metadata": {},
   "outputs": [
    {
     "data": {
      "text/plain": [
       "OrderedCollections.OrderedDict{String,Any} with 4 entries:\n",
       "  \"x\"      => OrderedCollections.OrderedDict{String,Any}(\"axis\"=>nothing,\"field…\n",
       "  \"y\"      => OrderedCollections.OrderedDict{String,Any}(\"axis\"=>nothing,\"field…\n",
       "  \"size\"   => OrderedCollections.OrderedDict{String,Any}(\"legend\"=>nothing,\"fie…\n",
       "  \"detail\" => OrderedCollections.OrderedDict{String,Any}(\"field\"=>\"pairs\",\"type…"
      ]
     },
     "execution_count": 168,
     "metadata": {},
     "output_type": "execute_result"
    }
   ],
   "source": [
    "p.layer[1][\"encoding\"]"
   ]
  },
  {
   "cell_type": "code",
   "execution_count": 48,
   "metadata": {},
   "outputs": [
    {
     "data": {
      "text/plain": [
       "pairs(::NamedTuple) with 1 entry:\n",
       "  :node_sizefield => [0.962181, 0.352891, 0.197407, 0.0275658, 0.695998, 0.6362…"
      ]
     },
     "execution_count": 48,
     "metadata": {},
     "output_type": "execute_result"
    }
   ],
   "source": [
    "n = test(node_sizefield=rand(10))"
   ]
  },
  {
   "cell_type": "code",
   "execution_count": 69,
   "metadata": {},
   "outputs": [],
   "source": [
    "kk = 0\n",
    "for (k,v) in n\n",
    "    kk = v\n",
    "end"
   ]
  },
  {
   "cell_type": "code",
   "execution_count": 141,
   "metadata": {},
   "outputs": [
    {
     "name": "stdout",
     "output_type": "stream",
     "text": [
      "node_sizefield\n",
      "node_sie\n"
     ]
    }
   ],
   "source": [
    "for (k,v) in Dict(:node_sizefield=>1,:node_sie=>3)\n",
    "    println(k)\n",
    "end"
   ]
  },
  {
   "cell_type": "code",
   "execution_count": 89,
   "metadata": {},
   "outputs": [
    {
     "data": {
      "text/plain": [
       "10-element Array{Float64,1}:\n",
       " 0.3550497536381618\n",
       " 0.6774365102900426\n",
       " 0.827343244706443\n",
       " 0.11066079229683257\n",
       " 0.44028805050404807\n",
       " 0.5004067791777393\n",
       " 0.23818199074778512\n",
       " 0.2376902594906911\n",
       " 0.27969216786696616\n",
       " 0.708809656597365"
      ]
     },
     "execution_count": 89,
     "metadata": {},
     "output_type": "execute_result"
    }
   ],
   "source": [
    "df[:new] = rand(10)"
   ]
  },
  {
   "cell_type": "code",
   "execution_count": 88,
   "metadata": {},
   "outputs": [
    {
     "data": {
      "text/plain": [
       "10-element Array{Float64,1}:\n",
       " 0.4969253972196168\n",
       " 0.6222109083793195\n",
       " 0.6312928676991856\n",
       " 0.8143215365093088\n",
       " 0.7432801760828582\n",
       " 0.966335514559246\n",
       " 0.531880095390376\n",
       " 0.9765991104892204\n",
       " 0.9018230702090304\n",
       " 0.33054881659455426"
      ]
     },
     "execution_count": 88,
     "metadata": {},
     "output_type": "execute_result"
    }
   ],
   "source": [
    "df[:new]"
   ]
  }
 ],
 "metadata": {
  "kernelspec": {
   "display_name": "JuliaML 1.5.2",
   "language": "julia",
   "name": "juliaml-1.5"
  },
  "language_info": {
   "file_extension": ".jl",
   "mimetype": "application/julia",
   "name": "julia",
   "version": "1.5.2"
  }
 },
 "nbformat": 4,
 "nbformat_minor": 4
}
