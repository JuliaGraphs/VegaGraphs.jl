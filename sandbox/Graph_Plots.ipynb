{
 "cells": [
  {
   "cell_type": "code",
   "execution_count": 2,
   "metadata": {},
   "outputs": [
    {
     "name": "stderr",
     "output_type": "stream",
     "text": [
      "\u001b[32m\u001b[1m Activating\u001b[22m\u001b[39m environment at `~/MEGAsync/EMAp/VegaGraphs/Project.toml`\n",
      "┌ Info: Precompiling VegaLite [112f6efa-9a02-5b7d-90c0-432ed331239a]\n",
      "└ @ Base loading.jl:1278\n"
     ]
    }
   ],
   "source": [
    "using Revise, Pkg\n",
    "Pkg.activate(\"../.\")\n",
    "using DataFrames, VegaLite, VegaDatasets\n",
    "using Distributions, KernelDensity\n",
    "using LightGraphs, GraphPlot, SimpleWeightedGraphs, LinearAlgebra, DataFrames, Random, Colors"
   ]
  },
  {
   "cell_type": "code",
   "execution_count": 3,
   "metadata": {},
   "outputs": [],
   "source": [
    "Random.seed!(7)\n",
    "df = DataFrame(rand([0,1],10,20));"
   ]
  },
  {
   "cell_type": "code",
   "execution_count": 4,
   "metadata": {},
   "outputs": [
    {
     "data": {
      "text/plain": [
       "get_edges (generic function with 1 method)"
      ]
     },
     "execution_count": 4,
     "metadata": {},
     "output_type": "execute_result"
    }
   ],
   "source": [
    "function gen_graph(df)\n",
    "    g = SimpleWeightedGraph(ncol(df))\n",
    "    ew = Int[]\n",
    "    pairings = [] \n",
    "    for i in 1:ncol(df), j in i+1:ncol(df) # iterate over all combinations of columns\n",
    "        w = dot(df[!, i], df[!, j])        # calculate how many times (i,j) occurs\n",
    "        if w > 0\n",
    "            push!(ew, w)\n",
    "            add_edge!(g, i, j, w)\n",
    "            push!(pairings,[i,j])\n",
    "        end\n",
    "    end\n",
    "#     gplot(g,nodelabel=names(df),edgelinewidth=ew)\n",
    "#     gplot(g)\n",
    "    return (g,ew)\n",
    "end\n",
    "\n",
    "function get_edges(g,node_x,node_y)\n",
    "    edges_p1 = []\n",
    "    edges_p2 = []\n",
    "    edges_w  = Float64[]\n",
    "    for i in edges(g)\n",
    "        push!(edges_p1, i.src)\n",
    "        push!(edges_p1, i.src)\n",
    "        push!(edges_p2, i.dst)\n",
    "        push!(edges_p2, i.dst)\n",
    "        push!(edges_w, i.weight)\n",
    "        push!(edges_w, i.weight)\n",
    "    end\n",
    "    \n",
    "    edges_node  = Int[]\n",
    "    edges_pairs = []\n",
    "    for i in 1:size(edges_p1)[1]\n",
    "        if i % 2 == 0\n",
    "            push!(edges_node,edges_p2[i])\n",
    "        else\n",
    "            push!(edges_node,edges_p1[i])\n",
    "        end\n",
    "        push!(edges_pairs,[edges_p1[i],edges_p2[i]])\n",
    "    end \n",
    "    graph_edges = DataFrame(edges_x = node_x[edges_node], edges_y = node_y[edges_node],\n",
    "                       pairs = edges_pairs, ew = edges_w, node = edges_node) \n",
    "    return graph_edges\n",
    "end"
   ]
  },
  {
   "cell_type": "code",
   "execution_count": 5,
   "metadata": {},
   "outputs": [],
   "source": [
    "g,ew = gen_graph(df)\n",
    "node_x, node_y = GraphPlot.spring_layout(g);\n",
    "graph_edges = get_edges(g,node_x,node_y);\n",
    "graph_edges[:ew] = graph_edges[:ew]/10;\n",
    "graph_nodes = DataFrame(keywords = names(df),node_x=node_x, node_y=node_y,centrality=betweenness_centrality(g));"
   ]
  },
  {
   "cell_type": "code",
   "execution_count": 6,
   "metadata": {},
   "outputs": [
    {
     "data": {
      "application/vnd.vegalite.v4+json": {
       "layer": [
        {
         "data": {
          "values": [
           {
            "edges_x": 0.3835319969169646,
            "edges_y": 0.17590031562464548,
            "ew": 0.2,
            "node": 1,
            "pairs": [
             1,
             2
            ]
           },
           {
            "edges_x": -0.6917798331610459,
            "edges_y": 0.8396771803699119,
            "ew": 0.2,
            "node": 2,
            "pairs": [
             1,
             2
            ]
           },
           {
            "edges_x": 0.3835319969169646,
            "edges_y": 0.17590031562464548,
            "ew": 0.3,
            "node": 1,
            "pairs": [
             1,
             3
            ]
           },
           {
            "edges_x": -1,
            "edges_y": -0.6079518082093948,
            "ew": 0.3,
            "node": 3,
            "pairs": [
             1,
             3
            ]
           },
           {
            "edges_x": -0.6917798331610459,
            "edges_y": 0.8396771803699119,
            "ew": 0.3,
            "node": 2,
            "pairs": [
             2,
             3
            ]
           },
           {
            "edges_x": -1,
            "edges_y": -0.6079518082093948,
            "ew": 0.3,
            "node": 3,
            "pairs": [
             2,
             3
            ]
           },
           {
            "edges_x": 0.3835319969169646,
            "edges_y": 0.17590031562464548,
            "ew": 0.1,
            "node": 1,
            "pairs": [
             1,
             4
            ]
           },
           {
            "edges_x": -0.12847614713322708,
            "edges_y": 0.9147807188277042,
            "ew": 0.1,
            "node": 4,
            "pairs": [
             1,
             4
            ]
           },
           {
            "edges_x": -0.6917798331610459,
            "edges_y": 0.8396771803699119,
            "ew": 0.1,
            "node": 2,
            "pairs": [
             2,
             4
            ]
           },
           {
            "edges_x": -0.12847614713322708,
            "edges_y": 0.9147807188277042,
            "ew": 0.1,
            "node": 4,
            "pairs": [
             2,
             4
            ]
           },
           {
            "edges_x": -1,
            "edges_y": -0.6079518082093948,
            "ew": 0.1,
            "node": 3,
            "pairs": [
             3,
             4
            ]
           },
           {
            "edges_x": -0.12847614713322708,
            "edges_y": 0.9147807188277042,
            "ew": 0.1,
            "node": 4,
            "pairs": [
             3,
             4
            ]
           },
           {
            "edges_x": 0.3835319969169646,
            "edges_y": 0.17590031562464548,
            "ew": 0.4,
            "node": 1,
            "pairs": [
             1,
             5
            ]
           },
           {
            "edges_x": -0.3349392936954114,
            "edges_y": 0.5251424884458904,
            "ew": 0.4,
            "node": 5,
            "pairs": [
             1,
             5
            ]
           },
           {
            "edges_x": -0.6917798331610459,
            "edges_y": 0.8396771803699119,
            "ew": 0.2,
            "node": 2,
            "pairs": [
             2,
             5
            ]
           },
           {
            "edges_x": -0.3349392936954114,
            "edges_y": 0.5251424884458904,
            "ew": 0.2,
            "node": 5,
            "pairs": [
             2,
             5
            ]
           },
           {
            "edges_x": -1,
            "edges_y": -0.6079518082093948,
            "ew": 0.1,
            "node": 3,
            "pairs": [
             3,
             5
            ]
           },
           {
            "edges_x": -0.3349392936954114,
            "edges_y": 0.5251424884458904,
            "ew": 0.1,
            "node": 5,
            "pairs": [
             3,
             5
            ]
           },
           {
            "edges_x": -0.12847614713322708,
            "edges_y": 0.9147807188277042,
            "ew": 0.1,
            "node": 4,
            "pairs": [
             4,
             5
            ]
           },
           {
            "edges_x": -0.3349392936954114,
            "edges_y": 0.5251424884458904,
            "ew": 0.1,
            "node": 5,
            "pairs": [
             4,
             5
            ]
           },
           {
            "edges_x": 0.3835319969169646,
            "edges_y": 0.17590031562464548,
            "ew": 0.5,
            "node": 1,
            "pairs": [
             1,
             6
            ]
           },
           {
            "edges_x": -0.5208188164712826,
            "edges_y": 0.11672104544040951,
            "ew": 0.5,
            "node": 6,
            "pairs": [
             1,
             6
            ]
           },
           {
            "edges_x": -0.6917798331610459,
            "edges_y": 0.8396771803699119,
            "ew": 0.4,
            "node": 2,
            "pairs": [
             2,
             6
            ]
           },
           {
            "edges_x": -0.5208188164712826,
            "edges_y": 0.11672104544040951,
            "ew": 0.4,
            "node": 6,
            "pairs": [
             2,
             6
            ]
           },
           {
            "edges_x": -1,
            "edges_y": -0.6079518082093948,
            "ew": 0.3,
            "node": 3,
            "pairs": [
             3,
             6
            ]
           },
           {
            "edges_x": -0.5208188164712826,
            "edges_y": 0.11672104544040951,
            "ew": 0.3,
            "node": 6,
            "pairs": [
             3,
             6
            ]
           },
           {
            "edges_x": -0.12847614713322708,
            "edges_y": 0.9147807188277042,
            "ew": 0.2,
            "node": 4,
            "pairs": [
             4,
             6
            ]
           },
           {
            "edges_x": -0.5208188164712826,
            "edges_y": 0.11672104544040951,
            "ew": 0.2,
            "node": 6,
            "pairs": [
             4,
             6
            ]
           },
           {
            "edges_x": -0.3349392936954114,
            "edges_y": 0.5251424884458904,
            "ew": 0.4,
            "node": 5,
            "pairs": [
             5,
             6
            ]
           },
           {
            "edges_x": -0.5208188164712826,
            "edges_y": 0.11672104544040951,
            "ew": 0.4,
            "node": 6,
            "pairs": [
             5,
             6
            ]
           },
           {
            "edges_x": 0.3835319969169646,
            "edges_y": 0.17590031562464548,
            "ew": 0.1,
            "node": 1,
            "pairs": [
             1,
             7
            ]
           },
           {
            "edges_x": 1,
            "edges_y": 0.12899046670079795,
            "ew": 0.1,
            "node": 7,
            "pairs": [
             1,
             7
            ]
           },
           {
            "edges_x": -0.6917798331610459,
            "edges_y": 0.8396771803699119,
            "ew": 0.1,
            "node": 2,
            "pairs": [
             2,
             7
            ]
           },
           {
            "edges_x": 1,
            "edges_y": 0.12899046670079795,
            "ew": 0.1,
            "node": 7,
            "pairs": [
             2,
             7
            ]
           },
           {
            "edges_x": -0.12847614713322708,
            "edges_y": 0.9147807188277042,
            "ew": 0.2,
            "node": 4,
            "pairs": [
             4,
             7
            ]
           },
           {
            "edges_x": 1,
            "edges_y": 0.12899046670079795,
            "ew": 0.2,
            "node": 7,
            "pairs": [
             4,
             7
            ]
           },
           {
            "edges_x": -0.3349392936954114,
            "edges_y": 0.5251424884458904,
            "ew": 0.2,
            "node": 5,
            "pairs": [
             5,
             7
            ]
           },
           {
            "edges_x": 1,
            "edges_y": 0.12899046670079795,
            "ew": 0.2,
            "node": 7,
            "pairs": [
             5,
             7
            ]
           },
           {
            "edges_x": -0.5208188164712826,
            "edges_y": 0.11672104544040951,
            "ew": 0.2,
            "node": 6,
            "pairs": [
             6,
             7
            ]
           },
           {
            "edges_x": 1,
            "edges_y": 0.12899046670079795,
            "ew": 0.2,
            "node": 7,
            "pairs": [
             6,
             7
            ]
           },
           {
            "edges_x": 0.3835319969169646,
            "edges_y": 0.17590031562464548,
            "ew": 0.4,
            "node": 1,
            "pairs": [
             1,
             8
            ]
           },
           {
            "edges_x": 0.10024012459502574,
            "edges_y": -0.3600423296983648,
            "ew": 0.4,
            "node": 8,
            "pairs": [
             1,
             8
            ]
           },
           {
            "edges_x": -0.6917798331610459,
            "edges_y": 0.8396771803699119,
            "ew": 0.4,
            "node": 2,
            "pairs": [
             2,
             8
            ]
           },
           {
            "edges_x": 0.10024012459502574,
            "edges_y": -0.3600423296983648,
            "ew": 0.4,
            "node": 8,
            "pairs": [
             2,
             8
            ]
           },
           {
            "edges_x": -1,
            "edges_y": -0.6079518082093948,
            "ew": 0.4,
            "node": 3,
            "pairs": [
             3,
             8
            ]
           },
           {
            "edges_x": 0.10024012459502574,
            "edges_y": -0.3600423296983648,
            "ew": 0.4,
            "node": 8,
            "pairs": [
             3,
             8
            ]
           },
           {
            "edges_x": -0.12847614713322708,
            "edges_y": 0.9147807188277042,
            "ew": 0.2,
            "node": 4,
            "pairs": [
             4,
             8
            ]
           },
           {
            "edges_x": 0.10024012459502574,
            "edges_y": -0.3600423296983648,
            "ew": 0.2,
            "node": 8,
            "pairs": [
             4,
             8
            ]
           },
           {
            "edges_x": -0.3349392936954114,
            "edges_y": 0.5251424884458904,
            "ew": 0.4,
            "node": 5,
            "pairs": [
             5,
             8
            ]
           },
           {
            "edges_x": 0.10024012459502574,
            "edges_y": -0.3600423296983648,
            "ew": 0.4,
            "node": 8,
            "pairs": [
             5,
             8
            ]
           },
           {
            "edges_x": -0.5208188164712826,
            "edges_y": 0.11672104544040951,
            "ew": 0.4,
            "node": 6,
            "pairs": [
             6,
             8
            ]
           },
           {
            "edges_x": 0.10024012459502574,
            "edges_y": -0.3600423296983648,
            "ew": 0.4,
            "node": 8,
            "pairs": [
             6,
             8
            ]
           },
           {
            "edges_x": 1,
            "edges_y": 0.12899046670079795,
            "ew": 0.2,
            "node": 7,
            "pairs": [
             7,
             8
            ]
           },
           {
            "edges_x": 0.10024012459502574,
            "edges_y": -0.3600423296983648,
            "ew": 0.2,
            "node": 8,
            "pairs": [
             7,
             8
            ]
           },
           {
            "edges_x": 0.3835319969169646,
            "edges_y": 0.17590031562464548,
            "ew": 0.5,
            "node": 1,
            "pairs": [
             1,
             9
            ]
           },
           {
            "edges_x": -0.8928155976366194,
            "edges_y": 0.39796351362515536,
            "ew": 0.5,
            "node": 9,
            "pairs": [
             1,
             9
            ]
           },
           {
            "edges_x": -0.6917798331610459,
            "edges_y": 0.8396771803699119,
            "ew": 0.2,
            "node": 2,
            "pairs": [
             2,
             9
            ]
           },
           {
            "edges_x": -0.8928155976366194,
            "edges_y": 0.39796351362515536,
            "ew": 0.2,
            "node": 9,
            "pairs": [
             2,
             9
            ]
           },
           {
            "edges_x": -1,
            "edges_y": -0.6079518082093948,
            "ew": 0.3,
            "node": 3,
            "pairs": [
             3,
             9
            ]
           },
           {
            "edges_x": -0.8928155976366194,
            "edges_y": 0.39796351362515536,
            "ew": 0.3,
            "node": 9,
            "pairs": [
             3,
             9
            ]
           },
           {
            "edges_x": -0.12847614713322708,
            "edges_y": 0.9147807188277042,
            "ew": 0.1,
            "node": 4,
            "pairs": [
             4,
             9
            ]
           },
           {
            "edges_x": -0.8928155976366194,
            "edges_y": 0.39796351362515536,
            "ew": 0.1,
            "node": 9,
            "pairs": [
             4,
             9
            ]
           },
           {
            "edges_x": -0.3349392936954114,
            "edges_y": 0.5251424884458904,
            "ew": 0.3,
            "node": 5,
            "pairs": [
             5,
             9
            ]
           },
           {
            "edges_x": -0.8928155976366194,
            "edges_y": 0.39796351362515536,
            "ew": 0.3,
            "node": 9,
            "pairs": [
             5,
             9
            ]
           },
           {
            "edges_x": -0.5208188164712826,
            "edges_y": 0.11672104544040951,
            "ew": 0.4,
            "node": 6,
            "pairs": [
             6,
             9
            ]
           },
           {
            "edges_x": -0.8928155976366194,
            "edges_y": 0.39796351362515536,
            "ew": 0.4,
            "node": 9,
            "pairs": [
             6,
             9
            ]
           },
           {
            "edges_x": 0.10024012459502574,
            "edges_y": -0.3600423296983648,
            "ew": 0.4,
            "node": 8,
            "pairs": [
             8,
             9
            ]
           },
           {
            "edges_x": -0.8928155976366194,
            "edges_y": 0.39796351362515536,
            "ew": 0.4,
            "node": 9,
            "pairs": [
             8,
             9
            ]
           },
           {
            "edges_x": 0.3835319969169646,
            "edges_y": 0.17590031562464548,
            "ew": 0.6,
            "node": 1,
            "pairs": [
             1,
             10
            ]
           },
           {
            "edges_x": -0.22779311656189372,
            "edges_y": -0.7199740053898795,
            "ew": 0.6,
            "node": 10,
            "pairs": [
             1,
             10
            ]
           },
           {
            "edges_x": -0.6917798331610459,
            "edges_y": 0.8396771803699119,
            "ew": 0.3,
            "node": 2,
            "pairs": [
             2,
             10
            ]
           },
           {
            "edges_x": -0.22779311656189372,
            "edges_y": -0.7199740053898795,
            "ew": 0.3,
            "node": 10,
            "pairs": [
             2,
             10
            ]
           },
           {
            "edges_x": -1,
            "edges_y": -0.6079518082093948,
            "ew": 0.4,
            "node": 3,
            "pairs": [
             3,
             10
            ]
           },
           {
            "edges_x": -0.22779311656189372,
            "edges_y": -0.7199740053898795,
            "ew": 0.4,
            "node": 10,
            "pairs": [
             3,
             10
            ]
           },
           {
            "edges_x": -0.12847614713322708,
            "edges_y": 0.9147807188277042,
            "ew": 0.3,
            "node": 4,
            "pairs": [
             4,
             10
            ]
           },
           {
            "edges_x": -0.22779311656189372,
            "edges_y": -0.7199740053898795,
            "ew": 0.3,
            "node": 10,
            "pairs": [
             4,
             10
            ]
           },
           {
            "edges_x": -0.3349392936954114,
            "edges_y": 0.5251424884458904,
            "ew": 0.4,
            "node": 5,
            "pairs": [
             5,
             10
            ]
           },
           {
            "edges_x": -0.22779311656189372,
            "edges_y": -0.7199740053898795,
            "ew": 0.4,
            "node": 10,
            "pairs": [
             5,
             10
            ]
           },
           {
            "edges_x": -0.5208188164712826,
            "edges_y": 0.11672104544040951,
            "ew": 0.5,
            "node": 6,
            "pairs": [
             6,
             10
            ]
           },
           {
            "edges_x": -0.22779311656189372,
            "edges_y": -0.7199740053898795,
            "ew": 0.5,
            "node": 10,
            "pairs": [
             6,
             10
            ]
           },
           {
            "edges_x": 1,
            "edges_y": 0.12899046670079795,
            "ew": 0.2,
            "node": 7,
            "pairs": [
             7,
             10
            ]
           },
           {
            "edges_x": -0.22779311656189372,
            "edges_y": -0.7199740053898795,
            "ew": 0.2,
            "node": 10,
            "pairs": [
             7,
             10
            ]
           },
           {
            "edges_x": 0.10024012459502574,
            "edges_y": -0.3600423296983648,
            "ew": 0.6,
            "node": 8,
            "pairs": [
             8,
             10
            ]
           },
           {
            "edges_x": -0.22779311656189372,
            "edges_y": -0.7199740053898795,
            "ew": 0.6,
            "node": 10,
            "pairs": [
             8,
             10
            ]
           },
           {
            "edges_x": -0.8928155976366194,
            "edges_y": 0.39796351362515536,
            "ew": 0.5,
            "node": 9,
            "pairs": [
             9,
             10
            ]
           },
           {
            "edges_x": -0.22779311656189372,
            "edges_y": -0.7199740053898795,
            "ew": 0.5,
            "node": 10,
            "pairs": [
             9,
             10
            ]
           },
           {
            "edges_x": 0.3835319969169646,
            "edges_y": 0.17590031562464548,
            "ew": 0.4,
            "node": 1,
            "pairs": [
             1,
             11
            ]
           },
           {
            "edges_x": -0.6765490520161306,
            "edges_y": -1,
            "ew": 0.4,
            "node": 11,
            "pairs": [
             1,
             11
            ]
           },
           {
            "edges_x": -0.6917798331610459,
            "edges_y": 0.8396771803699119,
            "ew": 0.3,
            "node": 2,
            "pairs": [
             2,
             11
            ]
           },
           {
            "edges_x": -0.6765490520161306,
            "edges_y": -1,
            "ew": 0.3,
            "node": 11,
            "pairs": [
             2,
             11
            ]
           },
           {
            "edges_x": -1,
            "edges_y": -0.6079518082093948,
            "ew": 0.4,
            "node": 3,
            "pairs": [
             3,
             11
            ]
           },
           {
            "edges_x": -0.6765490520161306,
            "edges_y": -1,
            "ew": 0.4,
            "node": 11,
            "pairs": [
             3,
             11
            ]
           },
           {
            "edges_x": -0.12847614713322708,
            "edges_y": 0.9147807188277042,
            "ew": 0.1,
            "node": 4,
            "pairs": [
             4,
             11
            ]
           },
           {
            "edges_x": -0.6765490520161306,
            "edges_y": -1,
            "ew": 0.1,
            "node": 11,
            "pairs": [
             4,
             11
            ]
           },
           {
            "edges_x": -0.3349392936954114,
            "edges_y": 0.5251424884458904,
            "ew": 0.2,
            "node": 5,
            "pairs": [
             5,
             11
            ]
           },
           {
            "edges_x": -0.6765490520161306,
            "edges_y": -1,
            "ew": 0.2,
            "node": 11,
            "pairs": [
             5,
             11
            ]
           },
           {
            "edges_x": -0.5208188164712826,
            "edges_y": 0.11672104544040951,
            "ew": 0.4,
            "node": 6,
            "pairs": [
             6,
             11
            ]
           },
           {
            "edges_x": -0.6765490520161306,
            "edges_y": -1,
            "ew": 0.4,
            "node": 11,
            "pairs": [
             6,
             11
            ]
           },
           {
            "edges_x": 0.10024012459502574,
            "edges_y": -0.3600423296983648,
            "ew": 0.4,
            "node": 8,
            "pairs": [
             8,
             11
            ]
           },
           {
            "edges_x": -0.6765490520161306,
            "edges_y": -1,
            "ew": 0.4,
            "node": 11,
            "pairs": [
             8,
             11
            ]
           },
           {
            "edges_x": -0.8928155976366194,
            "edges_y": 0.39796351362515536,
            "ew": 0.4,
            "node": 9,
            "pairs": [
             9,
             11
            ]
           },
           {
            "edges_x": -0.6765490520161306,
            "edges_y": -1,
            "ew": 0.4,
            "node": 11,
            "pairs": [
             9,
             11
            ]
           },
           {
            "edges_x": -0.22779311656189372,
            "edges_y": -0.7199740053898795,
            "ew": 0.5,
            "node": 10,
            "pairs": [
             10,
             11
            ]
           },
           {
            "edges_x": -0.6765490520161306,
            "edges_y": -1,
            "ew": 0.5,
            "node": 11,
            "pairs": [
             10,
             11
            ]
           },
           {
            "edges_x": 0.3835319969169646,
            "edges_y": 0.17590031562464548,
            "ew": 0.1,
            "node": 1,
            "pairs": [
             1,
             12
            ]
           },
           {
            "edges_x": 0.3330544640109836,
            "edges_y": 1,
            "ew": 0.1,
            "node": 12,
            "pairs": [
             1,
             12
            ]
           },
           {
            "edges_x": -0.6917798331610459,
            "edges_y": 0.8396771803699119,
            "ew": 0.1,
            "node": 2,
            "pairs": [
             2,
             12
            ]
           },
           {
            "edges_x": 0.3330544640109836,
            "edges_y": 1,
            "ew": 0.1,
            "node": 12,
            "pairs": [
             2,
             12
            ]
           },
           {
            "edges_x": -0.3349392936954114,
            "edges_y": 0.5251424884458904,
            "ew": 0.2,
            "node": 5,
            "pairs": [
             5,
             12
            ]
           },
           {
            "edges_x": 0.3330544640109836,
            "edges_y": 1,
            "ew": 0.2,
            "node": 12,
            "pairs": [
             5,
             12
            ]
           },
           {
            "edges_x": -0.5208188164712826,
            "edges_y": 0.11672104544040951,
            "ew": 0.1,
            "node": 6,
            "pairs": [
             6,
             12
            ]
           },
           {
            "edges_x": 0.3330544640109836,
            "edges_y": 1,
            "ew": 0.1,
            "node": 12,
            "pairs": [
             6,
             12
            ]
           },
           {
            "edges_x": 1,
            "edges_y": 0.12899046670079795,
            "ew": 0.1,
            "node": 7,
            "pairs": [
             7,
             12
            ]
           },
           {
            "edges_x": 0.3330544640109836,
            "edges_y": 1,
            "ew": 0.1,
            "node": 12,
            "pairs": [
             7,
             12
            ]
           },
           {
            "edges_x": 0.10024012459502574,
            "edges_y": -0.3600423296983648,
            "ew": 0.2,
            "node": 8,
            "pairs": [
             8,
             12
            ]
           },
           {
            "edges_x": 0.3330544640109836,
            "edges_y": 1,
            "ew": 0.2,
            "node": 12,
            "pairs": [
             8,
             12
            ]
           },
           {
            "edges_x": -0.8928155976366194,
            "edges_y": 0.39796351362515536,
            "ew": 0.1,
            "node": 9,
            "pairs": [
             9,
             12
            ]
           },
           {
            "edges_x": 0.3330544640109836,
            "edges_y": 1,
            "ew": 0.1,
            "node": 12,
            "pairs": [
             9,
             12
            ]
           },
           {
            "edges_x": -0.22779311656189372,
            "edges_y": -0.7199740053898795,
            "ew": 0.1,
            "node": 10,
            "pairs": [
             10,
             12
            ]
           },
           {
            "edges_x": 0.3330544640109836,
            "edges_y": 1,
            "ew": 0.1,
            "node": 12,
            "pairs": [
             10,
             12
            ]
           },
           {
            "edges_x": 0.3835319969169646,
            "edges_y": 0.17590031562464548,
            "ew": 0.3,
            "node": 1,
            "pairs": [
             1,
             13
            ]
           },
           {
            "edges_x": 0.6962554769236644,
            "edges_y": 0.6186010601077849,
            "ew": 0.3,
            "node": 13,
            "pairs": [
             1,
             13
            ]
           },
           {
            "edges_x": -0.12847614713322708,
            "edges_y": 0.9147807188277042,
            "ew": 0.1,
            "node": 4,
            "pairs": [
             4,
             13
            ]
           },
           {
            "edges_x": 0.6962554769236644,
            "edges_y": 0.6186010601077849,
            "ew": 0.1,
            "node": 13,
            "pairs": [
             4,
             13
            ]
           },
           {
            "edges_x": -0.3349392936954114,
            "edges_y": 0.5251424884458904,
            "ew": 0.2,
            "node": 5,
            "pairs": [
             5,
             13
            ]
           },
           {
            "edges_x": 0.6962554769236644,
            "edges_y": 0.6186010601077849,
            "ew": 0.2,
            "node": 13,
            "pairs": [
             5,
             13
            ]
           },
           {
            "edges_x": -0.5208188164712826,
            "edges_y": 0.11672104544040951,
            "ew": 0.2,
            "node": 6,
            "pairs": [
             6,
             13
            ]
           },
           {
            "edges_x": 0.6962554769236644,
            "edges_y": 0.6186010601077849,
            "ew": 0.2,
            "node": 13,
            "pairs": [
             6,
             13
            ]
           },
           {
            "edges_x": 1,
            "edges_y": 0.12899046670079795,
            "ew": 0.1,
            "node": 7,
            "pairs": [
             7,
             13
            ]
           },
           {
            "edges_x": 0.6962554769236644,
            "edges_y": 0.6186010601077849,
            "ew": 0.1,
            "node": 13,
            "pairs": [
             7,
             13
            ]
           },
           {
            "edges_x": 0.10024012459502574,
            "edges_y": -0.3600423296983648,
            "ew": 0.1,
            "node": 8,
            "pairs": [
             8,
             13
            ]
           },
           {
            "edges_x": 0.6962554769236644,
            "edges_y": 0.6186010601077849,
            "ew": 0.1,
            "node": 13,
            "pairs": [
             8,
             13
            ]
           },
           {
            "edges_x": -0.8928155976366194,
            "edges_y": 0.39796351362515536,
            "ew": 0.2,
            "node": 9,
            "pairs": [
             9,
             13
            ]
           },
           {
            "edges_x": 0.6962554769236644,
            "edges_y": 0.6186010601077849,
            "ew": 0.2,
            "node": 13,
            "pairs": [
             9,
             13
            ]
           },
           {
            "edges_x": -0.22779311656189372,
            "edges_y": -0.7199740053898795,
            "ew": 0.2,
            "node": 10,
            "pairs": [
             10,
             13
            ]
           },
           {
            "edges_x": 0.6962554769236644,
            "edges_y": 0.6186010601077849,
            "ew": 0.2,
            "node": 13,
            "pairs": [
             10,
             13
            ]
           },
           {
            "edges_x": 0.3330544640109836,
            "edges_y": 1,
            "ew": 0.1,
            "node": 12,
            "pairs": [
             12,
             13
            ]
           },
           {
            "edges_x": 0.6962554769236644,
            "edges_y": 0.6186010601077849,
            "ew": 0.1,
            "node": 13,
            "pairs": [
             12,
             13
            ]
           },
           {
            "edges_x": 0.3835319969169646,
            "edges_y": 0.17590031562464548,
            "ew": 0.4,
            "node": 1,
            "pairs": [
             1,
             14
            ]
           },
           {
            "edges_x": -0.47600674255512965,
            "edges_y": -0.37216372507626794,
            "ew": 0.4,
            "node": 14,
            "pairs": [
             1,
             14
            ]
           },
           {
            "edges_x": -0.6917798331610459,
            "edges_y": 0.8396771803699119,
            "ew": 0.4,
            "node": 2,
            "pairs": [
             2,
             14
            ]
           },
           {
            "edges_x": -0.47600674255512965,
            "edges_y": -0.37216372507626794,
            "ew": 0.4,
            "node": 14,
            "pairs": [
             2,
             14
            ]
           },
           {
            "edges_x": -1,
            "edges_y": -0.6079518082093948,
            "ew": 0.3,
            "node": 3,
            "pairs": [
             3,
             14
            ]
           },
           {
            "edges_x": -0.47600674255512965,
            "edges_y": -0.37216372507626794,
            "ew": 0.3,
            "node": 14,
            "pairs": [
             3,
             14
            ]
           },
           {
            "edges_x": -0.12847614713322708,
            "edges_y": 0.9147807188277042,
            "ew": 0.2,
            "node": 4,
            "pairs": [
             4,
             14
            ]
           },
           {
            "edges_x": -0.47600674255512965,
            "edges_y": -0.37216372507626794,
            "ew": 0.2,
            "node": 14,
            "pairs": [
             4,
             14
            ]
           },
           {
            "edges_x": -0.3349392936954114,
            "edges_y": 0.5251424884458904,
            "ew": 0.3,
            "node": 5,
            "pairs": [
             5,
             14
            ]
           },
           {
            "edges_x": -0.47600674255512965,
            "edges_y": -0.37216372507626794,
            "ew": 0.3,
            "node": 14,
            "pairs": [
             5,
             14
            ]
           },
           {
            "edges_x": -0.5208188164712826,
            "edges_y": 0.11672104544040951,
            "ew": 0.5,
            "node": 6,
            "pairs": [
             6,
             14
            ]
           },
           {
            "edges_x": -0.47600674255512965,
            "edges_y": -0.37216372507626794,
            "ew": 0.5,
            "node": 14,
            "pairs": [
             6,
             14
            ]
           },
           {
            "edges_x": 1,
            "edges_y": 0.12899046670079795,
            "ew": 0.2,
            "node": 7,
            "pairs": [
             7,
             14
            ]
           },
           {
            "edges_x": -0.47600674255512965,
            "edges_y": -0.37216372507626794,
            "ew": 0.2,
            "node": 14,
            "pairs": [
             7,
             14
            ]
           },
           {
            "edges_x": 0.10024012459502574,
            "edges_y": -0.3600423296983648,
            "ew": 0.5,
            "node": 8,
            "pairs": [
             8,
             14
            ]
           },
           {
            "edges_x": -0.47600674255512965,
            "edges_y": -0.37216372507626794,
            "ew": 0.5,
            "node": 14,
            "pairs": [
             8,
             14
            ]
           },
           {
            "edges_x": -0.8928155976366194,
            "edges_y": 0.39796351362515536,
            "ew": 0.3,
            "node": 9,
            "pairs": [
             9,
             14
            ]
           },
           {
            "edges_x": -0.47600674255512965,
            "edges_y": -0.37216372507626794,
            "ew": 0.3,
            "node": 14,
            "pairs": [
             9,
             14
            ]
           },
           {
            "edges_x": -0.22779311656189372,
            "edges_y": -0.7199740053898795,
            "ew": 0.5,
            "node": 10,
            "pairs": [
             10,
             14
            ]
           },
           {
            "edges_x": -0.47600674255512965,
            "edges_y": -0.37216372507626794,
            "ew": 0.5,
            "node": 14,
            "pairs": [
             10,
             14
            ]
           },
           {
            "edges_x": -0.6765490520161306,
            "edges_y": -1,
            "ew": 0.3,
            "node": 11,
            "pairs": [
             11,
             14
            ]
           },
           {
            "edges_x": -0.47600674255512965,
            "edges_y": -0.37216372507626794,
            "ew": 0.3,
            "node": 14,
            "pairs": [
             11,
             14
            ]
           },
           {
            "edges_x": 0.3330544640109836,
            "edges_y": 1,
            "ew": 0.2,
            "node": 12,
            "pairs": [
             12,
             14
            ]
           },
           {
            "edges_x": -0.47600674255512965,
            "edges_y": -0.37216372507626794,
            "ew": 0.2,
            "node": 14,
            "pairs": [
             12,
             14
            ]
           },
           {
            "edges_x": 0.6962554769236644,
            "edges_y": 0.6186010601077849,
            "ew": 0.2,
            "node": 13,
            "pairs": [
             13,
             14
            ]
           },
           {
            "edges_x": -0.47600674255512965,
            "edges_y": -0.37216372507626794,
            "ew": 0.2,
            "node": 14,
            "pairs": [
             13,
             14
            ]
           },
           {
            "edges_x": 0.3835319969169646,
            "edges_y": 0.17590031562464548,
            "ew": 0.3,
            "node": 1,
            "pairs": [
             1,
             15
            ]
           },
           {
            "edges_x": 0.07100281459452518,
            "edges_y": 0.46645957344798683,
            "ew": 0.3,
            "node": 15,
            "pairs": [
             1,
             15
            ]
           },
           {
            "edges_x": -0.6917798331610459,
            "edges_y": 0.8396771803699119,
            "ew": 0.2,
            "node": 2,
            "pairs": [
             2,
             15
            ]
           },
           {
            "edges_x": 0.07100281459452518,
            "edges_y": 0.46645957344798683,
            "ew": 0.2,
            "node": 15,
            "pairs": [
             2,
             15
            ]
           },
           {
            "edges_x": -1,
            "edges_y": -0.6079518082093948,
            "ew": 0.1,
            "node": 3,
            "pairs": [
             3,
             15
            ]
           },
           {
            "edges_x": 0.07100281459452518,
            "edges_y": 0.46645957344798683,
            "ew": 0.1,
            "node": 15,
            "pairs": [
             3,
             15
            ]
           },
           {
            "edges_x": -0.12847614713322708,
            "edges_y": 0.9147807188277042,
            "ew": 0.1,
            "node": 4,
            "pairs": [
             4,
             15
            ]
           },
           {
            "edges_x": 0.07100281459452518,
            "edges_y": 0.46645957344798683,
            "ew": 0.1,
            "node": 15,
            "pairs": [
             4,
             15
            ]
           },
           {
            "edges_x": -0.3349392936954114,
            "edges_y": 0.5251424884458904,
            "ew": 0.4,
            "node": 5,
            "pairs": [
             5,
             15
            ]
           },
           {
            "edges_x": 0.07100281459452518,
            "edges_y": 0.46645957344798683,
            "ew": 0.4,
            "node": 15,
            "pairs": [
             5,
             15
            ]
           },
           {
            "edges_x": -0.5208188164712826,
            "edges_y": 0.11672104544040951,
            "ew": 0.3,
            "node": 6,
            "pairs": [
             6,
             15
            ]
           },
           {
            "edges_x": 0.07100281459452518,
            "edges_y": 0.46645957344798683,
            "ew": 0.3,
            "node": 15,
            "pairs": [
             6,
             15
            ]
           },
           {
            "edges_x": 1,
            "edges_y": 0.12899046670079795,
            "ew": 0.2,
            "node": 7,
            "pairs": [
             7,
             15
            ]
           },
           {
            "edges_x": 0.07100281459452518,
            "edges_y": 0.46645957344798683,
            "ew": 0.2,
            "node": 15,
            "pairs": [
             7,
             15
            ]
           },
           {
            "edges_x": 0.10024012459502574,
            "edges_y": -0.3600423296983648,
            "ew": 0.4,
            "node": 8,
            "pairs": [
             8,
             15
            ]
           },
           {
            "edges_x": 0.07100281459452518,
            "edges_y": 0.46645957344798683,
            "ew": 0.4,
            "node": 15,
            "pairs": [
             8,
             15
            ]
           },
           {
            "edges_x": -0.8928155976366194,
            "edges_y": 0.39796351362515536,
            "ew": 0.3,
            "node": 9,
            "pairs": [
             9,
             15
            ]
           },
           {
            "edges_x": 0.07100281459452518,
            "edges_y": 0.46645957344798683,
            "ew": 0.3,
            "node": 15,
            "pairs": [
             9,
             15
            ]
           },
           {
            "edges_x": -0.22779311656189372,
            "edges_y": -0.7199740053898795,
            "ew": 0.3,
            "node": 10,
            "pairs": [
             10,
             15
            ]
           },
           {
            "edges_x": 0.07100281459452518,
            "edges_y": 0.46645957344798683,
            "ew": 0.3,
            "node": 15,
            "pairs": [
             10,
             15
            ]
           },
           {
            "edges_x": -0.6765490520161306,
            "edges_y": -1,
            "ew": 0.1,
            "node": 11,
            "pairs": [
             11,
             15
            ]
           },
           {
            "edges_x": 0.07100281459452518,
            "edges_y": 0.46645957344798683,
            "ew": 0.1,
            "node": 15,
            "pairs": [
             11,
             15
            ]
           },
           {
            "edges_x": 0.3330544640109836,
            "edges_y": 1,
            "ew": 0.2,
            "node": 12,
            "pairs": [
             12,
             15
            ]
           },
           {
            "edges_x": 0.07100281459452518,
            "edges_y": 0.46645957344798683,
            "ew": 0.2,
            "node": 15,
            "pairs": [
             12,
             15
            ]
           },
           {
            "edges_x": 0.6962554769236644,
            "edges_y": 0.6186010601077849,
            "ew": 0.2,
            "node": 13,
            "pairs": [
             13,
             15
            ]
           },
           {
            "edges_x": 0.07100281459452518,
            "edges_y": 0.46645957344798683,
            "ew": 0.2,
            "node": 15,
            "pairs": [
             13,
             15
            ]
           },
           {
            "edges_x": -0.47600674255512965,
            "edges_y": -0.37216372507626794,
            "ew": 0.3,
            "node": 14,
            "pairs": [
             14,
             15
            ]
           },
           {
            "edges_x": 0.07100281459452518,
            "edges_y": 0.46645957344798683,
            "ew": 0.3,
            "node": 15,
            "pairs": [
             14,
             15
            ]
           },
           {
            "edges_x": 0.3835319969169646,
            "edges_y": 0.17590031562464548,
            "ew": 0.4,
            "node": 1,
            "pairs": [
             1,
             16
            ]
           },
           {
            "edges_x": -0.12164969294191152,
            "edges_y": 0.026215788900537218,
            "ew": 0.4,
            "node": 16,
            "pairs": [
             1,
             16
            ]
           },
           {
            "edges_x": -0.6917798331610459,
            "edges_y": 0.8396771803699119,
            "ew": 0.4,
            "node": 2,
            "pairs": [
             2,
             16
            ]
           },
           {
            "edges_x": -0.12164969294191152,
            "edges_y": 0.026215788900537218,
            "ew": 0.4,
            "node": 16,
            "pairs": [
             2,
             16
            ]
           },
           {
            "edges_x": -1,
            "edges_y": -0.6079518082093948,
            "ew": 0.3,
            "node": 3,
            "pairs": [
             3,
             16
            ]
           },
           {
            "edges_x": -0.12164969294191152,
            "edges_y": 0.026215788900537218,
            "ew": 0.3,
            "node": 16,
            "pairs": [
             3,
             16
            ]
           },
           {
            "edges_x": -0.12847614713322708,
            "edges_y": 0.9147807188277042,
            "ew": 0.1,
            "node": 4,
            "pairs": [
             4,
             16
            ]
           },
           {
            "edges_x": -0.12164969294191152,
            "edges_y": 0.026215788900537218,
            "ew": 0.1,
            "node": 16,
            "pairs": [
             4,
             16
            ]
           },
           {
            "edges_x": -0.3349392936954114,
            "edges_y": 0.5251424884458904,
            "ew": 0.4,
            "node": 5,
            "pairs": [
             5,
             16
            ]
           },
           {
            "edges_x": -0.12164969294191152,
            "edges_y": 0.026215788900537218,
            "ew": 0.4,
            "node": 16,
            "pairs": [
             5,
             16
            ]
           },
           {
            "edges_x": -0.5208188164712826,
            "edges_y": 0.11672104544040951,
            "ew": 0.5,
            "node": 6,
            "pairs": [
             6,
             16
            ]
           },
           {
            "edges_x": -0.12164969294191152,
            "edges_y": 0.026215788900537218,
            "ew": 0.5,
            "node": 16,
            "pairs": [
             6,
             16
            ]
           },
           {
            "edges_x": 1,
            "edges_y": 0.12899046670079795,
            "ew": 0.1,
            "node": 7,
            "pairs": [
             7,
             16
            ]
           },
           {
            "edges_x": -0.12164969294191152,
            "edges_y": 0.026215788900537218,
            "ew": 0.1,
            "node": 16,
            "pairs": [
             7,
             16
            ]
           },
           {
            "edges_x": 0.10024012459502574,
            "edges_y": -0.3600423296983648,
            "ew": 0.5,
            "node": 8,
            "pairs": [
             8,
             16
            ]
           },
           {
            "edges_x": -0.12164969294191152,
            "edges_y": 0.026215788900537218,
            "ew": 0.5,
            "node": 16,
            "pairs": [
             8,
             16
            ]
           },
           {
            "edges_x": -0.8928155976366194,
            "edges_y": 0.39796351362515536,
            "ew": 0.4,
            "node": 9,
            "pairs": [
             9,
             16
            ]
           },
           {
            "edges_x": -0.12164969294191152,
            "edges_y": 0.026215788900537218,
            "ew": 0.4,
            "node": 16,
            "pairs": [
             9,
             16
            ]
           },
           {
            "edges_x": -0.22779311656189372,
            "edges_y": -0.7199740053898795,
            "ew": 0.4,
            "node": 10,
            "pairs": [
             10,
             16
            ]
           },
           {
            "edges_x": -0.12164969294191152,
            "edges_y": 0.026215788900537218,
            "ew": 0.4,
            "node": 16,
            "pairs": [
             10,
             16
            ]
           },
           {
            "edges_x": -0.6765490520161306,
            "edges_y": -1,
            "ew": 0.3,
            "node": 11,
            "pairs": [
             11,
             16
            ]
           },
           {
            "edges_x": -0.12164969294191152,
            "edges_y": 0.026215788900537218,
            "ew": 0.3,
            "node": 16,
            "pairs": [
             11,
             16
            ]
           },
           {
            "edges_x": 0.3330544640109836,
            "edges_y": 1,
            "ew": 0.2,
            "node": 12,
            "pairs": [
             12,
             16
            ]
           },
           {
            "edges_x": -0.12164969294191152,
            "edges_y": 0.026215788900537218,
            "ew": 0.2,
            "node": 16,
            "pairs": [
             12,
             16
            ]
           },
           {
            "edges_x": 0.6962554769236644,
            "edges_y": 0.6186010601077849,
            "ew": 0.2,
            "node": 13,
            "pairs": [
             13,
             16
            ]
           },
           {
            "edges_x": -0.12164969294191152,
            "edges_y": 0.026215788900537218,
            "ew": 0.2,
            "node": 16,
            "pairs": [
             13,
             16
            ]
           },
           {
            "edges_x": -0.47600674255512965,
            "edges_y": -0.37216372507626794,
            "ew": 0.5,
            "node": 14,
            "pairs": [
             14,
             16
            ]
           },
           {
            "edges_x": -0.12164969294191152,
            "edges_y": 0.026215788900537218,
            "ew": 0.5,
            "node": 16,
            "pairs": [
             14,
             16
            ]
           },
           {
            "edges_x": 0.07100281459452518,
            "edges_y": 0.46645957344798683,
            "ew": 0.4,
            "node": 15,
            "pairs": [
             15,
             16
            ]
           },
           {
            "edges_x": -0.12164969294191152,
            "edges_y": 0.026215788900537218,
            "ew": 0.4,
            "node": 16,
            "pairs": [
             15,
             16
            ]
           },
           {
            "edges_x": 0.3835319969169646,
            "edges_y": 0.17590031562464548,
            "ew": 0.5,
            "node": 1,
            "pairs": [
             1,
             17
            ]
           },
           {
            "edges_x": 0.47529184582605755,
            "edges_y": -0.7322511769141853,
            "ew": 0.5,
            "node": 17,
            "pairs": [
             1,
             17
            ]
           },
           {
            "edges_x": -1,
            "edges_y": -0.6079518082093948,
            "ew": 0.1,
            "node": 3,
            "pairs": [
             3,
             17
            ]
           },
           {
            "edges_x": 0.47529184582605755,
            "edges_y": -0.7322511769141853,
            "ew": 0.1,
            "node": 17,
            "pairs": [
             3,
             17
            ]
           },
           {
            "edges_x": -0.12847614713322708,
            "edges_y": 0.9147807188277042,
            "ew": 0.1,
            "node": 4,
            "pairs": [
             4,
             17
            ]
           },
           {
            "edges_x": 0.47529184582605755,
            "edges_y": -0.7322511769141853,
            "ew": 0.1,
            "node": 17,
            "pairs": [
             4,
             17
            ]
           },
           {
            "edges_x": -0.3349392936954114,
            "edges_y": 0.5251424884458904,
            "ew": 0.3,
            "node": 5,
            "pairs": [
             5,
             17
            ]
           },
           {
            "edges_x": 0.47529184582605755,
            "edges_y": -0.7322511769141853,
            "ew": 0.3,
            "node": 17,
            "pairs": [
             5,
             17
            ]
           },
           {
            "edges_x": -0.5208188164712826,
            "edges_y": 0.11672104544040951,
            "ew": 0.3,
            "node": 6,
            "pairs": [
             6,
             17
            ]
           },
           {
            "edges_x": 0.47529184582605755,
            "edges_y": -0.7322511769141853,
            "ew": 0.3,
            "node": 17,
            "pairs": [
             6,
             17
            ]
           },
           {
            "edges_x": 1,
            "edges_y": 0.12899046670079795,
            "ew": 0.1,
            "node": 7,
            "pairs": [
             7,
             17
            ]
           },
           {
            "edges_x": 0.47529184582605755,
            "edges_y": -0.7322511769141853,
            "ew": 0.1,
            "node": 17,
            "pairs": [
             7,
             17
            ]
           },
           {
            "edges_x": 0.10024012459502574,
            "edges_y": -0.3600423296983648,
            "ew": 0.2,
            "node": 8,
            "pairs": [
             8,
             17
            ]
           },
           {
            "edges_x": 0.47529184582605755,
            "edges_y": -0.7322511769141853,
            "ew": 0.2,
            "node": 17,
            "pairs": [
             8,
             17
            ]
           },
           {
            "edges_x": -0.8928155976366194,
            "edges_y": 0.39796351362515536,
            "ew": 0.4,
            "node": 9,
            "pairs": [
             9,
             17
            ]
           },
           {
            "edges_x": 0.47529184582605755,
            "edges_y": -0.7322511769141853,
            "ew": 0.4,
            "node": 17,
            "pairs": [
             9,
             17
            ]
           },
           {
            "edges_x": -0.22779311656189372,
            "edges_y": -0.7199740053898795,
            "ew": 0.4,
            "node": 10,
            "pairs": [
             10,
             17
            ]
           },
           {
            "edges_x": 0.47529184582605755,
            "edges_y": -0.7322511769141853,
            "ew": 0.4,
            "node": 17,
            "pairs": [
             10,
             17
            ]
           },
           {
            "edges_x": -0.6765490520161306,
            "edges_y": -1,
            "ew": 0.2,
            "node": 11,
            "pairs": [
             11,
             17
            ]
           },
           {
            "edges_x": 0.47529184582605755,
            "edges_y": -0.7322511769141853,
            "ew": 0.2,
            "node": 17,
            "pairs": [
             11,
             17
            ]
           },
           {
            "edges_x": 0.3330544640109836,
            "edges_y": 1,
            "ew": 0.1,
            "node": 12,
            "pairs": [
             12,
             17
            ]
           },
           {
            "edges_x": 0.47529184582605755,
            "edges_y": -0.7322511769141853,
            "ew": 0.1,
            "node": 17,
            "pairs": [
             12,
             17
            ]
           },
           {
            "edges_x": 0.6962554769236644,
            "edges_y": 0.6186010601077849,
            "ew": 0.3,
            "node": 13,
            "pairs": [
             13,
             17
            ]
           },
           {
            "edges_x": 0.47529184582605755,
            "edges_y": -0.7322511769141853,
            "ew": 0.3,
            "node": 17,
            "pairs": [
             13,
             17
            ]
           },
           {
            "edges_x": -0.47600674255512965,
            "edges_y": -0.37216372507626794,
            "ew": 0.2,
            "node": 14,
            "pairs": [
             14,
             17
            ]
           },
           {
            "edges_x": 0.47529184582605755,
            "edges_y": -0.7322511769141853,
            "ew": 0.2,
            "node": 17,
            "pairs": [
             14,
             17
            ]
           },
           {
            "edges_x": 0.07100281459452518,
            "edges_y": 0.46645957344798683,
            "ew": 0.2,
            "node": 15,
            "pairs": [
             15,
             17
            ]
           },
           {
            "edges_x": 0.47529184582605755,
            "edges_y": -0.7322511769141853,
            "ew": 0.2,
            "node": 17,
            "pairs": [
             15,
             17
            ]
           },
           {
            "edges_x": -0.12164969294191152,
            "edges_y": 0.026215788900537218,
            "ew": 0.2,
            "node": 16,
            "pairs": [
             16,
             17
            ]
           },
           {
            "edges_x": 0.47529184582605755,
            "edges_y": -0.7322511769141853,
            "ew": 0.2,
            "node": 17,
            "pairs": [
             16,
             17
            ]
           },
           {
            "edges_x": 0.3835319969169646,
            "edges_y": 0.17590031562464548,
            "ew": 0.3,
            "node": 1,
            "pairs": [
             1,
             18
            ]
           },
           {
            "edges_x": 0.09460391614818131,
            "edges_y": -0.850465530150146,
            "ew": 0.3,
            "node": 18,
            "pairs": [
             1,
             18
            ]
           },
           {
            "edges_x": -0.6917798331610459,
            "edges_y": 0.8396771803699119,
            "ew": 0.2,
            "node": 2,
            "pairs": [
             2,
             18
            ]
           },
           {
            "edges_x": 0.09460391614818131,
            "edges_y": -0.850465530150146,
            "ew": 0.2,
            "node": 18,
            "pairs": [
             2,
             18
            ]
           },
           {
            "edges_x": -1,
            "edges_y": -0.6079518082093948,
            "ew": 0.1,
            "node": 3,
            "pairs": [
             3,
             18
            ]
           },
           {
            "edges_x": 0.09460391614818131,
            "edges_y": -0.850465530150146,
            "ew": 0.1,
            "node": 18,
            "pairs": [
             3,
             18
            ]
           },
           {
            "edges_x": -0.12847614713322708,
            "edges_y": 0.9147807188277042,
            "ew": 0.2,
            "node": 4,
            "pairs": [
             4,
             18
            ]
           },
           {
            "edges_x": 0.09460391614818131,
            "edges_y": -0.850465530150146,
            "ew": 0.2,
            "node": 18,
            "pairs": [
             4,
             18
            ]
           },
           {
            "edges_x": -0.3349392936954114,
            "edges_y": 0.5251424884458904,
            "ew": 0.5,
            "node": 5,
            "pairs": [
             5,
             18
            ]
           },
           {
            "edges_x": 0.09460391614818131,
            "edges_y": -0.850465530150146,
            "ew": 0.5,
            "node": 18,
            "pairs": [
             5,
             18
            ]
           },
           {
            "edges_x": -0.5208188164712826,
            "edges_y": 0.11672104544040951,
            "ew": 0.4,
            "node": 6,
            "pairs": [
             6,
             18
            ]
           },
           {
            "edges_x": 0.09460391614818131,
            "edges_y": -0.850465530150146,
            "ew": 0.4,
            "node": 18,
            "pairs": [
             6,
             18
            ]
           },
           {
            "edges_x": 1,
            "edges_y": 0.12899046670079795,
            "ew": 0.2,
            "node": 7,
            "pairs": [
             7,
             18
            ]
           },
           {
            "edges_x": 0.09460391614818131,
            "edges_y": -0.850465530150146,
            "ew": 0.2,
            "node": 18,
            "pairs": [
             7,
             18
            ]
           },
           {
            "edges_x": 0.10024012459502574,
            "edges_y": -0.3600423296983648,
            "ew": 0.4,
            "node": 8,
            "pairs": [
             8,
             18
            ]
           },
           {
            "edges_x": 0.09460391614818131,
            "edges_y": -0.850465530150146,
            "ew": 0.4,
            "node": 18,
            "pairs": [
             8,
             18
            ]
           },
           {
            "edges_x": -0.8928155976366194,
            "edges_y": 0.39796351362515536,
            "ew": 0.4,
            "node": 9,
            "pairs": [
             9,
             18
            ]
           },
           {
            "edges_x": 0.09460391614818131,
            "edges_y": -0.850465530150146,
            "ew": 0.4,
            "node": 18,
            "pairs": [
             9,
             18
            ]
           },
           {
            "edges_x": -0.22779311656189372,
            "edges_y": -0.7199740053898795,
            "ew": 0.4,
            "node": 10,
            "pairs": [
             10,
             18
            ]
           },
           {
            "edges_x": 0.09460391614818131,
            "edges_y": -0.850465530150146,
            "ew": 0.4,
            "node": 18,
            "pairs": [
             10,
             18
            ]
           },
           {
            "edges_x": -0.6765490520161306,
            "edges_y": -1,
            "ew": 0.2,
            "node": 11,
            "pairs": [
             11,
             18
            ]
           },
           {
            "edges_x": 0.09460391614818131,
            "edges_y": -0.850465530150146,
            "ew": 0.2,
            "node": 18,
            "pairs": [
             11,
             18
            ]
           },
           {
            "edges_x": 0.3330544640109836,
            "edges_y": 1,
            "ew": 0.2,
            "node": 12,
            "pairs": [
             12,
             18
            ]
           },
           {
            "edges_x": 0.09460391614818131,
            "edges_y": -0.850465530150146,
            "ew": 0.2,
            "node": 18,
            "pairs": [
             12,
             18
            ]
           },
           {
            "edges_x": 0.6962554769236644,
            "edges_y": 0.6186010601077849,
            "ew": 0.2,
            "node": 13,
            "pairs": [
             13,
             18
            ]
           },
           {
            "edges_x": 0.09460391614818131,
            "edges_y": -0.850465530150146,
            "ew": 0.2,
            "node": 18,
            "pairs": [
             13,
             18
            ]
           },
           {
            "edges_x": -0.47600674255512965,
            "edges_y": -0.37216372507626794,
            "ew": 0.3,
            "node": 14,
            "pairs": [
             14,
             18
            ]
           },
           {
            "edges_x": 0.09460391614818131,
            "edges_y": -0.850465530150146,
            "ew": 0.3,
            "node": 18,
            "pairs": [
             14,
             18
            ]
           },
           {
            "edges_x": 0.07100281459452518,
            "edges_y": 0.46645957344798683,
            "ew": 0.4,
            "node": 15,
            "pairs": [
             15,
             18
            ]
           },
           {
            "edges_x": 0.09460391614818131,
            "edges_y": -0.850465530150146,
            "ew": 0.4,
            "node": 18,
            "pairs": [
             15,
             18
            ]
           },
           {
            "edges_x": -0.12164969294191152,
            "edges_y": 0.026215788900537218,
            "ew": 0.4,
            "node": 16,
            "pairs": [
             16,
             18
            ]
           },
           {
            "edges_x": 0.09460391614818131,
            "edges_y": -0.850465530150146,
            "ew": 0.4,
            "node": 18,
            "pairs": [
             16,
             18
            ]
           },
           {
            "edges_x": 0.47529184582605755,
            "edges_y": -0.7322511769141853,
            "ew": 0.3,
            "node": 17,
            "pairs": [
             17,
             18
            ]
           },
           {
            "edges_x": 0.09460391614818131,
            "edges_y": -0.850465530150146,
            "ew": 0.3,
            "node": 18,
            "pairs": [
             17,
             18
            ]
           },
           {
            "edges_x": 0.3835319969169646,
            "edges_y": 0.17590031562464548,
            "ew": 0.4,
            "node": 1,
            "pairs": [
             1,
             19
            ]
           },
           {
            "edges_x": -0.9713518191068778,
            "edges_y": -0.08925257536748399,
            "ew": 0.4,
            "node": 19,
            "pairs": [
             1,
             19
            ]
           },
           {
            "edges_x": -0.6917798331610459,
            "edges_y": 0.8396771803699119,
            "ew": 0.2,
            "node": 2,
            "pairs": [
             2,
             19
            ]
           },
           {
            "edges_x": -0.9713518191068778,
            "edges_y": -0.08925257536748399,
            "ew": 0.2,
            "node": 19,
            "pairs": [
             2,
             19
            ]
           },
           {
            "edges_x": -1,
            "edges_y": -0.6079518082093948,
            "ew": 0.2,
            "node": 3,
            "pairs": [
             3,
             19
            ]
           },
           {
            "edges_x": -0.9713518191068778,
            "edges_y": -0.08925257536748399,
            "ew": 0.2,
            "node": 19,
            "pairs": [
             3,
             19
            ]
           },
           {
            "edges_x": -0.3349392936954114,
            "edges_y": 0.5251424884458904,
            "ew": 0.3,
            "node": 5,
            "pairs": [
             5,
             19
            ]
           },
           {
            "edges_x": -0.9713518191068778,
            "edges_y": -0.08925257536748399,
            "ew": 0.3,
            "node": 19,
            "pairs": [
             5,
             19
            ]
           },
           {
            "edges_x": -0.5208188164712826,
            "edges_y": 0.11672104544040951,
            "ew": 0.3,
            "node": 6,
            "pairs": [
             6,
             19
            ]
           },
           {
            "edges_x": -0.9713518191068778,
            "edges_y": -0.08925257536748399,
            "ew": 0.3,
            "node": 19,
            "pairs": [
             6,
             19
            ]
           },
           {
            "edges_x": 0.10024012459502574,
            "edges_y": -0.3600423296983648,
            "ew": 0.3,
            "node": 8,
            "pairs": [
             8,
             19
            ]
           },
           {
            "edges_x": -0.9713518191068778,
            "edges_y": -0.08925257536748399,
            "ew": 0.3,
            "node": 19,
            "pairs": [
             8,
             19
            ]
           },
           {
            "edges_x": -0.8928155976366194,
            "edges_y": 0.39796351362515536,
            "ew": 0.3,
            "node": 9,
            "pairs": [
             9,
             19
            ]
           },
           {
            "edges_x": -0.9713518191068778,
            "edges_y": -0.08925257536748399,
            "ew": 0.3,
            "node": 19,
            "pairs": [
             9,
             19
            ]
           },
           {
            "edges_x": -0.22779311656189372,
            "edges_y": -0.7199740053898795,
            "ew": 0.3,
            "node": 10,
            "pairs": [
             10,
             19
            ]
           },
           {
            "edges_x": -0.9713518191068778,
            "edges_y": -0.08925257536748399,
            "ew": 0.3,
            "node": 19,
            "pairs": [
             10,
             19
            ]
           },
           {
            "edges_x": -0.6765490520161306,
            "edges_y": -1,
            "ew": 0.2,
            "node": 11,
            "pairs": [
             11,
             19
            ]
           },
           {
            "edges_x": -0.9713518191068778,
            "edges_y": -0.08925257536748399,
            "ew": 0.2,
            "node": 19,
            "pairs": [
             11,
             19
            ]
           },
           {
            "edges_x": 0.3330544640109836,
            "edges_y": 1,
            "ew": 0.1,
            "node": 12,
            "pairs": [
             12,
             19
            ]
           },
           {
            "edges_x": -0.9713518191068778,
            "edges_y": -0.08925257536748399,
            "ew": 0.1,
            "node": 19,
            "pairs": [
             12,
             19
            ]
           },
           {
            "edges_x": 0.6962554769236644,
            "edges_y": 0.6186010601077849,
            "ew": 0.2,
            "node": 13,
            "pairs": [
             13,
             19
            ]
           },
           {
            "edges_x": -0.9713518191068778,
            "edges_y": -0.08925257536748399,
            "ew": 0.2,
            "node": 19,
            "pairs": [
             13,
             19
            ]
           },
           {
            "edges_x": -0.47600674255512965,
            "edges_y": -0.37216372507626794,
            "ew": 0.3,
            "node": 14,
            "pairs": [
             14,
             19
            ]
           },
           {
            "edges_x": -0.9713518191068778,
            "edges_y": -0.08925257536748399,
            "ew": 0.3,
            "node": 19,
            "pairs": [
             14,
             19
            ]
           },
           {
            "edges_x": 0.07100281459452518,
            "edges_y": 0.46645957344798683,
            "ew": 0.3,
            "node": 15,
            "pairs": [
             15,
             19
            ]
           },
           {
            "edges_x": -0.9713518191068778,
            "edges_y": -0.08925257536748399,
            "ew": 0.3,
            "node": 19,
            "pairs": [
             15,
             19
            ]
           },
           {
            "edges_x": -0.12164969294191152,
            "edges_y": 0.026215788900537218,
            "ew": 0.4,
            "node": 16,
            "pairs": [
             16,
             19
            ]
           },
           {
            "edges_x": -0.9713518191068778,
            "edges_y": -0.08925257536748399,
            "ew": 0.4,
            "node": 19,
            "pairs": [
             16,
             19
            ]
           },
           {
            "edges_x": 0.47529184582605755,
            "edges_y": -0.7322511769141853,
            "ew": 0.2,
            "node": 17,
            "pairs": [
             17,
             19
            ]
           },
           {
            "edges_x": -0.9713518191068778,
            "edges_y": -0.08925257536748399,
            "ew": 0.2,
            "node": 19,
            "pairs": [
             17,
             19
            ]
           },
           {
            "edges_x": 0.09460391614818131,
            "edges_y": -0.850465530150146,
            "ew": 0.2,
            "node": 18,
            "pairs": [
             18,
             19
            ]
           },
           {
            "edges_x": -0.9713518191068778,
            "edges_y": -0.08925257536748399,
            "ew": 0.2,
            "node": 19,
            "pairs": [
             18,
             19
            ]
           },
           {
            "edges_x": 0.3835319969169646,
            "edges_y": 0.17590031562464548,
            "ew": 0.4,
            "node": 1,
            "pairs": [
             1,
             20
            ]
           },
           {
            "edges_x": 0.4952483370121168,
            "edges_y": -0.25344841560324227,
            "ew": 0.4,
            "node": 20,
            "pairs": [
             1,
             20
            ]
           },
           {
            "edges_x": -0.6917798331610459,
            "edges_y": 0.8396771803699119,
            "ew": 0.1,
            "node": 2,
            "pairs": [
             2,
             20
            ]
           },
           {
            "edges_x": 0.4952483370121168,
            "edges_y": -0.25344841560324227,
            "ew": 0.1,
            "node": 20,
            "pairs": [
             2,
             20
            ]
           },
           {
            "edges_x": -1,
            "edges_y": -0.6079518082093948,
            "ew": 0.1,
            "node": 3,
            "pairs": [
             3,
             20
            ]
           },
           {
            "edges_x": 0.4952483370121168,
            "edges_y": -0.25344841560324227,
            "ew": 0.1,
            "node": 20,
            "pairs": [
             3,
             20
            ]
           },
           {
            "edges_x": -0.12847614713322708,
            "edges_y": 0.9147807188277042,
            "ew": 0.2,
            "node": 4,
            "pairs": [
             4,
             20
            ]
           },
           {
            "edges_x": 0.4952483370121168,
            "edges_y": -0.25344841560324227,
            "ew": 0.2,
            "node": 20,
            "pairs": [
             4,
             20
            ]
           },
           {
            "edges_x": -0.3349392936954114,
            "edges_y": 0.5251424884458904,
            "ew": 0.4,
            "node": 5,
            "pairs": [
             5,
             20
            ]
           },
           {
            "edges_x": 0.4952483370121168,
            "edges_y": -0.25344841560324227,
            "ew": 0.4,
            "node": 20,
            "pairs": [
             5,
             20
            ]
           },
           {
            "edges_x": -0.5208188164712826,
            "edges_y": 0.11672104544040951,
            "ew": 0.3,
            "node": 6,
            "pairs": [
             6,
             20
            ]
           },
           {
            "edges_x": 0.4952483370121168,
            "edges_y": -0.25344841560324227,
            "ew": 0.3,
            "node": 20,
            "pairs": [
             6,
             20
            ]
           },
           {
            "edges_x": 1,
            "edges_y": 0.12899046670079795,
            "ew": 0.3,
            "node": 7,
            "pairs": [
             7,
             20
            ]
           },
           {
            "edges_x": 0.4952483370121168,
            "edges_y": -0.25344841560324227,
            "ew": 0.3,
            "node": 20,
            "pairs": [
             7,
             20
            ]
           },
           {
            "edges_x": 0.10024012459502574,
            "edges_y": -0.3600423296983648,
            "ew": 0.4,
            "node": 8,
            "pairs": [
             8,
             20
            ]
           },
           {
            "edges_x": 0.4952483370121168,
            "edges_y": -0.25344841560324227,
            "ew": 0.4,
            "node": 20,
            "pairs": [
             8,
             20
            ]
           },
           {
            "edges_x": -0.8928155976366194,
            "edges_y": 0.39796351362515536,
            "ew": 0.3,
            "node": 9,
            "pairs": [
             9,
             20
            ]
           },
           {
            "edges_x": 0.4952483370121168,
            "edges_y": -0.25344841560324227,
            "ew": 0.3,
            "node": 20,
            "pairs": [
             9,
             20
            ]
           },
           {
            "edges_x": -0.22779311656189372,
            "edges_y": -0.7199740053898795,
            "ew": 0.4,
            "node": 10,
            "pairs": [
             10,
             20
            ]
           },
           {
            "edges_x": 0.4952483370121168,
            "edges_y": -0.25344841560324227,
            "ew": 0.4,
            "node": 20,
            "pairs": [
             10,
             20
            ]
           },
           {
            "edges_x": -0.6765490520161306,
            "edges_y": -1,
            "ew": 0.1,
            "node": 11,
            "pairs": [
             11,
             20
            ]
           },
           {
            "edges_x": 0.4952483370121168,
            "edges_y": -0.25344841560324227,
            "ew": 0.1,
            "node": 20,
            "pairs": [
             11,
             20
            ]
           },
           {
            "edges_x": 0.3330544640109836,
            "edges_y": 1,
            "ew": 0.2,
            "node": 12,
            "pairs": [
             12,
             20
            ]
           },
           {
            "edges_x": 0.4952483370121168,
            "edges_y": -0.25344841560324227,
            "ew": 0.2,
            "node": 20,
            "pairs": [
             12,
             20
            ]
           },
           {
            "edges_x": 0.6962554769236644,
            "edges_y": 0.6186010601077849,
            "ew": 0.3,
            "node": 13,
            "pairs": [
             13,
             20
            ]
           },
           {
            "edges_x": 0.4952483370121168,
            "edges_y": -0.25344841560324227,
            "ew": 0.3,
            "node": 20,
            "pairs": [
             13,
             20
            ]
           },
           {
            "edges_x": -0.47600674255512965,
            "edges_y": -0.37216372507626794,
            "ew": 0.3,
            "node": 14,
            "pairs": [
             14,
             20
            ]
           },
           {
            "edges_x": 0.4952483370121168,
            "edges_y": -0.25344841560324227,
            "ew": 0.3,
            "node": 20,
            "pairs": [
             14,
             20
            ]
           },
           {
            "edges_x": 0.07100281459452518,
            "edges_y": 0.46645957344798683,
            "ew": 0.4,
            "node": 15,
            "pairs": [
             15,
             20
            ]
           },
           {
            "edges_x": 0.4952483370121168,
            "edges_y": -0.25344841560324227,
            "ew": 0.4,
            "node": 20,
            "pairs": [
             15,
             20
            ]
           },
           {
            "edges_x": -0.12164969294191152,
            "edges_y": 0.026215788900537218,
            "ew": 0.3,
            "node": 16,
            "pairs": [
             16,
             20
            ]
           },
           {
            "edges_x": 0.4952483370121168,
            "edges_y": -0.25344841560324227,
            "ew": 0.3,
            "node": 20,
            "pairs": [
             16,
             20
            ]
           },
           {
            "edges_x": 0.47529184582605755,
            "edges_y": -0.7322511769141853,
            "ew": 0.4,
            "node": 17,
            "pairs": [
             17,
             20
            ]
           },
           {
            "edges_x": 0.4952483370121168,
            "edges_y": -0.25344841560324227,
            "ew": 0.4,
            "node": 20,
            "pairs": [
             17,
             20
            ]
           },
           {
            "edges_x": 0.09460391614818131,
            "edges_y": -0.850465530150146,
            "ew": 0.4,
            "node": 18,
            "pairs": [
             18,
             20
            ]
           },
           {
            "edges_x": 0.4952483370121168,
            "edges_y": -0.25344841560324227,
            "ew": 0.4,
            "node": 20,
            "pairs": [
             18,
             20
            ]
           },
           {
            "edges_x": -0.9713518191068778,
            "edges_y": -0.08925257536748399,
            "ew": 0.2,
            "node": 19,
            "pairs": [
             19,
             20
            ]
           },
           {
            "edges_x": 0.4952483370121168,
            "edges_y": -0.25344841560324227,
            "ew": 0.2,
            "node": 20,
            "pairs": [
             19,
             20
            ]
           }
          ]
         },
         "encoding": {
          "detail": {
           "field": "pairs",
           "type": "ordinal"
          },
          "x": {
           "axis": null,
           "field": "edges_x",
           "type": "quantitative"
          },
          "y": {
           "axis": null,
           "field": "edges_y",
           "type": "quantitative"
          }
         },
         "height": 400,
         "mark": {
          "clip": false,
          "color": "black",
          "size": 0.5,
          "type": "line"
         },
         "width": 600
        },
        {
         "data": {
          "values": [
           {
            "centrality": 0.00524887717870174,
            "keywords": "x1",
            "node_x": 0.3835319969169646,
            "node_y": 0.17590031562464548
           },
           {
            "centrality": 0.03394853817970433,
            "keywords": "x2",
            "node_x": -0.6917798331610459,
            "node_y": 0.8396771803699119
           },
           {
            "centrality": 0.06345889232886137,
            "keywords": "x3",
            "node_x": -1,
            "node_y": -0.6079518082093948
           },
           {
            "centrality": 0.246836548384536,
            "keywords": "x4",
            "node_x": -0.12847614713322708,
            "node_y": 0.9147807188277042
           },
           {
            "centrality": 0,
            "keywords": "x5",
            "node_x": -0.3349392936954114,
            "node_y": 0.5251424884458904
           },
           {
            "centrality": 0,
            "keywords": "x6",
            "node_x": -0.5208188164712826,
            "node_y": 0.11672104544040951
           },
           {
            "centrality": 0.05292970989565417,
            "keywords": "x7",
            "node_x": 1,
            "node_y": 0.12899046670079795
           },
           {
            "centrality": 0,
            "keywords": "x8",
            "node_x": 0.10024012459502574,
            "node_y": -0.3600423296983648
           },
           {
            "centrality": 0.0036244457297088884,
            "keywords": "x9",
            "node_x": -0.8928155976366194,
            "node_y": 0.39796351362515536
           },
           {
            "centrality": 0,
            "keywords": "x10",
            "node_x": -0.22779311656189372,
            "node_y": -0.7199740053898795
           },
           {
            "centrality": 0.01028838435959179,
            "keywords": "x11",
            "node_x": -0.6765490520161306,
            "node_y": -1
           },
           {
            "centrality": 0.24601643626411426,
            "keywords": "x12",
            "node_x": 0.3330544640109836,
            "node_y": 1
           },
           {
            "centrality": 0.06659606112650489,
            "keywords": "x13",
            "node_x": 0.6962554769236644,
            "node_y": 0.6186010601077849
           },
           {
            "centrality": 0,
            "keywords": "x14",
            "node_x": -0.47600674255512965,
            "node_y": -0.37216372507626794
           },
           {
            "centrality": 0.004083570750237416,
            "keywords": "x15",
            "node_x": 0.07100281459452518,
            "node_y": 0.46645957344798683
           },
           {
            "centrality": 0.0016244314489928524,
            "keywords": "x16",
            "node_x": -0.12164969294191152,
            "node_y": 0.026215788900537218
           },
           {
            "centrality": 0.03125389307019854,
            "keywords": "x17",
            "node_x": 0.47529184582605755,
            "node_y": -0.7322511769141853
           },
           {
            "centrality": 0,
            "keywords": "x18",
            "node_x": 0.09460391614818131,
            "node_y": -0.850465530150146
           },
           {
            "centrality": 0.0010346378767431398,
            "keywords": "x19",
            "node_x": -0.9713518191068778,
            "node_y": -0.08925257536748399
           },
           {
            "centrality": 0.010516319288249112,
            "keywords": "x20",
            "node_x": 0.4952483370121168,
            "node_y": -0.25344841560324227
           }
          ]
         },
         "encoding": {
          "color": {
           "field": "centrality",
           "scale": {
            "scheme": "blues"
           },
           "type": "quantitative"
          },
          "size": {
           "legend": null,
           "value": 200
          },
          "tooltip": [
           {
            "field": "keywords",
            "type": "nominal"
           }
          ],
          "x": {
           "axis": null,
           "field": "node_x",
           "type": "quantitative"
          },
          "y": {
           "axis": null,
           "field": "node_y",
           "type": "quantitative"
          }
         },
         "height": 400,
         "mark": {
          "clip": false,
          "opacity": 1,
          "type": "circle"
         },
         "selection": {
          "grid": {
           "bind": "scales",
           "type": "interval"
          }
         },
         "width": 600
        }
       ],
       "view": {
        "stroke": null
       }
      },
      "image/png": "[encoded data removed]",
      "image/svg+xml": [
       "<?xml version=\"1.0\" encoding=\"utf-8\"?>\n",
       "<!DOCTYPE svg PUBLIC \"-//W3C//DTD SVG 1.1//EN\" \"http://www.w3.org/Graphics/SVG/1.1/DTD/svg11.dtd\">\n",
       "<svg class=\"marks\" width=\"696\" height=\"426\" viewBox=\"0 0 696 426\" version=\"1.1\" xmlns=\"http://www.w3.org/2000/svg\" xmlns:xlink=\"http://www.w3.org/1999/xlink\"><defs><linearGradient id=\"gradient_0\" x1=\"0\" x2=\"0\" y1=\"1\" y2=\"0\"><stop offset=\"0\" stop-color=\"rgb(207, 225, 242)\"></stop><stop offset=\"0.08102527818871808\" stop-color=\"rgb(193, 218, 237)\"></stop><stop offset=\"0.16205055637743615\" stop-color=\"rgb(176, 210, 232)\"></stop><stop offset=\"0.24307583456615423\" stop-color=\"rgb(157, 200, 226)\"></stop><stop offset=\"0.3241011127548723\" stop-color=\"rgb(136, 189, 220)\"></stop><stop offset=\"0.40512639094359043\" stop-color=\"rgb(115, 177, 215)\"></stop><stop offset=\"0.48615166913230845\" stop-color=\"rgb(94, 165, 208)\"></stop><stop offset=\"0.5671769473210266\" stop-color=\"rgb(76, 152, 201)\"></stop><stop offset=\"0.6482022255097446\" stop-color=\"rgb(59, 138, 194)\"></stop><stop offset=\"0.7292275036984627\" stop-color=\"rgb(44, 124, 186)\"></stop><stop offset=\"0.8102527818871809\" stop-color=\"rgb(31, 109, 177)\"></stop><stop offset=\"0.8912780600758989\" stop-color=\"rgb(19, 94, 165)\"></stop><stop offset=\"0.9723033382646169\" stop-color=\"rgb(12, 79, 150)\"></stop><stop offset=\"1\" stop-color=\"rgb(10, 74, 144)\"></stop></linearGradient></defs><rect width=\"696\" height=\"426\" fill=\"white\"></rect><g fill=\"none\" stroke-miterlimit=\"10\" transform=\"translate(13,13)\"><g class=\"mark-group role-frame root\" role=\"graphics-object\" aria-roledescription=\"group mark container\"><g transform=\"translate(0,0)\"><path class=\"background\" aria-hidden=\"true\" d=\"M0,0h600v400h-600Z\"></path><g><g class=\"mark-group role-scope layer_0_pathgroup\" role=\"graphics-object\" aria-roledescription=\"group mark container\"><g transform=\"translate(0,0)\"><path class=\"background\" aria-hidden=\"true\" d=\"M0,0h600v400h-600Z\"></path><g><g class=\"mark-line role-mark layer_0_marks\" role=\"graphics-object\" aria-roledescription=\"line mark container\" pointer-events=\"none\"><path aria-label=\"edges_x: -0.691779833161; edges_y: 0.83967718037; pairs: 1,2\" role=\"graphics-symbol\" aria-roledescription=\"line mark\" d=\"M92.46605005168624,32.06456392601762L415.0595990750894,164.8199368750709\" stroke=\"black\" stroke-width=\"0.5\"></path></g></g><path class=\"foreground\" aria-hidden=\"true\" d=\"\" display=\"none\"></path></g><g transform=\"translate(0,0)\"><path class=\"background\" aria-hidden=\"true\" d=\"M0,0h600v400h-600Z\"></path><g><g class=\"mark-line role-mark layer_0_marks\" role=\"graphics-object\" aria-roledescription=\"line mark container\" pointer-events=\"none\"><path aria-label=\"edges_x: -1; edges_y: -0.607951808209; pairs: 1,3\" role=\"graphics-symbol\" aria-roledescription=\"line mark\" d=\"M0,321.590361641879L415.0595990750894,164.8199368750709\" stroke=\"black\" stroke-width=\"0.5\"></path></g></g><path class=\"foreground\" aria-hidden=\"true\" d=\"\" display=\"none\"></path></g><g transform=\"translate(0,0)\"><path class=\"background\" aria-hidden=\"true\" d=\"M0,0h600v400h-600Z\"></path><g><g class=\"mark-line role-mark layer_0_marks\" role=\"graphics-object\" aria-roledescription=\"line mark container\" pointer-events=\"none\"><path aria-label=\"edges_x: -1; edges_y: -0.607951808209; pairs: 2,3\" role=\"graphics-symbol\" aria-roledescription=\"line mark\" d=\"M0,321.590361641879L92.46605005168624,32.06456392601762\" stroke=\"black\" stroke-width=\"0.5\"></path></g></g><path class=\"foreground\" aria-hidden=\"true\" d=\"\" display=\"none\"></path></g><g transform=\"translate(0,0)\"><path class=\"background\" aria-hidden=\"true\" d=\"M0,0h600v400h-600Z\"></path><g><g class=\"mark-line role-mark layer_0_marks\" role=\"graphics-object\" aria-roledescription=\"line mark container\" pointer-events=\"none\"><path aria-label=\"edges_x: -0.128476147133; edges_y: 0.914780718828; pairs: 1,4\" role=\"graphics-symbol\" aria-roledescription=\"line mark\" d=\"M261.4571558600319,17.043856234459163L415.0595990750894,164.8199368750709\" stroke=\"black\" stroke-width=\"0.5\"></path></g></g><path class=\"foreground\" aria-hidden=\"true\" d=\"\" display=\"none\"></path></g><g transform=\"translate(0,0)\"><path class=\"background\" aria-hidden=\"true\" d=\"M0,0h600v400h-600Z\"></path><g><g class=\"mark-line role-mark layer_0_marks\" role=\"graphics-object\" aria-roledescription=\"line mark container\" pointer-events=\"none\"><path aria-label=\"edges_x: -0.691779833161; edges_y: 0.83967718037; pairs: 2,4\" role=\"graphics-symbol\" aria-roledescription=\"line mark\" d=\"M92.46605005168624,32.06456392601762L261.4571558600319,17.043856234459163\" stroke=\"black\" stroke-width=\"0.5\"></path></g></g><path class=\"foreground\" aria-hidden=\"true\" d=\"\" display=\"none\"></path></g><g transform=\"translate(0,0)\"><path class=\"background\" aria-hidden=\"true\" d=\"M0,0h600v400h-600Z\"></path><g><g class=\"mark-line role-mark layer_0_marks\" role=\"graphics-object\" aria-roledescription=\"line mark container\" pointer-events=\"none\"><path aria-label=\"edges_x: -1; edges_y: -0.607951808209; pairs: 3,4\" role=\"graphics-symbol\" aria-roledescription=\"line mark\" d=\"M0,321.590361641879L261.4571558600319,17.043856234459163\" stroke=\"black\" stroke-width=\"0.5\"></path></g></g><path class=\"foreground\" aria-hidden=\"true\" d=\"\" display=\"none\"></path></g><g transform=\"translate(0,0)\"><path class=\"background\" aria-hidden=\"true\" d=\"M0,0h600v400h-600Z\"></path><g><g class=\"mark-line role-mark layer_0_marks\" role=\"graphics-object\" aria-roledescription=\"line mark container\" pointer-events=\"none\"><path aria-label=\"edges_x: -0.334939293695; edges_y: 0.525142488446; pairs: 1,5\" role=\"graphics-symbol\" aria-roledescription=\"line mark\" d=\"M199.51821189137658,94.97150231082192L415.0595990750894,164.8199368750709\" stroke=\"black\" stroke-width=\"0.5\"></path></g></g><path class=\"foreground\" aria-hidden=\"true\" d=\"\" display=\"none\"></path></g><g transform=\"translate(0,0)\"><path class=\"background\" aria-hidden=\"true\" d=\"M0,0h600v400h-600Z\"></path><g><g class=\"mark-line role-mark layer_0_marks\" role=\"graphics-object\" aria-roledescription=\"line mark container\" pointer-events=\"none\"><path aria-label=\"edges_x: -0.691779833161; edges_y: 0.83967718037; pairs: 2,5\" role=\"graphics-symbol\" aria-roledescription=\"line mark\" d=\"M92.46605005168624,32.06456392601762L199.51821189137658,94.97150231082192\" stroke=\"black\" stroke-width=\"0.5\"></path></g></g><path class=\"foreground\" aria-hidden=\"true\" d=\"\" display=\"none\"></path></g><g transform=\"translate(0,0)\"><path class=\"background\" aria-hidden=\"true\" d=\"M0,0h600v400h-600Z\"></path><g><g class=\"mark-line role-mark layer_0_marks\" role=\"graphics-object\" aria-roledescription=\"line mark container\" pointer-events=\"none\"><path aria-label=\"edges_x: -1; edges_y: -0.607951808209; pairs: 3,5\" role=\"graphics-symbol\" aria-roledescription=\"line mark\" d=\"M0,321.590361641879L199.51821189137658,94.97150231082192\" stroke=\"black\" stroke-width=\"0.5\"></path></g></g><path class=\"foreground\" aria-hidden=\"true\" d=\"\" display=\"none\"></path></g><g transform=\"translate(0,0)\"><path class=\"background\" aria-hidden=\"true\" d=\"M0,0h600v400h-600Z\"></path><g><g class=\"mark-line role-mark layer_0_marks\" role=\"graphics-object\" aria-roledescription=\"line mark container\" pointer-events=\"none\"><path aria-label=\"edges_x: -0.334939293695; edges_y: 0.525142488446; pairs: 4,5\" role=\"graphics-symbol\" aria-roledescription=\"line mark\" d=\"M199.51821189137658,94.97150231082192L261.4571558600319,17.043856234459163\" stroke=\"black\" stroke-width=\"0.5\"></path></g></g><path class=\"foreground\" aria-hidden=\"true\" d=\"\" display=\"none\"></path></g><g transform=\"translate(0,0)\"><path class=\"background\" aria-hidden=\"true\" d=\"M0,0h600v400h-600Z\"></path><g><g class=\"mark-line role-mark layer_0_marks\" role=\"graphics-object\" aria-roledescription=\"line mark container\" pointer-events=\"none\"><path aria-label=\"edges_x: -0.520818816471; edges_y: 0.11672104544; pairs: 1,6\" role=\"graphics-symbol\" aria-roledescription=\"line mark\" d=\"M143.75435505861523,176.6557909119181L415.0595990750894,164.8199368750709\" stroke=\"black\" stroke-width=\"0.5\"></path></g></g><path class=\"foreground\" aria-hidden=\"true\" d=\"\" display=\"none\"></path></g><g transform=\"translate(0,0)\"><path class=\"background\" aria-hidden=\"true\" d=\"M0,0h600v400h-600Z\"></path><g><g class=\"mark-line role-mark layer_0_marks\" role=\"graphics-object\" aria-roledescription=\"line mark container\" pointer-events=\"none\"><path aria-label=\"edges_x: -0.691779833161; edges_y: 0.83967718037; pairs: 2,6\" role=\"graphics-symbol\" aria-roledescription=\"line mark\" d=\"M92.46605005168624,32.06456392601762L143.75435505861523,176.6557909119181\" stroke=\"black\" stroke-width=\"0.5\"></path></g></g><path class=\"foreground\" aria-hidden=\"true\" d=\"\" display=\"none\"></path></g><g transform=\"translate(0,0)\"><path class=\"background\" aria-hidden=\"true\" d=\"M0,0h600v400h-600Z\"></path><g><g class=\"mark-line role-mark layer_0_marks\" role=\"graphics-object\" aria-roledescription=\"line mark container\" pointer-events=\"none\"><path aria-label=\"edges_x: -1; edges_y: -0.607951808209; pairs: 3,6\" role=\"graphics-symbol\" aria-roledescription=\"line mark\" d=\"M0,321.590361641879L143.75435505861523,176.6557909119181\" stroke=\"black\" stroke-width=\"0.5\"></path></g></g><path class=\"foreground\" aria-hidden=\"true\" d=\"\" display=\"none\"></path></g><g transform=\"translate(0,0)\"><path class=\"background\" aria-hidden=\"true\" d=\"M0,0h600v400h-600Z\"></path><g><g class=\"mark-line role-mark layer_0_marks\" role=\"graphics-object\" aria-roledescription=\"line mark container\" pointer-events=\"none\"><path aria-label=\"edges_x: -0.520818816471; edges_y: 0.11672104544; pairs: 4,6\" role=\"graphics-symbol\" aria-roledescription=\"line mark\" d=\"M143.75435505861523,176.6557909119181L261.4571558600319,17.043856234459163\" stroke=\"black\" stroke-width=\"0.5\"></path></g></g><path class=\"foreground\" aria-hidden=\"true\" d=\"\" display=\"none\"></path></g><g transform=\"translate(0,0)\"><path class=\"background\" aria-hidden=\"true\" d=\"M0,0h600v400h-600Z\"></path><g><g class=\"mark-line role-mark layer_0_marks\" role=\"graphics-object\" aria-roledescription=\"line mark container\" pointer-events=\"none\"><path aria-label=\"edges_x: -0.520818816471; edges_y: 0.11672104544; pairs: 5,6\" role=\"graphics-symbol\" aria-roledescription=\"line mark\" d=\"M143.75435505861523,176.6557909119181L199.51821189137658,94.97150231082192\" stroke=\"black\" stroke-width=\"0.5\"></path></g></g><path class=\"foreground\" aria-hidden=\"true\" d=\"\" display=\"none\"></path></g><g transform=\"translate(0,0)\"><path class=\"background\" aria-hidden=\"true\" d=\"M0,0h600v400h-600Z\"></path><g><g class=\"mark-line role-mark layer_0_marks\" role=\"graphics-object\" aria-roledescription=\"line mark container\" pointer-events=\"none\"><path aria-label=\"edges_x: 0.383531996917; edges_y: 0.175900315625; pairs: 1,7\" role=\"graphics-symbol\" aria-roledescription=\"line mark\" d=\"M415.0595990750894,164.8199368750709L600,174.2019066598404\" stroke=\"black\" stroke-width=\"0.5\"></path></g></g><path class=\"foreground\" aria-hidden=\"true\" d=\"\" display=\"none\"></path></g><g transform=\"translate(0,0)\"><path class=\"background\" aria-hidden=\"true\" d=\"M0,0h600v400h-600Z\"></path><g><g class=\"mark-line role-mark layer_0_marks\" role=\"graphics-object\" aria-roledescription=\"line mark container\" pointer-events=\"none\"><path aria-label=\"edges_x: -0.691779833161; edges_y: 0.83967718037; pairs: 2,7\" role=\"graphics-symbol\" aria-roledescription=\"line mark\" d=\"M92.46605005168624,32.06456392601762L600,174.2019066598404\" stroke=\"black\" stroke-width=\"0.5\"></path></g></g><path class=\"foreground\" aria-hidden=\"true\" d=\"\" display=\"none\"></path></g><g transform=\"translate(0,0)\"><path class=\"background\" aria-hidden=\"true\" d=\"M0,0h600v400h-600Z\"></path><g><g class=\"mark-line role-mark layer_0_marks\" role=\"graphics-object\" aria-roledescription=\"line mark container\" pointer-events=\"none\"><path aria-label=\"edges_x: -0.128476147133; edges_y: 0.914780718828; pairs: 4,7\" role=\"graphics-symbol\" aria-roledescription=\"line mark\" d=\"M261.4571558600319,17.043856234459163L600,174.2019066598404\" stroke=\"black\" stroke-width=\"0.5\"></path></g></g><path class=\"foreground\" aria-hidden=\"true\" d=\"\" display=\"none\"></path></g><g transform=\"translate(0,0)\"><path class=\"background\" aria-hidden=\"true\" d=\"M0,0h600v400h-600Z\"></path><g><g class=\"mark-line role-mark layer_0_marks\" role=\"graphics-object\" aria-roledescription=\"line mark container\" pointer-events=\"none\"><path aria-label=\"edges_x: -0.334939293695; edges_y: 0.525142488446; pairs: 5,7\" role=\"graphics-symbol\" aria-roledescription=\"line mark\" d=\"M199.51821189137658,94.97150231082192L600,174.2019066598404\" stroke=\"black\" stroke-width=\"0.5\"></path></g></g><path class=\"foreground\" aria-hidden=\"true\" d=\"\" display=\"none\"></path></g><g transform=\"translate(0,0)\"><path class=\"background\" aria-hidden=\"true\" d=\"M0,0h600v400h-600Z\"></path><g><g class=\"mark-line role-mark layer_0_marks\" role=\"graphics-object\" aria-roledescription=\"line mark container\" pointer-events=\"none\"><path aria-label=\"edges_x: -0.520818816471; edges_y: 0.11672104544; pairs: 6,7\" role=\"graphics-symbol\" aria-roledescription=\"line mark\" d=\"M143.75435505861523,176.6557909119181L600,174.2019066598404\" stroke=\"black\" stroke-width=\"0.5\"></path></g></g><path class=\"foreground\" aria-hidden=\"true\" d=\"\" display=\"none\"></path></g><g transform=\"translate(0,0)\"><path class=\"background\" aria-hidden=\"true\" d=\"M0,0h600v400h-600Z\"></path><g><g class=\"mark-line role-mark layer_0_marks\" role=\"graphics-object\" aria-roledescription=\"line mark container\" pointer-events=\"none\"><path aria-label=\"edges_x: 0.100240124595; edges_y: -0.360042329698; pairs: 1,8\" role=\"graphics-symbol\" aria-roledescription=\"line mark\" d=\"M330.07203737850773,272.008465939673L415.0595990750894,164.8199368750709\" stroke=\"black\" stroke-width=\"0.5\"></path></g></g><path class=\"foreground\" aria-hidden=\"true\" d=\"\" display=\"none\"></path></g><g transform=\"translate(0,0)\"><path class=\"background\" aria-hidden=\"true\" d=\"M0,0h600v400h-600Z\"></path><g><g class=\"mark-line role-mark layer_0_marks\" role=\"graphics-object\" aria-roledescription=\"line mark container\" pointer-events=\"none\"><path aria-label=\"edges_x: -0.691779833161; edges_y: 0.83967718037; pairs: 2,8\" role=\"graphics-symbol\" aria-roledescription=\"line mark\" d=\"M92.46605005168624,32.06456392601762L330.07203737850773,272.008465939673\" stroke=\"black\" stroke-width=\"0.5\"></path></g></g><path class=\"foreground\" aria-hidden=\"true\" d=\"\" display=\"none\"></path></g><g transform=\"translate(0,0)\"><path class=\"background\" aria-hidden=\"true\" d=\"M0,0h600v400h-600Z\"></path><g><g class=\"mark-line role-mark layer_0_marks\" role=\"graphics-object\" aria-roledescription=\"line mark container\" pointer-events=\"none\"><path aria-label=\"edges_x: -1; edges_y: -0.607951808209; pairs: 3,8\" role=\"graphics-symbol\" aria-roledescription=\"line mark\" d=\"M0,321.590361641879L330.07203737850773,272.008465939673\" stroke=\"black\" stroke-width=\"0.5\"></path></g></g><path class=\"foreground\" aria-hidden=\"true\" d=\"\" display=\"none\"></path></g><g transform=\"translate(0,0)\"><path class=\"background\" aria-hidden=\"true\" d=\"M0,0h600v400h-600Z\"></path><g><g class=\"mark-line role-mark layer_0_marks\" role=\"graphics-object\" aria-roledescription=\"line mark container\" pointer-events=\"none\"><path aria-label=\"edges_x: -0.128476147133; edges_y: 0.914780718828; pairs: 4,8\" role=\"graphics-symbol\" aria-roledescription=\"line mark\" d=\"M261.4571558600319,17.043856234459163L330.07203737850773,272.008465939673\" stroke=\"black\" stroke-width=\"0.5\"></path></g></g><path class=\"foreground\" aria-hidden=\"true\" d=\"\" display=\"none\"></path></g><g transform=\"translate(0,0)\"><path class=\"background\" aria-hidden=\"true\" d=\"M0,0h600v400h-600Z\"></path><g><g class=\"mark-line role-mark layer_0_marks\" role=\"graphics-object\" aria-roledescription=\"line mark container\" pointer-events=\"none\"><path aria-label=\"edges_x: -0.334939293695; edges_y: 0.525142488446; pairs: 5,8\" role=\"graphics-symbol\" aria-roledescription=\"line mark\" d=\"M199.51821189137658,94.97150231082192L330.07203737850773,272.008465939673\" stroke=\"black\" stroke-width=\"0.5\"></path></g></g><path class=\"foreground\" aria-hidden=\"true\" d=\"\" display=\"none\"></path></g><g transform=\"translate(0,0)\"><path class=\"background\" aria-hidden=\"true\" d=\"M0,0h600v400h-600Z\"></path><g><g class=\"mark-line role-mark layer_0_marks\" role=\"graphics-object\" aria-roledescription=\"line mark container\" pointer-events=\"none\"><path aria-label=\"edges_x: -0.520818816471; edges_y: 0.11672104544; pairs: 6,8\" role=\"graphics-symbol\" aria-roledescription=\"line mark\" d=\"M143.75435505861523,176.6557909119181L330.07203737850773,272.008465939673\" stroke=\"black\" stroke-width=\"0.5\"></path></g></g><path class=\"foreground\" aria-hidden=\"true\" d=\"\" display=\"none\"></path></g><g transform=\"translate(0,0)\"><path class=\"background\" aria-hidden=\"true\" d=\"M0,0h600v400h-600Z\"></path><g><g class=\"mark-line role-mark layer_0_marks\" role=\"graphics-object\" aria-roledescription=\"line mark container\" pointer-events=\"none\"><path aria-label=\"edges_x: 0.100240124595; edges_y: -0.360042329698; pairs: 7,8\" role=\"graphics-symbol\" aria-roledescription=\"line mark\" d=\"M330.07203737850773,272.008465939673L600,174.2019066598404\" stroke=\"black\" stroke-width=\"0.5\"></path></g></g><path class=\"foreground\" aria-hidden=\"true\" d=\"\" display=\"none\"></path></g><g transform=\"translate(0,0)\"><path class=\"background\" aria-hidden=\"true\" d=\"M0,0h600v400h-600Z\"></path><g><g class=\"mark-line role-mark layer_0_marks\" role=\"graphics-object\" aria-roledescription=\"line mark container\" pointer-events=\"none\"><path aria-label=\"edges_x: -0.892815597637; edges_y: 0.397963513625; pairs: 1,9\" role=\"graphics-symbol\" aria-roledescription=\"line mark\" d=\"M32.15532070901417,120.40729727496893L415.0595990750894,164.8199368750709\" stroke=\"black\" stroke-width=\"0.5\"></path></g></g><path class=\"foreground\" aria-hidden=\"true\" d=\"\" display=\"none\"></path></g><g transform=\"translate(0,0)\"><path class=\"background\" aria-hidden=\"true\" d=\"M0,0h600v400h-600Z\"></path><g><g class=\"mark-line role-mark layer_0_marks\" role=\"graphics-object\" aria-roledescription=\"line mark container\" pointer-events=\"none\"><path aria-label=\"edges_x: -0.892815597637; edges_y: 0.397963513625; pairs: 2,9\" role=\"graphics-symbol\" aria-roledescription=\"line mark\" d=\"M32.15532070901417,120.40729727496893L92.46605005168624,32.06456392601762\" stroke=\"black\" stroke-width=\"0.5\"></path></g></g><path class=\"foreground\" aria-hidden=\"true\" d=\"\" display=\"none\"></path></g><g transform=\"translate(0,0)\"><path class=\"background\" aria-hidden=\"true\" d=\"M0,0h600v400h-600Z\"></path><g><g class=\"mark-line role-mark layer_0_marks\" role=\"graphics-object\" aria-roledescription=\"line mark container\" pointer-events=\"none\"><path aria-label=\"edges_x: -1; edges_y: -0.607951808209; pairs: 3,9\" role=\"graphics-symbol\" aria-roledescription=\"line mark\" d=\"M0,321.590361641879L32.15532070901417,120.40729727496893\" stroke=\"black\" stroke-width=\"0.5\"></path></g></g><path class=\"foreground\" aria-hidden=\"true\" d=\"\" display=\"none\"></path></g><g transform=\"translate(0,0)\"><path class=\"background\" aria-hidden=\"true\" d=\"M0,0h600v400h-600Z\"></path><g><g class=\"mark-line role-mark layer_0_marks\" role=\"graphics-object\" aria-roledescription=\"line mark container\" pointer-events=\"none\"><path aria-label=\"edges_x: -0.892815597637; edges_y: 0.397963513625; pairs: 4,9\" role=\"graphics-symbol\" aria-roledescription=\"line mark\" d=\"M32.15532070901417,120.40729727496893L261.4571558600319,17.043856234459163\" stroke=\"black\" stroke-width=\"0.5\"></path></g></g><path class=\"foreground\" aria-hidden=\"true\" d=\"\" display=\"none\"></path></g><g transform=\"translate(0,0)\"><path class=\"background\" aria-hidden=\"true\" d=\"M0,0h600v400h-600Z\"></path><g><g class=\"mark-line role-mark layer_0_marks\" role=\"graphics-object\" aria-roledescription=\"line mark container\" pointer-events=\"none\"><path aria-label=\"edges_x: -0.892815597637; edges_y: 0.397963513625; pairs: 5,9\" role=\"graphics-symbol\" aria-roledescription=\"line mark\" d=\"M32.15532070901417,120.40729727496893L199.51821189137658,94.97150231082192\" stroke=\"black\" stroke-width=\"0.5\"></path></g></g><path class=\"foreground\" aria-hidden=\"true\" d=\"\" display=\"none\"></path></g><g transform=\"translate(0,0)\"><path class=\"background\" aria-hidden=\"true\" d=\"M0,0h600v400h-600Z\"></path><g><g class=\"mark-line role-mark layer_0_marks\" role=\"graphics-object\" aria-roledescription=\"line mark container\" pointer-events=\"none\"><path aria-label=\"edges_x: -0.892815597637; edges_y: 0.397963513625; pairs: 6,9\" role=\"graphics-symbol\" aria-roledescription=\"line mark\" d=\"M32.15532070901417,120.40729727496893L143.75435505861523,176.6557909119181\" stroke=\"black\" stroke-width=\"0.5\"></path></g></g><path class=\"foreground\" aria-hidden=\"true\" d=\"\" display=\"none\"></path></g><g transform=\"translate(0,0)\"><path class=\"background\" aria-hidden=\"true\" d=\"M0,0h600v400h-600Z\"></path><g><g class=\"mark-line role-mark layer_0_marks\" role=\"graphics-object\" aria-roledescription=\"line mark container\" pointer-events=\"none\"><path aria-label=\"edges_x: -0.892815597637; edges_y: 0.397963513625; pairs: 8,9\" role=\"graphics-symbol\" aria-roledescription=\"line mark\" d=\"M32.15532070901417,120.40729727496893L330.07203737850773,272.008465939673\" stroke=\"black\" stroke-width=\"0.5\"></path></g></g><path class=\"foreground\" aria-hidden=\"true\" d=\"\" display=\"none\"></path></g><g transform=\"translate(0,0)\"><path class=\"background\" aria-hidden=\"true\" d=\"M0,0h600v400h-600Z\"></path><g><g class=\"mark-line role-mark layer_0_marks\" role=\"graphics-object\" aria-roledescription=\"line mark container\" pointer-events=\"none\"><path aria-label=\"edges_x: -0.227793116562; edges_y: -0.71997400539; pairs: 1,10\" role=\"graphics-symbol\" aria-roledescription=\"line mark\" d=\"M231.6620650314319,343.9948010779759L415.0595990750894,164.8199368750709\" stroke=\"black\" stroke-width=\"0.5\"></path></g></g><path class=\"foreground\" aria-hidden=\"true\" d=\"\" display=\"none\"></path></g><g transform=\"translate(0,0)\"><path class=\"background\" aria-hidden=\"true\" d=\"M0,0h600v400h-600Z\"></path><g><g class=\"mark-line role-mark layer_0_marks\" role=\"graphics-object\" aria-roledescription=\"line mark container\" pointer-events=\"none\"><path aria-label=\"edges_x: -0.691779833161; edges_y: 0.83967718037; pairs: 2,10\" role=\"graphics-symbol\" aria-roledescription=\"line mark\" d=\"M92.46605005168624,32.06456392601762L231.6620650314319,343.9948010779759\" stroke=\"black\" stroke-width=\"0.5\"></path></g></g><path class=\"foreground\" aria-hidden=\"true\" d=\"\" display=\"none\"></path></g><g transform=\"translate(0,0)\"><path class=\"background\" aria-hidden=\"true\" d=\"M0,0h600v400h-600Z\"></path><g><g class=\"mark-line role-mark layer_0_marks\" role=\"graphics-object\" aria-roledescription=\"line mark container\" pointer-events=\"none\"><path aria-label=\"edges_x: -1; edges_y: -0.607951808209; pairs: 3,10\" role=\"graphics-symbol\" aria-roledescription=\"line mark\" d=\"M0,321.590361641879L231.6620650314319,343.9948010779759\" stroke=\"black\" stroke-width=\"0.5\"></path></g></g><path class=\"foreground\" aria-hidden=\"true\" d=\"\" display=\"none\"></path></g><g transform=\"translate(0,0)\"><path class=\"background\" aria-hidden=\"true\" d=\"M0,0h600v400h-600Z\"></path><g><g class=\"mark-line role-mark layer_0_marks\" role=\"graphics-object\" aria-roledescription=\"line mark container\" pointer-events=\"none\"><path aria-label=\"edges_x: -0.227793116562; edges_y: -0.71997400539; pairs: 4,10\" role=\"graphics-symbol\" aria-roledescription=\"line mark\" d=\"M231.6620650314319,343.9948010779759L261.4571558600319,17.043856234459163\" stroke=\"black\" stroke-width=\"0.5\"></path></g></g><path class=\"foreground\" aria-hidden=\"true\" d=\"\" display=\"none\"></path></g><g transform=\"translate(0,0)\"><path class=\"background\" aria-hidden=\"true\" d=\"M0,0h600v400h-600Z\"></path><g><g class=\"mark-line role-mark layer_0_marks\" role=\"graphics-object\" aria-roledescription=\"line mark container\" pointer-events=\"none\"><path aria-label=\"edges_x: -0.334939293695; edges_y: 0.525142488446; pairs: 5,10\" role=\"graphics-symbol\" aria-roledescription=\"line mark\" d=\"M199.51821189137658,94.97150231082192L231.6620650314319,343.9948010779759\" stroke=\"black\" stroke-width=\"0.5\"></path></g></g><path class=\"foreground\" aria-hidden=\"true\" d=\"\" display=\"none\"></path></g><g transform=\"translate(0,0)\"><path class=\"background\" aria-hidden=\"true\" d=\"M0,0h600v400h-600Z\"></path><g><g class=\"mark-line role-mark layer_0_marks\" role=\"graphics-object\" aria-roledescription=\"line mark container\" pointer-events=\"none\"><path aria-label=\"edges_x: -0.520818816471; edges_y: 0.11672104544; pairs: 6,10\" role=\"graphics-symbol\" aria-roledescription=\"line mark\" d=\"M143.75435505861523,176.6557909119181L231.6620650314319,343.9948010779759\" stroke=\"black\" stroke-width=\"0.5\"></path></g></g><path class=\"foreground\" aria-hidden=\"true\" d=\"\" display=\"none\"></path></g><g transform=\"translate(0,0)\"><path class=\"background\" aria-hidden=\"true\" d=\"M0,0h600v400h-600Z\"></path><g><g class=\"mark-line role-mark layer_0_marks\" role=\"graphics-object\" aria-roledescription=\"line mark container\" pointer-events=\"none\"><path aria-label=\"edges_x: -0.227793116562; edges_y: -0.71997400539; pairs: 7,10\" role=\"graphics-symbol\" aria-roledescription=\"line mark\" d=\"M231.6620650314319,343.9948010779759L600,174.2019066598404\" stroke=\"black\" stroke-width=\"0.5\"></path></g></g><path class=\"foreground\" aria-hidden=\"true\" d=\"\" display=\"none\"></path></g><g transform=\"translate(0,0)\"><path class=\"background\" aria-hidden=\"true\" d=\"M0,0h600v400h-600Z\"></path><g><g class=\"mark-line role-mark layer_0_marks\" role=\"graphics-object\" aria-roledescription=\"line mark container\" pointer-events=\"none\"><path aria-label=\"edges_x: -0.227793116562; edges_y: -0.71997400539; pairs: 8,10\" role=\"graphics-symbol\" aria-roledescription=\"line mark\" d=\"M231.6620650314319,343.9948010779759L330.07203737850773,272.008465939673\" stroke=\"black\" stroke-width=\"0.5\"></path></g></g><path class=\"foreground\" aria-hidden=\"true\" d=\"\" display=\"none\"></path></g><g transform=\"translate(0,0)\"><path class=\"background\" aria-hidden=\"true\" d=\"M0,0h600v400h-600Z\"></path><g><g class=\"mark-line role-mark layer_0_marks\" role=\"graphics-object\" aria-roledescription=\"line mark container\" pointer-events=\"none\"><path aria-label=\"edges_x: -0.892815597637; edges_y: 0.397963513625; pairs: 9,10\" role=\"graphics-symbol\" aria-roledescription=\"line mark\" d=\"M32.15532070901417,120.40729727496893L231.6620650314319,343.9948010779759\" stroke=\"black\" stroke-width=\"0.5\"></path></g></g><path class=\"foreground\" aria-hidden=\"true\" d=\"\" display=\"none\"></path></g><g transform=\"translate(0,0)\"><path class=\"background\" aria-hidden=\"true\" d=\"M0,0h600v400h-600Z\"></path><g><g class=\"mark-line role-mark layer_0_marks\" role=\"graphics-object\" aria-roledescription=\"line mark container\" pointer-events=\"none\"><path aria-label=\"edges_x: -0.676549052016; edges_y: -1; pairs: 1,11\" role=\"graphics-symbol\" aria-roledescription=\"line mark\" d=\"M97.03528439516083,400L415.0595990750894,164.8199368750709\" stroke=\"black\" stroke-width=\"0.5\"></path></g></g><path class=\"foreground\" aria-hidden=\"true\" d=\"\" display=\"none\"></path></g><g transform=\"translate(0,0)\"><path class=\"background\" aria-hidden=\"true\" d=\"M0,0h600v400h-600Z\"></path><g><g class=\"mark-line role-mark layer_0_marks\" role=\"graphics-object\" aria-roledescription=\"line mark container\" pointer-events=\"none\"><path aria-label=\"edges_x: -0.691779833161; edges_y: 0.83967718037; pairs: 2,11\" role=\"graphics-symbol\" aria-roledescription=\"line mark\" d=\"M92.46605005168624,32.06456392601762L97.03528439516083,400\" stroke=\"black\" stroke-width=\"0.5\"></path></g></g><path class=\"foreground\" aria-hidden=\"true\" d=\"\" display=\"none\"></path></g><g transform=\"translate(0,0)\"><path class=\"background\" aria-hidden=\"true\" d=\"M0,0h600v400h-600Z\"></path><g><g class=\"mark-line role-mark layer_0_marks\" role=\"graphics-object\" aria-roledescription=\"line mark container\" pointer-events=\"none\"><path aria-label=\"edges_x: -1; edges_y: -0.607951808209; pairs: 3,11\" role=\"graphics-symbol\" aria-roledescription=\"line mark\" d=\"M0,321.590361641879L97.03528439516083,400\" stroke=\"black\" stroke-width=\"0.5\"></path></g></g><path class=\"foreground\" aria-hidden=\"true\" d=\"\" display=\"none\"></path></g><g transform=\"translate(0,0)\"><path class=\"background\" aria-hidden=\"true\" d=\"M0,0h600v400h-600Z\"></path><g><g class=\"mark-line role-mark layer_0_marks\" role=\"graphics-object\" aria-roledescription=\"line mark container\" pointer-events=\"none\"><path aria-label=\"edges_x: -0.676549052016; edges_y: -1; pairs: 4,11\" role=\"graphics-symbol\" aria-roledescription=\"line mark\" d=\"M97.03528439516083,400L261.4571558600319,17.043856234459163\" stroke=\"black\" stroke-width=\"0.5\"></path></g></g><path class=\"foreground\" aria-hidden=\"true\" d=\"\" display=\"none\"></path></g><g transform=\"translate(0,0)\"><path class=\"background\" aria-hidden=\"true\" d=\"M0,0h600v400h-600Z\"></path><g><g class=\"mark-line role-mark layer_0_marks\" role=\"graphics-object\" aria-roledescription=\"line mark container\" pointer-events=\"none\"><path aria-label=\"edges_x: -0.676549052016; edges_y: -1; pairs: 5,11\" role=\"graphics-symbol\" aria-roledescription=\"line mark\" d=\"M97.03528439516083,400L199.51821189137658,94.97150231082192\" stroke=\"black\" stroke-width=\"0.5\"></path></g></g><path class=\"foreground\" aria-hidden=\"true\" d=\"\" display=\"none\"></path></g><g transform=\"translate(0,0)\"><path class=\"background\" aria-hidden=\"true\" d=\"M0,0h600v400h-600Z\"></path><g><g class=\"mark-line role-mark layer_0_marks\" role=\"graphics-object\" aria-roledescription=\"line mark container\" pointer-events=\"none\"><path aria-label=\"edges_x: -0.676549052016; edges_y: -1; pairs: 6,11\" role=\"graphics-symbol\" aria-roledescription=\"line mark\" d=\"M97.03528439516083,400L143.75435505861523,176.6557909119181\" stroke=\"black\" stroke-width=\"0.5\"></path></g></g><path class=\"foreground\" aria-hidden=\"true\" d=\"\" display=\"none\"></path></g><g transform=\"translate(0,0)\"><path class=\"background\" aria-hidden=\"true\" d=\"M0,0h600v400h-600Z\"></path><g><g class=\"mark-line role-mark layer_0_marks\" role=\"graphics-object\" aria-roledescription=\"line mark container\" pointer-events=\"none\"><path aria-label=\"edges_x: -0.676549052016; edges_y: -1; pairs: 8,11\" role=\"graphics-symbol\" aria-roledescription=\"line mark\" d=\"M97.03528439516083,400L330.07203737850773,272.008465939673\" stroke=\"black\" stroke-width=\"0.5\"></path></g></g><path class=\"foreground\" aria-hidden=\"true\" d=\"\" display=\"none\"></path></g><g transform=\"translate(0,0)\"><path class=\"background\" aria-hidden=\"true\" d=\"M0,0h600v400h-600Z\"></path><g><g class=\"mark-line role-mark layer_0_marks\" role=\"graphics-object\" aria-roledescription=\"line mark container\" pointer-events=\"none\"><path aria-label=\"edges_x: -0.892815597637; edges_y: 0.397963513625; pairs: 9,11\" role=\"graphics-symbol\" aria-roledescription=\"line mark\" d=\"M32.15532070901417,120.40729727496893L97.03528439516083,400\" stroke=\"black\" stroke-width=\"0.5\"></path></g></g><path class=\"foreground\" aria-hidden=\"true\" d=\"\" display=\"none\"></path></g><g transform=\"translate(0,0)\"><path class=\"background\" aria-hidden=\"true\" d=\"M0,0h600v400h-600Z\"></path><g><g class=\"mark-line role-mark layer_0_marks\" role=\"graphics-object\" aria-roledescription=\"line mark container\" pointer-events=\"none\"><path aria-label=\"edges_x: -0.676549052016; edges_y: -1; pairs: 10,11\" role=\"graphics-symbol\" aria-roledescription=\"line mark\" d=\"M97.03528439516083,400L231.6620650314319,343.9948010779759\" stroke=\"black\" stroke-width=\"0.5\"></path></g></g><path class=\"foreground\" aria-hidden=\"true\" d=\"\" display=\"none\"></path></g><g transform=\"translate(0,0)\"><path class=\"background\" aria-hidden=\"true\" d=\"M0,0h600v400h-600Z\"></path><g><g class=\"mark-line role-mark layer_0_marks\" role=\"graphics-object\" aria-roledescription=\"line mark container\" pointer-events=\"none\"><path aria-label=\"edges_x: 0.333054464011; edges_y: 1; pairs: 1,12\" role=\"graphics-symbol\" aria-roledescription=\"line mark\" d=\"M399.9163392032951,0L415.0595990750894,164.8199368750709\" stroke=\"black\" stroke-width=\"0.5\"></path></g></g><path class=\"foreground\" aria-hidden=\"true\" d=\"\" display=\"none\"></path></g><g transform=\"translate(0,0)\"><path class=\"background\" aria-hidden=\"true\" d=\"M0,0h600v400h-600Z\"></path><g><g class=\"mark-line role-mark layer_0_marks\" role=\"graphics-object\" aria-roledescription=\"line mark container\" pointer-events=\"none\"><path aria-label=\"edges_x: -0.691779833161; edges_y: 0.83967718037; pairs: 2,12\" role=\"graphics-symbol\" aria-roledescription=\"line mark\" d=\"M92.46605005168624,32.06456392601762L399.9163392032951,0\" stroke=\"black\" stroke-width=\"0.5\"></path></g></g><path class=\"foreground\" aria-hidden=\"true\" d=\"\" display=\"none\"></path></g><g transform=\"translate(0,0)\"><path class=\"background\" aria-hidden=\"true\" d=\"M0,0h600v400h-600Z\"></path><g><g class=\"mark-line role-mark layer_0_marks\" role=\"graphics-object\" aria-roledescription=\"line mark container\" pointer-events=\"none\"><path aria-label=\"edges_x: -0.334939293695; edges_y: 0.525142488446; pairs: 5,12\" role=\"graphics-symbol\" aria-roledescription=\"line mark\" d=\"M199.51821189137658,94.97150231082192L399.9163392032951,0\" stroke=\"black\" stroke-width=\"0.5\"></path></g></g><path class=\"foreground\" aria-hidden=\"true\" d=\"\" display=\"none\"></path></g><g transform=\"translate(0,0)\"><path class=\"background\" aria-hidden=\"true\" d=\"M0,0h600v400h-600Z\"></path><g><g class=\"mark-line role-mark layer_0_marks\" role=\"graphics-object\" aria-roledescription=\"line mark container\" pointer-events=\"none\"><path aria-label=\"edges_x: -0.520818816471; edges_y: 0.11672104544; pairs: 6,12\" role=\"graphics-symbol\" aria-roledescription=\"line mark\" d=\"M143.75435505861523,176.6557909119181L399.9163392032951,0\" stroke=\"black\" stroke-width=\"0.5\"></path></g></g><path class=\"foreground\" aria-hidden=\"true\" d=\"\" display=\"none\"></path></g><g transform=\"translate(0,0)\"><path class=\"background\" aria-hidden=\"true\" d=\"M0,0h600v400h-600Z\"></path><g><g class=\"mark-line role-mark layer_0_marks\" role=\"graphics-object\" aria-roledescription=\"line mark container\" pointer-events=\"none\"><path aria-label=\"edges_x: 0.333054464011; edges_y: 1; pairs: 7,12\" role=\"graphics-symbol\" aria-roledescription=\"line mark\" d=\"M399.9163392032951,0L600,174.2019066598404\" stroke=\"black\" stroke-width=\"0.5\"></path></g></g><path class=\"foreground\" aria-hidden=\"true\" d=\"\" display=\"none\"></path></g><g transform=\"translate(0,0)\"><path class=\"background\" aria-hidden=\"true\" d=\"M0,0h600v400h-600Z\"></path><g><g class=\"mark-line role-mark layer_0_marks\" role=\"graphics-object\" aria-roledescription=\"line mark container\" pointer-events=\"none\"><path aria-label=\"edges_x: 0.100240124595; edges_y: -0.360042329698; pairs: 8,12\" role=\"graphics-symbol\" aria-roledescription=\"line mark\" d=\"M330.07203737850773,272.008465939673L399.9163392032951,0\" stroke=\"black\" stroke-width=\"0.5\"></path></g></g><path class=\"foreground\" aria-hidden=\"true\" d=\"\" display=\"none\"></path></g><g transform=\"translate(0,0)\"><path class=\"background\" aria-hidden=\"true\" d=\"M0,0h600v400h-600Z\"></path><g><g class=\"mark-line role-mark layer_0_marks\" role=\"graphics-object\" aria-roledescription=\"line mark container\" pointer-events=\"none\"><path aria-label=\"edges_x: -0.892815597637; edges_y: 0.397963513625; pairs: 9,12\" role=\"graphics-symbol\" aria-roledescription=\"line mark\" d=\"M32.15532070901417,120.40729727496893L399.9163392032951,0\" stroke=\"black\" stroke-width=\"0.5\"></path></g></g><path class=\"foreground\" aria-hidden=\"true\" d=\"\" display=\"none\"></path></g><g transform=\"translate(0,0)\"><path class=\"background\" aria-hidden=\"true\" d=\"M0,0h600v400h-600Z\"></path><g><g class=\"mark-line role-mark layer_0_marks\" role=\"graphics-object\" aria-roledescription=\"line mark container\" pointer-events=\"none\"><path aria-label=\"edges_x: -0.227793116562; edges_y: -0.71997400539; pairs: 10,12\" role=\"graphics-symbol\" aria-roledescription=\"line mark\" d=\"M231.6620650314319,343.9948010779759L399.9163392032951,0\" stroke=\"black\" stroke-width=\"0.5\"></path></g></g><path class=\"foreground\" aria-hidden=\"true\" d=\"\" display=\"none\"></path></g><g transform=\"translate(0,0)\"><path class=\"background\" aria-hidden=\"true\" d=\"M0,0h600v400h-600Z\"></path><g><g class=\"mark-line role-mark layer_0_marks\" role=\"graphics-object\" aria-roledescription=\"line mark container\" pointer-events=\"none\"><path aria-label=\"edges_x: 0.383531996917; edges_y: 0.175900315625; pairs: 1,13\" role=\"graphics-symbol\" aria-roledescription=\"line mark\" d=\"M415.0595990750894,164.8199368750709L508.87664307709935,76.27978797844301\" stroke=\"black\" stroke-width=\"0.5\"></path></g></g><path class=\"foreground\" aria-hidden=\"true\" d=\"\" display=\"none\"></path></g><g transform=\"translate(0,0)\"><path class=\"background\" aria-hidden=\"true\" d=\"M0,0h600v400h-600Z\"></path><g><g class=\"mark-line role-mark layer_0_marks\" role=\"graphics-object\" aria-roledescription=\"line mark container\" pointer-events=\"none\"><path aria-label=\"edges_x: -0.128476147133; edges_y: 0.914780718828; pairs: 4,13\" role=\"graphics-symbol\" aria-roledescription=\"line mark\" d=\"M261.4571558600319,17.043856234459163L508.87664307709935,76.27978797844301\" stroke=\"black\" stroke-width=\"0.5\"></path></g></g><path class=\"foreground\" aria-hidden=\"true\" d=\"\" display=\"none\"></path></g><g transform=\"translate(0,0)\"><path class=\"background\" aria-hidden=\"true\" d=\"M0,0h600v400h-600Z\"></path><g><g class=\"mark-line role-mark layer_0_marks\" role=\"graphics-object\" aria-roledescription=\"line mark container\" pointer-events=\"none\"><path aria-label=\"edges_x: -0.334939293695; edges_y: 0.525142488446; pairs: 5,13\" role=\"graphics-symbol\" aria-roledescription=\"line mark\" d=\"M199.51821189137658,94.97150231082192L508.87664307709935,76.27978797844301\" stroke=\"black\" stroke-width=\"0.5\"></path></g></g><path class=\"foreground\" aria-hidden=\"true\" d=\"\" display=\"none\"></path></g><g transform=\"translate(0,0)\"><path class=\"background\" aria-hidden=\"true\" d=\"M0,0h600v400h-600Z\"></path><g><g class=\"mark-line role-mark layer_0_marks\" role=\"graphics-object\" aria-roledescription=\"line mark container\" pointer-events=\"none\"><path aria-label=\"edges_x: -0.520818816471; edges_y: 0.11672104544; pairs: 6,13\" role=\"graphics-symbol\" aria-roledescription=\"line mark\" d=\"M143.75435505861523,176.6557909119181L508.87664307709935,76.27978797844301\" stroke=\"black\" stroke-width=\"0.5\"></path></g></g><path class=\"foreground\" aria-hidden=\"true\" d=\"\" display=\"none\"></path></g><g transform=\"translate(0,0)\"><path class=\"background\" aria-hidden=\"true\" d=\"M0,0h600v400h-600Z\"></path><g><g class=\"mark-line role-mark layer_0_marks\" role=\"graphics-object\" aria-roledescription=\"line mark container\" pointer-events=\"none\"><path aria-label=\"edges_x: 0.696255476924; edges_y: 0.618601060108; pairs: 7,13\" role=\"graphics-symbol\" aria-roledescription=\"line mark\" d=\"M508.87664307709935,76.27978797844301L600,174.2019066598404\" stroke=\"black\" stroke-width=\"0.5\"></path></g></g><path class=\"foreground\" aria-hidden=\"true\" d=\"\" display=\"none\"></path></g><g transform=\"translate(0,0)\"><path class=\"background\" aria-hidden=\"true\" d=\"M0,0h600v400h-600Z\"></path><g><g class=\"mark-line role-mark layer_0_marks\" role=\"graphics-object\" aria-roledescription=\"line mark container\" pointer-events=\"none\"><path aria-label=\"edges_x: 0.100240124595; edges_y: -0.360042329698; pairs: 8,13\" role=\"graphics-symbol\" aria-roledescription=\"line mark\" d=\"M330.07203737850773,272.008465939673L508.87664307709935,76.27978797844301\" stroke=\"black\" stroke-width=\"0.5\"></path></g></g><path class=\"foreground\" aria-hidden=\"true\" d=\"\" display=\"none\"></path></g><g transform=\"translate(0,0)\"><path class=\"background\" aria-hidden=\"true\" d=\"M0,0h600v400h-600Z\"></path><g><g class=\"mark-line role-mark layer_0_marks\" role=\"graphics-object\" aria-roledescription=\"line mark container\" pointer-events=\"none\"><path aria-label=\"edges_x: -0.892815597637; edges_y: 0.397963513625; pairs: 9,13\" role=\"graphics-symbol\" aria-roledescription=\"line mark\" d=\"M32.15532070901417,120.40729727496893L508.87664307709935,76.27978797844301\" stroke=\"black\" stroke-width=\"0.5\"></path></g></g><path class=\"foreground\" aria-hidden=\"true\" d=\"\" display=\"none\"></path></g><g transform=\"translate(0,0)\"><path class=\"background\" aria-hidden=\"true\" d=\"M0,0h600v400h-600Z\"></path><g><g class=\"mark-line role-mark layer_0_marks\" role=\"graphics-object\" aria-roledescription=\"line mark container\" pointer-events=\"none\"><path aria-label=\"edges_x: -0.227793116562; edges_y: -0.71997400539; pairs: 10,13\" role=\"graphics-symbol\" aria-roledescription=\"line mark\" d=\"M231.6620650314319,343.9948010779759L508.87664307709935,76.27978797844301\" stroke=\"black\" stroke-width=\"0.5\"></path></g></g><path class=\"foreground\" aria-hidden=\"true\" d=\"\" display=\"none\"></path></g><g transform=\"translate(0,0)\"><path class=\"background\" aria-hidden=\"true\" d=\"M0,0h600v400h-600Z\"></path><g><g class=\"mark-line role-mark layer_0_marks\" role=\"graphics-object\" aria-roledescription=\"line mark container\" pointer-events=\"none\"><path aria-label=\"edges_x: 0.333054464011; edges_y: 1; pairs: 12,13\" role=\"graphics-symbol\" aria-roledescription=\"line mark\" d=\"M399.9163392032951,0L508.87664307709935,76.27978797844301\" stroke=\"black\" stroke-width=\"0.5\"></path></g></g><path class=\"foreground\" aria-hidden=\"true\" d=\"\" display=\"none\"></path></g><g transform=\"translate(0,0)\"><path class=\"background\" aria-hidden=\"true\" d=\"M0,0h600v400h-600Z\"></path><g><g class=\"mark-line role-mark layer_0_marks\" role=\"graphics-object\" aria-roledescription=\"line mark container\" pointer-events=\"none\"><path aria-label=\"edges_x: -0.476006742555; edges_y: -0.372163725076; pairs: 1,14\" role=\"graphics-symbol\" aria-roledescription=\"line mark\" d=\"M157.1979772334611,274.4327450152536L415.0595990750894,164.8199368750709\" stroke=\"black\" stroke-width=\"0.5\"></path></g></g><path class=\"foreground\" aria-hidden=\"true\" d=\"\" display=\"none\"></path></g><g transform=\"translate(0,0)\"><path class=\"background\" aria-hidden=\"true\" d=\"M0,0h600v400h-600Z\"></path><g><g class=\"mark-line role-mark layer_0_marks\" role=\"graphics-object\" aria-roledescription=\"line mark container\" pointer-events=\"none\"><path aria-label=\"edges_x: -0.691779833161; edges_y: 0.83967718037; pairs: 2,14\" role=\"graphics-symbol\" aria-roledescription=\"line mark\" d=\"M92.46605005168624,32.06456392601762L157.1979772334611,274.4327450152536\" stroke=\"black\" stroke-width=\"0.5\"></path></g></g><path class=\"foreground\" aria-hidden=\"true\" d=\"\" display=\"none\"></path></g><g transform=\"translate(0,0)\"><path class=\"background\" aria-hidden=\"true\" d=\"M0,0h600v400h-600Z\"></path><g><g class=\"mark-line role-mark layer_0_marks\" role=\"graphics-object\" aria-roledescription=\"line mark container\" pointer-events=\"none\"><path aria-label=\"edges_x: -1; edges_y: -0.607951808209; pairs: 3,14\" role=\"graphics-symbol\" aria-roledescription=\"line mark\" d=\"M0,321.590361641879L157.1979772334611,274.4327450152536\" stroke=\"black\" stroke-width=\"0.5\"></path></g></g><path class=\"foreground\" aria-hidden=\"true\" d=\"\" display=\"none\"></path></g><g transform=\"translate(0,0)\"><path class=\"background\" aria-hidden=\"true\" d=\"M0,0h600v400h-600Z\"></path><g><g class=\"mark-line role-mark layer_0_marks\" role=\"graphics-object\" aria-roledescription=\"line mark container\" pointer-events=\"none\"><path aria-label=\"edges_x: -0.476006742555; edges_y: -0.372163725076; pairs: 4,14\" role=\"graphics-symbol\" aria-roledescription=\"line mark\" d=\"M157.1979772334611,274.4327450152536L261.4571558600319,17.043856234459163\" stroke=\"black\" stroke-width=\"0.5\"></path></g></g><path class=\"foreground\" aria-hidden=\"true\" d=\"\" display=\"none\"></path></g><g transform=\"translate(0,0)\"><path class=\"background\" aria-hidden=\"true\" d=\"M0,0h600v400h-600Z\"></path><g><g class=\"mark-line role-mark layer_0_marks\" role=\"graphics-object\" aria-roledescription=\"line mark container\" pointer-events=\"none\"><path aria-label=\"edges_x: -0.476006742555; edges_y: -0.372163725076; pairs: 5,14\" role=\"graphics-symbol\" aria-roledescription=\"line mark\" d=\"M157.1979772334611,274.4327450152536L199.51821189137658,94.97150231082192\" stroke=\"black\" stroke-width=\"0.5\"></path></g></g><path class=\"foreground\" aria-hidden=\"true\" d=\"\" display=\"none\"></path></g><g transform=\"translate(0,0)\"><path class=\"background\" aria-hidden=\"true\" d=\"M0,0h600v400h-600Z\"></path><g><g class=\"mark-line role-mark layer_0_marks\" role=\"graphics-object\" aria-roledescription=\"line mark container\" pointer-events=\"none\"><path aria-label=\"edges_x: -0.520818816471; edges_y: 0.11672104544; pairs: 6,14\" role=\"graphics-symbol\" aria-roledescription=\"line mark\" d=\"M143.75435505861523,176.6557909119181L157.1979772334611,274.4327450152536\" stroke=\"black\" stroke-width=\"0.5\"></path></g></g><path class=\"foreground\" aria-hidden=\"true\" d=\"\" display=\"none\"></path></g><g transform=\"translate(0,0)\"><path class=\"background\" aria-hidden=\"true\" d=\"M0,0h600v400h-600Z\"></path><g><g class=\"mark-line role-mark layer_0_marks\" role=\"graphics-object\" aria-roledescription=\"line mark container\" pointer-events=\"none\"><path aria-label=\"edges_x: -0.476006742555; edges_y: -0.372163725076; pairs: 7,14\" role=\"graphics-symbol\" aria-roledescription=\"line mark\" d=\"M157.1979772334611,274.4327450152536L600,174.2019066598404\" stroke=\"black\" stroke-width=\"0.5\"></path></g></g><path class=\"foreground\" aria-hidden=\"true\" d=\"\" display=\"none\"></path></g><g transform=\"translate(0,0)\"><path class=\"background\" aria-hidden=\"true\" d=\"M0,0h600v400h-600Z\"></path><g><g class=\"mark-line role-mark layer_0_marks\" role=\"graphics-object\" aria-roledescription=\"line mark container\" pointer-events=\"none\"><path aria-label=\"edges_x: -0.476006742555; edges_y: -0.372163725076; pairs: 8,14\" role=\"graphics-symbol\" aria-roledescription=\"line mark\" d=\"M157.1979772334611,274.4327450152536L330.07203737850773,272.008465939673\" stroke=\"black\" stroke-width=\"0.5\"></path></g></g><path class=\"foreground\" aria-hidden=\"true\" d=\"\" display=\"none\"></path></g><g transform=\"translate(0,0)\"><path class=\"background\" aria-hidden=\"true\" d=\"M0,0h600v400h-600Z\"></path><g><g class=\"mark-line role-mark layer_0_marks\" role=\"graphics-object\" aria-roledescription=\"line mark container\" pointer-events=\"none\"><path aria-label=\"edges_x: -0.892815597637; edges_y: 0.397963513625; pairs: 9,14\" role=\"graphics-symbol\" aria-roledescription=\"line mark\" d=\"M32.15532070901417,120.40729727496893L157.1979772334611,274.4327450152536\" stroke=\"black\" stroke-width=\"0.5\"></path></g></g><path class=\"foreground\" aria-hidden=\"true\" d=\"\" display=\"none\"></path></g><g transform=\"translate(0,0)\"><path class=\"background\" aria-hidden=\"true\" d=\"M0,0h600v400h-600Z\"></path><g><g class=\"mark-line role-mark layer_0_marks\" role=\"graphics-object\" aria-roledescription=\"line mark container\" pointer-events=\"none\"><path aria-label=\"edges_x: -0.476006742555; edges_y: -0.372163725076; pairs: 10,14\" role=\"graphics-symbol\" aria-roledescription=\"line mark\" d=\"M157.1979772334611,274.4327450152536L231.6620650314319,343.9948010779759\" stroke=\"black\" stroke-width=\"0.5\"></path></g></g><path class=\"foreground\" aria-hidden=\"true\" d=\"\" display=\"none\"></path></g><g transform=\"translate(0,0)\"><path class=\"background\" aria-hidden=\"true\" d=\"M0,0h600v400h-600Z\"></path><g><g class=\"mark-line role-mark layer_0_marks\" role=\"graphics-object\" aria-roledescription=\"line mark container\" pointer-events=\"none\"><path aria-label=\"edges_x: -0.676549052016; edges_y: -1; pairs: 11,14\" role=\"graphics-symbol\" aria-roledescription=\"line mark\" d=\"M97.03528439516083,400L157.1979772334611,274.4327450152536\" stroke=\"black\" stroke-width=\"0.5\"></path></g></g><path class=\"foreground\" aria-hidden=\"true\" d=\"\" display=\"none\"></path></g><g transform=\"translate(0,0)\"><path class=\"background\" aria-hidden=\"true\" d=\"M0,0h600v400h-600Z\"></path><g><g class=\"mark-line role-mark layer_0_marks\" role=\"graphics-object\" aria-roledescription=\"line mark container\" pointer-events=\"none\"><path aria-label=\"edges_x: -0.476006742555; edges_y: -0.372163725076; pairs: 12,14\" role=\"graphics-symbol\" aria-roledescription=\"line mark\" d=\"M157.1979772334611,274.4327450152536L399.9163392032951,0\" stroke=\"black\" stroke-width=\"0.5\"></path></g></g><path class=\"foreground\" aria-hidden=\"true\" d=\"\" display=\"none\"></path></g><g transform=\"translate(0,0)\"><path class=\"background\" aria-hidden=\"true\" d=\"M0,0h600v400h-600Z\"></path><g><g class=\"mark-line role-mark layer_0_marks\" role=\"graphics-object\" aria-roledescription=\"line mark container\" pointer-events=\"none\"><path aria-label=\"edges_x: -0.476006742555; edges_y: -0.372163725076; pairs: 13,14\" role=\"graphics-symbol\" aria-roledescription=\"line mark\" d=\"M157.1979772334611,274.4327450152536L508.87664307709935,76.27978797844301\" stroke=\"black\" stroke-width=\"0.5\"></path></g></g><path class=\"foreground\" aria-hidden=\"true\" d=\"\" display=\"none\"></path></g><g transform=\"translate(0,0)\"><path class=\"background\" aria-hidden=\"true\" d=\"M0,0h600v400h-600Z\"></path><g><g class=\"mark-line role-mark layer_0_marks\" role=\"graphics-object\" aria-roledescription=\"line mark container\" pointer-events=\"none\"><path aria-label=\"edges_x: 0.0710028145945; edges_y: 0.466459573448; pairs: 1,15\" role=\"graphics-symbol\" aria-roledescription=\"line mark\" d=\"M321.30084437835757,106.70808531040264L415.0595990750894,164.8199368750709\" stroke=\"black\" stroke-width=\"0.5\"></path></g></g><path class=\"foreground\" aria-hidden=\"true\" d=\"\" display=\"none\"></path></g><g transform=\"translate(0,0)\"><path class=\"background\" aria-hidden=\"true\" d=\"M0,0h600v400h-600Z\"></path><g><g class=\"mark-line role-mark layer_0_marks\" role=\"graphics-object\" aria-roledescription=\"line mark container\" pointer-events=\"none\"><path aria-label=\"edges_x: -0.691779833161; edges_y: 0.83967718037; pairs: 2,15\" role=\"graphics-symbol\" aria-roledescription=\"line mark\" d=\"M92.46605005168624,32.06456392601762L321.30084437835757,106.70808531040264\" stroke=\"black\" stroke-width=\"0.5\"></path></g></g><path class=\"foreground\" aria-hidden=\"true\" d=\"\" display=\"none\"></path></g><g transform=\"translate(0,0)\"><path class=\"background\" aria-hidden=\"true\" d=\"M0,0h600v400h-600Z\"></path><g><g class=\"mark-line role-mark layer_0_marks\" role=\"graphics-object\" aria-roledescription=\"line mark container\" pointer-events=\"none\"><path aria-label=\"edges_x: -1; edges_y: -0.607951808209; pairs: 3,15\" role=\"graphics-symbol\" aria-roledescription=\"line mark\" d=\"M0,321.590361641879L321.30084437835757,106.70808531040264\" stroke=\"black\" stroke-width=\"0.5\"></path></g></g><path class=\"foreground\" aria-hidden=\"true\" d=\"\" display=\"none\"></path></g><g transform=\"translate(0,0)\"><path class=\"background\" aria-hidden=\"true\" d=\"M0,0h600v400h-600Z\"></path><g><g class=\"mark-line role-mark layer_0_marks\" role=\"graphics-object\" aria-roledescription=\"line mark container\" pointer-events=\"none\"><path aria-label=\"edges_x: -0.128476147133; edges_y: 0.914780718828; pairs: 4,15\" role=\"graphics-symbol\" aria-roledescription=\"line mark\" d=\"M261.4571558600319,17.043856234459163L321.30084437835757,106.70808531040264\" stroke=\"black\" stroke-width=\"0.5\"></path></g></g><path class=\"foreground\" aria-hidden=\"true\" d=\"\" display=\"none\"></path></g><g transform=\"translate(0,0)\"><path class=\"background\" aria-hidden=\"true\" d=\"M0,0h600v400h-600Z\"></path><g><g class=\"mark-line role-mark layer_0_marks\" role=\"graphics-object\" aria-roledescription=\"line mark container\" pointer-events=\"none\"><path aria-label=\"edges_x: -0.334939293695; edges_y: 0.525142488446; pairs: 5,15\" role=\"graphics-symbol\" aria-roledescription=\"line mark\" d=\"M199.51821189137658,94.97150231082192L321.30084437835757,106.70808531040264\" stroke=\"black\" stroke-width=\"0.5\"></path></g></g><path class=\"foreground\" aria-hidden=\"true\" d=\"\" display=\"none\"></path></g><g transform=\"translate(0,0)\"><path class=\"background\" aria-hidden=\"true\" d=\"M0,0h600v400h-600Z\"></path><g><g class=\"mark-line role-mark layer_0_marks\" role=\"graphics-object\" aria-roledescription=\"line mark container\" pointer-events=\"none\"><path aria-label=\"edges_x: -0.520818816471; edges_y: 0.11672104544; pairs: 6,15\" role=\"graphics-symbol\" aria-roledescription=\"line mark\" d=\"M143.75435505861523,176.6557909119181L321.30084437835757,106.70808531040264\" stroke=\"black\" stroke-width=\"0.5\"></path></g></g><path class=\"foreground\" aria-hidden=\"true\" d=\"\" display=\"none\"></path></g><g transform=\"translate(0,0)\"><path class=\"background\" aria-hidden=\"true\" d=\"M0,0h600v400h-600Z\"></path><g><g class=\"mark-line role-mark layer_0_marks\" role=\"graphics-object\" aria-roledescription=\"line mark container\" pointer-events=\"none\"><path aria-label=\"edges_x: 0.0710028145945; edges_y: 0.466459573448; pairs: 7,15\" role=\"graphics-symbol\" aria-roledescription=\"line mark\" d=\"M321.30084437835757,106.70808531040264L600,174.2019066598404\" stroke=\"black\" stroke-width=\"0.5\"></path></g></g><path class=\"foreground\" aria-hidden=\"true\" d=\"\" display=\"none\"></path></g><g transform=\"translate(0,0)\"><path class=\"background\" aria-hidden=\"true\" d=\"M0,0h600v400h-600Z\"></path><g><g class=\"mark-line role-mark layer_0_marks\" role=\"graphics-object\" aria-roledescription=\"line mark container\" pointer-events=\"none\"><path aria-label=\"edges_x: 0.0710028145945; edges_y: 0.466459573448; pairs: 8,15\" role=\"graphics-symbol\" aria-roledescription=\"line mark\" d=\"M321.30084437835757,106.70808531040264L330.07203737850773,272.008465939673\" stroke=\"black\" stroke-width=\"0.5\"></path></g></g><path class=\"foreground\" aria-hidden=\"true\" d=\"\" display=\"none\"></path></g><g transform=\"translate(0,0)\"><path class=\"background\" aria-hidden=\"true\" d=\"M0,0h600v400h-600Z\"></path><g><g class=\"mark-line role-mark layer_0_marks\" role=\"graphics-object\" aria-roledescription=\"line mark container\" pointer-events=\"none\"><path aria-label=\"edges_x: -0.892815597637; edges_y: 0.397963513625; pairs: 9,15\" role=\"graphics-symbol\" aria-roledescription=\"line mark\" d=\"M32.15532070901417,120.40729727496893L321.30084437835757,106.70808531040264\" stroke=\"black\" stroke-width=\"0.5\"></path></g></g><path class=\"foreground\" aria-hidden=\"true\" d=\"\" display=\"none\"></path></g><g transform=\"translate(0,0)\"><path class=\"background\" aria-hidden=\"true\" d=\"M0,0h600v400h-600Z\"></path><g><g class=\"mark-line role-mark layer_0_marks\" role=\"graphics-object\" aria-roledescription=\"line mark container\" pointer-events=\"none\"><path aria-label=\"edges_x: -0.227793116562; edges_y: -0.71997400539; pairs: 10,15\" role=\"graphics-symbol\" aria-roledescription=\"line mark\" d=\"M231.6620650314319,343.9948010779759L321.30084437835757,106.70808531040264\" stroke=\"black\" stroke-width=\"0.5\"></path></g></g><path class=\"foreground\" aria-hidden=\"true\" d=\"\" display=\"none\"></path></g><g transform=\"translate(0,0)\"><path class=\"background\" aria-hidden=\"true\" d=\"M0,0h600v400h-600Z\"></path><g><g class=\"mark-line role-mark layer_0_marks\" role=\"graphics-object\" aria-roledescription=\"line mark container\" pointer-events=\"none\"><path aria-label=\"edges_x: -0.676549052016; edges_y: -1; pairs: 11,15\" role=\"graphics-symbol\" aria-roledescription=\"line mark\" d=\"M97.03528439516083,400L321.30084437835757,106.70808531040264\" stroke=\"black\" stroke-width=\"0.5\"></path></g></g><path class=\"foreground\" aria-hidden=\"true\" d=\"\" display=\"none\"></path></g><g transform=\"translate(0,0)\"><path class=\"background\" aria-hidden=\"true\" d=\"M0,0h600v400h-600Z\"></path><g><g class=\"mark-line role-mark layer_0_marks\" role=\"graphics-object\" aria-roledescription=\"line mark container\" pointer-events=\"none\"><path aria-label=\"edges_x: 0.0710028145945; edges_y: 0.466459573448; pairs: 12,15\" role=\"graphics-symbol\" aria-roledescription=\"line mark\" d=\"M321.30084437835757,106.70808531040264L399.9163392032951,0\" stroke=\"black\" stroke-width=\"0.5\"></path></g></g><path class=\"foreground\" aria-hidden=\"true\" d=\"\" display=\"none\"></path></g><g transform=\"translate(0,0)\"><path class=\"background\" aria-hidden=\"true\" d=\"M0,0h600v400h-600Z\"></path><g><g class=\"mark-line role-mark layer_0_marks\" role=\"graphics-object\" aria-roledescription=\"line mark container\" pointer-events=\"none\"><path aria-label=\"edges_x: 0.0710028145945; edges_y: 0.466459573448; pairs: 13,15\" role=\"graphics-symbol\" aria-roledescription=\"line mark\" d=\"M321.30084437835757,106.70808531040264L508.87664307709935,76.27978797844301\" stroke=\"black\" stroke-width=\"0.5\"></path></g></g><path class=\"foreground\" aria-hidden=\"true\" d=\"\" display=\"none\"></path></g><g transform=\"translate(0,0)\"><path class=\"background\" aria-hidden=\"true\" d=\"M0,0h600v400h-600Z\"></path><g><g class=\"mark-line role-mark layer_0_marks\" role=\"graphics-object\" aria-roledescription=\"line mark container\" pointer-events=\"none\"><path aria-label=\"edges_x: -0.476006742555; edges_y: -0.372163725076; pairs: 14,15\" role=\"graphics-symbol\" aria-roledescription=\"line mark\" d=\"M157.1979772334611,274.4327450152536L321.30084437835757,106.70808531040264\" stroke=\"black\" stroke-width=\"0.5\"></path></g></g><path class=\"foreground\" aria-hidden=\"true\" d=\"\" display=\"none\"></path></g><g transform=\"translate(0,0)\"><path class=\"background\" aria-hidden=\"true\" d=\"M0,0h600v400h-600Z\"></path><g><g class=\"mark-line role-mark layer_0_marks\" role=\"graphics-object\" aria-roledescription=\"line mark container\" pointer-events=\"none\"><path aria-label=\"edges_x: -0.121649692942; edges_y: 0.0262157889005; pairs: 1,16\" role=\"graphics-symbol\" aria-roledescription=\"line mark\" d=\"M263.50509211742656,194.75684221989255L415.0595990750894,164.8199368750709\" stroke=\"black\" stroke-width=\"0.5\"></path></g></g><path class=\"foreground\" aria-hidden=\"true\" d=\"\" display=\"none\"></path></g><g transform=\"translate(0,0)\"><path class=\"background\" aria-hidden=\"true\" d=\"M0,0h600v400h-600Z\"></path><g><g class=\"mark-line role-mark layer_0_marks\" role=\"graphics-object\" aria-roledescription=\"line mark container\" pointer-events=\"none\"><path aria-label=\"edges_x: -0.691779833161; edges_y: 0.83967718037; pairs: 2,16\" role=\"graphics-symbol\" aria-roledescription=\"line mark\" d=\"M92.46605005168624,32.06456392601762L263.50509211742656,194.75684221989255\" stroke=\"black\" stroke-width=\"0.5\"></path></g></g><path class=\"foreground\" aria-hidden=\"true\" d=\"\" display=\"none\"></path></g><g transform=\"translate(0,0)\"><path class=\"background\" aria-hidden=\"true\" d=\"M0,0h600v400h-600Z\"></path><g><g class=\"mark-line role-mark layer_0_marks\" role=\"graphics-object\" aria-roledescription=\"line mark container\" pointer-events=\"none\"><path aria-label=\"edges_x: -1; edges_y: -0.607951808209; pairs: 3,16\" role=\"graphics-symbol\" aria-roledescription=\"line mark\" d=\"M0,321.590361641879L263.50509211742656,194.75684221989255\" stroke=\"black\" stroke-width=\"0.5\"></path></g></g><path class=\"foreground\" aria-hidden=\"true\" d=\"\" display=\"none\"></path></g><g transform=\"translate(0,0)\"><path class=\"background\" aria-hidden=\"true\" d=\"M0,0h600v400h-600Z\"></path><g><g class=\"mark-line role-mark layer_0_marks\" role=\"graphics-object\" aria-roledescription=\"line mark container\" pointer-events=\"none\"><path aria-label=\"edges_x: -0.128476147133; edges_y: 0.914780718828; pairs: 4,16\" role=\"graphics-symbol\" aria-roledescription=\"line mark\" d=\"M261.4571558600319,17.043856234459163L263.50509211742656,194.75684221989255\" stroke=\"black\" stroke-width=\"0.5\"></path></g></g><path class=\"foreground\" aria-hidden=\"true\" d=\"\" display=\"none\"></path></g><g transform=\"translate(0,0)\"><path class=\"background\" aria-hidden=\"true\" d=\"M0,0h600v400h-600Z\"></path><g><g class=\"mark-line role-mark layer_0_marks\" role=\"graphics-object\" aria-roledescription=\"line mark container\" pointer-events=\"none\"><path aria-label=\"edges_x: -0.334939293695; edges_y: 0.525142488446; pairs: 5,16\" role=\"graphics-symbol\" aria-roledescription=\"line mark\" d=\"M199.51821189137658,94.97150231082192L263.50509211742656,194.75684221989255\" stroke=\"black\" stroke-width=\"0.5\"></path></g></g><path class=\"foreground\" aria-hidden=\"true\" d=\"\" display=\"none\"></path></g><g transform=\"translate(0,0)\"><path class=\"background\" aria-hidden=\"true\" d=\"M0,0h600v400h-600Z\"></path><g><g class=\"mark-line role-mark layer_0_marks\" role=\"graphics-object\" aria-roledescription=\"line mark container\" pointer-events=\"none\"><path aria-label=\"edges_x: -0.520818816471; edges_y: 0.11672104544; pairs: 6,16\" role=\"graphics-symbol\" aria-roledescription=\"line mark\" d=\"M143.75435505861523,176.6557909119181L263.50509211742656,194.75684221989255\" stroke=\"black\" stroke-width=\"0.5\"></path></g></g><path class=\"foreground\" aria-hidden=\"true\" d=\"\" display=\"none\"></path></g><g transform=\"translate(0,0)\"><path class=\"background\" aria-hidden=\"true\" d=\"M0,0h600v400h-600Z\"></path><g><g class=\"mark-line role-mark layer_0_marks\" role=\"graphics-object\" aria-roledescription=\"line mark container\" pointer-events=\"none\"><path aria-label=\"edges_x: -0.121649692942; edges_y: 0.0262157889005; pairs: 7,16\" role=\"graphics-symbol\" aria-roledescription=\"line mark\" d=\"M263.50509211742656,194.75684221989255L600,174.2019066598404\" stroke=\"black\" stroke-width=\"0.5\"></path></g></g><path class=\"foreground\" aria-hidden=\"true\" d=\"\" display=\"none\"></path></g><g transform=\"translate(0,0)\"><path class=\"background\" aria-hidden=\"true\" d=\"M0,0h600v400h-600Z\"></path><g><g class=\"mark-line role-mark layer_0_marks\" role=\"graphics-object\" aria-roledescription=\"line mark container\" pointer-events=\"none\"><path aria-label=\"edges_x: -0.121649692942; edges_y: 0.0262157889005; pairs: 8,16\" role=\"graphics-symbol\" aria-roledescription=\"line mark\" d=\"M263.50509211742656,194.75684221989255L330.07203737850773,272.008465939673\" stroke=\"black\" stroke-width=\"0.5\"></path></g></g><path class=\"foreground\" aria-hidden=\"true\" d=\"\" display=\"none\"></path></g><g transform=\"translate(0,0)\"><path class=\"background\" aria-hidden=\"true\" d=\"M0,0h600v400h-600Z\"></path><g><g class=\"mark-line role-mark layer_0_marks\" role=\"graphics-object\" aria-roledescription=\"line mark container\" pointer-events=\"none\"><path aria-label=\"edges_x: -0.892815597637; edges_y: 0.397963513625; pairs: 9,16\" role=\"graphics-symbol\" aria-roledescription=\"line mark\" d=\"M32.15532070901417,120.40729727496893L263.50509211742656,194.75684221989255\" stroke=\"black\" stroke-width=\"0.5\"></path></g></g><path class=\"foreground\" aria-hidden=\"true\" d=\"\" display=\"none\"></path></g><g transform=\"translate(0,0)\"><path class=\"background\" aria-hidden=\"true\" d=\"M0,0h600v400h-600Z\"></path><g><g class=\"mark-line role-mark layer_0_marks\" role=\"graphics-object\" aria-roledescription=\"line mark container\" pointer-events=\"none\"><path aria-label=\"edges_x: -0.227793116562; edges_y: -0.71997400539; pairs: 10,16\" role=\"graphics-symbol\" aria-roledescription=\"line mark\" d=\"M231.6620650314319,343.9948010779759L263.50509211742656,194.75684221989255\" stroke=\"black\" stroke-width=\"0.5\"></path></g></g><path class=\"foreground\" aria-hidden=\"true\" d=\"\" display=\"none\"></path></g><g transform=\"translate(0,0)\"><path class=\"background\" aria-hidden=\"true\" d=\"M0,0h600v400h-600Z\"></path><g><g class=\"mark-line role-mark layer_0_marks\" role=\"graphics-object\" aria-roledescription=\"line mark container\" pointer-events=\"none\"><path aria-label=\"edges_x: -0.676549052016; edges_y: -1; pairs: 11,16\" role=\"graphics-symbol\" aria-roledescription=\"line mark\" d=\"M97.03528439516083,400L263.50509211742656,194.75684221989255\" stroke=\"black\" stroke-width=\"0.5\"></path></g></g><path class=\"foreground\" aria-hidden=\"true\" d=\"\" display=\"none\"></path></g><g transform=\"translate(0,0)\"><path class=\"background\" aria-hidden=\"true\" d=\"M0,0h600v400h-600Z\"></path><g><g class=\"mark-line role-mark layer_0_marks\" role=\"graphics-object\" aria-roledescription=\"line mark container\" pointer-events=\"none\"><path aria-label=\"edges_x: -0.121649692942; edges_y: 0.0262157889005; pairs: 12,16\" role=\"graphics-symbol\" aria-roledescription=\"line mark\" d=\"M263.50509211742656,194.75684221989255L399.9163392032951,0\" stroke=\"black\" stroke-width=\"0.5\"></path></g></g><path class=\"foreground\" aria-hidden=\"true\" d=\"\" display=\"none\"></path></g><g transform=\"translate(0,0)\"><path class=\"background\" aria-hidden=\"true\" d=\"M0,0h600v400h-600Z\"></path><g><g class=\"mark-line role-mark layer_0_marks\" role=\"graphics-object\" aria-roledescription=\"line mark container\" pointer-events=\"none\"><path aria-label=\"edges_x: -0.121649692942; edges_y: 0.0262157889005; pairs: 13,16\" role=\"graphics-symbol\" aria-roledescription=\"line mark\" d=\"M263.50509211742656,194.75684221989255L508.87664307709935,76.27978797844301\" stroke=\"black\" stroke-width=\"0.5\"></path></g></g><path class=\"foreground\" aria-hidden=\"true\" d=\"\" display=\"none\"></path></g><g transform=\"translate(0,0)\"><path class=\"background\" aria-hidden=\"true\" d=\"M0,0h600v400h-600Z\"></path><g><g class=\"mark-line role-mark layer_0_marks\" role=\"graphics-object\" aria-roledescription=\"line mark container\" pointer-events=\"none\"><path aria-label=\"edges_x: -0.476006742555; edges_y: -0.372163725076; pairs: 14,16\" role=\"graphics-symbol\" aria-roledescription=\"line mark\" d=\"M157.1979772334611,274.4327450152536L263.50509211742656,194.75684221989255\" stroke=\"black\" stroke-width=\"0.5\"></path></g></g><path class=\"foreground\" aria-hidden=\"true\" d=\"\" display=\"none\"></path></g><g transform=\"translate(0,0)\"><path class=\"background\" aria-hidden=\"true\" d=\"M0,0h600v400h-600Z\"></path><g><g class=\"mark-line role-mark layer_0_marks\" role=\"graphics-object\" aria-roledescription=\"line mark container\" pointer-events=\"none\"><path aria-label=\"edges_x: -0.121649692942; edges_y: 0.0262157889005; pairs: 15,16\" role=\"graphics-symbol\" aria-roledescription=\"line mark\" d=\"M263.50509211742656,194.75684221989255L321.30084437835757,106.70808531040264\" stroke=\"black\" stroke-width=\"0.5\"></path></g></g><path class=\"foreground\" aria-hidden=\"true\" d=\"\" display=\"none\"></path></g><g transform=\"translate(0,0)\"><path class=\"background\" aria-hidden=\"true\" d=\"M0,0h600v400h-600Z\"></path><g><g class=\"mark-line role-mark layer_0_marks\" role=\"graphics-object\" aria-roledescription=\"line mark container\" pointer-events=\"none\"><path aria-label=\"edges_x: 0.383531996917; edges_y: 0.175900315625; pairs: 1,17\" role=\"graphics-symbol\" aria-roledescription=\"line mark\" d=\"M415.0595990750894,164.8199368750709L442.58755374781725,346.45023538283704\" stroke=\"black\" stroke-width=\"0.5\"></path></g></g><path class=\"foreground\" aria-hidden=\"true\" d=\"\" display=\"none\"></path></g><g transform=\"translate(0,0)\"><path class=\"background\" aria-hidden=\"true\" d=\"M0,0h600v400h-600Z\"></path><g><g class=\"mark-line role-mark layer_0_marks\" role=\"graphics-object\" aria-roledescription=\"line mark container\" pointer-events=\"none\"><path aria-label=\"edges_x: -1; edges_y: -0.607951808209; pairs: 3,17\" role=\"graphics-symbol\" aria-roledescription=\"line mark\" d=\"M0,321.590361641879L442.58755374781725,346.45023538283704\" stroke=\"black\" stroke-width=\"0.5\"></path></g></g><path class=\"foreground\" aria-hidden=\"true\" d=\"\" display=\"none\"></path></g><g transform=\"translate(0,0)\"><path class=\"background\" aria-hidden=\"true\" d=\"M0,0h600v400h-600Z\"></path><g><g class=\"mark-line role-mark layer_0_marks\" role=\"graphics-object\" aria-roledescription=\"line mark container\" pointer-events=\"none\"><path aria-label=\"edges_x: -0.128476147133; edges_y: 0.914780718828; pairs: 4,17\" role=\"graphics-symbol\" aria-roledescription=\"line mark\" d=\"M261.4571558600319,17.043856234459163L442.58755374781725,346.45023538283704\" stroke=\"black\" stroke-width=\"0.5\"></path></g></g><path class=\"foreground\" aria-hidden=\"true\" d=\"\" display=\"none\"></path></g><g transform=\"translate(0,0)\"><path class=\"background\" aria-hidden=\"true\" d=\"M0,0h600v400h-600Z\"></path><g><g class=\"mark-line role-mark layer_0_marks\" role=\"graphics-object\" aria-roledescription=\"line mark container\" pointer-events=\"none\"><path aria-label=\"edges_x: -0.334939293695; edges_y: 0.525142488446; pairs: 5,17\" role=\"graphics-symbol\" aria-roledescription=\"line mark\" d=\"M199.51821189137658,94.97150231082192L442.58755374781725,346.45023538283704\" stroke=\"black\" stroke-width=\"0.5\"></path></g></g><path class=\"foreground\" aria-hidden=\"true\" d=\"\" display=\"none\"></path></g><g transform=\"translate(0,0)\"><path class=\"background\" aria-hidden=\"true\" d=\"M0,0h600v400h-600Z\"></path><g><g class=\"mark-line role-mark layer_0_marks\" role=\"graphics-object\" aria-roledescription=\"line mark container\" pointer-events=\"none\"><path aria-label=\"edges_x: -0.520818816471; edges_y: 0.11672104544; pairs: 6,17\" role=\"graphics-symbol\" aria-roledescription=\"line mark\" d=\"M143.75435505861523,176.6557909119181L442.58755374781725,346.45023538283704\" stroke=\"black\" stroke-width=\"0.5\"></path></g></g><path class=\"foreground\" aria-hidden=\"true\" d=\"\" display=\"none\"></path></g><g transform=\"translate(0,0)\"><path class=\"background\" aria-hidden=\"true\" d=\"M0,0h600v400h-600Z\"></path><g><g class=\"mark-line role-mark layer_0_marks\" role=\"graphics-object\" aria-roledescription=\"line mark container\" pointer-events=\"none\"><path aria-label=\"edges_x: 0.475291845826; edges_y: -0.732251176914; pairs: 7,17\" role=\"graphics-symbol\" aria-roledescription=\"line mark\" d=\"M442.58755374781725,346.45023538283704L600,174.2019066598404\" stroke=\"black\" stroke-width=\"0.5\"></path></g></g><path class=\"foreground\" aria-hidden=\"true\" d=\"\" display=\"none\"></path></g><g transform=\"translate(0,0)\"><path class=\"background\" aria-hidden=\"true\" d=\"M0,0h600v400h-600Z\"></path><g><g class=\"mark-line role-mark layer_0_marks\" role=\"graphics-object\" aria-roledescription=\"line mark container\" pointer-events=\"none\"><path aria-label=\"edges_x: 0.100240124595; edges_y: -0.360042329698; pairs: 8,17\" role=\"graphics-symbol\" aria-roledescription=\"line mark\" d=\"M330.07203737850773,272.008465939673L442.58755374781725,346.45023538283704\" stroke=\"black\" stroke-width=\"0.5\"></path></g></g><path class=\"foreground\" aria-hidden=\"true\" d=\"\" display=\"none\"></path></g><g transform=\"translate(0,0)\"><path class=\"background\" aria-hidden=\"true\" d=\"M0,0h600v400h-600Z\"></path><g><g class=\"mark-line role-mark layer_0_marks\" role=\"graphics-object\" aria-roledescription=\"line mark container\" pointer-events=\"none\"><path aria-label=\"edges_x: -0.892815597637; edges_y: 0.397963513625; pairs: 9,17\" role=\"graphics-symbol\" aria-roledescription=\"line mark\" d=\"M32.15532070901417,120.40729727496893L442.58755374781725,346.45023538283704\" stroke=\"black\" stroke-width=\"0.5\"></path></g></g><path class=\"foreground\" aria-hidden=\"true\" d=\"\" display=\"none\"></path></g><g transform=\"translate(0,0)\"><path class=\"background\" aria-hidden=\"true\" d=\"M0,0h600v400h-600Z\"></path><g><g class=\"mark-line role-mark layer_0_marks\" role=\"graphics-object\" aria-roledescription=\"line mark container\" pointer-events=\"none\"><path aria-label=\"edges_x: -0.227793116562; edges_y: -0.71997400539; pairs: 10,17\" role=\"graphics-symbol\" aria-roledescription=\"line mark\" d=\"M231.6620650314319,343.9948010779759L442.58755374781725,346.45023538283704\" stroke=\"black\" stroke-width=\"0.5\"></path></g></g><path class=\"foreground\" aria-hidden=\"true\" d=\"\" display=\"none\"></path></g><g transform=\"translate(0,0)\"><path class=\"background\" aria-hidden=\"true\" d=\"M0,0h600v400h-600Z\"></path><g><g class=\"mark-line role-mark layer_0_marks\" role=\"graphics-object\" aria-roledescription=\"line mark container\" pointer-events=\"none\"><path aria-label=\"edges_x: -0.676549052016; edges_y: -1; pairs: 11,17\" role=\"graphics-symbol\" aria-roledescription=\"line mark\" d=\"M97.03528439516083,400L442.58755374781725,346.45023538283704\" stroke=\"black\" stroke-width=\"0.5\"></path></g></g><path class=\"foreground\" aria-hidden=\"true\" d=\"\" display=\"none\"></path></g><g transform=\"translate(0,0)\"><path class=\"background\" aria-hidden=\"true\" d=\"M0,0h600v400h-600Z\"></path><g><g class=\"mark-line role-mark layer_0_marks\" role=\"graphics-object\" aria-roledescription=\"line mark container\" pointer-events=\"none\"><path aria-label=\"edges_x: 0.333054464011; edges_y: 1; pairs: 12,17\" role=\"graphics-symbol\" aria-roledescription=\"line mark\" d=\"M399.9163392032951,0L442.58755374781725,346.45023538283704\" stroke=\"black\" stroke-width=\"0.5\"></path></g></g><path class=\"foreground\" aria-hidden=\"true\" d=\"\" display=\"none\"></path></g><g transform=\"translate(0,0)\"><path class=\"background\" aria-hidden=\"true\" d=\"M0,0h600v400h-600Z\"></path><g><g class=\"mark-line role-mark layer_0_marks\" role=\"graphics-object\" aria-roledescription=\"line mark container\" pointer-events=\"none\"><path aria-label=\"edges_x: 0.475291845826; edges_y: -0.732251176914; pairs: 13,17\" role=\"graphics-symbol\" aria-roledescription=\"line mark\" d=\"M442.58755374781725,346.45023538283704L508.87664307709935,76.27978797844301\" stroke=\"black\" stroke-width=\"0.5\"></path></g></g><path class=\"foreground\" aria-hidden=\"true\" d=\"\" display=\"none\"></path></g><g transform=\"translate(0,0)\"><path class=\"background\" aria-hidden=\"true\" d=\"M0,0h600v400h-600Z\"></path><g><g class=\"mark-line role-mark layer_0_marks\" role=\"graphics-object\" aria-roledescription=\"line mark container\" pointer-events=\"none\"><path aria-label=\"edges_x: -0.476006742555; edges_y: -0.372163725076; pairs: 14,17\" role=\"graphics-symbol\" aria-roledescription=\"line mark\" d=\"M157.1979772334611,274.4327450152536L442.58755374781725,346.45023538283704\" stroke=\"black\" stroke-width=\"0.5\"></path></g></g><path class=\"foreground\" aria-hidden=\"true\" d=\"\" display=\"none\"></path></g><g transform=\"translate(0,0)\"><path class=\"background\" aria-hidden=\"true\" d=\"M0,0h600v400h-600Z\"></path><g><g class=\"mark-line role-mark layer_0_marks\" role=\"graphics-object\" aria-roledescription=\"line mark container\" pointer-events=\"none\"><path aria-label=\"edges_x: 0.0710028145945; edges_y: 0.466459573448; pairs: 15,17\" role=\"graphics-symbol\" aria-roledescription=\"line mark\" d=\"M321.30084437835757,106.70808531040264L442.58755374781725,346.45023538283704\" stroke=\"black\" stroke-width=\"0.5\"></path></g></g><path class=\"foreground\" aria-hidden=\"true\" d=\"\" display=\"none\"></path></g><g transform=\"translate(0,0)\"><path class=\"background\" aria-hidden=\"true\" d=\"M0,0h600v400h-600Z\"></path><g><g class=\"mark-line role-mark layer_0_marks\" role=\"graphics-object\" aria-roledescription=\"line mark container\" pointer-events=\"none\"><path aria-label=\"edges_x: -0.121649692942; edges_y: 0.0262157889005; pairs: 16,17\" role=\"graphics-symbol\" aria-roledescription=\"line mark\" d=\"M263.50509211742656,194.75684221989255L442.58755374781725,346.45023538283704\" stroke=\"black\" stroke-width=\"0.5\"></path></g></g><path class=\"foreground\" aria-hidden=\"true\" d=\"\" display=\"none\"></path></g><g transform=\"translate(0,0)\"><path class=\"background\" aria-hidden=\"true\" d=\"M0,0h600v400h-600Z\"></path><g><g class=\"mark-line role-mark layer_0_marks\" role=\"graphics-object\" aria-roledescription=\"line mark container\" pointer-events=\"none\"><path aria-label=\"edges_x: 0.0946039161482; edges_y: -0.85046553015; pairs: 1,18\" role=\"graphics-symbol\" aria-roledescription=\"line mark\" d=\"M328.3811748444544,370.0931060300292L415.0595990750894,164.8199368750709\" stroke=\"black\" stroke-width=\"0.5\"></path></g></g><path class=\"foreground\" aria-hidden=\"true\" d=\"\" display=\"none\"></path></g><g transform=\"translate(0,0)\"><path class=\"background\" aria-hidden=\"true\" d=\"M0,0h600v400h-600Z\"></path><g><g class=\"mark-line role-mark layer_0_marks\" role=\"graphics-object\" aria-roledescription=\"line mark container\" pointer-events=\"none\"><path aria-label=\"edges_x: -0.691779833161; edges_y: 0.83967718037; pairs: 2,18\" role=\"graphics-symbol\" aria-roledescription=\"line mark\" d=\"M92.46605005168624,32.06456392601762L328.3811748444544,370.0931060300292\" stroke=\"black\" stroke-width=\"0.5\"></path></g></g><path class=\"foreground\" aria-hidden=\"true\" d=\"\" display=\"none\"></path></g><g transform=\"translate(0,0)\"><path class=\"background\" aria-hidden=\"true\" d=\"M0,0h600v400h-600Z\"></path><g><g class=\"mark-line role-mark layer_0_marks\" role=\"graphics-object\" aria-roledescription=\"line mark container\" pointer-events=\"none\"><path aria-label=\"edges_x: -1; edges_y: -0.607951808209; pairs: 3,18\" role=\"graphics-symbol\" aria-roledescription=\"line mark\" d=\"M0,321.590361641879L328.3811748444544,370.0931060300292\" stroke=\"black\" stroke-width=\"0.5\"></path></g></g><path class=\"foreground\" aria-hidden=\"true\" d=\"\" display=\"none\"></path></g><g transform=\"translate(0,0)\"><path class=\"background\" aria-hidden=\"true\" d=\"M0,0h600v400h-600Z\"></path><g><g class=\"mark-line role-mark layer_0_marks\" role=\"graphics-object\" aria-roledescription=\"line mark container\" pointer-events=\"none\"><path aria-label=\"edges_x: -0.128476147133; edges_y: 0.914780718828; pairs: 4,18\" role=\"graphics-symbol\" aria-roledescription=\"line mark\" d=\"M261.4571558600319,17.043856234459163L328.3811748444544,370.0931060300292\" stroke=\"black\" stroke-width=\"0.5\"></path></g></g><path class=\"foreground\" aria-hidden=\"true\" d=\"\" display=\"none\"></path></g><g transform=\"translate(0,0)\"><path class=\"background\" aria-hidden=\"true\" d=\"M0,0h600v400h-600Z\"></path><g><g class=\"mark-line role-mark layer_0_marks\" role=\"graphics-object\" aria-roledescription=\"line mark container\" pointer-events=\"none\"><path aria-label=\"edges_x: -0.334939293695; edges_y: 0.525142488446; pairs: 5,18\" role=\"graphics-symbol\" aria-roledescription=\"line mark\" d=\"M199.51821189137658,94.97150231082192L328.3811748444544,370.0931060300292\" stroke=\"black\" stroke-width=\"0.5\"></path></g></g><path class=\"foreground\" aria-hidden=\"true\" d=\"\" display=\"none\"></path></g><g transform=\"translate(0,0)\"><path class=\"background\" aria-hidden=\"true\" d=\"M0,0h600v400h-600Z\"></path><g><g class=\"mark-line role-mark layer_0_marks\" role=\"graphics-object\" aria-roledescription=\"line mark container\" pointer-events=\"none\"><path aria-label=\"edges_x: -0.520818816471; edges_y: 0.11672104544; pairs: 6,18\" role=\"graphics-symbol\" aria-roledescription=\"line mark\" d=\"M143.75435505861523,176.6557909119181L328.3811748444544,370.0931060300292\" stroke=\"black\" stroke-width=\"0.5\"></path></g></g><path class=\"foreground\" aria-hidden=\"true\" d=\"\" display=\"none\"></path></g><g transform=\"translate(0,0)\"><path class=\"background\" aria-hidden=\"true\" d=\"M0,0h600v400h-600Z\"></path><g><g class=\"mark-line role-mark layer_0_marks\" role=\"graphics-object\" aria-roledescription=\"line mark container\" pointer-events=\"none\"><path aria-label=\"edges_x: 0.0946039161482; edges_y: -0.85046553015; pairs: 7,18\" role=\"graphics-symbol\" aria-roledescription=\"line mark\" d=\"M328.3811748444544,370.0931060300292L600,174.2019066598404\" stroke=\"black\" stroke-width=\"0.5\"></path></g></g><path class=\"foreground\" aria-hidden=\"true\" d=\"\" display=\"none\"></path></g><g transform=\"translate(0,0)\"><path class=\"background\" aria-hidden=\"true\" d=\"M0,0h600v400h-600Z\"></path><g><g class=\"mark-line role-mark layer_0_marks\" role=\"graphics-object\" aria-roledescription=\"line mark container\" pointer-events=\"none\"><path aria-label=\"edges_x: 0.0946039161482; edges_y: -0.85046553015; pairs: 8,18\" role=\"graphics-symbol\" aria-roledescription=\"line mark\" d=\"M328.3811748444544,370.0931060300292L330.07203737850773,272.008465939673\" stroke=\"black\" stroke-width=\"0.5\"></path></g></g><path class=\"foreground\" aria-hidden=\"true\" d=\"\" display=\"none\"></path></g><g transform=\"translate(0,0)\"><path class=\"background\" aria-hidden=\"true\" d=\"M0,0h600v400h-600Z\"></path><g><g class=\"mark-line role-mark layer_0_marks\" role=\"graphics-object\" aria-roledescription=\"line mark container\" pointer-events=\"none\"><path aria-label=\"edges_x: -0.892815597637; edges_y: 0.397963513625; pairs: 9,18\" role=\"graphics-symbol\" aria-roledescription=\"line mark\" d=\"M32.15532070901417,120.40729727496893L328.3811748444544,370.0931060300292\" stroke=\"black\" stroke-width=\"0.5\"></path></g></g><path class=\"foreground\" aria-hidden=\"true\" d=\"\" display=\"none\"></path></g><g transform=\"translate(0,0)\"><path class=\"background\" aria-hidden=\"true\" d=\"M0,0h600v400h-600Z\"></path><g><g class=\"mark-line role-mark layer_0_marks\" role=\"graphics-object\" aria-roledescription=\"line mark container\" pointer-events=\"none\"><path aria-label=\"edges_x: -0.227793116562; edges_y: -0.71997400539; pairs: 10,18\" role=\"graphics-symbol\" aria-roledescription=\"line mark\" d=\"M231.6620650314319,343.9948010779759L328.3811748444544,370.0931060300292\" stroke=\"black\" stroke-width=\"0.5\"></path></g></g><path class=\"foreground\" aria-hidden=\"true\" d=\"\" display=\"none\"></path></g><g transform=\"translate(0,0)\"><path class=\"background\" aria-hidden=\"true\" d=\"M0,0h600v400h-600Z\"></path><g><g class=\"mark-line role-mark layer_0_marks\" role=\"graphics-object\" aria-roledescription=\"line mark container\" pointer-events=\"none\"><path aria-label=\"edges_x: -0.676549052016; edges_y: -1; pairs: 11,18\" role=\"graphics-symbol\" aria-roledescription=\"line mark\" d=\"M97.03528439516083,400L328.3811748444544,370.0931060300292\" stroke=\"black\" stroke-width=\"0.5\"></path></g></g><path class=\"foreground\" aria-hidden=\"true\" d=\"\" display=\"none\"></path></g><g transform=\"translate(0,0)\"><path class=\"background\" aria-hidden=\"true\" d=\"M0,0h600v400h-600Z\"></path><g><g class=\"mark-line role-mark layer_0_marks\" role=\"graphics-object\" aria-roledescription=\"line mark container\" pointer-events=\"none\"><path aria-label=\"edges_x: 0.0946039161482; edges_y: -0.85046553015; pairs: 12,18\" role=\"graphics-symbol\" aria-roledescription=\"line mark\" d=\"M328.3811748444544,370.0931060300292L399.9163392032951,0\" stroke=\"black\" stroke-width=\"0.5\"></path></g></g><path class=\"foreground\" aria-hidden=\"true\" d=\"\" display=\"none\"></path></g><g transform=\"translate(0,0)\"><path class=\"background\" aria-hidden=\"true\" d=\"M0,0h600v400h-600Z\"></path><g><g class=\"mark-line role-mark layer_0_marks\" role=\"graphics-object\" aria-roledescription=\"line mark container\" pointer-events=\"none\"><path aria-label=\"edges_x: 0.0946039161482; edges_y: -0.85046553015; pairs: 13,18\" role=\"graphics-symbol\" aria-roledescription=\"line mark\" d=\"M328.3811748444544,370.0931060300292L508.87664307709935,76.27978797844301\" stroke=\"black\" stroke-width=\"0.5\"></path></g></g><path class=\"foreground\" aria-hidden=\"true\" d=\"\" display=\"none\"></path></g><g transform=\"translate(0,0)\"><path class=\"background\" aria-hidden=\"true\" d=\"M0,0h600v400h-600Z\"></path><g><g class=\"mark-line role-mark layer_0_marks\" role=\"graphics-object\" aria-roledescription=\"line mark container\" pointer-events=\"none\"><path aria-label=\"edges_x: -0.476006742555; edges_y: -0.372163725076; pairs: 14,18\" role=\"graphics-symbol\" aria-roledescription=\"line mark\" d=\"M157.1979772334611,274.4327450152536L328.3811748444544,370.0931060300292\" stroke=\"black\" stroke-width=\"0.5\"></path></g></g><path class=\"foreground\" aria-hidden=\"true\" d=\"\" display=\"none\"></path></g><g transform=\"translate(0,0)\"><path class=\"background\" aria-hidden=\"true\" d=\"M0,0h600v400h-600Z\"></path><g><g class=\"mark-line role-mark layer_0_marks\" role=\"graphics-object\" aria-roledescription=\"line mark container\" pointer-events=\"none\"><path aria-label=\"edges_x: 0.0710028145945; edges_y: 0.466459573448; pairs: 15,18\" role=\"graphics-symbol\" aria-roledescription=\"line mark\" d=\"M321.30084437835757,106.70808531040264L328.3811748444544,370.0931060300292\" stroke=\"black\" stroke-width=\"0.5\"></path></g></g><path class=\"foreground\" aria-hidden=\"true\" d=\"\" display=\"none\"></path></g><g transform=\"translate(0,0)\"><path class=\"background\" aria-hidden=\"true\" d=\"M0,0h600v400h-600Z\"></path><g><g class=\"mark-line role-mark layer_0_marks\" role=\"graphics-object\" aria-roledescription=\"line mark container\" pointer-events=\"none\"><path aria-label=\"edges_x: -0.121649692942; edges_y: 0.0262157889005; pairs: 16,18\" role=\"graphics-symbol\" aria-roledescription=\"line mark\" d=\"M263.50509211742656,194.75684221989255L328.3811748444544,370.0931060300292\" stroke=\"black\" stroke-width=\"0.5\"></path></g></g><path class=\"foreground\" aria-hidden=\"true\" d=\"\" display=\"none\"></path></g><g transform=\"translate(0,0)\"><path class=\"background\" aria-hidden=\"true\" d=\"M0,0h600v400h-600Z\"></path><g><g class=\"mark-line role-mark layer_0_marks\" role=\"graphics-object\" aria-roledescription=\"line mark container\" pointer-events=\"none\"><path aria-label=\"edges_x: 0.0946039161482; edges_y: -0.85046553015; pairs: 17,18\" role=\"graphics-symbol\" aria-roledescription=\"line mark\" d=\"M328.3811748444544,370.0931060300292L442.58755374781725,346.45023538283704\" stroke=\"black\" stroke-width=\"0.5\"></path></g></g><path class=\"foreground\" aria-hidden=\"true\" d=\"\" display=\"none\"></path></g><g transform=\"translate(0,0)\"><path class=\"background\" aria-hidden=\"true\" d=\"M0,0h600v400h-600Z\"></path><g><g class=\"mark-line role-mark layer_0_marks\" role=\"graphics-object\" aria-roledescription=\"line mark container\" pointer-events=\"none\"><path aria-label=\"edges_x: -0.971351819107; edges_y: -0.0892525753675; pairs: 1,19\" role=\"graphics-symbol\" aria-roledescription=\"line mark\" d=\"M8.594454267936646,217.8505150734968L415.0595990750894,164.8199368750709\" stroke=\"black\" stroke-width=\"0.5\"></path></g></g><path class=\"foreground\" aria-hidden=\"true\" d=\"\" display=\"none\"></path></g><g transform=\"translate(0,0)\"><path class=\"background\" aria-hidden=\"true\" d=\"M0,0h600v400h-600Z\"></path><g><g class=\"mark-line role-mark layer_0_marks\" role=\"graphics-object\" aria-roledescription=\"line mark container\" pointer-events=\"none\"><path aria-label=\"edges_x: -0.971351819107; edges_y: -0.0892525753675; pairs: 2,19\" role=\"graphics-symbol\" aria-roledescription=\"line mark\" d=\"M8.594454267936646,217.8505150734968L92.46605005168624,32.06456392601762\" stroke=\"black\" stroke-width=\"0.5\"></path></g></g><path class=\"foreground\" aria-hidden=\"true\" d=\"\" display=\"none\"></path></g><g transform=\"translate(0,0)\"><path class=\"background\" aria-hidden=\"true\" d=\"M0,0h600v400h-600Z\"></path><g><g class=\"mark-line role-mark layer_0_marks\" role=\"graphics-object\" aria-roledescription=\"line mark container\" pointer-events=\"none\"><path aria-label=\"edges_x: -1; edges_y: -0.607951808209; pairs: 3,19\" role=\"graphics-symbol\" aria-roledescription=\"line mark\" d=\"M0,321.590361641879L8.594454267936646,217.8505150734968\" stroke=\"black\" stroke-width=\"0.5\"></path></g></g><path class=\"foreground\" aria-hidden=\"true\" d=\"\" display=\"none\"></path></g><g transform=\"translate(0,0)\"><path class=\"background\" aria-hidden=\"true\" d=\"M0,0h600v400h-600Z\"></path><g><g class=\"mark-line role-mark layer_0_marks\" role=\"graphics-object\" aria-roledescription=\"line mark container\" pointer-events=\"none\"><path aria-label=\"edges_x: -0.971351819107; edges_y: -0.0892525753675; pairs: 5,19\" role=\"graphics-symbol\" aria-roledescription=\"line mark\" d=\"M8.594454267936646,217.8505150734968L199.51821189137658,94.97150231082192\" stroke=\"black\" stroke-width=\"0.5\"></path></g></g><path class=\"foreground\" aria-hidden=\"true\" d=\"\" display=\"none\"></path></g><g transform=\"translate(0,0)\"><path class=\"background\" aria-hidden=\"true\" d=\"M0,0h600v400h-600Z\"></path><g><g class=\"mark-line role-mark layer_0_marks\" role=\"graphics-object\" aria-roledescription=\"line mark container\" pointer-events=\"none\"><path aria-label=\"edges_x: -0.971351819107; edges_y: -0.0892525753675; pairs: 6,19\" role=\"graphics-symbol\" aria-roledescription=\"line mark\" d=\"M8.594454267936646,217.8505150734968L143.75435505861523,176.6557909119181\" stroke=\"black\" stroke-width=\"0.5\"></path></g></g><path class=\"foreground\" aria-hidden=\"true\" d=\"\" display=\"none\"></path></g><g transform=\"translate(0,0)\"><path class=\"background\" aria-hidden=\"true\" d=\"M0,0h600v400h-600Z\"></path><g><g class=\"mark-line role-mark layer_0_marks\" role=\"graphics-object\" aria-roledescription=\"line mark container\" pointer-events=\"none\"><path aria-label=\"edges_x: -0.971351819107; edges_y: -0.0892525753675; pairs: 8,19\" role=\"graphics-symbol\" aria-roledescription=\"line mark\" d=\"M8.594454267936646,217.8505150734968L330.07203737850773,272.008465939673\" stroke=\"black\" stroke-width=\"0.5\"></path></g></g><path class=\"foreground\" aria-hidden=\"true\" d=\"\" display=\"none\"></path></g><g transform=\"translate(0,0)\"><path class=\"background\" aria-hidden=\"true\" d=\"M0,0h600v400h-600Z\"></path><g><g class=\"mark-line role-mark layer_0_marks\" role=\"graphics-object\" aria-roledescription=\"line mark container\" pointer-events=\"none\"><path aria-label=\"edges_x: -0.971351819107; edges_y: -0.0892525753675; pairs: 9,19\" role=\"graphics-symbol\" aria-roledescription=\"line mark\" d=\"M8.594454267936646,217.8505150734968L32.15532070901417,120.40729727496893\" stroke=\"black\" stroke-width=\"0.5\"></path></g></g><path class=\"foreground\" aria-hidden=\"true\" d=\"\" display=\"none\"></path></g><g transform=\"translate(0,0)\"><path class=\"background\" aria-hidden=\"true\" d=\"M0,0h600v400h-600Z\"></path><g><g class=\"mark-line role-mark layer_0_marks\" role=\"graphics-object\" aria-roledescription=\"line mark container\" pointer-events=\"none\"><path aria-label=\"edges_x: -0.971351819107; edges_y: -0.0892525753675; pairs: 10,19\" role=\"graphics-symbol\" aria-roledescription=\"line mark\" d=\"M8.594454267936646,217.8505150734968L231.6620650314319,343.9948010779759\" stroke=\"black\" stroke-width=\"0.5\"></path></g></g><path class=\"foreground\" aria-hidden=\"true\" d=\"\" display=\"none\"></path></g><g transform=\"translate(0,0)\"><path class=\"background\" aria-hidden=\"true\" d=\"M0,0h600v400h-600Z\"></path><g><g class=\"mark-line role-mark layer_0_marks\" role=\"graphics-object\" aria-roledescription=\"line mark container\" pointer-events=\"none\"><path aria-label=\"edges_x: -0.971351819107; edges_y: -0.0892525753675; pairs: 11,19\" role=\"graphics-symbol\" aria-roledescription=\"line mark\" d=\"M8.594454267936646,217.8505150734968L97.03528439516083,400\" stroke=\"black\" stroke-width=\"0.5\"></path></g></g><path class=\"foreground\" aria-hidden=\"true\" d=\"\" display=\"none\"></path></g><g transform=\"translate(0,0)\"><path class=\"background\" aria-hidden=\"true\" d=\"M0,0h600v400h-600Z\"></path><g><g class=\"mark-line role-mark layer_0_marks\" role=\"graphics-object\" aria-roledescription=\"line mark container\" pointer-events=\"none\"><path aria-label=\"edges_x: -0.971351819107; edges_y: -0.0892525753675; pairs: 12,19\" role=\"graphics-symbol\" aria-roledescription=\"line mark\" d=\"M8.594454267936646,217.8505150734968L399.9163392032951,0\" stroke=\"black\" stroke-width=\"0.5\"></path></g></g><path class=\"foreground\" aria-hidden=\"true\" d=\"\" display=\"none\"></path></g><g transform=\"translate(0,0)\"><path class=\"background\" aria-hidden=\"true\" d=\"M0,0h600v400h-600Z\"></path><g><g class=\"mark-line role-mark layer_0_marks\" role=\"graphics-object\" aria-roledescription=\"line mark container\" pointer-events=\"none\"><path aria-label=\"edges_x: -0.971351819107; edges_y: -0.0892525753675; pairs: 13,19\" role=\"graphics-symbol\" aria-roledescription=\"line mark\" d=\"M8.594454267936646,217.8505150734968L508.87664307709935,76.27978797844301\" stroke=\"black\" stroke-width=\"0.5\"></path></g></g><path class=\"foreground\" aria-hidden=\"true\" d=\"\" display=\"none\"></path></g><g transform=\"translate(0,0)\"><path class=\"background\" aria-hidden=\"true\" d=\"M0,0h600v400h-600Z\"></path><g><g class=\"mark-line role-mark layer_0_marks\" role=\"graphics-object\" aria-roledescription=\"line mark container\" pointer-events=\"none\"><path aria-label=\"edges_x: -0.971351819107; edges_y: -0.0892525753675; pairs: 14,19\" role=\"graphics-symbol\" aria-roledescription=\"line mark\" d=\"M8.594454267936646,217.8505150734968L157.1979772334611,274.4327450152536\" stroke=\"black\" stroke-width=\"0.5\"></path></g></g><path class=\"foreground\" aria-hidden=\"true\" d=\"\" display=\"none\"></path></g><g transform=\"translate(0,0)\"><path class=\"background\" aria-hidden=\"true\" d=\"M0,0h600v400h-600Z\"></path><g><g class=\"mark-line role-mark layer_0_marks\" role=\"graphics-object\" aria-roledescription=\"line mark container\" pointer-events=\"none\"><path aria-label=\"edges_x: -0.971351819107; edges_y: -0.0892525753675; pairs: 15,19\" role=\"graphics-symbol\" aria-roledescription=\"line mark\" d=\"M8.594454267936646,217.8505150734968L321.30084437835757,106.70808531040264\" stroke=\"black\" stroke-width=\"0.5\"></path></g></g><path class=\"foreground\" aria-hidden=\"true\" d=\"\" display=\"none\"></path></g><g transform=\"translate(0,0)\"><path class=\"background\" aria-hidden=\"true\" d=\"M0,0h600v400h-600Z\"></path><g><g class=\"mark-line role-mark layer_0_marks\" role=\"graphics-object\" aria-roledescription=\"line mark container\" pointer-events=\"none\"><path aria-label=\"edges_x: -0.971351819107; edges_y: -0.0892525753675; pairs: 16,19\" role=\"graphics-symbol\" aria-roledescription=\"line mark\" d=\"M8.594454267936646,217.8505150734968L263.50509211742656,194.75684221989255\" stroke=\"black\" stroke-width=\"0.5\"></path></g></g><path class=\"foreground\" aria-hidden=\"true\" d=\"\" display=\"none\"></path></g><g transform=\"translate(0,0)\"><path class=\"background\" aria-hidden=\"true\" d=\"M0,0h600v400h-600Z\"></path><g><g class=\"mark-line role-mark layer_0_marks\" role=\"graphics-object\" aria-roledescription=\"line mark container\" pointer-events=\"none\"><path aria-label=\"edges_x: -0.971351819107; edges_y: -0.0892525753675; pairs: 17,19\" role=\"graphics-symbol\" aria-roledescription=\"line mark\" d=\"M8.594454267936646,217.8505150734968L442.58755374781725,346.45023538283704\" stroke=\"black\" stroke-width=\"0.5\"></path></g></g><path class=\"foreground\" aria-hidden=\"true\" d=\"\" display=\"none\"></path></g><g transform=\"translate(0,0)\"><path class=\"background\" aria-hidden=\"true\" d=\"M0,0h600v400h-600Z\"></path><g><g class=\"mark-line role-mark layer_0_marks\" role=\"graphics-object\" aria-roledescription=\"line mark container\" pointer-events=\"none\"><path aria-label=\"edges_x: -0.971351819107; edges_y: -0.0892525753675; pairs: 18,19\" role=\"graphics-symbol\" aria-roledescription=\"line mark\" d=\"M8.594454267936646,217.8505150734968L328.3811748444544,370.0931060300292\" stroke=\"black\" stroke-width=\"0.5\"></path></g></g><path class=\"foreground\" aria-hidden=\"true\" d=\"\" display=\"none\"></path></g><g transform=\"translate(0,0)\"><path class=\"background\" aria-hidden=\"true\" d=\"M0,0h600v400h-600Z\"></path><g><g class=\"mark-line role-mark layer_0_marks\" role=\"graphics-object\" aria-roledescription=\"line mark container\" pointer-events=\"none\"><path aria-label=\"edges_x: 0.383531996917; edges_y: 0.175900315625; pairs: 1,20\" role=\"graphics-symbol\" aria-roledescription=\"line mark\" d=\"M415.0595990750894,164.8199368750709L448.57450110363504,250.68968312064843\" stroke=\"black\" stroke-width=\"0.5\"></path></g></g><path class=\"foreground\" aria-hidden=\"true\" d=\"\" display=\"none\"></path></g><g transform=\"translate(0,0)\"><path class=\"background\" aria-hidden=\"true\" d=\"M0,0h600v400h-600Z\"></path><g><g class=\"mark-line role-mark layer_0_marks\" role=\"graphics-object\" aria-roledescription=\"line mark container\" pointer-events=\"none\"><path aria-label=\"edges_x: -0.691779833161; edges_y: 0.83967718037; pairs: 2,20\" role=\"graphics-symbol\" aria-roledescription=\"line mark\" d=\"M92.46605005168624,32.06456392601762L448.57450110363504,250.68968312064843\" stroke=\"black\" stroke-width=\"0.5\"></path></g></g><path class=\"foreground\" aria-hidden=\"true\" d=\"\" display=\"none\"></path></g><g transform=\"translate(0,0)\"><path class=\"background\" aria-hidden=\"true\" d=\"M0,0h600v400h-600Z\"></path><g><g class=\"mark-line role-mark layer_0_marks\" role=\"graphics-object\" aria-roledescription=\"line mark container\" pointer-events=\"none\"><path aria-label=\"edges_x: -1; edges_y: -0.607951808209; pairs: 3,20\" role=\"graphics-symbol\" aria-roledescription=\"line mark\" d=\"M0,321.590361641879L448.57450110363504,250.68968312064843\" stroke=\"black\" stroke-width=\"0.5\"></path></g></g><path class=\"foreground\" aria-hidden=\"true\" d=\"\" display=\"none\"></path></g><g transform=\"translate(0,0)\"><path class=\"background\" aria-hidden=\"true\" d=\"M0,0h600v400h-600Z\"></path><g><g class=\"mark-line role-mark layer_0_marks\" role=\"graphics-object\" aria-roledescription=\"line mark container\" pointer-events=\"none\"><path aria-label=\"edges_x: -0.128476147133; edges_y: 0.914780718828; pairs: 4,20\" role=\"graphics-symbol\" aria-roledescription=\"line mark\" d=\"M261.4571558600319,17.043856234459163L448.57450110363504,250.68968312064843\" stroke=\"black\" stroke-width=\"0.5\"></path></g></g><path class=\"foreground\" aria-hidden=\"true\" d=\"\" display=\"none\"></path></g><g transform=\"translate(0,0)\"><path class=\"background\" aria-hidden=\"true\" d=\"M0,0h600v400h-600Z\"></path><g><g class=\"mark-line role-mark layer_0_marks\" role=\"graphics-object\" aria-roledescription=\"line mark container\" pointer-events=\"none\"><path aria-label=\"edges_x: -0.334939293695; edges_y: 0.525142488446; pairs: 5,20\" role=\"graphics-symbol\" aria-roledescription=\"line mark\" d=\"M199.51821189137658,94.97150231082192L448.57450110363504,250.68968312064843\" stroke=\"black\" stroke-width=\"0.5\"></path></g></g><path class=\"foreground\" aria-hidden=\"true\" d=\"\" display=\"none\"></path></g><g transform=\"translate(0,0)\"><path class=\"background\" aria-hidden=\"true\" d=\"M0,0h600v400h-600Z\"></path><g><g class=\"mark-line role-mark layer_0_marks\" role=\"graphics-object\" aria-roledescription=\"line mark container\" pointer-events=\"none\"><path aria-label=\"edges_x: -0.520818816471; edges_y: 0.11672104544; pairs: 6,20\" role=\"graphics-symbol\" aria-roledescription=\"line mark\" d=\"M143.75435505861523,176.6557909119181L448.57450110363504,250.68968312064843\" stroke=\"black\" stroke-width=\"0.5\"></path></g></g><path class=\"foreground\" aria-hidden=\"true\" d=\"\" display=\"none\"></path></g><g transform=\"translate(0,0)\"><path class=\"background\" aria-hidden=\"true\" d=\"M0,0h600v400h-600Z\"></path><g><g class=\"mark-line role-mark layer_0_marks\" role=\"graphics-object\" aria-roledescription=\"line mark container\" pointer-events=\"none\"><path aria-label=\"edges_x: 0.495248337012; edges_y: -0.253448415603; pairs: 7,20\" role=\"graphics-symbol\" aria-roledescription=\"line mark\" d=\"M448.57450110363504,250.68968312064843L600,174.2019066598404\" stroke=\"black\" stroke-width=\"0.5\"></path></g></g><path class=\"foreground\" aria-hidden=\"true\" d=\"\" display=\"none\"></path></g><g transform=\"translate(0,0)\"><path class=\"background\" aria-hidden=\"true\" d=\"M0,0h600v400h-600Z\"></path><g><g class=\"mark-line role-mark layer_0_marks\" role=\"graphics-object\" aria-roledescription=\"line mark container\" pointer-events=\"none\"><path aria-label=\"edges_x: 0.100240124595; edges_y: -0.360042329698; pairs: 8,20\" role=\"graphics-symbol\" aria-roledescription=\"line mark\" d=\"M330.07203737850773,272.008465939673L448.57450110363504,250.68968312064843\" stroke=\"black\" stroke-width=\"0.5\"></path></g></g><path class=\"foreground\" aria-hidden=\"true\" d=\"\" display=\"none\"></path></g><g transform=\"translate(0,0)\"><path class=\"background\" aria-hidden=\"true\" d=\"M0,0h600v400h-600Z\"></path><g><g class=\"mark-line role-mark layer_0_marks\" role=\"graphics-object\" aria-roledescription=\"line mark container\" pointer-events=\"none\"><path aria-label=\"edges_x: -0.892815597637; edges_y: 0.397963513625; pairs: 9,20\" role=\"graphics-symbol\" aria-roledescription=\"line mark\" d=\"M32.15532070901417,120.40729727496893L448.57450110363504,250.68968312064843\" stroke=\"black\" stroke-width=\"0.5\"></path></g></g><path class=\"foreground\" aria-hidden=\"true\" d=\"\" display=\"none\"></path></g><g transform=\"translate(0,0)\"><path class=\"background\" aria-hidden=\"true\" d=\"M0,0h600v400h-600Z\"></path><g><g class=\"mark-line role-mark layer_0_marks\" role=\"graphics-object\" aria-roledescription=\"line mark container\" pointer-events=\"none\"><path aria-label=\"edges_x: -0.227793116562; edges_y: -0.71997400539; pairs: 10,20\" role=\"graphics-symbol\" aria-roledescription=\"line mark\" d=\"M231.6620650314319,343.9948010779759L448.57450110363504,250.68968312064843\" stroke=\"black\" stroke-width=\"0.5\"></path></g></g><path class=\"foreground\" aria-hidden=\"true\" d=\"\" display=\"none\"></path></g><g transform=\"translate(0,0)\"><path class=\"background\" aria-hidden=\"true\" d=\"M0,0h600v400h-600Z\"></path><g><g class=\"mark-line role-mark layer_0_marks\" role=\"graphics-object\" aria-roledescription=\"line mark container\" pointer-events=\"none\"><path aria-label=\"edges_x: -0.676549052016; edges_y: -1; pairs: 11,20\" role=\"graphics-symbol\" aria-roledescription=\"line mark\" d=\"M97.03528439516083,400L448.57450110363504,250.68968312064843\" stroke=\"black\" stroke-width=\"0.5\"></path></g></g><path class=\"foreground\" aria-hidden=\"true\" d=\"\" display=\"none\"></path></g><g transform=\"translate(0,0)\"><path class=\"background\" aria-hidden=\"true\" d=\"M0,0h600v400h-600Z\"></path><g><g class=\"mark-line role-mark layer_0_marks\" role=\"graphics-object\" aria-roledescription=\"line mark container\" pointer-events=\"none\"><path aria-label=\"edges_x: 0.333054464011; edges_y: 1; pairs: 12,20\" role=\"graphics-symbol\" aria-roledescription=\"line mark\" d=\"M399.9163392032951,0L448.57450110363504,250.68968312064843\" stroke=\"black\" stroke-width=\"0.5\"></path></g></g><path class=\"foreground\" aria-hidden=\"true\" d=\"\" display=\"none\"></path></g><g transform=\"translate(0,0)\"><path class=\"background\" aria-hidden=\"true\" d=\"M0,0h600v400h-600Z\"></path><g><g class=\"mark-line role-mark layer_0_marks\" role=\"graphics-object\" aria-roledescription=\"line mark container\" pointer-events=\"none\"><path aria-label=\"edges_x: 0.495248337012; edges_y: -0.253448415603; pairs: 13,20\" role=\"graphics-symbol\" aria-roledescription=\"line mark\" d=\"M448.57450110363504,250.68968312064843L508.87664307709935,76.27978797844301\" stroke=\"black\" stroke-width=\"0.5\"></path></g></g><path class=\"foreground\" aria-hidden=\"true\" d=\"\" display=\"none\"></path></g><g transform=\"translate(0,0)\"><path class=\"background\" aria-hidden=\"true\" d=\"M0,0h600v400h-600Z\"></path><g><g class=\"mark-line role-mark layer_0_marks\" role=\"graphics-object\" aria-roledescription=\"line mark container\" pointer-events=\"none\"><path aria-label=\"edges_x: -0.476006742555; edges_y: -0.372163725076; pairs: 14,20\" role=\"graphics-symbol\" aria-roledescription=\"line mark\" d=\"M157.1979772334611,274.4327450152536L448.57450110363504,250.68968312064843\" stroke=\"black\" stroke-width=\"0.5\"></path></g></g><path class=\"foreground\" aria-hidden=\"true\" d=\"\" display=\"none\"></path></g><g transform=\"translate(0,0)\"><path class=\"background\" aria-hidden=\"true\" d=\"M0,0h600v400h-600Z\"></path><g><g class=\"mark-line role-mark layer_0_marks\" role=\"graphics-object\" aria-roledescription=\"line mark container\" pointer-events=\"none\"><path aria-label=\"edges_x: 0.0710028145945; edges_y: 0.466459573448; pairs: 15,20\" role=\"graphics-symbol\" aria-roledescription=\"line mark\" d=\"M321.30084437835757,106.70808531040264L448.57450110363504,250.68968312064843\" stroke=\"black\" stroke-width=\"0.5\"></path></g></g><path class=\"foreground\" aria-hidden=\"true\" d=\"\" display=\"none\"></path></g><g transform=\"translate(0,0)\"><path class=\"background\" aria-hidden=\"true\" d=\"M0,0h600v400h-600Z\"></path><g><g class=\"mark-line role-mark layer_0_marks\" role=\"graphics-object\" aria-roledescription=\"line mark container\" pointer-events=\"none\"><path aria-label=\"edges_x: -0.121649692942; edges_y: 0.0262157889005; pairs: 16,20\" role=\"graphics-symbol\" aria-roledescription=\"line mark\" d=\"M263.50509211742656,194.75684221989255L448.57450110363504,250.68968312064843\" stroke=\"black\" stroke-width=\"0.5\"></path></g></g><path class=\"foreground\" aria-hidden=\"true\" d=\"\" display=\"none\"></path></g><g transform=\"translate(0,0)\"><path class=\"background\" aria-hidden=\"true\" d=\"M0,0h600v400h-600Z\"></path><g><g class=\"mark-line role-mark layer_0_marks\" role=\"graphics-object\" aria-roledescription=\"line mark container\" pointer-events=\"none\"><path aria-label=\"edges_x: 0.475291845826; edges_y: -0.732251176914; pairs: 17,20\" role=\"graphics-symbol\" aria-roledescription=\"line mark\" d=\"M442.58755374781725,346.45023538283704L448.57450110363504,250.68968312064843\" stroke=\"black\" stroke-width=\"0.5\"></path></g></g><path class=\"foreground\" aria-hidden=\"true\" d=\"\" display=\"none\"></path></g><g transform=\"translate(0,0)\"><path class=\"background\" aria-hidden=\"true\" d=\"M0,0h600v400h-600Z\"></path><g><g class=\"mark-line role-mark layer_0_marks\" role=\"graphics-object\" aria-roledescription=\"line mark container\" pointer-events=\"none\"><path aria-label=\"edges_x: 0.0946039161482; edges_y: -0.85046553015; pairs: 18,20\" role=\"graphics-symbol\" aria-roledescription=\"line mark\" d=\"M328.3811748444544,370.0931060300292L448.57450110363504,250.68968312064843\" stroke=\"black\" stroke-width=\"0.5\"></path></g></g><path class=\"foreground\" aria-hidden=\"true\" d=\"\" display=\"none\"></path></g><g transform=\"translate(0,0)\"><path class=\"background\" aria-hidden=\"true\" d=\"M0,0h600v400h-600Z\"></path><g><g class=\"mark-line role-mark layer_0_marks\" role=\"graphics-object\" aria-roledescription=\"line mark container\" pointer-events=\"none\"><path aria-label=\"edges_x: -0.971351819107; edges_y: -0.0892525753675; pairs: 19,20\" role=\"graphics-symbol\" aria-roledescription=\"line mark\" d=\"M8.594454267936646,217.8505150734968L448.57450110363504,250.68968312064843\" stroke=\"black\" stroke-width=\"0.5\"></path></g></g><path class=\"foreground\" aria-hidden=\"true\" d=\"\" display=\"none\"></path></g></g><g class=\"mark-symbol role-mark layer_1_marks\" role=\"graphics-object\" aria-roledescription=\"symbol mark container\"><path aria-label=\"node_x: 0.383531996917; node_y: 0.175900315625; centrality: 0.0052488771787; keywords: x1\" role=\"graphics-symbol\" aria-roledescription=\"circle\" transform=\"translate(415.0595990750894,164.8199368750709)\" d=\"M7.0710678118654755,0A7.0710678118654755,7.0710678118654755,0,1,1,-7.0710678118654755,0A7.0710678118654755,7.0710678118654755,0,1,1,7.0710678118654755,0\" fill=\"rgb(203, 223, 241)\" stroke-width=\"2\" opacity=\"1\"></path><path aria-label=\"node_x: -0.691779833161; node_y: 0.83967718037; centrality: 0.0339485381797; keywords: x2\" role=\"graphics-symbol\" aria-roledescription=\"circle\" transform=\"translate(92.46605005168624,32.06456392601762)\" d=\"M7.0710678118654755,0A7.0710678118654755,7.0710678118654755,0,1,1,-7.0710678118654755,0A7.0710678118654755,7.0710678118654755,0,1,1,7.0710678118654755,0\" fill=\"rgb(182, 212, 233)\" stroke-width=\"2\" opacity=\"1\"></path><path aria-label=\"node_x: -1; node_y: -0.607951808209; centrality: 0.0634588923289; keywords: x3\" role=\"graphics-symbol\" aria-roledescription=\"circle\" transform=\"translate(0,321.590361641879)\" d=\"M7.0710678118654755,0A7.0710678118654755,7.0710678118654755,0,1,1,-7.0710678118654755,0A7.0710678118654755,7.0710678118654755,0,1,1,7.0710678118654755,0\" fill=\"rgb(154, 199, 225)\" stroke-width=\"2\" opacity=\"1\"></path><path aria-label=\"node_x: -0.128476147133; node_y: 0.914780718828; centrality: 0.246836548385; keywords: x4\" role=\"graphics-symbol\" aria-roledescription=\"circle\" transform=\"translate(261.4571558600319,17.043856234459163)\" d=\"M7.0710678118654755,0A7.0710678118654755,7.0710678118654755,0,1,1,-7.0710678118654755,0A7.0710678118654755,7.0710678118654755,0,1,1,7.0710678118654755,0\" fill=\"rgb(10, 74, 144)\" stroke-width=\"2\" opacity=\"1\"></path><path aria-label=\"node_x: -0.334939293695; node_y: 0.525142488446; centrality: 0; keywords: x5\" role=\"graphics-symbol\" aria-roledescription=\"circle\" transform=\"translate(199.51821189137658,94.97150231082192)\" d=\"M7.0710678118654755,0A7.0710678118654755,7.0710678118654755,0,1,1,-7.0710678118654755,0A7.0710678118654755,7.0710678118654755,0,1,1,7.0710678118654755,0\" fill=\"rgb(207, 225, 242)\" stroke-width=\"2\" opacity=\"1\"></path><path aria-label=\"node_x: -0.520818816471; node_y: 0.11672104544; centrality: 0; keywords: x6\" role=\"graphics-symbol\" aria-roledescription=\"circle\" transform=\"translate(143.75435505861523,176.6557909119181)\" d=\"M7.0710678118654755,0A7.0710678118654755,7.0710678118654755,0,1,1,-7.0710678118654755,0A7.0710678118654755,7.0710678118654755,0,1,1,7.0710678118654755,0\" fill=\"rgb(207, 225, 242)\" stroke-width=\"2\" opacity=\"1\"></path><path aria-label=\"node_x: 1; node_y: 0.128990466701; centrality: 0.0529297098957; keywords: x7\" role=\"graphics-symbol\" aria-roledescription=\"circle\" transform=\"translate(600,174.2019066598404)\" d=\"M7.0710678118654755,0A7.0710678118654755,7.0710678118654755,0,1,1,-7.0710678118654755,0A7.0710678118654755,7.0710678118654755,0,1,1,7.0710678118654755,0\" fill=\"rgb(164, 204, 228)\" stroke-width=\"2\" opacity=\"1\"></path><path aria-label=\"node_x: 0.100240124595; node_y: -0.360042329698; centrality: 0; keywords: x8\" role=\"graphics-symbol\" aria-roledescription=\"circle\" transform=\"translate(330.07203737850773,272.008465939673)\" d=\"M7.0710678118654755,0A7.0710678118654755,7.0710678118654755,0,1,1,-7.0710678118654755,0A7.0710678118654755,7.0710678118654755,0,1,1,7.0710678118654755,0\" fill=\"rgb(207, 225, 242)\" stroke-width=\"2\" opacity=\"1\"></path><path aria-label=\"node_x: -0.892815597637; node_y: 0.397963513625; centrality: 0.00362444572971; keywords: x9\" role=\"graphics-symbol\" aria-roledescription=\"circle\" transform=\"translate(32.15532070901417,120.40729727496893)\" d=\"M7.0710678118654755,0A7.0710678118654755,7.0710678118654755,0,1,1,-7.0710678118654755,0A7.0710678118654755,7.0710678118654755,0,1,1,7.0710678118654755,0\" fill=\"rgb(205, 224, 241)\" stroke-width=\"2\" opacity=\"1\"></path><path aria-label=\"node_x: -0.227793116562; node_y: -0.71997400539; centrality: 0; keywords: x10\" role=\"graphics-symbol\" aria-roledescription=\"circle\" transform=\"translate(231.6620650314319,343.9948010779759)\" d=\"M7.0710678118654755,0A7.0710678118654755,7.0710678118654755,0,1,1,-7.0710678118654755,0A7.0710678118654755,7.0710678118654755,0,1,1,7.0710678118654755,0\" fill=\"rgb(207, 225, 242)\" stroke-width=\"2\" opacity=\"1\"></path><path aria-label=\"node_x: -0.676549052016; node_y: -1; centrality: 0.0102883843596; keywords: x11\" role=\"graphics-symbol\" aria-roledescription=\"circle\" transform=\"translate(97.03528439516083,400)\" d=\"M7.0710678118654755,0A7.0710678118654755,7.0710678118654755,0,1,1,-7.0710678118654755,0A7.0710678118654755,7.0710678118654755,0,1,1,7.0710678118654755,0\" fill=\"rgb(200, 221, 239)\" stroke-width=\"2\" opacity=\"1\"></path><path aria-label=\"node_x: 0.333054464011; node_y: 1; centrality: 0.246016436264; keywords: x12\" role=\"graphics-symbol\" aria-roledescription=\"circle\" transform=\"translate(399.9163392032951,0)\" d=\"M7.0710678118654755,0A7.0710678118654755,7.0710678118654755,0,1,1,-7.0710678118654755,0A7.0710678118654755,7.0710678118654755,0,1,1,7.0710678118654755,0\" fill=\"rgb(10, 75, 145)\" stroke-width=\"2\" opacity=\"1\"></path><path aria-label=\"node_x: 0.696255476924; node_y: 0.618601060108; centrality: 0.0665960611265; keywords: x13\" role=\"graphics-symbol\" aria-roledescription=\"circle\" transform=\"translate(508.87664307709935,76.27978797844301)\" d=\"M7.0710678118654755,0A7.0710678118654755,7.0710678118654755,0,1,1,-7.0710678118654755,0A7.0710678118654755,7.0710678118654755,0,1,1,7.0710678118654755,0\" fill=\"rgb(151, 197, 224)\" stroke-width=\"2\" opacity=\"1\"></path><path aria-label=\"node_x: -0.476006742555; node_y: -0.372163725076; centrality: 0; keywords: x14\" role=\"graphics-symbol\" aria-roledescription=\"circle\" transform=\"translate(157.1979772334611,274.4327450152536)\" d=\"M7.0710678118654755,0A7.0710678118654755,7.0710678118654755,0,1,1,-7.0710678118654755,0A7.0710678118654755,7.0710678118654755,0,1,1,7.0710678118654755,0\" fill=\"rgb(207, 225, 242)\" stroke-width=\"2\" opacity=\"1\"></path><path aria-label=\"node_x: 0.0710028145945; node_y: 0.466459573448; centrality: 0.00408357075024; keywords: x15\" role=\"graphics-symbol\" aria-roledescription=\"circle\" transform=\"translate(321.30084437835757,106.70808531040264)\" d=\"M7.0710678118654755,0A7.0710678118654755,7.0710678118654755,0,1,1,-7.0710678118654755,0A7.0710678118654755,7.0710678118654755,0,1,1,7.0710678118654755,0\" fill=\"rgb(204, 224, 241)\" stroke-width=\"2\" opacity=\"1\"></path><path aria-label=\"node_x: -0.121649692942; node_y: 0.0262157889005; centrality: 0.00162443144899; keywords: x16\" role=\"graphics-symbol\" aria-roledescription=\"circle\" transform=\"translate(263.50509211742656,194.75684221989255)\" d=\"M7.0710678118654755,0A7.0710678118654755,7.0710678118654755,0,1,1,-7.0710678118654755,0A7.0710678118654755,7.0710678118654755,0,1,1,7.0710678118654755,0\" fill=\"rgb(206, 224, 242)\" stroke-width=\"2\" opacity=\"1\"></path><path aria-label=\"node_x: 0.475291845826; node_y: -0.732251176914; centrality: 0.0312538930702; keywords: x17\" role=\"graphics-symbol\" aria-roledescription=\"circle\" transform=\"translate(442.58755374781725,346.45023538283704)\" d=\"M7.0710678118654755,0A7.0710678118654755,7.0710678118654755,0,1,1,-7.0710678118654755,0A7.0710678118654755,7.0710678118654755,0,1,1,7.0710678118654755,0\" fill=\"rgb(184, 213, 234)\" stroke-width=\"2\" opacity=\"1\"></path><path aria-label=\"node_x: 0.0946039161482; node_y: -0.85046553015; centrality: 0; keywords: x18\" role=\"graphics-symbol\" aria-roledescription=\"circle\" transform=\"translate(328.3811748444544,370.0931060300292)\" d=\"M7.0710678118654755,0A7.0710678118654755,7.0710678118654755,0,1,1,-7.0710678118654755,0A7.0710678118654755,7.0710678118654755,0,1,1,7.0710678118654755,0\" fill=\"rgb(207, 225, 242)\" stroke-width=\"2\" opacity=\"1\"></path><path aria-label=\"node_x: -0.971351819107; node_y: -0.0892525753675; centrality: 0.00103463787674; keywords: x19\" role=\"graphics-symbol\" aria-roledescription=\"circle\" transform=\"translate(8.594454267936646,217.8505150734968)\" d=\"M7.0710678118654755,0A7.0710678118654755,7.0710678118654755,0,1,1,-7.0710678118654755,0A7.0710678118654755,7.0710678118654755,0,1,1,7.0710678118654755,0\" fill=\"rgb(206, 225, 242)\" stroke-width=\"2\" opacity=\"1\"></path><path aria-label=\"node_x: 0.495248337012; node_y: -0.253448415603; centrality: 0.0105163192882; keywords: x20\" role=\"graphics-symbol\" aria-roledescription=\"circle\" transform=\"translate(448.57450110363504,250.68968312064843)\" d=\"M7.0710678118654755,0A7.0710678118654755,7.0710678118654755,0,1,1,-7.0710678118654755,0A7.0710678118654755,7.0710678118654755,0,1,1,7.0710678118654755,0\" fill=\"rgb(200, 221, 239)\" stroke-width=\"2\" opacity=\"1\"></path></g><g class=\"mark-group role-legend\" role=\"graphics-symbol\" aria-roledescription=\"legend\" aria-label=\"Gradient legend titled 'centrality' for fill color with values from 0.00 to 0.25\"><g transform=\"translate(619,0)\"><path class=\"background\" aria-hidden=\"true\" d=\"M0,0h59v216h-59Z\" pointer-events=\"none\"></path><g><g class=\"mark-group role-legend-entry\"><g transform=\"translate(0,16)\"><path class=\"background\" aria-hidden=\"true\" d=\"M0,0h0v0h0Z\" pointer-events=\"none\"></path><g><g class=\"mark-rect role-legend-gradient\" pointer-events=\"none\"><path d=\"M0,0h16v200h-16Z\" fill=\"url(#gradient_0)\" stroke=\"#ddd\" stroke-width=\"0\" opacity=\"1\"></path></g><g class=\"mark-text role-legend-label\" pointer-events=\"none\"><text text-anchor=\"start\" transform=\"translate(18,198)\" font-family=\"sans-serif\" font-size=\"10px\" fill=\"#000\" opacity=\"1\">0.00</text><text text-anchor=\"start\" transform=\"translate(18,162.48736090564094)\" font-family=\"sans-serif\" font-size=\"10px\" fill=\"#000\" opacity=\"1\">0.05</text><text text-anchor=\"start\" transform=\"translate(18,121.97472181128191)\" font-family=\"sans-serif\" font-size=\"10px\" fill=\"#000\" opacity=\"1\">0.10</text><text text-anchor=\"start\" transform=\"translate(18,81.46208271692288)\" font-family=\"sans-serif\" font-size=\"10px\" fill=\"#000\" opacity=\"1\">0.15</text><text text-anchor=\"start\" transform=\"translate(18,40.94944362256383)\" font-family=\"sans-serif\" font-size=\"10px\" fill=\"#000\" opacity=\"1\">0.20</text></g></g><path class=\"foreground\" aria-hidden=\"true\" d=\"\" pointer-events=\"none\" display=\"none\"></path></g></g><g class=\"mark-text role-legend-title\" pointer-events=\"none\"><text text-anchor=\"start\" transform=\"translate(0,9)\" font-family=\"sans-serif\" font-size=\"11px\" font-weight=\"bold\" fill=\"#000\" opacity=\"1\">centrality</text></g></g><path class=\"foreground\" aria-hidden=\"true\" d=\"\" pointer-events=\"none\" display=\"none\"></path></g></g></g><path class=\"foreground\" aria-hidden=\"true\" d=\"\" display=\"none\"></path></g></g></g></svg>\n"
      ],
      "text/plain": [
       "@vlplot(\n",
       "    view={\n",
       "        stroke=nothing\n",
       "    },\n",
       "    layer=[\n",
       "        {\n",
       "            mark={\n",
       "                type=\"line\",\n",
       "                color=\"black\",\n",
       "                clip=false,\n",
       "                size=0.5\n",
       "            },\n",
       "            data={\n",
       "                values=...\n",
       "            },\n",
       "            encoding={\n",
       "                x={\n",
       "                    axis=nothing,\n",
       "                    field=\"edges_x\",\n",
       "                    type=\"quantitative\"\n",
       "                },\n",
       "                y={\n",
       "                    axis=nothing,\n",
       "                    field=\"edges_y\",\n",
       "                    type=\"quantitative\"\n",
       "                },\n",
       "                detail={\n",
       "                    field=\"pairs\",\n",
       "                    type=\"ordinal\"\n",
       "                }\n",
       "            },\n",
       "            width=600,\n",
       "            height=400\n",
       "        },\n",
       "        {\n",
       "            mark={\n",
       "                type=\"circle\",\n",
       "                clip=false,\n",
       "                opacity=1\n",
       "            },\n",
       "            data={\n",
       "                values=...\n",
       "            },\n",
       "            width=600,\n",
       "            height=400,\n",
       "            selection={\n",
       "                grid={\n",
       "                    type=\"interval\",\n",
       "                    bind=\"scales\"\n",
       "                }\n",
       "            },\n",
       "            encoding={\n",
       "                x={\n",
       "                    axis=nothing,\n",
       "                    field=\"node_x\",\n",
       "                    type=\"quantitative\"\n",
       "                },\n",
       "                y={\n",
       "                    axis=nothing,\n",
       "                    field=\"node_y\",\n",
       "                    type=\"quantitative\"\n",
       "                },\n",
       "                size={\n",
       "                    value=200,\n",
       "                    legend=nothing\n",
       "                },\n",
       "                color={\n",
       "                    scale={\n",
       "                        scheme=\"blues\"\n",
       "                    },\n",
       "                    field=\"centrality\",\n",
       "                    type=\"quantitative\"\n",
       "                },\n",
       "                tooltip=[\n",
       "                    {\n",
       "                        field=\"keywords\",\n",
       "                        type=\"nominal\"\n",
       "                    }\n",
       "                ]\n",
       "            }\n",
       "        }\n",
       "    ]\n",
       ")"
      ]
     },
     "execution_count": 6,
     "metadata": {},
     "output_type": "execute_result"
    }
   ],
   "source": [
    "v1 =@vlplot(\n",
    "    mark={\"type\"=:circle,clip=false,opacity=1},\n",
    "    data = graph_nodes,\n",
    "    x={\"node_x:q\",axis=nothing},\n",
    "    y={\"node_y:q\",axis=nothing},\n",
    "    size={value=200,legend=nothing},\n",
    "    color={\"centrality:q\", scale={scheme=\"blues\"}},\n",
    "    tooltip=[{field=\"keywords\",\"type\"=\"nominal\"}],\n",
    "    width=600,\n",
    "    height=400,\n",
    "    selection={\n",
    "        grid={\n",
    "                type=:interval,\n",
    "                bind=:scales,\n",
    "            }\n",
    "    }\n",
    ")\n",
    "\n",
    "v2 =@vlplot(\n",
    "    mark={\"type\"=:line,color=\"black\",clip=false,size=0.5},\n",
    "    data = graph_edges,\n",
    "    encoding={\n",
    "    x={\"edges_x:q\",axis=nothing},\n",
    "    y={\"edges_y:q\",axis=nothing},\n",
    "#     size={\"ew:q\",legend=nothing},\n",
    "    detail={\"pairs:o\"}},\n",
    "    width=600,\n",
    "    height=400\n",
    ");\n",
    "\n",
    "graph_plot = @vlplot(view={stroke=nothing})+v2+v1"
   ]
  },
  {
   "cell_type": "code",
   "execution_count": 7,
   "metadata": {},
   "outputs": [
    {
     "data": {
      "text/plain": [
       "OrderedCollections.OrderedDict{String,Any} with 4 entries:\n",
       "  \"type\"  => :line\n",
       "  \"color\" => \"black\"\n",
       "  \"clip\"  => false\n",
       "  \"size\"  => 0.5"
      ]
     },
     "execution_count": 7,
     "metadata": {},
     "output_type": "execute_result"
    }
   ],
   "source": [
    "# @set graph_plot.layer[1][\"mark\"][\"type\"] = :trail\n",
    "vv = @vlplot() + v2\n",
    "vv.layer[1][\"mark\"]"
   ]
  },
  {
   "cell_type": "code",
   "execution_count": null,
   "metadata": {},
   "outputs": [],
   "source": []
  }
 ],
 "metadata": {
  "kernelspec": {
   "display_name": "JuliaML 1.5.2",
   "language": "julia",
   "name": "juliaml-1.5"
  },
  "language_info": {
   "file_extension": ".jl",
   "mimetype": "application/julia",
   "name": "julia",
   "version": "1.5.2"
  }
 },
 "nbformat": 4,
 "nbformat_minor": 4
}
