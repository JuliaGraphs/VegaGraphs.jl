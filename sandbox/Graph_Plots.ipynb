{
 "cells": [
  {
   "cell_type": "code",
   "execution_count": 12,
   "metadata": {},
   "outputs": [
    {
     "name": "stderr",
     "output_type": "stream",
     "text": [
      "\u001b[32m\u001b[1m Activating\u001b[22m\u001b[39m environment at `~/MEGAsync/EMAp/VegaGraphs/Project.toml`\n"
     ]
    }
   ],
   "source": [
    "using Revise, Pkg\n",
    "Pkg.activate(\"../.\")\n",
    "using DataFrames, VegaLite, VegaDatasets\n",
    "using Distributions, KernelDensity\n",
    "using LightGraphs, GraphPlot, SimpleWeightedGraphs, LinearAlgebra, DataFrames, Random, Colors"
   ]
  },
  {
   "cell_type": "code",
   "execution_count": 164,
   "metadata": {},
   "outputs": [],
   "source": [
    "Random.seed!(7)\n",
    "df = DataFrame(rand([0,1],10,20));"
   ]
  },
  {
   "cell_type": "code",
   "execution_count": 165,
   "metadata": {},
   "outputs": [
    {
     "data": {
      "text/plain": [
       "get_edges (generic function with 1 method)"
      ]
     },
     "execution_count": 165,
     "metadata": {},
     "output_type": "execute_result"
    }
   ],
   "source": [
    "function gen_graph(df)\n",
    "    g = SimpleWeightedGraph(ncol(df))\n",
    "    ew = Int[]\n",
    "    pairings = [] \n",
    "    for i in 1:ncol(df), j in i+1:ncol(df) # iterate over all combinations of columns\n",
    "        w = dot(df[:, i], df[:, j])        # calculate how many times (i,j) occurs\n",
    "        if w > 0\n",
    "            push!(ew, w)\n",
    "            add_edge!(g, i, j, w)\n",
    "            push!(pairings,[i,j])\n",
    "        end\n",
    "    end\n",
    "#     gplot(g,nodelabel=names(df),edgelinewidth=ew)\n",
    "#     gplot(g)\n",
    "    return (g,ew)\n",
    "end\n",
    "\n",
    "function get_edges(g,node_x,node_y)\n",
    "    edges_p1 = []\n",
    "    edges_p2 = []\n",
    "    edges_w  = Float64[]\n",
    "    for i in edges(g)\n",
    "        push!(edges_p1, i.src)\n",
    "        push!(edges_p1, i.src)\n",
    "        push!(edges_p2, i.dst)\n",
    "        push!(edges_p2, i.dst)\n",
    "        push!(edges_w, i.weight)\n",
    "        push!(edges_w, i.weight)\n",
    "    end\n",
    "    \n",
    "    edges_node  = Int[]\n",
    "    edges_pairs = []\n",
    "    for i in 1:size(edges_p1)[1]\n",
    "        if i % 2 == 0\n",
    "            push!(edges_node,edges_p2[i])\n",
    "        else\n",
    "            push!(edges_node,edges_p1[i])\n",
    "        end\n",
    "        push!(edges_pairs,[edges_p1[i],edges_p2[i]])\n",
    "    end \n",
    "    graph_edges = DataFrames.DataFrame(edges_x = node_x[edges_node], edges_y = node_y[edges_node],\n",
    "                       pairs = edges_pairs, ew = edges_w, node = edges_node) \n",
    "    return graph_edges\n",
    "end"
   ]
  },
  {
   "cell_type": "code",
   "execution_count": 166,
   "metadata": {},
   "outputs": [],
   "source": [
    "g,ew = gen_graph(df)\n",
    "node_x, node_y = GraphPlot.spring_layout(g);\n",
    "graph_edges = get_edges(g,node_x,node_y);\n",
    "# graph_edges[:ew] = graph_edges[:ew]/10;\n",
    "graph_nodes = DataFrame(keywords = names(df),node_x=node_x, node_y=node_y,centrality=betweenness_centrality(g));"
   ]
  },
  {
   "cell_type": "code",
   "execution_count": 194,
   "metadata": {},
   "outputs": [
    {
     "name": "stderr",
     "output_type": "stream",
     "text": [
      "WARN Dropping {\"field\":null,\"legend\":null} from channel \"size\" since it does not contain any data field, datum, value, or signal.\n",
      "WARN Dropping {\"field\":null,\"legend\":null} from channel \"size\" since it does not contain any data field, datum, value, or signal.\n"
     ]
    },
    {
     "data": {
      "application/vnd.vegalite.v4+json": {
       "layer": [
        {
         "data": {
          "values": [
           {
            "edges_x": 0.3835319969169646,
            "edges_y": 0.17590031562464548,
            "ew": 2,
            "node": 1,
            "pairs": [
             1,
             2
            ]
           },
           {
            "edges_x": -0.6917798331610459,
            "edges_y": 0.8396771803699119,
            "ew": 2,
            "node": 2,
            "pairs": [
             1,
             2
            ]
           },
           {
            "edges_x": 0.3835319969169646,
            "edges_y": 0.17590031562464548,
            "ew": 3,
            "node": 1,
            "pairs": [
             1,
             3
            ]
           },
           {
            "edges_x": -1,
            "edges_y": -0.6079518082093948,
            "ew": 3,
            "node": 3,
            "pairs": [
             1,
             3
            ]
           },
           {
            "edges_x": -0.6917798331610459,
            "edges_y": 0.8396771803699119,
            "ew": 3,
            "node": 2,
            "pairs": [
             2,
             3
            ]
           },
           {
            "edges_x": -1,
            "edges_y": -0.6079518082093948,
            "ew": 3,
            "node": 3,
            "pairs": [
             2,
             3
            ]
           },
           {
            "edges_x": 0.3835319969169646,
            "edges_y": 0.17590031562464548,
            "ew": 1,
            "node": 1,
            "pairs": [
             1,
             4
            ]
           },
           {
            "edges_x": -0.12847614713322708,
            "edges_y": 0.9147807188277042,
            "ew": 1,
            "node": 4,
            "pairs": [
             1,
             4
            ]
           },
           {
            "edges_x": -0.6917798331610459,
            "edges_y": 0.8396771803699119,
            "ew": 1,
            "node": 2,
            "pairs": [
             2,
             4
            ]
           },
           {
            "edges_x": -0.12847614713322708,
            "edges_y": 0.9147807188277042,
            "ew": 1,
            "node": 4,
            "pairs": [
             2,
             4
            ]
           },
           {
            "edges_x": -1,
            "edges_y": -0.6079518082093948,
            "ew": 1,
            "node": 3,
            "pairs": [
             3,
             4
            ]
           },
           {
            "edges_x": -0.12847614713322708,
            "edges_y": 0.9147807188277042,
            "ew": 1,
            "node": 4,
            "pairs": [
             3,
             4
            ]
           },
           {
            "edges_x": 0.3835319969169646,
            "edges_y": 0.17590031562464548,
            "ew": 4,
            "node": 1,
            "pairs": [
             1,
             5
            ]
           },
           {
            "edges_x": -0.3349392936954114,
            "edges_y": 0.5251424884458904,
            "ew": 4,
            "node": 5,
            "pairs": [
             1,
             5
            ]
           },
           {
            "edges_x": -0.6917798331610459,
            "edges_y": 0.8396771803699119,
            "ew": 2,
            "node": 2,
            "pairs": [
             2,
             5
            ]
           },
           {
            "edges_x": -0.3349392936954114,
            "edges_y": 0.5251424884458904,
            "ew": 2,
            "node": 5,
            "pairs": [
             2,
             5
            ]
           },
           {
            "edges_x": -1,
            "edges_y": -0.6079518082093948,
            "ew": 1,
            "node": 3,
            "pairs": [
             3,
             5
            ]
           },
           {
            "edges_x": -0.3349392936954114,
            "edges_y": 0.5251424884458904,
            "ew": 1,
            "node": 5,
            "pairs": [
             3,
             5
            ]
           },
           {
            "edges_x": -0.12847614713322708,
            "edges_y": 0.9147807188277042,
            "ew": 1,
            "node": 4,
            "pairs": [
             4,
             5
            ]
           },
           {
            "edges_x": -0.3349392936954114,
            "edges_y": 0.5251424884458904,
            "ew": 1,
            "node": 5,
            "pairs": [
             4,
             5
            ]
           },
           {
            "edges_x": 0.3835319969169646,
            "edges_y": 0.17590031562464548,
            "ew": 5,
            "node": 1,
            "pairs": [
             1,
             6
            ]
           },
           {
            "edges_x": -0.5208188164712826,
            "edges_y": 0.11672104544040951,
            "ew": 5,
            "node": 6,
            "pairs": [
             1,
             6
            ]
           },
           {
            "edges_x": -0.6917798331610459,
            "edges_y": 0.8396771803699119,
            "ew": 4,
            "node": 2,
            "pairs": [
             2,
             6
            ]
           },
           {
            "edges_x": -0.5208188164712826,
            "edges_y": 0.11672104544040951,
            "ew": 4,
            "node": 6,
            "pairs": [
             2,
             6
            ]
           },
           {
            "edges_x": -1,
            "edges_y": -0.6079518082093948,
            "ew": 3,
            "node": 3,
            "pairs": [
             3,
             6
            ]
           },
           {
            "edges_x": -0.5208188164712826,
            "edges_y": 0.11672104544040951,
            "ew": 3,
            "node": 6,
            "pairs": [
             3,
             6
            ]
           },
           {
            "edges_x": -0.12847614713322708,
            "edges_y": 0.9147807188277042,
            "ew": 2,
            "node": 4,
            "pairs": [
             4,
             6
            ]
           },
           {
            "edges_x": -0.5208188164712826,
            "edges_y": 0.11672104544040951,
            "ew": 2,
            "node": 6,
            "pairs": [
             4,
             6
            ]
           },
           {
            "edges_x": -0.3349392936954114,
            "edges_y": 0.5251424884458904,
            "ew": 4,
            "node": 5,
            "pairs": [
             5,
             6
            ]
           },
           {
            "edges_x": -0.5208188164712826,
            "edges_y": 0.11672104544040951,
            "ew": 4,
            "node": 6,
            "pairs": [
             5,
             6
            ]
           },
           {
            "edges_x": 0.3835319969169646,
            "edges_y": 0.17590031562464548,
            "ew": 1,
            "node": 1,
            "pairs": [
             1,
             7
            ]
           },
           {
            "edges_x": 1,
            "edges_y": 0.12899046670079795,
            "ew": 1,
            "node": 7,
            "pairs": [
             1,
             7
            ]
           },
           {
            "edges_x": -0.6917798331610459,
            "edges_y": 0.8396771803699119,
            "ew": 1,
            "node": 2,
            "pairs": [
             2,
             7
            ]
           },
           {
            "edges_x": 1,
            "edges_y": 0.12899046670079795,
            "ew": 1,
            "node": 7,
            "pairs": [
             2,
             7
            ]
           },
           {
            "edges_x": -0.12847614713322708,
            "edges_y": 0.9147807188277042,
            "ew": 2,
            "node": 4,
            "pairs": [
             4,
             7
            ]
           },
           {
            "edges_x": 1,
            "edges_y": 0.12899046670079795,
            "ew": 2,
            "node": 7,
            "pairs": [
             4,
             7
            ]
           },
           {
            "edges_x": -0.3349392936954114,
            "edges_y": 0.5251424884458904,
            "ew": 2,
            "node": 5,
            "pairs": [
             5,
             7
            ]
           },
           {
            "edges_x": 1,
            "edges_y": 0.12899046670079795,
            "ew": 2,
            "node": 7,
            "pairs": [
             5,
             7
            ]
           },
           {
            "edges_x": -0.5208188164712826,
            "edges_y": 0.11672104544040951,
            "ew": 2,
            "node": 6,
            "pairs": [
             6,
             7
            ]
           },
           {
            "edges_x": 1,
            "edges_y": 0.12899046670079795,
            "ew": 2,
            "node": 7,
            "pairs": [
             6,
             7
            ]
           },
           {
            "edges_x": 0.3835319969169646,
            "edges_y": 0.17590031562464548,
            "ew": 4,
            "node": 1,
            "pairs": [
             1,
             8
            ]
           },
           {
            "edges_x": 0.10024012459502574,
            "edges_y": -0.3600423296983648,
            "ew": 4,
            "node": 8,
            "pairs": [
             1,
             8
            ]
           },
           {
            "edges_x": -0.6917798331610459,
            "edges_y": 0.8396771803699119,
            "ew": 4,
            "node": 2,
            "pairs": [
             2,
             8
            ]
           },
           {
            "edges_x": 0.10024012459502574,
            "edges_y": -0.3600423296983648,
            "ew": 4,
            "node": 8,
            "pairs": [
             2,
             8
            ]
           },
           {
            "edges_x": -1,
            "edges_y": -0.6079518082093948,
            "ew": 4,
            "node": 3,
            "pairs": [
             3,
             8
            ]
           },
           {
            "edges_x": 0.10024012459502574,
            "edges_y": -0.3600423296983648,
            "ew": 4,
            "node": 8,
            "pairs": [
             3,
             8
            ]
           },
           {
            "edges_x": -0.12847614713322708,
            "edges_y": 0.9147807188277042,
            "ew": 2,
            "node": 4,
            "pairs": [
             4,
             8
            ]
           },
           {
            "edges_x": 0.10024012459502574,
            "edges_y": -0.3600423296983648,
            "ew": 2,
            "node": 8,
            "pairs": [
             4,
             8
            ]
           },
           {
            "edges_x": -0.3349392936954114,
            "edges_y": 0.5251424884458904,
            "ew": 4,
            "node": 5,
            "pairs": [
             5,
             8
            ]
           },
           {
            "edges_x": 0.10024012459502574,
            "edges_y": -0.3600423296983648,
            "ew": 4,
            "node": 8,
            "pairs": [
             5,
             8
            ]
           },
           {
            "edges_x": -0.5208188164712826,
            "edges_y": 0.11672104544040951,
            "ew": 4,
            "node": 6,
            "pairs": [
             6,
             8
            ]
           },
           {
            "edges_x": 0.10024012459502574,
            "edges_y": -0.3600423296983648,
            "ew": 4,
            "node": 8,
            "pairs": [
             6,
             8
            ]
           },
           {
            "edges_x": 1,
            "edges_y": 0.12899046670079795,
            "ew": 2,
            "node": 7,
            "pairs": [
             7,
             8
            ]
           },
           {
            "edges_x": 0.10024012459502574,
            "edges_y": -0.3600423296983648,
            "ew": 2,
            "node": 8,
            "pairs": [
             7,
             8
            ]
           },
           {
            "edges_x": 0.3835319969169646,
            "edges_y": 0.17590031562464548,
            "ew": 5,
            "node": 1,
            "pairs": [
             1,
             9
            ]
           },
           {
            "edges_x": -0.8928155976366194,
            "edges_y": 0.39796351362515536,
            "ew": 5,
            "node": 9,
            "pairs": [
             1,
             9
            ]
           },
           {
            "edges_x": -0.6917798331610459,
            "edges_y": 0.8396771803699119,
            "ew": 2,
            "node": 2,
            "pairs": [
             2,
             9
            ]
           },
           {
            "edges_x": -0.8928155976366194,
            "edges_y": 0.39796351362515536,
            "ew": 2,
            "node": 9,
            "pairs": [
             2,
             9
            ]
           },
           {
            "edges_x": -1,
            "edges_y": -0.6079518082093948,
            "ew": 3,
            "node": 3,
            "pairs": [
             3,
             9
            ]
           },
           {
            "edges_x": -0.8928155976366194,
            "edges_y": 0.39796351362515536,
            "ew": 3,
            "node": 9,
            "pairs": [
             3,
             9
            ]
           },
           {
            "edges_x": -0.12847614713322708,
            "edges_y": 0.9147807188277042,
            "ew": 1,
            "node": 4,
            "pairs": [
             4,
             9
            ]
           },
           {
            "edges_x": -0.8928155976366194,
            "edges_y": 0.39796351362515536,
            "ew": 1,
            "node": 9,
            "pairs": [
             4,
             9
            ]
           },
           {
            "edges_x": -0.3349392936954114,
            "edges_y": 0.5251424884458904,
            "ew": 3,
            "node": 5,
            "pairs": [
             5,
             9
            ]
           },
           {
            "edges_x": -0.8928155976366194,
            "edges_y": 0.39796351362515536,
            "ew": 3,
            "node": 9,
            "pairs": [
             5,
             9
            ]
           },
           {
            "edges_x": -0.5208188164712826,
            "edges_y": 0.11672104544040951,
            "ew": 4,
            "node": 6,
            "pairs": [
             6,
             9
            ]
           },
           {
            "edges_x": -0.8928155976366194,
            "edges_y": 0.39796351362515536,
            "ew": 4,
            "node": 9,
            "pairs": [
             6,
             9
            ]
           },
           {
            "edges_x": 0.10024012459502574,
            "edges_y": -0.3600423296983648,
            "ew": 4,
            "node": 8,
            "pairs": [
             8,
             9
            ]
           },
           {
            "edges_x": -0.8928155976366194,
            "edges_y": 0.39796351362515536,
            "ew": 4,
            "node": 9,
            "pairs": [
             8,
             9
            ]
           },
           {
            "edges_x": 0.3835319969169646,
            "edges_y": 0.17590031562464548,
            "ew": 6,
            "node": 1,
            "pairs": [
             1,
             10
            ]
           },
           {
            "edges_x": -0.22779311656189372,
            "edges_y": -0.7199740053898795,
            "ew": 6,
            "node": 10,
            "pairs": [
             1,
             10
            ]
           },
           {
            "edges_x": -0.6917798331610459,
            "edges_y": 0.8396771803699119,
            "ew": 3,
            "node": 2,
            "pairs": [
             2,
             10
            ]
           },
           {
            "edges_x": -0.22779311656189372,
            "edges_y": -0.7199740053898795,
            "ew": 3,
            "node": 10,
            "pairs": [
             2,
             10
            ]
           },
           {
            "edges_x": -1,
            "edges_y": -0.6079518082093948,
            "ew": 4,
            "node": 3,
            "pairs": [
             3,
             10
            ]
           },
           {
            "edges_x": -0.22779311656189372,
            "edges_y": -0.7199740053898795,
            "ew": 4,
            "node": 10,
            "pairs": [
             3,
             10
            ]
           },
           {
            "edges_x": -0.12847614713322708,
            "edges_y": 0.9147807188277042,
            "ew": 3,
            "node": 4,
            "pairs": [
             4,
             10
            ]
           },
           {
            "edges_x": -0.22779311656189372,
            "edges_y": -0.7199740053898795,
            "ew": 3,
            "node": 10,
            "pairs": [
             4,
             10
            ]
           },
           {
            "edges_x": -0.3349392936954114,
            "edges_y": 0.5251424884458904,
            "ew": 4,
            "node": 5,
            "pairs": [
             5,
             10
            ]
           },
           {
            "edges_x": -0.22779311656189372,
            "edges_y": -0.7199740053898795,
            "ew": 4,
            "node": 10,
            "pairs": [
             5,
             10
            ]
           },
           {
            "edges_x": -0.5208188164712826,
            "edges_y": 0.11672104544040951,
            "ew": 5,
            "node": 6,
            "pairs": [
             6,
             10
            ]
           },
           {
            "edges_x": -0.22779311656189372,
            "edges_y": -0.7199740053898795,
            "ew": 5,
            "node": 10,
            "pairs": [
             6,
             10
            ]
           },
           {
            "edges_x": 1,
            "edges_y": 0.12899046670079795,
            "ew": 2,
            "node": 7,
            "pairs": [
             7,
             10
            ]
           },
           {
            "edges_x": -0.22779311656189372,
            "edges_y": -0.7199740053898795,
            "ew": 2,
            "node": 10,
            "pairs": [
             7,
             10
            ]
           },
           {
            "edges_x": 0.10024012459502574,
            "edges_y": -0.3600423296983648,
            "ew": 6,
            "node": 8,
            "pairs": [
             8,
             10
            ]
           },
           {
            "edges_x": -0.22779311656189372,
            "edges_y": -0.7199740053898795,
            "ew": 6,
            "node": 10,
            "pairs": [
             8,
             10
            ]
           },
           {
            "edges_x": -0.8928155976366194,
            "edges_y": 0.39796351362515536,
            "ew": 5,
            "node": 9,
            "pairs": [
             9,
             10
            ]
           },
           {
            "edges_x": -0.22779311656189372,
            "edges_y": -0.7199740053898795,
            "ew": 5,
            "node": 10,
            "pairs": [
             9,
             10
            ]
           },
           {
            "edges_x": 0.3835319969169646,
            "edges_y": 0.17590031562464548,
            "ew": 4,
            "node": 1,
            "pairs": [
             1,
             11
            ]
           },
           {
            "edges_x": -0.6765490520161306,
            "edges_y": -1,
            "ew": 4,
            "node": 11,
            "pairs": [
             1,
             11
            ]
           },
           {
            "edges_x": -0.6917798331610459,
            "edges_y": 0.8396771803699119,
            "ew": 3,
            "node": 2,
            "pairs": [
             2,
             11
            ]
           },
           {
            "edges_x": -0.6765490520161306,
            "edges_y": -1,
            "ew": 3,
            "node": 11,
            "pairs": [
             2,
             11
            ]
           },
           {
            "edges_x": -1,
            "edges_y": -0.6079518082093948,
            "ew": 4,
            "node": 3,
            "pairs": [
             3,
             11
            ]
           },
           {
            "edges_x": -0.6765490520161306,
            "edges_y": -1,
            "ew": 4,
            "node": 11,
            "pairs": [
             3,
             11
            ]
           },
           {
            "edges_x": -0.12847614713322708,
            "edges_y": 0.9147807188277042,
            "ew": 1,
            "node": 4,
            "pairs": [
             4,
             11
            ]
           },
           {
            "edges_x": -0.6765490520161306,
            "edges_y": -1,
            "ew": 1,
            "node": 11,
            "pairs": [
             4,
             11
            ]
           },
           {
            "edges_x": -0.3349392936954114,
            "edges_y": 0.5251424884458904,
            "ew": 2,
            "node": 5,
            "pairs": [
             5,
             11
            ]
           },
           {
            "edges_x": -0.6765490520161306,
            "edges_y": -1,
            "ew": 2,
            "node": 11,
            "pairs": [
             5,
             11
            ]
           },
           {
            "edges_x": -0.5208188164712826,
            "edges_y": 0.11672104544040951,
            "ew": 4,
            "node": 6,
            "pairs": [
             6,
             11
            ]
           },
           {
            "edges_x": -0.6765490520161306,
            "edges_y": -1,
            "ew": 4,
            "node": 11,
            "pairs": [
             6,
             11
            ]
           },
           {
            "edges_x": 0.10024012459502574,
            "edges_y": -0.3600423296983648,
            "ew": 4,
            "node": 8,
            "pairs": [
             8,
             11
            ]
           },
           {
            "edges_x": -0.6765490520161306,
            "edges_y": -1,
            "ew": 4,
            "node": 11,
            "pairs": [
             8,
             11
            ]
           },
           {
            "edges_x": -0.8928155976366194,
            "edges_y": 0.39796351362515536,
            "ew": 4,
            "node": 9,
            "pairs": [
             9,
             11
            ]
           },
           {
            "edges_x": -0.6765490520161306,
            "edges_y": -1,
            "ew": 4,
            "node": 11,
            "pairs": [
             9,
             11
            ]
           },
           {
            "edges_x": -0.22779311656189372,
            "edges_y": -0.7199740053898795,
            "ew": 5,
            "node": 10,
            "pairs": [
             10,
             11
            ]
           },
           {
            "edges_x": -0.6765490520161306,
            "edges_y": -1,
            "ew": 5,
            "node": 11,
            "pairs": [
             10,
             11
            ]
           },
           {
            "edges_x": 0.3835319969169646,
            "edges_y": 0.17590031562464548,
            "ew": 1,
            "node": 1,
            "pairs": [
             1,
             12
            ]
           },
           {
            "edges_x": 0.3330544640109836,
            "edges_y": 1,
            "ew": 1,
            "node": 12,
            "pairs": [
             1,
             12
            ]
           },
           {
            "edges_x": -0.6917798331610459,
            "edges_y": 0.8396771803699119,
            "ew": 1,
            "node": 2,
            "pairs": [
             2,
             12
            ]
           },
           {
            "edges_x": 0.3330544640109836,
            "edges_y": 1,
            "ew": 1,
            "node": 12,
            "pairs": [
             2,
             12
            ]
           },
           {
            "edges_x": -0.3349392936954114,
            "edges_y": 0.5251424884458904,
            "ew": 2,
            "node": 5,
            "pairs": [
             5,
             12
            ]
           },
           {
            "edges_x": 0.3330544640109836,
            "edges_y": 1,
            "ew": 2,
            "node": 12,
            "pairs": [
             5,
             12
            ]
           },
           {
            "edges_x": -0.5208188164712826,
            "edges_y": 0.11672104544040951,
            "ew": 1,
            "node": 6,
            "pairs": [
             6,
             12
            ]
           },
           {
            "edges_x": 0.3330544640109836,
            "edges_y": 1,
            "ew": 1,
            "node": 12,
            "pairs": [
             6,
             12
            ]
           },
           {
            "edges_x": 1,
            "edges_y": 0.12899046670079795,
            "ew": 1,
            "node": 7,
            "pairs": [
             7,
             12
            ]
           },
           {
            "edges_x": 0.3330544640109836,
            "edges_y": 1,
            "ew": 1,
            "node": 12,
            "pairs": [
             7,
             12
            ]
           },
           {
            "edges_x": 0.10024012459502574,
            "edges_y": -0.3600423296983648,
            "ew": 2,
            "node": 8,
            "pairs": [
             8,
             12
            ]
           },
           {
            "edges_x": 0.3330544640109836,
            "edges_y": 1,
            "ew": 2,
            "node": 12,
            "pairs": [
             8,
             12
            ]
           },
           {
            "edges_x": -0.8928155976366194,
            "edges_y": 0.39796351362515536,
            "ew": 1,
            "node": 9,
            "pairs": [
             9,
             12
            ]
           },
           {
            "edges_x": 0.3330544640109836,
            "edges_y": 1,
            "ew": 1,
            "node": 12,
            "pairs": [
             9,
             12
            ]
           },
           {
            "edges_x": -0.22779311656189372,
            "edges_y": -0.7199740053898795,
            "ew": 1,
            "node": 10,
            "pairs": [
             10,
             12
            ]
           },
           {
            "edges_x": 0.3330544640109836,
            "edges_y": 1,
            "ew": 1,
            "node": 12,
            "pairs": [
             10,
             12
            ]
           },
           {
            "edges_x": 0.3835319969169646,
            "edges_y": 0.17590031562464548,
            "ew": 3,
            "node": 1,
            "pairs": [
             1,
             13
            ]
           },
           {
            "edges_x": 0.6962554769236644,
            "edges_y": 0.6186010601077849,
            "ew": 3,
            "node": 13,
            "pairs": [
             1,
             13
            ]
           },
           {
            "edges_x": -0.12847614713322708,
            "edges_y": 0.9147807188277042,
            "ew": 1,
            "node": 4,
            "pairs": [
             4,
             13
            ]
           },
           {
            "edges_x": 0.6962554769236644,
            "edges_y": 0.6186010601077849,
            "ew": 1,
            "node": 13,
            "pairs": [
             4,
             13
            ]
           },
           {
            "edges_x": -0.3349392936954114,
            "edges_y": 0.5251424884458904,
            "ew": 2,
            "node": 5,
            "pairs": [
             5,
             13
            ]
           },
           {
            "edges_x": 0.6962554769236644,
            "edges_y": 0.6186010601077849,
            "ew": 2,
            "node": 13,
            "pairs": [
             5,
             13
            ]
           },
           {
            "edges_x": -0.5208188164712826,
            "edges_y": 0.11672104544040951,
            "ew": 2,
            "node": 6,
            "pairs": [
             6,
             13
            ]
           },
           {
            "edges_x": 0.6962554769236644,
            "edges_y": 0.6186010601077849,
            "ew": 2,
            "node": 13,
            "pairs": [
             6,
             13
            ]
           },
           {
            "edges_x": 1,
            "edges_y": 0.12899046670079795,
            "ew": 1,
            "node": 7,
            "pairs": [
             7,
             13
            ]
           },
           {
            "edges_x": 0.6962554769236644,
            "edges_y": 0.6186010601077849,
            "ew": 1,
            "node": 13,
            "pairs": [
             7,
             13
            ]
           },
           {
            "edges_x": 0.10024012459502574,
            "edges_y": -0.3600423296983648,
            "ew": 1,
            "node": 8,
            "pairs": [
             8,
             13
            ]
           },
           {
            "edges_x": 0.6962554769236644,
            "edges_y": 0.6186010601077849,
            "ew": 1,
            "node": 13,
            "pairs": [
             8,
             13
            ]
           },
           {
            "edges_x": -0.8928155976366194,
            "edges_y": 0.39796351362515536,
            "ew": 2,
            "node": 9,
            "pairs": [
             9,
             13
            ]
           },
           {
            "edges_x": 0.6962554769236644,
            "edges_y": 0.6186010601077849,
            "ew": 2,
            "node": 13,
            "pairs": [
             9,
             13
            ]
           },
           {
            "edges_x": -0.22779311656189372,
            "edges_y": -0.7199740053898795,
            "ew": 2,
            "node": 10,
            "pairs": [
             10,
             13
            ]
           },
           {
            "edges_x": 0.6962554769236644,
            "edges_y": 0.6186010601077849,
            "ew": 2,
            "node": 13,
            "pairs": [
             10,
             13
            ]
           },
           {
            "edges_x": 0.3330544640109836,
            "edges_y": 1,
            "ew": 1,
            "node": 12,
            "pairs": [
             12,
             13
            ]
           },
           {
            "edges_x": 0.6962554769236644,
            "edges_y": 0.6186010601077849,
            "ew": 1,
            "node": 13,
            "pairs": [
             12,
             13
            ]
           },
           {
            "edges_x": 0.3835319969169646,
            "edges_y": 0.17590031562464548,
            "ew": 4,
            "node": 1,
            "pairs": [
             1,
             14
            ]
           },
           {
            "edges_x": -0.47600674255512965,
            "edges_y": -0.37216372507626794,
            "ew": 4,
            "node": 14,
            "pairs": [
             1,
             14
            ]
           },
           {
            "edges_x": -0.6917798331610459,
            "edges_y": 0.8396771803699119,
            "ew": 4,
            "node": 2,
            "pairs": [
             2,
             14
            ]
           },
           {
            "edges_x": -0.47600674255512965,
            "edges_y": -0.37216372507626794,
            "ew": 4,
            "node": 14,
            "pairs": [
             2,
             14
            ]
           },
           {
            "edges_x": -1,
            "edges_y": -0.6079518082093948,
            "ew": 3,
            "node": 3,
            "pairs": [
             3,
             14
            ]
           },
           {
            "edges_x": -0.47600674255512965,
            "edges_y": -0.37216372507626794,
            "ew": 3,
            "node": 14,
            "pairs": [
             3,
             14
            ]
           },
           {
            "edges_x": -0.12847614713322708,
            "edges_y": 0.9147807188277042,
            "ew": 2,
            "node": 4,
            "pairs": [
             4,
             14
            ]
           },
           {
            "edges_x": -0.47600674255512965,
            "edges_y": -0.37216372507626794,
            "ew": 2,
            "node": 14,
            "pairs": [
             4,
             14
            ]
           },
           {
            "edges_x": -0.3349392936954114,
            "edges_y": 0.5251424884458904,
            "ew": 3,
            "node": 5,
            "pairs": [
             5,
             14
            ]
           },
           {
            "edges_x": -0.47600674255512965,
            "edges_y": -0.37216372507626794,
            "ew": 3,
            "node": 14,
            "pairs": [
             5,
             14
            ]
           },
           {
            "edges_x": -0.5208188164712826,
            "edges_y": 0.11672104544040951,
            "ew": 5,
            "node": 6,
            "pairs": [
             6,
             14
            ]
           },
           {
            "edges_x": -0.47600674255512965,
            "edges_y": -0.37216372507626794,
            "ew": 5,
            "node": 14,
            "pairs": [
             6,
             14
            ]
           },
           {
            "edges_x": 1,
            "edges_y": 0.12899046670079795,
            "ew": 2,
            "node": 7,
            "pairs": [
             7,
             14
            ]
           },
           {
            "edges_x": -0.47600674255512965,
            "edges_y": -0.37216372507626794,
            "ew": 2,
            "node": 14,
            "pairs": [
             7,
             14
            ]
           },
           {
            "edges_x": 0.10024012459502574,
            "edges_y": -0.3600423296983648,
            "ew": 5,
            "node": 8,
            "pairs": [
             8,
             14
            ]
           },
           {
            "edges_x": -0.47600674255512965,
            "edges_y": -0.37216372507626794,
            "ew": 5,
            "node": 14,
            "pairs": [
             8,
             14
            ]
           },
           {
            "edges_x": -0.8928155976366194,
            "edges_y": 0.39796351362515536,
            "ew": 3,
            "node": 9,
            "pairs": [
             9,
             14
            ]
           },
           {
            "edges_x": -0.47600674255512965,
            "edges_y": -0.37216372507626794,
            "ew": 3,
            "node": 14,
            "pairs": [
             9,
             14
            ]
           },
           {
            "edges_x": -0.22779311656189372,
            "edges_y": -0.7199740053898795,
            "ew": 5,
            "node": 10,
            "pairs": [
             10,
             14
            ]
           },
           {
            "edges_x": -0.47600674255512965,
            "edges_y": -0.37216372507626794,
            "ew": 5,
            "node": 14,
            "pairs": [
             10,
             14
            ]
           },
           {
            "edges_x": -0.6765490520161306,
            "edges_y": -1,
            "ew": 3,
            "node": 11,
            "pairs": [
             11,
             14
            ]
           },
           {
            "edges_x": -0.47600674255512965,
            "edges_y": -0.37216372507626794,
            "ew": 3,
            "node": 14,
            "pairs": [
             11,
             14
            ]
           },
           {
            "edges_x": 0.3330544640109836,
            "edges_y": 1,
            "ew": 2,
            "node": 12,
            "pairs": [
             12,
             14
            ]
           },
           {
            "edges_x": -0.47600674255512965,
            "edges_y": -0.37216372507626794,
            "ew": 2,
            "node": 14,
            "pairs": [
             12,
             14
            ]
           },
           {
            "edges_x": 0.6962554769236644,
            "edges_y": 0.6186010601077849,
            "ew": 2,
            "node": 13,
            "pairs": [
             13,
             14
            ]
           },
           {
            "edges_x": -0.47600674255512965,
            "edges_y": -0.37216372507626794,
            "ew": 2,
            "node": 14,
            "pairs": [
             13,
             14
            ]
           },
           {
            "edges_x": 0.3835319969169646,
            "edges_y": 0.17590031562464548,
            "ew": 3,
            "node": 1,
            "pairs": [
             1,
             15
            ]
           },
           {
            "edges_x": 0.07100281459452518,
            "edges_y": 0.46645957344798683,
            "ew": 3,
            "node": 15,
            "pairs": [
             1,
             15
            ]
           },
           {
            "edges_x": -0.6917798331610459,
            "edges_y": 0.8396771803699119,
            "ew": 2,
            "node": 2,
            "pairs": [
             2,
             15
            ]
           },
           {
            "edges_x": 0.07100281459452518,
            "edges_y": 0.46645957344798683,
            "ew": 2,
            "node": 15,
            "pairs": [
             2,
             15
            ]
           },
           {
            "edges_x": -1,
            "edges_y": -0.6079518082093948,
            "ew": 1,
            "node": 3,
            "pairs": [
             3,
             15
            ]
           },
           {
            "edges_x": 0.07100281459452518,
            "edges_y": 0.46645957344798683,
            "ew": 1,
            "node": 15,
            "pairs": [
             3,
             15
            ]
           },
           {
            "edges_x": -0.12847614713322708,
            "edges_y": 0.9147807188277042,
            "ew": 1,
            "node": 4,
            "pairs": [
             4,
             15
            ]
           },
           {
            "edges_x": 0.07100281459452518,
            "edges_y": 0.46645957344798683,
            "ew": 1,
            "node": 15,
            "pairs": [
             4,
             15
            ]
           },
           {
            "edges_x": -0.3349392936954114,
            "edges_y": 0.5251424884458904,
            "ew": 4,
            "node": 5,
            "pairs": [
             5,
             15
            ]
           },
           {
            "edges_x": 0.07100281459452518,
            "edges_y": 0.46645957344798683,
            "ew": 4,
            "node": 15,
            "pairs": [
             5,
             15
            ]
           },
           {
            "edges_x": -0.5208188164712826,
            "edges_y": 0.11672104544040951,
            "ew": 3,
            "node": 6,
            "pairs": [
             6,
             15
            ]
           },
           {
            "edges_x": 0.07100281459452518,
            "edges_y": 0.46645957344798683,
            "ew": 3,
            "node": 15,
            "pairs": [
             6,
             15
            ]
           },
           {
            "edges_x": 1,
            "edges_y": 0.12899046670079795,
            "ew": 2,
            "node": 7,
            "pairs": [
             7,
             15
            ]
           },
           {
            "edges_x": 0.07100281459452518,
            "edges_y": 0.46645957344798683,
            "ew": 2,
            "node": 15,
            "pairs": [
             7,
             15
            ]
           },
           {
            "edges_x": 0.10024012459502574,
            "edges_y": -0.3600423296983648,
            "ew": 4,
            "node": 8,
            "pairs": [
             8,
             15
            ]
           },
           {
            "edges_x": 0.07100281459452518,
            "edges_y": 0.46645957344798683,
            "ew": 4,
            "node": 15,
            "pairs": [
             8,
             15
            ]
           },
           {
            "edges_x": -0.8928155976366194,
            "edges_y": 0.39796351362515536,
            "ew": 3,
            "node": 9,
            "pairs": [
             9,
             15
            ]
           },
           {
            "edges_x": 0.07100281459452518,
            "edges_y": 0.46645957344798683,
            "ew": 3,
            "node": 15,
            "pairs": [
             9,
             15
            ]
           },
           {
            "edges_x": -0.22779311656189372,
            "edges_y": -0.7199740053898795,
            "ew": 3,
            "node": 10,
            "pairs": [
             10,
             15
            ]
           },
           {
            "edges_x": 0.07100281459452518,
            "edges_y": 0.46645957344798683,
            "ew": 3,
            "node": 15,
            "pairs": [
             10,
             15
            ]
           },
           {
            "edges_x": -0.6765490520161306,
            "edges_y": -1,
            "ew": 1,
            "node": 11,
            "pairs": [
             11,
             15
            ]
           },
           {
            "edges_x": 0.07100281459452518,
            "edges_y": 0.46645957344798683,
            "ew": 1,
            "node": 15,
            "pairs": [
             11,
             15
            ]
           },
           {
            "edges_x": 0.3330544640109836,
            "edges_y": 1,
            "ew": 2,
            "node": 12,
            "pairs": [
             12,
             15
            ]
           },
           {
            "edges_x": 0.07100281459452518,
            "edges_y": 0.46645957344798683,
            "ew": 2,
            "node": 15,
            "pairs": [
             12,
             15
            ]
           },
           {
            "edges_x": 0.6962554769236644,
            "edges_y": 0.6186010601077849,
            "ew": 2,
            "node": 13,
            "pairs": [
             13,
             15
            ]
           },
           {
            "edges_x": 0.07100281459452518,
            "edges_y": 0.46645957344798683,
            "ew": 2,
            "node": 15,
            "pairs": [
             13,
             15
            ]
           },
           {
            "edges_x": -0.47600674255512965,
            "edges_y": -0.37216372507626794,
            "ew": 3,
            "node": 14,
            "pairs": [
             14,
             15
            ]
           },
           {
            "edges_x": 0.07100281459452518,
            "edges_y": 0.46645957344798683,
            "ew": 3,
            "node": 15,
            "pairs": [
             14,
             15
            ]
           },
           {
            "edges_x": 0.3835319969169646,
            "edges_y": 0.17590031562464548,
            "ew": 4,
            "node": 1,
            "pairs": [
             1,
             16
            ]
           },
           {
            "edges_x": -0.12164969294191152,
            "edges_y": 0.026215788900537218,
            "ew": 4,
            "node": 16,
            "pairs": [
             1,
             16
            ]
           },
           {
            "edges_x": -0.6917798331610459,
            "edges_y": 0.8396771803699119,
            "ew": 4,
            "node": 2,
            "pairs": [
             2,
             16
            ]
           },
           {
            "edges_x": -0.12164969294191152,
            "edges_y": 0.026215788900537218,
            "ew": 4,
            "node": 16,
            "pairs": [
             2,
             16
            ]
           },
           {
            "edges_x": -1,
            "edges_y": -0.6079518082093948,
            "ew": 3,
            "node": 3,
            "pairs": [
             3,
             16
            ]
           },
           {
            "edges_x": -0.12164969294191152,
            "edges_y": 0.026215788900537218,
            "ew": 3,
            "node": 16,
            "pairs": [
             3,
             16
            ]
           },
           {
            "edges_x": -0.12847614713322708,
            "edges_y": 0.9147807188277042,
            "ew": 1,
            "node": 4,
            "pairs": [
             4,
             16
            ]
           },
           {
            "edges_x": -0.12164969294191152,
            "edges_y": 0.026215788900537218,
            "ew": 1,
            "node": 16,
            "pairs": [
             4,
             16
            ]
           },
           {
            "edges_x": -0.3349392936954114,
            "edges_y": 0.5251424884458904,
            "ew": 4,
            "node": 5,
            "pairs": [
             5,
             16
            ]
           },
           {
            "edges_x": -0.12164969294191152,
            "edges_y": 0.026215788900537218,
            "ew": 4,
            "node": 16,
            "pairs": [
             5,
             16
            ]
           },
           {
            "edges_x": -0.5208188164712826,
            "edges_y": 0.11672104544040951,
            "ew": 5,
            "node": 6,
            "pairs": [
             6,
             16
            ]
           },
           {
            "edges_x": -0.12164969294191152,
            "edges_y": 0.026215788900537218,
            "ew": 5,
            "node": 16,
            "pairs": [
             6,
             16
            ]
           },
           {
            "edges_x": 1,
            "edges_y": 0.12899046670079795,
            "ew": 1,
            "node": 7,
            "pairs": [
             7,
             16
            ]
           },
           {
            "edges_x": -0.12164969294191152,
            "edges_y": 0.026215788900537218,
            "ew": 1,
            "node": 16,
            "pairs": [
             7,
             16
            ]
           },
           {
            "edges_x": 0.10024012459502574,
            "edges_y": -0.3600423296983648,
            "ew": 5,
            "node": 8,
            "pairs": [
             8,
             16
            ]
           },
           {
            "edges_x": -0.12164969294191152,
            "edges_y": 0.026215788900537218,
            "ew": 5,
            "node": 16,
            "pairs": [
             8,
             16
            ]
           },
           {
            "edges_x": -0.8928155976366194,
            "edges_y": 0.39796351362515536,
            "ew": 4,
            "node": 9,
            "pairs": [
             9,
             16
            ]
           },
           {
            "edges_x": -0.12164969294191152,
            "edges_y": 0.026215788900537218,
            "ew": 4,
            "node": 16,
            "pairs": [
             9,
             16
            ]
           },
           {
            "edges_x": -0.22779311656189372,
            "edges_y": -0.7199740053898795,
            "ew": 4,
            "node": 10,
            "pairs": [
             10,
             16
            ]
           },
           {
            "edges_x": -0.12164969294191152,
            "edges_y": 0.026215788900537218,
            "ew": 4,
            "node": 16,
            "pairs": [
             10,
             16
            ]
           },
           {
            "edges_x": -0.6765490520161306,
            "edges_y": -1,
            "ew": 3,
            "node": 11,
            "pairs": [
             11,
             16
            ]
           },
           {
            "edges_x": -0.12164969294191152,
            "edges_y": 0.026215788900537218,
            "ew": 3,
            "node": 16,
            "pairs": [
             11,
             16
            ]
           },
           {
            "edges_x": 0.3330544640109836,
            "edges_y": 1,
            "ew": 2,
            "node": 12,
            "pairs": [
             12,
             16
            ]
           },
           {
            "edges_x": -0.12164969294191152,
            "edges_y": 0.026215788900537218,
            "ew": 2,
            "node": 16,
            "pairs": [
             12,
             16
            ]
           },
           {
            "edges_x": 0.6962554769236644,
            "edges_y": 0.6186010601077849,
            "ew": 2,
            "node": 13,
            "pairs": [
             13,
             16
            ]
           },
           {
            "edges_x": -0.12164969294191152,
            "edges_y": 0.026215788900537218,
            "ew": 2,
            "node": 16,
            "pairs": [
             13,
             16
            ]
           },
           {
            "edges_x": -0.47600674255512965,
            "edges_y": -0.37216372507626794,
            "ew": 5,
            "node": 14,
            "pairs": [
             14,
             16
            ]
           },
           {
            "edges_x": -0.12164969294191152,
            "edges_y": 0.026215788900537218,
            "ew": 5,
            "node": 16,
            "pairs": [
             14,
             16
            ]
           },
           {
            "edges_x": 0.07100281459452518,
            "edges_y": 0.46645957344798683,
            "ew": 4,
            "node": 15,
            "pairs": [
             15,
             16
            ]
           },
           {
            "edges_x": -0.12164969294191152,
            "edges_y": 0.026215788900537218,
            "ew": 4,
            "node": 16,
            "pairs": [
             15,
             16
            ]
           },
           {
            "edges_x": 0.3835319969169646,
            "edges_y": 0.17590031562464548,
            "ew": 5,
            "node": 1,
            "pairs": [
             1,
             17
            ]
           },
           {
            "edges_x": 0.47529184582605755,
            "edges_y": -0.7322511769141853,
            "ew": 5,
            "node": 17,
            "pairs": [
             1,
             17
            ]
           },
           {
            "edges_x": -1,
            "edges_y": -0.6079518082093948,
            "ew": 1,
            "node": 3,
            "pairs": [
             3,
             17
            ]
           },
           {
            "edges_x": 0.47529184582605755,
            "edges_y": -0.7322511769141853,
            "ew": 1,
            "node": 17,
            "pairs": [
             3,
             17
            ]
           },
           {
            "edges_x": -0.12847614713322708,
            "edges_y": 0.9147807188277042,
            "ew": 1,
            "node": 4,
            "pairs": [
             4,
             17
            ]
           },
           {
            "edges_x": 0.47529184582605755,
            "edges_y": -0.7322511769141853,
            "ew": 1,
            "node": 17,
            "pairs": [
             4,
             17
            ]
           },
           {
            "edges_x": -0.3349392936954114,
            "edges_y": 0.5251424884458904,
            "ew": 3,
            "node": 5,
            "pairs": [
             5,
             17
            ]
           },
           {
            "edges_x": 0.47529184582605755,
            "edges_y": -0.7322511769141853,
            "ew": 3,
            "node": 17,
            "pairs": [
             5,
             17
            ]
           },
           {
            "edges_x": -0.5208188164712826,
            "edges_y": 0.11672104544040951,
            "ew": 3,
            "node": 6,
            "pairs": [
             6,
             17
            ]
           },
           {
            "edges_x": 0.47529184582605755,
            "edges_y": -0.7322511769141853,
            "ew": 3,
            "node": 17,
            "pairs": [
             6,
             17
            ]
           },
           {
            "edges_x": 1,
            "edges_y": 0.12899046670079795,
            "ew": 1,
            "node": 7,
            "pairs": [
             7,
             17
            ]
           },
           {
            "edges_x": 0.47529184582605755,
            "edges_y": -0.7322511769141853,
            "ew": 1,
            "node": 17,
            "pairs": [
             7,
             17
            ]
           },
           {
            "edges_x": 0.10024012459502574,
            "edges_y": -0.3600423296983648,
            "ew": 2,
            "node": 8,
            "pairs": [
             8,
             17
            ]
           },
           {
            "edges_x": 0.47529184582605755,
            "edges_y": -0.7322511769141853,
            "ew": 2,
            "node": 17,
            "pairs": [
             8,
             17
            ]
           },
           {
            "edges_x": -0.8928155976366194,
            "edges_y": 0.39796351362515536,
            "ew": 4,
            "node": 9,
            "pairs": [
             9,
             17
            ]
           },
           {
            "edges_x": 0.47529184582605755,
            "edges_y": -0.7322511769141853,
            "ew": 4,
            "node": 17,
            "pairs": [
             9,
             17
            ]
           },
           {
            "edges_x": -0.22779311656189372,
            "edges_y": -0.7199740053898795,
            "ew": 4,
            "node": 10,
            "pairs": [
             10,
             17
            ]
           },
           {
            "edges_x": 0.47529184582605755,
            "edges_y": -0.7322511769141853,
            "ew": 4,
            "node": 17,
            "pairs": [
             10,
             17
            ]
           },
           {
            "edges_x": -0.6765490520161306,
            "edges_y": -1,
            "ew": 2,
            "node": 11,
            "pairs": [
             11,
             17
            ]
           },
           {
            "edges_x": 0.47529184582605755,
            "edges_y": -0.7322511769141853,
            "ew": 2,
            "node": 17,
            "pairs": [
             11,
             17
            ]
           },
           {
            "edges_x": 0.3330544640109836,
            "edges_y": 1,
            "ew": 1,
            "node": 12,
            "pairs": [
             12,
             17
            ]
           },
           {
            "edges_x": 0.47529184582605755,
            "edges_y": -0.7322511769141853,
            "ew": 1,
            "node": 17,
            "pairs": [
             12,
             17
            ]
           },
           {
            "edges_x": 0.6962554769236644,
            "edges_y": 0.6186010601077849,
            "ew": 3,
            "node": 13,
            "pairs": [
             13,
             17
            ]
           },
           {
            "edges_x": 0.47529184582605755,
            "edges_y": -0.7322511769141853,
            "ew": 3,
            "node": 17,
            "pairs": [
             13,
             17
            ]
           },
           {
            "edges_x": -0.47600674255512965,
            "edges_y": -0.37216372507626794,
            "ew": 2,
            "node": 14,
            "pairs": [
             14,
             17
            ]
           },
           {
            "edges_x": 0.47529184582605755,
            "edges_y": -0.7322511769141853,
            "ew": 2,
            "node": 17,
            "pairs": [
             14,
             17
            ]
           },
           {
            "edges_x": 0.07100281459452518,
            "edges_y": 0.46645957344798683,
            "ew": 2,
            "node": 15,
            "pairs": [
             15,
             17
            ]
           },
           {
            "edges_x": 0.47529184582605755,
            "edges_y": -0.7322511769141853,
            "ew": 2,
            "node": 17,
            "pairs": [
             15,
             17
            ]
           },
           {
            "edges_x": -0.12164969294191152,
            "edges_y": 0.026215788900537218,
            "ew": 2,
            "node": 16,
            "pairs": [
             16,
             17
            ]
           },
           {
            "edges_x": 0.47529184582605755,
            "edges_y": -0.7322511769141853,
            "ew": 2,
            "node": 17,
            "pairs": [
             16,
             17
            ]
           },
           {
            "edges_x": 0.3835319969169646,
            "edges_y": 0.17590031562464548,
            "ew": 3,
            "node": 1,
            "pairs": [
             1,
             18
            ]
           },
           {
            "edges_x": 0.09460391614818131,
            "edges_y": -0.850465530150146,
            "ew": 3,
            "node": 18,
            "pairs": [
             1,
             18
            ]
           },
           {
            "edges_x": -0.6917798331610459,
            "edges_y": 0.8396771803699119,
            "ew": 2,
            "node": 2,
            "pairs": [
             2,
             18
            ]
           },
           {
            "edges_x": 0.09460391614818131,
            "edges_y": -0.850465530150146,
            "ew": 2,
            "node": 18,
            "pairs": [
             2,
             18
            ]
           },
           {
            "edges_x": -1,
            "edges_y": -0.6079518082093948,
            "ew": 1,
            "node": 3,
            "pairs": [
             3,
             18
            ]
           },
           {
            "edges_x": 0.09460391614818131,
            "edges_y": -0.850465530150146,
            "ew": 1,
            "node": 18,
            "pairs": [
             3,
             18
            ]
           },
           {
            "edges_x": -0.12847614713322708,
            "edges_y": 0.9147807188277042,
            "ew": 2,
            "node": 4,
            "pairs": [
             4,
             18
            ]
           },
           {
            "edges_x": 0.09460391614818131,
            "edges_y": -0.850465530150146,
            "ew": 2,
            "node": 18,
            "pairs": [
             4,
             18
            ]
           },
           {
            "edges_x": -0.3349392936954114,
            "edges_y": 0.5251424884458904,
            "ew": 5,
            "node": 5,
            "pairs": [
             5,
             18
            ]
           },
           {
            "edges_x": 0.09460391614818131,
            "edges_y": -0.850465530150146,
            "ew": 5,
            "node": 18,
            "pairs": [
             5,
             18
            ]
           },
           {
            "edges_x": -0.5208188164712826,
            "edges_y": 0.11672104544040951,
            "ew": 4,
            "node": 6,
            "pairs": [
             6,
             18
            ]
           },
           {
            "edges_x": 0.09460391614818131,
            "edges_y": -0.850465530150146,
            "ew": 4,
            "node": 18,
            "pairs": [
             6,
             18
            ]
           },
           {
            "edges_x": 1,
            "edges_y": 0.12899046670079795,
            "ew": 2,
            "node": 7,
            "pairs": [
             7,
             18
            ]
           },
           {
            "edges_x": 0.09460391614818131,
            "edges_y": -0.850465530150146,
            "ew": 2,
            "node": 18,
            "pairs": [
             7,
             18
            ]
           },
           {
            "edges_x": 0.10024012459502574,
            "edges_y": -0.3600423296983648,
            "ew": 4,
            "node": 8,
            "pairs": [
             8,
             18
            ]
           },
           {
            "edges_x": 0.09460391614818131,
            "edges_y": -0.850465530150146,
            "ew": 4,
            "node": 18,
            "pairs": [
             8,
             18
            ]
           },
           {
            "edges_x": -0.8928155976366194,
            "edges_y": 0.39796351362515536,
            "ew": 4,
            "node": 9,
            "pairs": [
             9,
             18
            ]
           },
           {
            "edges_x": 0.09460391614818131,
            "edges_y": -0.850465530150146,
            "ew": 4,
            "node": 18,
            "pairs": [
             9,
             18
            ]
           },
           {
            "edges_x": -0.22779311656189372,
            "edges_y": -0.7199740053898795,
            "ew": 4,
            "node": 10,
            "pairs": [
             10,
             18
            ]
           },
           {
            "edges_x": 0.09460391614818131,
            "edges_y": -0.850465530150146,
            "ew": 4,
            "node": 18,
            "pairs": [
             10,
             18
            ]
           },
           {
            "edges_x": -0.6765490520161306,
            "edges_y": -1,
            "ew": 2,
            "node": 11,
            "pairs": [
             11,
             18
            ]
           },
           {
            "edges_x": 0.09460391614818131,
            "edges_y": -0.850465530150146,
            "ew": 2,
            "node": 18,
            "pairs": [
             11,
             18
            ]
           },
           {
            "edges_x": 0.3330544640109836,
            "edges_y": 1,
            "ew": 2,
            "node": 12,
            "pairs": [
             12,
             18
            ]
           },
           {
            "edges_x": 0.09460391614818131,
            "edges_y": -0.850465530150146,
            "ew": 2,
            "node": 18,
            "pairs": [
             12,
             18
            ]
           },
           {
            "edges_x": 0.6962554769236644,
            "edges_y": 0.6186010601077849,
            "ew": 2,
            "node": 13,
            "pairs": [
             13,
             18
            ]
           },
           {
            "edges_x": 0.09460391614818131,
            "edges_y": -0.850465530150146,
            "ew": 2,
            "node": 18,
            "pairs": [
             13,
             18
            ]
           },
           {
            "edges_x": -0.47600674255512965,
            "edges_y": -0.37216372507626794,
            "ew": 3,
            "node": 14,
            "pairs": [
             14,
             18
            ]
           },
           {
            "edges_x": 0.09460391614818131,
            "edges_y": -0.850465530150146,
            "ew": 3,
            "node": 18,
            "pairs": [
             14,
             18
            ]
           },
           {
            "edges_x": 0.07100281459452518,
            "edges_y": 0.46645957344798683,
            "ew": 4,
            "node": 15,
            "pairs": [
             15,
             18
            ]
           },
           {
            "edges_x": 0.09460391614818131,
            "edges_y": -0.850465530150146,
            "ew": 4,
            "node": 18,
            "pairs": [
             15,
             18
            ]
           },
           {
            "edges_x": -0.12164969294191152,
            "edges_y": 0.026215788900537218,
            "ew": 4,
            "node": 16,
            "pairs": [
             16,
             18
            ]
           },
           {
            "edges_x": 0.09460391614818131,
            "edges_y": -0.850465530150146,
            "ew": 4,
            "node": 18,
            "pairs": [
             16,
             18
            ]
           },
           {
            "edges_x": 0.47529184582605755,
            "edges_y": -0.7322511769141853,
            "ew": 3,
            "node": 17,
            "pairs": [
             17,
             18
            ]
           },
           {
            "edges_x": 0.09460391614818131,
            "edges_y": -0.850465530150146,
            "ew": 3,
            "node": 18,
            "pairs": [
             17,
             18
            ]
           },
           {
            "edges_x": 0.3835319969169646,
            "edges_y": 0.17590031562464548,
            "ew": 4,
            "node": 1,
            "pairs": [
             1,
             19
            ]
           },
           {
            "edges_x": -0.9713518191068778,
            "edges_y": -0.08925257536748399,
            "ew": 4,
            "node": 19,
            "pairs": [
             1,
             19
            ]
           },
           {
            "edges_x": -0.6917798331610459,
            "edges_y": 0.8396771803699119,
            "ew": 2,
            "node": 2,
            "pairs": [
             2,
             19
            ]
           },
           {
            "edges_x": -0.9713518191068778,
            "edges_y": -0.08925257536748399,
            "ew": 2,
            "node": 19,
            "pairs": [
             2,
             19
            ]
           },
           {
            "edges_x": -1,
            "edges_y": -0.6079518082093948,
            "ew": 2,
            "node": 3,
            "pairs": [
             3,
             19
            ]
           },
           {
            "edges_x": -0.9713518191068778,
            "edges_y": -0.08925257536748399,
            "ew": 2,
            "node": 19,
            "pairs": [
             3,
             19
            ]
           },
           {
            "edges_x": -0.3349392936954114,
            "edges_y": 0.5251424884458904,
            "ew": 3,
            "node": 5,
            "pairs": [
             5,
             19
            ]
           },
           {
            "edges_x": -0.9713518191068778,
            "edges_y": -0.08925257536748399,
            "ew": 3,
            "node": 19,
            "pairs": [
             5,
             19
            ]
           },
           {
            "edges_x": -0.5208188164712826,
            "edges_y": 0.11672104544040951,
            "ew": 3,
            "node": 6,
            "pairs": [
             6,
             19
            ]
           },
           {
            "edges_x": -0.9713518191068778,
            "edges_y": -0.08925257536748399,
            "ew": 3,
            "node": 19,
            "pairs": [
             6,
             19
            ]
           },
           {
            "edges_x": 0.10024012459502574,
            "edges_y": -0.3600423296983648,
            "ew": 3,
            "node": 8,
            "pairs": [
             8,
             19
            ]
           },
           {
            "edges_x": -0.9713518191068778,
            "edges_y": -0.08925257536748399,
            "ew": 3,
            "node": 19,
            "pairs": [
             8,
             19
            ]
           },
           {
            "edges_x": -0.8928155976366194,
            "edges_y": 0.39796351362515536,
            "ew": 3,
            "node": 9,
            "pairs": [
             9,
             19
            ]
           },
           {
            "edges_x": -0.9713518191068778,
            "edges_y": -0.08925257536748399,
            "ew": 3,
            "node": 19,
            "pairs": [
             9,
             19
            ]
           },
           {
            "edges_x": -0.22779311656189372,
            "edges_y": -0.7199740053898795,
            "ew": 3,
            "node": 10,
            "pairs": [
             10,
             19
            ]
           },
           {
            "edges_x": -0.9713518191068778,
            "edges_y": -0.08925257536748399,
            "ew": 3,
            "node": 19,
            "pairs": [
             10,
             19
            ]
           },
           {
            "edges_x": -0.6765490520161306,
            "edges_y": -1,
            "ew": 2,
            "node": 11,
            "pairs": [
             11,
             19
            ]
           },
           {
            "edges_x": -0.9713518191068778,
            "edges_y": -0.08925257536748399,
            "ew": 2,
            "node": 19,
            "pairs": [
             11,
             19
            ]
           },
           {
            "edges_x": 0.3330544640109836,
            "edges_y": 1,
            "ew": 1,
            "node": 12,
            "pairs": [
             12,
             19
            ]
           },
           {
            "edges_x": -0.9713518191068778,
            "edges_y": -0.08925257536748399,
            "ew": 1,
            "node": 19,
            "pairs": [
             12,
             19
            ]
           },
           {
            "edges_x": 0.6962554769236644,
            "edges_y": 0.6186010601077849,
            "ew": 2,
            "node": 13,
            "pairs": [
             13,
             19
            ]
           },
           {
            "edges_x": -0.9713518191068778,
            "edges_y": -0.08925257536748399,
            "ew": 2,
            "node": 19,
            "pairs": [
             13,
             19
            ]
           },
           {
            "edges_x": -0.47600674255512965,
            "edges_y": -0.37216372507626794,
            "ew": 3,
            "node": 14,
            "pairs": [
             14,
             19
            ]
           },
           {
            "edges_x": -0.9713518191068778,
            "edges_y": -0.08925257536748399,
            "ew": 3,
            "node": 19,
            "pairs": [
             14,
             19
            ]
           },
           {
            "edges_x": 0.07100281459452518,
            "edges_y": 0.46645957344798683,
            "ew": 3,
            "node": 15,
            "pairs": [
             15,
             19
            ]
           },
           {
            "edges_x": -0.9713518191068778,
            "edges_y": -0.08925257536748399,
            "ew": 3,
            "node": 19,
            "pairs": [
             15,
             19
            ]
           },
           {
            "edges_x": -0.12164969294191152,
            "edges_y": 0.026215788900537218,
            "ew": 4,
            "node": 16,
            "pairs": [
             16,
             19
            ]
           },
           {
            "edges_x": -0.9713518191068778,
            "edges_y": -0.08925257536748399,
            "ew": 4,
            "node": 19,
            "pairs": [
             16,
             19
            ]
           },
           {
            "edges_x": 0.47529184582605755,
            "edges_y": -0.7322511769141853,
            "ew": 2,
            "node": 17,
            "pairs": [
             17,
             19
            ]
           },
           {
            "edges_x": -0.9713518191068778,
            "edges_y": -0.08925257536748399,
            "ew": 2,
            "node": 19,
            "pairs": [
             17,
             19
            ]
           },
           {
            "edges_x": 0.09460391614818131,
            "edges_y": -0.850465530150146,
            "ew": 2,
            "node": 18,
            "pairs": [
             18,
             19
            ]
           },
           {
            "edges_x": -0.9713518191068778,
            "edges_y": -0.08925257536748399,
            "ew": 2,
            "node": 19,
            "pairs": [
             18,
             19
            ]
           },
           {
            "edges_x": 0.3835319969169646,
            "edges_y": 0.17590031562464548,
            "ew": 4,
            "node": 1,
            "pairs": [
             1,
             20
            ]
           },
           {
            "edges_x": 0.4952483370121168,
            "edges_y": -0.25344841560324227,
            "ew": 4,
            "node": 20,
            "pairs": [
             1,
             20
            ]
           },
           {
            "edges_x": -0.6917798331610459,
            "edges_y": 0.8396771803699119,
            "ew": 1,
            "node": 2,
            "pairs": [
             2,
             20
            ]
           },
           {
            "edges_x": 0.4952483370121168,
            "edges_y": -0.25344841560324227,
            "ew": 1,
            "node": 20,
            "pairs": [
             2,
             20
            ]
           },
           {
            "edges_x": -1,
            "edges_y": -0.6079518082093948,
            "ew": 1,
            "node": 3,
            "pairs": [
             3,
             20
            ]
           },
           {
            "edges_x": 0.4952483370121168,
            "edges_y": -0.25344841560324227,
            "ew": 1,
            "node": 20,
            "pairs": [
             3,
             20
            ]
           },
           {
            "edges_x": -0.12847614713322708,
            "edges_y": 0.9147807188277042,
            "ew": 2,
            "node": 4,
            "pairs": [
             4,
             20
            ]
           },
           {
            "edges_x": 0.4952483370121168,
            "edges_y": -0.25344841560324227,
            "ew": 2,
            "node": 20,
            "pairs": [
             4,
             20
            ]
           },
           {
            "edges_x": -0.3349392936954114,
            "edges_y": 0.5251424884458904,
            "ew": 4,
            "node": 5,
            "pairs": [
             5,
             20
            ]
           },
           {
            "edges_x": 0.4952483370121168,
            "edges_y": -0.25344841560324227,
            "ew": 4,
            "node": 20,
            "pairs": [
             5,
             20
            ]
           },
           {
            "edges_x": -0.5208188164712826,
            "edges_y": 0.11672104544040951,
            "ew": 3,
            "node": 6,
            "pairs": [
             6,
             20
            ]
           },
           {
            "edges_x": 0.4952483370121168,
            "edges_y": -0.25344841560324227,
            "ew": 3,
            "node": 20,
            "pairs": [
             6,
             20
            ]
           },
           {
            "edges_x": 1,
            "edges_y": 0.12899046670079795,
            "ew": 3,
            "node": 7,
            "pairs": [
             7,
             20
            ]
           },
           {
            "edges_x": 0.4952483370121168,
            "edges_y": -0.25344841560324227,
            "ew": 3,
            "node": 20,
            "pairs": [
             7,
             20
            ]
           },
           {
            "edges_x": 0.10024012459502574,
            "edges_y": -0.3600423296983648,
            "ew": 4,
            "node": 8,
            "pairs": [
             8,
             20
            ]
           },
           {
            "edges_x": 0.4952483370121168,
            "edges_y": -0.25344841560324227,
            "ew": 4,
            "node": 20,
            "pairs": [
             8,
             20
            ]
           },
           {
            "edges_x": -0.8928155976366194,
            "edges_y": 0.39796351362515536,
            "ew": 3,
            "node": 9,
            "pairs": [
             9,
             20
            ]
           },
           {
            "edges_x": 0.4952483370121168,
            "edges_y": -0.25344841560324227,
            "ew": 3,
            "node": 20,
            "pairs": [
             9,
             20
            ]
           },
           {
            "edges_x": -0.22779311656189372,
            "edges_y": -0.7199740053898795,
            "ew": 4,
            "node": 10,
            "pairs": [
             10,
             20
            ]
           },
           {
            "edges_x": 0.4952483370121168,
            "edges_y": -0.25344841560324227,
            "ew": 4,
            "node": 20,
            "pairs": [
             10,
             20
            ]
           },
           {
            "edges_x": -0.6765490520161306,
            "edges_y": -1,
            "ew": 1,
            "node": 11,
            "pairs": [
             11,
             20
            ]
           },
           {
            "edges_x": 0.4952483370121168,
            "edges_y": -0.25344841560324227,
            "ew": 1,
            "node": 20,
            "pairs": [
             11,
             20
            ]
           },
           {
            "edges_x": 0.3330544640109836,
            "edges_y": 1,
            "ew": 2,
            "node": 12,
            "pairs": [
             12,
             20
            ]
           },
           {
            "edges_x": 0.4952483370121168,
            "edges_y": -0.25344841560324227,
            "ew": 2,
            "node": 20,
            "pairs": [
             12,
             20
            ]
           },
           {
            "edges_x": 0.6962554769236644,
            "edges_y": 0.6186010601077849,
            "ew": 3,
            "node": 13,
            "pairs": [
             13,
             20
            ]
           },
           {
            "edges_x": 0.4952483370121168,
            "edges_y": -0.25344841560324227,
            "ew": 3,
            "node": 20,
            "pairs": [
             13,
             20
            ]
           },
           {
            "edges_x": -0.47600674255512965,
            "edges_y": -0.37216372507626794,
            "ew": 3,
            "node": 14,
            "pairs": [
             14,
             20
            ]
           },
           {
            "edges_x": 0.4952483370121168,
            "edges_y": -0.25344841560324227,
            "ew": 3,
            "node": 20,
            "pairs": [
             14,
             20
            ]
           },
           {
            "edges_x": 0.07100281459452518,
            "edges_y": 0.46645957344798683,
            "ew": 4,
            "node": 15,
            "pairs": [
             15,
             20
            ]
           },
           {
            "edges_x": 0.4952483370121168,
            "edges_y": -0.25344841560324227,
            "ew": 4,
            "node": 20,
            "pairs": [
             15,
             20
            ]
           },
           {
            "edges_x": -0.12164969294191152,
            "edges_y": 0.026215788900537218,
            "ew": 3,
            "node": 16,
            "pairs": [
             16,
             20
            ]
           },
           {
            "edges_x": 0.4952483370121168,
            "edges_y": -0.25344841560324227,
            "ew": 3,
            "node": 20,
            "pairs": [
             16,
             20
            ]
           },
           {
            "edges_x": 0.47529184582605755,
            "edges_y": -0.7322511769141853,
            "ew": 4,
            "node": 17,
            "pairs": [
             17,
             20
            ]
           },
           {
            "edges_x": 0.4952483370121168,
            "edges_y": -0.25344841560324227,
            "ew": 4,
            "node": 20,
            "pairs": [
             17,
             20
            ]
           },
           {
            "edges_x": 0.09460391614818131,
            "edges_y": -0.850465530150146,
            "ew": 4,
            "node": 18,
            "pairs": [
             18,
             20
            ]
           },
           {
            "edges_x": 0.4952483370121168,
            "edges_y": -0.25344841560324227,
            "ew": 4,
            "node": 20,
            "pairs": [
             18,
             20
            ]
           },
           {
            "edges_x": -0.9713518191068778,
            "edges_y": -0.08925257536748399,
            "ew": 2,
            "node": 19,
            "pairs": [
             19,
             20
            ]
           },
           {
            "edges_x": 0.4952483370121168,
            "edges_y": -0.25344841560324227,
            "ew": 2,
            "node": 20,
            "pairs": [
             19,
             20
            ]
           }
          ]
         },
         "encoding": {
          "detail": {
           "field": "pairs",
           "type": "ordinal"
          },
          "x": {
           "axis": null,
           "field": "edges_x",
           "type": "quantitative"
          },
          "y": {
           "axis": null,
           "field": "edges_y",
           "type": "quantitative"
          }
         },
         "height": 400,
         "mark": {
          "clip": false,
          "color": "gray",
          "opacity": 0.5,
          "size": 0.8,
          "type": "line"
         },
         "width": 600
        },
        {
         "data": {
          "values": [
           {
            "centrality": 0.00524887717870174,
            "keywords": "x1",
            "node_x": 0.3835319969169646,
            "node_y": 0.17590031562464548
           },
           {
            "centrality": 0.03394853817970433,
            "keywords": "x2",
            "node_x": -0.6917798331610459,
            "node_y": 0.8396771803699119
           },
           {
            "centrality": 0.06345889232886137,
            "keywords": "x3",
            "node_x": -1,
            "node_y": -0.6079518082093948
           },
           {
            "centrality": 0.246836548384536,
            "keywords": "x4",
            "node_x": -0.12847614713322708,
            "node_y": 0.9147807188277042
           },
           {
            "centrality": 0,
            "keywords": "x5",
            "node_x": -0.3349392936954114,
            "node_y": 0.5251424884458904
           },
           {
            "centrality": 0,
            "keywords": "x6",
            "node_x": -0.5208188164712826,
            "node_y": 0.11672104544040951
           },
           {
            "centrality": 0.05292970989565417,
            "keywords": "x7",
            "node_x": 1,
            "node_y": 0.12899046670079795
           },
           {
            "centrality": 0,
            "keywords": "x8",
            "node_x": 0.10024012459502574,
            "node_y": -0.3600423296983648
           },
           {
            "centrality": 0.0036244457297088884,
            "keywords": "x9",
            "node_x": -0.8928155976366194,
            "node_y": 0.39796351362515536
           },
           {
            "centrality": 0,
            "keywords": "x10",
            "node_x": -0.22779311656189372,
            "node_y": -0.7199740053898795
           },
           {
            "centrality": 0.01028838435959179,
            "keywords": "x11",
            "node_x": -0.6765490520161306,
            "node_y": -1
           },
           {
            "centrality": 0.24601643626411426,
            "keywords": "x12",
            "node_x": 0.3330544640109836,
            "node_y": 1
           },
           {
            "centrality": 0.06659606112650489,
            "keywords": "x13",
            "node_x": 0.6962554769236644,
            "node_y": 0.6186010601077849
           },
           {
            "centrality": 0,
            "keywords": "x14",
            "node_x": -0.47600674255512965,
            "node_y": -0.37216372507626794
           },
           {
            "centrality": 0.004083570750237416,
            "keywords": "x15",
            "node_x": 0.07100281459452518,
            "node_y": 0.46645957344798683
           },
           {
            "centrality": 0.0016244314489928524,
            "keywords": "x16",
            "node_x": -0.12164969294191152,
            "node_y": 0.026215788900537218
           },
           {
            "centrality": 0.03125389307019854,
            "keywords": "x17",
            "node_x": 0.47529184582605755,
            "node_y": -0.7322511769141853
           },
           {
            "centrality": 0,
            "keywords": "x18",
            "node_x": 0.09460391614818131,
            "node_y": -0.850465530150146
           },
           {
            "centrality": 0.0010346378767431398,
            "keywords": "x19",
            "node_x": -0.9713518191068778,
            "node_y": -0.08925257536748399
           },
           {
            "centrality": 0.010516319288249112,
            "keywords": "x20",
            "node_x": 0.4952483370121168,
            "node_y": -0.25344841560324227
           }
          ]
         },
         "layer": [
          {
           "encoding": {
            "color": {
             "field": "centrality",
             "scale": {
              "scheme": "blues"
             },
             "type": "quantitative"
            },
            "size": {
             "field": null,
             "legend": null
            },
            "tooltip": [
             {
              "field": "keywords",
              "type": "nominal"
             }
            ],
            "x": {
             "axis": null,
             "field": "node_x",
             "type": "quantitative"
            },
            "y": {
             "axis": null,
             "field": "node_y",
             "type": "quantitative"
            }
           },
           "mark": {
            "clip": false,
            "color": "#9ecae9",
            "opacity": 0.9,
            "size": 500,
            "type": "circle"
           },
           "selection": {
            "grid": {
             "bind": "scales",
             "type": "interval"
            }
           }
          },
          {
           "encoding": {
            "text": {
             "field": "keywords",
             "type": "nominal"
            },
            "x": {
             "axis": null,
             "field": "node_x",
             "type": "quantitative"
            },
            "y": {
             "axis": null,
             "field": "node_y",
             "type": "quantitative"
            }
           },
           "mark": {
            "clip": false,
            "opacity": 1,
            "size": 10,
            "type": "text"
           }
          }
         ]
        }
       ],
       "view": {
        "stroke": null
       }
      },
      "image/png": "[encoded data removed]",
      "image/svg+xml": [
       "<?xml version=\"1.0\" encoding=\"utf-8\"?>\n",
       "<!DOCTYPE svg PUBLIC \"-//W3C//DTD SVG 1.1//EN\" \"http://www.w3.org/Graphics/SVG/1.1/DTD/svg11.dtd\">\n",
       "<svg class=\"marks\" width=\"700\" height=\"434\" viewBox=\"0 0 700 434\" version=\"1.1\" xmlns=\"http://www.w3.org/2000/svg\" xmlns:xlink=\"http://www.w3.org/1999/xlink\"><defs><linearGradient id=\"gradient_0\" x1=\"0\" x2=\"0\" y1=\"1\" y2=\"0\"><stop offset=\"0\" stop-color=\"rgb(207, 225, 242)\"></stop><stop offset=\"0.08102527818871808\" stop-color=\"rgb(193, 218, 237)\"></stop><stop offset=\"0.16205055637743615\" stop-color=\"rgb(176, 210, 232)\"></stop><stop offset=\"0.24307583456615423\" stop-color=\"rgb(157, 200, 226)\"></stop><stop offset=\"0.3241011127548723\" stop-color=\"rgb(136, 189, 220)\"></stop><stop offset=\"0.40512639094359043\" stop-color=\"rgb(115, 177, 215)\"></stop><stop offset=\"0.48615166913230845\" stop-color=\"rgb(94, 165, 208)\"></stop><stop offset=\"0.5671769473210266\" stop-color=\"rgb(76, 152, 201)\"></stop><stop offset=\"0.6482022255097446\" stop-color=\"rgb(59, 138, 194)\"></stop><stop offset=\"0.7292275036984627\" stop-color=\"rgb(44, 124, 186)\"></stop><stop offset=\"0.8102527818871809\" stop-color=\"rgb(31, 109, 177)\"></stop><stop offset=\"0.8912780600758989\" stop-color=\"rgb(19, 94, 165)\"></stop><stop offset=\"0.9723033382646169\" stop-color=\"rgb(12, 79, 150)\"></stop><stop offset=\"1\" stop-color=\"rgb(10, 74, 144)\"></stop></linearGradient></defs><rect width=\"700\" height=\"434\" fill=\"white\"></rect><g fill=\"none\" stroke-miterlimit=\"10\" transform=\"translate(17,17)\"><g class=\"mark-group role-frame root\" role=\"graphics-object\" aria-roledescription=\"group mark container\"><g transform=\"translate(0,0)\"><path class=\"background\" aria-hidden=\"true\" d=\"M0,0h600v400h-600Z\"></path><g><g class=\"mark-group role-scope layer_0_pathgroup\" role=\"graphics-object\" aria-roledescription=\"group mark container\"><g transform=\"translate(0,0)\"><path class=\"background\" aria-hidden=\"true\" d=\"M0,0h600v400h-600Z\"></path><g><g class=\"mark-line role-mark layer_0_marks\" role=\"graphics-object\" aria-roledescription=\"line mark container\" pointer-events=\"none\"><path aria-label=\"edges_x: -0.691779833161; edges_y: 0.83967718037; pairs: 1,2\" role=\"graphics-symbol\" aria-roledescription=\"line mark\" d=\"M92.46605005168624,32.06456392601762L415.0595990750894,164.8199368750709\" stroke=\"gray\" stroke-width=\"0.8\" opacity=\"0.5\"></path></g></g><path class=\"foreground\" aria-hidden=\"true\" d=\"\" display=\"none\"></path></g><g transform=\"translate(0,0)\"><path class=\"background\" aria-hidden=\"true\" d=\"M0,0h600v400h-600Z\"></path><g><g class=\"mark-line role-mark layer_0_marks\" role=\"graphics-object\" aria-roledescription=\"line mark container\" pointer-events=\"none\"><path aria-label=\"edges_x: -1; edges_y: -0.607951808209; pairs: 1,3\" role=\"graphics-symbol\" aria-roledescription=\"line mark\" d=\"M0,321.590361641879L415.0595990750894,164.8199368750709\" stroke=\"gray\" stroke-width=\"0.8\" opacity=\"0.5\"></path></g></g><path class=\"foreground\" aria-hidden=\"true\" d=\"\" display=\"none\"></path></g><g transform=\"translate(0,0)\"><path class=\"background\" aria-hidden=\"true\" d=\"M0,0h600v400h-600Z\"></path><g><g class=\"mark-line role-mark layer_0_marks\" role=\"graphics-object\" aria-roledescription=\"line mark container\" pointer-events=\"none\"><path aria-label=\"edges_x: -1; edges_y: -0.607951808209; pairs: 2,3\" role=\"graphics-symbol\" aria-roledescription=\"line mark\" d=\"M0,321.590361641879L92.46605005168624,32.06456392601762\" stroke=\"gray\" stroke-width=\"0.8\" opacity=\"0.5\"></path></g></g><path class=\"foreground\" aria-hidden=\"true\" d=\"\" display=\"none\"></path></g><g transform=\"translate(0,0)\"><path class=\"background\" aria-hidden=\"true\" d=\"M0,0h600v400h-600Z\"></path><g><g class=\"mark-line role-mark layer_0_marks\" role=\"graphics-object\" aria-roledescription=\"line mark container\" pointer-events=\"none\"><path aria-label=\"edges_x: -0.128476147133; edges_y: 0.914780718828; pairs: 1,4\" role=\"graphics-symbol\" aria-roledescription=\"line mark\" d=\"M261.4571558600319,17.043856234459163L415.0595990750894,164.8199368750709\" stroke=\"gray\" stroke-width=\"0.8\" opacity=\"0.5\"></path></g></g><path class=\"foreground\" aria-hidden=\"true\" d=\"\" display=\"none\"></path></g><g transform=\"translate(0,0)\"><path class=\"background\" aria-hidden=\"true\" d=\"M0,0h600v400h-600Z\"></path><g><g class=\"mark-line role-mark layer_0_marks\" role=\"graphics-object\" aria-roledescription=\"line mark container\" pointer-events=\"none\"><path aria-label=\"edges_x: -0.691779833161; edges_y: 0.83967718037; pairs: 2,4\" role=\"graphics-symbol\" aria-roledescription=\"line mark\" d=\"M92.46605005168624,32.06456392601762L261.4571558600319,17.043856234459163\" stroke=\"gray\" stroke-width=\"0.8\" opacity=\"0.5\"></path></g></g><path class=\"foreground\" aria-hidden=\"true\" d=\"\" display=\"none\"></path></g><g transform=\"translate(0,0)\"><path class=\"background\" aria-hidden=\"true\" d=\"M0,0h600v400h-600Z\"></path><g><g class=\"mark-line role-mark layer_0_marks\" role=\"graphics-object\" aria-roledescription=\"line mark container\" pointer-events=\"none\"><path aria-label=\"edges_x: -1; edges_y: -0.607951808209; pairs: 3,4\" role=\"graphics-symbol\" aria-roledescription=\"line mark\" d=\"M0,321.590361641879L261.4571558600319,17.043856234459163\" stroke=\"gray\" stroke-width=\"0.8\" opacity=\"0.5\"></path></g></g><path class=\"foreground\" aria-hidden=\"true\" d=\"\" display=\"none\"></path></g><g transform=\"translate(0,0)\"><path class=\"background\" aria-hidden=\"true\" d=\"M0,0h600v400h-600Z\"></path><g><g class=\"mark-line role-mark layer_0_marks\" role=\"graphics-object\" aria-roledescription=\"line mark container\" pointer-events=\"none\"><path aria-label=\"edges_x: -0.334939293695; edges_y: 0.525142488446; pairs: 1,5\" role=\"graphics-symbol\" aria-roledescription=\"line mark\" d=\"M199.51821189137658,94.97150231082192L415.0595990750894,164.8199368750709\" stroke=\"gray\" stroke-width=\"0.8\" opacity=\"0.5\"></path></g></g><path class=\"foreground\" aria-hidden=\"true\" d=\"\" display=\"none\"></path></g><g transform=\"translate(0,0)\"><path class=\"background\" aria-hidden=\"true\" d=\"M0,0h600v400h-600Z\"></path><g><g class=\"mark-line role-mark layer_0_marks\" role=\"graphics-object\" aria-roledescription=\"line mark container\" pointer-events=\"none\"><path aria-label=\"edges_x: -0.691779833161; edges_y: 0.83967718037; pairs: 2,5\" role=\"graphics-symbol\" aria-roledescription=\"line mark\" d=\"M92.46605005168624,32.06456392601762L199.51821189137658,94.97150231082192\" stroke=\"gray\" stroke-width=\"0.8\" opacity=\"0.5\"></path></g></g><path class=\"foreground\" aria-hidden=\"true\" d=\"\" display=\"none\"></path></g><g transform=\"translate(0,0)\"><path class=\"background\" aria-hidden=\"true\" d=\"M0,0h600v400h-600Z\"></path><g><g class=\"mark-line role-mark layer_0_marks\" role=\"graphics-object\" aria-roledescription=\"line mark container\" pointer-events=\"none\"><path aria-label=\"edges_x: -1; edges_y: -0.607951808209; pairs: 3,5\" role=\"graphics-symbol\" aria-roledescription=\"line mark\" d=\"M0,321.590361641879L199.51821189137658,94.97150231082192\" stroke=\"gray\" stroke-width=\"0.8\" opacity=\"0.5\"></path></g></g><path class=\"foreground\" aria-hidden=\"true\" d=\"\" display=\"none\"></path></g><g transform=\"translate(0,0)\"><path class=\"background\" aria-hidden=\"true\" d=\"M0,0h600v400h-600Z\"></path><g><g class=\"mark-line role-mark layer_0_marks\" role=\"graphics-object\" aria-roledescription=\"line mark container\" pointer-events=\"none\"><path aria-label=\"edges_x: -0.334939293695; edges_y: 0.525142488446; pairs: 4,5\" role=\"graphics-symbol\" aria-roledescription=\"line mark\" d=\"M199.51821189137658,94.97150231082192L261.4571558600319,17.043856234459163\" stroke=\"gray\" stroke-width=\"0.8\" opacity=\"0.5\"></path></g></g><path class=\"foreground\" aria-hidden=\"true\" d=\"\" display=\"none\"></path></g><g transform=\"translate(0,0)\"><path class=\"background\" aria-hidden=\"true\" d=\"M0,0h600v400h-600Z\"></path><g><g class=\"mark-line role-mark layer_0_marks\" role=\"graphics-object\" aria-roledescription=\"line mark container\" pointer-events=\"none\"><path aria-label=\"edges_x: -0.520818816471; edges_y: 0.11672104544; pairs: 1,6\" role=\"graphics-symbol\" aria-roledescription=\"line mark\" d=\"M143.75435505861523,176.6557909119181L415.0595990750894,164.8199368750709\" stroke=\"gray\" stroke-width=\"0.8\" opacity=\"0.5\"></path></g></g><path class=\"foreground\" aria-hidden=\"true\" d=\"\" display=\"none\"></path></g><g transform=\"translate(0,0)\"><path class=\"background\" aria-hidden=\"true\" d=\"M0,0h600v400h-600Z\"></path><g><g class=\"mark-line role-mark layer_0_marks\" role=\"graphics-object\" aria-roledescription=\"line mark container\" pointer-events=\"none\"><path aria-label=\"edges_x: -0.691779833161; edges_y: 0.83967718037; pairs: 2,6\" role=\"graphics-symbol\" aria-roledescription=\"line mark\" d=\"M92.46605005168624,32.06456392601762L143.75435505861523,176.6557909119181\" stroke=\"gray\" stroke-width=\"0.8\" opacity=\"0.5\"></path></g></g><path class=\"foreground\" aria-hidden=\"true\" d=\"\" display=\"none\"></path></g><g transform=\"translate(0,0)\"><path class=\"background\" aria-hidden=\"true\" d=\"M0,0h600v400h-600Z\"></path><g><g class=\"mark-line role-mark layer_0_marks\" role=\"graphics-object\" aria-roledescription=\"line mark container\" pointer-events=\"none\"><path aria-label=\"edges_x: -1; edges_y: -0.607951808209; pairs: 3,6\" role=\"graphics-symbol\" aria-roledescription=\"line mark\" d=\"M0,321.590361641879L143.75435505861523,176.6557909119181\" stroke=\"gray\" stroke-width=\"0.8\" opacity=\"0.5\"></path></g></g><path class=\"foreground\" aria-hidden=\"true\" d=\"\" display=\"none\"></path></g><g transform=\"translate(0,0)\"><path class=\"background\" aria-hidden=\"true\" d=\"M0,0h600v400h-600Z\"></path><g><g class=\"mark-line role-mark layer_0_marks\" role=\"graphics-object\" aria-roledescription=\"line mark container\" pointer-events=\"none\"><path aria-label=\"edges_x: -0.520818816471; edges_y: 0.11672104544; pairs: 4,6\" role=\"graphics-symbol\" aria-roledescription=\"line mark\" d=\"M143.75435505861523,176.6557909119181L261.4571558600319,17.043856234459163\" stroke=\"gray\" stroke-width=\"0.8\" opacity=\"0.5\"></path></g></g><path class=\"foreground\" aria-hidden=\"true\" d=\"\" display=\"none\"></path></g><g transform=\"translate(0,0)\"><path class=\"background\" aria-hidden=\"true\" d=\"M0,0h600v400h-600Z\"></path><g><g class=\"mark-line role-mark layer_0_marks\" role=\"graphics-object\" aria-roledescription=\"line mark container\" pointer-events=\"none\"><path aria-label=\"edges_x: -0.520818816471; edges_y: 0.11672104544; pairs: 5,6\" role=\"graphics-symbol\" aria-roledescription=\"line mark\" d=\"M143.75435505861523,176.6557909119181L199.51821189137658,94.97150231082192\" stroke=\"gray\" stroke-width=\"0.8\" opacity=\"0.5\"></path></g></g><path class=\"foreground\" aria-hidden=\"true\" d=\"\" display=\"none\"></path></g><g transform=\"translate(0,0)\"><path class=\"background\" aria-hidden=\"true\" d=\"M0,0h600v400h-600Z\"></path><g><g class=\"mark-line role-mark layer_0_marks\" role=\"graphics-object\" aria-roledescription=\"line mark container\" pointer-events=\"none\"><path aria-label=\"edges_x: 0.383531996917; edges_y: 0.175900315625; pairs: 1,7\" role=\"graphics-symbol\" aria-roledescription=\"line mark\" d=\"M415.0595990750894,164.8199368750709L600,174.2019066598404\" stroke=\"gray\" stroke-width=\"0.8\" opacity=\"0.5\"></path></g></g><path class=\"foreground\" aria-hidden=\"true\" d=\"\" display=\"none\"></path></g><g transform=\"translate(0,0)\"><path class=\"background\" aria-hidden=\"true\" d=\"M0,0h600v400h-600Z\"></path><g><g class=\"mark-line role-mark layer_0_marks\" role=\"graphics-object\" aria-roledescription=\"line mark container\" pointer-events=\"none\"><path aria-label=\"edges_x: -0.691779833161; edges_y: 0.83967718037; pairs: 2,7\" role=\"graphics-symbol\" aria-roledescription=\"line mark\" d=\"M92.46605005168624,32.06456392601762L600,174.2019066598404\" stroke=\"gray\" stroke-width=\"0.8\" opacity=\"0.5\"></path></g></g><path class=\"foreground\" aria-hidden=\"true\" d=\"\" display=\"none\"></path></g><g transform=\"translate(0,0)\"><path class=\"background\" aria-hidden=\"true\" d=\"M0,0h600v400h-600Z\"></path><g><g class=\"mark-line role-mark layer_0_marks\" role=\"graphics-object\" aria-roledescription=\"line mark container\" pointer-events=\"none\"><path aria-label=\"edges_x: -0.128476147133; edges_y: 0.914780718828; pairs: 4,7\" role=\"graphics-symbol\" aria-roledescription=\"line mark\" d=\"M261.4571558600319,17.043856234459163L600,174.2019066598404\" stroke=\"gray\" stroke-width=\"0.8\" opacity=\"0.5\"></path></g></g><path class=\"foreground\" aria-hidden=\"true\" d=\"\" display=\"none\"></path></g><g transform=\"translate(0,0)\"><path class=\"background\" aria-hidden=\"true\" d=\"M0,0h600v400h-600Z\"></path><g><g class=\"mark-line role-mark layer_0_marks\" role=\"graphics-object\" aria-roledescription=\"line mark container\" pointer-events=\"none\"><path aria-label=\"edges_x: -0.334939293695; edges_y: 0.525142488446; pairs: 5,7\" role=\"graphics-symbol\" aria-roledescription=\"line mark\" d=\"M199.51821189137658,94.97150231082192L600,174.2019066598404\" stroke=\"gray\" stroke-width=\"0.8\" opacity=\"0.5\"></path></g></g><path class=\"foreground\" aria-hidden=\"true\" d=\"\" display=\"none\"></path></g><g transform=\"translate(0,0)\"><path class=\"background\" aria-hidden=\"true\" d=\"M0,0h600v400h-600Z\"></path><g><g class=\"mark-line role-mark layer_0_marks\" role=\"graphics-object\" aria-roledescription=\"line mark container\" pointer-events=\"none\"><path aria-label=\"edges_x: -0.520818816471; edges_y: 0.11672104544; pairs: 6,7\" role=\"graphics-symbol\" aria-roledescription=\"line mark\" d=\"M143.75435505861523,176.6557909119181L600,174.2019066598404\" stroke=\"gray\" stroke-width=\"0.8\" opacity=\"0.5\"></path></g></g><path class=\"foreground\" aria-hidden=\"true\" d=\"\" display=\"none\"></path></g><g transform=\"translate(0,0)\"><path class=\"background\" aria-hidden=\"true\" d=\"M0,0h600v400h-600Z\"></path><g><g class=\"mark-line role-mark layer_0_marks\" role=\"graphics-object\" aria-roledescription=\"line mark container\" pointer-events=\"none\"><path aria-label=\"edges_x: 0.100240124595; edges_y: -0.360042329698; pairs: 1,8\" role=\"graphics-symbol\" aria-roledescription=\"line mark\" d=\"M330.07203737850773,272.008465939673L415.0595990750894,164.8199368750709\" stroke=\"gray\" stroke-width=\"0.8\" opacity=\"0.5\"></path></g></g><path class=\"foreground\" aria-hidden=\"true\" d=\"\" display=\"none\"></path></g><g transform=\"translate(0,0)\"><path class=\"background\" aria-hidden=\"true\" d=\"M0,0h600v400h-600Z\"></path><g><g class=\"mark-line role-mark layer_0_marks\" role=\"graphics-object\" aria-roledescription=\"line mark container\" pointer-events=\"none\"><path aria-label=\"edges_x: -0.691779833161; edges_y: 0.83967718037; pairs: 2,8\" role=\"graphics-symbol\" aria-roledescription=\"line mark\" d=\"M92.46605005168624,32.06456392601762L330.07203737850773,272.008465939673\" stroke=\"gray\" stroke-width=\"0.8\" opacity=\"0.5\"></path></g></g><path class=\"foreground\" aria-hidden=\"true\" d=\"\" display=\"none\"></path></g><g transform=\"translate(0,0)\"><path class=\"background\" aria-hidden=\"true\" d=\"M0,0h600v400h-600Z\"></path><g><g class=\"mark-line role-mark layer_0_marks\" role=\"graphics-object\" aria-roledescription=\"line mark container\" pointer-events=\"none\"><path aria-label=\"edges_x: -1; edges_y: -0.607951808209; pairs: 3,8\" role=\"graphics-symbol\" aria-roledescription=\"line mark\" d=\"M0,321.590361641879L330.07203737850773,272.008465939673\" stroke=\"gray\" stroke-width=\"0.8\" opacity=\"0.5\"></path></g></g><path class=\"foreground\" aria-hidden=\"true\" d=\"\" display=\"none\"></path></g><g transform=\"translate(0,0)\"><path class=\"background\" aria-hidden=\"true\" d=\"M0,0h600v400h-600Z\"></path><g><g class=\"mark-line role-mark layer_0_marks\" role=\"graphics-object\" aria-roledescription=\"line mark container\" pointer-events=\"none\"><path aria-label=\"edges_x: -0.128476147133; edges_y: 0.914780718828; pairs: 4,8\" role=\"graphics-symbol\" aria-roledescription=\"line mark\" d=\"M261.4571558600319,17.043856234459163L330.07203737850773,272.008465939673\" stroke=\"gray\" stroke-width=\"0.8\" opacity=\"0.5\"></path></g></g><path class=\"foreground\" aria-hidden=\"true\" d=\"\" display=\"none\"></path></g><g transform=\"translate(0,0)\"><path class=\"background\" aria-hidden=\"true\" d=\"M0,0h600v400h-600Z\"></path><g><g class=\"mark-line role-mark layer_0_marks\" role=\"graphics-object\" aria-roledescription=\"line mark container\" pointer-events=\"none\"><path aria-label=\"edges_x: -0.334939293695; edges_y: 0.525142488446; pairs: 5,8\" role=\"graphics-symbol\" aria-roledescription=\"line mark\" d=\"M199.51821189137658,94.97150231082192L330.07203737850773,272.008465939673\" stroke=\"gray\" stroke-width=\"0.8\" opacity=\"0.5\"></path></g></g><path class=\"foreground\" aria-hidden=\"true\" d=\"\" display=\"none\"></path></g><g transform=\"translate(0,0)\"><path class=\"background\" aria-hidden=\"true\" d=\"M0,0h600v400h-600Z\"></path><g><g class=\"mark-line role-mark layer_0_marks\" role=\"graphics-object\" aria-roledescription=\"line mark container\" pointer-events=\"none\"><path aria-label=\"edges_x: -0.520818816471; edges_y: 0.11672104544; pairs: 6,8\" role=\"graphics-symbol\" aria-roledescription=\"line mark\" d=\"M143.75435505861523,176.6557909119181L330.07203737850773,272.008465939673\" stroke=\"gray\" stroke-width=\"0.8\" opacity=\"0.5\"></path></g></g><path class=\"foreground\" aria-hidden=\"true\" d=\"\" display=\"none\"></path></g><g transform=\"translate(0,0)\"><path class=\"background\" aria-hidden=\"true\" d=\"M0,0h600v400h-600Z\"></path><g><g class=\"mark-line role-mark layer_0_marks\" role=\"graphics-object\" aria-roledescription=\"line mark container\" pointer-events=\"none\"><path aria-label=\"edges_x: 0.100240124595; edges_y: -0.360042329698; pairs: 7,8\" role=\"graphics-symbol\" aria-roledescription=\"line mark\" d=\"M330.07203737850773,272.008465939673L600,174.2019066598404\" stroke=\"gray\" stroke-width=\"0.8\" opacity=\"0.5\"></path></g></g><path class=\"foreground\" aria-hidden=\"true\" d=\"\" display=\"none\"></path></g><g transform=\"translate(0,0)\"><path class=\"background\" aria-hidden=\"true\" d=\"M0,0h600v400h-600Z\"></path><g><g class=\"mark-line role-mark layer_0_marks\" role=\"graphics-object\" aria-roledescription=\"line mark container\" pointer-events=\"none\"><path aria-label=\"edges_x: -0.892815597637; edges_y: 0.397963513625; pairs: 1,9\" role=\"graphics-symbol\" aria-roledescription=\"line mark\" d=\"M32.15532070901417,120.40729727496893L415.0595990750894,164.8199368750709\" stroke=\"gray\" stroke-width=\"0.8\" opacity=\"0.5\"></path></g></g><path class=\"foreground\" aria-hidden=\"true\" d=\"\" display=\"none\"></path></g><g transform=\"translate(0,0)\"><path class=\"background\" aria-hidden=\"true\" d=\"M0,0h600v400h-600Z\"></path><g><g class=\"mark-line role-mark layer_0_marks\" role=\"graphics-object\" aria-roledescription=\"line mark container\" pointer-events=\"none\"><path aria-label=\"edges_x: -0.892815597637; edges_y: 0.397963513625; pairs: 2,9\" role=\"graphics-symbol\" aria-roledescription=\"line mark\" d=\"M32.15532070901417,120.40729727496893L92.46605005168624,32.06456392601762\" stroke=\"gray\" stroke-width=\"0.8\" opacity=\"0.5\"></path></g></g><path class=\"foreground\" aria-hidden=\"true\" d=\"\" display=\"none\"></path></g><g transform=\"translate(0,0)\"><path class=\"background\" aria-hidden=\"true\" d=\"M0,0h600v400h-600Z\"></path><g><g class=\"mark-line role-mark layer_0_marks\" role=\"graphics-object\" aria-roledescription=\"line mark container\" pointer-events=\"none\"><path aria-label=\"edges_x: -1; edges_y: -0.607951808209; pairs: 3,9\" role=\"graphics-symbol\" aria-roledescription=\"line mark\" d=\"M0,321.590361641879L32.15532070901417,120.40729727496893\" stroke=\"gray\" stroke-width=\"0.8\" opacity=\"0.5\"></path></g></g><path class=\"foreground\" aria-hidden=\"true\" d=\"\" display=\"none\"></path></g><g transform=\"translate(0,0)\"><path class=\"background\" aria-hidden=\"true\" d=\"M0,0h600v400h-600Z\"></path><g><g class=\"mark-line role-mark layer_0_marks\" role=\"graphics-object\" aria-roledescription=\"line mark container\" pointer-events=\"none\"><path aria-label=\"edges_x: -0.892815597637; edges_y: 0.397963513625; pairs: 4,9\" role=\"graphics-symbol\" aria-roledescription=\"line mark\" d=\"M32.15532070901417,120.40729727496893L261.4571558600319,17.043856234459163\" stroke=\"gray\" stroke-width=\"0.8\" opacity=\"0.5\"></path></g></g><path class=\"foreground\" aria-hidden=\"true\" d=\"\" display=\"none\"></path></g><g transform=\"translate(0,0)\"><path class=\"background\" aria-hidden=\"true\" d=\"M0,0h600v400h-600Z\"></path><g><g class=\"mark-line role-mark layer_0_marks\" role=\"graphics-object\" aria-roledescription=\"line mark container\" pointer-events=\"none\"><path aria-label=\"edges_x: -0.892815597637; edges_y: 0.397963513625; pairs: 5,9\" role=\"graphics-symbol\" aria-roledescription=\"line mark\" d=\"M32.15532070901417,120.40729727496893L199.51821189137658,94.97150231082192\" stroke=\"gray\" stroke-width=\"0.8\" opacity=\"0.5\"></path></g></g><path class=\"foreground\" aria-hidden=\"true\" d=\"\" display=\"none\"></path></g><g transform=\"translate(0,0)\"><path class=\"background\" aria-hidden=\"true\" d=\"M0,0h600v400h-600Z\"></path><g><g class=\"mark-line role-mark layer_0_marks\" role=\"graphics-object\" aria-roledescription=\"line mark container\" pointer-events=\"none\"><path aria-label=\"edges_x: -0.892815597637; edges_y: 0.397963513625; pairs: 6,9\" role=\"graphics-symbol\" aria-roledescription=\"line mark\" d=\"M32.15532070901417,120.40729727496893L143.75435505861523,176.6557909119181\" stroke=\"gray\" stroke-width=\"0.8\" opacity=\"0.5\"></path></g></g><path class=\"foreground\" aria-hidden=\"true\" d=\"\" display=\"none\"></path></g><g transform=\"translate(0,0)\"><path class=\"background\" aria-hidden=\"true\" d=\"M0,0h600v400h-600Z\"></path><g><g class=\"mark-line role-mark layer_0_marks\" role=\"graphics-object\" aria-roledescription=\"line mark container\" pointer-events=\"none\"><path aria-label=\"edges_x: -0.892815597637; edges_y: 0.397963513625; pairs: 8,9\" role=\"graphics-symbol\" aria-roledescription=\"line mark\" d=\"M32.15532070901417,120.40729727496893L330.07203737850773,272.008465939673\" stroke=\"gray\" stroke-width=\"0.8\" opacity=\"0.5\"></path></g></g><path class=\"foreground\" aria-hidden=\"true\" d=\"\" display=\"none\"></path></g><g transform=\"translate(0,0)\"><path class=\"background\" aria-hidden=\"true\" d=\"M0,0h600v400h-600Z\"></path><g><g class=\"mark-line role-mark layer_0_marks\" role=\"graphics-object\" aria-roledescription=\"line mark container\" pointer-events=\"none\"><path aria-label=\"edges_x: -0.227793116562; edges_y: -0.71997400539; pairs: 1,10\" role=\"graphics-symbol\" aria-roledescription=\"line mark\" d=\"M231.6620650314319,343.9948010779759L415.0595990750894,164.8199368750709\" stroke=\"gray\" stroke-width=\"0.8\" opacity=\"0.5\"></path></g></g><path class=\"foreground\" aria-hidden=\"true\" d=\"\" display=\"none\"></path></g><g transform=\"translate(0,0)\"><path class=\"background\" aria-hidden=\"true\" d=\"M0,0h600v400h-600Z\"></path><g><g class=\"mark-line role-mark layer_0_marks\" role=\"graphics-object\" aria-roledescription=\"line mark container\" pointer-events=\"none\"><path aria-label=\"edges_x: -0.691779833161; edges_y: 0.83967718037; pairs: 2,10\" role=\"graphics-symbol\" aria-roledescription=\"line mark\" d=\"M92.46605005168624,32.06456392601762L231.6620650314319,343.9948010779759\" stroke=\"gray\" stroke-width=\"0.8\" opacity=\"0.5\"></path></g></g><path class=\"foreground\" aria-hidden=\"true\" d=\"\" display=\"none\"></path></g><g transform=\"translate(0,0)\"><path class=\"background\" aria-hidden=\"true\" d=\"M0,0h600v400h-600Z\"></path><g><g class=\"mark-line role-mark layer_0_marks\" role=\"graphics-object\" aria-roledescription=\"line mark container\" pointer-events=\"none\"><path aria-label=\"edges_x: -1; edges_y: -0.607951808209; pairs: 3,10\" role=\"graphics-symbol\" aria-roledescription=\"line mark\" d=\"M0,321.590361641879L231.6620650314319,343.9948010779759\" stroke=\"gray\" stroke-width=\"0.8\" opacity=\"0.5\"></path></g></g><path class=\"foreground\" aria-hidden=\"true\" d=\"\" display=\"none\"></path></g><g transform=\"translate(0,0)\"><path class=\"background\" aria-hidden=\"true\" d=\"M0,0h600v400h-600Z\"></path><g><g class=\"mark-line role-mark layer_0_marks\" role=\"graphics-object\" aria-roledescription=\"line mark container\" pointer-events=\"none\"><path aria-label=\"edges_x: -0.227793116562; edges_y: -0.71997400539; pairs: 4,10\" role=\"graphics-symbol\" aria-roledescription=\"line mark\" d=\"M231.6620650314319,343.9948010779759L261.4571558600319,17.043856234459163\" stroke=\"gray\" stroke-width=\"0.8\" opacity=\"0.5\"></path></g></g><path class=\"foreground\" aria-hidden=\"true\" d=\"\" display=\"none\"></path></g><g transform=\"translate(0,0)\"><path class=\"background\" aria-hidden=\"true\" d=\"M0,0h600v400h-600Z\"></path><g><g class=\"mark-line role-mark layer_0_marks\" role=\"graphics-object\" aria-roledescription=\"line mark container\" pointer-events=\"none\"><path aria-label=\"edges_x: -0.334939293695; edges_y: 0.525142488446; pairs: 5,10\" role=\"graphics-symbol\" aria-roledescription=\"line mark\" d=\"M199.51821189137658,94.97150231082192L231.6620650314319,343.9948010779759\" stroke=\"gray\" stroke-width=\"0.8\" opacity=\"0.5\"></path></g></g><path class=\"foreground\" aria-hidden=\"true\" d=\"\" display=\"none\"></path></g><g transform=\"translate(0,0)\"><path class=\"background\" aria-hidden=\"true\" d=\"M0,0h600v400h-600Z\"></path><g><g class=\"mark-line role-mark layer_0_marks\" role=\"graphics-object\" aria-roledescription=\"line mark container\" pointer-events=\"none\"><path aria-label=\"edges_x: -0.520818816471; edges_y: 0.11672104544; pairs: 6,10\" role=\"graphics-symbol\" aria-roledescription=\"line mark\" d=\"M143.75435505861523,176.6557909119181L231.6620650314319,343.9948010779759\" stroke=\"gray\" stroke-width=\"0.8\" opacity=\"0.5\"></path></g></g><path class=\"foreground\" aria-hidden=\"true\" d=\"\" display=\"none\"></path></g><g transform=\"translate(0,0)\"><path class=\"background\" aria-hidden=\"true\" d=\"M0,0h600v400h-600Z\"></path><g><g class=\"mark-line role-mark layer_0_marks\" role=\"graphics-object\" aria-roledescription=\"line mark container\" pointer-events=\"none\"><path aria-label=\"edges_x: -0.227793116562; edges_y: -0.71997400539; pairs: 7,10\" role=\"graphics-symbol\" aria-roledescription=\"line mark\" d=\"M231.6620650314319,343.9948010779759L600,174.2019066598404\" stroke=\"gray\" stroke-width=\"0.8\" opacity=\"0.5\"></path></g></g><path class=\"foreground\" aria-hidden=\"true\" d=\"\" display=\"none\"></path></g><g transform=\"translate(0,0)\"><path class=\"background\" aria-hidden=\"true\" d=\"M0,0h600v400h-600Z\"></path><g><g class=\"mark-line role-mark layer_0_marks\" role=\"graphics-object\" aria-roledescription=\"line mark container\" pointer-events=\"none\"><path aria-label=\"edges_x: -0.227793116562; edges_y: -0.71997400539; pairs: 8,10\" role=\"graphics-symbol\" aria-roledescription=\"line mark\" d=\"M231.6620650314319,343.9948010779759L330.07203737850773,272.008465939673\" stroke=\"gray\" stroke-width=\"0.8\" opacity=\"0.5\"></path></g></g><path class=\"foreground\" aria-hidden=\"true\" d=\"\" display=\"none\"></path></g><g transform=\"translate(0,0)\"><path class=\"background\" aria-hidden=\"true\" d=\"M0,0h600v400h-600Z\"></path><g><g class=\"mark-line role-mark layer_0_marks\" role=\"graphics-object\" aria-roledescription=\"line mark container\" pointer-events=\"none\"><path aria-label=\"edges_x: -0.892815597637; edges_y: 0.397963513625; pairs: 9,10\" role=\"graphics-symbol\" aria-roledescription=\"line mark\" d=\"M32.15532070901417,120.40729727496893L231.6620650314319,343.9948010779759\" stroke=\"gray\" stroke-width=\"0.8\" opacity=\"0.5\"></path></g></g><path class=\"foreground\" aria-hidden=\"true\" d=\"\" display=\"none\"></path></g><g transform=\"translate(0,0)\"><path class=\"background\" aria-hidden=\"true\" d=\"M0,0h600v400h-600Z\"></path><g><g class=\"mark-line role-mark layer_0_marks\" role=\"graphics-object\" aria-roledescription=\"line mark container\" pointer-events=\"none\"><path aria-label=\"edges_x: -0.676549052016; edges_y: -1; pairs: 1,11\" role=\"graphics-symbol\" aria-roledescription=\"line mark\" d=\"M97.03528439516083,400L415.0595990750894,164.8199368750709\" stroke=\"gray\" stroke-width=\"0.8\" opacity=\"0.5\"></path></g></g><path class=\"foreground\" aria-hidden=\"true\" d=\"\" display=\"none\"></path></g><g transform=\"translate(0,0)\"><path class=\"background\" aria-hidden=\"true\" d=\"M0,0h600v400h-600Z\"></path><g><g class=\"mark-line role-mark layer_0_marks\" role=\"graphics-object\" aria-roledescription=\"line mark container\" pointer-events=\"none\"><path aria-label=\"edges_x: -0.691779833161; edges_y: 0.83967718037; pairs: 2,11\" role=\"graphics-symbol\" aria-roledescription=\"line mark\" d=\"M92.46605005168624,32.06456392601762L97.03528439516083,400\" stroke=\"gray\" stroke-width=\"0.8\" opacity=\"0.5\"></path></g></g><path class=\"foreground\" aria-hidden=\"true\" d=\"\" display=\"none\"></path></g><g transform=\"translate(0,0)\"><path class=\"background\" aria-hidden=\"true\" d=\"M0,0h600v400h-600Z\"></path><g><g class=\"mark-line role-mark layer_0_marks\" role=\"graphics-object\" aria-roledescription=\"line mark container\" pointer-events=\"none\"><path aria-label=\"edges_x: -1; edges_y: -0.607951808209; pairs: 3,11\" role=\"graphics-symbol\" aria-roledescription=\"line mark\" d=\"M0,321.590361641879L97.03528439516083,400\" stroke=\"gray\" stroke-width=\"0.8\" opacity=\"0.5\"></path></g></g><path class=\"foreground\" aria-hidden=\"true\" d=\"\" display=\"none\"></path></g><g transform=\"translate(0,0)\"><path class=\"background\" aria-hidden=\"true\" d=\"M0,0h600v400h-600Z\"></path><g><g class=\"mark-line role-mark layer_0_marks\" role=\"graphics-object\" aria-roledescription=\"line mark container\" pointer-events=\"none\"><path aria-label=\"edges_x: -0.676549052016; edges_y: -1; pairs: 4,11\" role=\"graphics-symbol\" aria-roledescription=\"line mark\" d=\"M97.03528439516083,400L261.4571558600319,17.043856234459163\" stroke=\"gray\" stroke-width=\"0.8\" opacity=\"0.5\"></path></g></g><path class=\"foreground\" aria-hidden=\"true\" d=\"\" display=\"none\"></path></g><g transform=\"translate(0,0)\"><path class=\"background\" aria-hidden=\"true\" d=\"M0,0h600v400h-600Z\"></path><g><g class=\"mark-line role-mark layer_0_marks\" role=\"graphics-object\" aria-roledescription=\"line mark container\" pointer-events=\"none\"><path aria-label=\"edges_x: -0.676549052016; edges_y: -1; pairs: 5,11\" role=\"graphics-symbol\" aria-roledescription=\"line mark\" d=\"M97.03528439516083,400L199.51821189137658,94.97150231082192\" stroke=\"gray\" stroke-width=\"0.8\" opacity=\"0.5\"></path></g></g><path class=\"foreground\" aria-hidden=\"true\" d=\"\" display=\"none\"></path></g><g transform=\"translate(0,0)\"><path class=\"background\" aria-hidden=\"true\" d=\"M0,0h600v400h-600Z\"></path><g><g class=\"mark-line role-mark layer_0_marks\" role=\"graphics-object\" aria-roledescription=\"line mark container\" pointer-events=\"none\"><path aria-label=\"edges_x: -0.676549052016; edges_y: -1; pairs: 6,11\" role=\"graphics-symbol\" aria-roledescription=\"line mark\" d=\"M97.03528439516083,400L143.75435505861523,176.6557909119181\" stroke=\"gray\" stroke-width=\"0.8\" opacity=\"0.5\"></path></g></g><path class=\"foreground\" aria-hidden=\"true\" d=\"\" display=\"none\"></path></g><g transform=\"translate(0,0)\"><path class=\"background\" aria-hidden=\"true\" d=\"M0,0h600v400h-600Z\"></path><g><g class=\"mark-line role-mark layer_0_marks\" role=\"graphics-object\" aria-roledescription=\"line mark container\" pointer-events=\"none\"><path aria-label=\"edges_x: -0.676549052016; edges_y: -1; pairs: 8,11\" role=\"graphics-symbol\" aria-roledescription=\"line mark\" d=\"M97.03528439516083,400L330.07203737850773,272.008465939673\" stroke=\"gray\" stroke-width=\"0.8\" opacity=\"0.5\"></path></g></g><path class=\"foreground\" aria-hidden=\"true\" d=\"\" display=\"none\"></path></g><g transform=\"translate(0,0)\"><path class=\"background\" aria-hidden=\"true\" d=\"M0,0h600v400h-600Z\"></path><g><g class=\"mark-line role-mark layer_0_marks\" role=\"graphics-object\" aria-roledescription=\"line mark container\" pointer-events=\"none\"><path aria-label=\"edges_x: -0.892815597637; edges_y: 0.397963513625; pairs: 9,11\" role=\"graphics-symbol\" aria-roledescription=\"line mark\" d=\"M32.15532070901417,120.40729727496893L97.03528439516083,400\" stroke=\"gray\" stroke-width=\"0.8\" opacity=\"0.5\"></path></g></g><path class=\"foreground\" aria-hidden=\"true\" d=\"\" display=\"none\"></path></g><g transform=\"translate(0,0)\"><path class=\"background\" aria-hidden=\"true\" d=\"M0,0h600v400h-600Z\"></path><g><g class=\"mark-line role-mark layer_0_marks\" role=\"graphics-object\" aria-roledescription=\"line mark container\" pointer-events=\"none\"><path aria-label=\"edges_x: -0.676549052016; edges_y: -1; pairs: 10,11\" role=\"graphics-symbol\" aria-roledescription=\"line mark\" d=\"M97.03528439516083,400L231.6620650314319,343.9948010779759\" stroke=\"gray\" stroke-width=\"0.8\" opacity=\"0.5\"></path></g></g><path class=\"foreground\" aria-hidden=\"true\" d=\"\" display=\"none\"></path></g><g transform=\"translate(0,0)\"><path class=\"background\" aria-hidden=\"true\" d=\"M0,0h600v400h-600Z\"></path><g><g class=\"mark-line role-mark layer_0_marks\" role=\"graphics-object\" aria-roledescription=\"line mark container\" pointer-events=\"none\"><path aria-label=\"edges_x: 0.333054464011; edges_y: 1; pairs: 1,12\" role=\"graphics-symbol\" aria-roledescription=\"line mark\" d=\"M399.9163392032951,0L415.0595990750894,164.8199368750709\" stroke=\"gray\" stroke-width=\"0.8\" opacity=\"0.5\"></path></g></g><path class=\"foreground\" aria-hidden=\"true\" d=\"\" display=\"none\"></path></g><g transform=\"translate(0,0)\"><path class=\"background\" aria-hidden=\"true\" d=\"M0,0h600v400h-600Z\"></path><g><g class=\"mark-line role-mark layer_0_marks\" role=\"graphics-object\" aria-roledescription=\"line mark container\" pointer-events=\"none\"><path aria-label=\"edges_x: -0.691779833161; edges_y: 0.83967718037; pairs: 2,12\" role=\"graphics-symbol\" aria-roledescription=\"line mark\" d=\"M92.46605005168624,32.06456392601762L399.9163392032951,0\" stroke=\"gray\" stroke-width=\"0.8\" opacity=\"0.5\"></path></g></g><path class=\"foreground\" aria-hidden=\"true\" d=\"\" display=\"none\"></path></g><g transform=\"translate(0,0)\"><path class=\"background\" aria-hidden=\"true\" d=\"M0,0h600v400h-600Z\"></path><g><g class=\"mark-line role-mark layer_0_marks\" role=\"graphics-object\" aria-roledescription=\"line mark container\" pointer-events=\"none\"><path aria-label=\"edges_x: -0.334939293695; edges_y: 0.525142488446; pairs: 5,12\" role=\"graphics-symbol\" aria-roledescription=\"line mark\" d=\"M199.51821189137658,94.97150231082192L399.9163392032951,0\" stroke=\"gray\" stroke-width=\"0.8\" opacity=\"0.5\"></path></g></g><path class=\"foreground\" aria-hidden=\"true\" d=\"\" display=\"none\"></path></g><g transform=\"translate(0,0)\"><path class=\"background\" aria-hidden=\"true\" d=\"M0,0h600v400h-600Z\"></path><g><g class=\"mark-line role-mark layer_0_marks\" role=\"graphics-object\" aria-roledescription=\"line mark container\" pointer-events=\"none\"><path aria-label=\"edges_x: -0.520818816471; edges_y: 0.11672104544; pairs: 6,12\" role=\"graphics-symbol\" aria-roledescription=\"line mark\" d=\"M143.75435505861523,176.6557909119181L399.9163392032951,0\" stroke=\"gray\" stroke-width=\"0.8\" opacity=\"0.5\"></path></g></g><path class=\"foreground\" aria-hidden=\"true\" d=\"\" display=\"none\"></path></g><g transform=\"translate(0,0)\"><path class=\"background\" aria-hidden=\"true\" d=\"M0,0h600v400h-600Z\"></path><g><g class=\"mark-line role-mark layer_0_marks\" role=\"graphics-object\" aria-roledescription=\"line mark container\" pointer-events=\"none\"><path aria-label=\"edges_x: 0.333054464011; edges_y: 1; pairs: 7,12\" role=\"graphics-symbol\" aria-roledescription=\"line mark\" d=\"M399.9163392032951,0L600,174.2019066598404\" stroke=\"gray\" stroke-width=\"0.8\" opacity=\"0.5\"></path></g></g><path class=\"foreground\" aria-hidden=\"true\" d=\"\" display=\"none\"></path></g><g transform=\"translate(0,0)\"><path class=\"background\" aria-hidden=\"true\" d=\"M0,0h600v400h-600Z\"></path><g><g class=\"mark-line role-mark layer_0_marks\" role=\"graphics-object\" aria-roledescription=\"line mark container\" pointer-events=\"none\"><path aria-label=\"edges_x: 0.100240124595; edges_y: -0.360042329698; pairs: 8,12\" role=\"graphics-symbol\" aria-roledescription=\"line mark\" d=\"M330.07203737850773,272.008465939673L399.9163392032951,0\" stroke=\"gray\" stroke-width=\"0.8\" opacity=\"0.5\"></path></g></g><path class=\"foreground\" aria-hidden=\"true\" d=\"\" display=\"none\"></path></g><g transform=\"translate(0,0)\"><path class=\"background\" aria-hidden=\"true\" d=\"M0,0h600v400h-600Z\"></path><g><g class=\"mark-line role-mark layer_0_marks\" role=\"graphics-object\" aria-roledescription=\"line mark container\" pointer-events=\"none\"><path aria-label=\"edges_x: -0.892815597637; edges_y: 0.397963513625; pairs: 9,12\" role=\"graphics-symbol\" aria-roledescription=\"line mark\" d=\"M32.15532070901417,120.40729727496893L399.9163392032951,0\" stroke=\"gray\" stroke-width=\"0.8\" opacity=\"0.5\"></path></g></g><path class=\"foreground\" aria-hidden=\"true\" d=\"\" display=\"none\"></path></g><g transform=\"translate(0,0)\"><path class=\"background\" aria-hidden=\"true\" d=\"M0,0h600v400h-600Z\"></path><g><g class=\"mark-line role-mark layer_0_marks\" role=\"graphics-object\" aria-roledescription=\"line mark container\" pointer-events=\"none\"><path aria-label=\"edges_x: -0.227793116562; edges_y: -0.71997400539; pairs: 10,12\" role=\"graphics-symbol\" aria-roledescription=\"line mark\" d=\"M231.6620650314319,343.9948010779759L399.9163392032951,0\" stroke=\"gray\" stroke-width=\"0.8\" opacity=\"0.5\"></path></g></g><path class=\"foreground\" aria-hidden=\"true\" d=\"\" display=\"none\"></path></g><g transform=\"translate(0,0)\"><path class=\"background\" aria-hidden=\"true\" d=\"M0,0h600v400h-600Z\"></path><g><g class=\"mark-line role-mark layer_0_marks\" role=\"graphics-object\" aria-roledescription=\"line mark container\" pointer-events=\"none\"><path aria-label=\"edges_x: 0.383531996917; edges_y: 0.175900315625; pairs: 1,13\" role=\"graphics-symbol\" aria-roledescription=\"line mark\" d=\"M415.0595990750894,164.8199368750709L508.87664307709935,76.27978797844301\" stroke=\"gray\" stroke-width=\"0.8\" opacity=\"0.5\"></path></g></g><path class=\"foreground\" aria-hidden=\"true\" d=\"\" display=\"none\"></path></g><g transform=\"translate(0,0)\"><path class=\"background\" aria-hidden=\"true\" d=\"M0,0h600v400h-600Z\"></path><g><g class=\"mark-line role-mark layer_0_marks\" role=\"graphics-object\" aria-roledescription=\"line mark container\" pointer-events=\"none\"><path aria-label=\"edges_x: -0.128476147133; edges_y: 0.914780718828; pairs: 4,13\" role=\"graphics-symbol\" aria-roledescription=\"line mark\" d=\"M261.4571558600319,17.043856234459163L508.87664307709935,76.27978797844301\" stroke=\"gray\" stroke-width=\"0.8\" opacity=\"0.5\"></path></g></g><path class=\"foreground\" aria-hidden=\"true\" d=\"\" display=\"none\"></path></g><g transform=\"translate(0,0)\"><path class=\"background\" aria-hidden=\"true\" d=\"M0,0h600v400h-600Z\"></path><g><g class=\"mark-line role-mark layer_0_marks\" role=\"graphics-object\" aria-roledescription=\"line mark container\" pointer-events=\"none\"><path aria-label=\"edges_x: -0.334939293695; edges_y: 0.525142488446; pairs: 5,13\" role=\"graphics-symbol\" aria-roledescription=\"line mark\" d=\"M199.51821189137658,94.97150231082192L508.87664307709935,76.27978797844301\" stroke=\"gray\" stroke-width=\"0.8\" opacity=\"0.5\"></path></g></g><path class=\"foreground\" aria-hidden=\"true\" d=\"\" display=\"none\"></path></g><g transform=\"translate(0,0)\"><path class=\"background\" aria-hidden=\"true\" d=\"M0,0h600v400h-600Z\"></path><g><g class=\"mark-line role-mark layer_0_marks\" role=\"graphics-object\" aria-roledescription=\"line mark container\" pointer-events=\"none\"><path aria-label=\"edges_x: -0.520818816471; edges_y: 0.11672104544; pairs: 6,13\" role=\"graphics-symbol\" aria-roledescription=\"line mark\" d=\"M143.75435505861523,176.6557909119181L508.87664307709935,76.27978797844301\" stroke=\"gray\" stroke-width=\"0.8\" opacity=\"0.5\"></path></g></g><path class=\"foreground\" aria-hidden=\"true\" d=\"\" display=\"none\"></path></g><g transform=\"translate(0,0)\"><path class=\"background\" aria-hidden=\"true\" d=\"M0,0h600v400h-600Z\"></path><g><g class=\"mark-line role-mark layer_0_marks\" role=\"graphics-object\" aria-roledescription=\"line mark container\" pointer-events=\"none\"><path aria-label=\"edges_x: 0.696255476924; edges_y: 0.618601060108; pairs: 7,13\" role=\"graphics-symbol\" aria-roledescription=\"line mark\" d=\"M508.87664307709935,76.27978797844301L600,174.2019066598404\" stroke=\"gray\" stroke-width=\"0.8\" opacity=\"0.5\"></path></g></g><path class=\"foreground\" aria-hidden=\"true\" d=\"\" display=\"none\"></path></g><g transform=\"translate(0,0)\"><path class=\"background\" aria-hidden=\"true\" d=\"M0,0h600v400h-600Z\"></path><g><g class=\"mark-line role-mark layer_0_marks\" role=\"graphics-object\" aria-roledescription=\"line mark container\" pointer-events=\"none\"><path aria-label=\"edges_x: 0.100240124595; edges_y: -0.360042329698; pairs: 8,13\" role=\"graphics-symbol\" aria-roledescription=\"line mark\" d=\"M330.07203737850773,272.008465939673L508.87664307709935,76.27978797844301\" stroke=\"gray\" stroke-width=\"0.8\" opacity=\"0.5\"></path></g></g><path class=\"foreground\" aria-hidden=\"true\" d=\"\" display=\"none\"></path></g><g transform=\"translate(0,0)\"><path class=\"background\" aria-hidden=\"true\" d=\"M0,0h600v400h-600Z\"></path><g><g class=\"mark-line role-mark layer_0_marks\" role=\"graphics-object\" aria-roledescription=\"line mark container\" pointer-events=\"none\"><path aria-label=\"edges_x: -0.892815597637; edges_y: 0.397963513625; pairs: 9,13\" role=\"graphics-symbol\" aria-roledescription=\"line mark\" d=\"M32.15532070901417,120.40729727496893L508.87664307709935,76.27978797844301\" stroke=\"gray\" stroke-width=\"0.8\" opacity=\"0.5\"></path></g></g><path class=\"foreground\" aria-hidden=\"true\" d=\"\" display=\"none\"></path></g><g transform=\"translate(0,0)\"><path class=\"background\" aria-hidden=\"true\" d=\"M0,0h600v400h-600Z\"></path><g><g class=\"mark-line role-mark layer_0_marks\" role=\"graphics-object\" aria-roledescription=\"line mark container\" pointer-events=\"none\"><path aria-label=\"edges_x: -0.227793116562; edges_y: -0.71997400539; pairs: 10,13\" role=\"graphics-symbol\" aria-roledescription=\"line mark\" d=\"M231.6620650314319,343.9948010779759L508.87664307709935,76.27978797844301\" stroke=\"gray\" stroke-width=\"0.8\" opacity=\"0.5\"></path></g></g><path class=\"foreground\" aria-hidden=\"true\" d=\"\" display=\"none\"></path></g><g transform=\"translate(0,0)\"><path class=\"background\" aria-hidden=\"true\" d=\"M0,0h600v400h-600Z\"></path><g><g class=\"mark-line role-mark layer_0_marks\" role=\"graphics-object\" aria-roledescription=\"line mark container\" pointer-events=\"none\"><path aria-label=\"edges_x: 0.333054464011; edges_y: 1; pairs: 12,13\" role=\"graphics-symbol\" aria-roledescription=\"line mark\" d=\"M399.9163392032951,0L508.87664307709935,76.27978797844301\" stroke=\"gray\" stroke-width=\"0.8\" opacity=\"0.5\"></path></g></g><path class=\"foreground\" aria-hidden=\"true\" d=\"\" display=\"none\"></path></g><g transform=\"translate(0,0)\"><path class=\"background\" aria-hidden=\"true\" d=\"M0,0h600v400h-600Z\"></path><g><g class=\"mark-line role-mark layer_0_marks\" role=\"graphics-object\" aria-roledescription=\"line mark container\" pointer-events=\"none\"><path aria-label=\"edges_x: -0.476006742555; edges_y: -0.372163725076; pairs: 1,14\" role=\"graphics-symbol\" aria-roledescription=\"line mark\" d=\"M157.1979772334611,274.4327450152536L415.0595990750894,164.8199368750709\" stroke=\"gray\" stroke-width=\"0.8\" opacity=\"0.5\"></path></g></g><path class=\"foreground\" aria-hidden=\"true\" d=\"\" display=\"none\"></path></g><g transform=\"translate(0,0)\"><path class=\"background\" aria-hidden=\"true\" d=\"M0,0h600v400h-600Z\"></path><g><g class=\"mark-line role-mark layer_0_marks\" role=\"graphics-object\" aria-roledescription=\"line mark container\" pointer-events=\"none\"><path aria-label=\"edges_x: -0.691779833161; edges_y: 0.83967718037; pairs: 2,14\" role=\"graphics-symbol\" aria-roledescription=\"line mark\" d=\"M92.46605005168624,32.06456392601762L157.1979772334611,274.4327450152536\" stroke=\"gray\" stroke-width=\"0.8\" opacity=\"0.5\"></path></g></g><path class=\"foreground\" aria-hidden=\"true\" d=\"\" display=\"none\"></path></g><g transform=\"translate(0,0)\"><path class=\"background\" aria-hidden=\"true\" d=\"M0,0h600v400h-600Z\"></path><g><g class=\"mark-line role-mark layer_0_marks\" role=\"graphics-object\" aria-roledescription=\"line mark container\" pointer-events=\"none\"><path aria-label=\"edges_x: -1; edges_y: -0.607951808209; pairs: 3,14\" role=\"graphics-symbol\" aria-roledescription=\"line mark\" d=\"M0,321.590361641879L157.1979772334611,274.4327450152536\" stroke=\"gray\" stroke-width=\"0.8\" opacity=\"0.5\"></path></g></g><path class=\"foreground\" aria-hidden=\"true\" d=\"\" display=\"none\"></path></g><g transform=\"translate(0,0)\"><path class=\"background\" aria-hidden=\"true\" d=\"M0,0h600v400h-600Z\"></path><g><g class=\"mark-line role-mark layer_0_marks\" role=\"graphics-object\" aria-roledescription=\"line mark container\" pointer-events=\"none\"><path aria-label=\"edges_x: -0.476006742555; edges_y: -0.372163725076; pairs: 4,14\" role=\"graphics-symbol\" aria-roledescription=\"line mark\" d=\"M157.1979772334611,274.4327450152536L261.4571558600319,17.043856234459163\" stroke=\"gray\" stroke-width=\"0.8\" opacity=\"0.5\"></path></g></g><path class=\"foreground\" aria-hidden=\"true\" d=\"\" display=\"none\"></path></g><g transform=\"translate(0,0)\"><path class=\"background\" aria-hidden=\"true\" d=\"M0,0h600v400h-600Z\"></path><g><g class=\"mark-line role-mark layer_0_marks\" role=\"graphics-object\" aria-roledescription=\"line mark container\" pointer-events=\"none\"><path aria-label=\"edges_x: -0.476006742555; edges_y: -0.372163725076; pairs: 5,14\" role=\"graphics-symbol\" aria-roledescription=\"line mark\" d=\"M157.1979772334611,274.4327450152536L199.51821189137658,94.97150231082192\" stroke=\"gray\" stroke-width=\"0.8\" opacity=\"0.5\"></path></g></g><path class=\"foreground\" aria-hidden=\"true\" d=\"\" display=\"none\"></path></g><g transform=\"translate(0,0)\"><path class=\"background\" aria-hidden=\"true\" d=\"M0,0h600v400h-600Z\"></path><g><g class=\"mark-line role-mark layer_0_marks\" role=\"graphics-object\" aria-roledescription=\"line mark container\" pointer-events=\"none\"><path aria-label=\"edges_x: -0.520818816471; edges_y: 0.11672104544; pairs: 6,14\" role=\"graphics-symbol\" aria-roledescription=\"line mark\" d=\"M143.75435505861523,176.6557909119181L157.1979772334611,274.4327450152536\" stroke=\"gray\" stroke-width=\"0.8\" opacity=\"0.5\"></path></g></g><path class=\"foreground\" aria-hidden=\"true\" d=\"\" display=\"none\"></path></g><g transform=\"translate(0,0)\"><path class=\"background\" aria-hidden=\"true\" d=\"M0,0h600v400h-600Z\"></path><g><g class=\"mark-line role-mark layer_0_marks\" role=\"graphics-object\" aria-roledescription=\"line mark container\" pointer-events=\"none\"><path aria-label=\"edges_x: -0.476006742555; edges_y: -0.372163725076; pairs: 7,14\" role=\"graphics-symbol\" aria-roledescription=\"line mark\" d=\"M157.1979772334611,274.4327450152536L600,174.2019066598404\" stroke=\"gray\" stroke-width=\"0.8\" opacity=\"0.5\"></path></g></g><path class=\"foreground\" aria-hidden=\"true\" d=\"\" display=\"none\"></path></g><g transform=\"translate(0,0)\"><path class=\"background\" aria-hidden=\"true\" d=\"M0,0h600v400h-600Z\"></path><g><g class=\"mark-line role-mark layer_0_marks\" role=\"graphics-object\" aria-roledescription=\"line mark container\" pointer-events=\"none\"><path aria-label=\"edges_x: -0.476006742555; edges_y: -0.372163725076; pairs: 8,14\" role=\"graphics-symbol\" aria-roledescription=\"line mark\" d=\"M157.1979772334611,274.4327450152536L330.07203737850773,272.008465939673\" stroke=\"gray\" stroke-width=\"0.8\" opacity=\"0.5\"></path></g></g><path class=\"foreground\" aria-hidden=\"true\" d=\"\" display=\"none\"></path></g><g transform=\"translate(0,0)\"><path class=\"background\" aria-hidden=\"true\" d=\"M0,0h600v400h-600Z\"></path><g><g class=\"mark-line role-mark layer_0_marks\" role=\"graphics-object\" aria-roledescription=\"line mark container\" pointer-events=\"none\"><path aria-label=\"edges_x: -0.892815597637; edges_y: 0.397963513625; pairs: 9,14\" role=\"graphics-symbol\" aria-roledescription=\"line mark\" d=\"M32.15532070901417,120.40729727496893L157.1979772334611,274.4327450152536\" stroke=\"gray\" stroke-width=\"0.8\" opacity=\"0.5\"></path></g></g><path class=\"foreground\" aria-hidden=\"true\" d=\"\" display=\"none\"></path></g><g transform=\"translate(0,0)\"><path class=\"background\" aria-hidden=\"true\" d=\"M0,0h600v400h-600Z\"></path><g><g class=\"mark-line role-mark layer_0_marks\" role=\"graphics-object\" aria-roledescription=\"line mark container\" pointer-events=\"none\"><path aria-label=\"edges_x: -0.476006742555; edges_y: -0.372163725076; pairs: 10,14\" role=\"graphics-symbol\" aria-roledescription=\"line mark\" d=\"M157.1979772334611,274.4327450152536L231.6620650314319,343.9948010779759\" stroke=\"gray\" stroke-width=\"0.8\" opacity=\"0.5\"></path></g></g><path class=\"foreground\" aria-hidden=\"true\" d=\"\" display=\"none\"></path></g><g transform=\"translate(0,0)\"><path class=\"background\" aria-hidden=\"true\" d=\"M0,0h600v400h-600Z\"></path><g><g class=\"mark-line role-mark layer_0_marks\" role=\"graphics-object\" aria-roledescription=\"line mark container\" pointer-events=\"none\"><path aria-label=\"edges_x: -0.676549052016; edges_y: -1; pairs: 11,14\" role=\"graphics-symbol\" aria-roledescription=\"line mark\" d=\"M97.03528439516083,400L157.1979772334611,274.4327450152536\" stroke=\"gray\" stroke-width=\"0.8\" opacity=\"0.5\"></path></g></g><path class=\"foreground\" aria-hidden=\"true\" d=\"\" display=\"none\"></path></g><g transform=\"translate(0,0)\"><path class=\"background\" aria-hidden=\"true\" d=\"M0,0h600v400h-600Z\"></path><g><g class=\"mark-line role-mark layer_0_marks\" role=\"graphics-object\" aria-roledescription=\"line mark container\" pointer-events=\"none\"><path aria-label=\"edges_x: -0.476006742555; edges_y: -0.372163725076; pairs: 12,14\" role=\"graphics-symbol\" aria-roledescription=\"line mark\" d=\"M157.1979772334611,274.4327450152536L399.9163392032951,0\" stroke=\"gray\" stroke-width=\"0.8\" opacity=\"0.5\"></path></g></g><path class=\"foreground\" aria-hidden=\"true\" d=\"\" display=\"none\"></path></g><g transform=\"translate(0,0)\"><path class=\"background\" aria-hidden=\"true\" d=\"M0,0h600v400h-600Z\"></path><g><g class=\"mark-line role-mark layer_0_marks\" role=\"graphics-object\" aria-roledescription=\"line mark container\" pointer-events=\"none\"><path aria-label=\"edges_x: -0.476006742555; edges_y: -0.372163725076; pairs: 13,14\" role=\"graphics-symbol\" aria-roledescription=\"line mark\" d=\"M157.1979772334611,274.4327450152536L508.87664307709935,76.27978797844301\" stroke=\"gray\" stroke-width=\"0.8\" opacity=\"0.5\"></path></g></g><path class=\"foreground\" aria-hidden=\"true\" d=\"\" display=\"none\"></path></g><g transform=\"translate(0,0)\"><path class=\"background\" aria-hidden=\"true\" d=\"M0,0h600v400h-600Z\"></path><g><g class=\"mark-line role-mark layer_0_marks\" role=\"graphics-object\" aria-roledescription=\"line mark container\" pointer-events=\"none\"><path aria-label=\"edges_x: 0.0710028145945; edges_y: 0.466459573448; pairs: 1,15\" role=\"graphics-symbol\" aria-roledescription=\"line mark\" d=\"M321.30084437835757,106.70808531040264L415.0595990750894,164.8199368750709\" stroke=\"gray\" stroke-width=\"0.8\" opacity=\"0.5\"></path></g></g><path class=\"foreground\" aria-hidden=\"true\" d=\"\" display=\"none\"></path></g><g transform=\"translate(0,0)\"><path class=\"background\" aria-hidden=\"true\" d=\"M0,0h600v400h-600Z\"></path><g><g class=\"mark-line role-mark layer_0_marks\" role=\"graphics-object\" aria-roledescription=\"line mark container\" pointer-events=\"none\"><path aria-label=\"edges_x: -0.691779833161; edges_y: 0.83967718037; pairs: 2,15\" role=\"graphics-symbol\" aria-roledescription=\"line mark\" d=\"M92.46605005168624,32.06456392601762L321.30084437835757,106.70808531040264\" stroke=\"gray\" stroke-width=\"0.8\" opacity=\"0.5\"></path></g></g><path class=\"foreground\" aria-hidden=\"true\" d=\"\" display=\"none\"></path></g><g transform=\"translate(0,0)\"><path class=\"background\" aria-hidden=\"true\" d=\"M0,0h600v400h-600Z\"></path><g><g class=\"mark-line role-mark layer_0_marks\" role=\"graphics-object\" aria-roledescription=\"line mark container\" pointer-events=\"none\"><path aria-label=\"edges_x: -1; edges_y: -0.607951808209; pairs: 3,15\" role=\"graphics-symbol\" aria-roledescription=\"line mark\" d=\"M0,321.590361641879L321.30084437835757,106.70808531040264\" stroke=\"gray\" stroke-width=\"0.8\" opacity=\"0.5\"></path></g></g><path class=\"foreground\" aria-hidden=\"true\" d=\"\" display=\"none\"></path></g><g transform=\"translate(0,0)\"><path class=\"background\" aria-hidden=\"true\" d=\"M0,0h600v400h-600Z\"></path><g><g class=\"mark-line role-mark layer_0_marks\" role=\"graphics-object\" aria-roledescription=\"line mark container\" pointer-events=\"none\"><path aria-label=\"edges_x: -0.128476147133; edges_y: 0.914780718828; pairs: 4,15\" role=\"graphics-symbol\" aria-roledescription=\"line mark\" d=\"M261.4571558600319,17.043856234459163L321.30084437835757,106.70808531040264\" stroke=\"gray\" stroke-width=\"0.8\" opacity=\"0.5\"></path></g></g><path class=\"foreground\" aria-hidden=\"true\" d=\"\" display=\"none\"></path></g><g transform=\"translate(0,0)\"><path class=\"background\" aria-hidden=\"true\" d=\"M0,0h600v400h-600Z\"></path><g><g class=\"mark-line role-mark layer_0_marks\" role=\"graphics-object\" aria-roledescription=\"line mark container\" pointer-events=\"none\"><path aria-label=\"edges_x: -0.334939293695; edges_y: 0.525142488446; pairs: 5,15\" role=\"graphics-symbol\" aria-roledescription=\"line mark\" d=\"M199.51821189137658,94.97150231082192L321.30084437835757,106.70808531040264\" stroke=\"gray\" stroke-width=\"0.8\" opacity=\"0.5\"></path></g></g><path class=\"foreground\" aria-hidden=\"true\" d=\"\" display=\"none\"></path></g><g transform=\"translate(0,0)\"><path class=\"background\" aria-hidden=\"true\" d=\"M0,0h600v400h-600Z\"></path><g><g class=\"mark-line role-mark layer_0_marks\" role=\"graphics-object\" aria-roledescription=\"line mark container\" pointer-events=\"none\"><path aria-label=\"edges_x: -0.520818816471; edges_y: 0.11672104544; pairs: 6,15\" role=\"graphics-symbol\" aria-roledescription=\"line mark\" d=\"M143.75435505861523,176.6557909119181L321.30084437835757,106.70808531040264\" stroke=\"gray\" stroke-width=\"0.8\" opacity=\"0.5\"></path></g></g><path class=\"foreground\" aria-hidden=\"true\" d=\"\" display=\"none\"></path></g><g transform=\"translate(0,0)\"><path class=\"background\" aria-hidden=\"true\" d=\"M0,0h600v400h-600Z\"></path><g><g class=\"mark-line role-mark layer_0_marks\" role=\"graphics-object\" aria-roledescription=\"line mark container\" pointer-events=\"none\"><path aria-label=\"edges_x: 0.0710028145945; edges_y: 0.466459573448; pairs: 7,15\" role=\"graphics-symbol\" aria-roledescription=\"line mark\" d=\"M321.30084437835757,106.70808531040264L600,174.2019066598404\" stroke=\"gray\" stroke-width=\"0.8\" opacity=\"0.5\"></path></g></g><path class=\"foreground\" aria-hidden=\"true\" d=\"\" display=\"none\"></path></g><g transform=\"translate(0,0)\"><path class=\"background\" aria-hidden=\"true\" d=\"M0,0h600v400h-600Z\"></path><g><g class=\"mark-line role-mark layer_0_marks\" role=\"graphics-object\" aria-roledescription=\"line mark container\" pointer-events=\"none\"><path aria-label=\"edges_x: 0.0710028145945; edges_y: 0.466459573448; pairs: 8,15\" role=\"graphics-symbol\" aria-roledescription=\"line mark\" d=\"M321.30084437835757,106.70808531040264L330.07203737850773,272.008465939673\" stroke=\"gray\" stroke-width=\"0.8\" opacity=\"0.5\"></path></g></g><path class=\"foreground\" aria-hidden=\"true\" d=\"\" display=\"none\"></path></g><g transform=\"translate(0,0)\"><path class=\"background\" aria-hidden=\"true\" d=\"M0,0h600v400h-600Z\"></path><g><g class=\"mark-line role-mark layer_0_marks\" role=\"graphics-object\" aria-roledescription=\"line mark container\" pointer-events=\"none\"><path aria-label=\"edges_x: -0.892815597637; edges_y: 0.397963513625; pairs: 9,15\" role=\"graphics-symbol\" aria-roledescription=\"line mark\" d=\"M32.15532070901417,120.40729727496893L321.30084437835757,106.70808531040264\" stroke=\"gray\" stroke-width=\"0.8\" opacity=\"0.5\"></path></g></g><path class=\"foreground\" aria-hidden=\"true\" d=\"\" display=\"none\"></path></g><g transform=\"translate(0,0)\"><path class=\"background\" aria-hidden=\"true\" d=\"M0,0h600v400h-600Z\"></path><g><g class=\"mark-line role-mark layer_0_marks\" role=\"graphics-object\" aria-roledescription=\"line mark container\" pointer-events=\"none\"><path aria-label=\"edges_x: -0.227793116562; edges_y: -0.71997400539; pairs: 10,15\" role=\"graphics-symbol\" aria-roledescription=\"line mark\" d=\"M231.6620650314319,343.9948010779759L321.30084437835757,106.70808531040264\" stroke=\"gray\" stroke-width=\"0.8\" opacity=\"0.5\"></path></g></g><path class=\"foreground\" aria-hidden=\"true\" d=\"\" display=\"none\"></path></g><g transform=\"translate(0,0)\"><path class=\"background\" aria-hidden=\"true\" d=\"M0,0h600v400h-600Z\"></path><g><g class=\"mark-line role-mark layer_0_marks\" role=\"graphics-object\" aria-roledescription=\"line mark container\" pointer-events=\"none\"><path aria-label=\"edges_x: -0.676549052016; edges_y: -1; pairs: 11,15\" role=\"graphics-symbol\" aria-roledescription=\"line mark\" d=\"M97.03528439516083,400L321.30084437835757,106.70808531040264\" stroke=\"gray\" stroke-width=\"0.8\" opacity=\"0.5\"></path></g></g><path class=\"foreground\" aria-hidden=\"true\" d=\"\" display=\"none\"></path></g><g transform=\"translate(0,0)\"><path class=\"background\" aria-hidden=\"true\" d=\"M0,0h600v400h-600Z\"></path><g><g class=\"mark-line role-mark layer_0_marks\" role=\"graphics-object\" aria-roledescription=\"line mark container\" pointer-events=\"none\"><path aria-label=\"edges_x: 0.0710028145945; edges_y: 0.466459573448; pairs: 12,15\" role=\"graphics-symbol\" aria-roledescription=\"line mark\" d=\"M321.30084437835757,106.70808531040264L399.9163392032951,0\" stroke=\"gray\" stroke-width=\"0.8\" opacity=\"0.5\"></path></g></g><path class=\"foreground\" aria-hidden=\"true\" d=\"\" display=\"none\"></path></g><g transform=\"translate(0,0)\"><path class=\"background\" aria-hidden=\"true\" d=\"M0,0h600v400h-600Z\"></path><g><g class=\"mark-line role-mark layer_0_marks\" role=\"graphics-object\" aria-roledescription=\"line mark container\" pointer-events=\"none\"><path aria-label=\"edges_x: 0.0710028145945; edges_y: 0.466459573448; pairs: 13,15\" role=\"graphics-symbol\" aria-roledescription=\"line mark\" d=\"M321.30084437835757,106.70808531040264L508.87664307709935,76.27978797844301\" stroke=\"gray\" stroke-width=\"0.8\" opacity=\"0.5\"></path></g></g><path class=\"foreground\" aria-hidden=\"true\" d=\"\" display=\"none\"></path></g><g transform=\"translate(0,0)\"><path class=\"background\" aria-hidden=\"true\" d=\"M0,0h600v400h-600Z\"></path><g><g class=\"mark-line role-mark layer_0_marks\" role=\"graphics-object\" aria-roledescription=\"line mark container\" pointer-events=\"none\"><path aria-label=\"edges_x: -0.476006742555; edges_y: -0.372163725076; pairs: 14,15\" role=\"graphics-symbol\" aria-roledescription=\"line mark\" d=\"M157.1979772334611,274.4327450152536L321.30084437835757,106.70808531040264\" stroke=\"gray\" stroke-width=\"0.8\" opacity=\"0.5\"></path></g></g><path class=\"foreground\" aria-hidden=\"true\" d=\"\" display=\"none\"></path></g><g transform=\"translate(0,0)\"><path class=\"background\" aria-hidden=\"true\" d=\"M0,0h600v400h-600Z\"></path><g><g class=\"mark-line role-mark layer_0_marks\" role=\"graphics-object\" aria-roledescription=\"line mark container\" pointer-events=\"none\"><path aria-label=\"edges_x: -0.121649692942; edges_y: 0.0262157889005; pairs: 1,16\" role=\"graphics-symbol\" aria-roledescription=\"line mark\" d=\"M263.50509211742656,194.75684221989255L415.0595990750894,164.8199368750709\" stroke=\"gray\" stroke-width=\"0.8\" opacity=\"0.5\"></path></g></g><path class=\"foreground\" aria-hidden=\"true\" d=\"\" display=\"none\"></path></g><g transform=\"translate(0,0)\"><path class=\"background\" aria-hidden=\"true\" d=\"M0,0h600v400h-600Z\"></path><g><g class=\"mark-line role-mark layer_0_marks\" role=\"graphics-object\" aria-roledescription=\"line mark container\" pointer-events=\"none\"><path aria-label=\"edges_x: -0.691779833161; edges_y: 0.83967718037; pairs: 2,16\" role=\"graphics-symbol\" aria-roledescription=\"line mark\" d=\"M92.46605005168624,32.06456392601762L263.50509211742656,194.75684221989255\" stroke=\"gray\" stroke-width=\"0.8\" opacity=\"0.5\"></path></g></g><path class=\"foreground\" aria-hidden=\"true\" d=\"\" display=\"none\"></path></g><g transform=\"translate(0,0)\"><path class=\"background\" aria-hidden=\"true\" d=\"M0,0h600v400h-600Z\"></path><g><g class=\"mark-line role-mark layer_0_marks\" role=\"graphics-object\" aria-roledescription=\"line mark container\" pointer-events=\"none\"><path aria-label=\"edges_x: -1; edges_y: -0.607951808209; pairs: 3,16\" role=\"graphics-symbol\" aria-roledescription=\"line mark\" d=\"M0,321.590361641879L263.50509211742656,194.75684221989255\" stroke=\"gray\" stroke-width=\"0.8\" opacity=\"0.5\"></path></g></g><path class=\"foreground\" aria-hidden=\"true\" d=\"\" display=\"none\"></path></g><g transform=\"translate(0,0)\"><path class=\"background\" aria-hidden=\"true\" d=\"M0,0h600v400h-600Z\"></path><g><g class=\"mark-line role-mark layer_0_marks\" role=\"graphics-object\" aria-roledescription=\"line mark container\" pointer-events=\"none\"><path aria-label=\"edges_x: -0.128476147133; edges_y: 0.914780718828; pairs: 4,16\" role=\"graphics-symbol\" aria-roledescription=\"line mark\" d=\"M261.4571558600319,17.043856234459163L263.50509211742656,194.75684221989255\" stroke=\"gray\" stroke-width=\"0.8\" opacity=\"0.5\"></path></g></g><path class=\"foreground\" aria-hidden=\"true\" d=\"\" display=\"none\"></path></g><g transform=\"translate(0,0)\"><path class=\"background\" aria-hidden=\"true\" d=\"M0,0h600v400h-600Z\"></path><g><g class=\"mark-line role-mark layer_0_marks\" role=\"graphics-object\" aria-roledescription=\"line mark container\" pointer-events=\"none\"><path aria-label=\"edges_x: -0.334939293695; edges_y: 0.525142488446; pairs: 5,16\" role=\"graphics-symbol\" aria-roledescription=\"line mark\" d=\"M199.51821189137658,94.97150231082192L263.50509211742656,194.75684221989255\" stroke=\"gray\" stroke-width=\"0.8\" opacity=\"0.5\"></path></g></g><path class=\"foreground\" aria-hidden=\"true\" d=\"\" display=\"none\"></path></g><g transform=\"translate(0,0)\"><path class=\"background\" aria-hidden=\"true\" d=\"M0,0h600v400h-600Z\"></path><g><g class=\"mark-line role-mark layer_0_marks\" role=\"graphics-object\" aria-roledescription=\"line mark container\" pointer-events=\"none\"><path aria-label=\"edges_x: -0.520818816471; edges_y: 0.11672104544; pairs: 6,16\" role=\"graphics-symbol\" aria-roledescription=\"line mark\" d=\"M143.75435505861523,176.6557909119181L263.50509211742656,194.75684221989255\" stroke=\"gray\" stroke-width=\"0.8\" opacity=\"0.5\"></path></g></g><path class=\"foreground\" aria-hidden=\"true\" d=\"\" display=\"none\"></path></g><g transform=\"translate(0,0)\"><path class=\"background\" aria-hidden=\"true\" d=\"M0,0h600v400h-600Z\"></path><g><g class=\"mark-line role-mark layer_0_marks\" role=\"graphics-object\" aria-roledescription=\"line mark container\" pointer-events=\"none\"><path aria-label=\"edges_x: -0.121649692942; edges_y: 0.0262157889005; pairs: 7,16\" role=\"graphics-symbol\" aria-roledescription=\"line mark\" d=\"M263.50509211742656,194.75684221989255L600,174.2019066598404\" stroke=\"gray\" stroke-width=\"0.8\" opacity=\"0.5\"></path></g></g><path class=\"foreground\" aria-hidden=\"true\" d=\"\" display=\"none\"></path></g><g transform=\"translate(0,0)\"><path class=\"background\" aria-hidden=\"true\" d=\"M0,0h600v400h-600Z\"></path><g><g class=\"mark-line role-mark layer_0_marks\" role=\"graphics-object\" aria-roledescription=\"line mark container\" pointer-events=\"none\"><path aria-label=\"edges_x: -0.121649692942; edges_y: 0.0262157889005; pairs: 8,16\" role=\"graphics-symbol\" aria-roledescription=\"line mark\" d=\"M263.50509211742656,194.75684221989255L330.07203737850773,272.008465939673\" stroke=\"gray\" stroke-width=\"0.8\" opacity=\"0.5\"></path></g></g><path class=\"foreground\" aria-hidden=\"true\" d=\"\" display=\"none\"></path></g><g transform=\"translate(0,0)\"><path class=\"background\" aria-hidden=\"true\" d=\"M0,0h600v400h-600Z\"></path><g><g class=\"mark-line role-mark layer_0_marks\" role=\"graphics-object\" aria-roledescription=\"line mark container\" pointer-events=\"none\"><path aria-label=\"edges_x: -0.892815597637; edges_y: 0.397963513625; pairs: 9,16\" role=\"graphics-symbol\" aria-roledescription=\"line mark\" d=\"M32.15532070901417,120.40729727496893L263.50509211742656,194.75684221989255\" stroke=\"gray\" stroke-width=\"0.8\" opacity=\"0.5\"></path></g></g><path class=\"foreground\" aria-hidden=\"true\" d=\"\" display=\"none\"></path></g><g transform=\"translate(0,0)\"><path class=\"background\" aria-hidden=\"true\" d=\"M0,0h600v400h-600Z\"></path><g><g class=\"mark-line role-mark layer_0_marks\" role=\"graphics-object\" aria-roledescription=\"line mark container\" pointer-events=\"none\"><path aria-label=\"edges_x: -0.227793116562; edges_y: -0.71997400539; pairs: 10,16\" role=\"graphics-symbol\" aria-roledescription=\"line mark\" d=\"M231.6620650314319,343.9948010779759L263.50509211742656,194.75684221989255\" stroke=\"gray\" stroke-width=\"0.8\" opacity=\"0.5\"></path></g></g><path class=\"foreground\" aria-hidden=\"true\" d=\"\" display=\"none\"></path></g><g transform=\"translate(0,0)\"><path class=\"background\" aria-hidden=\"true\" d=\"M0,0h600v400h-600Z\"></path><g><g class=\"mark-line role-mark layer_0_marks\" role=\"graphics-object\" aria-roledescription=\"line mark container\" pointer-events=\"none\"><path aria-label=\"edges_x: -0.676549052016; edges_y: -1; pairs: 11,16\" role=\"graphics-symbol\" aria-roledescription=\"line mark\" d=\"M97.03528439516083,400L263.50509211742656,194.75684221989255\" stroke=\"gray\" stroke-width=\"0.8\" opacity=\"0.5\"></path></g></g><path class=\"foreground\" aria-hidden=\"true\" d=\"\" display=\"none\"></path></g><g transform=\"translate(0,0)\"><path class=\"background\" aria-hidden=\"true\" d=\"M0,0h600v400h-600Z\"></path><g><g class=\"mark-line role-mark layer_0_marks\" role=\"graphics-object\" aria-roledescription=\"line mark container\" pointer-events=\"none\"><path aria-label=\"edges_x: -0.121649692942; edges_y: 0.0262157889005; pairs: 12,16\" role=\"graphics-symbol\" aria-roledescription=\"line mark\" d=\"M263.50509211742656,194.75684221989255L399.9163392032951,0\" stroke=\"gray\" stroke-width=\"0.8\" opacity=\"0.5\"></path></g></g><path class=\"foreground\" aria-hidden=\"true\" d=\"\" display=\"none\"></path></g><g transform=\"translate(0,0)\"><path class=\"background\" aria-hidden=\"true\" d=\"M0,0h600v400h-600Z\"></path><g><g class=\"mark-line role-mark layer_0_marks\" role=\"graphics-object\" aria-roledescription=\"line mark container\" pointer-events=\"none\"><path aria-label=\"edges_x: -0.121649692942; edges_y: 0.0262157889005; pairs: 13,16\" role=\"graphics-symbol\" aria-roledescription=\"line mark\" d=\"M263.50509211742656,194.75684221989255L508.87664307709935,76.27978797844301\" stroke=\"gray\" stroke-width=\"0.8\" opacity=\"0.5\"></path></g></g><path class=\"foreground\" aria-hidden=\"true\" d=\"\" display=\"none\"></path></g><g transform=\"translate(0,0)\"><path class=\"background\" aria-hidden=\"true\" d=\"M0,0h600v400h-600Z\"></path><g><g class=\"mark-line role-mark layer_0_marks\" role=\"graphics-object\" aria-roledescription=\"line mark container\" pointer-events=\"none\"><path aria-label=\"edges_x: -0.476006742555; edges_y: -0.372163725076; pairs: 14,16\" role=\"graphics-symbol\" aria-roledescription=\"line mark\" d=\"M157.1979772334611,274.4327450152536L263.50509211742656,194.75684221989255\" stroke=\"gray\" stroke-width=\"0.8\" opacity=\"0.5\"></path></g></g><path class=\"foreground\" aria-hidden=\"true\" d=\"\" display=\"none\"></path></g><g transform=\"translate(0,0)\"><path class=\"background\" aria-hidden=\"true\" d=\"M0,0h600v400h-600Z\"></path><g><g class=\"mark-line role-mark layer_0_marks\" role=\"graphics-object\" aria-roledescription=\"line mark container\" pointer-events=\"none\"><path aria-label=\"edges_x: -0.121649692942; edges_y: 0.0262157889005; pairs: 15,16\" role=\"graphics-symbol\" aria-roledescription=\"line mark\" d=\"M263.50509211742656,194.75684221989255L321.30084437835757,106.70808531040264\" stroke=\"gray\" stroke-width=\"0.8\" opacity=\"0.5\"></path></g></g><path class=\"foreground\" aria-hidden=\"true\" d=\"\" display=\"none\"></path></g><g transform=\"translate(0,0)\"><path class=\"background\" aria-hidden=\"true\" d=\"M0,0h600v400h-600Z\"></path><g><g class=\"mark-line role-mark layer_0_marks\" role=\"graphics-object\" aria-roledescription=\"line mark container\" pointer-events=\"none\"><path aria-label=\"edges_x: 0.383531996917; edges_y: 0.175900315625; pairs: 1,17\" role=\"graphics-symbol\" aria-roledescription=\"line mark\" d=\"M415.0595990750894,164.8199368750709L442.58755374781725,346.45023538283704\" stroke=\"gray\" stroke-width=\"0.8\" opacity=\"0.5\"></path></g></g><path class=\"foreground\" aria-hidden=\"true\" d=\"\" display=\"none\"></path></g><g transform=\"translate(0,0)\"><path class=\"background\" aria-hidden=\"true\" d=\"M0,0h600v400h-600Z\"></path><g><g class=\"mark-line role-mark layer_0_marks\" role=\"graphics-object\" aria-roledescription=\"line mark container\" pointer-events=\"none\"><path aria-label=\"edges_x: -1; edges_y: -0.607951808209; pairs: 3,17\" role=\"graphics-symbol\" aria-roledescription=\"line mark\" d=\"M0,321.590361641879L442.58755374781725,346.45023538283704\" stroke=\"gray\" stroke-width=\"0.8\" opacity=\"0.5\"></path></g></g><path class=\"foreground\" aria-hidden=\"true\" d=\"\" display=\"none\"></path></g><g transform=\"translate(0,0)\"><path class=\"background\" aria-hidden=\"true\" d=\"M0,0h600v400h-600Z\"></path><g><g class=\"mark-line role-mark layer_0_marks\" role=\"graphics-object\" aria-roledescription=\"line mark container\" pointer-events=\"none\"><path aria-label=\"edges_x: -0.128476147133; edges_y: 0.914780718828; pairs: 4,17\" role=\"graphics-symbol\" aria-roledescription=\"line mark\" d=\"M261.4571558600319,17.043856234459163L442.58755374781725,346.45023538283704\" stroke=\"gray\" stroke-width=\"0.8\" opacity=\"0.5\"></path></g></g><path class=\"foreground\" aria-hidden=\"true\" d=\"\" display=\"none\"></path></g><g transform=\"translate(0,0)\"><path class=\"background\" aria-hidden=\"true\" d=\"M0,0h600v400h-600Z\"></path><g><g class=\"mark-line role-mark layer_0_marks\" role=\"graphics-object\" aria-roledescription=\"line mark container\" pointer-events=\"none\"><path aria-label=\"edges_x: -0.334939293695; edges_y: 0.525142488446; pairs: 5,17\" role=\"graphics-symbol\" aria-roledescription=\"line mark\" d=\"M199.51821189137658,94.97150231082192L442.58755374781725,346.45023538283704\" stroke=\"gray\" stroke-width=\"0.8\" opacity=\"0.5\"></path></g></g><path class=\"foreground\" aria-hidden=\"true\" d=\"\" display=\"none\"></path></g><g transform=\"translate(0,0)\"><path class=\"background\" aria-hidden=\"true\" d=\"M0,0h600v400h-600Z\"></path><g><g class=\"mark-line role-mark layer_0_marks\" role=\"graphics-object\" aria-roledescription=\"line mark container\" pointer-events=\"none\"><path aria-label=\"edges_x: -0.520818816471; edges_y: 0.11672104544; pairs: 6,17\" role=\"graphics-symbol\" aria-roledescription=\"line mark\" d=\"M143.75435505861523,176.6557909119181L442.58755374781725,346.45023538283704\" stroke=\"gray\" stroke-width=\"0.8\" opacity=\"0.5\"></path></g></g><path class=\"foreground\" aria-hidden=\"true\" d=\"\" display=\"none\"></path></g><g transform=\"translate(0,0)\"><path class=\"background\" aria-hidden=\"true\" d=\"M0,0h600v400h-600Z\"></path><g><g class=\"mark-line role-mark layer_0_marks\" role=\"graphics-object\" aria-roledescription=\"line mark container\" pointer-events=\"none\"><path aria-label=\"edges_x: 0.475291845826; edges_y: -0.732251176914; pairs: 7,17\" role=\"graphics-symbol\" aria-roledescription=\"line mark\" d=\"M442.58755374781725,346.45023538283704L600,174.2019066598404\" stroke=\"gray\" stroke-width=\"0.8\" opacity=\"0.5\"></path></g></g><path class=\"foreground\" aria-hidden=\"true\" d=\"\" display=\"none\"></path></g><g transform=\"translate(0,0)\"><path class=\"background\" aria-hidden=\"true\" d=\"M0,0h600v400h-600Z\"></path><g><g class=\"mark-line role-mark layer_0_marks\" role=\"graphics-object\" aria-roledescription=\"line mark container\" pointer-events=\"none\"><path aria-label=\"edges_x: 0.100240124595; edges_y: -0.360042329698; pairs: 8,17\" role=\"graphics-symbol\" aria-roledescription=\"line mark\" d=\"M330.07203737850773,272.008465939673L442.58755374781725,346.45023538283704\" stroke=\"gray\" stroke-width=\"0.8\" opacity=\"0.5\"></path></g></g><path class=\"foreground\" aria-hidden=\"true\" d=\"\" display=\"none\"></path></g><g transform=\"translate(0,0)\"><path class=\"background\" aria-hidden=\"true\" d=\"M0,0h600v400h-600Z\"></path><g><g class=\"mark-line role-mark layer_0_marks\" role=\"graphics-object\" aria-roledescription=\"line mark container\" pointer-events=\"none\"><path aria-label=\"edges_x: -0.892815597637; edges_y: 0.397963513625; pairs: 9,17\" role=\"graphics-symbol\" aria-roledescription=\"line mark\" d=\"M32.15532070901417,120.40729727496893L442.58755374781725,346.45023538283704\" stroke=\"gray\" stroke-width=\"0.8\" opacity=\"0.5\"></path></g></g><path class=\"foreground\" aria-hidden=\"true\" d=\"\" display=\"none\"></path></g><g transform=\"translate(0,0)\"><path class=\"background\" aria-hidden=\"true\" d=\"M0,0h600v400h-600Z\"></path><g><g class=\"mark-line role-mark layer_0_marks\" role=\"graphics-object\" aria-roledescription=\"line mark container\" pointer-events=\"none\"><path aria-label=\"edges_x: -0.227793116562; edges_y: -0.71997400539; pairs: 10,17\" role=\"graphics-symbol\" aria-roledescription=\"line mark\" d=\"M231.6620650314319,343.9948010779759L442.58755374781725,346.45023538283704\" stroke=\"gray\" stroke-width=\"0.8\" opacity=\"0.5\"></path></g></g><path class=\"foreground\" aria-hidden=\"true\" d=\"\" display=\"none\"></path></g><g transform=\"translate(0,0)\"><path class=\"background\" aria-hidden=\"true\" d=\"M0,0h600v400h-600Z\"></path><g><g class=\"mark-line role-mark layer_0_marks\" role=\"graphics-object\" aria-roledescription=\"line mark container\" pointer-events=\"none\"><path aria-label=\"edges_x: -0.676549052016; edges_y: -1; pairs: 11,17\" role=\"graphics-symbol\" aria-roledescription=\"line mark\" d=\"M97.03528439516083,400L442.58755374781725,346.45023538283704\" stroke=\"gray\" stroke-width=\"0.8\" opacity=\"0.5\"></path></g></g><path class=\"foreground\" aria-hidden=\"true\" d=\"\" display=\"none\"></path></g><g transform=\"translate(0,0)\"><path class=\"background\" aria-hidden=\"true\" d=\"M0,0h600v400h-600Z\"></path><g><g class=\"mark-line role-mark layer_0_marks\" role=\"graphics-object\" aria-roledescription=\"line mark container\" pointer-events=\"none\"><path aria-label=\"edges_x: 0.333054464011; edges_y: 1; pairs: 12,17\" role=\"graphics-symbol\" aria-roledescription=\"line mark\" d=\"M399.9163392032951,0L442.58755374781725,346.45023538283704\" stroke=\"gray\" stroke-width=\"0.8\" opacity=\"0.5\"></path></g></g><path class=\"foreground\" aria-hidden=\"true\" d=\"\" display=\"none\"></path></g><g transform=\"translate(0,0)\"><path class=\"background\" aria-hidden=\"true\" d=\"M0,0h600v400h-600Z\"></path><g><g class=\"mark-line role-mark layer_0_marks\" role=\"graphics-object\" aria-roledescription=\"line mark container\" pointer-events=\"none\"><path aria-label=\"edges_x: 0.475291845826; edges_y: -0.732251176914; pairs: 13,17\" role=\"graphics-symbol\" aria-roledescription=\"line mark\" d=\"M442.58755374781725,346.45023538283704L508.87664307709935,76.27978797844301\" stroke=\"gray\" stroke-width=\"0.8\" opacity=\"0.5\"></path></g></g><path class=\"foreground\" aria-hidden=\"true\" d=\"\" display=\"none\"></path></g><g transform=\"translate(0,0)\"><path class=\"background\" aria-hidden=\"true\" d=\"M0,0h600v400h-600Z\"></path><g><g class=\"mark-line role-mark layer_0_marks\" role=\"graphics-object\" aria-roledescription=\"line mark container\" pointer-events=\"none\"><path aria-label=\"edges_x: -0.476006742555; edges_y: -0.372163725076; pairs: 14,17\" role=\"graphics-symbol\" aria-roledescription=\"line mark\" d=\"M157.1979772334611,274.4327450152536L442.58755374781725,346.45023538283704\" stroke=\"gray\" stroke-width=\"0.8\" opacity=\"0.5\"></path></g></g><path class=\"foreground\" aria-hidden=\"true\" d=\"\" display=\"none\"></path></g><g transform=\"translate(0,0)\"><path class=\"background\" aria-hidden=\"true\" d=\"M0,0h600v400h-600Z\"></path><g><g class=\"mark-line role-mark layer_0_marks\" role=\"graphics-object\" aria-roledescription=\"line mark container\" pointer-events=\"none\"><path aria-label=\"edges_x: 0.0710028145945; edges_y: 0.466459573448; pairs: 15,17\" role=\"graphics-symbol\" aria-roledescription=\"line mark\" d=\"M321.30084437835757,106.70808531040264L442.58755374781725,346.45023538283704\" stroke=\"gray\" stroke-width=\"0.8\" opacity=\"0.5\"></path></g></g><path class=\"foreground\" aria-hidden=\"true\" d=\"\" display=\"none\"></path></g><g transform=\"translate(0,0)\"><path class=\"background\" aria-hidden=\"true\" d=\"M0,0h600v400h-600Z\"></path><g><g class=\"mark-line role-mark layer_0_marks\" role=\"graphics-object\" aria-roledescription=\"line mark container\" pointer-events=\"none\"><path aria-label=\"edges_x: -0.121649692942; edges_y: 0.0262157889005; pairs: 16,17\" role=\"graphics-symbol\" aria-roledescription=\"line mark\" d=\"M263.50509211742656,194.75684221989255L442.58755374781725,346.45023538283704\" stroke=\"gray\" stroke-width=\"0.8\" opacity=\"0.5\"></path></g></g><path class=\"foreground\" aria-hidden=\"true\" d=\"\" display=\"none\"></path></g><g transform=\"translate(0,0)\"><path class=\"background\" aria-hidden=\"true\" d=\"M0,0h600v400h-600Z\"></path><g><g class=\"mark-line role-mark layer_0_marks\" role=\"graphics-object\" aria-roledescription=\"line mark container\" pointer-events=\"none\"><path aria-label=\"edges_x: 0.0946039161482; edges_y: -0.85046553015; pairs: 1,18\" role=\"graphics-symbol\" aria-roledescription=\"line mark\" d=\"M328.3811748444544,370.0931060300292L415.0595990750894,164.8199368750709\" stroke=\"gray\" stroke-width=\"0.8\" opacity=\"0.5\"></path></g></g><path class=\"foreground\" aria-hidden=\"true\" d=\"\" display=\"none\"></path></g><g transform=\"translate(0,0)\"><path class=\"background\" aria-hidden=\"true\" d=\"M0,0h600v400h-600Z\"></path><g><g class=\"mark-line role-mark layer_0_marks\" role=\"graphics-object\" aria-roledescription=\"line mark container\" pointer-events=\"none\"><path aria-label=\"edges_x: -0.691779833161; edges_y: 0.83967718037; pairs: 2,18\" role=\"graphics-symbol\" aria-roledescription=\"line mark\" d=\"M92.46605005168624,32.06456392601762L328.3811748444544,370.0931060300292\" stroke=\"gray\" stroke-width=\"0.8\" opacity=\"0.5\"></path></g></g><path class=\"foreground\" aria-hidden=\"true\" d=\"\" display=\"none\"></path></g><g transform=\"translate(0,0)\"><path class=\"background\" aria-hidden=\"true\" d=\"M0,0h600v400h-600Z\"></path><g><g class=\"mark-line role-mark layer_0_marks\" role=\"graphics-object\" aria-roledescription=\"line mark container\" pointer-events=\"none\"><path aria-label=\"edges_x: -1; edges_y: -0.607951808209; pairs: 3,18\" role=\"graphics-symbol\" aria-roledescription=\"line mark\" d=\"M0,321.590361641879L328.3811748444544,370.0931060300292\" stroke=\"gray\" stroke-width=\"0.8\" opacity=\"0.5\"></path></g></g><path class=\"foreground\" aria-hidden=\"true\" d=\"\" display=\"none\"></path></g><g transform=\"translate(0,0)\"><path class=\"background\" aria-hidden=\"true\" d=\"M0,0h600v400h-600Z\"></path><g><g class=\"mark-line role-mark layer_0_marks\" role=\"graphics-object\" aria-roledescription=\"line mark container\" pointer-events=\"none\"><path aria-label=\"edges_x: -0.128476147133; edges_y: 0.914780718828; pairs: 4,18\" role=\"graphics-symbol\" aria-roledescription=\"line mark\" d=\"M261.4571558600319,17.043856234459163L328.3811748444544,370.0931060300292\" stroke=\"gray\" stroke-width=\"0.8\" opacity=\"0.5\"></path></g></g><path class=\"foreground\" aria-hidden=\"true\" d=\"\" display=\"none\"></path></g><g transform=\"translate(0,0)\"><path class=\"background\" aria-hidden=\"true\" d=\"M0,0h600v400h-600Z\"></path><g><g class=\"mark-line role-mark layer_0_marks\" role=\"graphics-object\" aria-roledescription=\"line mark container\" pointer-events=\"none\"><path aria-label=\"edges_x: -0.334939293695; edges_y: 0.525142488446; pairs: 5,18\" role=\"graphics-symbol\" aria-roledescription=\"line mark\" d=\"M199.51821189137658,94.97150231082192L328.3811748444544,370.0931060300292\" stroke=\"gray\" stroke-width=\"0.8\" opacity=\"0.5\"></path></g></g><path class=\"foreground\" aria-hidden=\"true\" d=\"\" display=\"none\"></path></g><g transform=\"translate(0,0)\"><path class=\"background\" aria-hidden=\"true\" d=\"M0,0h600v400h-600Z\"></path><g><g class=\"mark-line role-mark layer_0_marks\" role=\"graphics-object\" aria-roledescription=\"line mark container\" pointer-events=\"none\"><path aria-label=\"edges_x: -0.520818816471; edges_y: 0.11672104544; pairs: 6,18\" role=\"graphics-symbol\" aria-roledescription=\"line mark\" d=\"M143.75435505861523,176.6557909119181L328.3811748444544,370.0931060300292\" stroke=\"gray\" stroke-width=\"0.8\" opacity=\"0.5\"></path></g></g><path class=\"foreground\" aria-hidden=\"true\" d=\"\" display=\"none\"></path></g><g transform=\"translate(0,0)\"><path class=\"background\" aria-hidden=\"true\" d=\"M0,0h600v400h-600Z\"></path><g><g class=\"mark-line role-mark layer_0_marks\" role=\"graphics-object\" aria-roledescription=\"line mark container\" pointer-events=\"none\"><path aria-label=\"edges_x: 0.0946039161482; edges_y: -0.85046553015; pairs: 7,18\" role=\"graphics-symbol\" aria-roledescription=\"line mark\" d=\"M328.3811748444544,370.0931060300292L600,174.2019066598404\" stroke=\"gray\" stroke-width=\"0.8\" opacity=\"0.5\"></path></g></g><path class=\"foreground\" aria-hidden=\"true\" d=\"\" display=\"none\"></path></g><g transform=\"translate(0,0)\"><path class=\"background\" aria-hidden=\"true\" d=\"M0,0h600v400h-600Z\"></path><g><g class=\"mark-line role-mark layer_0_marks\" role=\"graphics-object\" aria-roledescription=\"line mark container\" pointer-events=\"none\"><path aria-label=\"edges_x: 0.0946039161482; edges_y: -0.85046553015; pairs: 8,18\" role=\"graphics-symbol\" aria-roledescription=\"line mark\" d=\"M328.3811748444544,370.0931060300292L330.07203737850773,272.008465939673\" stroke=\"gray\" stroke-width=\"0.8\" opacity=\"0.5\"></path></g></g><path class=\"foreground\" aria-hidden=\"true\" d=\"\" display=\"none\"></path></g><g transform=\"translate(0,0)\"><path class=\"background\" aria-hidden=\"true\" d=\"M0,0h600v400h-600Z\"></path><g><g class=\"mark-line role-mark layer_0_marks\" role=\"graphics-object\" aria-roledescription=\"line mark container\" pointer-events=\"none\"><path aria-label=\"edges_x: -0.892815597637; edges_y: 0.397963513625; pairs: 9,18\" role=\"graphics-symbol\" aria-roledescription=\"line mark\" d=\"M32.15532070901417,120.40729727496893L328.3811748444544,370.0931060300292\" stroke=\"gray\" stroke-width=\"0.8\" opacity=\"0.5\"></path></g></g><path class=\"foreground\" aria-hidden=\"true\" d=\"\" display=\"none\"></path></g><g transform=\"translate(0,0)\"><path class=\"background\" aria-hidden=\"true\" d=\"M0,0h600v400h-600Z\"></path><g><g class=\"mark-line role-mark layer_0_marks\" role=\"graphics-object\" aria-roledescription=\"line mark container\" pointer-events=\"none\"><path aria-label=\"edges_x: -0.227793116562; edges_y: -0.71997400539; pairs: 10,18\" role=\"graphics-symbol\" aria-roledescription=\"line mark\" d=\"M231.6620650314319,343.9948010779759L328.3811748444544,370.0931060300292\" stroke=\"gray\" stroke-width=\"0.8\" opacity=\"0.5\"></path></g></g><path class=\"foreground\" aria-hidden=\"true\" d=\"\" display=\"none\"></path></g><g transform=\"translate(0,0)\"><path class=\"background\" aria-hidden=\"true\" d=\"M0,0h600v400h-600Z\"></path><g><g class=\"mark-line role-mark layer_0_marks\" role=\"graphics-object\" aria-roledescription=\"line mark container\" pointer-events=\"none\"><path aria-label=\"edges_x: -0.676549052016; edges_y: -1; pairs: 11,18\" role=\"graphics-symbol\" aria-roledescription=\"line mark\" d=\"M97.03528439516083,400L328.3811748444544,370.0931060300292\" stroke=\"gray\" stroke-width=\"0.8\" opacity=\"0.5\"></path></g></g><path class=\"foreground\" aria-hidden=\"true\" d=\"\" display=\"none\"></path></g><g transform=\"translate(0,0)\"><path class=\"background\" aria-hidden=\"true\" d=\"M0,0h600v400h-600Z\"></path><g><g class=\"mark-line role-mark layer_0_marks\" role=\"graphics-object\" aria-roledescription=\"line mark container\" pointer-events=\"none\"><path aria-label=\"edges_x: 0.0946039161482; edges_y: -0.85046553015; pairs: 12,18\" role=\"graphics-symbol\" aria-roledescription=\"line mark\" d=\"M328.3811748444544,370.0931060300292L399.9163392032951,0\" stroke=\"gray\" stroke-width=\"0.8\" opacity=\"0.5\"></path></g></g><path class=\"foreground\" aria-hidden=\"true\" d=\"\" display=\"none\"></path></g><g transform=\"translate(0,0)\"><path class=\"background\" aria-hidden=\"true\" d=\"M0,0h600v400h-600Z\"></path><g><g class=\"mark-line role-mark layer_0_marks\" role=\"graphics-object\" aria-roledescription=\"line mark container\" pointer-events=\"none\"><path aria-label=\"edges_x: 0.0946039161482; edges_y: -0.85046553015; pairs: 13,18\" role=\"graphics-symbol\" aria-roledescription=\"line mark\" d=\"M328.3811748444544,370.0931060300292L508.87664307709935,76.27978797844301\" stroke=\"gray\" stroke-width=\"0.8\" opacity=\"0.5\"></path></g></g><path class=\"foreground\" aria-hidden=\"true\" d=\"\" display=\"none\"></path></g><g transform=\"translate(0,0)\"><path class=\"background\" aria-hidden=\"true\" d=\"M0,0h600v400h-600Z\"></path><g><g class=\"mark-line role-mark layer_0_marks\" role=\"graphics-object\" aria-roledescription=\"line mark container\" pointer-events=\"none\"><path aria-label=\"edges_x: -0.476006742555; edges_y: -0.372163725076; pairs: 14,18\" role=\"graphics-symbol\" aria-roledescription=\"line mark\" d=\"M157.1979772334611,274.4327450152536L328.3811748444544,370.0931060300292\" stroke=\"gray\" stroke-width=\"0.8\" opacity=\"0.5\"></path></g></g><path class=\"foreground\" aria-hidden=\"true\" d=\"\" display=\"none\"></path></g><g transform=\"translate(0,0)\"><path class=\"background\" aria-hidden=\"true\" d=\"M0,0h600v400h-600Z\"></path><g><g class=\"mark-line role-mark layer_0_marks\" role=\"graphics-object\" aria-roledescription=\"line mark container\" pointer-events=\"none\"><path aria-label=\"edges_x: 0.0710028145945; edges_y: 0.466459573448; pairs: 15,18\" role=\"graphics-symbol\" aria-roledescription=\"line mark\" d=\"M321.30084437835757,106.70808531040264L328.3811748444544,370.0931060300292\" stroke=\"gray\" stroke-width=\"0.8\" opacity=\"0.5\"></path></g></g><path class=\"foreground\" aria-hidden=\"true\" d=\"\" display=\"none\"></path></g><g transform=\"translate(0,0)\"><path class=\"background\" aria-hidden=\"true\" d=\"M0,0h600v400h-600Z\"></path><g><g class=\"mark-line role-mark layer_0_marks\" role=\"graphics-object\" aria-roledescription=\"line mark container\" pointer-events=\"none\"><path aria-label=\"edges_x: -0.121649692942; edges_y: 0.0262157889005; pairs: 16,18\" role=\"graphics-symbol\" aria-roledescription=\"line mark\" d=\"M263.50509211742656,194.75684221989255L328.3811748444544,370.0931060300292\" stroke=\"gray\" stroke-width=\"0.8\" opacity=\"0.5\"></path></g></g><path class=\"foreground\" aria-hidden=\"true\" d=\"\" display=\"none\"></path></g><g transform=\"translate(0,0)\"><path class=\"background\" aria-hidden=\"true\" d=\"M0,0h600v400h-600Z\"></path><g><g class=\"mark-line role-mark layer_0_marks\" role=\"graphics-object\" aria-roledescription=\"line mark container\" pointer-events=\"none\"><path aria-label=\"edges_x: 0.0946039161482; edges_y: -0.85046553015; pairs: 17,18\" role=\"graphics-symbol\" aria-roledescription=\"line mark\" d=\"M328.3811748444544,370.0931060300292L442.58755374781725,346.45023538283704\" stroke=\"gray\" stroke-width=\"0.8\" opacity=\"0.5\"></path></g></g><path class=\"foreground\" aria-hidden=\"true\" d=\"\" display=\"none\"></path></g><g transform=\"translate(0,0)\"><path class=\"background\" aria-hidden=\"true\" d=\"M0,0h600v400h-600Z\"></path><g><g class=\"mark-line role-mark layer_0_marks\" role=\"graphics-object\" aria-roledescription=\"line mark container\" pointer-events=\"none\"><path aria-label=\"edges_x: -0.971351819107; edges_y: -0.0892525753675; pairs: 1,19\" role=\"graphics-symbol\" aria-roledescription=\"line mark\" d=\"M8.594454267936646,217.8505150734968L415.0595990750894,164.8199368750709\" stroke=\"gray\" stroke-width=\"0.8\" opacity=\"0.5\"></path></g></g><path class=\"foreground\" aria-hidden=\"true\" d=\"\" display=\"none\"></path></g><g transform=\"translate(0,0)\"><path class=\"background\" aria-hidden=\"true\" d=\"M0,0h600v400h-600Z\"></path><g><g class=\"mark-line role-mark layer_0_marks\" role=\"graphics-object\" aria-roledescription=\"line mark container\" pointer-events=\"none\"><path aria-label=\"edges_x: -0.971351819107; edges_y: -0.0892525753675; pairs: 2,19\" role=\"graphics-symbol\" aria-roledescription=\"line mark\" d=\"M8.594454267936646,217.8505150734968L92.46605005168624,32.06456392601762\" stroke=\"gray\" stroke-width=\"0.8\" opacity=\"0.5\"></path></g></g><path class=\"foreground\" aria-hidden=\"true\" d=\"\" display=\"none\"></path></g><g transform=\"translate(0,0)\"><path class=\"background\" aria-hidden=\"true\" d=\"M0,0h600v400h-600Z\"></path><g><g class=\"mark-line role-mark layer_0_marks\" role=\"graphics-object\" aria-roledescription=\"line mark container\" pointer-events=\"none\"><path aria-label=\"edges_x: -1; edges_y: -0.607951808209; pairs: 3,19\" role=\"graphics-symbol\" aria-roledescription=\"line mark\" d=\"M0,321.590361641879L8.594454267936646,217.8505150734968\" stroke=\"gray\" stroke-width=\"0.8\" opacity=\"0.5\"></path></g></g><path class=\"foreground\" aria-hidden=\"true\" d=\"\" display=\"none\"></path></g><g transform=\"translate(0,0)\"><path class=\"background\" aria-hidden=\"true\" d=\"M0,0h600v400h-600Z\"></path><g><g class=\"mark-line role-mark layer_0_marks\" role=\"graphics-object\" aria-roledescription=\"line mark container\" pointer-events=\"none\"><path aria-label=\"edges_x: -0.971351819107; edges_y: -0.0892525753675; pairs: 5,19\" role=\"graphics-symbol\" aria-roledescription=\"line mark\" d=\"M8.594454267936646,217.8505150734968L199.51821189137658,94.97150231082192\" stroke=\"gray\" stroke-width=\"0.8\" opacity=\"0.5\"></path></g></g><path class=\"foreground\" aria-hidden=\"true\" d=\"\" display=\"none\"></path></g><g transform=\"translate(0,0)\"><path class=\"background\" aria-hidden=\"true\" d=\"M0,0h600v400h-600Z\"></path><g><g class=\"mark-line role-mark layer_0_marks\" role=\"graphics-object\" aria-roledescription=\"line mark container\" pointer-events=\"none\"><path aria-label=\"edges_x: -0.971351819107; edges_y: -0.0892525753675; pairs: 6,19\" role=\"graphics-symbol\" aria-roledescription=\"line mark\" d=\"M8.594454267936646,217.8505150734968L143.75435505861523,176.6557909119181\" stroke=\"gray\" stroke-width=\"0.8\" opacity=\"0.5\"></path></g></g><path class=\"foreground\" aria-hidden=\"true\" d=\"\" display=\"none\"></path></g><g transform=\"translate(0,0)\"><path class=\"background\" aria-hidden=\"true\" d=\"M0,0h600v400h-600Z\"></path><g><g class=\"mark-line role-mark layer_0_marks\" role=\"graphics-object\" aria-roledescription=\"line mark container\" pointer-events=\"none\"><path aria-label=\"edges_x: -0.971351819107; edges_y: -0.0892525753675; pairs: 8,19\" role=\"graphics-symbol\" aria-roledescription=\"line mark\" d=\"M8.594454267936646,217.8505150734968L330.07203737850773,272.008465939673\" stroke=\"gray\" stroke-width=\"0.8\" opacity=\"0.5\"></path></g></g><path class=\"foreground\" aria-hidden=\"true\" d=\"\" display=\"none\"></path></g><g transform=\"translate(0,0)\"><path class=\"background\" aria-hidden=\"true\" d=\"M0,0h600v400h-600Z\"></path><g><g class=\"mark-line role-mark layer_0_marks\" role=\"graphics-object\" aria-roledescription=\"line mark container\" pointer-events=\"none\"><path aria-label=\"edges_x: -0.971351819107; edges_y: -0.0892525753675; pairs: 9,19\" role=\"graphics-symbol\" aria-roledescription=\"line mark\" d=\"M8.594454267936646,217.8505150734968L32.15532070901417,120.40729727496893\" stroke=\"gray\" stroke-width=\"0.8\" opacity=\"0.5\"></path></g></g><path class=\"foreground\" aria-hidden=\"true\" d=\"\" display=\"none\"></path></g><g transform=\"translate(0,0)\"><path class=\"background\" aria-hidden=\"true\" d=\"M0,0h600v400h-600Z\"></path><g><g class=\"mark-line role-mark layer_0_marks\" role=\"graphics-object\" aria-roledescription=\"line mark container\" pointer-events=\"none\"><path aria-label=\"edges_x: -0.971351819107; edges_y: -0.0892525753675; pairs: 10,19\" role=\"graphics-symbol\" aria-roledescription=\"line mark\" d=\"M8.594454267936646,217.8505150734968L231.6620650314319,343.9948010779759\" stroke=\"gray\" stroke-width=\"0.8\" opacity=\"0.5\"></path></g></g><path class=\"foreground\" aria-hidden=\"true\" d=\"\" display=\"none\"></path></g><g transform=\"translate(0,0)\"><path class=\"background\" aria-hidden=\"true\" d=\"M0,0h600v400h-600Z\"></path><g><g class=\"mark-line role-mark layer_0_marks\" role=\"graphics-object\" aria-roledescription=\"line mark container\" pointer-events=\"none\"><path aria-label=\"edges_x: -0.971351819107; edges_y: -0.0892525753675; pairs: 11,19\" role=\"graphics-symbol\" aria-roledescription=\"line mark\" d=\"M8.594454267936646,217.8505150734968L97.03528439516083,400\" stroke=\"gray\" stroke-width=\"0.8\" opacity=\"0.5\"></path></g></g><path class=\"foreground\" aria-hidden=\"true\" d=\"\" display=\"none\"></path></g><g transform=\"translate(0,0)\"><path class=\"background\" aria-hidden=\"true\" d=\"M0,0h600v400h-600Z\"></path><g><g class=\"mark-line role-mark layer_0_marks\" role=\"graphics-object\" aria-roledescription=\"line mark container\" pointer-events=\"none\"><path aria-label=\"edges_x: -0.971351819107; edges_y: -0.0892525753675; pairs: 12,19\" role=\"graphics-symbol\" aria-roledescription=\"line mark\" d=\"M8.594454267936646,217.8505150734968L399.9163392032951,0\" stroke=\"gray\" stroke-width=\"0.8\" opacity=\"0.5\"></path></g></g><path class=\"foreground\" aria-hidden=\"true\" d=\"\" display=\"none\"></path></g><g transform=\"translate(0,0)\"><path class=\"background\" aria-hidden=\"true\" d=\"M0,0h600v400h-600Z\"></path><g><g class=\"mark-line role-mark layer_0_marks\" role=\"graphics-object\" aria-roledescription=\"line mark container\" pointer-events=\"none\"><path aria-label=\"edges_x: -0.971351819107; edges_y: -0.0892525753675; pairs: 13,19\" role=\"graphics-symbol\" aria-roledescription=\"line mark\" d=\"M8.594454267936646,217.8505150734968L508.87664307709935,76.27978797844301\" stroke=\"gray\" stroke-width=\"0.8\" opacity=\"0.5\"></path></g></g><path class=\"foreground\" aria-hidden=\"true\" d=\"\" display=\"none\"></path></g><g transform=\"translate(0,0)\"><path class=\"background\" aria-hidden=\"true\" d=\"M0,0h600v400h-600Z\"></path><g><g class=\"mark-line role-mark layer_0_marks\" role=\"graphics-object\" aria-roledescription=\"line mark container\" pointer-events=\"none\"><path aria-label=\"edges_x: -0.971351819107; edges_y: -0.0892525753675; pairs: 14,19\" role=\"graphics-symbol\" aria-roledescription=\"line mark\" d=\"M8.594454267936646,217.8505150734968L157.1979772334611,274.4327450152536\" stroke=\"gray\" stroke-width=\"0.8\" opacity=\"0.5\"></path></g></g><path class=\"foreground\" aria-hidden=\"true\" d=\"\" display=\"none\"></path></g><g transform=\"translate(0,0)\"><path class=\"background\" aria-hidden=\"true\" d=\"M0,0h600v400h-600Z\"></path><g><g class=\"mark-line role-mark layer_0_marks\" role=\"graphics-object\" aria-roledescription=\"line mark container\" pointer-events=\"none\"><path aria-label=\"edges_x: -0.971351819107; edges_y: -0.0892525753675; pairs: 15,19\" role=\"graphics-symbol\" aria-roledescription=\"line mark\" d=\"M8.594454267936646,217.8505150734968L321.30084437835757,106.70808531040264\" stroke=\"gray\" stroke-width=\"0.8\" opacity=\"0.5\"></path></g></g><path class=\"foreground\" aria-hidden=\"true\" d=\"\" display=\"none\"></path></g><g transform=\"translate(0,0)\"><path class=\"background\" aria-hidden=\"true\" d=\"M0,0h600v400h-600Z\"></path><g><g class=\"mark-line role-mark layer_0_marks\" role=\"graphics-object\" aria-roledescription=\"line mark container\" pointer-events=\"none\"><path aria-label=\"edges_x: -0.971351819107; edges_y: -0.0892525753675; pairs: 16,19\" role=\"graphics-symbol\" aria-roledescription=\"line mark\" d=\"M8.594454267936646,217.8505150734968L263.50509211742656,194.75684221989255\" stroke=\"gray\" stroke-width=\"0.8\" opacity=\"0.5\"></path></g></g><path class=\"foreground\" aria-hidden=\"true\" d=\"\" display=\"none\"></path></g><g transform=\"translate(0,0)\"><path class=\"background\" aria-hidden=\"true\" d=\"M0,0h600v400h-600Z\"></path><g><g class=\"mark-line role-mark layer_0_marks\" role=\"graphics-object\" aria-roledescription=\"line mark container\" pointer-events=\"none\"><path aria-label=\"edges_x: -0.971351819107; edges_y: -0.0892525753675; pairs: 17,19\" role=\"graphics-symbol\" aria-roledescription=\"line mark\" d=\"M8.594454267936646,217.8505150734968L442.58755374781725,346.45023538283704\" stroke=\"gray\" stroke-width=\"0.8\" opacity=\"0.5\"></path></g></g><path class=\"foreground\" aria-hidden=\"true\" d=\"\" display=\"none\"></path></g><g transform=\"translate(0,0)\"><path class=\"background\" aria-hidden=\"true\" d=\"M0,0h600v400h-600Z\"></path><g><g class=\"mark-line role-mark layer_0_marks\" role=\"graphics-object\" aria-roledescription=\"line mark container\" pointer-events=\"none\"><path aria-label=\"edges_x: -0.971351819107; edges_y: -0.0892525753675; pairs: 18,19\" role=\"graphics-symbol\" aria-roledescription=\"line mark\" d=\"M8.594454267936646,217.8505150734968L328.3811748444544,370.0931060300292\" stroke=\"gray\" stroke-width=\"0.8\" opacity=\"0.5\"></path></g></g><path class=\"foreground\" aria-hidden=\"true\" d=\"\" display=\"none\"></path></g><g transform=\"translate(0,0)\"><path class=\"background\" aria-hidden=\"true\" d=\"M0,0h600v400h-600Z\"></path><g><g class=\"mark-line role-mark layer_0_marks\" role=\"graphics-object\" aria-roledescription=\"line mark container\" pointer-events=\"none\"><path aria-label=\"edges_x: 0.383531996917; edges_y: 0.175900315625; pairs: 1,20\" role=\"graphics-symbol\" aria-roledescription=\"line mark\" d=\"M415.0595990750894,164.8199368750709L448.57450110363504,250.68968312064843\" stroke=\"gray\" stroke-width=\"0.8\" opacity=\"0.5\"></path></g></g><path class=\"foreground\" aria-hidden=\"true\" d=\"\" display=\"none\"></path></g><g transform=\"translate(0,0)\"><path class=\"background\" aria-hidden=\"true\" d=\"M0,0h600v400h-600Z\"></path><g><g class=\"mark-line role-mark layer_0_marks\" role=\"graphics-object\" aria-roledescription=\"line mark container\" pointer-events=\"none\"><path aria-label=\"edges_x: -0.691779833161; edges_y: 0.83967718037; pairs: 2,20\" role=\"graphics-symbol\" aria-roledescription=\"line mark\" d=\"M92.46605005168624,32.06456392601762L448.57450110363504,250.68968312064843\" stroke=\"gray\" stroke-width=\"0.8\" opacity=\"0.5\"></path></g></g><path class=\"foreground\" aria-hidden=\"true\" d=\"\" display=\"none\"></path></g><g transform=\"translate(0,0)\"><path class=\"background\" aria-hidden=\"true\" d=\"M0,0h600v400h-600Z\"></path><g><g class=\"mark-line role-mark layer_0_marks\" role=\"graphics-object\" aria-roledescription=\"line mark container\" pointer-events=\"none\"><path aria-label=\"edges_x: -1; edges_y: -0.607951808209; pairs: 3,20\" role=\"graphics-symbol\" aria-roledescription=\"line mark\" d=\"M0,321.590361641879L448.57450110363504,250.68968312064843\" stroke=\"gray\" stroke-width=\"0.8\" opacity=\"0.5\"></path></g></g><path class=\"foreground\" aria-hidden=\"true\" d=\"\" display=\"none\"></path></g><g transform=\"translate(0,0)\"><path class=\"background\" aria-hidden=\"true\" d=\"M0,0h600v400h-600Z\"></path><g><g class=\"mark-line role-mark layer_0_marks\" role=\"graphics-object\" aria-roledescription=\"line mark container\" pointer-events=\"none\"><path aria-label=\"edges_x: -0.128476147133; edges_y: 0.914780718828; pairs: 4,20\" role=\"graphics-symbol\" aria-roledescription=\"line mark\" d=\"M261.4571558600319,17.043856234459163L448.57450110363504,250.68968312064843\" stroke=\"gray\" stroke-width=\"0.8\" opacity=\"0.5\"></path></g></g><path class=\"foreground\" aria-hidden=\"true\" d=\"\" display=\"none\"></path></g><g transform=\"translate(0,0)\"><path class=\"background\" aria-hidden=\"true\" d=\"M0,0h600v400h-600Z\"></path><g><g class=\"mark-line role-mark layer_0_marks\" role=\"graphics-object\" aria-roledescription=\"line mark container\" pointer-events=\"none\"><path aria-label=\"edges_x: -0.334939293695; edges_y: 0.525142488446; pairs: 5,20\" role=\"graphics-symbol\" aria-roledescription=\"line mark\" d=\"M199.51821189137658,94.97150231082192L448.57450110363504,250.68968312064843\" stroke=\"gray\" stroke-width=\"0.8\" opacity=\"0.5\"></path></g></g><path class=\"foreground\" aria-hidden=\"true\" d=\"\" display=\"none\"></path></g><g transform=\"translate(0,0)\"><path class=\"background\" aria-hidden=\"true\" d=\"M0,0h600v400h-600Z\"></path><g><g class=\"mark-line role-mark layer_0_marks\" role=\"graphics-object\" aria-roledescription=\"line mark container\" pointer-events=\"none\"><path aria-label=\"edges_x: -0.520818816471; edges_y: 0.11672104544; pairs: 6,20\" role=\"graphics-symbol\" aria-roledescription=\"line mark\" d=\"M143.75435505861523,176.6557909119181L448.57450110363504,250.68968312064843\" stroke=\"gray\" stroke-width=\"0.8\" opacity=\"0.5\"></path></g></g><path class=\"foreground\" aria-hidden=\"true\" d=\"\" display=\"none\"></path></g><g transform=\"translate(0,0)\"><path class=\"background\" aria-hidden=\"true\" d=\"M0,0h600v400h-600Z\"></path><g><g class=\"mark-line role-mark layer_0_marks\" role=\"graphics-object\" aria-roledescription=\"line mark container\" pointer-events=\"none\"><path aria-label=\"edges_x: 0.495248337012; edges_y: -0.253448415603; pairs: 7,20\" role=\"graphics-symbol\" aria-roledescription=\"line mark\" d=\"M448.57450110363504,250.68968312064843L600,174.2019066598404\" stroke=\"gray\" stroke-width=\"0.8\" opacity=\"0.5\"></path></g></g><path class=\"foreground\" aria-hidden=\"true\" d=\"\" display=\"none\"></path></g><g transform=\"translate(0,0)\"><path class=\"background\" aria-hidden=\"true\" d=\"M0,0h600v400h-600Z\"></path><g><g class=\"mark-line role-mark layer_0_marks\" role=\"graphics-object\" aria-roledescription=\"line mark container\" pointer-events=\"none\"><path aria-label=\"edges_x: 0.100240124595; edges_y: -0.360042329698; pairs: 8,20\" role=\"graphics-symbol\" aria-roledescription=\"line mark\" d=\"M330.07203737850773,272.008465939673L448.57450110363504,250.68968312064843\" stroke=\"gray\" stroke-width=\"0.8\" opacity=\"0.5\"></path></g></g><path class=\"foreground\" aria-hidden=\"true\" d=\"\" display=\"none\"></path></g><g transform=\"translate(0,0)\"><path class=\"background\" aria-hidden=\"true\" d=\"M0,0h600v400h-600Z\"></path><g><g class=\"mark-line role-mark layer_0_marks\" role=\"graphics-object\" aria-roledescription=\"line mark container\" pointer-events=\"none\"><path aria-label=\"edges_x: -0.892815597637; edges_y: 0.397963513625; pairs: 9,20\" role=\"graphics-symbol\" aria-roledescription=\"line mark\" d=\"M32.15532070901417,120.40729727496893L448.57450110363504,250.68968312064843\" stroke=\"gray\" stroke-width=\"0.8\" opacity=\"0.5\"></path></g></g><path class=\"foreground\" aria-hidden=\"true\" d=\"\" display=\"none\"></path></g><g transform=\"translate(0,0)\"><path class=\"background\" aria-hidden=\"true\" d=\"M0,0h600v400h-600Z\"></path><g><g class=\"mark-line role-mark layer_0_marks\" role=\"graphics-object\" aria-roledescription=\"line mark container\" pointer-events=\"none\"><path aria-label=\"edges_x: -0.227793116562; edges_y: -0.71997400539; pairs: 10,20\" role=\"graphics-symbol\" aria-roledescription=\"line mark\" d=\"M231.6620650314319,343.9948010779759L448.57450110363504,250.68968312064843\" stroke=\"gray\" stroke-width=\"0.8\" opacity=\"0.5\"></path></g></g><path class=\"foreground\" aria-hidden=\"true\" d=\"\" display=\"none\"></path></g><g transform=\"translate(0,0)\"><path class=\"background\" aria-hidden=\"true\" d=\"M0,0h600v400h-600Z\"></path><g><g class=\"mark-line role-mark layer_0_marks\" role=\"graphics-object\" aria-roledescription=\"line mark container\" pointer-events=\"none\"><path aria-label=\"edges_x: -0.676549052016; edges_y: -1; pairs: 11,20\" role=\"graphics-symbol\" aria-roledescription=\"line mark\" d=\"M97.03528439516083,400L448.57450110363504,250.68968312064843\" stroke=\"gray\" stroke-width=\"0.8\" opacity=\"0.5\"></path></g></g><path class=\"foreground\" aria-hidden=\"true\" d=\"\" display=\"none\"></path></g><g transform=\"translate(0,0)\"><path class=\"background\" aria-hidden=\"true\" d=\"M0,0h600v400h-600Z\"></path><g><g class=\"mark-line role-mark layer_0_marks\" role=\"graphics-object\" aria-roledescription=\"line mark container\" pointer-events=\"none\"><path aria-label=\"edges_x: 0.333054464011; edges_y: 1; pairs: 12,20\" role=\"graphics-symbol\" aria-roledescription=\"line mark\" d=\"M399.9163392032951,0L448.57450110363504,250.68968312064843\" stroke=\"gray\" stroke-width=\"0.8\" opacity=\"0.5\"></path></g></g><path class=\"foreground\" aria-hidden=\"true\" d=\"\" display=\"none\"></path></g><g transform=\"translate(0,0)\"><path class=\"background\" aria-hidden=\"true\" d=\"M0,0h600v400h-600Z\"></path><g><g class=\"mark-line role-mark layer_0_marks\" role=\"graphics-object\" aria-roledescription=\"line mark container\" pointer-events=\"none\"><path aria-label=\"edges_x: 0.495248337012; edges_y: -0.253448415603; pairs: 13,20\" role=\"graphics-symbol\" aria-roledescription=\"line mark\" d=\"M448.57450110363504,250.68968312064843L508.87664307709935,76.27978797844301\" stroke=\"gray\" stroke-width=\"0.8\" opacity=\"0.5\"></path></g></g><path class=\"foreground\" aria-hidden=\"true\" d=\"\" display=\"none\"></path></g><g transform=\"translate(0,0)\"><path class=\"background\" aria-hidden=\"true\" d=\"M0,0h600v400h-600Z\"></path><g><g class=\"mark-line role-mark layer_0_marks\" role=\"graphics-object\" aria-roledescription=\"line mark container\" pointer-events=\"none\"><path aria-label=\"edges_x: -0.476006742555; edges_y: -0.372163725076; pairs: 14,20\" role=\"graphics-symbol\" aria-roledescription=\"line mark\" d=\"M157.1979772334611,274.4327450152536L448.57450110363504,250.68968312064843\" stroke=\"gray\" stroke-width=\"0.8\" opacity=\"0.5\"></path></g></g><path class=\"foreground\" aria-hidden=\"true\" d=\"\" display=\"none\"></path></g><g transform=\"translate(0,0)\"><path class=\"background\" aria-hidden=\"true\" d=\"M0,0h600v400h-600Z\"></path><g><g class=\"mark-line role-mark layer_0_marks\" role=\"graphics-object\" aria-roledescription=\"line mark container\" pointer-events=\"none\"><path aria-label=\"edges_x: 0.0710028145945; edges_y: 0.466459573448; pairs: 15,20\" role=\"graphics-symbol\" aria-roledescription=\"line mark\" d=\"M321.30084437835757,106.70808531040264L448.57450110363504,250.68968312064843\" stroke=\"gray\" stroke-width=\"0.8\" opacity=\"0.5\"></path></g></g><path class=\"foreground\" aria-hidden=\"true\" d=\"\" display=\"none\"></path></g><g transform=\"translate(0,0)\"><path class=\"background\" aria-hidden=\"true\" d=\"M0,0h600v400h-600Z\"></path><g><g class=\"mark-line role-mark layer_0_marks\" role=\"graphics-object\" aria-roledescription=\"line mark container\" pointer-events=\"none\"><path aria-label=\"edges_x: -0.121649692942; edges_y: 0.0262157889005; pairs: 16,20\" role=\"graphics-symbol\" aria-roledescription=\"line mark\" d=\"M263.50509211742656,194.75684221989255L448.57450110363504,250.68968312064843\" stroke=\"gray\" stroke-width=\"0.8\" opacity=\"0.5\"></path></g></g><path class=\"foreground\" aria-hidden=\"true\" d=\"\" display=\"none\"></path></g><g transform=\"translate(0,0)\"><path class=\"background\" aria-hidden=\"true\" d=\"M0,0h600v400h-600Z\"></path><g><g class=\"mark-line role-mark layer_0_marks\" role=\"graphics-object\" aria-roledescription=\"line mark container\" pointer-events=\"none\"><path aria-label=\"edges_x: 0.475291845826; edges_y: -0.732251176914; pairs: 17,20\" role=\"graphics-symbol\" aria-roledescription=\"line mark\" d=\"M442.58755374781725,346.45023538283704L448.57450110363504,250.68968312064843\" stroke=\"gray\" stroke-width=\"0.8\" opacity=\"0.5\"></path></g></g><path class=\"foreground\" aria-hidden=\"true\" d=\"\" display=\"none\"></path></g><g transform=\"translate(0,0)\"><path class=\"background\" aria-hidden=\"true\" d=\"M0,0h600v400h-600Z\"></path><g><g class=\"mark-line role-mark layer_0_marks\" role=\"graphics-object\" aria-roledescription=\"line mark container\" pointer-events=\"none\"><path aria-label=\"edges_x: 0.0946039161482; edges_y: -0.85046553015; pairs: 18,20\" role=\"graphics-symbol\" aria-roledescription=\"line mark\" d=\"M328.3811748444544,370.0931060300292L448.57450110363504,250.68968312064843\" stroke=\"gray\" stroke-width=\"0.8\" opacity=\"0.5\"></path></g></g><path class=\"foreground\" aria-hidden=\"true\" d=\"\" display=\"none\"></path></g><g transform=\"translate(0,0)\"><path class=\"background\" aria-hidden=\"true\" d=\"M0,0h600v400h-600Z\"></path><g><g class=\"mark-line role-mark layer_0_marks\" role=\"graphics-object\" aria-roledescription=\"line mark container\" pointer-events=\"none\"><path aria-label=\"edges_x: -0.971351819107; edges_y: -0.0892525753675; pairs: 19,20\" role=\"graphics-symbol\" aria-roledescription=\"line mark\" d=\"M8.594454267936646,217.8505150734968L448.57450110363504,250.68968312064843\" stroke=\"gray\" stroke-width=\"0.8\" opacity=\"0.5\"></path></g></g><path class=\"foreground\" aria-hidden=\"true\" d=\"\" display=\"none\"></path></g></g><g class=\"mark-symbol role-mark layer_1_layer_0_marks\" role=\"graphics-object\" aria-roledescription=\"symbol mark container\"><path aria-label=\"node_x: 0.383531996917; node_y: 0.175900315625; centrality: 0.0052488771787; keywords: x1\" role=\"graphics-symbol\" aria-roledescription=\"circle\" transform=\"translate(415.0595990750894,164.8199368750709)\" d=\"M11.180339887498949,0A11.180339887498949,11.180339887498949,0,1,1,-11.180339887498949,0A11.180339887498949,11.180339887498949,0,1,1,11.180339887498949,0\" fill=\"rgb(203, 223, 241)\" stroke-width=\"2\" opacity=\"0.9\"></path><path aria-label=\"node_x: -0.691779833161; node_y: 0.83967718037; centrality: 0.0339485381797; keywords: x2\" role=\"graphics-symbol\" aria-roledescription=\"circle\" transform=\"translate(92.46605005168624,32.06456392601762)\" d=\"M11.180339887498949,0A11.180339887498949,11.180339887498949,0,1,1,-11.180339887498949,0A11.180339887498949,11.180339887498949,0,1,1,11.180339887498949,0\" fill=\"rgb(182, 212, 233)\" stroke-width=\"2\" opacity=\"0.9\"></path><path aria-label=\"node_x: -1; node_y: -0.607951808209; centrality: 0.0634588923289; keywords: x3\" role=\"graphics-symbol\" aria-roledescription=\"circle\" transform=\"translate(0,321.590361641879)\" d=\"M11.180339887498949,0A11.180339887498949,11.180339887498949,0,1,1,-11.180339887498949,0A11.180339887498949,11.180339887498949,0,1,1,11.180339887498949,0\" fill=\"rgb(154, 199, 225)\" stroke-width=\"2\" opacity=\"0.9\"></path><path aria-label=\"node_x: -0.128476147133; node_y: 0.914780718828; centrality: 0.246836548385; keywords: x4\" role=\"graphics-symbol\" aria-roledescription=\"circle\" transform=\"translate(261.4571558600319,17.043856234459163)\" d=\"M11.180339887498949,0A11.180339887498949,11.180339887498949,0,1,1,-11.180339887498949,0A11.180339887498949,11.180339887498949,0,1,1,11.180339887498949,0\" fill=\"rgb(10, 74, 144)\" stroke-width=\"2\" opacity=\"0.9\"></path><path aria-label=\"node_x: -0.334939293695; node_y: 0.525142488446; centrality: 0; keywords: x5\" role=\"graphics-symbol\" aria-roledescription=\"circle\" transform=\"translate(199.51821189137658,94.97150231082192)\" d=\"M11.180339887498949,0A11.180339887498949,11.180339887498949,0,1,1,-11.180339887498949,0A11.180339887498949,11.180339887498949,0,1,1,11.180339887498949,0\" fill=\"rgb(207, 225, 242)\" stroke-width=\"2\" opacity=\"0.9\"></path><path aria-label=\"node_x: -0.520818816471; node_y: 0.11672104544; centrality: 0; keywords: x6\" role=\"graphics-symbol\" aria-roledescription=\"circle\" transform=\"translate(143.75435505861523,176.6557909119181)\" d=\"M11.180339887498949,0A11.180339887498949,11.180339887498949,0,1,1,-11.180339887498949,0A11.180339887498949,11.180339887498949,0,1,1,11.180339887498949,0\" fill=\"rgb(207, 225, 242)\" stroke-width=\"2\" opacity=\"0.9\"></path><path aria-label=\"node_x: 1; node_y: 0.128990466701; centrality: 0.0529297098957; keywords: x7\" role=\"graphics-symbol\" aria-roledescription=\"circle\" transform=\"translate(600,174.2019066598404)\" d=\"M11.180339887498949,0A11.180339887498949,11.180339887498949,0,1,1,-11.180339887498949,0A11.180339887498949,11.180339887498949,0,1,1,11.180339887498949,0\" fill=\"rgb(164, 204, 228)\" stroke-width=\"2\" opacity=\"0.9\"></path><path aria-label=\"node_x: 0.100240124595; node_y: -0.360042329698; centrality: 0; keywords: x8\" role=\"graphics-symbol\" aria-roledescription=\"circle\" transform=\"translate(330.07203737850773,272.008465939673)\" d=\"M11.180339887498949,0A11.180339887498949,11.180339887498949,0,1,1,-11.180339887498949,0A11.180339887498949,11.180339887498949,0,1,1,11.180339887498949,0\" fill=\"rgb(207, 225, 242)\" stroke-width=\"2\" opacity=\"0.9\"></path><path aria-label=\"node_x: -0.892815597637; node_y: 0.397963513625; centrality: 0.00362444572971; keywords: x9\" role=\"graphics-symbol\" aria-roledescription=\"circle\" transform=\"translate(32.15532070901417,120.40729727496893)\" d=\"M11.180339887498949,0A11.180339887498949,11.180339887498949,0,1,1,-11.180339887498949,0A11.180339887498949,11.180339887498949,0,1,1,11.180339887498949,0\" fill=\"rgb(205, 224, 241)\" stroke-width=\"2\" opacity=\"0.9\"></path><path aria-label=\"node_x: -0.227793116562; node_y: -0.71997400539; centrality: 0; keywords: x10\" role=\"graphics-symbol\" aria-roledescription=\"circle\" transform=\"translate(231.6620650314319,343.9948010779759)\" d=\"M11.180339887498949,0A11.180339887498949,11.180339887498949,0,1,1,-11.180339887498949,0A11.180339887498949,11.180339887498949,0,1,1,11.180339887498949,0\" fill=\"rgb(207, 225, 242)\" stroke-width=\"2\" opacity=\"0.9\"></path><path aria-label=\"node_x: -0.676549052016; node_y: -1; centrality: 0.0102883843596; keywords: x11\" role=\"graphics-symbol\" aria-roledescription=\"circle\" transform=\"translate(97.03528439516083,400)\" d=\"M11.180339887498949,0A11.180339887498949,11.180339887498949,0,1,1,-11.180339887498949,0A11.180339887498949,11.180339887498949,0,1,1,11.180339887498949,0\" fill=\"rgb(200, 221, 239)\" stroke-width=\"2\" opacity=\"0.9\"></path><path aria-label=\"node_x: 0.333054464011; node_y: 1; centrality: 0.246016436264; keywords: x12\" role=\"graphics-symbol\" aria-roledescription=\"circle\" transform=\"translate(399.9163392032951,0)\" d=\"M11.180339887498949,0A11.180339887498949,11.180339887498949,0,1,1,-11.180339887498949,0A11.180339887498949,11.180339887498949,0,1,1,11.180339887498949,0\" fill=\"rgb(10, 75, 145)\" stroke-width=\"2\" opacity=\"0.9\"></path><path aria-label=\"node_x: 0.696255476924; node_y: 0.618601060108; centrality: 0.0665960611265; keywords: x13\" role=\"graphics-symbol\" aria-roledescription=\"circle\" transform=\"translate(508.87664307709935,76.27978797844301)\" d=\"M11.180339887498949,0A11.180339887498949,11.180339887498949,0,1,1,-11.180339887498949,0A11.180339887498949,11.180339887498949,0,1,1,11.180339887498949,0\" fill=\"rgb(151, 197, 224)\" stroke-width=\"2\" opacity=\"0.9\"></path><path aria-label=\"node_x: -0.476006742555; node_y: -0.372163725076; centrality: 0; keywords: x14\" role=\"graphics-symbol\" aria-roledescription=\"circle\" transform=\"translate(157.1979772334611,274.4327450152536)\" d=\"M11.180339887498949,0A11.180339887498949,11.180339887498949,0,1,1,-11.180339887498949,0A11.180339887498949,11.180339887498949,0,1,1,11.180339887498949,0\" fill=\"rgb(207, 225, 242)\" stroke-width=\"2\" opacity=\"0.9\"></path><path aria-label=\"node_x: 0.0710028145945; node_y: 0.466459573448; centrality: 0.00408357075024; keywords: x15\" role=\"graphics-symbol\" aria-roledescription=\"circle\" transform=\"translate(321.30084437835757,106.70808531040264)\" d=\"M11.180339887498949,0A11.180339887498949,11.180339887498949,0,1,1,-11.180339887498949,0A11.180339887498949,11.180339887498949,0,1,1,11.180339887498949,0\" fill=\"rgb(204, 224, 241)\" stroke-width=\"2\" opacity=\"0.9\"></path><path aria-label=\"node_x: -0.121649692942; node_y: 0.0262157889005; centrality: 0.00162443144899; keywords: x16\" role=\"graphics-symbol\" aria-roledescription=\"circle\" transform=\"translate(263.50509211742656,194.75684221989255)\" d=\"M11.180339887498949,0A11.180339887498949,11.180339887498949,0,1,1,-11.180339887498949,0A11.180339887498949,11.180339887498949,0,1,1,11.180339887498949,0\" fill=\"rgb(206, 224, 242)\" stroke-width=\"2\" opacity=\"0.9\"></path><path aria-label=\"node_x: 0.475291845826; node_y: -0.732251176914; centrality: 0.0312538930702; keywords: x17\" role=\"graphics-symbol\" aria-roledescription=\"circle\" transform=\"translate(442.58755374781725,346.45023538283704)\" d=\"M11.180339887498949,0A11.180339887498949,11.180339887498949,0,1,1,-11.180339887498949,0A11.180339887498949,11.180339887498949,0,1,1,11.180339887498949,0\" fill=\"rgb(184, 213, 234)\" stroke-width=\"2\" opacity=\"0.9\"></path><path aria-label=\"node_x: 0.0946039161482; node_y: -0.85046553015; centrality: 0; keywords: x18\" role=\"graphics-symbol\" aria-roledescription=\"circle\" transform=\"translate(328.3811748444544,370.0931060300292)\" d=\"M11.180339887498949,0A11.180339887498949,11.180339887498949,0,1,1,-11.180339887498949,0A11.180339887498949,11.180339887498949,0,1,1,11.180339887498949,0\" fill=\"rgb(207, 225, 242)\" stroke-width=\"2\" opacity=\"0.9\"></path><path aria-label=\"node_x: -0.971351819107; node_y: -0.0892525753675; centrality: 0.00103463787674; keywords: x19\" role=\"graphics-symbol\" aria-roledescription=\"circle\" transform=\"translate(8.594454267936646,217.8505150734968)\" d=\"M11.180339887498949,0A11.180339887498949,11.180339887498949,0,1,1,-11.180339887498949,0A11.180339887498949,11.180339887498949,0,1,1,11.180339887498949,0\" fill=\"rgb(206, 225, 242)\" stroke-width=\"2\" opacity=\"0.9\"></path><path aria-label=\"node_x: 0.495248337012; node_y: -0.253448415603; centrality: 0.0105163192882; keywords: x20\" role=\"graphics-symbol\" aria-roledescription=\"circle\" transform=\"translate(448.57450110363504,250.68968312064843)\" d=\"M11.180339887498949,0A11.180339887498949,11.180339887498949,0,1,1,-11.180339887498949,0A11.180339887498949,11.180339887498949,0,1,1,11.180339887498949,0\" fill=\"rgb(200, 221, 239)\" stroke-width=\"2\" opacity=\"0.9\"></path></g><g class=\"mark-text role-mark layer_1_layer_1_marks\" role=\"graphics-object\" aria-roledescription=\"text mark container\" pointer-events=\"none\"><text aria-label=\"node_x: 0.383531996917; node_y: 0.175900315625; keywords: x1\" role=\"graphics-symbol\" aria-roledescription=\"text mark\" text-anchor=\"middle\" transform=\"translate(415.0595990750894,167.8199368750709)\" font-family=\"sans-serif\" font-size=\"10px\" fill=\"black\" opacity=\"1\">x1</text><text aria-label=\"node_x: -0.691779833161; node_y: 0.83967718037; keywords: x2\" role=\"graphics-symbol\" aria-roledescription=\"text mark\" text-anchor=\"middle\" transform=\"translate(92.46605005168624,35.06456392601762)\" font-family=\"sans-serif\" font-size=\"10px\" fill=\"black\" opacity=\"1\">x2</text><text aria-label=\"node_x: -1; node_y: -0.607951808209; keywords: x3\" role=\"graphics-symbol\" aria-roledescription=\"text mark\" text-anchor=\"middle\" transform=\"translate(0,324.590361641879)\" font-family=\"sans-serif\" font-size=\"10px\" fill=\"black\" opacity=\"1\">x3</text><text aria-label=\"node_x: -0.128476147133; node_y: 0.914780718828; keywords: x4\" role=\"graphics-symbol\" aria-roledescription=\"text mark\" text-anchor=\"middle\" transform=\"translate(261.4571558600319,20.043856234459163)\" font-family=\"sans-serif\" font-size=\"10px\" fill=\"black\" opacity=\"1\">x4</text><text aria-label=\"node_x: -0.334939293695; node_y: 0.525142488446; keywords: x5\" role=\"graphics-symbol\" aria-roledescription=\"text mark\" text-anchor=\"middle\" transform=\"translate(199.51821189137658,97.97150231082192)\" font-family=\"sans-serif\" font-size=\"10px\" fill=\"black\" opacity=\"1\">x5</text><text aria-label=\"node_x: -0.520818816471; node_y: 0.11672104544; keywords: x6\" role=\"graphics-symbol\" aria-roledescription=\"text mark\" text-anchor=\"middle\" transform=\"translate(143.75435505861523,179.6557909119181)\" font-family=\"sans-serif\" font-size=\"10px\" fill=\"black\" opacity=\"1\">x6</text><text aria-label=\"node_x: 1; node_y: 0.128990466701; keywords: x7\" role=\"graphics-symbol\" aria-roledescription=\"text mark\" text-anchor=\"middle\" transform=\"translate(600,177.2019066598404)\" font-family=\"sans-serif\" font-size=\"10px\" fill=\"black\" opacity=\"1\">x7</text><text aria-label=\"node_x: 0.100240124595; node_y: -0.360042329698; keywords: x8\" role=\"graphics-symbol\" aria-roledescription=\"text mark\" text-anchor=\"middle\" transform=\"translate(330.07203737850773,275.008465939673)\" font-family=\"sans-serif\" font-size=\"10px\" fill=\"black\" opacity=\"1\">x8</text><text aria-label=\"node_x: -0.892815597637; node_y: 0.397963513625; keywords: x9\" role=\"graphics-symbol\" aria-roledescription=\"text mark\" text-anchor=\"middle\" transform=\"translate(32.15532070901417,123.40729727496893)\" font-family=\"sans-serif\" font-size=\"10px\" fill=\"black\" opacity=\"1\">x9</text><text aria-label=\"node_x: -0.227793116562; node_y: -0.71997400539; keywords: x10\" role=\"graphics-symbol\" aria-roledescription=\"text mark\" text-anchor=\"middle\" transform=\"translate(231.6620650314319,346.9948010779759)\" font-family=\"sans-serif\" font-size=\"10px\" fill=\"black\" opacity=\"1\">x10</text><text aria-label=\"node_x: -0.676549052016; node_y: -1; keywords: x11\" role=\"graphics-symbol\" aria-roledescription=\"text mark\" text-anchor=\"middle\" transform=\"translate(97.03528439516083,403)\" font-family=\"sans-serif\" font-size=\"10px\" fill=\"black\" opacity=\"1\">x11</text><text aria-label=\"node_x: 0.333054464011; node_y: 1; keywords: x12\" role=\"graphics-symbol\" aria-roledescription=\"text mark\" text-anchor=\"middle\" transform=\"translate(399.9163392032951,3)\" font-family=\"sans-serif\" font-size=\"10px\" fill=\"black\" opacity=\"1\">x12</text><text aria-label=\"node_x: 0.696255476924; node_y: 0.618601060108; keywords: x13\" role=\"graphics-symbol\" aria-roledescription=\"text mark\" text-anchor=\"middle\" transform=\"translate(508.87664307709935,79.27978797844301)\" font-family=\"sans-serif\" font-size=\"10px\" fill=\"black\" opacity=\"1\">x13</text><text aria-label=\"node_x: -0.476006742555; node_y: -0.372163725076; keywords: x14\" role=\"graphics-symbol\" aria-roledescription=\"text mark\" text-anchor=\"middle\" transform=\"translate(157.1979772334611,277.4327450152536)\" font-family=\"sans-serif\" font-size=\"10px\" fill=\"black\" opacity=\"1\">x14</text><text aria-label=\"node_x: 0.0710028145945; node_y: 0.466459573448; keywords: x15\" role=\"graphics-symbol\" aria-roledescription=\"text mark\" text-anchor=\"middle\" transform=\"translate(321.30084437835757,109.70808531040264)\" font-family=\"sans-serif\" font-size=\"10px\" fill=\"black\" opacity=\"1\">x15</text><text aria-label=\"node_x: -0.121649692942; node_y: 0.0262157889005; keywords: x16\" role=\"graphics-symbol\" aria-roledescription=\"text mark\" text-anchor=\"middle\" transform=\"translate(263.50509211742656,197.75684221989255)\" font-family=\"sans-serif\" font-size=\"10px\" fill=\"black\" opacity=\"1\">x16</text><text aria-label=\"node_x: 0.475291845826; node_y: -0.732251176914; keywords: x17\" role=\"graphics-symbol\" aria-roledescription=\"text mark\" text-anchor=\"middle\" transform=\"translate(442.58755374781725,349.45023538283704)\" font-family=\"sans-serif\" font-size=\"10px\" fill=\"black\" opacity=\"1\">x17</text><text aria-label=\"node_x: 0.0946039161482; node_y: -0.85046553015; keywords: x18\" role=\"graphics-symbol\" aria-roledescription=\"text mark\" text-anchor=\"middle\" transform=\"translate(328.3811748444544,373.0931060300292)\" font-family=\"sans-serif\" font-size=\"10px\" fill=\"black\" opacity=\"1\">x18</text><text aria-label=\"node_x: -0.971351819107; node_y: -0.0892525753675; keywords: x19\" role=\"graphics-symbol\" aria-roledescription=\"text mark\" text-anchor=\"middle\" transform=\"translate(8.594454267936646,220.8505150734968)\" font-family=\"sans-serif\" font-size=\"10px\" fill=\"black\" opacity=\"1\">x19</text><text aria-label=\"node_x: 0.495248337012; node_y: -0.253448415603; keywords: x20\" role=\"graphics-symbol\" aria-roledescription=\"text mark\" text-anchor=\"middle\" transform=\"translate(448.57450110363504,253.68968312064843)\" font-family=\"sans-serif\" font-size=\"10px\" fill=\"black\" opacity=\"1\">x20</text></g><g class=\"mark-group role-legend\" role=\"graphics-symbol\" aria-roledescription=\"legend\" aria-label=\"Gradient legend titled 'centrality' for fill color with values from 0.00 to 0.25\"><g transform=\"translate(619,0)\"><path class=\"background\" aria-hidden=\"true\" d=\"M0,0h59v216h-59Z\" pointer-events=\"none\"></path><g><g class=\"mark-group role-legend-entry\"><g transform=\"translate(0,16)\"><path class=\"background\" aria-hidden=\"true\" d=\"M0,0h0v0h0Z\" pointer-events=\"none\"></path><g><g class=\"mark-rect role-legend-gradient\" pointer-events=\"none\"><path d=\"M0,0h16v200h-16Z\" fill=\"url(#gradient_0)\" stroke=\"#ddd\" stroke-width=\"0\" opacity=\"0.9\"></path></g><g class=\"mark-text role-legend-label\" pointer-events=\"none\"><text text-anchor=\"start\" transform=\"translate(18,198)\" font-family=\"sans-serif\" font-size=\"10px\" fill=\"#000\" opacity=\"1\">0.00</text><text text-anchor=\"start\" transform=\"translate(18,162.48736090564094)\" font-family=\"sans-serif\" font-size=\"10px\" fill=\"#000\" opacity=\"1\">0.05</text><text text-anchor=\"start\" transform=\"translate(18,121.97472181128191)\" font-family=\"sans-serif\" font-size=\"10px\" fill=\"#000\" opacity=\"1\">0.10</text><text text-anchor=\"start\" transform=\"translate(18,81.46208271692288)\" font-family=\"sans-serif\" font-size=\"10px\" fill=\"#000\" opacity=\"1\">0.15</text><text text-anchor=\"start\" transform=\"translate(18,40.94944362256383)\" font-family=\"sans-serif\" font-size=\"10px\" fill=\"#000\" opacity=\"1\">0.20</text></g></g><path class=\"foreground\" aria-hidden=\"true\" d=\"\" pointer-events=\"none\" display=\"none\"></path></g></g><g class=\"mark-text role-legend-title\" pointer-events=\"none\"><text text-anchor=\"start\" transform=\"translate(0,9)\" font-family=\"sans-serif\" font-size=\"11px\" font-weight=\"bold\" fill=\"#000\" opacity=\"1\">centrality</text></g></g><path class=\"foreground\" aria-hidden=\"true\" d=\"\" pointer-events=\"none\" display=\"none\"></path></g></g></g><path class=\"foreground\" aria-hidden=\"true\" d=\"\" display=\"none\"></path></g></g></g></svg>\n"
      ],
      "text/plain": [
       "@vlplot(\n",
       "    view={\n",
       "        stroke=nothing\n",
       "    },\n",
       "    layer=[\n",
       "        {\n",
       "            mark={\n",
       "                type=\"line\",\n",
       "                color=\"gray\",\n",
       "                clip=false,\n",
       "                size=0.8,\n",
       "                opacity=0.5\n",
       "            },\n",
       "            data={\n",
       "                values=...\n",
       "            },\n",
       "            encoding={\n",
       "                x={\n",
       "                    axis=nothing,\n",
       "                    field=\"edges_x\",\n",
       "                    type=\"quantitative\"\n",
       "                },\n",
       "                y={\n",
       "                    axis=nothing,\n",
       "                    field=\"edges_y\",\n",
       "                    type=\"quantitative\"\n",
       "                },\n",
       "                detail={\n",
       "                    field=\"pairs\",\n",
       "                    type=\"ordinal\"\n",
       "                }\n",
       "            },\n",
       "            width=600,\n",
       "            height=400\n",
       "        },\n",
       "        {\n",
       "            data={\n",
       "                values=...\n",
       "            },\n",
       "            layer=[\n",
       "                {\n",
       "                    mark={\n",
       "                        type=\"circle\",\n",
       "                        clip=false,\n",
       "                        opacity=0.9,\n",
       "                        size=500,\n",
       "                        color=\"#9ecae9\"\n",
       "                    },\n",
       "                    selection={\n",
       "                        grid={\n",
       "                            type=\"interval\",\n",
       "                            bind=\"scales\"\n",
       "                        }\n",
       "                    },\n",
       "                    encoding={\n",
       "                        x={\n",
       "                            axis=nothing,\n",
       "                            field=\"node_x\",\n",
       "                            type=\"quantitative\"\n",
       "                        },\n",
       "                        y={\n",
       "                            axis=nothing,\n",
       "                            field=\"node_y\",\n",
       "                            type=\"quantitative\"\n",
       "                        },\n",
       "                        size={\n",
       "                            field=nothing,\n",
       "                            legend=nothing\n",
       "                        },\n",
       "                        color={\n",
       "                            scale={\n",
       "                                scheme=\"blues\"\n",
       "                            },\n",
       "                            field=\"centrality\",\n",
       "                            type=\"quantitative\"\n",
       "                        },\n",
       "                        tooltip=[\n",
       "                            {\n",
       "                                field=\"keywords\",\n",
       "                                type=\"nominal\"\n",
       "                            }\n",
       "                        ]\n",
       "                    }\n",
       "                },\n",
       "                {\n",
       "                    mark={\n",
       "                        type=\"text\",\n",
       "                        clip=false,\n",
       "                        opacity=1,\n",
       "                        size=10\n",
       "                    },\n",
       "                    encoding={\n",
       "                        x={\n",
       "                            axis=nothing,\n",
       "                            field=\"node_x\",\n",
       "                            type=\"quantitative\"\n",
       "                        },\n",
       "                        y={\n",
       "                            axis=nothing,\n",
       "                            field=\"node_y\",\n",
       "                            type=\"quantitative\"\n",
       "                        },\n",
       "                        text={\n",
       "                            type=\"nominal\",\n",
       "                            field=\"keywords\"\n",
       "                        }\n",
       "                    }\n",
       "                }\n",
       "            ]\n",
       "        }\n",
       "    ]\n",
       ")"
      ]
     },
     "execution_count": 194,
     "metadata": {},
     "output_type": "execute_result"
    }
   ],
   "source": [
    "v1 =@vlplot(\n",
    "    data = graph_nodes,\n",
    "    layer=[\n",
    "    {\n",
    "        mark={\"type\"=:circle,clip=false,opacity=0.9,size=500,color=\"#9ecae9\"},\n",
    "        x={\"node_x:q\",axis=nothing},\n",
    "        y={\"node_y:q\",axis=nothing},\n",
    "        size={field=nothing,legend=nothing},\n",
    "        color={\"centrality:q\", scale={scheme=\"blues\"}},\n",
    "        tooltip=[{field=\"keywords\",\"type\"=\"nominal\"}],\n",
    "        selection={\n",
    "            grid={\n",
    "                    type=:interval,\n",
    "                    bind=:scales,\n",
    "                }\n",
    "        }},\n",
    "    { \n",
    "        mark={\"type\"=:text,clip=false,opacity=1,size=10},\n",
    "        x={\"node_x:q\",axis=nothing},\n",
    "        y={\"node_y:q\",axis=nothing},\n",
    "        text={\"keywords\",\"type\"=\"nominal\"}\n",
    "    }]\n",
    ")\n",
    "\n",
    "v2 =@vlplot(\n",
    "    mark={\"type\"=:line,color=\"gray\",clip=false,size=0.8,opacity=0.5},\n",
    "    data = graph_edges,\n",
    "    encoding={\n",
    "    x={\"edges_x:q\",axis=nothing},\n",
    "    y={\"edges_y:q\",axis=nothing},\n",
    "#     size={\"ew:q\",legend=nothing},\n",
    "    detail={\"pairs:o\"}},\n",
    "    width=600,\n",
    "    height=400\n",
    ");\n",
    "\n",
    "graph_plot = @vlplot(view={stroke=nothing})+v2+v1"
   ]
  },
  {
   "cell_type": "code",
   "execution_count": 168,
   "metadata": {},
   "outputs": [],
   "source": [
    "using LightGraphs, GraphPlot, SimpleWeightedGraphs, LinearAlgebra, DataFrames, Random, CSV, Colors\n",
    "ENV[\"COLUMNS\"] = 2000;"
   ]
  },
  {
   "cell_type": "code",
   "execution_count": 169,
   "metadata": {},
   "outputs": [],
   "source": [
    "Random.seed!(7)\n",
    "df = DataFrame(rand([0,1],20,20));"
   ]
  },
  {
   "cell_type": "code",
   "execution_count": 170,
   "metadata": {},
   "outputs": [
    {
     "data": {
      "text/plain": [
       "{20, 0} undirected simple Int64 graph with Float64 weights"
      ]
     },
     "execution_count": 170,
     "metadata": {},
     "output_type": "execute_result"
    }
   ],
   "source": [
    "g = SimpleWeightedGraph(ncol(df))"
   ]
  },
  {
   "cell_type": "code",
   "execution_count": 171,
   "metadata": {},
   "outputs": [],
   "source": [
    "ew = Int[]\n",
    "pairings = [] \n",
    "for i in 1:ncol(df), j in i+1:ncol(df) # iterate over all combinations of columns\n",
    "    w = dot(df[:, i], df[:, j])        # calculate how many times (i,j) occurs\n",
    "    if w > 0\n",
    "        push!(ew, w)\n",
    "        add_edge!(g, i, j, w)\n",
    "        push!(pairings,[i,j])\n",
    "    end\n",
    "end"
   ]
  },
  {
   "cell_type": "code",
   "execution_count": 172,
   "metadata": {},
   "outputs": [
    {
     "data": {
      "image/png": "[encoded data removed]",
      "image/svg+xml": [
       "<?xml version=\"1.0\" encoding=\"UTF-8\"?>\n",
       "<svg xmlns=\"http://www.w3.org/2000/svg\"\n",
       "     xmlns:xlink=\"http://www.w3.org/1999/xlink\"\n",
       "     xmlns:gadfly=\"http://www.gadflyjl.org/ns\"\n",
       "     version=\"1.2\"\n",
       "     width=\"141.42mm\" height=\"100mm\" viewBox=\"0 0 141.42 100\"\n",
       "     stroke=\"none\"\n",
       "     fill=\"#000000\"\n",
       "     stroke-width=\"0.3\"\n",
       "     font-size=\"3.88\"\n",
       ">\n",
       "<defs>\n",
       "  <marker id=\"arrow\" markerWidth=\"15\" markerHeight=\"7\" refX=\"5\" refY=\"3.5\" orient=\"auto\" markerUnits=\"strokeWidth\">\n",
       "    <path d=\"M0,0 L15,3.5 L0,7 z\" stroke=\"context-stroke\" fill=\"context-stroke\"/>\n",
       "  </marker>\n",
       "</defs>\n",
       "<g fill=\"#000000\" fill-opacity=\"0.000\" stroke=\"#D3D3D3\" id=\"img-eb93bfb5-1\">\n",
       "  <g transform=\"translate(102.93,69.36)\" stroke-width=\"0.24\">\n",
       "    <path fill=\"none\" d=\"M2.8,-19.99 L -2.8 19.99\" class=\"primitive\"/>\n",
       "  </g>\n",
       "  <g transform=\"translate(94.1,53.16)\" stroke-width=\"0.49\">\n",
       "    <path fill=\"none\" d=\"M9.29,-4.74 L -9.29 4.74\" class=\"primitive\"/>\n",
       "  </g>\n",
       "  <g transform=\"translate(90.97,75.46)\" stroke-width=\"0.3\">\n",
       "    <path fill=\"none\" d=\"M7.65,14.03 L -7.65 -14.03\" class=\"primitive\"/>\n",
       "  </g>\n",
       "  <g transform=\"translate(91.54,62.34)\" stroke-width=\"0.49\">\n",
       "    <path fill=\"none\" d=\"M12.68,-13.35 L -12.68 13.35\" class=\"primitive\"/>\n",
       "  </g>\n",
       "  <g transform=\"translate(88.41,84.64)\" stroke-width=\"0.3\">\n",
       "    <path fill=\"none\" d=\"M8.91,5.49 L -8.91 -5.49\" class=\"primitive\"/>\n",
       "  </g>\n",
       "  <g transform=\"translate(79.58,68.44)\" stroke-width=\"0.43\">\n",
       "    <path fill=\"none\" d=\"M1.92,-6.89 L -1.92 6.89\" class=\"primitive\"/>\n",
       "  </g>\n",
       "  <g transform=\"translate(71.96,49.25)\" stroke-width=\"0.43\">\n",
       "    <path fill=\"none\" d=\"M30.82,-1.98 L -30.82 1.98\" class=\"primitive\"/>\n",
       "  </g>\n",
       "  <g transform=\"translate(68.83,71.56)\" stroke-width=\"0.43\">\n",
       "    <path fill=\"none\" d=\"M28.54,18.54 L -28.54 -18.54\" class=\"primitive\"/>\n",
       "  </g>\n",
       "  <g transform=\"translate(60,55.35)\" stroke-width=\"0.3\">\n",
       "    <path fill=\"none\" d=\"M18.94,3.34 L -18.94 -3.34\" class=\"primitive\"/>\n",
       "  </g>\n",
       "  <g transform=\"translate(57.44,64.53)\" stroke-width=\"0.43\">\n",
       "    <path fill=\"none\" d=\"M17.19,11.49 L -17.19 -11.49\" class=\"primitive\"/>\n",
       "  </g>\n",
       "  <g transform=\"translate(61.22,40.51)\" stroke-width=\"0.3\">\n",
       "    <path fill=\"none\" d=\"M41.6,6.07 L -41.6 -6.07\" class=\"primitive\"/>\n",
       "  </g>\n",
       "  <g transform=\"translate(58.1,62.82)\" stroke-width=\"0.43\">\n",
       "    <path fill=\"none\" d=\"M39.35,27.22 L -39.35 -27.22\" class=\"primitive\"/>\n",
       "  </g>\n",
       "  <g transform=\"translate(49.27,46.61)\" stroke-width=\"0.24\">\n",
       "    <path fill=\"none\" d=\"M29.98,11.53 L -29.98 -11.53\" class=\"primitive\"/>\n",
       "  </g>\n",
       "  <g transform=\"translate(46.71,55.79)\" stroke-width=\"0.24\">\n",
       "    <path fill=\"none\" d=\"M28.01,20.16 L -28.01 -20.16\" class=\"primitive\"/>\n",
       "  </g>\n",
       "  <g transform=\"translate(27.13,42.71)\" stroke-width=\"0.49\">\n",
       "    <path fill=\"none\" d=\"M8.57,6.98 L -8.57 -6.98\" class=\"primitive\"/>\n",
       "  </g>\n",
       "  <g transform=\"translate(74.06,37.63)\" stroke-width=\"0.43\">\n",
       "    <path fill=\"none\" d=\"M28.96,8.53 L -28.96 -8.53\" class=\"primitive\"/>\n",
       "  </g>\n",
       "  <g transform=\"translate(70.93,59.93)\" stroke-width=\"0.12\">\n",
       "    <path fill=\"none\" d=\"M27.09,29.77 L -27.09 -29.77\" class=\"primitive\"/>\n",
       "  </g>\n",
       "  <g transform=\"translate(62.1,43.73)\" stroke-width=\"0.37\">\n",
       "    <path fill=\"none\" d=\"M17.82,13.81 L -17.82 -13.81\" class=\"primitive\"/>\n",
       "  </g>\n",
       "  <g transform=\"translate(59.54,52.91)\" stroke-width=\"0.49\">\n",
       "    <path fill=\"none\" d=\"M16.01,22.62 L -16.01 -22.62\" class=\"primitive\"/>\n",
       "  </g>\n",
       "  <g transform=\"translate(39.96,39.82)\" stroke-width=\"0.18\">\n",
       "    <path fill=\"none\" d=\"M-1.68,9.31 L 1.68 -9.31\" class=\"primitive\"/>\n",
       "  </g>\n",
       "  <g transform=\"translate(29.23,31.08)\" stroke-width=\"0.12\">\n",
       "    <path fill=\"none\" d=\"M-9.69,2.18 L 9.69 -2.18\" class=\"primitive\"/>\n",
       "  </g>\n",
       "  <g transform=\"translate(58.92,51)\" stroke-width=\"0.37\">\n",
       "    <path fill=\"none\" d=\"M43.86,-3.67 L -43.86 3.67\" class=\"primitive\"/>\n",
       "  </g>\n",
       "  <g transform=\"translate(55.79,73.3)\" stroke-width=\"0.24\">\n",
       "    <path fill=\"none\" d=\"M41.17,17.18 L -41.17 -17.18\" class=\"primitive\"/>\n",
       "  </g>\n",
       "  <g transform=\"translate(46.96,57.1)\" stroke-width=\"0.12\">\n",
       "    <path fill=\"none\" d=\"M31.9,1.96 L -31.9 -1.96\" class=\"primitive\"/>\n",
       "  </g>\n",
       "  <g transform=\"translate(44.4,66.28)\" stroke-width=\"0.12\">\n",
       "    <path fill=\"none\" d=\"M29.66,10.31 L -29.66 -10.31\" class=\"primitive\"/>\n",
       "  </g>\n",
       "  <g transform=\"translate(24.82,53.19)\" stroke-width=\"0.18\">\n",
       "    <path fill=\"none\" d=\"M9.8,-1.31 L -9.8 1.31\" class=\"primitive\"/>\n",
       "  </g>\n",
       "  <g transform=\"translate(14.09,44.45)\" stroke-width=\"0.24\">\n",
       "    <path fill=\"none\" d=\"M1.8,-8.18 L -1.8 8.18\" class=\"primitive\"/>\n",
       "  </g>\n",
       "  <g transform=\"translate(26.92,41.57)\" stroke-width=\"0.18\">\n",
       "    <path fill=\"none\" d=\"M13.08,-11.55 L -13.08 11.55\" class=\"primitive\"/>\n",
       "  </g>\n",
       "  <g transform=\"translate(64.88,61.02)\" stroke-width=\"0.43\">\n",
       "    <path fill=\"none\" d=\"M38.21,-12.96 L -38.21 12.96\" class=\"primitive\"/>\n",
       "  </g>\n",
       "  <g transform=\"translate(61.75,83.33)\" stroke-width=\"0.18\">\n",
       "    <path fill=\"none\" d=\"M34.9,7.65 L -34.9 -7.65\" class=\"primitive\"/>\n",
       "  </g>\n",
       "  <g transform=\"translate(52.92,67.12)\" stroke-width=\"0.12\">\n",
       "    <path fill=\"none\" d=\"M26.14,-7.04 L -26.14 7.04\" class=\"primitive\"/>\n",
       "  </g>\n",
       "  <g transform=\"translate(50.36,76.3)\" stroke-width=\"0.24\">\n",
       "    <path fill=\"none\" d=\"M23.37,1.15 L -23.37 -1.15\" class=\"primitive\"/>\n",
       "  </g>\n",
       "  <g transform=\"translate(30.78,63.21)\" stroke-width=\"0.18\">\n",
       "    <path fill=\"none\" d=\"M5.79,-9.63 L -5.79 9.63\" class=\"primitive\"/>\n",
       "  </g>\n",
       "  <g transform=\"translate(20.05,54.48)\" stroke-width=\"0.06\">\n",
       "    <path fill=\"none\" d=\"M-3.24,-18.2 L 3.24 18.2\" class=\"primitive\"/>\n",
       "  </g>\n",
       "  <g transform=\"translate(32.88,51.59)\" stroke-width=\"0.12\">\n",
       "    <path fill=\"none\" d=\"M8.3,-21.15 L -8.3 21.15\" class=\"primitive\"/>\n",
       "  </g>\n",
       "  <g transform=\"translate(17.74,64.96)\" stroke-width=\"0.3\">\n",
       "    <path fill=\"none\" d=\"M-4.68,-7.88 L 4.68 7.88\" class=\"primitive\"/>\n",
       "  </g>\n",
       "  <g transform=\"translate(97.87,37.85)\" stroke-width=\"0.37\">\n",
       "    <path fill=\"none\" d=\"M6.43,7.24 L -6.43 -7.24\" class=\"primitive\"/>\n",
       "  </g>\n",
       "  <g transform=\"translate(94.75,60.15)\" stroke-width=\"0.49\">\n",
       "    <path fill=\"none\" d=\"M4.68,29.2 L -4.68 -29.2\" class=\"primitive\"/>\n",
       "  </g>\n",
       "  <g transform=\"translate(85.92,43.95)\" stroke-width=\"0.18\">\n",
       "    <path fill=\"none\" d=\"M-3.21,13.02 L 3.21 -13.02\" class=\"primitive\"/>\n",
       "  </g>\n",
       "  <g transform=\"translate(83.36,53.13)\" stroke-width=\"0.43\">\n",
       "    <path fill=\"none\" d=\"M-5.74,22.2 L 5.74 -22.2\" class=\"primitive\"/>\n",
       "  </g>\n",
       "  <g transform=\"translate(63.78,40.04)\" stroke-width=\"0.55\">\n",
       "    <path fill=\"none\" d=\"M-23.12,10.17 L 23.12 -10.17\" class=\"primitive\"/>\n",
       "  </g>\n",
       "  <g transform=\"translate(53.04,31.3)\" stroke-width=\"0.43\">\n",
       "    <path fill=\"none\" d=\"M-33.37,2.43 L 33.37 -2.43\" class=\"primitive\"/>\n",
       "  </g>\n",
       "  <g transform=\"translate(65.88,28.42)\" stroke-width=\"0.37\">\n",
       "    <path fill=\"none\" d=\"M-20.52,-0.19 L 20.52 0.19\" class=\"primitive\"/>\n",
       "  </g>\n",
       "  <g transform=\"translate(50.74,41.79)\" stroke-width=\"0.61\">\n",
       "    <path fill=\"none\" d=\"M-35.98,12.15 L 35.98 -12.15\" class=\"primitive\"/>\n",
       "  </g>\n",
       "  <g transform=\"translate(56.7,51.81)\" stroke-width=\"0.3\">\n",
       "    <path fill=\"none\" d=\"M-30.66,21.53 L 30.66 -21.53\" class=\"primitive\"/>\n",
       "  </g>\n",
       "  <g transform=\"translate(110.62,33.52)\" stroke-width=\"0.49\">\n",
       "    <path fill=\"none\" d=\"M-3.8,11.27 L 3.8 -11.27\" class=\"primitive\"/>\n",
       "  </g>\n",
       "  <g transform=\"translate(107.49,55.82)\" stroke-width=\"0.3\">\n",
       "    <path fill=\"none\" d=\"M-7.2,33.54 L 7.2 -33.54\" class=\"primitive\"/>\n",
       "  </g>\n",
       "  <g transform=\"translate(98.66,39.62)\" stroke-width=\"0.18\">\n",
       "    <path fill=\"none\" d=\"M-14.84,17.64 L 14.84 -17.64\" class=\"primitive\"/>\n",
       "  </g>\n",
       "  <g transform=\"translate(96.1,48.8)\" stroke-width=\"0.43\">\n",
       "    <path fill=\"none\" d=\"M-17.68,26.71 L 17.68 -26.71\" class=\"primitive\"/>\n",
       "  </g>\n",
       "  <g transform=\"translate(76.52,35.71)\" stroke-width=\"0.61\">\n",
       "    <path fill=\"none\" d=\"M-35.81,14.57 L 35.81 -14.57\" class=\"primitive\"/>\n",
       "  </g>\n",
       "  <g transform=\"translate(65.79,26.98)\" stroke-width=\"0.18\">\n",
       "    <path fill=\"none\" d=\"M-46.16,6.54 L 46.16 -6.54\" class=\"primitive\"/>\n",
       "  </g>\n",
       "  <g transform=\"translate(78.62,24.09)\" stroke-width=\"0.43\">\n",
       "    <path fill=\"none\" d=\"M-33.31,3.74 L 33.31 -3.74\" class=\"primitive\"/>\n",
       "  </g>\n",
       "  <g transform=\"translate(63.48,37.46)\" stroke-width=\"0.49\">\n",
       "    <path fill=\"none\" d=\"M-48.73,16.47 L 48.73 -16.47\" class=\"primitive\"/>\n",
       "  </g>\n",
       "  <g transform=\"translate(69.44,47.48)\" stroke-width=\"0.37\">\n",
       "    <path fill=\"none\" d=\"M-43.23,25.99 L 43.23 -25.99\" class=\"primitive\"/>\n",
       "  </g>\n",
       "  <g transform=\"translate(102.44,24.31)\" stroke-width=\"0.12\">\n",
       "    <path fill=\"none\" d=\"M-9.77,3.32 L 9.77 -3.32\" class=\"primitive\"/>\n",
       "  </g>\n",
       "  <g transform=\"translate(108.09,59.7)\" stroke-width=\"0.37\">\n",
       "    <path fill=\"none\" d=\"M-1.66,-10.33 L 1.66 10.33\" class=\"primitive\"/>\n",
       "  </g>\n",
       "  <g transform=\"translate(104.96,82.01)\" stroke-width=\"0.43\">\n",
       "    <path fill=\"none\" d=\"M-4,7.48 L 4 -7.48\" class=\"primitive\"/>\n",
       "  </g>\n",
       "  <g transform=\"translate(96.13,65.8)\" stroke-width=\"0.3\">\n",
       "    <path fill=\"none\" d=\"M-11.24,-5.26 L 11.24 5.26\" class=\"primitive\"/>\n",
       "  </g>\n",
       "  <g transform=\"translate(93.57,74.98)\" stroke-width=\"0.24\">\n",
       "    <path fill=\"none\" d=\"M-13.34,2.12 L 13.34 -2.12\" class=\"primitive\"/>\n",
       "  </g>\n",
       "  <g transform=\"translate(73.99,61.9)\" stroke-width=\"0.43\">\n",
       "    <path fill=\"none\" d=\"M-33.08,-9.57 L 33.08 9.57\" class=\"primitive\"/>\n",
       "  </g>\n",
       "  <g transform=\"translate(63.26,53.16)\" stroke-width=\"0.3\">\n",
       "    <path fill=\"none\" d=\"M-44.02,-18.02 L 44.02 18.02\" class=\"primitive\"/>\n",
       "  </g>\n",
       "  <g transform=\"translate(76.09,50.27)\" stroke-width=\"0.18\">\n",
       "    <path fill=\"none\" d=\"M-31.61,-20.5 L 31.61 20.5\" class=\"primitive\"/>\n",
       "  </g>\n",
       "  <g transform=\"translate(60.95,63.64)\" stroke-width=\"0.3\">\n",
       "    <path fill=\"none\" d=\"M-45.97,-8.14 L 45.97 8.14\" class=\"primitive\"/>\n",
       "  </g>\n",
       "  <g transform=\"translate(66.91,73.67)\" stroke-width=\"0.18\">\n",
       "    <path fill=\"none\" d=\"M-39.92,1.22 L 39.92 -1.22\" class=\"primitive\"/>\n",
       "  </g>\n",
       "  <g transform=\"translate(99.91,50.49)\" stroke-width=\"0.3\">\n",
       "    <path fill=\"none\" d=\"M-9.18,-19.64 L 9.18 19.64\" class=\"primitive\"/>\n",
       "  </g>\n",
       "  <g transform=\"translate(112.65,46.16)\" stroke-width=\"0.43\">\n",
       "    <path fill=\"none\" d=\"M2.3,-23.86 L -2.3 23.86\" class=\"primitive\"/>\n",
       "  </g>\n",
       "  <g transform=\"translate(117.62,53.48)\" stroke-width=\"0.18\">\n",
       "    <path fill=\"none\" d=\"M-8.98,-4.98 L 8.98 4.98\" class=\"primitive\"/>\n",
       "  </g>\n",
       "  <g transform=\"translate(114.5,75.78)\" stroke-width=\"0.3\">\n",
       "    <path fill=\"none\" d=\"M-12.89,13.94 L 12.89 -13.94\" class=\"primitive\"/>\n",
       "  </g>\n",
       "  <g transform=\"translate(105.66,59.58)\" stroke-width=\"0.3\">\n",
       "    <path fill=\"none\" d=\"M-20.23,-0.27 L 20.23 0.27\" class=\"primitive\"/>\n",
       "  </g>\n",
       "  <g transform=\"translate(103.1,68.75)\" stroke-width=\"0.3\">\n",
       "    <path fill=\"none\" d=\"M-23.12,7.85 L 23.12 -7.85\" class=\"primitive\"/>\n",
       "  </g>\n",
       "  <g transform=\"translate(83.52,55.67)\" stroke-width=\"0.43\">\n",
       "    <path fill=\"none\" d=\"M-42.4,-3.92 L 42.4 3.92\" class=\"primitive\"/>\n",
       "  </g>\n",
       "  <g transform=\"translate(72.79,46.93)\" stroke-width=\"0.43\">\n",
       "    <path fill=\"none\" d=\"M-53.27,-12.24 L 53.27 12.24\" class=\"primitive\"/>\n",
       "  </g>\n",
       "  <g transform=\"translate(85.62,44.05)\" stroke-width=\"0.49\">\n",
       "    <path fill=\"none\" d=\"M-40.64,-14.78 L 40.64 14.78\" class=\"primitive\"/>\n",
       "  </g>\n",
       "  <g transform=\"translate(70.49,57.42)\" stroke-width=\"0.43\">\n",
       "    <path fill=\"none\" d=\"M-55.41,-2.34 L 55.41 2.34\" class=\"primitive\"/>\n",
       "  </g>\n",
       "  <g transform=\"translate(76.45,67.44)\" stroke-width=\"0.55\">\n",
       "    <path fill=\"none\" d=\"M-49.51,7.08 L 49.51 -7.08\" class=\"primitive\"/>\n",
       "  </g>\n",
       "  <g transform=\"translate(109.44,44.26)\" stroke-width=\"0.43\">\n",
       "    <path fill=\"none\" d=\"M-17.55,-13.89 L 17.55 13.89\" class=\"primitive\"/>\n",
       "  </g>\n",
       "  <g transform=\"translate(122.19,39.94)\" stroke-width=\"0.37\">\n",
       "    <path fill=\"none\" d=\"M-6.21,-17.7 L 6.21 17.7\" class=\"primitive\"/>\n",
       "  </g>\n",
       "  <g transform=\"translate(119.66,66.12)\" stroke-width=\"0.3\">\n",
       "    <path fill=\"none\" d=\"M-7.11,4.65 L 7.11 -4.65\" class=\"primitive\"/>\n",
       "  </g>\n",
       "  <g transform=\"translate(70.5,27.7)\" stroke-width=\"0.3\">\n",
       "    <path fill=\"none\" d=\"M32.95,17.94 L -32.95 -17.94\" class=\"primitive\"/>\n",
       "  </g>\n",
       "  <g transform=\"translate(58.54,33.8)\" stroke-width=\"0.55\">\n",
       "    <path fill=\"none\" d=\"M21.8,23.51 L -21.8 -23.51\" class=\"primitive\"/>\n",
       "  </g>\n",
       "  <g transform=\"translate(55.98,42.97)\" stroke-width=\"0.49\">\n",
       "    <path fill=\"none\" d=\"M19.74,32.5 L -19.74 -32.5\" class=\"primitive\"/>\n",
       "  </g>\n",
       "  <g transform=\"translate(36.4,29.89)\" stroke-width=\"0.3\">\n",
       "    <path fill=\"none\" d=\"M1.3,19.23 L -1.3 -19.23\" class=\"primitive\"/>\n",
       "  </g>\n",
       "  <g transform=\"translate(25.67,21.15)\" stroke-width=\"0.43\">\n",
       "    <path fill=\"none\" d=\"M-7.77,10.74 L 7.77 -10.74\" class=\"primitive\"/>\n",
       "  </g>\n",
       "  <g transform=\"translate(38.5,18.27)\" stroke-width=\"0.49\">\n",
       "    <path fill=\"none\" d=\"M2.75,7.68 L -2.75 -7.68\" class=\"primitive\"/>\n",
       "  </g>\n",
       "  <g transform=\"translate(23.36,31.64)\" stroke-width=\"0.12\">\n",
       "    <path fill=\"none\" d=\"M-10.48,21.11 L 10.48 -21.11\" class=\"primitive\"/>\n",
       "  </g>\n",
       "  <g transform=\"translate(29.32,41.66)\" stroke-width=\"0.18\">\n",
       "    <path fill=\"none\" d=\"M-5.23,31.01 L 5.23 -31.01\" class=\"primitive\"/>\n",
       "  </g>\n",
       "  <g transform=\"translate(62.32,18.48)\" stroke-width=\"0.24\">\n",
       "    <path fill=\"none\" d=\"M24.46,9.07 L -24.46 -9.07\" class=\"primitive\"/>\n",
       "  </g>\n",
       "  <g transform=\"translate(75.06,14.16)\" stroke-width=\"0.24\">\n",
       "    <path fill=\"none\" d=\"M36.89,5.36 L -36.89 -5.36\" class=\"primitive\"/>\n",
       "  </g>\n",
       "  <g transform=\"translate(72.53,40.34)\" stroke-width=\"0.12\">\n",
       "    <path fill=\"none\" d=\"M35.49,30.21 L -35.49 -30.21\" class=\"primitive\"/>\n",
       "  </g>\n",
       "  <g transform=\"translate(82.06,34.11)\" stroke-width=\"0.24\">\n",
       "    <path fill=\"none\" d=\"M44.52,24.35 L -44.52 -24.35\" class=\"primitive\"/>\n",
       "  </g>\n",
       "  <g transform=\"translate(80.87,68.09)\" stroke-width=\"0.24\">\n",
       "    <path fill=\"none\" d=\"M23.05,-19.25 L -23.05 19.25\" class=\"primitive\"/>\n",
       "  </g>\n",
       "  <g transform=\"translate(77.75,90.39)\" stroke-width=\"0.06\">\n",
       "    <path fill=\"none\" d=\"M18.77,1.09 L -18.77 -1.09\" class=\"primitive\"/>\n",
       "  </g>\n",
       "  <g transform=\"translate(68.91,74.19)\" stroke-width=\"0.18\">\n",
       "    <path fill=\"none\" d=\"M11.48,-12.96 L -11.48 12.96\" class=\"primitive\"/>\n",
       "  </g>\n",
       "  <g transform=\"translate(66.35,83.37)\" stroke-width=\"0.18\">\n",
       "    <path fill=\"none\" d=\"M8.05,-4.34 L -8.05 4.34\" class=\"primitive\"/>\n",
       "  </g>\n",
       "  <g transform=\"translate(46.77,70.28)\" stroke-width=\"0.24\">\n",
       "    <path fill=\"none\" d=\"M-7.87,-16.63 L 7.87 16.63\" class=\"primitive\"/>\n",
       "  </g>\n",
       "  <g transform=\"translate(36.04,61.54)\" stroke-width=\"0.24\">\n",
       "    <path fill=\"none\" d=\"M-18.17,-25.49 L 18.17 25.49\" class=\"primitive\"/>\n",
       "  </g>\n",
       "  <g transform=\"translate(48.87,58.66)\" stroke-width=\"0.06\">\n",
       "    <path fill=\"none\" d=\"M-6.3,-28.16 L 6.3 28.16\" class=\"primitive\"/>\n",
       "  </g>\n",
       "  <g transform=\"translate(33.74,72.03)\" stroke-width=\"0.24\">\n",
       "    <path fill=\"none\" d=\"M-19.74,-15.36 L 19.74 15.36\" class=\"primitive\"/>\n",
       "  </g>\n",
       "  <g transform=\"translate(39.7,82.05)\" stroke-width=\"0.43\">\n",
       "    <path fill=\"none\" d=\"M-13.2,-5.83 L 13.2 5.83\" class=\"primitive\"/>\n",
       "  </g>\n",
       "  <g transform=\"translate(72.69,58.87)\" stroke-width=\"0.37\">\n",
       "    <path fill=\"none\" d=\"M15.79,-28.08 L -15.79 28.08\" class=\"primitive\"/>\n",
       "  </g>\n",
       "  <g transform=\"translate(85.44,54.55)\" stroke-width=\"0.3\">\n",
       "    <path fill=\"none\" d=\"M28.03,-32.58 L -28.03 32.58\" class=\"primitive\"/>\n",
       "  </g>\n",
       "  <g transform=\"translate(82.91,80.73)\" stroke-width=\"0.43\">\n",
       "    <path fill=\"none\" d=\"M24.2,-7.45 L -24.2 7.45\" class=\"primitive\"/>\n",
       "  </g>\n",
       "  <g transform=\"translate(92.44,74.5)\" stroke-width=\"0.18\">\n",
       "    <path fill=\"none\" d=\"M33.88,-13.47 L -33.88 13.47\" class=\"primitive\"/>\n",
       "  </g>\n",
       "  <g transform=\"translate(45.31,48.72)\" stroke-width=\"0.24\">\n",
       "    <path fill=\"none\" d=\"M-9.79,-38.1 L 9.79 38.1\" class=\"primitive\"/>\n",
       "  </g>\n",
       "  <g transform=\"translate(85.86,44.32)\" stroke-width=\"0.3\">\n",
       "    <path fill=\"none\" d=\"M16.96,2.3 L -16.96 -2.3\" class=\"primitive\"/>\n",
       "  </g>\n",
       "  <g transform=\"translate(82.73,66.62)\" stroke-width=\"0.18\">\n",
       "    <path fill=\"none\" d=\"M15.64,22.94 L -15.64 -22.94\" class=\"primitive\"/>\n",
       "  </g>\n",
       "  <g transform=\"translate(73.9,50.42)\" stroke-width=\"0.43\">\n",
       "    <path fill=\"none\" d=\"M6.43,6.89 L -6.43 -6.89\" class=\"primitive\"/>\n",
       "  </g>\n",
       "  <g transform=\"translate(71.34,59.6)\" stroke-width=\"0.43\">\n",
       "    <path fill=\"none\" d=\"M4.96,15.74 L -4.96 -15.74\" class=\"primitive\"/>\n",
       "  </g>\n",
       "  <g transform=\"translate(51.76,46.51)\" stroke-width=\"0.12\">\n",
       "    <path fill=\"none\" d=\"M-10.96,3.89 L 10.96 -3.89\" class=\"primitive\"/>\n",
       "  </g>\n",
       "  <g transform=\"translate(41.03,37.78)\" stroke-width=\"0.37\">\n",
       "    <path fill=\"none\" d=\"M-21.42,-3.31 L 21.42 3.31\" class=\"primitive\"/>\n",
       "  </g>\n",
       "  <g transform=\"translate(53.86,34.89)\" stroke-width=\"0.43\">\n",
       "    <path fill=\"none\" d=\"M-9.23,-5.23 L 9.23 5.23\" class=\"primitive\"/>\n",
       "  </g>\n",
       "  <g transform=\"translate(38.72,48.26)\" stroke-width=\"0.37\">\n",
       "    <path fill=\"none\" d=\"M-23.83,5.91 L 23.83 -5.91\" class=\"primitive\"/>\n",
       "  </g>\n",
       "  <g transform=\"translate(44.68,58.28)\" stroke-width=\"0.37\">\n",
       "    <path fill=\"none\" d=\"M-18.79,14.96 L 18.79 -14.96\" class=\"primitive\"/>\n",
       "  </g>\n",
       "  <g transform=\"translate(77.68,35.11)\" stroke-width=\"0.43\">\n",
       "    <path fill=\"none\" d=\"M9.4,-5.06 L -9.4 5.06\" class=\"primitive\"/>\n",
       "  </g>\n",
       "  <g transform=\"translate(90.42,30.78)\" stroke-width=\"0.24\">\n",
       "    <path fill=\"none\" d=\"M21.96,-9.58 L -21.96 9.58\" class=\"primitive\"/>\n",
       "  </g>\n",
       "  <g transform=\"translate(87.89,56.96)\" stroke-width=\"0.3\">\n",
       "    <path fill=\"none\" d=\"M19.88,13.75 L -19.88 -13.75\" class=\"primitive\"/>\n",
       "  </g>\n",
       "  <g transform=\"translate(97.43,50.74)\" stroke-width=\"0.3\">\n",
       "    <path fill=\"none\" d=\"M28.71,8.28 L -28.71 -8.28\" class=\"primitive\"/>\n",
       "  </g>\n",
       "  <g transform=\"translate(50.3,24.96)\" stroke-width=\"0.3\">\n",
       "    <path fill=\"none\" d=\"M-13.56,-14.67 L 13.56 14.67\" class=\"primitive\"/>\n",
       "  </g>\n",
       "  <g transform=\"translate(60.68,65.35)\" stroke-width=\"0.37\">\n",
       "    <path fill=\"none\" d=\"M-4.5,21.46 L 4.5 -21.46\" class=\"primitive\"/>\n",
       "  </g>\n",
       "  <g transform=\"translate(84.82,30.05)\" stroke-width=\"0.43\">\n",
       "    <path fill=\"none\" d=\"M19.05,15.26 L -19.05 -15.26\" class=\"primitive\"/>\n",
       "  </g>\n",
       "  <g transform=\"translate(81.69,52.36)\" stroke-width=\"0.12\">\n",
       "    <path fill=\"none\" d=\"M17.09,37.09 L -17.09 -37.09\" class=\"primitive\"/>\n",
       "  </g>\n",
       "  <g transform=\"translate(72.86,36.15)\" stroke-width=\"0.3\">\n",
       "    <path fill=\"none\" d=\"M8.38,20.86 L -8.38 -20.86\" class=\"primitive\"/>\n",
       "  </g>\n",
       "  <g transform=\"translate(70.3,45.33)\" stroke-width=\"0.37\">\n",
       "    <path fill=\"none\" d=\"M6.24,29.98 L -6.24 -29.98\" class=\"primitive\"/>\n",
       "  </g>\n",
       "  <g transform=\"translate(50.72,32.25)\" stroke-width=\"0.37\">\n",
       "    <path fill=\"none\" d=\"M-11.45,17.09 L 11.45 -17.09\" class=\"primitive\"/>\n",
       "  </g>\n",
       "  <g transform=\"translate(39.99,23.51)\" stroke-width=\"0.55\">\n",
       "    <path fill=\"none\" d=\"M-20.8,9.22 L 20.8 -9.22\" class=\"primitive\"/>\n",
       "  </g>\n",
       "  <g transform=\"translate(52.82,20.62)\" stroke-width=\"0.3\">\n",
       "    <path fill=\"none\" d=\"M-8.43,5.93 L 8.43 -5.93\" class=\"primitive\"/>\n",
       "  </g>\n",
       "  <g transform=\"translate(37.68,33.99)\" stroke-width=\"0.43\">\n",
       "    <path fill=\"none\" d=\"M-23.73,19.19 L 23.73 -19.19\" class=\"primitive\"/>\n",
       "  </g>\n",
       "  <g transform=\"translate(43.64,44.02)\" stroke-width=\"0.24\">\n",
       "    <path fill=\"none\" d=\"M-18.58,28.85 L 18.58 -28.85\" class=\"primitive\"/>\n",
       "  </g>\n",
       "  <g transform=\"translate(76.64,20.84)\" stroke-width=\"0.18\">\n",
       "    <path fill=\"none\" d=\"M10.54,6.29 L -10.54 -6.29\" class=\"primitive\"/>\n",
       "  </g>\n",
       "  <g transform=\"translate(89.38,16.51)\" stroke-width=\"0.43\">\n",
       "    <path fill=\"none\" d=\"M22.56,3.03 L -22.56 -3.03\" class=\"primitive\"/>\n",
       "  </g>\n",
       "  <g transform=\"translate(86.85,42.7)\" stroke-width=\"0.49\">\n",
       "    <path fill=\"none\" d=\"M21.67,27.61 L -21.67 -27.61\" class=\"primitive\"/>\n",
       "  </g>\n",
       "  <g transform=\"translate(96.39,36.47)\" stroke-width=\"0.24\">\n",
       "    <path fill=\"none\" d=\"M30.49,21.77 L -30.49 -21.77\" class=\"primitive\"/>\n",
       "  </g>\n",
       "  <g transform=\"translate(49.26,10.69)\" stroke-width=\"0.3\">\n",
       "    <path fill=\"none\" d=\"M-11.11,-1.83 L 11.11 1.83\" class=\"primitive\"/>\n",
       "  </g>\n",
       "  <g transform=\"translate(59.64,51.08)\" stroke-width=\"0.43\">\n",
       "    <path fill=\"none\" d=\"M-3.71,35.71 L 3.71 -35.71\" class=\"primitive\"/>\n",
       "  </g>\n",
       "  <g transform=\"translate(64.62,27.32)\" stroke-width=\"0.43\">\n",
       "    <path fill=\"none\" d=\"M0.87,11.94 L -0.87 -11.94\" class=\"primitive\"/>\n",
       "  </g>\n",
       "  <g transform=\"translate(97.3,28.4)\" stroke-width=\"0.37\">\n",
       "    <path fill=\"none\" d=\"M7.72,16.45 L -7.72 -16.45\" class=\"primitive\"/>\n",
       "  </g>\n",
       "  <g transform=\"translate(94.17,50.7)\" stroke-width=\"0.24\">\n",
       "    <path fill=\"none\" d=\"M5.31,38.65 L -5.31 -38.65\" class=\"primitive\"/>\n",
       "  </g>\n",
       "  <g transform=\"translate(85.34,34.5)\" stroke-width=\"0.12\">\n",
       "    <path fill=\"none\" d=\"M-2.9,22.44 L 2.9 -22.44\" class=\"primitive\"/>\n",
       "  </g>\n",
       "  <g transform=\"translate(82.78,43.68)\" stroke-width=\"0.18\">\n",
       "    <path fill=\"none\" d=\"M-5.37,31.63 L 5.37 -31.63\" class=\"primitive\"/>\n",
       "  </g>\n",
       "  <g transform=\"translate(63.2,30.59)\" stroke-width=\"0.37\">\n",
       "    <path fill=\"none\" d=\"M-23.19,19.09 L 23.19 -19.09\" class=\"primitive\"/>\n",
       "  </g>\n",
       "  <g transform=\"translate(52.47,21.85)\" stroke-width=\"0.43\">\n",
       "    <path fill=\"none\" d=\"M-33.1,11.12 L 33.1 -11.12\" class=\"primitive\"/>\n",
       "  </g>\n",
       "  <g transform=\"translate(65.3,18.97)\" stroke-width=\"0.18\">\n",
       "    <path fill=\"none\" d=\"M-20.37,8.09 L 20.37 -8.09\" class=\"primitive\"/>\n",
       "  </g>\n",
       "  <g transform=\"translate(50.16,32.34)\" stroke-width=\"0.24\">\n",
       "    <path fill=\"none\" d=\"M-35.85,21.11 L 35.85 -21.11\" class=\"primitive\"/>\n",
       "  </g>\n",
       "  <g transform=\"translate(56.12,42.36)\" stroke-width=\"0.43\">\n",
       "    <path fill=\"none\" d=\"M-30.52,30.72 L 30.52 -30.72\" class=\"primitive\"/>\n",
       "  </g>\n",
       "  <g transform=\"translate(89.12,19.19)\" stroke-width=\"0.37\">\n",
       "    <path fill=\"none\" d=\"M0.43,7.12 L -0.43 -7.12\" class=\"primitive\"/>\n",
       "  </g>\n",
       "  <g transform=\"translate(101.86,14.86)\" stroke-width=\"0.37\">\n",
       "    <path fill=\"none\" d=\"M10.43,4.01 L -10.43 -4.01\" class=\"primitive\"/>\n",
       "  </g>\n",
       "  <g transform=\"translate(99.33,41.04)\" stroke-width=\"0.3\">\n",
       "    <path fill=\"none\" d=\"M10.01,29.04 L -10.01 -29.04\" class=\"primitive\"/>\n",
       "  </g>\n",
       "  <g transform=\"translate(108.87,34.82)\" stroke-width=\"0.12\">\n",
       "    <path fill=\"none\" d=\"M18.69,23.06 L -18.69 -23.06\" class=\"primitive\"/>\n",
       "  </g>\n",
       "  <g transform=\"translate(61.74,9.04)\" stroke-width=\"0.49\">\n",
       "    <path fill=\"none\" d=\"M-23.51,-0.62 L 23.51 0.62\" class=\"primitive\"/>\n",
       "  </g>\n",
       "  <g transform=\"translate(72.12,49.43)\" stroke-width=\"0.67\">\n",
       "    <path fill=\"none\" d=\"M-15.5,37.45 L 15.5 -37.45\" class=\"primitive\"/>\n",
       "  </g>\n",
       "  <g transform=\"translate(77.1,25.66)\" stroke-width=\"0.24\">\n",
       "    <path fill=\"none\" d=\"M-9.95,13.85 L 9.95 -13.85\" class=\"primitive\"/>\n",
       "  </g>\n",
       "  <g transform=\"translate(76.06,11.39)\" stroke-width=\"0.43\">\n",
       "    <path fill=\"none\" d=\"M-9.24,1.23 L 9.24 -1.23\" class=\"primitive\"/>\n",
       "  </g>\n",
       "  <g transform=\"translate(76.97,59.14)\" stroke-width=\"0.49\">\n",
       "    <path fill=\"none\" d=\"M26.25,-10.9 L -26.25 10.9\" class=\"primitive\"/>\n",
       "  </g>\n",
       "  <g transform=\"translate(73.84,81.44)\" stroke-width=\"0.24\">\n",
       "    <path fill=\"none\" d=\"M23.08,9.09 L -23.08 -9.09\" class=\"primitive\"/>\n",
       "  </g>\n",
       "  <g transform=\"translate(65.01,65.24)\" stroke-width=\"0.06\">\n",
       "    <path fill=\"none\" d=\"M14.18,-4.95 L -14.18 4.95\" class=\"primitive\"/>\n",
       "  </g>\n",
       "  <g transform=\"translate(62.45,74.42)\" stroke-width=\"0.18\">\n",
       "    <path fill=\"none\" d=\"M11.42,2.51 L -11.42 -2.51\" class=\"primitive\"/>\n",
       "  </g>\n",
       "  <g transform=\"translate(42.87,61.33)\" stroke-width=\"0.37\">\n",
       "    <path fill=\"none\" d=\"M-3.9,-7.7 L 3.9 7.7\" class=\"primitive\"/>\n",
       "  </g>\n",
       "  <g transform=\"translate(32.14,52.6)\" stroke-width=\"0.37\">\n",
       "    <path fill=\"none\" d=\"M-14.05,-16.63 L 14.05 16.63\" class=\"primitive\"/>\n",
       "  </g>\n",
       "  <g transform=\"translate(44.97,49.71)\" stroke-width=\"0.12\">\n",
       "    <path fill=\"none\" d=\"M-2.6,-19.19 L 2.6 19.19\" class=\"primitive\"/>\n",
       "  </g>\n",
       "  <g transform=\"translate(29.83,63.08)\" stroke-width=\"0.3\">\n",
       "    <path fill=\"none\" d=\"M-15.27,-6.89 L 15.27 6.89\" class=\"primitive\"/>\n",
       "  </g>\n",
       "  <g transform=\"translate(35.79,73.1)\" stroke-width=\"0.49\">\n",
       "    <path fill=\"none\" d=\"M-8.87,1.38 L 8.87 -1.38\" class=\"primitive\"/>\n",
       "  </g>\n",
       "  <g transform=\"translate(68.79,49.93)\" stroke-width=\"0.12\">\n",
       "    <path fill=\"none\" d=\"M19.03,-19.38 L -19.03 19.38\" class=\"primitive\"/>\n",
       "  </g>\n",
       "  <g transform=\"translate(81.53,45.6)\" stroke-width=\"0.18\">\n",
       "    <path fill=\"none\" d=\"M31.41,-23.91 L -31.41 23.91\" class=\"primitive\"/>\n",
       "  </g>\n",
       "  <g transform=\"translate(79,71.78)\" stroke-width=\"0.37\">\n",
       "    <path fill=\"none\" d=\"M27.83,0.5 L -27.83 -0.5\" class=\"primitive\"/>\n",
       "  </g>\n",
       "  <g transform=\"translate(88.54,65.56)\" stroke-width=\"0.37\">\n",
       "    <path fill=\"none\" d=\"M37.42,-5.21 L -37.42 5.21\" class=\"primitive\"/>\n",
       "  </g>\n",
       "  <g transform=\"translate(41.41,39.78)\" stroke-width=\"0.18\">\n",
       "    <path fill=\"none\" d=\"M-6,-29.14 L 6 29.14\" class=\"primitive\"/>\n",
       "  </g>\n",
       "  <g transform=\"translate(51.79,80.17)\" stroke-width=\"0.3\">\n",
       "    <path fill=\"none\" d=\"M2.93,6.72 L -2.93 -6.72\" class=\"primitive\"/>\n",
       "  </g>\n",
       "  <g transform=\"translate(56.77,56.4)\" stroke-width=\"0.37\">\n",
       "    <path fill=\"none\" d=\"M7.6,-12.68 L -7.6 12.68\" class=\"primitive\"/>\n",
       "  </g>\n",
       "  <g transform=\"translate(55.73,42.14)\" stroke-width=\"0.12\">\n",
       "    <path fill=\"none\" d=\"M7.23,-26.8 L -7.23 26.8\" class=\"primitive\"/>\n",
       "  </g>\n",
       "  <g transform=\"translate(68.21,40.48)\" stroke-width=\"0.24\">\n",
       "    <path fill=\"none\" d=\"M18.93,-28.63 L -18.93 28.63\" class=\"primitive\"/>\n",
       "  </g>\n",
       "  <g transform=\"translate(117.85,42.35)\" stroke-width=\"0.37\">\n",
       "    <path fill=\"none\" d=\"M-8.92,3.56 L 8.92 -3.56\" class=\"primitive\"/>\n",
       "  </g>\n",
       "  <g transform=\"translate(114.72,64.66)\" stroke-width=\"0.12\">\n",
       "    <path fill=\"none\" d=\"M-13.72,24.84 L 13.72 -24.84\" class=\"primitive\"/>\n",
       "  </g>\n",
       "  <g transform=\"translate(105.89,48.45)\" stroke-width=\"0.18\">\n",
       "    <path fill=\"none\" d=\"M-20.98,9.54 L 20.98 -9.54\" class=\"primitive\"/>\n",
       "  </g>\n",
       "  <g transform=\"translate(103.33,57.63)\" stroke-width=\"0.18\">\n",
       "    <path fill=\"none\" d=\"M-24.06,18.28 L 24.06 -18.28\" class=\"primitive\"/>\n",
       "  </g>\n",
       "  <g transform=\"translate(83.75,44.55)\" stroke-width=\"0.18\">\n",
       "    <path fill=\"none\" d=\"M-42.67,6.41 L 42.67 -6.41\" class=\"primitive\"/>\n",
       "  </g>\n",
       "  <g transform=\"translate(73.01,35.81)\" stroke-width=\"0.12\">\n",
       "    <path fill=\"none\" d=\"M-53.33,-1.73 L 53.33 1.73\" class=\"primitive\"/>\n",
       "  </g>\n",
       "  <g transform=\"translate(85.85,32.92)\" stroke-width=\"0.06\">\n",
       "    <path fill=\"none\" d=\"M-40.53,-4.37 L 40.53 4.37\" class=\"primitive\"/>\n",
       "  </g>\n",
       "  <g transform=\"translate(70.71,46.29)\" stroke-width=\"0.12\">\n",
       "    <path fill=\"none\" d=\"M-55.7,8.17 L 55.7 -8.17\" class=\"primitive\"/>\n",
       "  </g>\n",
       "  <g transform=\"translate(76.67,56.32)\" stroke-width=\"0.12\">\n",
       "    <path fill=\"none\" d=\"M-50.02,17.63 L 50.02 -17.63\" class=\"primitive\"/>\n",
       "  </g>\n",
       "  <g transform=\"translate(109.67,33.14)\" stroke-width=\"0.43\">\n",
       "    <path fill=\"none\" d=\"M-16.83,-3.8 L 16.83 3.8\" class=\"primitive\"/>\n",
       "  </g>\n",
       "  <g transform=\"translate(122.41,28.81)\" stroke-width=\"0.18\">\n",
       "    <path fill=\"none\" d=\"M-5.58,-6.82 L 5.58 6.82\" class=\"primitive\"/>\n",
       "  </g>\n",
       "  <g transform=\"translate(119.88,55)\" stroke-width=\"0.43\">\n",
       "    <path fill=\"none\" d=\"M-8.54,15.18 L 8.54 -15.18\" class=\"primitive\"/>\n",
       "  </g>\n",
       "  <g transform=\"translate(129.41,48.77)\" stroke-width=\"0.55\">\n",
       "    <path fill=\"none\" d=\"M-0.18,8.79 L 0.18 -8.79\" class=\"primitive\"/>\n",
       "  </g>\n",
       "  <g transform=\"translate(82.29,22.99)\" stroke-width=\"0.3\">\n",
       "    <path fill=\"none\" d=\"M-44.33,-13.72 L 44.33 13.72\" class=\"primitive\"/>\n",
       "  </g>\n",
       "  <g transform=\"translate(92.66,63.38)\" stroke-width=\"0.37\">\n",
       "    <path fill=\"none\" d=\"M-34.63,24.1 L 34.63 -24.1\" class=\"primitive\"/>\n",
       "  </g>\n",
       "  <g transform=\"translate(97.65,39.62)\" stroke-width=\"0.49\">\n",
       "    <path fill=\"none\" d=\"M-28.71,1.76 L 28.71 -1.76\" class=\"primitive\"/>\n",
       "  </g>\n",
       "  <g transform=\"translate(96.61,25.35)\" stroke-width=\"0.12\">\n",
       "    <path fill=\"none\" d=\"M-30.11,-11.21 L 30.11 11.21\" class=\"primitive\"/>\n",
       "  </g>\n",
       "  <g transform=\"translate(109.09,23.69)\" stroke-width=\"0.18\">\n",
       "    <path fill=\"none\" d=\"M-18.17,-12.34 L 18.17 12.34\" class=\"primitive\"/>\n",
       "  </g>\n",
       "  <g transform=\"translate(88.76,54.44)\" stroke-width=\"0.43\">\n",
       "    <path fill=\"none\" d=\"M-38.03,15.62 L 38.03 -15.62\" class=\"primitive\"/>\n",
       "  </g>\n",
       "</g>\n",
       "<g stroke=\"#D3D3D3\" id=\"img-eb93bfb5-2\">\n",
       "</g>\n",
       "<g font-size=\"4\" stroke=\"#000000\" stroke-opacity=\"0.000\" fill=\"#000000\" id=\"img-eb93bfb5-3\">\n",
       "</g>\n",
       "<g stroke-width=\"0\" stroke=\"#000000\" stroke-opacity=\"0.000\" fill=\"#40E0D0\" id=\"img-eb93bfb5-4\">\n",
       "  <g transform=\"translate(106.05,47.06)\">\n",
       "    <circle cx=\"0\" cy=\"0\" r=\"3.16\" class=\"primitive\"/>\n",
       "  </g>\n",
       "  <g transform=\"translate(99.8,91.67)\">\n",
       "    <circle cx=\"0\" cy=\"0\" r=\"3.16\" class=\"primitive\"/>\n",
       "  </g>\n",
       "  <g transform=\"translate(82.14,59.26)\">\n",
       "    <circle cx=\"0\" cy=\"0\" r=\"3.16\" class=\"primitive\"/>\n",
       "  </g>\n",
       "  <g transform=\"translate(77.02,77.62)\">\n",
       "    <circle cx=\"0\" cy=\"0\" r=\"3.16\" class=\"primitive\"/>\n",
       "  </g>\n",
       "  <g transform=\"translate(37.86,51.44)\">\n",
       "    <circle cx=\"0\" cy=\"0\" r=\"3.16\" class=\"primitive\"/>\n",
       "  </g>\n",
       "  <g transform=\"translate(16.39,33.97)\">\n",
       "    <circle cx=\"0\" cy=\"0\" r=\"3.16\" class=\"primitive\"/>\n",
       "  </g>\n",
       "  <g transform=\"translate(42.06,28.2)\">\n",
       "    <circle cx=\"0\" cy=\"0\" r=\"3.16\" class=\"primitive\"/>\n",
       "  </g>\n",
       "  <g transform=\"translate(11.79,54.94)\">\n",
       "    <circle cx=\"0\" cy=\"0\" r=\"3.16\" class=\"primitive\"/>\n",
       "  </g>\n",
       "  <g transform=\"translate(23.7,74.99)\">\n",
       "    <circle cx=\"0\" cy=\"0\" r=\"3.16\" class=\"primitive\"/>\n",
       "  </g>\n",
       "  <g transform=\"translate(89.69,28.63)\">\n",
       "    <circle cx=\"0\" cy=\"0\" r=\"3.16\" class=\"primitive\"/>\n",
       "  </g>\n",
       "  <g transform=\"translate(115.18,19.98)\">\n",
       "    <circle cx=\"0\" cy=\"0\" r=\"3.16\" class=\"primitive\"/>\n",
       "  </g>\n",
       "  <g transform=\"translate(110.12,72.35)\">\n",
       "    <circle cx=\"0\" cy=\"0\" r=\"3.16\" class=\"primitive\"/>\n",
       "  </g>\n",
       "  <g transform=\"translate(129.19,59.89)\">\n",
       "    <circle cx=\"0\" cy=\"0\" r=\"3.16\" class=\"primitive\"/>\n",
       "  </g>\n",
       "  <g transform=\"translate(34.94,8.33)\">\n",
       "    <circle cx=\"0\" cy=\"0\" r=\"3.16\" class=\"primitive\"/>\n",
       "  </g>\n",
       "  <g transform=\"translate(55.69,89.12)\">\n",
       "    <circle cx=\"0\" cy=\"0\" r=\"3.16\" class=\"primitive\"/>\n",
       "  </g>\n",
       "  <g transform=\"translate(65.66,41.58)\">\n",
       "    <circle cx=\"0\" cy=\"0\" r=\"3.16\" class=\"primitive\"/>\n",
       "  </g>\n",
       "  <g transform=\"translate(63.58,13.05)\">\n",
       "    <circle cx=\"0\" cy=\"0\" r=\"3.16\" class=\"primitive\"/>\n",
       "  </g>\n",
       "  <g transform=\"translate(88.54,9.74)\">\n",
       "    <circle cx=\"0\" cy=\"0\" r=\"3.16\" class=\"primitive\"/>\n",
       "  </g>\n",
       "  <g transform=\"translate(47.88,71.22)\">\n",
       "    <circle cx=\"0\" cy=\"0\" r=\"3.16\" class=\"primitive\"/>\n",
       "  </g>\n",
       "  <g transform=\"translate(129.64,37.65)\">\n",
       "    <circle cx=\"0\" cy=\"0\" r=\"3.16\" class=\"primitive\"/>\n",
       "  </g>\n",
       "</g>\n",
       "<g font-size=\"4\" stroke=\"#000000\" stroke-opacity=\"0.000\" fill=\"#000000\" id=\"img-eb93bfb5-5\">\n",
       "  <g transform=\"translate(106.05,47.06)\">\n",
       "    <g class=\"primitive\">\n",
       "      <text text-anchor=\"middle\" dy=\"0.35em\">x1</text>\n",
       "    </g>\n",
       "  </g>\n",
       "  <g transform=\"translate(99.8,91.67)\">\n",
       "    <g class=\"primitive\">\n",
       "      <text text-anchor=\"middle\" dy=\"0.35em\">x2</text>\n",
       "    </g>\n",
       "  </g>\n",
       "  <g transform=\"translate(82.14,59.26)\">\n",
       "    <g class=\"primitive\">\n",
       "      <text text-anchor=\"middle\" dy=\"0.35em\">x3</text>\n",
       "    </g>\n",
       "  </g>\n",
       "  <g transform=\"translate(77.02,77.62)\">\n",
       "    <g class=\"primitive\">\n",
       "      <text text-anchor=\"middle\" dy=\"0.35em\">x4</text>\n",
       "    </g>\n",
       "  </g>\n",
       "  <g transform=\"translate(37.86,51.44)\">\n",
       "    <g class=\"primitive\">\n",
       "      <text text-anchor=\"middle\" dy=\"0.35em\">x5</text>\n",
       "    </g>\n",
       "  </g>\n",
       "  <g transform=\"translate(16.39,33.97)\">\n",
       "    <g class=\"primitive\">\n",
       "      <text text-anchor=\"middle\" dy=\"0.35em\">x6</text>\n",
       "    </g>\n",
       "  </g>\n",
       "  <g transform=\"translate(42.06,28.2)\">\n",
       "    <g class=\"primitive\">\n",
       "      <text text-anchor=\"middle\" dy=\"0.35em\">x7</text>\n",
       "    </g>\n",
       "  </g>\n",
       "  <g transform=\"translate(11.79,54.94)\">\n",
       "    <g class=\"primitive\">\n",
       "      <text text-anchor=\"middle\" dy=\"0.35em\">x8</text>\n",
       "    </g>\n",
       "  </g>\n",
       "  <g transform=\"translate(23.7,74.99)\">\n",
       "    <g class=\"primitive\">\n",
       "      <text text-anchor=\"middle\" dy=\"0.35em\">x9</text>\n",
       "    </g>\n",
       "  </g>\n",
       "  <g transform=\"translate(89.69,28.63)\">\n",
       "    <g class=\"primitive\">\n",
       "      <text text-anchor=\"middle\" dy=\"0.35em\">x10</text>\n",
       "    </g>\n",
       "  </g>\n",
       "  <g transform=\"translate(115.18,19.98)\">\n",
       "    <g class=\"primitive\">\n",
       "      <text text-anchor=\"middle\" dy=\"0.35em\">x11</text>\n",
       "    </g>\n",
       "  </g>\n",
       "  <g transform=\"translate(110.12,72.35)\">\n",
       "    <g class=\"primitive\">\n",
       "      <text text-anchor=\"middle\" dy=\"0.35em\">x12</text>\n",
       "    </g>\n",
       "  </g>\n",
       "  <g transform=\"translate(129.19,59.89)\">\n",
       "    <g class=\"primitive\">\n",
       "      <text text-anchor=\"middle\" dy=\"0.35em\">x13</text>\n",
       "    </g>\n",
       "  </g>\n",
       "  <g transform=\"translate(34.94,8.33)\">\n",
       "    <g class=\"primitive\">\n",
       "      <text text-anchor=\"middle\" dy=\"0.35em\">x14</text>\n",
       "    </g>\n",
       "  </g>\n",
       "  <g transform=\"translate(55.69,89.12)\">\n",
       "    <g class=\"primitive\">\n",
       "      <text text-anchor=\"middle\" dy=\"0.35em\">x15</text>\n",
       "    </g>\n",
       "  </g>\n",
       "  <g transform=\"translate(65.66,41.58)\">\n",
       "    <g class=\"primitive\">\n",
       "      <text text-anchor=\"middle\" dy=\"0.35em\">x16</text>\n",
       "    </g>\n",
       "  </g>\n",
       "  <g transform=\"translate(63.58,13.05)\">\n",
       "    <g class=\"primitive\">\n",
       "      <text text-anchor=\"middle\" dy=\"0.35em\">x17</text>\n",
       "    </g>\n",
       "  </g>\n",
       "  <g transform=\"translate(88.54,9.74)\">\n",
       "    <g class=\"primitive\">\n",
       "      <text text-anchor=\"middle\" dy=\"0.35em\">x18</text>\n",
       "    </g>\n",
       "  </g>\n",
       "  <g transform=\"translate(47.88,71.22)\">\n",
       "    <g class=\"primitive\">\n",
       "      <text text-anchor=\"middle\" dy=\"0.35em\">x19</text>\n",
       "    </g>\n",
       "  </g>\n",
       "  <g transform=\"translate(129.64,37.65)\">\n",
       "    <g class=\"primitive\">\n",
       "      <text text-anchor=\"middle\" dy=\"0.35em\">x20</text>\n",
       "    </g>\n",
       "  </g>\n",
       "</g>\n",
       "</svg>\n"
      ],
      "text/html": [
       "<?xml version=\"1.0\" encoding=\"UTF-8\"?>\n",
       "<svg xmlns=\"http://www.w3.org/2000/svg\"\n",
       "     xmlns:xlink=\"http://www.w3.org/1999/xlink\"\n",
       "     xmlns:gadfly=\"http://www.gadflyjl.org/ns\"\n",
       "     version=\"1.2\"\n",
       "     width=\"141.42mm\" height=\"100mm\" viewBox=\"0 0 141.42 100\"\n",
       "     stroke=\"none\"\n",
       "     fill=\"#000000\"\n",
       "     stroke-width=\"0.3\"\n",
       "     font-size=\"3.88\"\n",
       "\n",
       "     id=\"img-93465fe5\">\n",
       "<defs>\n",
       "  <marker id=\"arrow\" markerWidth=\"15\" markerHeight=\"7\" refX=\"5\" refY=\"3.5\" orient=\"auto\" markerUnits=\"strokeWidth\">\n",
       "    <path d=\"M0,0 L15,3.5 L0,7 z\" stroke=\"context-stroke\" fill=\"context-stroke\"/>\n",
       "  </marker>\n",
       "</defs>\n",
       "<g fill=\"#000000\" fill-opacity=\"0.000\" stroke=\"#D3D3D3\" id=\"img-93465fe5-1\">\n",
       "  <g transform=\"translate(102.93,69.36)\" stroke-width=\"0.24\">\n",
       "    <path fill=\"none\" d=\"M2.8,-19.99 L -2.8 19.99\" class=\"primitive\"/>\n",
       "  </g>\n",
       "  <g transform=\"translate(94.1,53.16)\" stroke-width=\"0.49\">\n",
       "    <path fill=\"none\" d=\"M9.29,-4.74 L -9.29 4.74\" class=\"primitive\"/>\n",
       "  </g>\n",
       "  <g transform=\"translate(90.97,75.46)\" stroke-width=\"0.3\">\n",
       "    <path fill=\"none\" d=\"M7.65,14.03 L -7.65 -14.03\" class=\"primitive\"/>\n",
       "  </g>\n",
       "  <g transform=\"translate(91.54,62.34)\" stroke-width=\"0.49\">\n",
       "    <path fill=\"none\" d=\"M12.68,-13.35 L -12.68 13.35\" class=\"primitive\"/>\n",
       "  </g>\n",
       "  <g transform=\"translate(88.41,84.64)\" stroke-width=\"0.3\">\n",
       "    <path fill=\"none\" d=\"M8.91,5.49 L -8.91 -5.49\" class=\"primitive\"/>\n",
       "  </g>\n",
       "  <g transform=\"translate(79.58,68.44)\" stroke-width=\"0.43\">\n",
       "    <path fill=\"none\" d=\"M1.92,-6.89 L -1.92 6.89\" class=\"primitive\"/>\n",
       "  </g>\n",
       "  <g transform=\"translate(71.96,49.25)\" stroke-width=\"0.43\">\n",
       "    <path fill=\"none\" d=\"M30.82,-1.98 L -30.82 1.98\" class=\"primitive\"/>\n",
       "  </g>\n",
       "  <g transform=\"translate(68.83,71.56)\" stroke-width=\"0.43\">\n",
       "    <path fill=\"none\" d=\"M28.54,18.54 L -28.54 -18.54\" class=\"primitive\"/>\n",
       "  </g>\n",
       "  <g transform=\"translate(60,55.35)\" stroke-width=\"0.3\">\n",
       "    <path fill=\"none\" d=\"M18.94,3.34 L -18.94 -3.34\" class=\"primitive\"/>\n",
       "  </g>\n",
       "  <g transform=\"translate(57.44,64.53)\" stroke-width=\"0.43\">\n",
       "    <path fill=\"none\" d=\"M17.19,11.49 L -17.19 -11.49\" class=\"primitive\"/>\n",
       "  </g>\n",
       "  <g transform=\"translate(61.22,40.51)\" stroke-width=\"0.3\">\n",
       "    <path fill=\"none\" d=\"M41.6,6.07 L -41.6 -6.07\" class=\"primitive\"/>\n",
       "  </g>\n",
       "  <g transform=\"translate(58.1,62.82)\" stroke-width=\"0.43\">\n",
       "    <path fill=\"none\" d=\"M39.35,27.22 L -39.35 -27.22\" class=\"primitive\"/>\n",
       "  </g>\n",
       "  <g transform=\"translate(49.27,46.61)\" stroke-width=\"0.24\">\n",
       "    <path fill=\"none\" d=\"M29.98,11.53 L -29.98 -11.53\" class=\"primitive\"/>\n",
       "  </g>\n",
       "  <g transform=\"translate(46.71,55.79)\" stroke-width=\"0.24\">\n",
       "    <path fill=\"none\" d=\"M28.01,20.16 L -28.01 -20.16\" class=\"primitive\"/>\n",
       "  </g>\n",
       "  <g transform=\"translate(27.13,42.71)\" stroke-width=\"0.49\">\n",
       "    <path fill=\"none\" d=\"M8.57,6.98 L -8.57 -6.98\" class=\"primitive\"/>\n",
       "  </g>\n",
       "  <g transform=\"translate(74.06,37.63)\" stroke-width=\"0.43\">\n",
       "    <path fill=\"none\" d=\"M28.96,8.53 L -28.96 -8.53\" class=\"primitive\"/>\n",
       "  </g>\n",
       "  <g transform=\"translate(70.93,59.93)\" stroke-width=\"0.12\">\n",
       "    <path fill=\"none\" d=\"M27.09,29.77 L -27.09 -29.77\" class=\"primitive\"/>\n",
       "  </g>\n",
       "  <g transform=\"translate(62.1,43.73)\" stroke-width=\"0.37\">\n",
       "    <path fill=\"none\" d=\"M17.82,13.81 L -17.82 -13.81\" class=\"primitive\"/>\n",
       "  </g>\n",
       "  <g transform=\"translate(59.54,52.91)\" stroke-width=\"0.49\">\n",
       "    <path fill=\"none\" d=\"M16.01,22.62 L -16.01 -22.62\" class=\"primitive\"/>\n",
       "  </g>\n",
       "  <g transform=\"translate(39.96,39.82)\" stroke-width=\"0.18\">\n",
       "    <path fill=\"none\" d=\"M-1.68,9.31 L 1.68 -9.31\" class=\"primitive\"/>\n",
       "  </g>\n",
       "  <g transform=\"translate(29.23,31.08)\" stroke-width=\"0.12\">\n",
       "    <path fill=\"none\" d=\"M-9.69,2.18 L 9.69 -2.18\" class=\"primitive\"/>\n",
       "  </g>\n",
       "  <g transform=\"translate(58.92,51)\" stroke-width=\"0.37\">\n",
       "    <path fill=\"none\" d=\"M43.86,-3.67 L -43.86 3.67\" class=\"primitive\"/>\n",
       "  </g>\n",
       "  <g transform=\"translate(55.79,73.3)\" stroke-width=\"0.24\">\n",
       "    <path fill=\"none\" d=\"M41.17,17.18 L -41.17 -17.18\" class=\"primitive\"/>\n",
       "  </g>\n",
       "  <g transform=\"translate(46.96,57.1)\" stroke-width=\"0.12\">\n",
       "    <path fill=\"none\" d=\"M31.9,1.96 L -31.9 -1.96\" class=\"primitive\"/>\n",
       "  </g>\n",
       "  <g transform=\"translate(44.4,66.28)\" stroke-width=\"0.12\">\n",
       "    <path fill=\"none\" d=\"M29.66,10.31 L -29.66 -10.31\" class=\"primitive\"/>\n",
       "  </g>\n",
       "  <g transform=\"translate(24.82,53.19)\" stroke-width=\"0.18\">\n",
       "    <path fill=\"none\" d=\"M9.8,-1.31 L -9.8 1.31\" class=\"primitive\"/>\n",
       "  </g>\n",
       "  <g transform=\"translate(14.09,44.45)\" stroke-width=\"0.24\">\n",
       "    <path fill=\"none\" d=\"M1.8,-8.18 L -1.8 8.18\" class=\"primitive\"/>\n",
       "  </g>\n",
       "  <g transform=\"translate(26.92,41.57)\" stroke-width=\"0.18\">\n",
       "    <path fill=\"none\" d=\"M13.08,-11.55 L -13.08 11.55\" class=\"primitive\"/>\n",
       "  </g>\n",
       "  <g transform=\"translate(64.88,61.02)\" stroke-width=\"0.43\">\n",
       "    <path fill=\"none\" d=\"M38.21,-12.96 L -38.21 12.96\" class=\"primitive\"/>\n",
       "  </g>\n",
       "  <g transform=\"translate(61.75,83.33)\" stroke-width=\"0.18\">\n",
       "    <path fill=\"none\" d=\"M34.9,7.65 L -34.9 -7.65\" class=\"primitive\"/>\n",
       "  </g>\n",
       "  <g transform=\"translate(52.92,67.12)\" stroke-width=\"0.12\">\n",
       "    <path fill=\"none\" d=\"M26.14,-7.04 L -26.14 7.04\" class=\"primitive\"/>\n",
       "  </g>\n",
       "  <g transform=\"translate(50.36,76.3)\" stroke-width=\"0.24\">\n",
       "    <path fill=\"none\" d=\"M23.37,1.15 L -23.37 -1.15\" class=\"primitive\"/>\n",
       "  </g>\n",
       "  <g transform=\"translate(30.78,63.21)\" stroke-width=\"0.18\">\n",
       "    <path fill=\"none\" d=\"M5.79,-9.63 L -5.79 9.63\" class=\"primitive\"/>\n",
       "  </g>\n",
       "  <g transform=\"translate(20.05,54.48)\" stroke-width=\"0.06\">\n",
       "    <path fill=\"none\" d=\"M-3.24,-18.2 L 3.24 18.2\" class=\"primitive\"/>\n",
       "  </g>\n",
       "  <g transform=\"translate(32.88,51.59)\" stroke-width=\"0.12\">\n",
       "    <path fill=\"none\" d=\"M8.3,-21.15 L -8.3 21.15\" class=\"primitive\"/>\n",
       "  </g>\n",
       "  <g transform=\"translate(17.74,64.96)\" stroke-width=\"0.3\">\n",
       "    <path fill=\"none\" d=\"M-4.68,-7.88 L 4.68 7.88\" class=\"primitive\"/>\n",
       "  </g>\n",
       "  <g transform=\"translate(97.87,37.85)\" stroke-width=\"0.37\">\n",
       "    <path fill=\"none\" d=\"M6.43,7.24 L -6.43 -7.24\" class=\"primitive\"/>\n",
       "  </g>\n",
       "  <g transform=\"translate(94.75,60.15)\" stroke-width=\"0.49\">\n",
       "    <path fill=\"none\" d=\"M4.68,29.2 L -4.68 -29.2\" class=\"primitive\"/>\n",
       "  </g>\n",
       "  <g transform=\"translate(85.92,43.95)\" stroke-width=\"0.18\">\n",
       "    <path fill=\"none\" d=\"M-3.21,13.02 L 3.21 -13.02\" class=\"primitive\"/>\n",
       "  </g>\n",
       "  <g transform=\"translate(83.36,53.13)\" stroke-width=\"0.43\">\n",
       "    <path fill=\"none\" d=\"M-5.74,22.2 L 5.74 -22.2\" class=\"primitive\"/>\n",
       "  </g>\n",
       "  <g transform=\"translate(63.78,40.04)\" stroke-width=\"0.55\">\n",
       "    <path fill=\"none\" d=\"M-23.12,10.17 L 23.12 -10.17\" class=\"primitive\"/>\n",
       "  </g>\n",
       "  <g transform=\"translate(53.04,31.3)\" stroke-width=\"0.43\">\n",
       "    <path fill=\"none\" d=\"M-33.37,2.43 L 33.37 -2.43\" class=\"primitive\"/>\n",
       "  </g>\n",
       "  <g transform=\"translate(65.88,28.42)\" stroke-width=\"0.37\">\n",
       "    <path fill=\"none\" d=\"M-20.52,-0.19 L 20.52 0.19\" class=\"primitive\"/>\n",
       "  </g>\n",
       "  <g transform=\"translate(50.74,41.79)\" stroke-width=\"0.61\">\n",
       "    <path fill=\"none\" d=\"M-35.98,12.15 L 35.98 -12.15\" class=\"primitive\"/>\n",
       "  </g>\n",
       "  <g transform=\"translate(56.7,51.81)\" stroke-width=\"0.3\">\n",
       "    <path fill=\"none\" d=\"M-30.66,21.53 L 30.66 -21.53\" class=\"primitive\"/>\n",
       "  </g>\n",
       "  <g transform=\"translate(110.62,33.52)\" stroke-width=\"0.49\">\n",
       "    <path fill=\"none\" d=\"M-3.8,11.27 L 3.8 -11.27\" class=\"primitive\"/>\n",
       "  </g>\n",
       "  <g transform=\"translate(107.49,55.82)\" stroke-width=\"0.3\">\n",
       "    <path fill=\"none\" d=\"M-7.2,33.54 L 7.2 -33.54\" class=\"primitive\"/>\n",
       "  </g>\n",
       "  <g transform=\"translate(98.66,39.62)\" stroke-width=\"0.18\">\n",
       "    <path fill=\"none\" d=\"M-14.84,17.64 L 14.84 -17.64\" class=\"primitive\"/>\n",
       "  </g>\n",
       "  <g transform=\"translate(96.1,48.8)\" stroke-width=\"0.43\">\n",
       "    <path fill=\"none\" d=\"M-17.68,26.71 L 17.68 -26.71\" class=\"primitive\"/>\n",
       "  </g>\n",
       "  <g transform=\"translate(76.52,35.71)\" stroke-width=\"0.61\">\n",
       "    <path fill=\"none\" d=\"M-35.81,14.57 L 35.81 -14.57\" class=\"primitive\"/>\n",
       "  </g>\n",
       "  <g transform=\"translate(65.79,26.98)\" stroke-width=\"0.18\">\n",
       "    <path fill=\"none\" d=\"M-46.16,6.54 L 46.16 -6.54\" class=\"primitive\"/>\n",
       "  </g>\n",
       "  <g transform=\"translate(78.62,24.09)\" stroke-width=\"0.43\">\n",
       "    <path fill=\"none\" d=\"M-33.31,3.74 L 33.31 -3.74\" class=\"primitive\"/>\n",
       "  </g>\n",
       "  <g transform=\"translate(63.48,37.46)\" stroke-width=\"0.49\">\n",
       "    <path fill=\"none\" d=\"M-48.73,16.47 L 48.73 -16.47\" class=\"primitive\"/>\n",
       "  </g>\n",
       "  <g transform=\"translate(69.44,47.48)\" stroke-width=\"0.37\">\n",
       "    <path fill=\"none\" d=\"M-43.23,25.99 L 43.23 -25.99\" class=\"primitive\"/>\n",
       "  </g>\n",
       "  <g transform=\"translate(102.44,24.31)\" stroke-width=\"0.12\">\n",
       "    <path fill=\"none\" d=\"M-9.77,3.32 L 9.77 -3.32\" class=\"primitive\"/>\n",
       "  </g>\n",
       "  <g transform=\"translate(108.09,59.7)\" stroke-width=\"0.37\">\n",
       "    <path fill=\"none\" d=\"M-1.66,-10.33 L 1.66 10.33\" class=\"primitive\"/>\n",
       "  </g>\n",
       "  <g transform=\"translate(104.96,82.01)\" stroke-width=\"0.43\">\n",
       "    <path fill=\"none\" d=\"M-4,7.48 L 4 -7.48\" class=\"primitive\"/>\n",
       "  </g>\n",
       "  <g transform=\"translate(96.13,65.8)\" stroke-width=\"0.3\">\n",
       "    <path fill=\"none\" d=\"M-11.24,-5.26 L 11.24 5.26\" class=\"primitive\"/>\n",
       "  </g>\n",
       "  <g transform=\"translate(93.57,74.98)\" stroke-width=\"0.24\">\n",
       "    <path fill=\"none\" d=\"M-13.34,2.12 L 13.34 -2.12\" class=\"primitive\"/>\n",
       "  </g>\n",
       "  <g transform=\"translate(73.99,61.9)\" stroke-width=\"0.43\">\n",
       "    <path fill=\"none\" d=\"M-33.08,-9.57 L 33.08 9.57\" class=\"primitive\"/>\n",
       "  </g>\n",
       "  <g transform=\"translate(63.26,53.16)\" stroke-width=\"0.3\">\n",
       "    <path fill=\"none\" d=\"M-44.02,-18.02 L 44.02 18.02\" class=\"primitive\"/>\n",
       "  </g>\n",
       "  <g transform=\"translate(76.09,50.27)\" stroke-width=\"0.18\">\n",
       "    <path fill=\"none\" d=\"M-31.61,-20.5 L 31.61 20.5\" class=\"primitive\"/>\n",
       "  </g>\n",
       "  <g transform=\"translate(60.95,63.64)\" stroke-width=\"0.3\">\n",
       "    <path fill=\"none\" d=\"M-45.97,-8.14 L 45.97 8.14\" class=\"primitive\"/>\n",
       "  </g>\n",
       "  <g transform=\"translate(66.91,73.67)\" stroke-width=\"0.18\">\n",
       "    <path fill=\"none\" d=\"M-39.92,1.22 L 39.92 -1.22\" class=\"primitive\"/>\n",
       "  </g>\n",
       "  <g transform=\"translate(99.91,50.49)\" stroke-width=\"0.3\">\n",
       "    <path fill=\"none\" d=\"M-9.18,-19.64 L 9.18 19.64\" class=\"primitive\"/>\n",
       "  </g>\n",
       "  <g transform=\"translate(112.65,46.16)\" stroke-width=\"0.43\">\n",
       "    <path fill=\"none\" d=\"M2.3,-23.86 L -2.3 23.86\" class=\"primitive\"/>\n",
       "  </g>\n",
       "  <g transform=\"translate(117.62,53.48)\" stroke-width=\"0.18\">\n",
       "    <path fill=\"none\" d=\"M-8.98,-4.98 L 8.98 4.98\" class=\"primitive\"/>\n",
       "  </g>\n",
       "  <g transform=\"translate(114.5,75.78)\" stroke-width=\"0.3\">\n",
       "    <path fill=\"none\" d=\"M-12.89,13.94 L 12.89 -13.94\" class=\"primitive\"/>\n",
       "  </g>\n",
       "  <g transform=\"translate(105.66,59.58)\" stroke-width=\"0.3\">\n",
       "    <path fill=\"none\" d=\"M-20.23,-0.27 L 20.23 0.27\" class=\"primitive\"/>\n",
       "  </g>\n",
       "  <g transform=\"translate(103.1,68.75)\" stroke-width=\"0.3\">\n",
       "    <path fill=\"none\" d=\"M-23.12,7.85 L 23.12 -7.85\" class=\"primitive\"/>\n",
       "  </g>\n",
       "  <g transform=\"translate(83.52,55.67)\" stroke-width=\"0.43\">\n",
       "    <path fill=\"none\" d=\"M-42.4,-3.92 L 42.4 3.92\" class=\"primitive\"/>\n",
       "  </g>\n",
       "  <g transform=\"translate(72.79,46.93)\" stroke-width=\"0.43\">\n",
       "    <path fill=\"none\" d=\"M-53.27,-12.24 L 53.27 12.24\" class=\"primitive\"/>\n",
       "  </g>\n",
       "  <g transform=\"translate(85.62,44.05)\" stroke-width=\"0.49\">\n",
       "    <path fill=\"none\" d=\"M-40.64,-14.78 L 40.64 14.78\" class=\"primitive\"/>\n",
       "  </g>\n",
       "  <g transform=\"translate(70.49,57.42)\" stroke-width=\"0.43\">\n",
       "    <path fill=\"none\" d=\"M-55.41,-2.34 L 55.41 2.34\" class=\"primitive\"/>\n",
       "  </g>\n",
       "  <g transform=\"translate(76.45,67.44)\" stroke-width=\"0.55\">\n",
       "    <path fill=\"none\" d=\"M-49.51,7.08 L 49.51 -7.08\" class=\"primitive\"/>\n",
       "  </g>\n",
       "  <g transform=\"translate(109.44,44.26)\" stroke-width=\"0.43\">\n",
       "    <path fill=\"none\" d=\"M-17.55,-13.89 L 17.55 13.89\" class=\"primitive\"/>\n",
       "  </g>\n",
       "  <g transform=\"translate(122.19,39.94)\" stroke-width=\"0.37\">\n",
       "    <path fill=\"none\" d=\"M-6.21,-17.7 L 6.21 17.7\" class=\"primitive\"/>\n",
       "  </g>\n",
       "  <g transform=\"translate(119.66,66.12)\" stroke-width=\"0.3\">\n",
       "    <path fill=\"none\" d=\"M-7.11,4.65 L 7.11 -4.65\" class=\"primitive\"/>\n",
       "  </g>\n",
       "  <g transform=\"translate(70.5,27.7)\" stroke-width=\"0.3\">\n",
       "    <path fill=\"none\" d=\"M32.95,17.94 L -32.95 -17.94\" class=\"primitive\"/>\n",
       "  </g>\n",
       "  <g transform=\"translate(58.54,33.8)\" stroke-width=\"0.55\">\n",
       "    <path fill=\"none\" d=\"M21.8,23.51 L -21.8 -23.51\" class=\"primitive\"/>\n",
       "  </g>\n",
       "  <g transform=\"translate(55.98,42.97)\" stroke-width=\"0.49\">\n",
       "    <path fill=\"none\" d=\"M19.74,32.5 L -19.74 -32.5\" class=\"primitive\"/>\n",
       "  </g>\n",
       "  <g transform=\"translate(36.4,29.89)\" stroke-width=\"0.3\">\n",
       "    <path fill=\"none\" d=\"M1.3,19.23 L -1.3 -19.23\" class=\"primitive\"/>\n",
       "  </g>\n",
       "  <g transform=\"translate(25.67,21.15)\" stroke-width=\"0.43\">\n",
       "    <path fill=\"none\" d=\"M-7.77,10.74 L 7.77 -10.74\" class=\"primitive\"/>\n",
       "  </g>\n",
       "  <g transform=\"translate(38.5,18.27)\" stroke-width=\"0.49\">\n",
       "    <path fill=\"none\" d=\"M2.75,7.68 L -2.75 -7.68\" class=\"primitive\"/>\n",
       "  </g>\n",
       "  <g transform=\"translate(23.36,31.64)\" stroke-width=\"0.12\">\n",
       "    <path fill=\"none\" d=\"M-10.48,21.11 L 10.48 -21.11\" class=\"primitive\"/>\n",
       "  </g>\n",
       "  <g transform=\"translate(29.32,41.66)\" stroke-width=\"0.18\">\n",
       "    <path fill=\"none\" d=\"M-5.23,31.01 L 5.23 -31.01\" class=\"primitive\"/>\n",
       "  </g>\n",
       "  <g transform=\"translate(62.32,18.48)\" stroke-width=\"0.24\">\n",
       "    <path fill=\"none\" d=\"M24.46,9.07 L -24.46 -9.07\" class=\"primitive\"/>\n",
       "  </g>\n",
       "  <g transform=\"translate(75.06,14.16)\" stroke-width=\"0.24\">\n",
       "    <path fill=\"none\" d=\"M36.89,5.36 L -36.89 -5.36\" class=\"primitive\"/>\n",
       "  </g>\n",
       "  <g transform=\"translate(72.53,40.34)\" stroke-width=\"0.12\">\n",
       "    <path fill=\"none\" d=\"M35.49,30.21 L -35.49 -30.21\" class=\"primitive\"/>\n",
       "  </g>\n",
       "  <g transform=\"translate(82.06,34.11)\" stroke-width=\"0.24\">\n",
       "    <path fill=\"none\" d=\"M44.52,24.35 L -44.52 -24.35\" class=\"primitive\"/>\n",
       "  </g>\n",
       "  <g transform=\"translate(80.87,68.09)\" stroke-width=\"0.24\">\n",
       "    <path fill=\"none\" d=\"M23.05,-19.25 L -23.05 19.25\" class=\"primitive\"/>\n",
       "  </g>\n",
       "  <g transform=\"translate(77.75,90.39)\" stroke-width=\"0.06\">\n",
       "    <path fill=\"none\" d=\"M18.77,1.09 L -18.77 -1.09\" class=\"primitive\"/>\n",
       "  </g>\n",
       "  <g transform=\"translate(68.91,74.19)\" stroke-width=\"0.18\">\n",
       "    <path fill=\"none\" d=\"M11.48,-12.96 L -11.48 12.96\" class=\"primitive\"/>\n",
       "  </g>\n",
       "  <g transform=\"translate(66.35,83.37)\" stroke-width=\"0.18\">\n",
       "    <path fill=\"none\" d=\"M8.05,-4.34 L -8.05 4.34\" class=\"primitive\"/>\n",
       "  </g>\n",
       "  <g transform=\"translate(46.77,70.28)\" stroke-width=\"0.24\">\n",
       "    <path fill=\"none\" d=\"M-7.87,-16.63 L 7.87 16.63\" class=\"primitive\"/>\n",
       "  </g>\n",
       "  <g transform=\"translate(36.04,61.54)\" stroke-width=\"0.24\">\n",
       "    <path fill=\"none\" d=\"M-18.17,-25.49 L 18.17 25.49\" class=\"primitive\"/>\n",
       "  </g>\n",
       "  <g transform=\"translate(48.87,58.66)\" stroke-width=\"0.06\">\n",
       "    <path fill=\"none\" d=\"M-6.3,-28.16 L 6.3 28.16\" class=\"primitive\"/>\n",
       "  </g>\n",
       "  <g transform=\"translate(33.74,72.03)\" stroke-width=\"0.24\">\n",
       "    <path fill=\"none\" d=\"M-19.74,-15.36 L 19.74 15.36\" class=\"primitive\"/>\n",
       "  </g>\n",
       "  <g transform=\"translate(39.7,82.05)\" stroke-width=\"0.43\">\n",
       "    <path fill=\"none\" d=\"M-13.2,-5.83 L 13.2 5.83\" class=\"primitive\"/>\n",
       "  </g>\n",
       "  <g transform=\"translate(72.69,58.87)\" stroke-width=\"0.37\">\n",
       "    <path fill=\"none\" d=\"M15.79,-28.08 L -15.79 28.08\" class=\"primitive\"/>\n",
       "  </g>\n",
       "  <g transform=\"translate(85.44,54.55)\" stroke-width=\"0.3\">\n",
       "    <path fill=\"none\" d=\"M28.03,-32.58 L -28.03 32.58\" class=\"primitive\"/>\n",
       "  </g>\n",
       "  <g transform=\"translate(82.91,80.73)\" stroke-width=\"0.43\">\n",
       "    <path fill=\"none\" d=\"M24.2,-7.45 L -24.2 7.45\" class=\"primitive\"/>\n",
       "  </g>\n",
       "  <g transform=\"translate(92.44,74.5)\" stroke-width=\"0.18\">\n",
       "    <path fill=\"none\" d=\"M33.88,-13.47 L -33.88 13.47\" class=\"primitive\"/>\n",
       "  </g>\n",
       "  <g transform=\"translate(45.31,48.72)\" stroke-width=\"0.24\">\n",
       "    <path fill=\"none\" d=\"M-9.79,-38.1 L 9.79 38.1\" class=\"primitive\"/>\n",
       "  </g>\n",
       "  <g transform=\"translate(85.86,44.32)\" stroke-width=\"0.3\">\n",
       "    <path fill=\"none\" d=\"M16.96,2.3 L -16.96 -2.3\" class=\"primitive\"/>\n",
       "  </g>\n",
       "  <g transform=\"translate(82.73,66.62)\" stroke-width=\"0.18\">\n",
       "    <path fill=\"none\" d=\"M15.64,22.94 L -15.64 -22.94\" class=\"primitive\"/>\n",
       "  </g>\n",
       "  <g transform=\"translate(73.9,50.42)\" stroke-width=\"0.43\">\n",
       "    <path fill=\"none\" d=\"M6.43,6.89 L -6.43 -6.89\" class=\"primitive\"/>\n",
       "  </g>\n",
       "  <g transform=\"translate(71.34,59.6)\" stroke-width=\"0.43\">\n",
       "    <path fill=\"none\" d=\"M4.96,15.74 L -4.96 -15.74\" class=\"primitive\"/>\n",
       "  </g>\n",
       "  <g transform=\"translate(51.76,46.51)\" stroke-width=\"0.12\">\n",
       "    <path fill=\"none\" d=\"M-10.96,3.89 L 10.96 -3.89\" class=\"primitive\"/>\n",
       "  </g>\n",
       "  <g transform=\"translate(41.03,37.78)\" stroke-width=\"0.37\">\n",
       "    <path fill=\"none\" d=\"M-21.42,-3.31 L 21.42 3.31\" class=\"primitive\"/>\n",
       "  </g>\n",
       "  <g transform=\"translate(53.86,34.89)\" stroke-width=\"0.43\">\n",
       "    <path fill=\"none\" d=\"M-9.23,-5.23 L 9.23 5.23\" class=\"primitive\"/>\n",
       "  </g>\n",
       "  <g transform=\"translate(38.72,48.26)\" stroke-width=\"0.37\">\n",
       "    <path fill=\"none\" d=\"M-23.83,5.91 L 23.83 -5.91\" class=\"primitive\"/>\n",
       "  </g>\n",
       "  <g transform=\"translate(44.68,58.28)\" stroke-width=\"0.37\">\n",
       "    <path fill=\"none\" d=\"M-18.79,14.96 L 18.79 -14.96\" class=\"primitive\"/>\n",
       "  </g>\n",
       "  <g transform=\"translate(77.68,35.11)\" stroke-width=\"0.43\">\n",
       "    <path fill=\"none\" d=\"M9.4,-5.06 L -9.4 5.06\" class=\"primitive\"/>\n",
       "  </g>\n",
       "  <g transform=\"translate(90.42,30.78)\" stroke-width=\"0.24\">\n",
       "    <path fill=\"none\" d=\"M21.96,-9.58 L -21.96 9.58\" class=\"primitive\"/>\n",
       "  </g>\n",
       "  <g transform=\"translate(87.89,56.96)\" stroke-width=\"0.3\">\n",
       "    <path fill=\"none\" d=\"M19.88,13.75 L -19.88 -13.75\" class=\"primitive\"/>\n",
       "  </g>\n",
       "  <g transform=\"translate(97.43,50.74)\" stroke-width=\"0.3\">\n",
       "    <path fill=\"none\" d=\"M28.71,8.28 L -28.71 -8.28\" class=\"primitive\"/>\n",
       "  </g>\n",
       "  <g transform=\"translate(50.3,24.96)\" stroke-width=\"0.3\">\n",
       "    <path fill=\"none\" d=\"M-13.56,-14.67 L 13.56 14.67\" class=\"primitive\"/>\n",
       "  </g>\n",
       "  <g transform=\"translate(60.68,65.35)\" stroke-width=\"0.37\">\n",
       "    <path fill=\"none\" d=\"M-4.5,21.46 L 4.5 -21.46\" class=\"primitive\"/>\n",
       "  </g>\n",
       "  <g transform=\"translate(84.82,30.05)\" stroke-width=\"0.43\">\n",
       "    <path fill=\"none\" d=\"M19.05,15.26 L -19.05 -15.26\" class=\"primitive\"/>\n",
       "  </g>\n",
       "  <g transform=\"translate(81.69,52.36)\" stroke-width=\"0.12\">\n",
       "    <path fill=\"none\" d=\"M17.09,37.09 L -17.09 -37.09\" class=\"primitive\"/>\n",
       "  </g>\n",
       "  <g transform=\"translate(72.86,36.15)\" stroke-width=\"0.3\">\n",
       "    <path fill=\"none\" d=\"M8.38,20.86 L -8.38 -20.86\" class=\"primitive\"/>\n",
       "  </g>\n",
       "  <g transform=\"translate(70.3,45.33)\" stroke-width=\"0.37\">\n",
       "    <path fill=\"none\" d=\"M6.24,29.98 L -6.24 -29.98\" class=\"primitive\"/>\n",
       "  </g>\n",
       "  <g transform=\"translate(50.72,32.25)\" stroke-width=\"0.37\">\n",
       "    <path fill=\"none\" d=\"M-11.45,17.09 L 11.45 -17.09\" class=\"primitive\"/>\n",
       "  </g>\n",
       "  <g transform=\"translate(39.99,23.51)\" stroke-width=\"0.55\">\n",
       "    <path fill=\"none\" d=\"M-20.8,9.22 L 20.8 -9.22\" class=\"primitive\"/>\n",
       "  </g>\n",
       "  <g transform=\"translate(52.82,20.62)\" stroke-width=\"0.3\">\n",
       "    <path fill=\"none\" d=\"M-8.43,5.93 L 8.43 -5.93\" class=\"primitive\"/>\n",
       "  </g>\n",
       "  <g transform=\"translate(37.68,33.99)\" stroke-width=\"0.43\">\n",
       "    <path fill=\"none\" d=\"M-23.73,19.19 L 23.73 -19.19\" class=\"primitive\"/>\n",
       "  </g>\n",
       "  <g transform=\"translate(43.64,44.02)\" stroke-width=\"0.24\">\n",
       "    <path fill=\"none\" d=\"M-18.58,28.85 L 18.58 -28.85\" class=\"primitive\"/>\n",
       "  </g>\n",
       "  <g transform=\"translate(76.64,20.84)\" stroke-width=\"0.18\">\n",
       "    <path fill=\"none\" d=\"M10.54,6.29 L -10.54 -6.29\" class=\"primitive\"/>\n",
       "  </g>\n",
       "  <g transform=\"translate(89.38,16.51)\" stroke-width=\"0.43\">\n",
       "    <path fill=\"none\" d=\"M22.56,3.03 L -22.56 -3.03\" class=\"primitive\"/>\n",
       "  </g>\n",
       "  <g transform=\"translate(86.85,42.7)\" stroke-width=\"0.49\">\n",
       "    <path fill=\"none\" d=\"M21.67,27.61 L -21.67 -27.61\" class=\"primitive\"/>\n",
       "  </g>\n",
       "  <g transform=\"translate(96.39,36.47)\" stroke-width=\"0.24\">\n",
       "    <path fill=\"none\" d=\"M30.49,21.77 L -30.49 -21.77\" class=\"primitive\"/>\n",
       "  </g>\n",
       "  <g transform=\"translate(49.26,10.69)\" stroke-width=\"0.3\">\n",
       "    <path fill=\"none\" d=\"M-11.11,-1.83 L 11.11 1.83\" class=\"primitive\"/>\n",
       "  </g>\n",
       "  <g transform=\"translate(59.64,51.08)\" stroke-width=\"0.43\">\n",
       "    <path fill=\"none\" d=\"M-3.71,35.71 L 3.71 -35.71\" class=\"primitive\"/>\n",
       "  </g>\n",
       "  <g transform=\"translate(64.62,27.32)\" stroke-width=\"0.43\">\n",
       "    <path fill=\"none\" d=\"M0.87,11.94 L -0.87 -11.94\" class=\"primitive\"/>\n",
       "  </g>\n",
       "  <g transform=\"translate(97.3,28.4)\" stroke-width=\"0.37\">\n",
       "    <path fill=\"none\" d=\"M7.72,16.45 L -7.72 -16.45\" class=\"primitive\"/>\n",
       "  </g>\n",
       "  <g transform=\"translate(94.17,50.7)\" stroke-width=\"0.24\">\n",
       "    <path fill=\"none\" d=\"M5.31,38.65 L -5.31 -38.65\" class=\"primitive\"/>\n",
       "  </g>\n",
       "  <g transform=\"translate(85.34,34.5)\" stroke-width=\"0.12\">\n",
       "    <path fill=\"none\" d=\"M-2.9,22.44 L 2.9 -22.44\" class=\"primitive\"/>\n",
       "  </g>\n",
       "  <g transform=\"translate(82.78,43.68)\" stroke-width=\"0.18\">\n",
       "    <path fill=\"none\" d=\"M-5.37,31.63 L 5.37 -31.63\" class=\"primitive\"/>\n",
       "  </g>\n",
       "  <g transform=\"translate(63.2,30.59)\" stroke-width=\"0.37\">\n",
       "    <path fill=\"none\" d=\"M-23.19,19.09 L 23.19 -19.09\" class=\"primitive\"/>\n",
       "  </g>\n",
       "  <g transform=\"translate(52.47,21.85)\" stroke-width=\"0.43\">\n",
       "    <path fill=\"none\" d=\"M-33.1,11.12 L 33.1 -11.12\" class=\"primitive\"/>\n",
       "  </g>\n",
       "  <g transform=\"translate(65.3,18.97)\" stroke-width=\"0.18\">\n",
       "    <path fill=\"none\" d=\"M-20.37,8.09 L 20.37 -8.09\" class=\"primitive\"/>\n",
       "  </g>\n",
       "  <g transform=\"translate(50.16,32.34)\" stroke-width=\"0.24\">\n",
       "    <path fill=\"none\" d=\"M-35.85,21.11 L 35.85 -21.11\" class=\"primitive\"/>\n",
       "  </g>\n",
       "  <g transform=\"translate(56.12,42.36)\" stroke-width=\"0.43\">\n",
       "    <path fill=\"none\" d=\"M-30.52,30.72 L 30.52 -30.72\" class=\"primitive\"/>\n",
       "  </g>\n",
       "  <g transform=\"translate(89.12,19.19)\" stroke-width=\"0.37\">\n",
       "    <path fill=\"none\" d=\"M0.43,7.12 L -0.43 -7.12\" class=\"primitive\"/>\n",
       "  </g>\n",
       "  <g transform=\"translate(101.86,14.86)\" stroke-width=\"0.37\">\n",
       "    <path fill=\"none\" d=\"M10.43,4.01 L -10.43 -4.01\" class=\"primitive\"/>\n",
       "  </g>\n",
       "  <g transform=\"translate(99.33,41.04)\" stroke-width=\"0.3\">\n",
       "    <path fill=\"none\" d=\"M10.01,29.04 L -10.01 -29.04\" class=\"primitive\"/>\n",
       "  </g>\n",
       "  <g transform=\"translate(108.87,34.82)\" stroke-width=\"0.12\">\n",
       "    <path fill=\"none\" d=\"M18.69,23.06 L -18.69 -23.06\" class=\"primitive\"/>\n",
       "  </g>\n",
       "  <g transform=\"translate(61.74,9.04)\" stroke-width=\"0.49\">\n",
       "    <path fill=\"none\" d=\"M-23.51,-0.62 L 23.51 0.62\" class=\"primitive\"/>\n",
       "  </g>\n",
       "  <g transform=\"translate(72.12,49.43)\" stroke-width=\"0.67\">\n",
       "    <path fill=\"none\" d=\"M-15.5,37.45 L 15.5 -37.45\" class=\"primitive\"/>\n",
       "  </g>\n",
       "  <g transform=\"translate(77.1,25.66)\" stroke-width=\"0.24\">\n",
       "    <path fill=\"none\" d=\"M-9.95,13.85 L 9.95 -13.85\" class=\"primitive\"/>\n",
       "  </g>\n",
       "  <g transform=\"translate(76.06,11.39)\" stroke-width=\"0.43\">\n",
       "    <path fill=\"none\" d=\"M-9.24,1.23 L 9.24 -1.23\" class=\"primitive\"/>\n",
       "  </g>\n",
       "  <g transform=\"translate(76.97,59.14)\" stroke-width=\"0.49\">\n",
       "    <path fill=\"none\" d=\"M26.25,-10.9 L -26.25 10.9\" class=\"primitive\"/>\n",
       "  </g>\n",
       "  <g transform=\"translate(73.84,81.44)\" stroke-width=\"0.24\">\n",
       "    <path fill=\"none\" d=\"M23.08,9.09 L -23.08 -9.09\" class=\"primitive\"/>\n",
       "  </g>\n",
       "  <g transform=\"translate(65.01,65.24)\" stroke-width=\"0.06\">\n",
       "    <path fill=\"none\" d=\"M14.18,-4.95 L -14.18 4.95\" class=\"primitive\"/>\n",
       "  </g>\n",
       "  <g transform=\"translate(62.45,74.42)\" stroke-width=\"0.18\">\n",
       "    <path fill=\"none\" d=\"M11.42,2.51 L -11.42 -2.51\" class=\"primitive\"/>\n",
       "  </g>\n",
       "  <g transform=\"translate(42.87,61.33)\" stroke-width=\"0.37\">\n",
       "    <path fill=\"none\" d=\"M-3.9,-7.7 L 3.9 7.7\" class=\"primitive\"/>\n",
       "  </g>\n",
       "  <g transform=\"translate(32.14,52.6)\" stroke-width=\"0.37\">\n",
       "    <path fill=\"none\" d=\"M-14.05,-16.63 L 14.05 16.63\" class=\"primitive\"/>\n",
       "  </g>\n",
       "  <g transform=\"translate(44.97,49.71)\" stroke-width=\"0.12\">\n",
       "    <path fill=\"none\" d=\"M-2.6,-19.19 L 2.6 19.19\" class=\"primitive\"/>\n",
       "  </g>\n",
       "  <g transform=\"translate(29.83,63.08)\" stroke-width=\"0.3\">\n",
       "    <path fill=\"none\" d=\"M-15.27,-6.89 L 15.27 6.89\" class=\"primitive\"/>\n",
       "  </g>\n",
       "  <g transform=\"translate(35.79,73.1)\" stroke-width=\"0.49\">\n",
       "    <path fill=\"none\" d=\"M-8.87,1.38 L 8.87 -1.38\" class=\"primitive\"/>\n",
       "  </g>\n",
       "  <g transform=\"translate(68.79,49.93)\" stroke-width=\"0.12\">\n",
       "    <path fill=\"none\" d=\"M19.03,-19.38 L -19.03 19.38\" class=\"primitive\"/>\n",
       "  </g>\n",
       "  <g transform=\"translate(81.53,45.6)\" stroke-width=\"0.18\">\n",
       "    <path fill=\"none\" d=\"M31.41,-23.91 L -31.41 23.91\" class=\"primitive\"/>\n",
       "  </g>\n",
       "  <g transform=\"translate(79,71.78)\" stroke-width=\"0.37\">\n",
       "    <path fill=\"none\" d=\"M27.83,0.5 L -27.83 -0.5\" class=\"primitive\"/>\n",
       "  </g>\n",
       "  <g transform=\"translate(88.54,65.56)\" stroke-width=\"0.37\">\n",
       "    <path fill=\"none\" d=\"M37.42,-5.21 L -37.42 5.21\" class=\"primitive\"/>\n",
       "  </g>\n",
       "  <g transform=\"translate(41.41,39.78)\" stroke-width=\"0.18\">\n",
       "    <path fill=\"none\" d=\"M-6,-29.14 L 6 29.14\" class=\"primitive\"/>\n",
       "  </g>\n",
       "  <g transform=\"translate(51.79,80.17)\" stroke-width=\"0.3\">\n",
       "    <path fill=\"none\" d=\"M2.93,6.72 L -2.93 -6.72\" class=\"primitive\"/>\n",
       "  </g>\n",
       "  <g transform=\"translate(56.77,56.4)\" stroke-width=\"0.37\">\n",
       "    <path fill=\"none\" d=\"M7.6,-12.68 L -7.6 12.68\" class=\"primitive\"/>\n",
       "  </g>\n",
       "  <g transform=\"translate(55.73,42.14)\" stroke-width=\"0.12\">\n",
       "    <path fill=\"none\" d=\"M7.23,-26.8 L -7.23 26.8\" class=\"primitive\"/>\n",
       "  </g>\n",
       "  <g transform=\"translate(68.21,40.48)\" stroke-width=\"0.24\">\n",
       "    <path fill=\"none\" d=\"M18.93,-28.63 L -18.93 28.63\" class=\"primitive\"/>\n",
       "  </g>\n",
       "  <g transform=\"translate(117.85,42.35)\" stroke-width=\"0.37\">\n",
       "    <path fill=\"none\" d=\"M-8.92,3.56 L 8.92 -3.56\" class=\"primitive\"/>\n",
       "  </g>\n",
       "  <g transform=\"translate(114.72,64.66)\" stroke-width=\"0.12\">\n",
       "    <path fill=\"none\" d=\"M-13.72,24.84 L 13.72 -24.84\" class=\"primitive\"/>\n",
       "  </g>\n",
       "  <g transform=\"translate(105.89,48.45)\" stroke-width=\"0.18\">\n",
       "    <path fill=\"none\" d=\"M-20.98,9.54 L 20.98 -9.54\" class=\"primitive\"/>\n",
       "  </g>\n",
       "  <g transform=\"translate(103.33,57.63)\" stroke-width=\"0.18\">\n",
       "    <path fill=\"none\" d=\"M-24.06,18.28 L 24.06 -18.28\" class=\"primitive\"/>\n",
       "  </g>\n",
       "  <g transform=\"translate(83.75,44.55)\" stroke-width=\"0.18\">\n",
       "    <path fill=\"none\" d=\"M-42.67,6.41 L 42.67 -6.41\" class=\"primitive\"/>\n",
       "  </g>\n",
       "  <g transform=\"translate(73.01,35.81)\" stroke-width=\"0.12\">\n",
       "    <path fill=\"none\" d=\"M-53.33,-1.73 L 53.33 1.73\" class=\"primitive\"/>\n",
       "  </g>\n",
       "  <g transform=\"translate(85.85,32.92)\" stroke-width=\"0.06\">\n",
       "    <path fill=\"none\" d=\"M-40.53,-4.37 L 40.53 4.37\" class=\"primitive\"/>\n",
       "  </g>\n",
       "  <g transform=\"translate(70.71,46.29)\" stroke-width=\"0.12\">\n",
       "    <path fill=\"none\" d=\"M-55.7,8.17 L 55.7 -8.17\" class=\"primitive\"/>\n",
       "  </g>\n",
       "  <g transform=\"translate(76.67,56.32)\" stroke-width=\"0.12\">\n",
       "    <path fill=\"none\" d=\"M-50.02,17.63 L 50.02 -17.63\" class=\"primitive\"/>\n",
       "  </g>\n",
       "  <g transform=\"translate(109.67,33.14)\" stroke-width=\"0.43\">\n",
       "    <path fill=\"none\" d=\"M-16.83,-3.8 L 16.83 3.8\" class=\"primitive\"/>\n",
       "  </g>\n",
       "  <g transform=\"translate(122.41,28.81)\" stroke-width=\"0.18\">\n",
       "    <path fill=\"none\" d=\"M-5.58,-6.82 L 5.58 6.82\" class=\"primitive\"/>\n",
       "  </g>\n",
       "  <g transform=\"translate(119.88,55)\" stroke-width=\"0.43\">\n",
       "    <path fill=\"none\" d=\"M-8.54,15.18 L 8.54 -15.18\" class=\"primitive\"/>\n",
       "  </g>\n",
       "  <g transform=\"translate(129.41,48.77)\" stroke-width=\"0.55\">\n",
       "    <path fill=\"none\" d=\"M-0.18,8.79 L 0.18 -8.79\" class=\"primitive\"/>\n",
       "  </g>\n",
       "  <g transform=\"translate(82.29,22.99)\" stroke-width=\"0.3\">\n",
       "    <path fill=\"none\" d=\"M-44.33,-13.72 L 44.33 13.72\" class=\"primitive\"/>\n",
       "  </g>\n",
       "  <g transform=\"translate(92.66,63.38)\" stroke-width=\"0.37\">\n",
       "    <path fill=\"none\" d=\"M-34.63,24.1 L 34.63 -24.1\" class=\"primitive\"/>\n",
       "  </g>\n",
       "  <g transform=\"translate(97.65,39.62)\" stroke-width=\"0.49\">\n",
       "    <path fill=\"none\" d=\"M-28.71,1.76 L 28.71 -1.76\" class=\"primitive\"/>\n",
       "  </g>\n",
       "  <g transform=\"translate(96.61,25.35)\" stroke-width=\"0.12\">\n",
       "    <path fill=\"none\" d=\"M-30.11,-11.21 L 30.11 11.21\" class=\"primitive\"/>\n",
       "  </g>\n",
       "  <g transform=\"translate(109.09,23.69)\" stroke-width=\"0.18\">\n",
       "    <path fill=\"none\" d=\"M-18.17,-12.34 L 18.17 12.34\" class=\"primitive\"/>\n",
       "  </g>\n",
       "  <g transform=\"translate(88.76,54.44)\" stroke-width=\"0.43\">\n",
       "    <path fill=\"none\" d=\"M-38.03,15.62 L 38.03 -15.62\" class=\"primitive\"/>\n",
       "  </g>\n",
       "</g>\n",
       "<g stroke=\"#D3D3D3\" id=\"img-93465fe5-2\">\n",
       "</g>\n",
       "<g font-size=\"4\" stroke=\"#000000\" stroke-opacity=\"0.000\" fill=\"#000000\" id=\"img-93465fe5-3\">\n",
       "</g>\n",
       "<g stroke-width=\"0\" stroke=\"#000000\" stroke-opacity=\"0.000\" fill=\"#40E0D0\" id=\"img-93465fe5-4\">\n",
       "  <g transform=\"translate(106.05,47.06)\">\n",
       "    <circle cx=\"0\" cy=\"0\" r=\"3.16\" class=\"primitive\"/>\n",
       "  </g>\n",
       "  <g transform=\"translate(99.8,91.67)\">\n",
       "    <circle cx=\"0\" cy=\"0\" r=\"3.16\" class=\"primitive\"/>\n",
       "  </g>\n",
       "  <g transform=\"translate(82.14,59.26)\">\n",
       "    <circle cx=\"0\" cy=\"0\" r=\"3.16\" class=\"primitive\"/>\n",
       "  </g>\n",
       "  <g transform=\"translate(77.02,77.62)\">\n",
       "    <circle cx=\"0\" cy=\"0\" r=\"3.16\" class=\"primitive\"/>\n",
       "  </g>\n",
       "  <g transform=\"translate(37.86,51.44)\">\n",
       "    <circle cx=\"0\" cy=\"0\" r=\"3.16\" class=\"primitive\"/>\n",
       "  </g>\n",
       "  <g transform=\"translate(16.39,33.97)\">\n",
       "    <circle cx=\"0\" cy=\"0\" r=\"3.16\" class=\"primitive\"/>\n",
       "  </g>\n",
       "  <g transform=\"translate(42.06,28.2)\">\n",
       "    <circle cx=\"0\" cy=\"0\" r=\"3.16\" class=\"primitive\"/>\n",
       "  </g>\n",
       "  <g transform=\"translate(11.79,54.94)\">\n",
       "    <circle cx=\"0\" cy=\"0\" r=\"3.16\" class=\"primitive\"/>\n",
       "  </g>\n",
       "  <g transform=\"translate(23.7,74.99)\">\n",
       "    <circle cx=\"0\" cy=\"0\" r=\"3.16\" class=\"primitive\"/>\n",
       "  </g>\n",
       "  <g transform=\"translate(89.69,28.63)\">\n",
       "    <circle cx=\"0\" cy=\"0\" r=\"3.16\" class=\"primitive\"/>\n",
       "  </g>\n",
       "  <g transform=\"translate(115.18,19.98)\">\n",
       "    <circle cx=\"0\" cy=\"0\" r=\"3.16\" class=\"primitive\"/>\n",
       "  </g>\n",
       "  <g transform=\"translate(110.12,72.35)\">\n",
       "    <circle cx=\"0\" cy=\"0\" r=\"3.16\" class=\"primitive\"/>\n",
       "  </g>\n",
       "  <g transform=\"translate(129.19,59.89)\">\n",
       "    <circle cx=\"0\" cy=\"0\" r=\"3.16\" class=\"primitive\"/>\n",
       "  </g>\n",
       "  <g transform=\"translate(34.94,8.33)\">\n",
       "    <circle cx=\"0\" cy=\"0\" r=\"3.16\" class=\"primitive\"/>\n",
       "  </g>\n",
       "  <g transform=\"translate(55.69,89.12)\">\n",
       "    <circle cx=\"0\" cy=\"0\" r=\"3.16\" class=\"primitive\"/>\n",
       "  </g>\n",
       "  <g transform=\"translate(65.66,41.58)\">\n",
       "    <circle cx=\"0\" cy=\"0\" r=\"3.16\" class=\"primitive\"/>\n",
       "  </g>\n",
       "  <g transform=\"translate(63.58,13.05)\">\n",
       "    <circle cx=\"0\" cy=\"0\" r=\"3.16\" class=\"primitive\"/>\n",
       "  </g>\n",
       "  <g transform=\"translate(88.54,9.74)\">\n",
       "    <circle cx=\"0\" cy=\"0\" r=\"3.16\" class=\"primitive\"/>\n",
       "  </g>\n",
       "  <g transform=\"translate(47.88,71.22)\">\n",
       "    <circle cx=\"0\" cy=\"0\" r=\"3.16\" class=\"primitive\"/>\n",
       "  </g>\n",
       "  <g transform=\"translate(129.64,37.65)\">\n",
       "    <circle cx=\"0\" cy=\"0\" r=\"3.16\" class=\"primitive\"/>\n",
       "  </g>\n",
       "</g>\n",
       "<g font-size=\"4\" stroke=\"#000000\" stroke-opacity=\"0.000\" fill=\"#000000\" id=\"img-93465fe5-5\">\n",
       "  <g transform=\"translate(106.05,47.06)\">\n",
       "    <g class=\"primitive\">\n",
       "      <text text-anchor=\"middle\" dy=\"0.35em\">x1</text>\n",
       "    </g>\n",
       "  </g>\n",
       "  <g transform=\"translate(99.8,91.67)\">\n",
       "    <g class=\"primitive\">\n",
       "      <text text-anchor=\"middle\" dy=\"0.35em\">x2</text>\n",
       "    </g>\n",
       "  </g>\n",
       "  <g transform=\"translate(82.14,59.26)\">\n",
       "    <g class=\"primitive\">\n",
       "      <text text-anchor=\"middle\" dy=\"0.35em\">x3</text>\n",
       "    </g>\n",
       "  </g>\n",
       "  <g transform=\"translate(77.02,77.62)\">\n",
       "    <g class=\"primitive\">\n",
       "      <text text-anchor=\"middle\" dy=\"0.35em\">x4</text>\n",
       "    </g>\n",
       "  </g>\n",
       "  <g transform=\"translate(37.86,51.44)\">\n",
       "    <g class=\"primitive\">\n",
       "      <text text-anchor=\"middle\" dy=\"0.35em\">x5</text>\n",
       "    </g>\n",
       "  </g>\n",
       "  <g transform=\"translate(16.39,33.97)\">\n",
       "    <g class=\"primitive\">\n",
       "      <text text-anchor=\"middle\" dy=\"0.35em\">x6</text>\n",
       "    </g>\n",
       "  </g>\n",
       "  <g transform=\"translate(42.06,28.2)\">\n",
       "    <g class=\"primitive\">\n",
       "      <text text-anchor=\"middle\" dy=\"0.35em\">x7</text>\n",
       "    </g>\n",
       "  </g>\n",
       "  <g transform=\"translate(11.79,54.94)\">\n",
       "    <g class=\"primitive\">\n",
       "      <text text-anchor=\"middle\" dy=\"0.35em\">x8</text>\n",
       "    </g>\n",
       "  </g>\n",
       "  <g transform=\"translate(23.7,74.99)\">\n",
       "    <g class=\"primitive\">\n",
       "      <text text-anchor=\"middle\" dy=\"0.35em\">x9</text>\n",
       "    </g>\n",
       "  </g>\n",
       "  <g transform=\"translate(89.69,28.63)\">\n",
       "    <g class=\"primitive\">\n",
       "      <text text-anchor=\"middle\" dy=\"0.35em\">x10</text>\n",
       "    </g>\n",
       "  </g>\n",
       "  <g transform=\"translate(115.18,19.98)\">\n",
       "    <g class=\"primitive\">\n",
       "      <text text-anchor=\"middle\" dy=\"0.35em\">x11</text>\n",
       "    </g>\n",
       "  </g>\n",
       "  <g transform=\"translate(110.12,72.35)\">\n",
       "    <g class=\"primitive\">\n",
       "      <text text-anchor=\"middle\" dy=\"0.35em\">x12</text>\n",
       "    </g>\n",
       "  </g>\n",
       "  <g transform=\"translate(129.19,59.89)\">\n",
       "    <g class=\"primitive\">\n",
       "      <text text-anchor=\"middle\" dy=\"0.35em\">x13</text>\n",
       "    </g>\n",
       "  </g>\n",
       "  <g transform=\"translate(34.94,8.33)\">\n",
       "    <g class=\"primitive\">\n",
       "      <text text-anchor=\"middle\" dy=\"0.35em\">x14</text>\n",
       "    </g>\n",
       "  </g>\n",
       "  <g transform=\"translate(55.69,89.12)\">\n",
       "    <g class=\"primitive\">\n",
       "      <text text-anchor=\"middle\" dy=\"0.35em\">x15</text>\n",
       "    </g>\n",
       "  </g>\n",
       "  <g transform=\"translate(65.66,41.58)\">\n",
       "    <g class=\"primitive\">\n",
       "      <text text-anchor=\"middle\" dy=\"0.35em\">x16</text>\n",
       "    </g>\n",
       "  </g>\n",
       "  <g transform=\"translate(63.58,13.05)\">\n",
       "    <g class=\"primitive\">\n",
       "      <text text-anchor=\"middle\" dy=\"0.35em\">x17</text>\n",
       "    </g>\n",
       "  </g>\n",
       "  <g transform=\"translate(88.54,9.74)\">\n",
       "    <g class=\"primitive\">\n",
       "      <text text-anchor=\"middle\" dy=\"0.35em\">x18</text>\n",
       "    </g>\n",
       "  </g>\n",
       "  <g transform=\"translate(47.88,71.22)\">\n",
       "    <g class=\"primitive\">\n",
       "      <text text-anchor=\"middle\" dy=\"0.35em\">x19</text>\n",
       "    </g>\n",
       "  </g>\n",
       "  <g transform=\"translate(129.64,37.65)\">\n",
       "    <g class=\"primitive\">\n",
       "      <text text-anchor=\"middle\" dy=\"0.35em\">x20</text>\n",
       "    </g>\n",
       "  </g>\n",
       "</g>\n",
       "<script> <![CDATA[\n",
       "(function(N){var k=/[\\.\\/]/,L=/\\s*,\\s*/,C=function(a,d){return a-d},a,v,y={n:{}},M=function(){for(var a=0,d=this.length;a<d;a++)if(\"undefined\"!=typeof this[a])return this[a]},A=function(){for(var a=this.length;--a;)if(\"undefined\"!=typeof this[a])return this[a]},w=function(k,d){k=String(k);var f=v,n=Array.prototype.slice.call(arguments,2),u=w.listeners(k),p=0,b,q=[],e={},l=[],r=a;l.firstDefined=M;l.lastDefined=A;a=k;for(var s=v=0,x=u.length;s<x;s++)\"zIndex\"in u[s]&&(q.push(u[s].zIndex),0>u[s].zIndex&&\n",
       "(e[u[s].zIndex]=u[s]));for(q.sort(C);0>q[p];)if(b=e[q[p++] ],l.push(b.apply(d,n)),v)return v=f,l;for(s=0;s<x;s++)if(b=u[s],\"zIndex\"in b)if(b.zIndex==q[p]){l.push(b.apply(d,n));if(v)break;do if(p++,(b=e[q[p] ])&&l.push(b.apply(d,n)),v)break;while(b)}else e[b.zIndex]=b;else if(l.push(b.apply(d,n)),v)break;v=f;a=r;return l};w._events=y;w.listeners=function(a){a=a.split(k);var d=y,f,n,u,p,b,q,e,l=[d],r=[];u=0;for(p=a.length;u<p;u++){e=[];b=0;for(q=l.length;b<q;b++)for(d=l[b].n,f=[d[a[u] ],d[\"*\"] ],n=2;n--;)if(d=\n",
       "f[n])e.push(d),r=r.concat(d.f||[]);l=e}return r};w.on=function(a,d){a=String(a);if(\"function\"!=typeof d)return function(){};for(var f=a.split(L),n=0,u=f.length;n<u;n++)(function(a){a=a.split(k);for(var b=y,f,e=0,l=a.length;e<l;e++)b=b.n,b=b.hasOwnProperty(a[e])&&b[a[e] ]||(b[a[e] ]={n:{}});b.f=b.f||[];e=0;for(l=b.f.length;e<l;e++)if(b.f[e]==d){f=!0;break}!f&&b.f.push(d)})(f[n]);return function(a){+a==+a&&(d.zIndex=+a)}};w.f=function(a){var d=[].slice.call(arguments,1);return function(){w.apply(null,\n",
       "[a,null].concat(d).concat([].slice.call(arguments,0)))}};w.stop=function(){v=1};w.nt=function(k){return k?(new RegExp(\"(?:\\\\.|\\\\/|^)\"+k+\"(?:\\\\.|\\\\/|$)\")).test(a):a};w.nts=function(){return a.split(k)};w.off=w.unbind=function(a,d){if(a){var f=a.split(L);if(1<f.length)for(var n=0,u=f.length;n<u;n++)w.off(f[n],d);else{for(var f=a.split(k),p,b,q,e,l=[y],n=0,u=f.length;n<u;n++)for(e=0;e<l.length;e+=q.length-2){q=[e,1];p=l[e].n;if(\"*\"!=f[n])p[f[n] ]&&q.push(p[f[n] ]);else for(b in p)p.hasOwnProperty(b)&&\n",
       "q.push(p[b]);l.splice.apply(l,q)}n=0;for(u=l.length;n<u;n++)for(p=l[n];p.n;){if(d){if(p.f){e=0;for(f=p.f.length;e<f;e++)if(p.f[e]==d){p.f.splice(e,1);break}!p.f.length&&delete p.f}for(b in p.n)if(p.n.hasOwnProperty(b)&&p.n[b].f){q=p.n[b].f;e=0;for(f=q.length;e<f;e++)if(q[e]==d){q.splice(e,1);break}!q.length&&delete p.n[b].f}}else for(b in delete p.f,p.n)p.n.hasOwnProperty(b)&&p.n[b].f&&delete p.n[b].f;p=p.n}}}else w._events=y={n:{}}};w.once=function(a,d){var f=function(){w.unbind(a,f);return d.apply(this,\n",
       "arguments)};return w.on(a,f)};w.version=\"0.4.2\";w.toString=function(){return\"You are running Eve 0.4.2\"};\"undefined\"!=typeof module&&module.exports?module.exports=w:\"function\"===typeof define&&define.amd?define(\"eve\",[],function(){return w}):N.eve=w})(this);\n",
       "(function(N,k){\"function\"===typeof define&&define.amd?define(\"Snap.svg\",[\"eve\"],function(L){return k(N,L)}):k(N,N.eve)})(this,function(N,k){var L=function(a){var k={},y=N.requestAnimationFrame||N.webkitRequestAnimationFrame||N.mozRequestAnimationFrame||N.oRequestAnimationFrame||N.msRequestAnimationFrame||function(a){setTimeout(a,16)},M=Array.isArray||function(a){return a instanceof Array||\"[object Array]\"==Object.prototype.toString.call(a)},A=0,w=\"M\"+(+new Date).toString(36),z=function(a){if(null==\n",
       "a)return this.s;var b=this.s-a;this.b+=this.dur*b;this.B+=this.dur*b;this.s=a},d=function(a){if(null==a)return this.spd;this.spd=a},f=function(a){if(null==a)return this.dur;this.s=this.s*a/this.dur;this.dur=a},n=function(){delete k[this.id];this.update();a(\"mina.stop.\"+this.id,this)},u=function(){this.pdif||(delete k[this.id],this.update(),this.pdif=this.get()-this.b)},p=function(){this.pdif&&(this.b=this.get()-this.pdif,delete this.pdif,k[this.id]=this)},b=function(){var a;if(M(this.start)){a=[];\n",
       "for(var b=0,e=this.start.length;b<e;b++)a[b]=+this.start[b]+(this.end[b]-this.start[b])*this.easing(this.s)}else a=+this.start+(this.end-this.start)*this.easing(this.s);this.set(a)},q=function(){var l=0,b;for(b in k)if(k.hasOwnProperty(b)){var e=k[b],f=e.get();l++;e.s=(f-e.b)/(e.dur/e.spd);1<=e.s&&(delete k[b],e.s=1,l--,function(b){setTimeout(function(){a(\"mina.finish.\"+b.id,b)})}(e));e.update()}l&&y(q)},e=function(a,r,s,x,G,h,J){a={id:w+(A++).toString(36),start:a,end:r,b:s,s:0,dur:x-s,spd:1,get:G,\n",
       "set:h,easing:J||e.linear,status:z,speed:d,duration:f,stop:n,pause:u,resume:p,update:b};k[a.id]=a;r=0;for(var K in k)if(k.hasOwnProperty(K)&&(r++,2==r))break;1==r&&y(q);return a};e.time=Date.now||function(){return+new Date};e.getById=function(a){return k[a]||null};e.linear=function(a){return a};e.easeout=function(a){return Math.pow(a,1.7)};e.easein=function(a){return Math.pow(a,0.48)};e.easeinout=function(a){if(1==a)return 1;if(0==a)return 0;var b=0.48-a/1.04,e=Math.sqrt(0.1734+b*b);a=e-b;a=Math.pow(Math.abs(a),\n",
       "1/3)*(0>a?-1:1);b=-e-b;b=Math.pow(Math.abs(b),1/3)*(0>b?-1:1);a=a+b+0.5;return 3*(1-a)*a*a+a*a*a};e.backin=function(a){return 1==a?1:a*a*(2.70158*a-1.70158)};e.backout=function(a){if(0==a)return 0;a-=1;return a*a*(2.70158*a+1.70158)+1};e.elastic=function(a){return a==!!a?a:Math.pow(2,-10*a)*Math.sin(2*(a-0.075)*Math.PI/0.3)+1};e.bounce=function(a){a<1/2.75?a*=7.5625*a:a<2/2.75?(a-=1.5/2.75,a=7.5625*a*a+0.75):a<2.5/2.75?(a-=2.25/2.75,a=7.5625*a*a+0.9375):(a-=2.625/2.75,a=7.5625*a*a+0.984375);return a};\n",
       "return N.mina=e}(\"undefined\"==typeof k?function(){}:k),C=function(){function a(c,t){if(c){if(c.tagName)return x(c);if(y(c,\"array\")&&a.set)return a.set.apply(a,c);if(c instanceof e)return c;if(null==t)return c=G.doc.querySelector(c),x(c)}return new s(null==c?\"100%\":c,null==t?\"100%\":t)}function v(c,a){if(a){\"#text\"==c&&(c=G.doc.createTextNode(a.text||\"\"));\"string\"==typeof c&&(c=v(c));if(\"string\"==typeof a)return\"xlink:\"==a.substring(0,6)?c.getAttributeNS(m,a.substring(6)):\"xml:\"==a.substring(0,4)?c.getAttributeNS(la,\n",
       "a.substring(4)):c.getAttribute(a);for(var da in a)if(a[h](da)){var b=J(a[da]);b?\"xlink:\"==da.substring(0,6)?c.setAttributeNS(m,da.substring(6),b):\"xml:\"==da.substring(0,4)?c.setAttributeNS(la,da.substring(4),b):c.setAttribute(da,b):c.removeAttribute(da)}}else c=G.doc.createElementNS(la,c);return c}function y(c,a){a=J.prototype.toLowerCase.call(a);return\"finite\"==a?isFinite(c):\"array\"==a&&(c instanceof Array||Array.isArray&&Array.isArray(c))?!0:\"null\"==a&&null===c||a==typeof c&&null!==c||\"object\"==\n",
       "a&&c===Object(c)||$.call(c).slice(8,-1).toLowerCase()==a}function M(c){if(\"function\"==typeof c||Object(c)!==c)return c;var a=new c.constructor,b;for(b in c)c[h](b)&&(a[b]=M(c[b]));return a}function A(c,a,b){function m(){var e=Array.prototype.slice.call(arguments,0),f=e.join(\"\\u2400\"),d=m.cache=m.cache||{},l=m.count=m.count||[];if(d[h](f)){a:for(var e=l,l=f,B=0,H=e.length;B<H;B++)if(e[B]===l){e.push(e.splice(B,1)[0]);break a}return b?b(d[f]):d[f]}1E3<=l.length&&delete d[l.shift()];l.push(f);d[f]=c.apply(a,\n",
       "e);return b?b(d[f]):d[f]}return m}function w(c,a,b,m,e,f){return null==e?(c-=b,a-=m,c||a?(180*I.atan2(-a,-c)/C+540)%360:0):w(c,a,e,f)-w(b,m,e,f)}function z(c){return c%360*C/180}function d(c){var a=[];c=c.replace(/(?:^|\\s)(\\w+)\\(([^)]+)\\)/g,function(c,b,m){m=m.split(/\\s*,\\s*|\\s+/);\"rotate\"==b&&1==m.length&&m.push(0,0);\"scale\"==b&&(2<m.length?m=m.slice(0,2):2==m.length&&m.push(0,0),1==m.length&&m.push(m[0],0,0));\"skewX\"==b?a.push([\"m\",1,0,I.tan(z(m[0])),1,0,0]):\"skewY\"==b?a.push([\"m\",1,I.tan(z(m[0])),\n",
       "0,1,0,0]):a.push([b.charAt(0)].concat(m));return c});return a}function f(c,t){var b=O(c),m=new a.Matrix;if(b)for(var e=0,f=b.length;e<f;e++){var h=b[e],d=h.length,B=J(h[0]).toLowerCase(),H=h[0]!=B,l=H?m.invert():0,E;\"t\"==B&&2==d?m.translate(h[1],0):\"t\"==B&&3==d?H?(d=l.x(0,0),B=l.y(0,0),H=l.x(h[1],h[2]),l=l.y(h[1],h[2]),m.translate(H-d,l-B)):m.translate(h[1],h[2]):\"r\"==B?2==d?(E=E||t,m.rotate(h[1],E.x+E.width/2,E.y+E.height/2)):4==d&&(H?(H=l.x(h[2],h[3]),l=l.y(h[2],h[3]),m.rotate(h[1],H,l)):m.rotate(h[1],\n",
       "h[2],h[3])):\"s\"==B?2==d||3==d?(E=E||t,m.scale(h[1],h[d-1],E.x+E.width/2,E.y+E.height/2)):4==d?H?(H=l.x(h[2],h[3]),l=l.y(h[2],h[3]),m.scale(h[1],h[1],H,l)):m.scale(h[1],h[1],h[2],h[3]):5==d&&(H?(H=l.x(h[3],h[4]),l=l.y(h[3],h[4]),m.scale(h[1],h[2],H,l)):m.scale(h[1],h[2],h[3],h[4])):\"m\"==B&&7==d&&m.add(h[1],h[2],h[3],h[4],h[5],h[6])}return m}function n(c,t){if(null==t){var m=!0;t=\"linearGradient\"==c.type||\"radialGradient\"==c.type?c.node.getAttribute(\"gradientTransform\"):\"pattern\"==c.type?c.node.getAttribute(\"patternTransform\"):\n",
       "c.node.getAttribute(\"transform\");if(!t)return new a.Matrix;t=d(t)}else t=a._.rgTransform.test(t)?J(t).replace(/\\.{3}|\\u2026/g,c._.transform||aa):d(t),y(t,\"array\")&&(t=a.path?a.path.toString.call(t):J(t)),c._.transform=t;var b=f(t,c.getBBox(1));if(m)return b;c.matrix=b}function u(c){c=c.node.ownerSVGElement&&x(c.node.ownerSVGElement)||c.node.parentNode&&x(c.node.parentNode)||a.select(\"svg\")||a(0,0);var t=c.select(\"defs\"),t=null==t?!1:t.node;t||(t=r(\"defs\",c.node).node);return t}function p(c){return c.node.ownerSVGElement&&\n",
       "x(c.node.ownerSVGElement)||a.select(\"svg\")}function b(c,a,m){function b(c){if(null==c)return aa;if(c==+c)return c;v(B,{width:c});try{return B.getBBox().width}catch(a){return 0}}function h(c){if(null==c)return aa;if(c==+c)return c;v(B,{height:c});try{return B.getBBox().height}catch(a){return 0}}function e(b,B){null==a?d[b]=B(c.attr(b)||0):b==a&&(d=B(null==m?c.attr(b)||0:m))}var f=p(c).node,d={},B=f.querySelector(\".svg---mgr\");B||(B=v(\"rect\"),v(B,{x:-9E9,y:-9E9,width:10,height:10,\"class\":\"svg---mgr\",\n",
       "fill:\"none\"}),f.appendChild(B));switch(c.type){case \"rect\":e(\"rx\",b),e(\"ry\",h);case \"image\":e(\"width\",b),e(\"height\",h);case \"text\":e(\"x\",b);e(\"y\",h);break;case \"circle\":e(\"cx\",b);e(\"cy\",h);e(\"r\",b);break;case \"ellipse\":e(\"cx\",b);e(\"cy\",h);e(\"rx\",b);e(\"ry\",h);break;case \"line\":e(\"x1\",b);e(\"x2\",b);e(\"y1\",h);e(\"y2\",h);break;case \"marker\":e(\"refX\",b);e(\"markerWidth\",b);e(\"refY\",h);e(\"markerHeight\",h);break;case \"radialGradient\":e(\"fx\",b);e(\"fy\",h);break;case \"tspan\":e(\"dx\",b);e(\"dy\",h);break;default:e(a,\n",
       "b)}f.removeChild(B);return d}function q(c){y(c,\"array\")||(c=Array.prototype.slice.call(arguments,0));for(var a=0,b=0,m=this.node;this[a];)delete this[a++];for(a=0;a<c.length;a++)\"set\"==c[a].type?c[a].forEach(function(c){m.appendChild(c.node)}):m.appendChild(c[a].node);for(var h=m.childNodes,a=0;a<h.length;a++)this[b++]=x(h[a]);return this}function e(c){if(c.snap in E)return E[c.snap];var a=this.id=V(),b;try{b=c.ownerSVGElement}catch(m){}this.node=c;b&&(this.paper=new s(b));this.type=c.tagName;this.anims=\n",
       "{};this._={transform:[]};c.snap=a;E[a]=this;\"g\"==this.type&&(this.add=q);if(this.type in{g:1,mask:1,pattern:1})for(var e in s.prototype)s.prototype[h](e)&&(this[e]=s.prototype[e])}function l(c){this.node=c}function r(c,a){var b=v(c);a.appendChild(b);return x(b)}function s(c,a){var b,m,f,d=s.prototype;if(c&&\"svg\"==c.tagName){if(c.snap in E)return E[c.snap];var l=c.ownerDocument;b=new e(c);m=c.getElementsByTagName(\"desc\")[0];f=c.getElementsByTagName(\"defs\")[0];m||(m=v(\"desc\"),m.appendChild(l.createTextNode(\"Created with Snap\")),\n",
       "b.node.appendChild(m));f||(f=v(\"defs\"),b.node.appendChild(f));b.defs=f;for(var ca in d)d[h](ca)&&(b[ca]=d[ca]);b.paper=b.root=b}else b=r(\"svg\",G.doc.body),v(b.node,{height:a,version:1.1,width:c,xmlns:la});return b}function x(c){return!c||c instanceof e||c instanceof l?c:c.tagName&&\"svg\"==c.tagName.toLowerCase()?new s(c):c.tagName&&\"object\"==c.tagName.toLowerCase()&&\"image/svg+xml\"==c.type?new s(c.contentDocument.getElementsByTagName(\"svg\")[0]):new e(c)}a.version=\"0.3.0\";a.toString=function(){return\"Snap v\"+\n",
       "this.version};a._={};var G={win:N,doc:N.document};a._.glob=G;var h=\"hasOwnProperty\",J=String,K=parseFloat,U=parseInt,I=Math,P=I.max,Q=I.min,Y=I.abs,C=I.PI,aa=\"\",$=Object.prototype.toString,F=/^\\s*((#[a-f\\d]{6})|(#[a-f\\d]{3})|rgba?\\(\\s*([\\d\\.]+%?\\s*,\\s*[\\d\\.]+%?\\s*,\\s*[\\d\\.]+%?(?:\\s*,\\s*[\\d\\.]+%?)?)\\s*\\)|hsba?\\(\\s*([\\d\\.]+(?:deg|\\xb0|%)?\\s*,\\s*[\\d\\.]+%?\\s*,\\s*[\\d\\.]+(?:%?\\s*,\\s*[\\d\\.]+)?%?)\\s*\\)|hsla?\\(\\s*([\\d\\.]+(?:deg|\\xb0|%)?\\s*,\\s*[\\d\\.]+%?\\s*,\\s*[\\d\\.]+(?:%?\\s*,\\s*[\\d\\.]+)?%?)\\s*\\))\\s*$/i;a._.separator=\n",
       "RegExp(\"[,\\t\\n\\x0B\\f\\r \\u00a0\\u1680\\u180e\\u2000\\u2001\\u2002\\u2003\\u2004\\u2005\\u2006\\u2007\\u2008\\u2009\\u200a\\u202f\\u205f\\u3000\\u2028\\u2029]+\");var S=RegExp(\"[\\t\\n\\x0B\\f\\r \\u00a0\\u1680\\u180e\\u2000\\u2001\\u2002\\u2003\\u2004\\u2005\\u2006\\u2007\\u2008\\u2009\\u200a\\u202f\\u205f\\u3000\\u2028\\u2029]*,[\\t\\n\\x0B\\f\\r \\u00a0\\u1680\\u180e\\u2000\\u2001\\u2002\\u2003\\u2004\\u2005\\u2006\\u2007\\u2008\\u2009\\u200a\\u202f\\u205f\\u3000\\u2028\\u2029]*\"),X={hs:1,rg:1},W=RegExp(\"([a-z])[\\t\\n\\x0B\\f\\r \\u00a0\\u1680\\u180e\\u2000\\u2001\\u2002\\u2003\\u2004\\u2005\\u2006\\u2007\\u2008\\u2009\\u200a\\u202f\\u205f\\u3000\\u2028\\u2029,]*((-?\\\\d*\\\\.?\\\\d*(?:e[\\\\-+]?\\\\d+)?[\\t\\n\\x0B\\f\\r \\u00a0\\u1680\\u180e\\u2000\\u2001\\u2002\\u2003\\u2004\\u2005\\u2006\\u2007\\u2008\\u2009\\u200a\\u202f\\u205f\\u3000\\u2028\\u2029]*,?[\\t\\n\\x0B\\f\\r \\u00a0\\u1680\\u180e\\u2000\\u2001\\u2002\\u2003\\u2004\\u2005\\u2006\\u2007\\u2008\\u2009\\u200a\\u202f\\u205f\\u3000\\u2028\\u2029]*)+)\",\n",
       "\"ig\"),ma=RegExp(\"([rstm])[\\t\\n\\x0B\\f\\r \\u00a0\\u1680\\u180e\\u2000\\u2001\\u2002\\u2003\\u2004\\u2005\\u2006\\u2007\\u2008\\u2009\\u200a\\u202f\\u205f\\u3000\\u2028\\u2029,]*((-?\\\\d*\\\\.?\\\\d*(?:e[\\\\-+]?\\\\d+)?[\\t\\n\\x0B\\f\\r \\u00a0\\u1680\\u180e\\u2000\\u2001\\u2002\\u2003\\u2004\\u2005\\u2006\\u2007\\u2008\\u2009\\u200a\\u202f\\u205f\\u3000\\u2028\\u2029]*,?[\\t\\n\\x0B\\f\\r \\u00a0\\u1680\\u180e\\u2000\\u2001\\u2002\\u2003\\u2004\\u2005\\u2006\\u2007\\u2008\\u2009\\u200a\\u202f\\u205f\\u3000\\u2028\\u2029]*)+)\",\"ig\"),Z=RegExp(\"(-?\\\\d*\\\\.?\\\\d*(?:e[\\\\-+]?\\\\d+)?)[\\t\\n\\x0B\\f\\r \\u00a0\\u1680\\u180e\\u2000\\u2001\\u2002\\u2003\\u2004\\u2005\\u2006\\u2007\\u2008\\u2009\\u200a\\u202f\\u205f\\u3000\\u2028\\u2029]*,?[\\t\\n\\x0B\\f\\r \\u00a0\\u1680\\u180e\\u2000\\u2001\\u2002\\u2003\\u2004\\u2005\\u2006\\u2007\\u2008\\u2009\\u200a\\u202f\\u205f\\u3000\\u2028\\u2029]*\",\n",
       "\"ig\"),na=0,ba=\"S\"+(+new Date).toString(36),V=function(){return ba+(na++).toString(36)},m=\"http://www.w3.org/1999/xlink\",la=\"http://www.w3.org/2000/svg\",E={},ca=a.url=function(c){return\"url('#\"+c+\"')\"};a._.$=v;a._.id=V;a.format=function(){var c=/\\{([^\\}]+)\\}/g,a=/(?:(?:^|\\.)(.+?)(?=\\[|\\.|$|\\()|\\[('|\")(.+?)\\2\\])(\\(\\))?/g,b=function(c,b,m){var h=m;b.replace(a,function(c,a,b,m,t){a=a||m;h&&(a in h&&(h=h[a]),\"function\"==typeof h&&t&&(h=h()))});return h=(null==h||h==m?c:h)+\"\"};return function(a,m){return J(a).replace(c,\n",
       "function(c,a){return b(c,a,m)})}}();a._.clone=M;a._.cacher=A;a.rad=z;a.deg=function(c){return 180*c/C%360};a.angle=w;a.is=y;a.snapTo=function(c,a,b){b=y(b,\"finite\")?b:10;if(y(c,\"array\"))for(var m=c.length;m--;){if(Y(c[m]-a)<=b)return c[m]}else{c=+c;m=a%c;if(m<b)return a-m;if(m>c-b)return a-m+c}return a};a.getRGB=A(function(c){if(!c||(c=J(c)).indexOf(\"-\")+1)return{r:-1,g:-1,b:-1,hex:\"none\",error:1,toString:ka};if(\"none\"==c)return{r:-1,g:-1,b:-1,hex:\"none\",toString:ka};!X[h](c.toLowerCase().substring(0,\n",
       "2))&&\"#\"!=c.charAt()&&(c=T(c));if(!c)return{r:-1,g:-1,b:-1,hex:\"none\",error:1,toString:ka};var b,m,e,f,d;if(c=c.match(F)){c[2]&&(e=U(c[2].substring(5),16),m=U(c[2].substring(3,5),16),b=U(c[2].substring(1,3),16));c[3]&&(e=U((d=c[3].charAt(3))+d,16),m=U((d=c[3].charAt(2))+d,16),b=U((d=c[3].charAt(1))+d,16));c[4]&&(d=c[4].split(S),b=K(d[0]),\"%\"==d[0].slice(-1)&&(b*=2.55),m=K(d[1]),\"%\"==d[1].slice(-1)&&(m*=2.55),e=K(d[2]),\"%\"==d[2].slice(-1)&&(e*=2.55),\"rgba\"==c[1].toLowerCase().slice(0,4)&&(f=K(d[3])),\n",
       "d[3]&&\"%\"==d[3].slice(-1)&&(f/=100));if(c[5])return d=c[5].split(S),b=K(d[0]),\"%\"==d[0].slice(-1)&&(b/=100),m=K(d[1]),\"%\"==d[1].slice(-1)&&(m/=100),e=K(d[2]),\"%\"==d[2].slice(-1)&&(e/=100),\"deg\"!=d[0].slice(-3)&&\"\\u00b0\"!=d[0].slice(-1)||(b/=360),\"hsba\"==c[1].toLowerCase().slice(0,4)&&(f=K(d[3])),d[3]&&\"%\"==d[3].slice(-1)&&(f/=100),a.hsb2rgb(b,m,e,f);if(c[6])return d=c[6].split(S),b=K(d[0]),\"%\"==d[0].slice(-1)&&(b/=100),m=K(d[1]),\"%\"==d[1].slice(-1)&&(m/=100),e=K(d[2]),\"%\"==d[2].slice(-1)&&(e/=100),\n",
       "\"deg\"!=d[0].slice(-3)&&\"\\u00b0\"!=d[0].slice(-1)||(b/=360),\"hsla\"==c[1].toLowerCase().slice(0,4)&&(f=K(d[3])),d[3]&&\"%\"==d[3].slice(-1)&&(f/=100),a.hsl2rgb(b,m,e,f);b=Q(I.round(b),255);m=Q(I.round(m),255);e=Q(I.round(e),255);f=Q(P(f,0),1);c={r:b,g:m,b:e,toString:ka};c.hex=\"#\"+(16777216|e|m<<8|b<<16).toString(16).slice(1);c.opacity=y(f,\"finite\")?f:1;return c}return{r:-1,g:-1,b:-1,hex:\"none\",error:1,toString:ka}},a);a.hsb=A(function(c,b,m){return a.hsb2rgb(c,b,m).hex});a.hsl=A(function(c,b,m){return a.hsl2rgb(c,\n",
       "b,m).hex});a.rgb=A(function(c,a,b,m){if(y(m,\"finite\")){var e=I.round;return\"rgba(\"+[e(c),e(a),e(b),+m.toFixed(2)]+\")\"}return\"#\"+(16777216|b|a<<8|c<<16).toString(16).slice(1)});var T=function(c){var a=G.doc.getElementsByTagName(\"head\")[0]||G.doc.getElementsByTagName(\"svg\")[0];T=A(function(c){if(\"red\"==c.toLowerCase())return\"rgb(255, 0, 0)\";a.style.color=\"rgb(255, 0, 0)\";a.style.color=c;c=G.doc.defaultView.getComputedStyle(a,aa).getPropertyValue(\"color\");return\"rgb(255, 0, 0)\"==c?null:c});return T(c)},\n",
       "qa=function(){return\"hsb(\"+[this.h,this.s,this.b]+\")\"},ra=function(){return\"hsl(\"+[this.h,this.s,this.l]+\")\"},ka=function(){return 1==this.opacity||null==this.opacity?this.hex:\"rgba(\"+[this.r,this.g,this.b,this.opacity]+\")\"},D=function(c,b,m){null==b&&y(c,\"object\")&&\"r\"in c&&\"g\"in c&&\"b\"in c&&(m=c.b,b=c.g,c=c.r);null==b&&y(c,string)&&(m=a.getRGB(c),c=m.r,b=m.g,m=m.b);if(1<c||1<b||1<m)c/=255,b/=255,m/=255;return[c,b,m]},oa=function(c,b,m,e){c=I.round(255*c);b=I.round(255*b);m=I.round(255*m);c={r:c,\n",
       "g:b,b:m,opacity:y(e,\"finite\")?e:1,hex:a.rgb(c,b,m),toString:ka};y(e,\"finite\")&&(c.opacity=e);return c};a.color=function(c){var b;y(c,\"object\")&&\"h\"in c&&\"s\"in c&&\"b\"in c?(b=a.hsb2rgb(c),c.r=b.r,c.g=b.g,c.b=b.b,c.opacity=1,c.hex=b.hex):y(c,\"object\")&&\"h\"in c&&\"s\"in c&&\"l\"in c?(b=a.hsl2rgb(c),c.r=b.r,c.g=b.g,c.b=b.b,c.opacity=1,c.hex=b.hex):(y(c,\"string\")&&(c=a.getRGB(c)),y(c,\"object\")&&\"r\"in c&&\"g\"in c&&\"b\"in c&&!(\"error\"in c)?(b=a.rgb2hsl(c),c.h=b.h,c.s=b.s,c.l=b.l,b=a.rgb2hsb(c),c.v=b.b):(c={hex:\"none\"},\n",
       "c.r=c.g=c.b=c.h=c.s=c.v=c.l=-1,c.error=1));c.toString=ka;return c};a.hsb2rgb=function(c,a,b,m){y(c,\"object\")&&\"h\"in c&&\"s\"in c&&\"b\"in c&&(b=c.b,a=c.s,c=c.h,m=c.o);var e,h,d;c=360*c%360/60;d=b*a;a=d*(1-Y(c%2-1));b=e=h=b-d;c=~~c;b+=[d,a,0,0,a,d][c];e+=[a,d,d,a,0,0][c];h+=[0,0,a,d,d,a][c];return oa(b,e,h,m)};a.hsl2rgb=function(c,a,b,m){y(c,\"object\")&&\"h\"in c&&\"s\"in c&&\"l\"in c&&(b=c.l,a=c.s,c=c.h);if(1<c||1<a||1<b)c/=360,a/=100,b/=100;var e,h,d;c=360*c%360/60;d=2*a*(0.5>b?b:1-b);a=d*(1-Y(c%2-1));b=e=\n",
       "h=b-d/2;c=~~c;b+=[d,a,0,0,a,d][c];e+=[a,d,d,a,0,0][c];h+=[0,0,a,d,d,a][c];return oa(b,e,h,m)};a.rgb2hsb=function(c,a,b){b=D(c,a,b);c=b[0];a=b[1];b=b[2];var m,e;m=P(c,a,b);e=m-Q(c,a,b);c=((0==e?0:m==c?(a-b)/e:m==a?(b-c)/e+2:(c-a)/e+4)+360)%6*60/360;return{h:c,s:0==e?0:e/m,b:m,toString:qa}};a.rgb2hsl=function(c,a,b){b=D(c,a,b);c=b[0];a=b[1];b=b[2];var m,e,h;m=P(c,a,b);e=Q(c,a,b);h=m-e;c=((0==h?0:m==c?(a-b)/h:m==a?(b-c)/h+2:(c-a)/h+4)+360)%6*60/360;m=(m+e)/2;return{h:c,s:0==h?0:0.5>m?h/(2*m):h/(2-2*\n",
       "m),l:m,toString:ra}};a.parsePathString=function(c){if(!c)return null;var b=a.path(c);if(b.arr)return a.path.clone(b.arr);var m={a:7,c:6,o:2,h:1,l:2,m:2,r:4,q:4,s:4,t:2,v:1,u:3,z:0},e=[];y(c,\"array\")&&y(c[0],\"array\")&&(e=a.path.clone(c));e.length||J(c).replace(W,function(c,a,b){var h=[];c=a.toLowerCase();b.replace(Z,function(c,a){a&&h.push(+a)});\"m\"==c&&2<h.length&&(e.push([a].concat(h.splice(0,2))),c=\"l\",a=\"m\"==a?\"l\":\"L\");\"o\"==c&&1==h.length&&e.push([a,h[0] ]);if(\"r\"==c)e.push([a].concat(h));else for(;h.length>=\n",
       "m[c]&&(e.push([a].concat(h.splice(0,m[c]))),m[c]););});e.toString=a.path.toString;b.arr=a.path.clone(e);return e};var O=a.parseTransformString=function(c){if(!c)return null;var b=[];y(c,\"array\")&&y(c[0],\"array\")&&(b=a.path.clone(c));b.length||J(c).replace(ma,function(c,a,m){var e=[];a.toLowerCase();m.replace(Z,function(c,a){a&&e.push(+a)});b.push([a].concat(e))});b.toString=a.path.toString;return b};a._.svgTransform2string=d;a._.rgTransform=RegExp(\"^[a-z][\\t\\n\\x0B\\f\\r \\u00a0\\u1680\\u180e\\u2000\\u2001\\u2002\\u2003\\u2004\\u2005\\u2006\\u2007\\u2008\\u2009\\u200a\\u202f\\u205f\\u3000\\u2028\\u2029]*-?\\\\.?\\\\d\",\n",
       "\"i\");a._.transform2matrix=f;a._unit2px=b;a._.getSomeDefs=u;a._.getSomeSVG=p;a.select=function(c){return x(G.doc.querySelector(c))};a.selectAll=function(c){c=G.doc.querySelectorAll(c);for(var b=(a.set||Array)(),m=0;m<c.length;m++)b.push(x(c[m]));return b};setInterval(function(){for(var c in E)if(E[h](c)){var a=E[c],b=a.node;(\"svg\"!=a.type&&!b.ownerSVGElement||\"svg\"==a.type&&(!b.parentNode||\"ownerSVGElement\"in b.parentNode&&!b.ownerSVGElement))&&delete E[c]}},1E4);(function(c){function m(c){function a(c,\n",
       "b){var m=v(c.node,b);(m=(m=m&&m.match(d))&&m[2])&&\"#\"==m.charAt()&&(m=m.substring(1))&&(f[m]=(f[m]||[]).concat(function(a){var m={};m[b]=ca(a);v(c.node,m)}))}function b(c){var a=v(c.node,\"xlink:href\");a&&\"#\"==a.charAt()&&(a=a.substring(1))&&(f[a]=(f[a]||[]).concat(function(a){c.attr(\"xlink:href\",\"#\"+a)}))}var e=c.selectAll(\"*\"),h,d=/^\\s*url\\((\"|'|)(.*)\\1\\)\\s*$/;c=[];for(var f={},l=0,E=e.length;l<E;l++){h=e[l];a(h,\"fill\");a(h,\"stroke\");a(h,\"filter\");a(h,\"mask\");a(h,\"clip-path\");b(h);var t=v(h.node,\n",
       "\"id\");t&&(v(h.node,{id:h.id}),c.push({old:t,id:h.id}))}l=0;for(E=c.length;l<E;l++)if(e=f[c[l].old])for(h=0,t=e.length;h<t;h++)e[h](c[l].id)}function e(c,a,b){return function(m){m=m.slice(c,a);1==m.length&&(m=m[0]);return b?b(m):m}}function d(c){return function(){var a=c?\"<\"+this.type:\"\",b=this.node.attributes,m=this.node.childNodes;if(c)for(var e=0,h=b.length;e<h;e++)a+=\" \"+b[e].name+'=\"'+b[e].value.replace(/\"/g,'\\\\\"')+'\"';if(m.length){c&&(a+=\">\");e=0;for(h=m.length;e<h;e++)3==m[e].nodeType?a+=m[e].nodeValue:\n",
       "1==m[e].nodeType&&(a+=x(m[e]).toString());c&&(a+=\"</\"+this.type+\">\")}else c&&(a+=\"/>\");return a}}c.attr=function(c,a){if(!c)return this;if(y(c,\"string\"))if(1<arguments.length){var b={};b[c]=a;c=b}else return k(\"snap.util.getattr.\"+c,this).firstDefined();for(var m in c)c[h](m)&&k(\"snap.util.attr.\"+m,this,c[m]);return this};c.getBBox=function(c){if(!a.Matrix||!a.path)return this.node.getBBox();var b=this,m=new a.Matrix;if(b.removed)return a._.box();for(;\"use\"==b.type;)if(c||(m=m.add(b.transform().localMatrix.translate(b.attr(\"x\")||\n",
       "0,b.attr(\"y\")||0))),b.original)b=b.original;else var e=b.attr(\"xlink:href\"),b=b.original=b.node.ownerDocument.getElementById(e.substring(e.indexOf(\"#\")+1));var e=b._,h=a.path.get[b.type]||a.path.get.deflt;try{if(c)return e.bboxwt=h?a.path.getBBox(b.realPath=h(b)):a._.box(b.node.getBBox()),a._.box(e.bboxwt);b.realPath=h(b);b.matrix=b.transform().localMatrix;e.bbox=a.path.getBBox(a.path.map(b.realPath,m.add(b.matrix)));return a._.box(e.bbox)}catch(d){return a._.box()}};var f=function(){return this.string};\n",
       "c.transform=function(c){var b=this._;if(null==c){var m=this;c=new a.Matrix(this.node.getCTM());for(var e=n(this),h=[e],d=new a.Matrix,l=e.toTransformString(),b=J(e)==J(this.matrix)?J(b.transform):l;\"svg\"!=m.type&&(m=m.parent());)h.push(n(m));for(m=h.length;m--;)d.add(h[m]);return{string:b,globalMatrix:c,totalMatrix:d,localMatrix:e,diffMatrix:c.clone().add(e.invert()),global:c.toTransformString(),total:d.toTransformString(),local:l,toString:f}}c instanceof a.Matrix?this.matrix=c:n(this,c);this.node&&\n",
       "(\"linearGradient\"==this.type||\"radialGradient\"==this.type?v(this.node,{gradientTransform:this.matrix}):\"pattern\"==this.type?v(this.node,{patternTransform:this.matrix}):v(this.node,{transform:this.matrix}));return this};c.parent=function(){return x(this.node.parentNode)};c.append=c.add=function(c){if(c){if(\"set\"==c.type){var a=this;c.forEach(function(c){a.add(c)});return this}c=x(c);this.node.appendChild(c.node);c.paper=this.paper}return this};c.appendTo=function(c){c&&(c=x(c),c.append(this));return this};\n",
       "c.prepend=function(c){if(c){if(\"set\"==c.type){var a=this,b;c.forEach(function(c){b?b.after(c):a.prepend(c);b=c});return this}c=x(c);var m=c.parent();this.node.insertBefore(c.node,this.node.firstChild);this.add&&this.add();c.paper=this.paper;this.parent()&&this.parent().add();m&&m.add()}return this};c.prependTo=function(c){c=x(c);c.prepend(this);return this};c.before=function(c){if(\"set\"==c.type){var a=this;c.forEach(function(c){var b=c.parent();a.node.parentNode.insertBefore(c.node,a.node);b&&b.add()});\n",
       "this.parent().add();return this}c=x(c);var b=c.parent();this.node.parentNode.insertBefore(c.node,this.node);this.parent()&&this.parent().add();b&&b.add();c.paper=this.paper;return this};c.after=function(c){c=x(c);var a=c.parent();this.node.nextSibling?this.node.parentNode.insertBefore(c.node,this.node.nextSibling):this.node.parentNode.appendChild(c.node);this.parent()&&this.parent().add();a&&a.add();c.paper=this.paper;return this};c.insertBefore=function(c){c=x(c);var a=this.parent();c.node.parentNode.insertBefore(this.node,\n",
       "c.node);this.paper=c.paper;a&&a.add();c.parent()&&c.parent().add();return this};c.insertAfter=function(c){c=x(c);var a=this.parent();c.node.parentNode.insertBefore(this.node,c.node.nextSibling);this.paper=c.paper;a&&a.add();c.parent()&&c.parent().add();return this};c.remove=function(){var c=this.parent();this.node.parentNode&&this.node.parentNode.removeChild(this.node);delete this.paper;this.removed=!0;c&&c.add();return this};c.select=function(c){return x(this.node.querySelector(c))};c.selectAll=\n",
       "function(c){c=this.node.querySelectorAll(c);for(var b=(a.set||Array)(),m=0;m<c.length;m++)b.push(x(c[m]));return b};c.asPX=function(c,a){null==a&&(a=this.attr(c));return+b(this,c,a)};c.use=function(){var c,a=this.node.id;a||(a=this.id,v(this.node,{id:a}));c=\"linearGradient\"==this.type||\"radialGradient\"==this.type||\"pattern\"==this.type?r(this.type,this.node.parentNode):r(\"use\",this.node.parentNode);v(c.node,{\"xlink:href\":\"#\"+a});c.original=this;return c};var l=/\\S+/g;c.addClass=function(c){var a=(c||\n",
       "\"\").match(l)||[];c=this.node;var b=c.className.baseVal,m=b.match(l)||[],e,h,d;if(a.length){for(e=0;d=a[e++];)h=m.indexOf(d),~h||m.push(d);a=m.join(\" \");b!=a&&(c.className.baseVal=a)}return this};c.removeClass=function(c){var a=(c||\"\").match(l)||[];c=this.node;var b=c.className.baseVal,m=b.match(l)||[],e,h;if(m.length){for(e=0;h=a[e++];)h=m.indexOf(h),~h&&m.splice(h,1);a=m.join(\" \");b!=a&&(c.className.baseVal=a)}return this};c.hasClass=function(c){return!!~(this.node.className.baseVal.match(l)||[]).indexOf(c)};\n",
       "c.toggleClass=function(c,a){if(null!=a)return a?this.addClass(c):this.removeClass(c);var b=(c||\"\").match(l)||[],m=this.node,e=m.className.baseVal,h=e.match(l)||[],d,f,E;for(d=0;E=b[d++];)f=h.indexOf(E),~f?h.splice(f,1):h.push(E);b=h.join(\" \");e!=b&&(m.className.baseVal=b);return this};c.clone=function(){var c=x(this.node.cloneNode(!0));v(c.node,\"id\")&&v(c.node,{id:c.id});m(c);c.insertAfter(this);return c};c.toDefs=function(){u(this).appendChild(this.node);return this};c.pattern=c.toPattern=function(c,\n",
       "a,b,m){var e=r(\"pattern\",u(this));null==c&&(c=this.getBBox());y(c,\"object\")&&\"x\"in c&&(a=c.y,b=c.width,m=c.height,c=c.x);v(e.node,{x:c,y:a,width:b,height:m,patternUnits:\"userSpaceOnUse\",id:e.id,viewBox:[c,a,b,m].join(\" \")});e.node.appendChild(this.node);return e};c.marker=function(c,a,b,m,e,h){var d=r(\"marker\",u(this));null==c&&(c=this.getBBox());y(c,\"object\")&&\"x\"in c&&(a=c.y,b=c.width,m=c.height,e=c.refX||c.cx,h=c.refY||c.cy,c=c.x);v(d.node,{viewBox:[c,a,b,m].join(\" \"),markerWidth:b,markerHeight:m,\n",
       "orient:\"auto\",refX:e||0,refY:h||0,id:d.id});d.node.appendChild(this.node);return d};var E=function(c,a,b,m){\"function\"!=typeof b||b.length||(m=b,b=L.linear);this.attr=c;this.dur=a;b&&(this.easing=b);m&&(this.callback=m)};a._.Animation=E;a.animation=function(c,a,b,m){return new E(c,a,b,m)};c.inAnim=function(){var c=[],a;for(a in this.anims)this.anims[h](a)&&function(a){c.push({anim:new E(a._attrs,a.dur,a.easing,a._callback),mina:a,curStatus:a.status(),status:function(c){return a.status(c)},stop:function(){a.stop()}})}(this.anims[a]);\n",
       "return c};a.animate=function(c,a,b,m,e,h){\"function\"!=typeof e||e.length||(h=e,e=L.linear);var d=L.time();c=L(c,a,d,d+m,L.time,b,e);h&&k.once(\"mina.finish.\"+c.id,h);return c};c.stop=function(){for(var c=this.inAnim(),a=0,b=c.length;a<b;a++)c[a].stop();return this};c.animate=function(c,a,b,m){\"function\"!=typeof b||b.length||(m=b,b=L.linear);c instanceof E&&(m=c.callback,b=c.easing,a=b.dur,c=c.attr);var d=[],f=[],l={},t,ca,n,T=this,q;for(q in c)if(c[h](q)){T.equal?(n=T.equal(q,J(c[q])),t=n.from,ca=\n",
       "n.to,n=n.f):(t=+T.attr(q),ca=+c[q]);var la=y(t,\"array\")?t.length:1;l[q]=e(d.length,d.length+la,n);d=d.concat(t);f=f.concat(ca)}t=L.time();var p=L(d,f,t,t+a,L.time,function(c){var a={},b;for(b in l)l[h](b)&&(a[b]=l[b](c));T.attr(a)},b);T.anims[p.id]=p;p._attrs=c;p._callback=m;k(\"snap.animcreated.\"+T.id,p);k.once(\"mina.finish.\"+p.id,function(){delete T.anims[p.id];m&&m.call(T)});k.once(\"mina.stop.\"+p.id,function(){delete T.anims[p.id]});return T};var T={};c.data=function(c,b){var m=T[this.id]=T[this.id]||\n",
       "{};if(0==arguments.length)return k(\"snap.data.get.\"+this.id,this,m,null),m;if(1==arguments.length){if(a.is(c,\"object\")){for(var e in c)c[h](e)&&this.data(e,c[e]);return this}k(\"snap.data.get.\"+this.id,this,m[c],c);return m[c]}m[c]=b;k(\"snap.data.set.\"+this.id,this,b,c);return this};c.removeData=function(c){null==c?T[this.id]={}:T[this.id]&&delete T[this.id][c];return this};c.outerSVG=c.toString=d(1);c.innerSVG=d()})(e.prototype);a.parse=function(c){var a=G.doc.createDocumentFragment(),b=!0,m=G.doc.createElement(\"div\");\n",
       "c=J(c);c.match(/^\\s*<\\s*svg(?:\\s|>)/)||(c=\"<svg>\"+c+\"</svg>\",b=!1);m.innerHTML=c;if(c=m.getElementsByTagName(\"svg\")[0])if(b)a=c;else for(;c.firstChild;)a.appendChild(c.firstChild);m.innerHTML=aa;return new l(a)};l.prototype.select=e.prototype.select;l.prototype.selectAll=e.prototype.selectAll;a.fragment=function(){for(var c=Array.prototype.slice.call(arguments,0),b=G.doc.createDocumentFragment(),m=0,e=c.length;m<e;m++){var h=c[m];h.node&&h.node.nodeType&&b.appendChild(h.node);h.nodeType&&b.appendChild(h);\n",
       "\"string\"==typeof h&&b.appendChild(a.parse(h).node)}return new l(b)};a._.make=r;a._.wrap=x;s.prototype.el=function(c,a){var b=r(c,this.node);a&&b.attr(a);return b};k.on(\"snap.util.getattr\",function(){var c=k.nt(),c=c.substring(c.lastIndexOf(\".\")+1),a=c.replace(/[A-Z]/g,function(c){return\"-\"+c.toLowerCase()});return pa[h](a)?this.node.ownerDocument.defaultView.getComputedStyle(this.node,null).getPropertyValue(a):v(this.node,c)});var pa={\"alignment-baseline\":0,\"baseline-shift\":0,clip:0,\"clip-path\":0,\n",
       "\"clip-rule\":0,color:0,\"color-interpolation\":0,\"color-interpolation-filters\":0,\"color-profile\":0,\"color-rendering\":0,cursor:0,direction:0,display:0,\"dominant-baseline\":0,\"enable-background\":0,fill:0,\"fill-opacity\":0,\"fill-rule\":0,filter:0,\"flood-color\":0,\"flood-opacity\":0,font:0,\"font-family\":0,\"font-size\":0,\"font-size-adjust\":0,\"font-stretch\":0,\"font-style\":0,\"font-variant\":0,\"font-weight\":0,\"glyph-orientation-horizontal\":0,\"glyph-orientation-vertical\":0,\"image-rendering\":0,kerning:0,\"letter-spacing\":0,\n",
       "\"lighting-color\":0,marker:0,\"marker-end\":0,\"marker-mid\":0,\"marker-start\":0,mask:0,opacity:0,overflow:0,\"pointer-events\":0,\"shape-rendering\":0,\"stop-color\":0,\"stop-opacity\":0,stroke:0,\"stroke-dasharray\":0,\"stroke-dashoffset\":0,\"stroke-linecap\":0,\"stroke-linejoin\":0,\"stroke-miterlimit\":0,\"stroke-opacity\":0,\"stroke-width\":0,\"text-anchor\":0,\"text-decoration\":0,\"text-rendering\":0,\"unicode-bidi\":0,visibility:0,\"word-spacing\":0,\"writing-mode\":0};k.on(\"snap.util.attr\",function(c){var a=k.nt(),b={},a=a.substring(a.lastIndexOf(\".\")+\n",
       "1);b[a]=c;var m=a.replace(/-(\\w)/gi,function(c,a){return a.toUpperCase()}),a=a.replace(/[A-Z]/g,function(c){return\"-\"+c.toLowerCase()});pa[h](a)?this.node.style[m]=null==c?aa:c:v(this.node,b)});a.ajax=function(c,a,b,m){var e=new XMLHttpRequest,h=V();if(e){if(y(a,\"function\"))m=b,b=a,a=null;else if(y(a,\"object\")){var d=[],f;for(f in a)a.hasOwnProperty(f)&&d.push(encodeURIComponent(f)+\"=\"+encodeURIComponent(a[f]));a=d.join(\"&\")}e.open(a?\"POST\":\"GET\",c,!0);a&&(e.setRequestHeader(\"X-Requested-With\",\"XMLHttpRequest\"),\n",
       "e.setRequestHeader(\"Content-type\",\"application/x-www-form-urlencoded\"));b&&(k.once(\"snap.ajax.\"+h+\".0\",b),k.once(\"snap.ajax.\"+h+\".200\",b),k.once(\"snap.ajax.\"+h+\".304\",b));e.onreadystatechange=function(){4==e.readyState&&k(\"snap.ajax.\"+h+\".\"+e.status,m,e)};if(4==e.readyState)return e;e.send(a);return e}};a.load=function(c,b,m){a.ajax(c,function(c){c=a.parse(c.responseText);m?b.call(m,c):b(c)})};a.getElementByPoint=function(c,a){var b,m,e=G.doc.elementFromPoint(c,a);if(G.win.opera&&\"svg\"==e.tagName){b=\n",
       "e;m=b.getBoundingClientRect();b=b.ownerDocument;var h=b.body,d=b.documentElement;b=m.top+(g.win.pageYOffset||d.scrollTop||h.scrollTop)-(d.clientTop||h.clientTop||0);m=m.left+(g.win.pageXOffset||d.scrollLeft||h.scrollLeft)-(d.clientLeft||h.clientLeft||0);h=e.createSVGRect();h.x=c-m;h.y=a-b;h.width=h.height=1;b=e.getIntersectionList(h,null);b.length&&(e=b[b.length-1])}return e?x(e):null};a.plugin=function(c){c(a,e,s,G,l)};return G.win.Snap=a}();C.plugin(function(a,k,y,M,A){function w(a,d,f,b,q,e){null==\n",
       "d&&\"[object SVGMatrix]\"==z.call(a)?(this.a=a.a,this.b=a.b,this.c=a.c,this.d=a.d,this.e=a.e,this.f=a.f):null!=a?(this.a=+a,this.b=+d,this.c=+f,this.d=+b,this.e=+q,this.f=+e):(this.a=1,this.c=this.b=0,this.d=1,this.f=this.e=0)}var z=Object.prototype.toString,d=String,f=Math;(function(n){function k(a){return a[0]*a[0]+a[1]*a[1]}function p(a){var d=f.sqrt(k(a));a[0]&&(a[0]/=d);a[1]&&(a[1]/=d)}n.add=function(a,d,e,f,n,p){var k=[[],[],[] ],u=[[this.a,this.c,this.e],[this.b,this.d,this.f],[0,0,1] ];d=[[a,\n",
       "e,n],[d,f,p],[0,0,1] ];a&&a instanceof w&&(d=[[a.a,a.c,a.e],[a.b,a.d,a.f],[0,0,1] ]);for(a=0;3>a;a++)for(e=0;3>e;e++){for(f=n=0;3>f;f++)n+=u[a][f]*d[f][e];k[a][e]=n}this.a=k[0][0];this.b=k[1][0];this.c=k[0][1];this.d=k[1][1];this.e=k[0][2];this.f=k[1][2];return this};n.invert=function(){var a=this.a*this.d-this.b*this.c;return new w(this.d/a,-this.b/a,-this.c/a,this.a/a,(this.c*this.f-this.d*this.e)/a,(this.b*this.e-this.a*this.f)/a)};n.clone=function(){return new w(this.a,this.b,this.c,this.d,this.e,\n",
       "this.f)};n.translate=function(a,d){return this.add(1,0,0,1,a,d)};n.scale=function(a,d,e,f){null==d&&(d=a);(e||f)&&this.add(1,0,0,1,e,f);this.add(a,0,0,d,0,0);(e||f)&&this.add(1,0,0,1,-e,-f);return this};n.rotate=function(b,d,e){b=a.rad(b);d=d||0;e=e||0;var l=+f.cos(b).toFixed(9);b=+f.sin(b).toFixed(9);this.add(l,b,-b,l,d,e);return this.add(1,0,0,1,-d,-e)};n.x=function(a,d){return a*this.a+d*this.c+this.e};n.y=function(a,d){return a*this.b+d*this.d+this.f};n.get=function(a){return+this[d.fromCharCode(97+\n",
       "a)].toFixed(4)};n.toString=function(){return\"matrix(\"+[this.get(0),this.get(1),this.get(2),this.get(3),this.get(4),this.get(5)].join()+\")\"};n.offset=function(){return[this.e.toFixed(4),this.f.toFixed(4)]};n.determinant=function(){return this.a*this.d-this.b*this.c};n.split=function(){var b={};b.dx=this.e;b.dy=this.f;var d=[[this.a,this.c],[this.b,this.d] ];b.scalex=f.sqrt(k(d[0]));p(d[0]);b.shear=d[0][0]*d[1][0]+d[0][1]*d[1][1];d[1]=[d[1][0]-d[0][0]*b.shear,d[1][1]-d[0][1]*b.shear];b.scaley=f.sqrt(k(d[1]));\n",
       "p(d[1]);b.shear/=b.scaley;0>this.determinant()&&(b.scalex=-b.scalex);var e=-d[0][1],d=d[1][1];0>d?(b.rotate=a.deg(f.acos(d)),0>e&&(b.rotate=360-b.rotate)):b.rotate=a.deg(f.asin(e));b.isSimple=!+b.shear.toFixed(9)&&(b.scalex.toFixed(9)==b.scaley.toFixed(9)||!b.rotate);b.isSuperSimple=!+b.shear.toFixed(9)&&b.scalex.toFixed(9)==b.scaley.toFixed(9)&&!b.rotate;b.noRotation=!+b.shear.toFixed(9)&&!b.rotate;return b};n.toTransformString=function(a){a=a||this.split();if(+a.shear.toFixed(9))return\"m\"+[this.get(0),\n",
       "this.get(1),this.get(2),this.get(3),this.get(4),this.get(5)];a.scalex=+a.scalex.toFixed(4);a.scaley=+a.scaley.toFixed(4);a.rotate=+a.rotate.toFixed(4);return(a.dx||a.dy?\"t\"+[+a.dx.toFixed(4),+a.dy.toFixed(4)]:\"\")+(1!=a.scalex||1!=a.scaley?\"s\"+[a.scalex,a.scaley,0,0]:\"\")+(a.rotate?\"r\"+[+a.rotate.toFixed(4),0,0]:\"\")}})(w.prototype);a.Matrix=w;a.matrix=function(a,d,f,b,k,e){return new w(a,d,f,b,k,e)}});C.plugin(function(a,v,y,M,A){function w(h){return function(d){k.stop();d instanceof A&&1==d.node.childNodes.length&&\n",
       "(\"radialGradient\"==d.node.firstChild.tagName||\"linearGradient\"==d.node.firstChild.tagName||\"pattern\"==d.node.firstChild.tagName)&&(d=d.node.firstChild,b(this).appendChild(d),d=u(d));if(d instanceof v)if(\"radialGradient\"==d.type||\"linearGradient\"==d.type||\"pattern\"==d.type){d.node.id||e(d.node,{id:d.id});var f=l(d.node.id)}else f=d.attr(h);else f=a.color(d),f.error?(f=a(b(this).ownerSVGElement).gradient(d))?(f.node.id||e(f.node,{id:f.id}),f=l(f.node.id)):f=d:f=r(f);d={};d[h]=f;e(this.node,d);this.node.style[h]=\n",
       "x}}function z(a){k.stop();a==+a&&(a+=\"px\");this.node.style.fontSize=a}function d(a){var b=[];a=a.childNodes;for(var e=0,f=a.length;e<f;e++){var l=a[e];3==l.nodeType&&b.push(l.nodeValue);\"tspan\"==l.tagName&&(1==l.childNodes.length&&3==l.firstChild.nodeType?b.push(l.firstChild.nodeValue):b.push(d(l)))}return b}function f(){k.stop();return this.node.style.fontSize}var n=a._.make,u=a._.wrap,p=a.is,b=a._.getSomeDefs,q=/^url\\(#?([^)]+)\\)$/,e=a._.$,l=a.url,r=String,s=a._.separator,x=\"\";k.on(\"snap.util.attr.mask\",\n",
       "function(a){if(a instanceof v||a instanceof A){k.stop();a instanceof A&&1==a.node.childNodes.length&&(a=a.node.firstChild,b(this).appendChild(a),a=u(a));if(\"mask\"==a.type)var d=a;else d=n(\"mask\",b(this)),d.node.appendChild(a.node);!d.node.id&&e(d.node,{id:d.id});e(this.node,{mask:l(d.id)})}});(function(a){k.on(\"snap.util.attr.clip\",a);k.on(\"snap.util.attr.clip-path\",a);k.on(\"snap.util.attr.clipPath\",a)})(function(a){if(a instanceof v||a instanceof A){k.stop();if(\"clipPath\"==a.type)var d=a;else d=\n",
       "n(\"clipPath\",b(this)),d.node.appendChild(a.node),!d.node.id&&e(d.node,{id:d.id});e(this.node,{\"clip-path\":l(d.id)})}});k.on(\"snap.util.attr.fill\",w(\"fill\"));k.on(\"snap.util.attr.stroke\",w(\"stroke\"));var G=/^([lr])(?:\\(([^)]*)\\))?(.*)$/i;k.on(\"snap.util.grad.parse\",function(a){a=r(a);var b=a.match(G);if(!b)return null;a=b[1];var e=b[2],b=b[3],e=e.split(/\\s*,\\s*/).map(function(a){return+a==a?+a:a});1==e.length&&0==e[0]&&(e=[]);b=b.split(\"-\");b=b.map(function(a){a=a.split(\":\");var b={color:a[0]};a[1]&&\n",
       "(b.offset=parseFloat(a[1]));return b});return{type:a,params:e,stops:b}});k.on(\"snap.util.attr.d\",function(b){k.stop();p(b,\"array\")&&p(b[0],\"array\")&&(b=a.path.toString.call(b));b=r(b);b.match(/[ruo]/i)&&(b=a.path.toAbsolute(b));e(this.node,{d:b})})(-1);k.on(\"snap.util.attr.#text\",function(a){k.stop();a=r(a);for(a=M.doc.createTextNode(a);this.node.firstChild;)this.node.removeChild(this.node.firstChild);this.node.appendChild(a)})(-1);k.on(\"snap.util.attr.path\",function(a){k.stop();this.attr({d:a})})(-1);\n",
       "k.on(\"snap.util.attr.class\",function(a){k.stop();this.node.className.baseVal=a})(-1);k.on(\"snap.util.attr.viewBox\",function(a){a=p(a,\"object\")&&\"x\"in a?[a.x,a.y,a.width,a.height].join(\" \"):p(a,\"array\")?a.join(\" \"):a;e(this.node,{viewBox:a});k.stop()})(-1);k.on(\"snap.util.attr.transform\",function(a){this.transform(a);k.stop()})(-1);k.on(\"snap.util.attr.r\",function(a){\"rect\"==this.type&&(k.stop(),e(this.node,{rx:a,ry:a}))})(-1);k.on(\"snap.util.attr.textpath\",function(a){k.stop();if(\"text\"==this.type){var d,\n",
       "f;if(!a&&this.textPath){for(a=this.textPath;a.node.firstChild;)this.node.appendChild(a.node.firstChild);a.remove();delete this.textPath}else if(p(a,\"string\")?(d=b(this),a=u(d.parentNode).path(a),d.appendChild(a.node),d=a.id,a.attr({id:d})):(a=u(a),a instanceof v&&(d=a.attr(\"id\"),d||(d=a.id,a.attr({id:d})))),d)if(a=this.textPath,f=this.node,a)a.attr({\"xlink:href\":\"#\"+d});else{for(a=e(\"textPath\",{\"xlink:href\":\"#\"+d});f.firstChild;)a.appendChild(f.firstChild);f.appendChild(a);this.textPath=u(a)}}})(-1);\n",
       "k.on(\"snap.util.attr.text\",function(a){if(\"text\"==this.type){for(var b=this.node,d=function(a){var b=e(\"tspan\");if(p(a,\"array\"))for(var f=0;f<a.length;f++)b.appendChild(d(a[f]));else b.appendChild(M.doc.createTextNode(a));b.normalize&&b.normalize();return b};b.firstChild;)b.removeChild(b.firstChild);for(a=d(a);a.firstChild;)b.appendChild(a.firstChild)}k.stop()})(-1);k.on(\"snap.util.attr.fontSize\",z)(-1);k.on(\"snap.util.attr.font-size\",z)(-1);k.on(\"snap.util.getattr.transform\",function(){k.stop();\n",
       "return this.transform()})(-1);k.on(\"snap.util.getattr.textpath\",function(){k.stop();return this.textPath})(-1);(function(){function b(d){return function(){k.stop();var b=M.doc.defaultView.getComputedStyle(this.node,null).getPropertyValue(\"marker-\"+d);return\"none\"==b?b:a(M.doc.getElementById(b.match(q)[1]))}}function d(a){return function(b){k.stop();var d=\"marker\"+a.charAt(0).toUpperCase()+a.substring(1);if(\"\"==b||!b)this.node.style[d]=\"none\";else if(\"marker\"==b.type){var f=b.node.id;f||e(b.node,{id:b.id});\n",
       "this.node.style[d]=l(f)}}}k.on(\"snap.util.getattr.marker-end\",b(\"end\"))(-1);k.on(\"snap.util.getattr.markerEnd\",b(\"end\"))(-1);k.on(\"snap.util.getattr.marker-start\",b(\"start\"))(-1);k.on(\"snap.util.getattr.markerStart\",b(\"start\"))(-1);k.on(\"snap.util.getattr.marker-mid\",b(\"mid\"))(-1);k.on(\"snap.util.getattr.markerMid\",b(\"mid\"))(-1);k.on(\"snap.util.attr.marker-end\",d(\"end\"))(-1);k.on(\"snap.util.attr.markerEnd\",d(\"end\"))(-1);k.on(\"snap.util.attr.marker-start\",d(\"start\"))(-1);k.on(\"snap.util.attr.markerStart\",\n",
       "d(\"start\"))(-1);k.on(\"snap.util.attr.marker-mid\",d(\"mid\"))(-1);k.on(\"snap.util.attr.markerMid\",d(\"mid\"))(-1)})();k.on(\"snap.util.getattr.r\",function(){if(\"rect\"==this.type&&e(this.node,\"rx\")==e(this.node,\"ry\"))return k.stop(),e(this.node,\"rx\")})(-1);k.on(\"snap.util.getattr.text\",function(){if(\"text\"==this.type||\"tspan\"==this.type){k.stop();var a=d(this.node);return 1==a.length?a[0]:a}})(-1);k.on(\"snap.util.getattr.#text\",function(){return this.node.textContent})(-1);k.on(\"snap.util.getattr.viewBox\",\n",
       "function(){k.stop();var b=e(this.node,\"viewBox\");if(b)return b=b.split(s),a._.box(+b[0],+b[1],+b[2],+b[3])})(-1);k.on(\"snap.util.getattr.points\",function(){var a=e(this.node,\"points\");k.stop();if(a)return a.split(s)})(-1);k.on(\"snap.util.getattr.path\",function(){var a=e(this.node,\"d\");k.stop();return a})(-1);k.on(\"snap.util.getattr.class\",function(){return this.node.className.baseVal})(-1);k.on(\"snap.util.getattr.fontSize\",f)(-1);k.on(\"snap.util.getattr.font-size\",f)(-1)});C.plugin(function(a,v,y,\n",
       "M,A){function w(a){return a}function z(a){return function(b){return+b.toFixed(3)+a}}var d={\"+\":function(a,b){return a+b},\"-\":function(a,b){return a-b},\"/\":function(a,b){return a/b},\"*\":function(a,b){return a*b}},f=String,n=/[a-z]+$/i,u=/^\\s*([+\\-\\/*])\\s*=\\s*([\\d.eE+\\-]+)\\s*([^\\d\\s]+)?\\s*$/;k.on(\"snap.util.attr\",function(a){if(a=f(a).match(u)){var b=k.nt(),b=b.substring(b.lastIndexOf(\".\")+1),q=this.attr(b),e={};k.stop();var l=a[3]||\"\",r=q.match(n),s=d[a[1] ];r&&r==l?a=s(parseFloat(q),+a[2]):(q=this.asPX(b),\n",
       "a=s(this.asPX(b),this.asPX(b,a[2]+l)));isNaN(q)||isNaN(a)||(e[b]=a,this.attr(e))}})(-10);k.on(\"snap.util.equal\",function(a,b){var q=f(this.attr(a)||\"\"),e=f(b).match(u);if(e){k.stop();var l=e[3]||\"\",r=q.match(n),s=d[e[1] ];if(r&&r==l)return{from:parseFloat(q),to:s(parseFloat(q),+e[2]),f:z(r)};q=this.asPX(a);return{from:q,to:s(q,this.asPX(a,e[2]+l)),f:w}}})(-10)});C.plugin(function(a,v,y,M,A){var w=y.prototype,z=a.is;w.rect=function(a,d,k,p,b,q){var e;null==q&&(q=b);z(a,\"object\")&&\"[object Object]\"==\n",
       "a?e=a:null!=a&&(e={x:a,y:d,width:k,height:p},null!=b&&(e.rx=b,e.ry=q));return this.el(\"rect\",e)};w.circle=function(a,d,k){var p;z(a,\"object\")&&\"[object Object]\"==a?p=a:null!=a&&(p={cx:a,cy:d,r:k});return this.el(\"circle\",p)};var d=function(){function a(){this.parentNode.removeChild(this)}return function(d,k){var p=M.doc.createElement(\"img\"),b=M.doc.body;p.style.cssText=\"position:absolute;left:-9999em;top:-9999em\";p.onload=function(){k.call(p);p.onload=p.onerror=null;b.removeChild(p)};p.onerror=a;\n",
       "b.appendChild(p);p.src=d}}();w.image=function(f,n,k,p,b){var q=this.el(\"image\");if(z(f,\"object\")&&\"src\"in f)q.attr(f);else if(null!=f){var e={\"xlink:href\":f,preserveAspectRatio:\"none\"};null!=n&&null!=k&&(e.x=n,e.y=k);null!=p&&null!=b?(e.width=p,e.height=b):d(f,function(){a._.$(q.node,{width:this.offsetWidth,height:this.offsetHeight})});a._.$(q.node,e)}return q};w.ellipse=function(a,d,k,p){var b;z(a,\"object\")&&\"[object Object]\"==a?b=a:null!=a&&(b={cx:a,cy:d,rx:k,ry:p});return this.el(\"ellipse\",b)};\n",
       "w.path=function(a){var d;z(a,\"object\")&&!z(a,\"array\")?d=a:a&&(d={d:a});return this.el(\"path\",d)};w.group=w.g=function(a){var d=this.el(\"g\");1==arguments.length&&a&&!a.type?d.attr(a):arguments.length&&d.add(Array.prototype.slice.call(arguments,0));return d};w.svg=function(a,d,k,p,b,q,e,l){var r={};z(a,\"object\")&&null==d?r=a:(null!=a&&(r.x=a),null!=d&&(r.y=d),null!=k&&(r.width=k),null!=p&&(r.height=p),null!=b&&null!=q&&null!=e&&null!=l&&(r.viewBox=[b,q,e,l]));return this.el(\"svg\",r)};w.mask=function(a){var d=\n",
       "this.el(\"mask\");1==arguments.length&&a&&!a.type?d.attr(a):arguments.length&&d.add(Array.prototype.slice.call(arguments,0));return d};w.ptrn=function(a,d,k,p,b,q,e,l){if(z(a,\"object\"))var r=a;else arguments.length?(r={},null!=a&&(r.x=a),null!=d&&(r.y=d),null!=k&&(r.width=k),null!=p&&(r.height=p),null!=b&&null!=q&&null!=e&&null!=l&&(r.viewBox=[b,q,e,l])):r={patternUnits:\"userSpaceOnUse\"};return this.el(\"pattern\",r)};w.use=function(a){return null!=a?(make(\"use\",this.node),a instanceof v&&(a.attr(\"id\")||\n",
       "a.attr({id:ID()}),a=a.attr(\"id\")),this.el(\"use\",{\"xlink:href\":a})):v.prototype.use.call(this)};w.text=function(a,d,k){var p={};z(a,\"object\")?p=a:null!=a&&(p={x:a,y:d,text:k||\"\"});return this.el(\"text\",p)};w.line=function(a,d,k,p){var b={};z(a,\"object\")?b=a:null!=a&&(b={x1:a,x2:k,y1:d,y2:p});return this.el(\"line\",b)};w.polyline=function(a){1<arguments.length&&(a=Array.prototype.slice.call(arguments,0));var d={};z(a,\"object\")&&!z(a,\"array\")?d=a:null!=a&&(d={points:a});return this.el(\"polyline\",d)};\n",
       "w.polygon=function(a){1<arguments.length&&(a=Array.prototype.slice.call(arguments,0));var d={};z(a,\"object\")&&!z(a,\"array\")?d=a:null!=a&&(d={points:a});return this.el(\"polygon\",d)};(function(){function d(){return this.selectAll(\"stop\")}function n(b,d){var f=e(\"stop\"),k={offset:+d+\"%\"};b=a.color(b);k[\"stop-color\"]=b.hex;1>b.opacity&&(k[\"stop-opacity\"]=b.opacity);e(f,k);this.node.appendChild(f);return this}function u(){if(\"linearGradient\"==this.type){var b=e(this.node,\"x1\")||0,d=e(this.node,\"x2\")||\n",
       "1,f=e(this.node,\"y1\")||0,k=e(this.node,\"y2\")||0;return a._.box(b,f,math.abs(d-b),math.abs(k-f))}b=this.node.r||0;return a._.box((this.node.cx||0.5)-b,(this.node.cy||0.5)-b,2*b,2*b)}function p(a,d){function f(a,b){for(var d=(b-u)/(a-w),e=w;e<a;e++)h[e].offset=+(+u+d*(e-w)).toFixed(2);w=a;u=b}var n=k(\"snap.util.grad.parse\",null,d).firstDefined(),p;if(!n)return null;n.params.unshift(a);p=\"l\"==n.type.toLowerCase()?b.apply(0,n.params):q.apply(0,n.params);n.type!=n.type.toLowerCase()&&e(p.node,{gradientUnits:\"userSpaceOnUse\"});\n",
       "var h=n.stops,n=h.length,u=0,w=0;n--;for(var v=0;v<n;v++)\"offset\"in h[v]&&f(v,h[v].offset);h[n].offset=h[n].offset||100;f(n,h[n].offset);for(v=0;v<=n;v++){var y=h[v];p.addStop(y.color,y.offset)}return p}function b(b,k,p,q,w){b=a._.make(\"linearGradient\",b);b.stops=d;b.addStop=n;b.getBBox=u;null!=k&&e(b.node,{x1:k,y1:p,x2:q,y2:w});return b}function q(b,k,p,q,w,h){b=a._.make(\"radialGradient\",b);b.stops=d;b.addStop=n;b.getBBox=u;null!=k&&e(b.node,{cx:k,cy:p,r:q});null!=w&&null!=h&&e(b.node,{fx:w,fy:h});\n",
       "return b}var e=a._.$;w.gradient=function(a){return p(this.defs,a)};w.gradientLinear=function(a,d,e,f){return b(this.defs,a,d,e,f)};w.gradientRadial=function(a,b,d,e,f){return q(this.defs,a,b,d,e,f)};w.toString=function(){var b=this.node.ownerDocument,d=b.createDocumentFragment(),b=b.createElement(\"div\"),e=this.node.cloneNode(!0);d.appendChild(b);b.appendChild(e);a._.$(e,{xmlns:\"http://www.w3.org/2000/svg\"});b=b.innerHTML;d.removeChild(d.firstChild);return b};w.clear=function(){for(var a=this.node.firstChild,\n",
       "b;a;)b=a.nextSibling,\"defs\"!=a.tagName?a.parentNode.removeChild(a):w.clear.call({node:a}),a=b}})()});C.plugin(function(a,k,y,M){function A(a){var b=A.ps=A.ps||{};b[a]?b[a].sleep=100:b[a]={sleep:100};setTimeout(function(){for(var d in b)b[L](d)&&d!=a&&(b[d].sleep--,!b[d].sleep&&delete b[d])});return b[a]}function w(a,b,d,e){null==a&&(a=b=d=e=0);null==b&&(b=a.y,d=a.width,e=a.height,a=a.x);return{x:a,y:b,width:d,w:d,height:e,h:e,x2:a+d,y2:b+e,cx:a+d/2,cy:b+e/2,r1:F.min(d,e)/2,r2:F.max(d,e)/2,r0:F.sqrt(d*\n",
       "d+e*e)/2,path:s(a,b,d,e),vb:[a,b,d,e].join(\" \")}}function z(){return this.join(\",\").replace(N,\"$1\")}function d(a){a=C(a);a.toString=z;return a}function f(a,b,d,h,f,k,l,n,p){if(null==p)return e(a,b,d,h,f,k,l,n);if(0>p||e(a,b,d,h,f,k,l,n)<p)p=void 0;else{var q=0.5,O=1-q,s;for(s=e(a,b,d,h,f,k,l,n,O);0.01<Z(s-p);)q/=2,O+=(s<p?1:-1)*q,s=e(a,b,d,h,f,k,l,n,O);p=O}return u(a,b,d,h,f,k,l,n,p)}function n(b,d){function e(a){return+(+a).toFixed(3)}return a._.cacher(function(a,h,l){a instanceof k&&(a=a.attr(\"d\"));\n",
       "a=I(a);for(var n,p,D,q,O=\"\",s={},c=0,t=0,r=a.length;t<r;t++){D=a[t];if(\"M\"==D[0])n=+D[1],p=+D[2];else{q=f(n,p,D[1],D[2],D[3],D[4],D[5],D[6]);if(c+q>h){if(d&&!s.start){n=f(n,p,D[1],D[2],D[3],D[4],D[5],D[6],h-c);O+=[\"C\"+e(n.start.x),e(n.start.y),e(n.m.x),e(n.m.y),e(n.x),e(n.y)];if(l)return O;s.start=O;O=[\"M\"+e(n.x),e(n.y)+\"C\"+e(n.n.x),e(n.n.y),e(n.end.x),e(n.end.y),e(D[5]),e(D[6])].join();c+=q;n=+D[5];p=+D[6];continue}if(!b&&!d)return n=f(n,p,D[1],D[2],D[3],D[4],D[5],D[6],h-c)}c+=q;n=+D[5];p=+D[6]}O+=\n",
       "D.shift()+D}s.end=O;return n=b?c:d?s:u(n,p,D[0],D[1],D[2],D[3],D[4],D[5],1)},null,a._.clone)}function u(a,b,d,e,h,f,k,l,n){var p=1-n,q=ma(p,3),s=ma(p,2),c=n*n,t=c*n,r=q*a+3*s*n*d+3*p*n*n*h+t*k,q=q*b+3*s*n*e+3*p*n*n*f+t*l,s=a+2*n*(d-a)+c*(h-2*d+a),t=b+2*n*(e-b)+c*(f-2*e+b),x=d+2*n*(h-d)+c*(k-2*h+d),c=e+2*n*(f-e)+c*(l-2*f+e);a=p*a+n*d;b=p*b+n*e;h=p*h+n*k;f=p*f+n*l;l=90-180*F.atan2(s-x,t-c)/S;return{x:r,y:q,m:{x:s,y:t},n:{x:x,y:c},start:{x:a,y:b},end:{x:h,y:f},alpha:l}}function p(b,d,e,h,f,n,k,l){a.is(b,\n",
       "\"array\")||(b=[b,d,e,h,f,n,k,l]);b=U.apply(null,b);return w(b.min.x,b.min.y,b.max.x-b.min.x,b.max.y-b.min.y)}function b(a,b,d){return b>=a.x&&b<=a.x+a.width&&d>=a.y&&d<=a.y+a.height}function q(a,d){a=w(a);d=w(d);return b(d,a.x,a.y)||b(d,a.x2,a.y)||b(d,a.x,a.y2)||b(d,a.x2,a.y2)||b(a,d.x,d.y)||b(a,d.x2,d.y)||b(a,d.x,d.y2)||b(a,d.x2,d.y2)||(a.x<d.x2&&a.x>d.x||d.x<a.x2&&d.x>a.x)&&(a.y<d.y2&&a.y>d.y||d.y<a.y2&&d.y>a.y)}function e(a,b,d,e,h,f,n,k,l){null==l&&(l=1);l=(1<l?1:0>l?0:l)/2;for(var p=[-0.1252,\n",
       "0.1252,-0.3678,0.3678,-0.5873,0.5873,-0.7699,0.7699,-0.9041,0.9041,-0.9816,0.9816],q=[0.2491,0.2491,0.2335,0.2335,0.2032,0.2032,0.1601,0.1601,0.1069,0.1069,0.0472,0.0472],s=0,c=0;12>c;c++)var t=l*p[c]+l,r=t*(t*(-3*a+9*d-9*h+3*n)+6*a-12*d+6*h)-3*a+3*d,t=t*(t*(-3*b+9*e-9*f+3*k)+6*b-12*e+6*f)-3*b+3*e,s=s+q[c]*F.sqrt(r*r+t*t);return l*s}function l(a,b,d){a=I(a);b=I(b);for(var h,f,l,n,k,s,r,O,x,c,t=d?0:[],w=0,v=a.length;w<v;w++)if(x=a[w],\"M\"==x[0])h=k=x[1],f=s=x[2];else{\"C\"==x[0]?(x=[h,f].concat(x.slice(1)),\n",
       "h=x[6],f=x[7]):(x=[h,f,h,f,k,s,k,s],h=k,f=s);for(var G=0,y=b.length;G<y;G++)if(c=b[G],\"M\"==c[0])l=r=c[1],n=O=c[2];else{\"C\"==c[0]?(c=[l,n].concat(c.slice(1)),l=c[6],n=c[7]):(c=[l,n,l,n,r,O,r,O],l=r,n=O);var z;var K=x,B=c;z=d;var H=p(K),J=p(B);if(q(H,J)){for(var H=e.apply(0,K),J=e.apply(0,B),H=~~(H/8),J=~~(J/8),U=[],A=[],F={},M=z?0:[],P=0;P<H+1;P++){var C=u.apply(0,K.concat(P/H));U.push({x:C.x,y:C.y,t:P/H})}for(P=0;P<J+1;P++)C=u.apply(0,B.concat(P/J)),A.push({x:C.x,y:C.y,t:P/J});for(P=0;P<H;P++)for(K=\n",
       "0;K<J;K++){var Q=U[P],L=U[P+1],B=A[K],C=A[K+1],N=0.001>Z(L.x-Q.x)?\"y\":\"x\",S=0.001>Z(C.x-B.x)?\"y\":\"x\",R;R=Q.x;var Y=Q.y,V=L.x,ea=L.y,fa=B.x,ga=B.y,ha=C.x,ia=C.y;if(W(R,V)<X(fa,ha)||X(R,V)>W(fa,ha)||W(Y,ea)<X(ga,ia)||X(Y,ea)>W(ga,ia))R=void 0;else{var $=(R*ea-Y*V)*(fa-ha)-(R-V)*(fa*ia-ga*ha),aa=(R*ea-Y*V)*(ga-ia)-(Y-ea)*(fa*ia-ga*ha),ja=(R-V)*(ga-ia)-(Y-ea)*(fa-ha);if(ja){var $=$/ja,aa=aa/ja,ja=+$.toFixed(2),ba=+aa.toFixed(2);R=ja<+X(R,V).toFixed(2)||ja>+W(R,V).toFixed(2)||ja<+X(fa,ha).toFixed(2)||\n",
       "ja>+W(fa,ha).toFixed(2)||ba<+X(Y,ea).toFixed(2)||ba>+W(Y,ea).toFixed(2)||ba<+X(ga,ia).toFixed(2)||ba>+W(ga,ia).toFixed(2)?void 0:{x:$,y:aa}}else R=void 0}R&&F[R.x.toFixed(4)]!=R.y.toFixed(4)&&(F[R.x.toFixed(4)]=R.y.toFixed(4),Q=Q.t+Z((R[N]-Q[N])/(L[N]-Q[N]))*(L.t-Q.t),B=B.t+Z((R[S]-B[S])/(C[S]-B[S]))*(C.t-B.t),0<=Q&&1>=Q&&0<=B&&1>=B&&(z?M++:M.push({x:R.x,y:R.y,t1:Q,t2:B})))}z=M}else z=z?0:[];if(d)t+=z;else{H=0;for(J=z.length;H<J;H++)z[H].segment1=w,z[H].segment2=G,z[H].bez1=x,z[H].bez2=c;t=t.concat(z)}}}return t}\n",
       "function r(a){var b=A(a);if(b.bbox)return C(b.bbox);if(!a)return w();a=I(a);for(var d=0,e=0,h=[],f=[],l,n=0,k=a.length;n<k;n++)l=a[n],\"M\"==l[0]?(d=l[1],e=l[2],h.push(d),f.push(e)):(d=U(d,e,l[1],l[2],l[3],l[4],l[5],l[6]),h=h.concat(d.min.x,d.max.x),f=f.concat(d.min.y,d.max.y),d=l[5],e=l[6]);a=X.apply(0,h);l=X.apply(0,f);h=W.apply(0,h);f=W.apply(0,f);f=w(a,l,h-a,f-l);b.bbox=C(f);return f}function s(a,b,d,e,h){if(h)return[[\"M\",+a+ +h,b],[\"l\",d-2*h,0],[\"a\",h,h,0,0,1,h,h],[\"l\",0,e-2*h],[\"a\",h,h,0,0,1,\n",
       "-h,h],[\"l\",2*h-d,0],[\"a\",h,h,0,0,1,-h,-h],[\"l\",0,2*h-e],[\"a\",h,h,0,0,1,h,-h],[\"z\"] ];a=[[\"M\",a,b],[\"l\",d,0],[\"l\",0,e],[\"l\",-d,0],[\"z\"] ];a.toString=z;return a}function x(a,b,d,e,h){null==h&&null==e&&(e=d);a=+a;b=+b;d=+d;e=+e;if(null!=h){var f=Math.PI/180,l=a+d*Math.cos(-e*f);a+=d*Math.cos(-h*f);var n=b+d*Math.sin(-e*f);b+=d*Math.sin(-h*f);d=[[\"M\",l,n],[\"A\",d,d,0,+(180<h-e),0,a,b] ]}else d=[[\"M\",a,b],[\"m\",0,-e],[\"a\",d,e,0,1,1,0,2*e],[\"a\",d,e,0,1,1,0,-2*e],[\"z\"] ];d.toString=z;return d}function G(b){var e=\n",
       "A(b);if(e.abs)return d(e.abs);Q(b,\"array\")&&Q(b&&b[0],\"array\")||(b=a.parsePathString(b));if(!b||!b.length)return[[\"M\",0,0] ];var h=[],f=0,l=0,n=0,k=0,p=0;\"M\"==b[0][0]&&(f=+b[0][1],l=+b[0][2],n=f,k=l,p++,h[0]=[\"M\",f,l]);for(var q=3==b.length&&\"M\"==b[0][0]&&\"R\"==b[1][0].toUpperCase()&&\"Z\"==b[2][0].toUpperCase(),s,r,w=p,c=b.length;w<c;w++){h.push(s=[]);r=b[w];p=r[0];if(p!=p.toUpperCase())switch(s[0]=p.toUpperCase(),s[0]){case \"A\":s[1]=r[1];s[2]=r[2];s[3]=r[3];s[4]=r[4];s[5]=r[5];s[6]=+r[6]+f;s[7]=+r[7]+\n",
       "l;break;case \"V\":s[1]=+r[1]+l;break;case \"H\":s[1]=+r[1]+f;break;case \"R\":for(var t=[f,l].concat(r.slice(1)),u=2,v=t.length;u<v;u++)t[u]=+t[u]+f,t[++u]=+t[u]+l;h.pop();h=h.concat(P(t,q));break;case \"O\":h.pop();t=x(f,l,r[1],r[2]);t.push(t[0]);h=h.concat(t);break;case \"U\":h.pop();h=h.concat(x(f,l,r[1],r[2],r[3]));s=[\"U\"].concat(h[h.length-1].slice(-2));break;case \"M\":n=+r[1]+f,k=+r[2]+l;default:for(u=1,v=r.length;u<v;u++)s[u]=+r[u]+(u%2?f:l)}else if(\"R\"==p)t=[f,l].concat(r.slice(1)),h.pop(),h=h.concat(P(t,\n",
       "q)),s=[\"R\"].concat(r.slice(-2));else if(\"O\"==p)h.pop(),t=x(f,l,r[1],r[2]),t.push(t[0]),h=h.concat(t);else if(\"U\"==p)h.pop(),h=h.concat(x(f,l,r[1],r[2],r[3])),s=[\"U\"].concat(h[h.length-1].slice(-2));else for(t=0,u=r.length;t<u;t++)s[t]=r[t];p=p.toUpperCase();if(\"O\"!=p)switch(s[0]){case \"Z\":f=+n;l=+k;break;case \"H\":f=s[1];break;case \"V\":l=s[1];break;case \"M\":n=s[s.length-2],k=s[s.length-1];default:f=s[s.length-2],l=s[s.length-1]}}h.toString=z;e.abs=d(h);return h}function h(a,b,d,e){return[a,b,d,e,d,\n",
       "e]}function J(a,b,d,e,h,f){var l=1/3,n=2/3;return[l*a+n*d,l*b+n*e,l*h+n*d,l*f+n*e,h,f]}function K(b,d,e,h,f,l,n,k,p,s){var r=120*S/180,q=S/180*(+f||0),c=[],t,x=a._.cacher(function(a,b,c){var d=a*F.cos(c)-b*F.sin(c);a=a*F.sin(c)+b*F.cos(c);return{x:d,y:a}});if(s)v=s[0],t=s[1],l=s[2],u=s[3];else{t=x(b,d,-q);b=t.x;d=t.y;t=x(k,p,-q);k=t.x;p=t.y;F.cos(S/180*f);F.sin(S/180*f);t=(b-k)/2;v=(d-p)/2;u=t*t/(e*e)+v*v/(h*h);1<u&&(u=F.sqrt(u),e*=u,h*=u);var u=e*e,w=h*h,u=(l==n?-1:1)*F.sqrt(Z((u*w-u*v*v-w*t*t)/\n",
       "(u*v*v+w*t*t)));l=u*e*v/h+(b+k)/2;var u=u*-h*t/e+(d+p)/2,v=F.asin(((d-u)/h).toFixed(9));t=F.asin(((p-u)/h).toFixed(9));v=b<l?S-v:v;t=k<l?S-t:t;0>v&&(v=2*S+v);0>t&&(t=2*S+t);n&&v>t&&(v-=2*S);!n&&t>v&&(t-=2*S)}if(Z(t-v)>r){var c=t,w=k,G=p;t=v+r*(n&&t>v?1:-1);k=l+e*F.cos(t);p=u+h*F.sin(t);c=K(k,p,e,h,f,0,n,w,G,[t,c,l,u])}l=t-v;f=F.cos(v);r=F.sin(v);n=F.cos(t);t=F.sin(t);l=F.tan(l/4);e=4/3*e*l;l*=4/3*h;h=[b,d];b=[b+e*r,d-l*f];d=[k+e*t,p-l*n];k=[k,p];b[0]=2*h[0]-b[0];b[1]=2*h[1]-b[1];if(s)return[b,d,k].concat(c);\n",
       "c=[b,d,k].concat(c).join().split(\",\");s=[];k=0;for(p=c.length;k<p;k++)s[k]=k%2?x(c[k-1],c[k],q).y:x(c[k],c[k+1],q).x;return s}function U(a,b,d,e,h,f,l,k){for(var n=[],p=[[],[] ],s,r,c,t,q=0;2>q;++q)0==q?(r=6*a-12*d+6*h,s=-3*a+9*d-9*h+3*l,c=3*d-3*a):(r=6*b-12*e+6*f,s=-3*b+9*e-9*f+3*k,c=3*e-3*b),1E-12>Z(s)?1E-12>Z(r)||(s=-c/r,0<s&&1>s&&n.push(s)):(t=r*r-4*c*s,c=F.sqrt(t),0>t||(t=(-r+c)/(2*s),0<t&&1>t&&n.push(t),s=(-r-c)/(2*s),0<s&&1>s&&n.push(s)));for(r=q=n.length;q--;)s=n[q],c=1-s,p[0][q]=c*c*c*a+3*\n",
       "c*c*s*d+3*c*s*s*h+s*s*s*l,p[1][q]=c*c*c*b+3*c*c*s*e+3*c*s*s*f+s*s*s*k;p[0][r]=a;p[1][r]=b;p[0][r+1]=l;p[1][r+1]=k;p[0].length=p[1].length=r+2;return{min:{x:X.apply(0,p[0]),y:X.apply(0,p[1])},max:{x:W.apply(0,p[0]),y:W.apply(0,p[1])}}}function I(a,b){var e=!b&&A(a);if(!b&&e.curve)return d(e.curve);var f=G(a),l=b&&G(b),n={x:0,y:0,bx:0,by:0,X:0,Y:0,qx:null,qy:null},k={x:0,y:0,bx:0,by:0,X:0,Y:0,qx:null,qy:null},p=function(a,b,c){if(!a)return[\"C\",b.x,b.y,b.x,b.y,b.x,b.y];a[0]in{T:1,Q:1}||(b.qx=b.qy=null);\n",
       "switch(a[0]){case \"M\":b.X=a[1];b.Y=a[2];break;case \"A\":a=[\"C\"].concat(K.apply(0,[b.x,b.y].concat(a.slice(1))));break;case \"S\":\"C\"==c||\"S\"==c?(c=2*b.x-b.bx,b=2*b.y-b.by):(c=b.x,b=b.y);a=[\"C\",c,b].concat(a.slice(1));break;case \"T\":\"Q\"==c||\"T\"==c?(b.qx=2*b.x-b.qx,b.qy=2*b.y-b.qy):(b.qx=b.x,b.qy=b.y);a=[\"C\"].concat(J(b.x,b.y,b.qx,b.qy,a[1],a[2]));break;case \"Q\":b.qx=a[1];b.qy=a[2];a=[\"C\"].concat(J(b.x,b.y,a[1],a[2],a[3],a[4]));break;case \"L\":a=[\"C\"].concat(h(b.x,b.y,a[1],a[2]));break;case \"H\":a=[\"C\"].concat(h(b.x,\n",
       "b.y,a[1],b.y));break;case \"V\":a=[\"C\"].concat(h(b.x,b.y,b.x,a[1]));break;case \"Z\":a=[\"C\"].concat(h(b.x,b.y,b.X,b.Y))}return a},s=function(a,b){if(7<a[b].length){a[b].shift();for(var c=a[b];c.length;)q[b]=\"A\",l&&(u[b]=\"A\"),a.splice(b++,0,[\"C\"].concat(c.splice(0,6)));a.splice(b,1);v=W(f.length,l&&l.length||0)}},r=function(a,b,c,d,e){a&&b&&\"M\"==a[e][0]&&\"M\"!=b[e][0]&&(b.splice(e,0,[\"M\",d.x,d.y]),c.bx=0,c.by=0,c.x=a[e][1],c.y=a[e][2],v=W(f.length,l&&l.length||0))},q=[],u=[],c=\"\",t=\"\",x=0,v=W(f.length,\n",
       "l&&l.length||0);for(;x<v;x++){f[x]&&(c=f[x][0]);\"C\"!=c&&(q[x]=c,x&&(t=q[x-1]));f[x]=p(f[x],n,t);\"A\"!=q[x]&&\"C\"==c&&(q[x]=\"C\");s(f,x);l&&(l[x]&&(c=l[x][0]),\"C\"!=c&&(u[x]=c,x&&(t=u[x-1])),l[x]=p(l[x],k,t),\"A\"!=u[x]&&\"C\"==c&&(u[x]=\"C\"),s(l,x));r(f,l,n,k,x);r(l,f,k,n,x);var w=f[x],z=l&&l[x],y=w.length,U=l&&z.length;n.x=w[y-2];n.y=w[y-1];n.bx=$(w[y-4])||n.x;n.by=$(w[y-3])||n.y;k.bx=l&&($(z[U-4])||k.x);k.by=l&&($(z[U-3])||k.y);k.x=l&&z[U-2];k.y=l&&z[U-1]}l||(e.curve=d(f));return l?[f,l]:f}function P(a,\n",
       "b){for(var d=[],e=0,h=a.length;h-2*!b>e;e+=2){var f=[{x:+a[e-2],y:+a[e-1]},{x:+a[e],y:+a[e+1]},{x:+a[e+2],y:+a[e+3]},{x:+a[e+4],y:+a[e+5]}];b?e?h-4==e?f[3]={x:+a[0],y:+a[1]}:h-2==e&&(f[2]={x:+a[0],y:+a[1]},f[3]={x:+a[2],y:+a[3]}):f[0]={x:+a[h-2],y:+a[h-1]}:h-4==e?f[3]=f[2]:e||(f[0]={x:+a[e],y:+a[e+1]});d.push([\"C\",(-f[0].x+6*f[1].x+f[2].x)/6,(-f[0].y+6*f[1].y+f[2].y)/6,(f[1].x+6*f[2].x-f[3].x)/6,(f[1].y+6*f[2].y-f[3].y)/6,f[2].x,f[2].y])}return d}y=k.prototype;var Q=a.is,C=a._.clone,L=\"hasOwnProperty\",\n",
       "N=/,?([a-z]),?/gi,$=parseFloat,F=Math,S=F.PI,X=F.min,W=F.max,ma=F.pow,Z=F.abs;M=n(1);var na=n(),ba=n(0,1),V=a._unit2px;a.path=A;a.path.getTotalLength=M;a.path.getPointAtLength=na;a.path.getSubpath=function(a,b,d){if(1E-6>this.getTotalLength(a)-d)return ba(a,b).end;a=ba(a,d,1);return b?ba(a,b).end:a};y.getTotalLength=function(){if(this.node.getTotalLength)return this.node.getTotalLength()};y.getPointAtLength=function(a){return na(this.attr(\"d\"),a)};y.getSubpath=function(b,d){return a.path.getSubpath(this.attr(\"d\"),\n",
       "b,d)};a._.box=w;a.path.findDotsAtSegment=u;a.path.bezierBBox=p;a.path.isPointInsideBBox=b;a.path.isBBoxIntersect=q;a.path.intersection=function(a,b){return l(a,b)};a.path.intersectionNumber=function(a,b){return l(a,b,1)};a.path.isPointInside=function(a,d,e){var h=r(a);return b(h,d,e)&&1==l(a,[[\"M\",d,e],[\"H\",h.x2+10] ],1)%2};a.path.getBBox=r;a.path.get={path:function(a){return a.attr(\"path\")},circle:function(a){a=V(a);return x(a.cx,a.cy,a.r)},ellipse:function(a){a=V(a);return x(a.cx||0,a.cy||0,a.rx,\n",
       "a.ry)},rect:function(a){a=V(a);return s(a.x||0,a.y||0,a.width,a.height,a.rx,a.ry)},image:function(a){a=V(a);return s(a.x||0,a.y||0,a.width,a.height)},line:function(a){return\"M\"+[a.attr(\"x1\")||0,a.attr(\"y1\")||0,a.attr(\"x2\"),a.attr(\"y2\")]},polyline:function(a){return\"M\"+a.attr(\"points\")},polygon:function(a){return\"M\"+a.attr(\"points\")+\"z\"},deflt:function(a){a=a.node.getBBox();return s(a.x,a.y,a.width,a.height)}};a.path.toRelative=function(b){var e=A(b),h=String.prototype.toLowerCase;if(e.rel)return d(e.rel);\n",
       "a.is(b,\"array\")&&a.is(b&&b[0],\"array\")||(b=a.parsePathString(b));var f=[],l=0,n=0,k=0,p=0,s=0;\"M\"==b[0][0]&&(l=b[0][1],n=b[0][2],k=l,p=n,s++,f.push([\"M\",l,n]));for(var r=b.length;s<r;s++){var q=f[s]=[],x=b[s];if(x[0]!=h.call(x[0]))switch(q[0]=h.call(x[0]),q[0]){case \"a\":q[1]=x[1];q[2]=x[2];q[3]=x[3];q[4]=x[4];q[5]=x[5];q[6]=+(x[6]-l).toFixed(3);q[7]=+(x[7]-n).toFixed(3);break;case \"v\":q[1]=+(x[1]-n).toFixed(3);break;case \"m\":k=x[1],p=x[2];default:for(var c=1,t=x.length;c<t;c++)q[c]=+(x[c]-(c%2?l:\n",
       "n)).toFixed(3)}else for(f[s]=[],\"m\"==x[0]&&(k=x[1]+l,p=x[2]+n),q=0,c=x.length;q<c;q++)f[s][q]=x[q];x=f[s].length;switch(f[s][0]){case \"z\":l=k;n=p;break;case \"h\":l+=+f[s][x-1];break;case \"v\":n+=+f[s][x-1];break;default:l+=+f[s][x-2],n+=+f[s][x-1]}}f.toString=z;e.rel=d(f);return f};a.path.toAbsolute=G;a.path.toCubic=I;a.path.map=function(a,b){if(!b)return a;var d,e,h,f,l,n,k;a=I(a);h=0;for(l=a.length;h<l;h++)for(k=a[h],f=1,n=k.length;f<n;f+=2)d=b.x(k[f],k[f+1]),e=b.y(k[f],k[f+1]),k[f]=d,k[f+1]=e;return a};\n",
       "a.path.toString=z;a.path.clone=d});C.plugin(function(a,v,y,C){var A=Math.max,w=Math.min,z=function(a){this.items=[];this.bindings={};this.length=0;this.type=\"set\";if(a)for(var f=0,n=a.length;f<n;f++)a[f]&&(this[this.items.length]=this.items[this.items.length]=a[f],this.length++)};v=z.prototype;v.push=function(){for(var a,f,n=0,k=arguments.length;n<k;n++)if(a=arguments[n])f=this.items.length,this[f]=this.items[f]=a,this.length++;return this};v.pop=function(){this.length&&delete this[this.length--];\n",
       "return this.items.pop()};v.forEach=function(a,f){for(var n=0,k=this.items.length;n<k&&!1!==a.call(f,this.items[n],n);n++);return this};v.animate=function(d,f,n,u){\"function\"!=typeof n||n.length||(u=n,n=L.linear);d instanceof a._.Animation&&(u=d.callback,n=d.easing,f=n.dur,d=d.attr);var p=arguments;if(a.is(d,\"array\")&&a.is(p[p.length-1],\"array\"))var b=!0;var q,e=function(){q?this.b=q:q=this.b},l=0,r=u&&function(){l++==this.length&&u.call(this)};return this.forEach(function(a,l){k.once(\"snap.animcreated.\"+\n",
       "a.id,e);b?p[l]&&a.animate.apply(a,p[l]):a.animate(d,f,n,r)})};v.remove=function(){for(;this.length;)this.pop().remove();return this};v.bind=function(a,f,k){var u={};if(\"function\"==typeof f)this.bindings[a]=f;else{var p=k||a;this.bindings[a]=function(a){u[p]=a;f.attr(u)}}return this};v.attr=function(a){var f={},k;for(k in a)if(this.bindings[k])this.bindings[k](a[k]);else f[k]=a[k];a=0;for(k=this.items.length;a<k;a++)this.items[a].attr(f);return this};v.clear=function(){for(;this.length;)this.pop()};\n",
       "v.splice=function(a,f,k){a=0>a?A(this.length+a,0):a;f=A(0,w(this.length-a,f));var u=[],p=[],b=[],q;for(q=2;q<arguments.length;q++)b.push(arguments[q]);for(q=0;q<f;q++)p.push(this[a+q]);for(;q<this.length-a;q++)u.push(this[a+q]);var e=b.length;for(q=0;q<e+u.length;q++)this.items[a+q]=this[a+q]=q<e?b[q]:u[q-e];for(q=this.items.length=this.length-=f-e;this[q];)delete this[q++];return new z(p)};v.exclude=function(a){for(var f=0,k=this.length;f<k;f++)if(this[f]==a)return this.splice(f,1),!0;return!1};\n",
       "v.insertAfter=function(a){for(var f=this.items.length;f--;)this.items[f].insertAfter(a);return this};v.getBBox=function(){for(var a=[],f=[],k=[],u=[],p=this.items.length;p--;)if(!this.items[p].removed){var b=this.items[p].getBBox();a.push(b.x);f.push(b.y);k.push(b.x+b.width);u.push(b.y+b.height)}a=w.apply(0,a);f=w.apply(0,f);k=A.apply(0,k);u=A.apply(0,u);return{x:a,y:f,x2:k,y2:u,width:k-a,height:u-f,cx:a+(k-a)/2,cy:f+(u-f)/2}};v.clone=function(a){a=new z;for(var f=0,k=this.items.length;f<k;f++)a.push(this.items[f].clone());\n",
       "return a};v.toString=function(){return\"Snap\\u2018s set\"};v.type=\"set\";a.set=function(){var a=new z;arguments.length&&a.push.apply(a,Array.prototype.slice.call(arguments,0));return a}});C.plugin(function(a,v,y,C){function A(a){var b=a[0];switch(b.toLowerCase()){case \"t\":return[b,0,0];case \"m\":return[b,1,0,0,1,0,0];case \"r\":return 4==a.length?[b,0,a[2],a[3] ]:[b,0];case \"s\":return 5==a.length?[b,1,1,a[3],a[4] ]:3==a.length?[b,1,1]:[b,1]}}function w(b,d,f){d=q(d).replace(/\\.{3}|\\u2026/g,b);b=a.parseTransformString(b)||\n",
       "[];d=a.parseTransformString(d)||[];for(var k=Math.max(b.length,d.length),p=[],v=[],h=0,w,z,y,I;h<k;h++){y=b[h]||A(d[h]);I=d[h]||A(y);if(y[0]!=I[0]||\"r\"==y[0].toLowerCase()&&(y[2]!=I[2]||y[3]!=I[3])||\"s\"==y[0].toLowerCase()&&(y[3]!=I[3]||y[4]!=I[4])){b=a._.transform2matrix(b,f());d=a._.transform2matrix(d,f());p=[[\"m\",b.a,b.b,b.c,b.d,b.e,b.f] ];v=[[\"m\",d.a,d.b,d.c,d.d,d.e,d.f] ];break}p[h]=[];v[h]=[];w=0;for(z=Math.max(y.length,I.length);w<z;w++)w in y&&(p[h][w]=y[w]),w in I&&(v[h][w]=I[w])}return{from:u(p),\n",
       "to:u(v),f:n(p)}}function z(a){return a}function d(a){return function(b){return+b.toFixed(3)+a}}function f(b){return a.rgb(b[0],b[1],b[2])}function n(a){var b=0,d,f,k,n,h,p,q=[];d=0;for(f=a.length;d<f;d++){h=\"[\";p=['\"'+a[d][0]+'\"'];k=1;for(n=a[d].length;k<n;k++)p[k]=\"val[\"+b++ +\"]\";h+=p+\"]\";q[d]=h}return Function(\"val\",\"return Snap.path.toString.call([\"+q+\"])\")}function u(a){for(var b=[],d=0,f=a.length;d<f;d++)for(var k=1,n=a[d].length;k<n;k++)b.push(a[d][k]);return b}var p={},b=/[a-z]+$/i,q=String;\n",
       "p.stroke=p.fill=\"colour\";v.prototype.equal=function(a,b){return k(\"snap.util.equal\",this,a,b).firstDefined()};k.on(\"snap.util.equal\",function(e,k){var r,s;r=q(this.attr(e)||\"\");var x=this;if(r==+r&&k==+k)return{from:+r,to:+k,f:z};if(\"colour\"==p[e])return r=a.color(r),s=a.color(k),{from:[r.r,r.g,r.b,r.opacity],to:[s.r,s.g,s.b,s.opacity],f:f};if(\"transform\"==e||\"gradientTransform\"==e||\"patternTransform\"==e)return k instanceof a.Matrix&&(k=k.toTransformString()),a._.rgTransform.test(k)||(k=a._.svgTransform2string(k)),\n",
       "w(r,k,function(){return x.getBBox(1)});if(\"d\"==e||\"path\"==e)return r=a.path.toCubic(r,k),{from:u(r[0]),to:u(r[1]),f:n(r[0])};if(\"points\"==e)return r=q(r).split(a._.separator),s=q(k).split(a._.separator),{from:r,to:s,f:function(a){return a}};aUnit=r.match(b);s=q(k).match(b);return aUnit&&aUnit==s?{from:parseFloat(r),to:parseFloat(k),f:d(aUnit)}:{from:this.asPX(e),to:this.asPX(e,k),f:z}})});C.plugin(function(a,v,y,C){var A=v.prototype,w=\"createTouch\"in C.doc;v=\"click dblclick mousedown mousemove mouseout mouseover mouseup touchstart touchmove touchend touchcancel\".split(\" \");\n",
       "var z={mousedown:\"touchstart\",mousemove:\"touchmove\",mouseup:\"touchend\"},d=function(a,b){var d=\"y\"==a?\"scrollTop\":\"scrollLeft\",e=b&&b.node?b.node.ownerDocument:C.doc;return e[d in e.documentElement?\"documentElement\":\"body\"][d]},f=function(){this.returnValue=!1},n=function(){return this.originalEvent.preventDefault()},u=function(){this.cancelBubble=!0},p=function(){return this.originalEvent.stopPropagation()},b=function(){if(C.doc.addEventListener)return function(a,b,e,f){var k=w&&z[b]?z[b]:b,l=function(k){var l=\n",
       "d(\"y\",f),q=d(\"x\",f);if(w&&z.hasOwnProperty(b))for(var r=0,u=k.targetTouches&&k.targetTouches.length;r<u;r++)if(k.targetTouches[r].target==a||a.contains(k.targetTouches[r].target)){u=k;k=k.targetTouches[r];k.originalEvent=u;k.preventDefault=n;k.stopPropagation=p;break}return e.call(f,k,k.clientX+q,k.clientY+l)};b!==k&&a.addEventListener(b,l,!1);a.addEventListener(k,l,!1);return function(){b!==k&&a.removeEventListener(b,l,!1);a.removeEventListener(k,l,!1);return!0}};if(C.doc.attachEvent)return function(a,\n",
       "b,e,h){var k=function(a){a=a||h.node.ownerDocument.window.event;var b=d(\"y\",h),k=d(\"x\",h),k=a.clientX+k,b=a.clientY+b;a.preventDefault=a.preventDefault||f;a.stopPropagation=a.stopPropagation||u;return e.call(h,a,k,b)};a.attachEvent(\"on\"+b,k);return function(){a.detachEvent(\"on\"+b,k);return!0}}}(),q=[],e=function(a){for(var b=a.clientX,e=a.clientY,f=d(\"y\"),l=d(\"x\"),n,p=q.length;p--;){n=q[p];if(w)for(var r=a.touches&&a.touches.length,u;r--;){if(u=a.touches[r],u.identifier==n.el._drag.id||n.el.node.contains(u.target)){b=\n",
       "u.clientX;e=u.clientY;(a.originalEvent?a.originalEvent:a).preventDefault();break}}else a.preventDefault();b+=l;e+=f;k(\"snap.drag.move.\"+n.el.id,n.move_scope||n.el,b-n.el._drag.x,e-n.el._drag.y,b,e,a)}},l=function(b){a.unmousemove(e).unmouseup(l);for(var d=q.length,f;d--;)f=q[d],f.el._drag={},k(\"snap.drag.end.\"+f.el.id,f.end_scope||f.start_scope||f.move_scope||f.el,b);q=[]};for(y=v.length;y--;)(function(d){a[d]=A[d]=function(e,f){a.is(e,\"function\")&&(this.events=this.events||[],this.events.push({name:d,\n",
       "f:e,unbind:b(this.node||document,d,e,f||this)}));return this};a[\"un\"+d]=A[\"un\"+d]=function(a){for(var b=this.events||[],e=b.length;e--;)if(b[e].name==d&&(b[e].f==a||!a)){b[e].unbind();b.splice(e,1);!b.length&&delete this.events;break}return this}})(v[y]);A.hover=function(a,b,d,e){return this.mouseover(a,d).mouseout(b,e||d)};A.unhover=function(a,b){return this.unmouseover(a).unmouseout(b)};var r=[];A.drag=function(b,d,f,h,n,p){function u(r,v,w){(r.originalEvent||r).preventDefault();this._drag.x=v;\n",
       "this._drag.y=w;this._drag.id=r.identifier;!q.length&&a.mousemove(e).mouseup(l);q.push({el:this,move_scope:h,start_scope:n,end_scope:p});d&&k.on(\"snap.drag.start.\"+this.id,d);b&&k.on(\"snap.drag.move.\"+this.id,b);f&&k.on(\"snap.drag.end.\"+this.id,f);k(\"snap.drag.start.\"+this.id,n||h||this,v,w,r)}if(!arguments.length){var v;return this.drag(function(a,b){this.attr({transform:v+(v?\"T\":\"t\")+[a,b]})},function(){v=this.transform().local})}this._drag={};r.push({el:this,start:u});this.mousedown(u);return this};\n",
       "A.undrag=function(){for(var b=r.length;b--;)r[b].el==this&&(this.unmousedown(r[b].start),r.splice(b,1),k.unbind(\"snap.drag.*.\"+this.id));!r.length&&a.unmousemove(e).unmouseup(l);return this}});C.plugin(function(a,v,y,C){y=y.prototype;var A=/^\\s*url\\((.+)\\)/,w=String,z=a._.$;a.filter={};y.filter=function(d){var f=this;\"svg\"!=f.type&&(f=f.paper);d=a.parse(w(d));var k=a._.id(),u=z(\"filter\");z(u,{id:k,filterUnits:\"userSpaceOnUse\"});u.appendChild(d.node);f.defs.appendChild(u);return new v(u)};k.on(\"snap.util.getattr.filter\",\n",
       "function(){k.stop();var d=z(this.node,\"filter\");if(d)return(d=w(d).match(A))&&a.select(d[1])});k.on(\"snap.util.attr.filter\",function(d){if(d instanceof v&&\"filter\"==d.type){k.stop();var f=d.node.id;f||(z(d.node,{id:d.id}),f=d.id);z(this.node,{filter:a.url(f)})}d&&\"none\"!=d||(k.stop(),this.node.removeAttribute(\"filter\"))});a.filter.blur=function(d,f){null==d&&(d=2);return a.format('<feGaussianBlur stdDeviation=\"{def}\"/>',{def:null==f?d:[d,f]})};a.filter.blur.toString=function(){return this()};a.filter.shadow=\n",
       "function(d,f,k,u,p){\"string\"==typeof k&&(p=u=k,k=4);\"string\"!=typeof u&&(p=u,u=\"#000\");null==k&&(k=4);null==p&&(p=1);null==d&&(d=0,f=2);null==f&&(f=d);u=a.color(u||\"#000\");return a.format('<feGaussianBlur in=\"SourceAlpha\" stdDeviation=\"{blur}\"/><feOffset dx=\"{dx}\" dy=\"{dy}\" result=\"offsetblur\"/><feFlood flood-color=\"{color}\"/><feComposite in2=\"offsetblur\" operator=\"in\"/><feComponentTransfer><feFuncA type=\"linear\" slope=\"{opacity}\"/></feComponentTransfer><feMerge><feMergeNode/><feMergeNode in=\"SourceGraphic\"/></feMerge>',\n",
       "{color:u,dx:d,dy:f,blur:k,opacity:p})};a.filter.shadow.toString=function(){return this()};a.filter.grayscale=function(d){null==d&&(d=1);return a.format('<feColorMatrix type=\"matrix\" values=\"{a} {b} {c} 0 0 {d} {e} {f} 0 0 {g} {b} {h} 0 0 0 0 0 1 0\"/>',{a:0.2126+0.7874*(1-d),b:0.7152-0.7152*(1-d),c:0.0722-0.0722*(1-d),d:0.2126-0.2126*(1-d),e:0.7152+0.2848*(1-d),f:0.0722-0.0722*(1-d),g:0.2126-0.2126*(1-d),h:0.0722+0.9278*(1-d)})};a.filter.grayscale.toString=function(){return this()};a.filter.sepia=\n",
       "function(d){null==d&&(d=1);return a.format('<feColorMatrix type=\"matrix\" values=\"{a} {b} {c} 0 0 {d} {e} {f} 0 0 {g} {h} {i} 0 0 0 0 0 1 0\"/>',{a:0.393+0.607*(1-d),b:0.769-0.769*(1-d),c:0.189-0.189*(1-d),d:0.349-0.349*(1-d),e:0.686+0.314*(1-d),f:0.168-0.168*(1-d),g:0.272-0.272*(1-d),h:0.534-0.534*(1-d),i:0.131+0.869*(1-d)})};a.filter.sepia.toString=function(){return this()};a.filter.saturate=function(d){null==d&&(d=1);return a.format('<feColorMatrix type=\"saturate\" values=\"{amount}\"/>',{amount:1-\n",
       "d})};a.filter.saturate.toString=function(){return this()};a.filter.hueRotate=function(d){return a.format('<feColorMatrix type=\"hueRotate\" values=\"{angle}\"/>',{angle:d||0})};a.filter.hueRotate.toString=function(){return this()};a.filter.invert=function(d){null==d&&(d=1);return a.format('<feComponentTransfer><feFuncR type=\"table\" tableValues=\"{amount} {amount2}\"/><feFuncG type=\"table\" tableValues=\"{amount} {amount2}\"/><feFuncB type=\"table\" tableValues=\"{amount} {amount2}\"/></feComponentTransfer>',{amount:d,\n",
       "amount2:1-d})};a.filter.invert.toString=function(){return this()};a.filter.brightness=function(d){null==d&&(d=1);return a.format('<feComponentTransfer><feFuncR type=\"linear\" slope=\"{amount}\"/><feFuncG type=\"linear\" slope=\"{amount}\"/><feFuncB type=\"linear\" slope=\"{amount}\"/></feComponentTransfer>',{amount:d})};a.filter.brightness.toString=function(){return this()};a.filter.contrast=function(d){null==d&&(d=1);return a.format('<feComponentTransfer><feFuncR type=\"linear\" slope=\"{amount}\" intercept=\"{amount2}\"/><feFuncG type=\"linear\" slope=\"{amount}\" intercept=\"{amount2}\"/><feFuncB type=\"linear\" slope=\"{amount}\" intercept=\"{amount2}\"/></feComponentTransfer>',\n",
       "{amount:d,amount2:0.5-d/2})};a.filter.contrast.toString=function(){return this()}});return C});\n",
       "\n",
       "]]> </script>\n",
       "</svg>\n"
      ],
      "text/plain": [
       "Compose.Context(BBox{l,t,r,b,w,h = 0.0w,0.0h, 1.0w,1.0h, 1.0w,1.0h}, Compose.UnitBox{Float64,Float64,Float64,Float64}(-1.2, -1.2, 2.4, 2.4, 0.0mm, 0.0mm, 0.0mm, 0.0mm), nothing, nothing, nothing, List([Compose.Context(BBox{l,t,r,b,w,h = 0.0w,0.0h, 1.0w,1.0h, 1.0w,1.0h}, nothing, nothing, nothing, nothing, List([]), List([Compose.Form{Compose.LinePrimitive}(Compose.LinePrimitive[Compose.LinePrimitive{Tuple{Measures.Measure,Measures.Measure}}(Tuple{Measures.Measure,Measures.Measure}[(0.5942870636105464cx, -0.015004742576444671cy), (0.4991901601465527cx, 0.9443709247069594cy)]), Compose.LinePrimitive{Tuple{Measures.Measure,Measures.Measure}}(Tuple{Measures.Measure,Measures.Measure}[(0.5544663125853407cx, -0.03792685125255953cy), (0.2392936878272665cx, 0.1894550899357354cy)]), Compose.LinePrimitive{Tuple{Measures.Measure,Measures.Measure}}(Tuple{Measures.Measure,Measures.Measure}[(0.4735764015199669cx, 0.9478367350183163cy), (0.21405837152313584cx, 0.27432532153434486cy)]), Compose.LinePrimitive{Tuple{Measures.Measure,Measures.Measure}}(Tuple{Measures.Measure,Measures.Measure}[(0.5686271352965889cx, -0.024231489306763013cy), (0.13824543301655423cx, 0.6163874665543551cy)]), Compose.LinePrimitive{Tuple{Measures.Measure,Measures.Measure}}(Tuple{Measures.Measure,Measures.Measure}[(0.45154801223211943cx, 0.9632544860042389cy), (0.14919932871151917cx, 0.6995353091128385cy)]), Compose.LinePrimitive{Tuple{Measures.Measure,Measures.Measure}}(Tuple{Measures.Measure,Measures.Measure}[(0.18314377237211515cx, 0.2770076190114269cy), (0.1178863452270316cx, 0.6079442326583117cy)]), Compose.LinePrimitive{Tuple{Measures.Measure,Measures.Measure}}(Tuple{Measures.Measure,Measures.Measure}[(0.5441294740099597cx, -0.06556863485374421cy), (-0.50182983055761cx, 0.029595881383467363cy)]), Compose.LinePrimitive{Tuple{Measures.Measure,Measures.Measure}}(Tuple{Measures.Measure,Measures.Measure}[(0.45250217487369104cx, 0.9621884108611569cy), (-0.5163277587908459cx, 0.07247265353805152cy)]), Compose.LinePrimitive{Tuple{Measures.Measure,Measures.Measure}}(Tuple{Measures.Measure,Measures.Measure}[(0.13971998256551768cx, 0.20862863822630615cy), (-0.5032627898271643cx, 0.048194482725563495cy)]), Compose.LinePrimitive{Tuple{Measures.Measure,Measures.Measure}}(Tuple{Measures.Measure,Measures.Measure}[(0.0664446166136563cx, 0.6243909784236502cy), (-0.5168748559747671cx, 0.07305988109263564cy)])  …  Compose.LinePrimitive{Tuple{Measures.Measure,Measures.Measure}}(Tuple{Measures.Measure,Measures.Measure}[(0.3754201645940992cx, -0.4957827528658385cy), (0.9467450691306069cx, -0.31343249787834876cy)]), Compose.LinePrimitive{Tuple{Measures.Measure,Measures.Measure}}(Tuple{Measures.Measure,Measures.Measure}[(0.7826829198714208cx, -0.6720622479206821cy), (0.9720058178849434cx, -0.3448223243517059cy)]), Compose.LinePrimitive{Tuple{Measures.Measure,Measures.Measure}}(Tuple{Measures.Measure,Measures.Measure}[(0.6895290663203296cx, 0.4843683733970491cy), (0.9793448006891307cx, -0.24448930905515057cy)]), Compose.LinePrimitive{Tuple{Measures.Measure,Measures.Measure}}(Tuple{Measures.Measure,Measures.Measure}[(0.9932160188288047cx, 0.1815531848723395cy), (0.9992066794998037cx, -0.24053900635499603cy)]), Compose.LinePrimitive{Tuple{Measures.Measure,Measures.Measure}}(Tuple{Measures.Measure,Measures.Measure}[(-0.5558772863776866cx, -0.9775811224605453cy), (0.9487906851259369cx, -0.31885395390463983cy)]), Compose.LinePrimitive{Tuple{Measures.Measure,Measures.Measure}}(Tuple{Measures.Measure,Measures.Measure}[(-0.215070055699843cx, 0.8995459700163717cy), (0.9601598192212291cx, -0.25722079331022096cy)]), Compose.LinePrimitive{Tuple{Measures.Measure,Measures.Measure}}(Tuple{Measures.Measure,Measures.Measure}[(-0.029974014493404824cx, -0.20687743910075274cy), (0.9443084332436444cx, -0.2915926191147401cy)]), Compose.LinePrimitive{Tuple{Measures.Measure,Measures.Measure}}(Tuple{Measures.Measure,Measures.Measure}[(-0.07148772724839915cx, -0.8607825226450675cy), (0.9505393040770144cx, -0.3224857876570857cy)]), Compose.LinePrimitive{Tuple{Measures.Measure,Measures.Measure}}(Tuple{Measures.Measure,Measures.Measure}[(0.3429024417708245cx, -0.9275677566524566cy), (0.959683002998225cx, -0.33515896760507563cy)]), Compose.LinePrimitive{Tuple{Measures.Measure,Measures.Measure}}(Tuple{Measures.Measure,Measures.Measure}[(-0.3390996282967827cx, 0.4812785678558253cy), (0.9516595235038895cx, -0.2683602062474271cy)])], Symbol(\"\"))]), List([Compose.Property{Compose.LineWidthPrimitive}(Compose.LineWidthPrimitive[Compose.LineWidthPrimitive(0.2439346884545225mm), Compose.LineWidthPrimitive(0.487869376909045mm), Compose.LineWidthPrimitive(0.30491836056815314mm), Compose.LineWidthPrimitive(0.487869376909045mm), Compose.LineWidthPrimitive(0.30491836056815314mm), Compose.LineWidthPrimitive(0.4268857047954144mm), Compose.LineWidthPrimitive(0.4268857047954144mm), Compose.LineWidthPrimitive(0.4268857047954144mm), Compose.LineWidthPrimitive(0.30491836056815314mm), Compose.LineWidthPrimitive(0.4268857047954144mm)  …  Compose.LineWidthPrimitive(0.4268857047954144mm), Compose.LineWidthPrimitive(0.1829510163408919mm), Compose.LineWidthPrimitive(0.4268857047954144mm), Compose.LineWidthPrimitive(0.5488530490226756mm), Compose.LineWidthPrimitive(0.30491836056815314mm), Compose.LineWidthPrimitive(0.3659020326817838mm), Compose.LineWidthPrimitive(0.487869376909045mm), Compose.LineWidthPrimitive(0.12196734422726126mm), Compose.LineWidthPrimitive(0.1829510163408919mm), Compose.LineWidthPrimitive(0.4268857047954144mm)]), Compose.Property{Compose.FillPrimitive}(Compose.FillPrimitive[Compose.FillPrimitive(RGBA{Float64}(0.0,0.0,0.0,0.0))]), Compose.Property{Compose.StrokePrimitive}(Compose.StrokePrimitive[Compose.StrokePrimitive(RGBA{Float64}(0.8274509803921568,0.8274509803921568,0.8274509803921568,1.0))])]), 0, false, false, false, false, nothing, nothing, 0.0, Symbol(\"\")), Compose.Context(BBox{l,t,r,b,w,h = 0.0w,0.0h, 1.0w,1.0h, 1.0w,1.0h}, nothing, nothing, nothing, nothing, List([]), List([]), List([Compose.Property{Compose.LineWidthPrimitive}(Compose.LineWidthPrimitive[Compose.LineWidthPrimitive(0.2439346884545225mm), Compose.LineWidthPrimitive(0.487869376909045mm), Compose.LineWidthPrimitive(0.30491836056815314mm), Compose.LineWidthPrimitive(0.487869376909045mm), Compose.LineWidthPrimitive(0.30491836056815314mm), Compose.LineWidthPrimitive(0.4268857047954144mm), Compose.LineWidthPrimitive(0.4268857047954144mm), Compose.LineWidthPrimitive(0.4268857047954144mm), Compose.LineWidthPrimitive(0.30491836056815314mm), Compose.LineWidthPrimitive(0.4268857047954144mm)  …  Compose.LineWidthPrimitive(0.4268857047954144mm), Compose.LineWidthPrimitive(0.1829510163408919mm), Compose.LineWidthPrimitive(0.4268857047954144mm), Compose.LineWidthPrimitive(0.5488530490226756mm), Compose.LineWidthPrimitive(0.30491836056815314mm), Compose.LineWidthPrimitive(0.3659020326817838mm), Compose.LineWidthPrimitive(0.487869376909045mm), Compose.LineWidthPrimitive(0.12196734422726126mm), Compose.LineWidthPrimitive(0.1829510163408919mm), Compose.LineWidthPrimitive(0.4268857047954144mm)]), Compose.Property{Compose.StrokePrimitive}(Compose.StrokePrimitive[Compose.StrokePrimitive(RGBA{Float64}(0.8274509803921568,0.8274509803921568,0.8274509803921568,1.0))])]), 0, false, false, false, false, nothing, nothing, 0.0, Symbol(\"\")), Compose.Context(BBox{l,t,r,b,w,h = 0.0w,0.0h, 1.0w,1.0h, 1.0w,1.0h}, nothing, nothing, nothing, nothing, List([]), List([]), List([Compose.Property{Compose.FontSizePrimitive}(Compose.FontSizePrimitive[Compose.FontSizePrimitive(4.0mm)]), Compose.Property{Compose.StrokePrimitive}(Compose.StrokePrimitive[Compose.StrokePrimitive(RGBA{Float64}(0.0,0.0,0.0,0.0))]), Compose.Property{Compose.FillPrimitive}(Compose.FillPrimitive[Compose.FillPrimitive(RGBA{Float64}(0.0,0.0,0.0,1.0))])]), 0, false, false, false, false, nothing, nothing, 0.0, Symbol(\"\")), Compose.Context(BBox{l,t,r,b,w,h = 0.0w,0.0h, 1.0w,1.0h, 1.0w,1.0h}, nothing, nothing, nothing, nothing, List([]), List([Compose.Form{Compose.CirclePrimitive{Tuple{Measures.Measure,Measures.Measure},Measures.Measure}}(Compose.CirclePrimitive{Tuple{Measures.Measure,Measures.Measure},Measures.Measure}[Compose.CirclePrimitive{Tuple{Measures.Measure,Measures.Measure},Measures.Measure}((0.5998012255633018cx, -0.0706338178694853cy), 0.022360679774997897w), Compose.CirclePrimitive{Tuple{Measures.Measure,Measures.Measure},Measures.Measure}((0.49367599819379726cx, 1.0cy), 0.022360679774997897w), Compose.CirclePrimitive{Tuple{Measures.Measure,Measures.Measure},Measures.Measure}((0.19395877484930546cx, 0.2221620565526612cy), 0.022360679774997897w), Compose.CirclePrimitive{Tuple{Measures.Measure,Measures.Measure},Measures.Measure}((0.10707134274984131cx, 0.6627897951170774cy), 0.022360679774997897w), Compose.CirclePrimitive{Tuple{Measures.Measure,Measures.Measure},Measures.Measure}((-0.5575015821109521cx, 0.03466106439920846cy), 0.022360679774997897w), Compose.CirclePrimitive{Tuple{Measures.Measure,Measures.Measure},Measures.Measure}((-0.9218128465548605cx, -0.38473684639843475cy), 0.022360679774997897w), Compose.CirclePrimitive{Tuple{Measures.Measure,Measures.Measure},Measures.Measure}((-0.48624188530314116cx, -0.5231979819006357cy), 0.022360679774997897w), Compose.CirclePrimitive{Tuple{Measures.Measure,Measures.Measure},Measures.Measure}((-1.0cx, 0.11855590171255748cy), 0.022360679774997897w), Compose.CirclePrimitive{Tuple{Measures.Measure,Measures.Measure},Measures.Measure}((-0.7977329203429842cx, 0.5996512089067447cy), 0.022360679774997897w), Compose.CirclePrimitive{Tuple{Measures.Measure,Measures.Measure},Measures.Measure}((0.32216523372470607cx, -0.5127801743790021cy), 0.022360679774997897w), Compose.CirclePrimitive{Tuple{Measures.Measure,Measures.Measure},Measures.Measure}((0.7546887377563642cx, -0.7204494959072029cy), 0.022360679774997897w), Compose.CirclePrimitive{Tuple{Measures.Measure,Measures.Measure},Measures.Measure}((0.6688738670094603cx, 0.5363141407070837cy), 0.022360679774997897w), Compose.CirclePrimitive{Tuple{Measures.Measure,Measures.Measure},Measures.Measure}((0.9924226983286084cx, 0.23744925488252866cy), 0.022360679774997897w), Compose.CirclePrimitive{Tuple{Measures.Measure,Measures.Measure},Measures.Measure}((-0.6070866012517497cx, -1.0cy), 0.022360679774997897w), Compose.CirclePrimitive{Tuple{Measures.Measure,Measures.Measure},Measures.Measure}((-0.2549102364786139cx, 0.9387602530713359cy), 0.022360679774997897w), Compose.CirclePrimitive{Tuple{Measures.Measure,Measures.Measure},Measures.Measure}((-0.08566558124976043cx, -0.20203498185030766cy), 0.022360679774997897w), Compose.CirclePrimitive{Tuple{Measures.Measure,Measures.Measure},Measures.Measure}((-0.12094842317138477cx, -0.886833233936968cy), 0.022360679774997897w), Compose.CirclePrimitive{Tuple{Measures.Measure,Measures.Measure},Measures.Measure}((0.30258544476904947cx, -0.966291647892347cy), 0.022360679774997897w), Compose.CirclePrimitive{Tuple{Measures.Measure,Measures.Measure},Measures.Measure}((-0.38744010479289326cx, 0.5093534379735833cy), 0.022360679774997897w), Compose.CirclePrimitive{Tuple{Measures.Measure,Measures.Measure},Measures.Measure}((1.0cx, -0.2964350763651852cy), 0.022360679774997897w)], Symbol(\"\"))]), List([Compose.Property{Compose.LineWidthPrimitive}(Compose.LineWidthPrimitive[Compose.LineWidthPrimitive(0.0mm)]), Compose.Property{Compose.StrokePrimitive}(Compose.StrokePrimitive[Compose.StrokePrimitive(RGBA{Float64}(0.0,0.0,0.0,0.0))]), Compose.Property{Compose.FillPrimitive}(Compose.FillPrimitive[Compose.FillPrimitive(RGBA{Float64}(0.25098039215686274,0.8784313725490196,0.8156862745098039,1.0))])]), 0, false, false, false, false, nothing, nothing, 0.0, Symbol(\"\")), Compose.Context(BBox{l,t,r,b,w,h = 0.0w,0.0h, 1.0w,1.0h, 1.0w,1.0h}, nothing, nothing, nothing, nothing, List([]), List([Compose.Form{Compose.TextPrimitive{Tuple{Measures.Length{:cx,Float64},Measures.Length{:cy,Float64}},Compose.Rotation{Tuple{Measures.Length{:w,Float64},Measures.Length{:h,Float64}}},Tuple{Measures.Length{:mm,Float64},Measures.Length{:mm,Float64}}}}(Compose.TextPrimitive{Tuple{Measures.Length{:cx,Float64},Measures.Length{:cy,Float64}},Compose.Rotation{Tuple{Measures.Length{:w,Float64},Measures.Length{:h,Float64}}},Tuple{Measures.Length{:mm,Float64},Measures.Length{:mm,Float64}}}[Compose.TextPrimitive{Tuple{Measures.Length{:cx,Float64},Measures.Length{:cy,Float64}},Compose.Rotation{Tuple{Measures.Length{:w,Float64},Measures.Length{:h,Float64}}},Tuple{Measures.Length{:mm,Float64},Measures.Length{:mm,Float64}}}((0.5998012255633018cx, -0.0706338178694853cy), \"x1\", Compose.HCenter(), Compose.VCenter(), Compose.Rotation{Tuple{Measures.Length{:w,Float64},Measures.Length{:h,Float64}}}(0.0, (0.5w, 0.5h)), (0.0mm, 0.0mm)), Compose.TextPrimitive{Tuple{Measures.Length{:cx,Float64},Measures.Length{:cy,Float64}},Compose.Rotation{Tuple{Measures.Length{:w,Float64},Measures.Length{:h,Float64}}},Tuple{Measures.Length{:mm,Float64},Measures.Length{:mm,Float64}}}((0.49367599819379726cx, 1.0cy), \"x2\", Compose.HCenter(), Compose.VCenter(), Compose.Rotation{Tuple{Measures.Length{:w,Float64},Measures.Length{:h,Float64}}}(0.0, (0.5w, 0.5h)), (0.0mm, 0.0mm)), Compose.TextPrimitive{Tuple{Measures.Length{:cx,Float64},Measures.Length{:cy,Float64}},Compose.Rotation{Tuple{Measures.Length{:w,Float64},Measures.Length{:h,Float64}}},Tuple{Measures.Length{:mm,Float64},Measures.Length{:mm,Float64}}}((0.19395877484930546cx, 0.2221620565526612cy), \"x3\", Compose.HCenter(), Compose.VCenter(), Compose.Rotation{Tuple{Measures.Length{:w,Float64},Measures.Length{:h,Float64}}}(0.0, (0.5w, 0.5h)), (0.0mm, 0.0mm)), Compose.TextPrimitive{Tuple{Measures.Length{:cx,Float64},Measures.Length{:cy,Float64}},Compose.Rotation{Tuple{Measures.Length{:w,Float64},Measures.Length{:h,Float64}}},Tuple{Measures.Length{:mm,Float64},Measures.Length{:mm,Float64}}}((0.10707134274984131cx, 0.6627897951170774cy), \"x4\", Compose.HCenter(), Compose.VCenter(), Compose.Rotation{Tuple{Measures.Length{:w,Float64},Measures.Length{:h,Float64}}}(0.0, (0.5w, 0.5h)), (0.0mm, 0.0mm)), Compose.TextPrimitive{Tuple{Measures.Length{:cx,Float64},Measures.Length{:cy,Float64}},Compose.Rotation{Tuple{Measures.Length{:w,Float64},Measures.Length{:h,Float64}}},Tuple{Measures.Length{:mm,Float64},Measures.Length{:mm,Float64}}}((-0.5575015821109521cx, 0.03466106439920846cy), \"x5\", Compose.HCenter(), Compose.VCenter(), Compose.Rotation{Tuple{Measures.Length{:w,Float64},Measures.Length{:h,Float64}}}(0.0, (0.5w, 0.5h)), (0.0mm, 0.0mm)), Compose.TextPrimitive{Tuple{Measures.Length{:cx,Float64},Measures.Length{:cy,Float64}},Compose.Rotation{Tuple{Measures.Length{:w,Float64},Measures.Length{:h,Float64}}},Tuple{Measures.Length{:mm,Float64},Measures.Length{:mm,Float64}}}((-0.9218128465548605cx, -0.38473684639843475cy), \"x6\", Compose.HCenter(), Compose.VCenter(), Compose.Rotation{Tuple{Measures.Length{:w,Float64},Measures.Length{:h,Float64}}}(0.0, (0.5w, 0.5h)), (0.0mm, 0.0mm)), Compose.TextPrimitive{Tuple{Measures.Length{:cx,Float64},Measures.Length{:cy,Float64}},Compose.Rotation{Tuple{Measures.Length{:w,Float64},Measures.Length{:h,Float64}}},Tuple{Measures.Length{:mm,Float64},Measures.Length{:mm,Float64}}}((-0.48624188530314116cx, -0.5231979819006357cy), \"x7\", Compose.HCenter(), Compose.VCenter(), Compose.Rotation{Tuple{Measures.Length{:w,Float64},Measures.Length{:h,Float64}}}(0.0, (0.5w, 0.5h)), (0.0mm, 0.0mm)), Compose.TextPrimitive{Tuple{Measures.Length{:cx,Float64},Measures.Length{:cy,Float64}},Compose.Rotation{Tuple{Measures.Length{:w,Float64},Measures.Length{:h,Float64}}},Tuple{Measures.Length{:mm,Float64},Measures.Length{:mm,Float64}}}((-1.0cx, 0.11855590171255748cy), \"x8\", Compose.HCenter(), Compose.VCenter(), Compose.Rotation{Tuple{Measures.Length{:w,Float64},Measures.Length{:h,Float64}}}(0.0, (0.5w, 0.5h)), (0.0mm, 0.0mm)), Compose.TextPrimitive{Tuple{Measures.Length{:cx,Float64},Measures.Length{:cy,Float64}},Compose.Rotation{Tuple{Measures.Length{:w,Float64},Measures.Length{:h,Float64}}},Tuple{Measures.Length{:mm,Float64},Measures.Length{:mm,Float64}}}((-0.7977329203429842cx, 0.5996512089067447cy), \"x9\", Compose.HCenter(), Compose.VCenter(), Compose.Rotation{Tuple{Measures.Length{:w,Float64},Measures.Length{:h,Float64}}}(0.0, (0.5w, 0.5h)), (0.0mm, 0.0mm)), Compose.TextPrimitive{Tuple{Measures.Length{:cx,Float64},Measures.Length{:cy,Float64}},Compose.Rotation{Tuple{Measures.Length{:w,Float64},Measures.Length{:h,Float64}}},Tuple{Measures.Length{:mm,Float64},Measures.Length{:mm,Float64}}}((0.32216523372470607cx, -0.5127801743790021cy), \"x10\", Compose.HCenter(), Compose.VCenter(), Compose.Rotation{Tuple{Measures.Length{:w,Float64},Measures.Length{:h,Float64}}}(0.0, (0.5w, 0.5h)), (0.0mm, 0.0mm)), Compose.TextPrimitive{Tuple{Measures.Length{:cx,Float64},Measures.Length{:cy,Float64}},Compose.Rotation{Tuple{Measures.Length{:w,Float64},Measures.Length{:h,Float64}}},Tuple{Measures.Length{:mm,Float64},Measures.Length{:mm,Float64}}}((0.7546887377563642cx, -0.7204494959072029cy), \"x11\", Compose.HCenter(), Compose.VCenter(), Compose.Rotation{Tuple{Measures.Length{:w,Float64},Measures.Length{:h,Float64}}}(0.0, (0.5w, 0.5h)), (0.0mm, 0.0mm)), Compose.TextPrimitive{Tuple{Measures.Length{:cx,Float64},Measures.Length{:cy,Float64}},Compose.Rotation{Tuple{Measures.Length{:w,Float64},Measures.Length{:h,Float64}}},Tuple{Measures.Length{:mm,Float64},Measures.Length{:mm,Float64}}}((0.6688738670094603cx, 0.5363141407070837cy), \"x12\", Compose.HCenter(), Compose.VCenter(), Compose.Rotation{Tuple{Measures.Length{:w,Float64},Measures.Length{:h,Float64}}}(0.0, (0.5w, 0.5h)), (0.0mm, 0.0mm)), Compose.TextPrimitive{Tuple{Measures.Length{:cx,Float64},Measures.Length{:cy,Float64}},Compose.Rotation{Tuple{Measures.Length{:w,Float64},Measures.Length{:h,Float64}}},Tuple{Measures.Length{:mm,Float64},Measures.Length{:mm,Float64}}}((0.9924226983286084cx, 0.23744925488252866cy), \"x13\", Compose.HCenter(), Compose.VCenter(), Compose.Rotation{Tuple{Measures.Length{:w,Float64},Measures.Length{:h,Float64}}}(0.0, (0.5w, 0.5h)), (0.0mm, 0.0mm)), Compose.TextPrimitive{Tuple{Measures.Length{:cx,Float64},Measures.Length{:cy,Float64}},Compose.Rotation{Tuple{Measures.Length{:w,Float64},Measures.Length{:h,Float64}}},Tuple{Measures.Length{:mm,Float64},Measures.Length{:mm,Float64}}}((-0.6070866012517497cx, -1.0cy), \"x14\", Compose.HCenter(), Compose.VCenter(), Compose.Rotation{Tuple{Measures.Length{:w,Float64},Measures.Length{:h,Float64}}}(0.0, (0.5w, 0.5h)), (0.0mm, 0.0mm)), Compose.TextPrimitive{Tuple{Measures.Length{:cx,Float64},Measures.Length{:cy,Float64}},Compose.Rotation{Tuple{Measures.Length{:w,Float64},Measures.Length{:h,Float64}}},Tuple{Measures.Length{:mm,Float64},Measures.Length{:mm,Float64}}}((-0.2549102364786139cx, 0.9387602530713359cy), \"x15\", Compose.HCenter(), Compose.VCenter(), Compose.Rotation{Tuple{Measures.Length{:w,Float64},Measures.Length{:h,Float64}}}(0.0, (0.5w, 0.5h)), (0.0mm, 0.0mm)), Compose.TextPrimitive{Tuple{Measures.Length{:cx,Float64},Measures.Length{:cy,Float64}},Compose.Rotation{Tuple{Measures.Length{:w,Float64},Measures.Length{:h,Float64}}},Tuple{Measures.Length{:mm,Float64},Measures.Length{:mm,Float64}}}((-0.08566558124976043cx, -0.20203498185030766cy), \"x16\", Compose.HCenter(), Compose.VCenter(), Compose.Rotation{Tuple{Measures.Length{:w,Float64},Measures.Length{:h,Float64}}}(0.0, (0.5w, 0.5h)), (0.0mm, 0.0mm)), Compose.TextPrimitive{Tuple{Measures.Length{:cx,Float64},Measures.Length{:cy,Float64}},Compose.Rotation{Tuple{Measures.Length{:w,Float64},Measures.Length{:h,Float64}}},Tuple{Measures.Length{:mm,Float64},Measures.Length{:mm,Float64}}}((-0.12094842317138477cx, -0.886833233936968cy), \"x17\", Compose.HCenter(), Compose.VCenter(), Compose.Rotation{Tuple{Measures.Length{:w,Float64},Measures.Length{:h,Float64}}}(0.0, (0.5w, 0.5h)), (0.0mm, 0.0mm)), Compose.TextPrimitive{Tuple{Measures.Length{:cx,Float64},Measures.Length{:cy,Float64}},Compose.Rotation{Tuple{Measures.Length{:w,Float64},Measures.Length{:h,Float64}}},Tuple{Measures.Length{:mm,Float64},Measures.Length{:mm,Float64}}}((0.30258544476904947cx, -0.966291647892347cy), \"x18\", Compose.HCenter(), Compose.VCenter(), Compose.Rotation{Tuple{Measures.Length{:w,Float64},Measures.Length{:h,Float64}}}(0.0, (0.5w, 0.5h)), (0.0mm, 0.0mm)), Compose.TextPrimitive{Tuple{Measures.Length{:cx,Float64},Measures.Length{:cy,Float64}},Compose.Rotation{Tuple{Measures.Length{:w,Float64},Measures.Length{:h,Float64}}},Tuple{Measures.Length{:mm,Float64},Measures.Length{:mm,Float64}}}((-0.38744010479289326cx, 0.5093534379735833cy), \"x19\", Compose.HCenter(), Compose.VCenter(), Compose.Rotation{Tuple{Measures.Length{:w,Float64},Measures.Length{:h,Float64}}}(0.0, (0.5w, 0.5h)), (0.0mm, 0.0mm)), Compose.TextPrimitive{Tuple{Measures.Length{:cx,Float64},Measures.Length{:cy,Float64}},Compose.Rotation{Tuple{Measures.Length{:w,Float64},Measures.Length{:h,Float64}}},Tuple{Measures.Length{:mm,Float64},Measures.Length{:mm,Float64}}}((1.0cx, -0.2964350763651852cy), \"x20\", Compose.HCenter(), Compose.VCenter(), Compose.Rotation{Tuple{Measures.Length{:w,Float64},Measures.Length{:h,Float64}}}(0.0, (0.5w, 0.5h)), (0.0mm, 0.0mm))], Symbol(\"\"))]), List([Compose.Property{Compose.FontSizePrimitive}(Compose.FontSizePrimitive[Compose.FontSizePrimitive(4.0mm)]), Compose.Property{Compose.StrokePrimitive}(Compose.StrokePrimitive[Compose.StrokePrimitive(RGBA{Float64}(0.0,0.0,0.0,0.0))]), Compose.Property{Compose.FillPrimitive}(Compose.FillPrimitive[Compose.FillPrimitive(RGBA{Float64}(0.0,0.0,0.0,1.0))])]), 0, false, false, false, false, nothing, nothing, 0.0, Symbol(\"\"))]), List([]), List([]), 0, false, false, false, false, nothing, nothing, 0.0, Symbol(\"\"))"
      ]
     },
     "execution_count": 172,
     "metadata": {},
     "output_type": "execute_result"
    }
   ],
   "source": [
    "gplot(g,nodelabel=names(df),edgelinewidth=ew)"
   ]
  },
  {
   "cell_type": "code",
   "execution_count": 155,
   "metadata": {},
   "outputs": [
    {
     "data": {
      "text/plain": [
       "gen_graphs (generic function with 1 method)"
      ]
     },
     "execution_count": 155,
     "metadata": {},
     "output_type": "execute_result"
    }
   ],
   "source": [
    "function gen_graphs(df)\n",
    "    g = SimpleWeightedGraph(size(df)[2])\n",
    "    ew = Int[]\n",
    "    pairings = [] \n",
    "    for i in 1:size(df)[2], j in i+1:size(df)[2] # iterate over all combinations of columns\n",
    "        w = dot(df[:, i], df[:, j])        # calculate how many times (i,j) occurs\n",
    "        if w > 0\n",
    "            push!(ew, w)\n",
    "            add_edge!(g, i, j, w)\n",
    "            push!(pairings,[i,j])\n",
    "        end\n",
    "    end\n",
    "    return (g,ew)\n",
    "end\n"
   ]
  },
  {
   "cell_type": "code",
   "execution_count": 156,
   "metadata": {},
   "outputs": [
    {
     "data": {
      "text/plain": [
       "({20, 190} undirected simple Int64 graph with Float64 weights, [3, 4, 5, 4, 2, 4, 2, 3, 6, 2  …  1, 3, 5, 3, 2, 4, 2, 3, 5, 3])"
      ]
     },
     "execution_count": 156,
     "metadata": {},
     "output_type": "execute_result"
    }
   ],
   "source": [
    "gen_graphs(rand([0,1],20,20))"
   ]
  },
  {
   "cell_type": "code",
   "execution_count": 139,
   "metadata": {},
   "outputs": [],
   "source": [
    "data = rand([0,1],20,20);"
   ]
  },
  {
   "cell_type": "code",
   "execution_count": 142,
   "metadata": {},
   "outputs": [
    {
     "data": {
      "text/plain": [
       "(5, 20)"
      ]
     },
     "execution_count": 142,
     "metadata": {},
     "output_type": "execute_result"
    }
   ],
   "source": [
    "size(df)"
   ]
  },
  {
   "cell_type": "code",
   "execution_count": 137,
   "metadata": {},
   "outputs": [
    {
     "name": "stdout",
     "output_type": "stream",
     "text": [
      "true\n",
      "true\n",
      "true\n",
      "true\n",
      "true\n"
     ]
    }
   ],
   "source": [
    "for i = 1:5\n",
    "    println(df[!,i] == df[:,i])\n",
    "end"
   ]
  },
  {
   "cell_type": "code",
   "execution_count": null,
   "metadata": {},
   "outputs": [],
   "source": []
  }
 ],
 "metadata": {
  "kernelspec": {
   "display_name": "JuliaML 1.5.2",
   "language": "julia",
   "name": "juliaml-1.5"
  },
  "language_info": {
   "file_extension": ".jl",
   "mimetype": "application/julia",
   "name": "julia",
   "version": "1.5.2"
  }
 },
 "nbformat": 4,
 "nbformat_minor": 4
}
