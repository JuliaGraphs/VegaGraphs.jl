{
 "cells": [
  {
   "cell_type": "code",
   "execution_count": 8,
   "metadata": {},
   "outputs": [
    {
     "name": "stderr",
     "output_type": "stream",
     "text": [
      "┌ Error: Failed to revise /home/davi/MEGAsync/EMAp/VegaGraphs/src/VegaGraphs.jl\n",
      "│   exception = Revise.ReviseEvalException(\"/home/davi/MEGAsync/EMAp/VegaGraphs/src/VegaGraphs.jl:4\", ArgumentError(\"Package VegaGraphs does not have SimpleWeightedGraph in its dependencies:\\n- If you have VegaGraphs checked out for development and have\\n  added SimpleWeightedGraph as a dependency but haven't updated your primary\\n  environment's manifest file, try `Pkg.resolve()`.\\n- Otherwise you may need to report an issue with VegaGraphs\"), Any[(top-level scope at VegaGraphs.jl:4, 1)])\n",
      "└ @ Revise /home/davi/.julia/packages/Revise/3GbTQ/src/packagedef.jl:691\n"
     ]
    }
   ],
   "source": [
    "using Pkg, Revise, VegaLite\n",
    "\n",
    "using LightGraphs, GraphPlot, SimpleWeightedGraphs, LinearAlgebra, DataFrames, Random, Colors\n",
    "using VegaGraphs"
   ]
  },
  {
   "cell_type": "code",
   "execution_count": 2,
   "metadata": {},
   "outputs": [
    {
     "name": "stderr",
     "output_type": "stream",
     "text": [
      "\u001b[32m\u001b[1m Activating\u001b[22m\u001b[39m environment at `~/MEGAsync/EMAp/VegaGraphs/Project.toml`\n"
     ]
    }
   ],
   "source": [
    "Pkg.activate(\"../.\")"
   ]
  },
  {
   "cell_type": "code",
   "execution_count": 6,
   "metadata": {},
   "outputs": [],
   "source": [
    "Random.seed!(7)\n",
    "df = DataFrame(rand([0,1],10,20));"
   ]
  },
  {
   "cell_type": "code",
   "execution_count": null,
   "metadata": {},
   "outputs": [],
   "source": []
  }
 ],
 "metadata": {
  "kernelspec": {
   "display_name": "JuliaML 1.5.2",
   "language": "julia",
   "name": "juliaml-1.5"
  },
  "language_info": {
   "file_extension": ".jl",
   "mimetype": "application/julia",
   "name": "julia",
   "version": "1.5.2"
  }
 },
 "nbformat": 4,
 "nbformat_minor": 4
}
