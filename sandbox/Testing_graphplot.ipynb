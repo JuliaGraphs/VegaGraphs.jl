{
 "cells": [
  {
   "cell_type": "code",
   "execution_count": 9,
   "metadata": {},
   "outputs": [
    {
     "name": "stderr",
     "output_type": "stream",
     "text": [
      "┌ Error: Failed to revise /home/davi/.julia/packages/FileIO/2fEu2/src/registry.jl\n",
      "│   exception = Revise.ReviseEvalException(\"/home/davi/.julia/packages/FileIO/2fEu2/src/registry.jl:47\", ErrorException(\"format FileIO.DataFormat{:PBMBinary} is already registered\"), Any[(error(::String, ::Type{T} where T, ::String) at error.jl:42, 1), (add_format(::Type{FileIO.DataFormat{:PBMBinary}}, ::Base.CodeUnits{UInt8,String}, ::String) at registry_setup.jl:101, 1), (add_format(::Type{T} where T, ::Base.CodeUnits{UInt8,String}, ::String, ::Array{Symbol,1}, ::Vararg{Array{Symbol,1},N} where N) at registry_setup.jl:73, 1), (top-level scope at registry.jl:47, 1)])\n",
      "└ @ Revise /home/davi/.julia/packages/Revise/3GbTQ/src/packagedef.jl:691\n",
      "┌ Error: Failed to revise /home/davi/MEGAsync/EMAp/VegaGraphs/src/VegaGraphs.jl\n",
      "│   exception = (LoadError(\"/home/davi/MEGAsync/EMAp/VegaGraphs/src/plot_functions.jl\", 9, \"missing comma or ) in argument list\"), Union{Ptr{Nothing}, Base.InterpreterIP}[Ptr{Nothing} @0x00007fba3b1cabde])\n",
      "└ @ Revise /home/davi/.julia/packages/Revise/3GbTQ/src/packagedef.jl:693\n"
     ]
    }
   ],
   "source": [
    "using Pkg, Revise, VegaLite\n",
    "\n",
    "using LightGraphs, GraphPlot, SimpleWeightedGraphs, LinearAlgebra, DataFrames, Random, Colors\n",
    "using VegaGraphs"
   ]
  },
  {
   "cell_type": "code",
   "execution_count": 2,
   "metadata": {},
   "outputs": [
    {
     "name": "stderr",
     "output_type": "stream",
     "text": [
      "\u001b[32m\u001b[1m Activating\u001b[22m\u001b[39m environment at `~/MEGAsync/EMAp/VegaGraphs/Project.toml`\n"
     ]
    }
   ],
   "source": [
    "Pkg.activate(\"../.\")"
   ]
  },
  {
   "cell_type": "code",
   "execution_count": 6,
   "metadata": {},
   "outputs": [],
   "source": [
    "Random.seed!(7)\n",
    "df = DataFrame(rand([0,1],10,20));"
   ]
  },
  {
   "cell_type": "code",
   "execution_count": null,
   "metadata": {},
   "outputs": [],
   "source": []
  }
 ],
 "metadata": {
  "kernelspec": {
   "display_name": "JuliaML 1.5.2",
   "language": "julia",
   "name": "juliaml-1.5"
  },
  "language_info": {
   "file_extension": ".jl",
   "mimetype": "application/julia",
   "name": "julia",
   "version": "1.5.2"
  }
 },
 "nbformat": 4,
 "nbformat_minor": 4
}
