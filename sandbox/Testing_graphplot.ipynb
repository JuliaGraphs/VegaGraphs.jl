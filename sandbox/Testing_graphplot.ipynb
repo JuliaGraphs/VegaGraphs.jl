{
 "cells": [
  {
   "cell_type": "code",
   "execution_count": 64,
   "metadata": {},
   "outputs": [
    {
     "name": "stderr",
     "output_type": "stream",
     "text": [
      "\u001b[32m\u001b[1m Activating\u001b[22m\u001b[39m environment at `~/MEGAsync/EMAp/VegaGraphs/Project.toml`\n"
     ]
    }
   ],
   "source": [
    "using Pkg, Revise, VegaLite\n",
    "Pkg.activate(\"../.\")\n",
    "using LightGraphs, GraphPlot, SimpleWeightedGraphs, LinearAlgebra, DataFrames, Random, Colors\n",
    "using VegaGraphs"
   ]
  },
  {
   "cell_type": "code",
   "execution_count": 65,
   "metadata": {},
   "outputs": [],
   "source": [
    "Random.seed!(7)\n",
    "df = DataFrame(rand([0,1],10,20));"
   ]
  },
  {
   "cell_type": "code",
   "execution_count": 76,
   "metadata": {},
   "outputs": [
    {
     "ename": "LoadError",
     "evalue": "syntax: invalid identifier name \"?\"",
     "output_type": "error",
     "traceback": [
      "syntax: invalid identifier name \"?\"",
      "",
      "Stacktrace:",
      " [1] top-level scope at In[76]:2",
      " [2] include_string(::Function, ::Module, ::String, ::String) at ./loading.jl:1091",
      " [3] execute_code(::String, ::String) at /home/davi/.julia/packages/IJulia/a1SNk/src/execute_request.jl:27",
      " [4] execute_request(::ZMQ.Socket, ::IJulia.Msg) at /home/davi/.julia/packages/IJulia/a1SNk/src/execute_request.jl:86",
      " [5] #invokelatest#1 at ./essentials.jl:710 [inlined]",
      " [6] invokelatest at ./essentials.jl:709 [inlined]",
      " [7] eventloop(::ZMQ.Socket) at /home/davi/.julia/packages/IJulia/a1SNk/src/eventloop.jl:8",
      " [8] (::IJulia.var\"#15#18\")() at ./task.jl:356"
     ]
    }
   ],
   "source": [
    "VegaGraphs.graphplot(df,GraphPlot.circular_layout,tooltip=true,node_label=false)"
   ]
  },
  {
   "cell_type": "code",
   "execution_count": 118,
   "metadata": {},
   "outputs": [
    {
     "data": {
      "application/vnd.vegalite.v4+json": {
       "data": {
        "values": [
         {
          "x1": 0.244496260779673,
          "x2": 0.45260302736789626,
          "x3": 0.5450403252091514
         },
         {
          "x1": 0.07635619618343603,
          "x2": 0.5770363412833588,
          "x3": 0.16431316623719083
         },
         {
          "x1": 0.053119505089538555,
          "x2": 0.31190356478223413,
          "x3": 0.4716840617221951
         },
         {
          "x1": 0.43223825443505004,
          "x2": 0.970720930557794,
          "x3": 0.7783465005295036
         },
         {
          "x1": 0.17085413382841685,
          "x2": 0.7153854476124666,
          "x3": 0.5411802392922587
         },
         {
          "x1": 0.15598686665177786,
          "x2": 0.8895689527079611,
          "x3": 0.1519863256322349
         },
         {
          "x1": 0.08368492647565118,
          "x2": 0.26008915425638834,
          "x3": 0.5282365944076459
         },
         {
          "x1": 0.40745816935530144,
          "x2": 0.4772879135761243,
          "x3": 0.26214945935648415
         },
         {
          "x1": 0.0921070905090795,
          "x2": 0.6373378935690082,
          "x3": 0.8980185248504784
         },
         {
          "x1": 0.6399443104331783,
          "x2": 0.5497560590102344,
          "x3": 0.5130565954880246
         },
         {
          "x1": 0.8862338329945654,
          "x2": 0.9389662781907004,
          "x3": 0.021250727042635864
         },
         {
          "x1": 0.8292920641760493,
          "x2": 0.4212763138598239,
          "x3": 0.3260919384064125
         },
         {
          "x1": 0.6119980632093462,
          "x2": 0.32669757045649384,
          "x3": 0.3266545692793772
         },
         {
          "x1": 0.7382367892781554,
          "x2": 0.001592911162406896,
          "x3": 0.8567616197354007
         },
         {
          "x1": 0.7232856155906329,
          "x2": 0.7629757914876718,
          "x3": 0.33970675248365967
         },
         {
          "x1": 0.05670530795740403,
          "x2": 0.3632922274494048,
          "x3": 0.6800592572335245
         },
         {
          "x1": 0.9935452107553617,
          "x2": 0.4303146696094984,
          "x3": 0.8363578311652795
         },
         {
          "x1": 0.7670775249288895,
          "x2": 0.977431679875163,
          "x3": 0.9561121067475125
         },
         {
          "x1": 0.8138267006079327,
          "x2": 0.5443838127681979,
          "x3": 0.44760502486134834
         },
         {
          "x1": 0.9161149927145016,
          "x2": 0.02982553514662678,
          "x3": 0.05097498027573266
         }
        ]
       },
       "layer": [
        {
         "encoding": {
          "x": {
           "field": "x1",
           "type": "quantitative"
          },
          "y": {
           "field": "x2",
           "type": "quantitative"
          }
         },
         "mark": "circle"
        }
       ]
      },
      "image/png": "[encoded data removed]",
      "image/svg+xml": [
       "<?xml version=\"1.0\" encoding=\"utf-8\"?>\n",
       "<!DOCTYPE svg PUBLIC \"-//W3C//DTD SVG 1.1//EN\" \"http://www.w3.org/Graphics/SVG/1.1/DTD/svg11.dtd\">\n",
       "<svg class=\"marks\" width=\"249\" height=\"247\" viewBox=\"0 0 249 247\" version=\"1.1\" xmlns=\"http://www.w3.org/2000/svg\" xmlns:xlink=\"http://www.w3.org/1999/xlink\"><rect width=\"249\" height=\"247\" fill=\"white\"></rect><g fill=\"none\" stroke-miterlimit=\"10\" transform=\"translate(42,10)\"><g class=\"mark-group role-frame root\" role=\"graphics-object\" aria-roledescription=\"group mark container\"><g transform=\"translate(0,0)\"><path class=\"background\" aria-hidden=\"true\" d=\"M0.5,0.5h200v200h-200Z\" stroke=\"#ddd\"></path><g><g class=\"mark-group role-axis\" aria-hidden=\"true\"><g transform=\"translate(0.5,200.5)\"><path class=\"background\" aria-hidden=\"true\" d=\"M0,0h0v0h0Z\" pointer-events=\"none\"></path><g><g class=\"mark-rule role-axis-grid\" pointer-events=\"none\"><line transform=\"translate(0,-200)\" x2=\"0\" y2=\"200\" stroke=\"#ddd\" stroke-width=\"1\" opacity=\"1\"></line><line transform=\"translate(40,-200)\" x2=\"0\" y2=\"200\" stroke=\"#ddd\" stroke-width=\"1\" opacity=\"1\"></line><line transform=\"translate(80,-200)\" x2=\"0\" y2=\"200\" stroke=\"#ddd\" stroke-width=\"1\" opacity=\"1\"></line><line transform=\"translate(120,-200)\" x2=\"0\" y2=\"200\" stroke=\"#ddd\" stroke-width=\"1\" opacity=\"1\"></line><line transform=\"translate(160,-200)\" x2=\"0\" y2=\"200\" stroke=\"#ddd\" stroke-width=\"1\" opacity=\"1\"></line><line transform=\"translate(200,-200)\" x2=\"0\" y2=\"200\" stroke=\"#ddd\" stroke-width=\"1\" opacity=\"1\"></line></g></g><path class=\"foreground\" aria-hidden=\"true\" d=\"\" pointer-events=\"none\" display=\"none\"></path></g></g><g class=\"mark-group role-axis\" aria-hidden=\"true\"><g transform=\"translate(0.5,0.5)\"><path class=\"background\" aria-hidden=\"true\" d=\"M0,0h0v0h0Z\" pointer-events=\"none\"></path><g><g class=\"mark-rule role-axis-grid\" pointer-events=\"none\"><line transform=\"translate(0,200)\" x2=\"200\" y2=\"0\" stroke=\"#ddd\" stroke-width=\"1\" opacity=\"1\"></line><line transform=\"translate(0,160)\" x2=\"200\" y2=\"0\" stroke=\"#ddd\" stroke-width=\"1\" opacity=\"1\"></line><line transform=\"translate(0,120)\" x2=\"200\" y2=\"0\" stroke=\"#ddd\" stroke-width=\"1\" opacity=\"1\"></line><line transform=\"translate(0,80)\" x2=\"200\" y2=\"0\" stroke=\"#ddd\" stroke-width=\"1\" opacity=\"1\"></line><line transform=\"translate(0,40)\" x2=\"200\" y2=\"0\" stroke=\"#ddd\" stroke-width=\"1\" opacity=\"1\"></line><line transform=\"translate(0,0)\" x2=\"200\" y2=\"0\" stroke=\"#ddd\" stroke-width=\"1\" opacity=\"1\"></line></g></g><path class=\"foreground\" aria-hidden=\"true\" d=\"\" pointer-events=\"none\" display=\"none\"></path></g></g><g class=\"mark-group role-axis\" role=\"graphics-symbol\" aria-roledescription=\"axis\" aria-label=\"X-axis titled 'x1' for a linear scale with values from 0.0 to 1.0\"><g transform=\"translate(0.5,200.5)\"><path class=\"background\" aria-hidden=\"true\" d=\"M0,0h0v0h0Z\" pointer-events=\"none\"></path><g><g class=\"mark-rule role-axis-tick\" pointer-events=\"none\"><line transform=\"translate(0,0)\" x2=\"0\" y2=\"5\" stroke=\"#888\" stroke-width=\"1\" opacity=\"1\"></line><line transform=\"translate(40,0)\" x2=\"0\" y2=\"5\" stroke=\"#888\" stroke-width=\"1\" opacity=\"1\"></line><line transform=\"translate(80,0)\" x2=\"0\" y2=\"5\" stroke=\"#888\" stroke-width=\"1\" opacity=\"1\"></line><line transform=\"translate(120,0)\" x2=\"0\" y2=\"5\" stroke=\"#888\" stroke-width=\"1\" opacity=\"1\"></line><line transform=\"translate(160,0)\" x2=\"0\" y2=\"5\" stroke=\"#888\" stroke-width=\"1\" opacity=\"1\"></line><line transform=\"translate(200,0)\" x2=\"0\" y2=\"5\" stroke=\"#888\" stroke-width=\"1\" opacity=\"1\"></line></g><g class=\"mark-text role-axis-label\" pointer-events=\"none\"><text text-anchor=\"start\" transform=\"translate(0,15)\" font-family=\"sans-serif\" font-size=\"10px\" fill=\"#000\" opacity=\"1\">0.0</text><text text-anchor=\"middle\" transform=\"translate(40,15)\" font-family=\"sans-serif\" font-size=\"10px\" fill=\"#000\" opacity=\"1\">0.2</text><text text-anchor=\"middle\" transform=\"translate(80,15)\" font-family=\"sans-serif\" font-size=\"10px\" fill=\"#000\" opacity=\"1\">0.4</text><text text-anchor=\"middle\" transform=\"translate(120,15)\" font-family=\"sans-serif\" font-size=\"10px\" fill=\"#000\" opacity=\"1\">0.6</text><text text-anchor=\"middle\" transform=\"translate(160,15)\" font-family=\"sans-serif\" font-size=\"10px\" fill=\"#000\" opacity=\"1\">0.8</text><text text-anchor=\"end\" transform=\"translate(200,15)\" font-family=\"sans-serif\" font-size=\"10px\" fill=\"#000\" opacity=\"1\">1.0</text></g><g class=\"mark-rule role-axis-domain\" pointer-events=\"none\"><line transform=\"translate(0,0)\" x2=\"200\" y2=\"0\" stroke=\"#888\" stroke-width=\"1\" opacity=\"1\"></line></g><g class=\"mark-text role-axis-title\" pointer-events=\"none\"><text text-anchor=\"middle\" transform=\"translate(100,30)\" font-family=\"sans-serif\" font-size=\"11px\" font-weight=\"bold\" fill=\"#000\" opacity=\"1\">x1</text></g></g><path class=\"foreground\" aria-hidden=\"true\" d=\"\" pointer-events=\"none\" display=\"none\"></path></g></g><g class=\"mark-group role-axis\" role=\"graphics-symbol\" aria-roledescription=\"axis\" aria-label=\"Y-axis titled 'x2' for a linear scale with values from 0.0 to 1.0\"><g transform=\"translate(0.5,0.5)\"><path class=\"background\" aria-hidden=\"true\" d=\"M0,0h0v0h0Z\" pointer-events=\"none\"></path><g><g class=\"mark-rule role-axis-tick\" pointer-events=\"none\"><line transform=\"translate(0,200)\" x2=\"-5\" y2=\"0\" stroke=\"#888\" stroke-width=\"1\" opacity=\"1\"></line><line transform=\"translate(0,160)\" x2=\"-5\" y2=\"0\" stroke=\"#888\" stroke-width=\"1\" opacity=\"1\"></line><line transform=\"translate(0,120)\" x2=\"-5\" y2=\"0\" stroke=\"#888\" stroke-width=\"1\" opacity=\"1\"></line><line transform=\"translate(0,80)\" x2=\"-5\" y2=\"0\" stroke=\"#888\" stroke-width=\"1\" opacity=\"1\"></line><line transform=\"translate(0,40)\" x2=\"-5\" y2=\"0\" stroke=\"#888\" stroke-width=\"1\" opacity=\"1\"></line><line transform=\"translate(0,0)\" x2=\"-5\" y2=\"0\" stroke=\"#888\" stroke-width=\"1\" opacity=\"1\"></line></g><g class=\"mark-text role-axis-label\" pointer-events=\"none\"><text text-anchor=\"end\" transform=\"translate(-7,203)\" font-family=\"sans-serif\" font-size=\"10px\" fill=\"#000\" opacity=\"1\">0.0</text><text text-anchor=\"end\" transform=\"translate(-7,163)\" font-family=\"sans-serif\" font-size=\"10px\" fill=\"#000\" opacity=\"1\">0.2</text><text text-anchor=\"end\" transform=\"translate(-7,123)\" font-family=\"sans-serif\" font-size=\"10px\" fill=\"#000\" opacity=\"1\">0.4</text><text text-anchor=\"end\" transform=\"translate(-7,83)\" font-family=\"sans-serif\" font-size=\"10px\" fill=\"#000\" opacity=\"1\">0.6</text><text text-anchor=\"end\" transform=\"translate(-7,42.99999999999999)\" font-family=\"sans-serif\" font-size=\"10px\" fill=\"#000\" opacity=\"1\">0.8</text><text text-anchor=\"end\" transform=\"translate(-7,3)\" font-family=\"sans-serif\" font-size=\"10px\" fill=\"#000\" opacity=\"1\">1.0</text></g><g class=\"mark-rule role-axis-domain\" pointer-events=\"none\"><line transform=\"translate(0,200)\" x2=\"0\" y2=\"-200\" stroke=\"#888\" stroke-width=\"1\" opacity=\"1\"></line></g><g class=\"mark-text role-axis-title\" pointer-events=\"none\"><text text-anchor=\"middle\" transform=\"translate(-26,100) rotate(-90) translate(0,-2)\" font-family=\"sans-serif\" font-size=\"11px\" font-weight=\"bold\" fill=\"#000\" opacity=\"1\">x2</text></g></g><path class=\"foreground\" aria-hidden=\"true\" d=\"\" pointer-events=\"none\" display=\"none\"></path></g></g><g class=\"mark-symbol role-mark layer_0_marks\" role=\"graphics-object\" aria-roledescription=\"symbol mark container\"><path aria-label=\"x1: 0.24449626078; x2: 0.452603027368\" role=\"graphics-symbol\" aria-roledescription=\"circle\" transform=\"translate(48.899252155934605,109.47939452642075)\" d=\"M2.7386127875258306,0A2.7386127875258306,2.7386127875258306,0,1,1,-2.7386127875258306,0A2.7386127875258306,2.7386127875258306,0,1,1,2.7386127875258306,0\" fill=\"#4c78a8\" stroke-width=\"2\" opacity=\"0.7\"></path><path aria-label=\"x1: 0.0763561961834; x2: 0.577036341283\" role=\"graphics-symbol\" aria-roledescription=\"circle\" transform=\"translate(15.271239236687206,84.59273174332824)\" d=\"M2.7386127875258306,0A2.7386127875258306,2.7386127875258306,0,1,1,-2.7386127875258306,0A2.7386127875258306,2.7386127875258306,0,1,1,2.7386127875258306,0\" fill=\"#4c78a8\" stroke-width=\"2\" opacity=\"0.7\"></path><path aria-label=\"x1: 0.0531195050895; x2: 0.311903564782\" role=\"graphics-symbol\" aria-roledescription=\"circle\" transform=\"translate(10.623901017907711,137.6192870435532)\" d=\"M2.7386127875258306,0A2.7386127875258306,2.7386127875258306,0,1,1,-2.7386127875258306,0A2.7386127875258306,2.7386127875258306,0,1,1,2.7386127875258306,0\" fill=\"#4c78a8\" stroke-width=\"2\" opacity=\"0.7\"></path><path aria-label=\"x1: 0.432238254435; x2: 0.970720930558\" role=\"graphics-symbol\" aria-roledescription=\"circle\" transform=\"translate(86.44765088701001,5.855813888441208)\" d=\"M2.7386127875258306,0A2.7386127875258306,2.7386127875258306,0,1,1,-2.7386127875258306,0A2.7386127875258306,2.7386127875258306,0,1,1,2.7386127875258306,0\" fill=\"#4c78a8\" stroke-width=\"2\" opacity=\"0.7\"></path><path aria-label=\"x1: 0.170854133828; x2: 0.715385447612\" role=\"graphics-symbol\" aria-roledescription=\"circle\" transform=\"translate(34.17082676568337,56.92291047750668)\" d=\"M2.7386127875258306,0A2.7386127875258306,2.7386127875258306,0,1,1,-2.7386127875258306,0A2.7386127875258306,2.7386127875258306,0,1,1,2.7386127875258306,0\" fill=\"#4c78a8\" stroke-width=\"2\" opacity=\"0.7\"></path><path aria-label=\"x1: 0.155986866652; x2: 0.889568952708\" role=\"graphics-symbol\" aria-roledescription=\"circle\" transform=\"translate(31.19737333035557,22.08620945840778)\" d=\"M2.7386127875258306,0A2.7386127875258306,2.7386127875258306,0,1,1,-2.7386127875258306,0A2.7386127875258306,2.7386127875258306,0,1,1,2.7386127875258306,0\" fill=\"#4c78a8\" stroke-width=\"2\" opacity=\"0.7\"></path><path aria-label=\"x1: 0.0836849264757; x2: 0.260089154256\" role=\"graphics-symbol\" aria-roledescription=\"circle\" transform=\"translate(16.736985295130236,147.98216914872233)\" d=\"M2.7386127875258306,0A2.7386127875258306,2.7386127875258306,0,1,1,-2.7386127875258306,0A2.7386127875258306,2.7386127875258306,0,1,1,2.7386127875258306,0\" fill=\"#4c78a8\" stroke-width=\"2\" opacity=\"0.7\"></path><path aria-label=\"x1: 0.407458169355; x2: 0.477287913576\" role=\"graphics-symbol\" aria-roledescription=\"circle\" transform=\"translate(81.49163387106029,104.54241728477514)\" d=\"M2.7386127875258306,0A2.7386127875258306,2.7386127875258306,0,1,1,-2.7386127875258306,0A2.7386127875258306,2.7386127875258306,0,1,1,2.7386127875258306,0\" fill=\"#4c78a8\" stroke-width=\"2\" opacity=\"0.7\"></path><path aria-label=\"x1: 0.0921070905091; x2: 0.637337893569\" role=\"graphics-symbol\" aria-roledescription=\"circle\" transform=\"translate(18.421418101815902,72.53242128619837)\" d=\"M2.7386127875258306,0A2.7386127875258306,2.7386127875258306,0,1,1,-2.7386127875258306,0A2.7386127875258306,2.7386127875258306,0,1,1,2.7386127875258306,0\" fill=\"#4c78a8\" stroke-width=\"2\" opacity=\"0.7\"></path><path aria-label=\"x1: 0.639944310433; x2: 0.54975605901\" role=\"graphics-symbol\" aria-roledescription=\"circle\" transform=\"translate(127.98886208663566,90.04878819795312)\" d=\"M2.7386127875258306,0A2.7386127875258306,2.7386127875258306,0,1,1,-2.7386127875258306,0A2.7386127875258306,2.7386127875258306,0,1,1,2.7386127875258306,0\" fill=\"#4c78a8\" stroke-width=\"2\" opacity=\"0.7\"></path><path aria-label=\"x1: 0.886233832995; x2: 0.938966278191\" role=\"graphics-symbol\" aria-roledescription=\"circle\" transform=\"translate(177.24676659891307,12.206744361859911)\" d=\"M2.7386127875258306,0A2.7386127875258306,2.7386127875258306,0,1,1,-2.7386127875258306,0A2.7386127875258306,2.7386127875258306,0,1,1,2.7386127875258306,0\" fill=\"#4c78a8\" stroke-width=\"2\" opacity=\"0.7\"></path><path aria-label=\"x1: 0.829292064176; x2: 0.42127631386\" role=\"graphics-symbol\" aria-roledescription=\"circle\" transform=\"translate(165.85841283520986,115.74473722803522)\" d=\"M2.7386127875258306,0A2.7386127875258306,2.7386127875258306,0,1,1,-2.7386127875258306,0A2.7386127875258306,2.7386127875258306,0,1,1,2.7386127875258306,0\" fill=\"#4c78a8\" stroke-width=\"2\" opacity=\"0.7\"></path><path aria-label=\"x1: 0.611998063209; x2: 0.326697570456\" role=\"graphics-symbol\" aria-roledescription=\"circle\" transform=\"translate(122.39961264186925,134.66048590870122)\" d=\"M2.7386127875258306,0A2.7386127875258306,2.7386127875258306,0,1,1,-2.7386127875258306,0A2.7386127875258306,2.7386127875258306,0,1,1,2.7386127875258306,0\" fill=\"#4c78a8\" stroke-width=\"2\" opacity=\"0.7\"></path><path aria-label=\"x1: 0.738236789278; x2: 0.00159291116241\" role=\"graphics-symbol\" aria-roledescription=\"circle\" transform=\"translate(147.64735785563107,199.6814177675186)\" d=\"M2.7386127875258306,0A2.7386127875258306,2.7386127875258306,0,1,1,-2.7386127875258306,0A2.7386127875258306,2.7386127875258306,0,1,1,2.7386127875258306,0\" fill=\"#4c78a8\" stroke-width=\"2\" opacity=\"0.7\"></path><path aria-label=\"x1: 0.723285615591; x2: 0.762975791488\" role=\"graphics-symbol\" aria-roledescription=\"circle\" transform=\"translate(144.65712311812658,47.40484170246564)\" d=\"M2.7386127875258306,0A2.7386127875258306,2.7386127875258306,0,1,1,-2.7386127875258306,0A2.7386127875258306,2.7386127875258306,0,1,1,2.7386127875258306,0\" fill=\"#4c78a8\" stroke-width=\"2\" opacity=\"0.7\"></path><path aria-label=\"x1: 0.0567053079574; x2: 0.363292227449\" role=\"graphics-symbol\" aria-roledescription=\"circle\" transform=\"translate(11.341061591480806,127.34155451011904)\" d=\"M2.7386127875258306,0A2.7386127875258306,2.7386127875258306,0,1,1,-2.7386127875258306,0A2.7386127875258306,2.7386127875258306,0,1,1,2.7386127875258306,0\" fill=\"#4c78a8\" stroke-width=\"2\" opacity=\"0.7\"></path><path aria-label=\"x1: 0.993545210755; x2: 0.430314669609\" role=\"graphics-symbol\" aria-roledescription=\"circle\" transform=\"translate(198.70904215107234,113.93706607810033)\" d=\"M2.7386127875258306,0A2.7386127875258306,2.7386127875258306,0,1,1,-2.7386127875258306,0A2.7386127875258306,2.7386127875258306,0,1,1,2.7386127875258306,0\" fill=\"#4c78a8\" stroke-width=\"2\" opacity=\"0.7\"></path><path aria-label=\"x1: 0.767077524929; x2: 0.977431679875\" role=\"graphics-symbol\" aria-roledescription=\"circle\" transform=\"translate(153.4155049857779,4.513664024967401)\" d=\"M2.7386127875258306,0A2.7386127875258306,2.7386127875258306,0,1,1,-2.7386127875258306,0A2.7386127875258306,2.7386127875258306,0,1,1,2.7386127875258306,0\" fill=\"#4c78a8\" stroke-width=\"2\" opacity=\"0.7\"></path><path aria-label=\"x1: 0.813826700608; x2: 0.544383812768\" role=\"graphics-symbol\" aria-roledescription=\"circle\" transform=\"translate(162.76534012158655,91.12323744636042)\" d=\"M2.7386127875258306,0A2.7386127875258306,2.7386127875258306,0,1,1,-2.7386127875258306,0A2.7386127875258306,2.7386127875258306,0,1,1,2.7386127875258306,0\" fill=\"#4c78a8\" stroke-width=\"2\" opacity=\"0.7\"></path><path aria-label=\"x1: 0.916114992715; x2: 0.0298255351466\" role=\"graphics-symbol\" aria-roledescription=\"circle\" transform=\"translate(183.2229985429003,194.03489297067463)\" d=\"M2.7386127875258306,0A2.7386127875258306,2.7386127875258306,0,1,1,-2.7386127875258306,0A2.7386127875258306,2.7386127875258306,0,1,1,2.7386127875258306,0\" fill=\"#4c78a8\" stroke-width=\"2\" opacity=\"0.7\"></path></g></g><path class=\"foreground\" aria-hidden=\"true\" d=\"\" display=\"none\"></path></g></g></g></svg>\n"
      ],
      "text/plain": [
       "@vlplot(\n",
       "    data={\n",
       "        values=...\n",
       "    },\n",
       "    layer=[\n",
       "        {\n",
       "            mark=\"circle\",\n",
       "            encoding={\n",
       "                x={\n",
       "                    field=\"x1\"\n",
       "                },\n",
       "                y={\n",
       "                    field=\"x2\"\n",
       "                }\n",
       "            }\n",
       "        }\n",
       "    ]\n",
       ")"
      ]
     },
     "execution_count": 118,
     "metadata": {},
     "output_type": "execute_result"
    }
   ],
   "source": [
    "df = DataFrame(rand(20,3));\n",
    "p  = @vlplot(data=df,layer=[{mark=:circle,x=:x1,y=:x2}])"
   ]
  },
  {
   "cell_type": "code",
   "execution_count": 119,
   "metadata": {},
   "outputs": [
    {
     "data": {
      "text/plain": [
       "OrderedDict{String,Any} with 3 entries:\n",
       "  \"x\"     => OrderedDict{String,Any}(\"field\"=>\"x1\")\n",
       "  \"y\"     => OrderedDict{String,Any}(\"field\"=>\"x2\")\n",
       "  \"color\" => OrderedDict(\"field\"=>\"x3\",\"type\"=>\"q\")"
      ]
     },
     "execution_count": 119,
     "metadata": {},
     "output_type": "execute_result"
    }
   ],
   "source": [
    "p  = @vlplot(data=df,layer=[{mark=:circle,x=:x1,y=:x2}])\n",
    "p.layer[1][\"encoding\"][\"color\"] = OrderedDict(\"field\"=>\"x3\",\"type\"=>\"q\")\n",
    "p.layer[1][\"encoding\"]\n",
    "p"
   ]
  },
  {
   "cell_type": "code",
   "execution_count": 120,
   "metadata": {},
   "outputs": [
    {
     "data": {
      "application/vnd.vegalite.v4+json": {
       "data": {
        "values": [
         {
          "x1": 0.244496260779673,
          "x2": 0.45260302736789626,
          "x3": 0.5450403252091514
         },
         {
          "x1": 0.07635619618343603,
          "x2": 0.5770363412833588,
          "x3": 0.16431316623719083
         },
         {
          "x1": 0.053119505089538555,
          "x2": 0.31190356478223413,
          "x3": 0.4716840617221951
         },
         {
          "x1": 0.43223825443505004,
          "x2": 0.970720930557794,
          "x3": 0.7783465005295036
         },
         {
          "x1": 0.17085413382841685,
          "x2": 0.7153854476124666,
          "x3": 0.5411802392922587
         },
         {
          "x1": 0.15598686665177786,
          "x2": 0.8895689527079611,
          "x3": 0.1519863256322349
         },
         {
          "x1": 0.08368492647565118,
          "x2": 0.26008915425638834,
          "x3": 0.5282365944076459
         },
         {
          "x1": 0.40745816935530144,
          "x2": 0.4772879135761243,
          "x3": 0.26214945935648415
         },
         {
          "x1": 0.0921070905090795,
          "x2": 0.6373378935690082,
          "x3": 0.8980185248504784
         },
         {
          "x1": 0.6399443104331783,
          "x2": 0.5497560590102344,
          "x3": 0.5130565954880246
         },
         {
          "x1": 0.8862338329945654,
          "x2": 0.9389662781907004,
          "x3": 0.021250727042635864
         },
         {
          "x1": 0.8292920641760493,
          "x2": 0.4212763138598239,
          "x3": 0.3260919384064125
         },
         {
          "x1": 0.6119980632093462,
          "x2": 0.32669757045649384,
          "x3": 0.3266545692793772
         },
         {
          "x1": 0.7382367892781554,
          "x2": 0.001592911162406896,
          "x3": 0.8567616197354007
         },
         {
          "x1": 0.7232856155906329,
          "x2": 0.7629757914876718,
          "x3": 0.33970675248365967
         },
         {
          "x1": 0.05670530795740403,
          "x2": 0.3632922274494048,
          "x3": 0.6800592572335245
         },
         {
          "x1": 0.9935452107553617,
          "x2": 0.4303146696094984,
          "x3": 0.8363578311652795
         },
         {
          "x1": 0.7670775249288895,
          "x2": 0.977431679875163,
          "x3": 0.9561121067475125
         },
         {
          "x1": 0.8138267006079327,
          "x2": 0.5443838127681979,
          "x3": 0.44760502486134834
         },
         {
          "x1": 0.9161149927145016,
          "x2": 0.02982553514662678,
          "x3": 0.05097498027573266
         }
        ]
       },
       "layer": [
        {
         "encoding": {
          "color": {
           "field": "x3",
           "type": "q"
          },
          "x": {
           "field": "x1",
           "type": "quantitative"
          },
          "y": {
           "field": "x2",
           "type": "quantitative"
          }
         },
         "mark": "circle"
        }
       ]
      },
      "image/png": "[encoded data removed]",
      "image/svg+xml": [
       "<?xml version=\"1.0\" encoding=\"utf-8\"?>\n",
       "<!DOCTYPE svg PUBLIC \"-//W3C//DTD SVG 1.1//EN\" \"http://www.w3.org/Graphics/SVG/1.1/DTD/svg11.dtd\">\n",
       "<svg class=\"marks\" width=\"298\" height=\"247\" viewBox=\"0 0 298 247\" version=\"1.1\" xmlns=\"http://www.w3.org/2000/svg\" xmlns:xlink=\"http://www.w3.org/1999/xlink\"><defs><linearGradient id=\"gradient_0\" x1=\"0\" x2=\"0\" y1=\"1\" y2=\"0\"><stop offset=\"0\" stop-color=\"rgb(207, 225, 242)\"></stop><stop offset=\"0.030752444781107446\" stop-color=\"rgb(202, 222, 240)\"></stop><stop offset=\"0.08423630996739244\" stop-color=\"rgb(193, 217, 237)\"></stop><stop offset=\"0.1377201751536774\" stop-color=\"rgb(182, 212, 233)\"></stop><stop offset=\"0.1912040403399624\" stop-color=\"rgb(170, 207, 230)\"></stop><stop offset=\"0.2446879055262474\" stop-color=\"rgb(157, 200, 226)\"></stop><stop offset=\"0.29817177071253237\" stop-color=\"rgb(143, 193, 222)\"></stop><stop offset=\"0.3516556358988173\" stop-color=\"rgb(129, 185, 218)\"></stop><stop offset=\"0.4051395010851024\" stop-color=\"rgb(115, 177, 215)\"></stop><stop offset=\"0.45862336627138733\" stop-color=\"rgb(101, 169, 210)\"></stop><stop offset=\"0.5121072314576723\" stop-color=\"rgb(88, 161, 206)\"></stop><stop offset=\"0.5655910966439573\" stop-color=\"rgb(77, 152, 201)\"></stop><stop offset=\"0.6190749618302422\" stop-color=\"rgb(65, 143, 196)\"></stop><stop offset=\"0.6725588270165274\" stop-color=\"rgb(54, 134, 191)\"></stop><stop offset=\"0.7260426922028123\" stop-color=\"rgb(45, 124, 186)\"></stop><stop offset=\"0.7795265573890973\" stop-color=\"rgb(35, 115, 180)\"></stop><stop offset=\"0.8330104225753823\" stop-color=\"rgb(27, 105, 173)\"></stop><stop offset=\"0.8864942877616672\" stop-color=\"rgb(20, 95, 166)\"></stop><stop offset=\"0.9399781529479523\" stop-color=\"rgb(15, 85, 156)\"></stop><stop offset=\"0.9934620181342372\" stop-color=\"rgb(11, 75, 145)\"></stop><stop offset=\"1\" stop-color=\"rgb(10, 74, 144)\"></stop></linearGradient></defs><rect width=\"298\" height=\"247\" fill=\"white\"></rect><g fill=\"none\" stroke-miterlimit=\"10\" transform=\"translate(42,10)\"><g class=\"mark-group role-frame root\" role=\"graphics-object\" aria-roledescription=\"group mark container\"><g transform=\"translate(0,0)\"><path class=\"background\" aria-hidden=\"true\" d=\"M0.5,0.5h200v200h-200Z\" stroke=\"#ddd\"></path><g><g class=\"mark-group role-axis\" aria-hidden=\"true\"><g transform=\"translate(0.5,200.5)\"><path class=\"background\" aria-hidden=\"true\" d=\"M0,0h0v0h0Z\" pointer-events=\"none\"></path><g><g class=\"mark-rule role-axis-grid\" pointer-events=\"none\"><line transform=\"translate(0,-200)\" x2=\"0\" y2=\"200\" stroke=\"#ddd\" stroke-width=\"1\" opacity=\"1\"></line><line transform=\"translate(40,-200)\" x2=\"0\" y2=\"200\" stroke=\"#ddd\" stroke-width=\"1\" opacity=\"1\"></line><line transform=\"translate(80,-200)\" x2=\"0\" y2=\"200\" stroke=\"#ddd\" stroke-width=\"1\" opacity=\"1\"></line><line transform=\"translate(120,-200)\" x2=\"0\" y2=\"200\" stroke=\"#ddd\" stroke-width=\"1\" opacity=\"1\"></line><line transform=\"translate(160,-200)\" x2=\"0\" y2=\"200\" stroke=\"#ddd\" stroke-width=\"1\" opacity=\"1\"></line><line transform=\"translate(200,-200)\" x2=\"0\" y2=\"200\" stroke=\"#ddd\" stroke-width=\"1\" opacity=\"1\"></line></g></g><path class=\"foreground\" aria-hidden=\"true\" d=\"\" pointer-events=\"none\" display=\"none\"></path></g></g><g class=\"mark-group role-axis\" aria-hidden=\"true\"><g transform=\"translate(0.5,0.5)\"><path class=\"background\" aria-hidden=\"true\" d=\"M0,0h0v0h0Z\" pointer-events=\"none\"></path><g><g class=\"mark-rule role-axis-grid\" pointer-events=\"none\"><line transform=\"translate(0,200)\" x2=\"200\" y2=\"0\" stroke=\"#ddd\" stroke-width=\"1\" opacity=\"1\"></line><line transform=\"translate(0,160)\" x2=\"200\" y2=\"0\" stroke=\"#ddd\" stroke-width=\"1\" opacity=\"1\"></line><line transform=\"translate(0,120)\" x2=\"200\" y2=\"0\" stroke=\"#ddd\" stroke-width=\"1\" opacity=\"1\"></line><line transform=\"translate(0,80)\" x2=\"200\" y2=\"0\" stroke=\"#ddd\" stroke-width=\"1\" opacity=\"1\"></line><line transform=\"translate(0,40)\" x2=\"200\" y2=\"0\" stroke=\"#ddd\" stroke-width=\"1\" opacity=\"1\"></line><line transform=\"translate(0,0)\" x2=\"200\" y2=\"0\" stroke=\"#ddd\" stroke-width=\"1\" opacity=\"1\"></line></g></g><path class=\"foreground\" aria-hidden=\"true\" d=\"\" pointer-events=\"none\" display=\"none\"></path></g></g><g class=\"mark-group role-axis\" role=\"graphics-symbol\" aria-roledescription=\"axis\" aria-label=\"X-axis titled 'x1' for a linear scale with values from 0.0 to 1.0\"><g transform=\"translate(0.5,200.5)\"><path class=\"background\" aria-hidden=\"true\" d=\"M0,0h0v0h0Z\" pointer-events=\"none\"></path><g><g class=\"mark-rule role-axis-tick\" pointer-events=\"none\"><line transform=\"translate(0,0)\" x2=\"0\" y2=\"5\" stroke=\"#888\" stroke-width=\"1\" opacity=\"1\"></line><line transform=\"translate(40,0)\" x2=\"0\" y2=\"5\" stroke=\"#888\" stroke-width=\"1\" opacity=\"1\"></line><line transform=\"translate(80,0)\" x2=\"0\" y2=\"5\" stroke=\"#888\" stroke-width=\"1\" opacity=\"1\"></line><line transform=\"translate(120,0)\" x2=\"0\" y2=\"5\" stroke=\"#888\" stroke-width=\"1\" opacity=\"1\"></line><line transform=\"translate(160,0)\" x2=\"0\" y2=\"5\" stroke=\"#888\" stroke-width=\"1\" opacity=\"1\"></line><line transform=\"translate(200,0)\" x2=\"0\" y2=\"5\" stroke=\"#888\" stroke-width=\"1\" opacity=\"1\"></line></g><g class=\"mark-text role-axis-label\" pointer-events=\"none\"><text text-anchor=\"start\" transform=\"translate(0,15)\" font-family=\"sans-serif\" font-size=\"10px\" fill=\"#000\" opacity=\"1\">0.0</text><text text-anchor=\"middle\" transform=\"translate(40,15)\" font-family=\"sans-serif\" font-size=\"10px\" fill=\"#000\" opacity=\"1\">0.2</text><text text-anchor=\"middle\" transform=\"translate(80,15)\" font-family=\"sans-serif\" font-size=\"10px\" fill=\"#000\" opacity=\"1\">0.4</text><text text-anchor=\"middle\" transform=\"translate(120,15)\" font-family=\"sans-serif\" font-size=\"10px\" fill=\"#000\" opacity=\"1\">0.6</text><text text-anchor=\"middle\" transform=\"translate(160,15)\" font-family=\"sans-serif\" font-size=\"10px\" fill=\"#000\" opacity=\"1\">0.8</text><text text-anchor=\"end\" transform=\"translate(200,15)\" font-family=\"sans-serif\" font-size=\"10px\" fill=\"#000\" opacity=\"1\">1.0</text></g><g class=\"mark-rule role-axis-domain\" pointer-events=\"none\"><line transform=\"translate(0,0)\" x2=\"200\" y2=\"0\" stroke=\"#888\" stroke-width=\"1\" opacity=\"1\"></line></g><g class=\"mark-text role-axis-title\" pointer-events=\"none\"><text text-anchor=\"middle\" transform=\"translate(100,30)\" font-family=\"sans-serif\" font-size=\"11px\" font-weight=\"bold\" fill=\"#000\" opacity=\"1\">x1</text></g></g><path class=\"foreground\" aria-hidden=\"true\" d=\"\" pointer-events=\"none\" display=\"none\"></path></g></g><g class=\"mark-group role-axis\" role=\"graphics-symbol\" aria-roledescription=\"axis\" aria-label=\"Y-axis titled 'x2' for a linear scale with values from 0.0 to 1.0\"><g transform=\"translate(0.5,0.5)\"><path class=\"background\" aria-hidden=\"true\" d=\"M0,0h0v0h0Z\" pointer-events=\"none\"></path><g><g class=\"mark-rule role-axis-tick\" pointer-events=\"none\"><line transform=\"translate(0,200)\" x2=\"-5\" y2=\"0\" stroke=\"#888\" stroke-width=\"1\" opacity=\"1\"></line><line transform=\"translate(0,160)\" x2=\"-5\" y2=\"0\" stroke=\"#888\" stroke-width=\"1\" opacity=\"1\"></line><line transform=\"translate(0,120)\" x2=\"-5\" y2=\"0\" stroke=\"#888\" stroke-width=\"1\" opacity=\"1\"></line><line transform=\"translate(0,80)\" x2=\"-5\" y2=\"0\" stroke=\"#888\" stroke-width=\"1\" opacity=\"1\"></line><line transform=\"translate(0,40)\" x2=\"-5\" y2=\"0\" stroke=\"#888\" stroke-width=\"1\" opacity=\"1\"></line><line transform=\"translate(0,0)\" x2=\"-5\" y2=\"0\" stroke=\"#888\" stroke-width=\"1\" opacity=\"1\"></line></g><g class=\"mark-text role-axis-label\" pointer-events=\"none\"><text text-anchor=\"end\" transform=\"translate(-7,203)\" font-family=\"sans-serif\" font-size=\"10px\" fill=\"#000\" opacity=\"1\">0.0</text><text text-anchor=\"end\" transform=\"translate(-7,163)\" font-family=\"sans-serif\" font-size=\"10px\" fill=\"#000\" opacity=\"1\">0.2</text><text text-anchor=\"end\" transform=\"translate(-7,123)\" font-family=\"sans-serif\" font-size=\"10px\" fill=\"#000\" opacity=\"1\">0.4</text><text text-anchor=\"end\" transform=\"translate(-7,83)\" font-family=\"sans-serif\" font-size=\"10px\" fill=\"#000\" opacity=\"1\">0.6</text><text text-anchor=\"end\" transform=\"translate(-7,42.99999999999999)\" font-family=\"sans-serif\" font-size=\"10px\" fill=\"#000\" opacity=\"1\">0.8</text><text text-anchor=\"end\" transform=\"translate(-7,3)\" font-family=\"sans-serif\" font-size=\"10px\" fill=\"#000\" opacity=\"1\">1.0</text></g><g class=\"mark-rule role-axis-domain\" pointer-events=\"none\"><line transform=\"translate(0,200)\" x2=\"0\" y2=\"-200\" stroke=\"#888\" stroke-width=\"1\" opacity=\"1\"></line></g><g class=\"mark-text role-axis-title\" pointer-events=\"none\"><text text-anchor=\"middle\" transform=\"translate(-26,100) rotate(-90) translate(0,-2)\" font-family=\"sans-serif\" font-size=\"11px\" font-weight=\"bold\" fill=\"#000\" opacity=\"1\">x2</text></g></g><path class=\"foreground\" aria-hidden=\"true\" d=\"\" pointer-events=\"none\" display=\"none\"></path></g></g><g class=\"mark-symbol role-mark layer_0_marks\" role=\"graphics-object\" aria-roledescription=\"symbol mark container\"><path aria-label=\"x1: 0.24449626078; x2: 0.452603027368; x3: 0.545040325209\" role=\"graphics-symbol\" aria-roledescription=\"circle\" transform=\"translate(48.899252155934605,109.47939452642075)\" d=\"M2.7386127875258306,0A2.7386127875258306,2.7386127875258306,0,1,1,-2.7386127875258306,0A2.7386127875258306,2.7386127875258306,0,1,1,2.7386127875258306,0\" fill=\"rgb(78, 153, 202)\" stroke-width=\"2\" opacity=\"0.7\"></path><path aria-label=\"x1: 0.0763561961834; x2: 0.577036341283; x3: 0.164313166237\" role=\"graphics-symbol\" aria-roledescription=\"circle\" transform=\"translate(15.271239236687206,84.59273174332824)\" d=\"M2.7386127875258306,0A2.7386127875258306,2.7386127875258306,0,1,1,-2.7386127875258306,0A2.7386127875258306,2.7386127875258306,0,1,1,2.7386127875258306,0\" fill=\"rgb(178, 211, 232)\" stroke-width=\"2\" opacity=\"0.7\"></path><path aria-label=\"x1: 0.0531195050895; x2: 0.311903564782; x3: 0.471684061722\" role=\"graphics-symbol\" aria-roledescription=\"circle\" transform=\"translate(10.623901017907711,137.6192870435532)\" d=\"M2.7386127875258306,0A2.7386127875258306,2.7386127875258306,0,1,1,-2.7386127875258306,0A2.7386127875258306,2.7386127875258306,0,1,1,2.7386127875258306,0\" fill=\"rgb(96, 166, 208)\" stroke-width=\"2\" opacity=\"0.7\"></path><path aria-label=\"x1: 0.432238254435; x2: 0.970720930558; x3: 0.77834650053\" role=\"graphics-symbol\" aria-roledescription=\"circle\" transform=\"translate(86.44765088701001,5.855813888441208)\" d=\"M2.7386127875258306,0A2.7386127875258306,2.7386127875258306,0,1,1,-2.7386127875258306,0A2.7386127875258306,2.7386127875258306,0,1,1,2.7386127875258306,0\" fill=\"rgb(31, 109, 177)\" stroke-width=\"2\" opacity=\"0.7\"></path><path aria-label=\"x1: 0.170854133828; x2: 0.715385447612; x3: 0.541180239292\" role=\"graphics-symbol\" aria-roledescription=\"circle\" transform=\"translate(34.17082676568337,56.92291047750668)\" d=\"M2.7386127875258306,0A2.7386127875258306,2.7386127875258306,0,1,1,-2.7386127875258306,0A2.7386127875258306,2.7386127875258306,0,1,1,2.7386127875258306,0\" fill=\"rgb(79, 153, 202)\" stroke-width=\"2\" opacity=\"0.7\"></path><path aria-label=\"x1: 0.155986866652; x2: 0.889568952708; x3: 0.151986325632\" role=\"graphics-symbol\" aria-roledescription=\"circle\" transform=\"translate(31.19737333035557,22.08620945840778)\" d=\"M2.7386127875258306,0A2.7386127875258306,2.7386127875258306,0,1,1,-2.7386127875258306,0A2.7386127875258306,2.7386127875258306,0,1,1,2.7386127875258306,0\" fill=\"rgb(181, 212, 233)\" stroke-width=\"2\" opacity=\"0.7\"></path><path aria-label=\"x1: 0.0836849264757; x2: 0.260089154256; x3: 0.528236594408\" role=\"graphics-symbol\" aria-roledescription=\"circle\" transform=\"translate(16.736985295130236,147.98216914872233)\" d=\"M2.7386127875258306,0A2.7386127875258306,2.7386127875258306,0,1,1,-2.7386127875258306,0A2.7386127875258306,2.7386127875258306,0,1,1,2.7386127875258306,0\" fill=\"rgb(82, 156, 203)\" stroke-width=\"2\" opacity=\"0.7\"></path><path aria-label=\"x1: 0.407458169355; x2: 0.477287913576; x3: 0.262149459356\" role=\"graphics-symbol\" aria-roledescription=\"circle\" transform=\"translate(81.49163387106029,104.54241728477514)\" d=\"M2.7386127875258306,0A2.7386127875258306,2.7386127875258306,0,1,1,-2.7386127875258306,0A2.7386127875258306,2.7386127875258306,0,1,1,2.7386127875258306,0\" fill=\"rgb(154, 199, 225)\" stroke-width=\"2\" opacity=\"0.7\"></path><path aria-label=\"x1: 0.0921070905091; x2: 0.637337893569; x3: 0.89801852485\" role=\"graphics-symbol\" aria-roledescription=\"circle\" transform=\"translate(18.421418101815902,72.53242128619837)\" d=\"M2.7386127875258306,0A2.7386127875258306,2.7386127875258306,0,1,1,-2.7386127875258306,0A2.7386127875258306,2.7386127875258306,0,1,1,2.7386127875258306,0\" fill=\"rgb(15, 85, 156)\" stroke-width=\"2\" opacity=\"0.7\"></path><path aria-label=\"x1: 0.639944310433; x2: 0.54975605901; x3: 0.513056595488\" role=\"graphics-symbol\" aria-roledescription=\"circle\" transform=\"translate(127.98886208663566,90.04878819795312)\" d=\"M2.7386127875258306,0A2.7386127875258306,2.7386127875258306,0,1,1,-2.7386127875258306,0A2.7386127875258306,2.7386127875258306,0,1,1,2.7386127875258306,0\" fill=\"rgb(85, 159, 205)\" stroke-width=\"2\" opacity=\"0.7\"></path><path aria-label=\"x1: 0.886233832995; x2: 0.938966278191; x3: 0.0212507270426\" role=\"graphics-symbol\" aria-roledescription=\"circle\" transform=\"translate(177.24676659891307,12.206744361859911)\" d=\"M2.7386127875258306,0A2.7386127875258306,2.7386127875258306,0,1,1,-2.7386127875258306,0A2.7386127875258306,2.7386127875258306,0,1,1,2.7386127875258306,0\" fill=\"rgb(207, 225, 242)\" stroke-width=\"2\" opacity=\"0.7\"></path><path aria-label=\"x1: 0.829292064176; x2: 0.42127631386; x3: 0.326091938406\" role=\"graphics-symbol\" aria-roledescription=\"circle\" transform=\"translate(165.85841283520986,115.74473722803522)\" d=\"M2.7386127875258306,0A2.7386127875258306,2.7386127875258306,0,1,1,-2.7386127875258306,0A2.7386127875258306,2.7386127875258306,0,1,1,2.7386127875258306,0\" fill=\"rgb(136, 189, 220)\" stroke-width=\"2\" opacity=\"0.7\"></path><path aria-label=\"x1: 0.611998063209; x2: 0.326697570456; x3: 0.326654569279\" role=\"graphics-symbol\" aria-roledescription=\"circle\" transform=\"translate(122.39961264186925,134.66048590870122)\" d=\"M2.7386127875258306,0A2.7386127875258306,2.7386127875258306,0,1,1,-2.7386127875258306,0A2.7386127875258306,2.7386127875258306,0,1,1,2.7386127875258306,0\" fill=\"rgb(136, 189, 220)\" stroke-width=\"2\" opacity=\"0.7\"></path><path aria-label=\"x1: 0.738236789278; x2: 0.00159291116241; x3: 0.856761619735\" role=\"graphics-symbol\" aria-roledescription=\"circle\" transform=\"translate(147.64735785563107,199.6814177675186)\" d=\"M2.7386127875258306,0A2.7386127875258306,2.7386127875258306,0,1,1,-2.7386127875258306,0A2.7386127875258306,2.7386127875258306,0,1,1,2.7386127875258306,0\" fill=\"rgb(19, 93, 165)\" stroke-width=\"2\" opacity=\"0.7\"></path><path aria-label=\"x1: 0.723285615591; x2: 0.762975791488; x3: 0.339706752484\" role=\"graphics-symbol\" aria-roledescription=\"circle\" transform=\"translate(144.65712311812658,47.40484170246564)\" d=\"M2.7386127875258306,0A2.7386127875258306,2.7386127875258306,0,1,1,-2.7386127875258306,0A2.7386127875258306,2.7386127875258306,0,1,1,2.7386127875258306,0\" fill=\"rgb(132, 187, 219)\" stroke-width=\"2\" opacity=\"0.7\"></path><path aria-label=\"x1: 0.0567053079574; x2: 0.363292227449; x3: 0.680059257234\" role=\"graphics-symbol\" aria-roledescription=\"circle\" transform=\"translate(11.341061591480806,127.34155451011904)\" d=\"M2.7386127875258306,0A2.7386127875258306,2.7386127875258306,0,1,1,-2.7386127875258306,0A2.7386127875258306,2.7386127875258306,0,1,1,2.7386127875258306,0\" fill=\"rgb(48, 128, 188)\" stroke-width=\"2\" opacity=\"0.7\"></path><path aria-label=\"x1: 0.993545210755; x2: 0.430314669609; x3: 0.836357831165\" role=\"graphics-symbol\" aria-roledescription=\"circle\" transform=\"translate(198.70904215107234,113.93706607810033)\" d=\"M2.7386127875258306,0A2.7386127875258306,2.7386127875258306,0,1,1,-2.7386127875258306,0A2.7386127875258306,2.7386127875258306,0,1,1,2.7386127875258306,0\" fill=\"rgb(22, 97, 168)\" stroke-width=\"2\" opacity=\"0.7\"></path><path aria-label=\"x1: 0.767077524929; x2: 0.977431679875; x3: 0.956112106748\" role=\"graphics-symbol\" aria-roledescription=\"circle\" transform=\"translate(153.4155049857779,4.513664024967401)\" d=\"M2.7386127875258306,0A2.7386127875258306,2.7386127875258306,0,1,1,-2.7386127875258306,0A2.7386127875258306,2.7386127875258306,0,1,1,2.7386127875258306,0\" fill=\"rgb(10, 74, 144)\" stroke-width=\"2\" opacity=\"0.7\"></path><path aria-label=\"x1: 0.813826700608; x2: 0.544383812768; x3: 0.447605024861\" role=\"graphics-symbol\" aria-roledescription=\"circle\" transform=\"translate(162.76534012158655,91.12323744636042)\" d=\"M2.7386127875258306,0A2.7386127875258306,2.7386127875258306,0,1,1,-2.7386127875258306,0A2.7386127875258306,2.7386127875258306,0,1,1,2.7386127875258306,0\" fill=\"rgb(102, 170, 211)\" stroke-width=\"2\" opacity=\"0.7\"></path><path aria-label=\"x1: 0.916114992715; x2: 0.0298255351466; x3: 0.0509749802757\" role=\"graphics-symbol\" aria-roledescription=\"circle\" transform=\"translate(183.2229985429003,194.03489297067463)\" d=\"M2.7386127875258306,0A2.7386127875258306,2.7386127875258306,0,1,1,-2.7386127875258306,0A2.7386127875258306,2.7386127875258306,0,1,1,2.7386127875258306,0\" fill=\"rgb(202, 222, 240)\" stroke-width=\"2\" opacity=\"0.7\"></path></g><g class=\"mark-group role-legend\" role=\"graphics-symbol\" aria-roledescription=\"legend\" aria-label=\"Gradient legend titled 'x3' for fill color with values from 0.0 to 1.0\"><g transform=\"translate(218,0)\"><path class=\"background\" aria-hidden=\"true\" d=\"M0,0h33v216h-33Z\" pointer-events=\"none\"></path><g><g class=\"mark-group role-legend-entry\"><g transform=\"translate(0,16)\"><path class=\"background\" aria-hidden=\"true\" d=\"M0,0h0v0h0Z\" pointer-events=\"none\"></path><g><g class=\"mark-rect role-legend-gradient\" pointer-events=\"none\"><path d=\"M0,0h16v200h-16Z\" fill=\"url(#gradient_0)\" stroke=\"#ddd\" stroke-width=\"0\" opacity=\"0.7\"></path></g><g class=\"mark-text role-legend-label\" pointer-events=\"none\"><text text-anchor=\"start\" transform=\"translate(18,164.75919193200752)\" font-family=\"sans-serif\" font-size=\"10px\" fill=\"#000\" opacity=\"1\">0.2</text><text text-anchor=\"start\" transform=\"translate(18,121.97209978297951)\" font-family=\"sans-serif\" font-size=\"10px\" fill=\"#000\" opacity=\"1\">0.4</text><text text-anchor=\"start\" transform=\"translate(18,79.18500763395156)\" font-family=\"sans-serif\" font-size=\"10px\" fill=\"#000\" opacity=\"1\">0.6</text><text text-anchor=\"start\" transform=\"translate(18,36.397915484923544)\" font-family=\"sans-serif\" font-size=\"10px\" fill=\"#000\" opacity=\"1\">0.8</text></g></g><path class=\"foreground\" aria-hidden=\"true\" d=\"\" pointer-events=\"none\" display=\"none\"></path></g></g><g class=\"mark-text role-legend-title\" pointer-events=\"none\"><text text-anchor=\"start\" transform=\"translate(0,9)\" font-family=\"sans-serif\" font-size=\"11px\" font-weight=\"bold\" fill=\"#000\" opacity=\"1\">x3</text></g></g><path class=\"foreground\" aria-hidden=\"true\" d=\"\" pointer-events=\"none\" display=\"none\"></path></g></g></g><path class=\"foreground\" aria-hidden=\"true\" d=\"\" display=\"none\"></path></g></g></g></svg>\n"
      ],
      "text/plain": [
       "@vlplot(\n",
       "    data={\n",
       "        values=...\n",
       "    },\n",
       "    layer=[\n",
       "        {\n",
       "            mark=\"circle\",\n",
       "            encoding={\n",
       "                x={\n",
       "                    field=\"x1\"\n",
       "                },\n",
       "                y={\n",
       "                    field=\"x2\"\n",
       "                },\n",
       "                color={\n",
       "                    field=\"x3\",\n",
       "                    type=\"q\"\n",
       "                }\n",
       "            }\n",
       "        }\n",
       "    ]\n",
       ")"
      ]
     },
     "execution_count": 120,
     "metadata": {},
     "output_type": "execute_result"
    }
   ],
   "source": []
  }
 ],
 "metadata": {
  "kernelspec": {
   "display_name": "JuliaML 1.5.2",
   "language": "julia",
   "name": "juliaml-1.5"
  },
  "language_info": {
   "file_extension": ".jl",
   "mimetype": "application/julia",
   "name": "julia",
   "version": "1.5.2"
  }
 },
 "nbformat": 4,
 "nbformat_minor": 4
}
